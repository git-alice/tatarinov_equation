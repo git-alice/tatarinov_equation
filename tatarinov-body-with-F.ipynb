{
 "cells": [
  {
   "cell_type": "markdown",
   "metadata": {},
   "source": [
    "# Реализация нахождения уравнений движения с помощью Урванений Татаринова \n",
    "\n",
    "##### TODO \n",
    " - Добавить рисунок и описание решаемой здесь задачи\n",
    " - Добавить решение с помощью общих теорем динамики\n",
    " - Тесты"
   ]
  },
  {
   "cell_type": "code",
   "execution_count": 1,
   "metadata": {},
   "outputs": [],
   "source": [
    "import sympy as sp\n",
    "from sympy import Derivative, Symbol, IndexedBase, Eq, Idx, Sum, Function, Matrix, Add\n",
    "from sympy import diff, symbols, solve, simplify, poly, pprint, factor, integrate, lambdify\n",
    "from sympy import cos, sin, pi\n",
    "\n",
    "from abc import ABC, abstractmethod"
   ]
  },
  {
   "cell_type": "markdown",
   "metadata": {},
   "source": [
    "### Уравнения Татаринова\n",
    "$$\n",
    "\\frac{d}{dt} \\frac{\\partial L*}{\\partial \\omega_{\\alpha}} +\n",
    "\\{P_{\\alpha}, L*\\} = \n",
    "\\{P_{\\alpha}, \\sum_{\\mu}{\\omega_{\\mu} P_{\\mu}} \\} +\n",
    "\\sum_{i}{Q_i \\frac{\\partial v_i}{ \\partial \\omega_{\\alpha}}}\n",
    "$$"
   ]
  },
  {
   "cell_type": "markdown",
   "metadata": {},
   "source": [
    "### Скобка Пуассона\n",
    "$$\n",
    "\\{f, g\\} = \\sum_{i=1}^{N} \\left( \\frac{\\partial f}{\\partial q_{i}} \\frac{\\partial g}{\\partial p_{i}} - \\frac{\\partial f}{\\partial p_i} \\frac{\\partial g}{\\partial q_i}\\right).\n",
    "$$"
   ]
  },
  {
   "cell_type": "markdown",
   "metadata": {},
   "source": [
    "### Функции $ P_{\\alpha} $\n",
    "$$\n",
    "\\sum_{\\alpha}{P_{\\alpha} \\omega_{\\alpha}} = \\sum_i{p_iv_i}\n",
    "$$"
   ]
  },
  {
   "cell_type": "markdown",
   "metadata": {},
   "source": [
    "### Функции $v_i$\n",
    "$$\n",
    "v_i = \\dot{q}\n",
    "$$"
   ]
  },
  {
   "cell_type": "code",
   "execution_count": 2,
   "metadata": {},
   "outputs": [],
   "source": [
    "class MechanicalSystem():\n",
    "    \n",
    "    def __init__(self):\n",
    "        pass\n",
    "    \n",
    "    def set_q(self, q):\n",
    "        self.q = q\n",
    "    \n",
    "    def set_p(self, p):\n",
    "        self.p = p\n",
    "    \n",
    "    def poisson_bracket(self, F, G): # надо сделать, чтобы использовалось IndexedBase\n",
    "        \"\"\" To evaluate an unevaluated derivative, use the doit method. \"\"\"\n",
    "        res = 0\n",
    "        for i in range(3):\n",
    "            res += diff(F, self.q[i])*diff(G, self.p[i])\n",
    "            res -= diff(F, self.p[i])*diff(G, self.q[i])\n",
    "        return res\n",
    "    \n",
    "    @staticmethod\n",
    "    def sub_Eq(equation, Eq):\n",
    "        return equation.subs(Eq.args[0], Eq.args[1])\n",
    "    \n",
    "    @classmethod\n",
    "    def sub_Eqs(cls, equation, Eqs):\n",
    "        sub_equation = equation\n",
    "        for Eq in Eqs:\n",
    "            sub_equation = cls.sub_Eq(sub_equation, Eq)\n",
    "        return sub_equation \n",
    "    \n",
    "    @staticmethod\n",
    "    def left_part_Eqs(Eqs):\n",
    "        return [Eq.args[0] for Eq in Eqs]\n",
    "    \n",
    "    @staticmethod\n",
    "    def right_part_Eqs(Eqs):\n",
    "        return [Eq.args[1] for Eq in Eqs]\n",
    "    \n",
    "    def set_constraints(self, constraints):\n",
    "        \"\"\" Setting up constraints \"\"\"\n",
    "        self.constraints = constraints\n",
    "        \n",
    "    def sub_constraints(self, func):\n",
    "        \"\"\" Substitutes constraints in the equation\n",
    "        Private special case:\n",
    "            L -> L* \n",
    "        \"\"\"\n",
    "        sub_dict = {conn.args[0]: conn.args[1] for conn in self.constraints}\n",
    "        return func.subs(sub_dict)\n",
    "    \n",
    "    def sub_constraints_to_list(self, equations):\n",
    "        return [self.sub_constraints(equation) for equation in equations]\n",
    "    \n",
    "    @staticmethod\n",
    "    def diff_hack(equation, by):\n",
    "        \"\"\" eq -> eq.subs(Derivative -> temp_variable) -> eq.diff(temp_variable) ->\n",
    "            -> eq.subs(temp_variable -> Derivative)\n",
    "        \"\"\"\n",
    "        tmp_by = Symbol('tmp_by')\n",
    "        tmp_eq = equation.subs({by: tmp_by})\n",
    "        tmp_eq = tmp_eq.diff(tmp_by)\n",
    "        return tmp_eq.subs({tmp_by: by})\n",
    "        "
   ]
  },
  {
   "cell_type": "code",
   "execution_count": 3,
   "metadata": {},
   "outputs": [],
   "source": [
    "class TatarinovSystem(MechanicalSystem):\n",
    "    \n",
    "    def __init__(self, N=3):\n",
    "        super().__init__()\n",
    "        self.N = N\n",
    "        self.tatarinov_equations = [None]*N\n",
    "        \n",
    "    def set_omega_equations(self, omegas, equations):\n",
    "        omega_equations = [Eq(omega, equation) for omega, equation in zip(omegas, equations)]\n",
    "        self.omega_equations = omega_equations\n",
    "        \n",
    "    def set_v_equations(self, vs, equations): # vs - не лучшее название\n",
    "        v_equations = [Eq(v, equation) for v, equation in zip(vs, equations)]\n",
    "        self.v_equations = v_equations\n",
    "\n",
    "    def set_P(self):\n",
    "        k, mu = symbols('k, mu', cls=Idx)\n",
    "        left = Sum(P[k]*om[k], (k, 1, self.N)).doit()\n",
    "        right = Sum(p[i]*v[i], (k, 1, self.N))\n",
    "        Eq(left, right)\n",
    "    \n",
    "    def set_L(self, L):\n",
    "        self.L = L\n",
    "    \n",
    "    def set_F(self, F):\n",
    "        self.F = F\n",
    "    \n",
    "    def create_r(self):\n",
    "        r = {}\n",
    "        r['s'] = x*e['x'] + y*e['y']\n",
    "        r['p'] = r['s'] + xi*e['xi'] + eta*e['eta']\n",
    "        self.r = r\n",
    "        return self.r\n",
    "\n",
    "    def set_Qs(self, Qs):\n",
    "        self.Qs = Qs\n",
    "    \n",
    "    def create_P(self):\n",
    "        equations_for_P = Eq(\n",
    "            Sum(P[k]*omega[k], (k, 1, S.N)),\n",
    "            Sum(p[k]*v[k], (k, 1, S.N)))\n",
    "        print(equations_for_P)\n",
    "        # subs omega_i and v_i\n",
    "        sub_equations_for_P = TatarinovSystem.sub_Eqs(\n",
    "            equations_for_P.doit(), # important\n",
    "            self.omega_equations + self.v_equations) # for Ex: omega[1] -> nu1), v[1] -> x', ....\n",
    "        # subs_constraints\n",
    "        sub_conn_equations_for_P = self.sub_constraints(sub_equations_for_P)\n",
    "        print(sub_conn_equations_for_P)\n",
    "        # to equate the coefficients\n",
    "        left_coeffs = poly(sub_conn_equations_for_P.args[0], TatarinovSystem.right_part_Eqs(self.omega_equations)).coeffs()\n",
    "        right_coeffs = poly(sub_conn_equations_for_P.args[1], TatarinovSystem.right_part_Eqs(self.omega_equations)).coeffs()\n",
    "        final_equations_for_P = [Eq(left, right) for left, right in zip(left_coeffs, right_coeffs)]\n",
    "        self.Ps = final_equations_for_P\n",
    "        return final_equations_for_P\n",
    "    \n",
    "    def create_Q(self, F, r_p):\n",
    "        self.Q = [F.dot(r_p.diff(x)) for x in self.q]\n",
    "    \n",
    "    def Q_dw_by_dv(self, i):\n",
    "        Q_dw_by_dv = lambda i,a: self.Q[i]*Derivative(self.right_part_Eqs(S.sub_constraints_to_list(S.v_equations))[i],\n",
    "                                                      self.right_part_Eqs(self.omega_equations)[a]).doit()\n",
    "        Q_dw_by_dv_sum = lambda a: Q_dw_by_dv(0,a) + Q_dw_by_dv(1,a) + Q_dw_by_dv(2,a)\n",
    "        return Q_dw_by_dv_sum(i)\n",
    "    \n",
    "    def tatarinov_equation__depricated(self, i):\n",
    "        left, right = 0, 0;\n",
    "        left += diff(diff(L, omega[k]), t)\n",
    "        left += poisson_bracket(P[k], L)\n",
    "        right += poisson_bracket(P[k], Sum(omega[k]*P[k], (k, 1, self.N)))\n",
    "        right += Sum(Q[l]*diff(v[l], omega[k]), (l, 1, self.N))\n",
    "        Eq(left, right)\n",
    "        \n",
    "    def create_bracket_sum(self):\n",
    "        \"\"\" not good \"\"\"\n",
    "        return  nu1*(p[1]*cos(alpha) + p[2]*sin(alpha)) + nu2*(-p[1]*sin(alpha) + p[2]*cos(alpha)) + nu3*p[3]\n",
    "        bracket_sum = [x*y for x,y in zip(S.right_part_Eqs(S.Ps), S.right_part_Eqs(S.omega_equations))]\n",
    "        res = 0\n",
    "        for x in range(3):\n",
    "            res += bracket_sum[x]\n",
    "        return res\n",
    "    \n",
    "    def create_fs(self, fs):\n",
    "        \"\"\" not good \"\"\"\n",
    "        nu1, nu2, nu3 = symbols('nu1, nu2, nu3')\n",
    "        return fs.subs({\n",
    "            nu1: Function('nu1')(t),\n",
    "            nu2: Function('nu2')(t),\n",
    "            nu3: Function('nu3')(t)\n",
    "        })\n",
    "    \n",
    "    def create_ss(self, fs):\n",
    "        \"\"\" not good \"\"\"\n",
    "        nu1, nu2, nu3 = symbols('nu1, nu2, nu3')\n",
    "        return fs.subs({\n",
    "            Function('nu1')(t): nu1,\n",
    "            Function('nu2')(t): nu2,\n",
    "            Function('nu3')(t): nu3\n",
    "        })\n",
    "    \n",
    "    def solve_tatarinov_equations(self):\n",
    "        te = [self.tatarinov_equations[i] for x in range(3)]\n",
    "        sol = solve(te, [Derivative(self.create_fs(x), t) for x in S.right_part_Eqs(S.omega_equations)])\n",
    "        return sol\n",
    "\n",
    "    def tatarinov_equation(self, i):\n",
    "        left, right = 0,0\n",
    "        left = S.sub_constraints(self.L).args[1]\n",
    "        left = self.create_fs(left.diff(self.right_part_Eqs(self.omega_equations)[i])).diff(t)\n",
    "        left += self.poisson_bracket(self.Ps[i].args[1], self.sub_constraints(self.L).args[1])\n",
    "        left = self.create_fs(left)\n",
    "#         display(left)\n",
    "        \n",
    "        right += self.poisson_bracket(self.Ps[i].args[1], self.create_bracket_sum())\n",
    "        right += simplify(self.Q_dw_by_dv(i))\n",
    "        right = self.create_fs(right)\n",
    "#         display(right)\n",
    "        \n",
    "        ps = lambda i: self.sub_constraints(self.diff_hack(self.L.args[1], self.right_part_Eqs(self.v_equations)[i]))\n",
    "        self.tatarinov_equations[i] = Eq(left, right).subs({p[1]: ps(0), p[2]: ps(1), p[3]: ps(2)})\n",
    "        \n",
    "        self.tatarinov_equations[i] = self.create_fs(simplify(self.tatarinov_equations[i]))\n",
    "        \n",
    "        return self.tatarinov_equations[i]\n",
    "\n",
    "    def display_tatarinov_equations(self):\n",
    "        for eq in self.tatarinov_equations:\n",
    "            display(eq)"
   ]
  },
  {
   "cell_type": "code",
   "execution_count": 4,
   "metadata": {},
   "outputs": [],
   "source": [
    "L, m, x, y, t, alpha = symbols('L, m, x, y, t, alpha')\n",
    "nu1, nu2, nu3 = symbols('nu1, nu2, nu3')\n",
    "W, T = symbols('W, T')\n",
    "s = symbols('s')\n",
    "P = IndexedBase('P')\n",
    "p = IndexedBase('p')\n",
    "omega = IndexedBase('omega')\n",
    "v = IndexedBase('v')\n",
    "Q = IndexedBase('Q')\n",
    "k = symbols('k', cls=Idx)\n",
    "J = IndexedBase('J')\n",
    "\n",
    "xi, eta = symbols('xi, eta')\n",
    "e = {}\n",
    "e['x'] = Matrix([1,0])\n",
    "e['y'] = Matrix([0,1])\n",
    "e['xi'] = Matrix([cos(alpha), sin(alpha)])\n",
    "e['eta'] = Matrix([-sin(alpha), cos(alpha)])"
   ]
  },
  {
   "cell_type": "code",
   "execution_count": 5,
   "metadata": {},
   "outputs": [],
   "source": [
    "A, C, c = symbols('A, C, c')\n",
    "\n",
    "psi, theta, phi = symbols('psi, theta, phi') # v\n",
    "\n",
    "g = symbols('g')"
   ]
  },
  {
   "cell_type": "markdown",
   "metadata": {},
   "source": [
    "### Определим Лагранжиан"
   ]
  },
  {
   "cell_type": "code",
   "execution_count": 6,
   "metadata": {},
   "outputs": [
    {
     "data": {
      "text/latex": [
       "$\\displaystyle L = \\frac{m \\left(\\left(\\frac{d}{d t} x\\right)^{2} + \\left(\\frac{d}{d t} y\\right)^{2}\\right)}{2} + \\frac{\\left(\\frac{d}{d t} \\alpha\\right)^{2} {J}_{s}}{2}$"
      ],
      "text/plain": [
       "Eq(L, m*(Derivative(x, t)**2 + Derivative(y, t)**2)/2 + Derivative(alpha, t)**2*J[s]/2)"
      ]
     },
     "execution_count": 6,
     "metadata": {},
     "output_type": "execute_result"
    }
   ],
   "source": [
    "L = Eq(L, m*(Derivative(x,t)**2 + Derivative(y,t)**2)/2 + J[s]*(Derivative(alpha, t)**2)/2)\n",
    "L"
   ]
  },
  {
   "cell_type": "markdown",
   "metadata": {},
   "source": [
    "### Определим связи "
   ]
  },
  {
   "cell_type": "code",
   "execution_count": 7,
   "metadata": {},
   "outputs": [],
   "source": [
    "conn1 = Eq(Derivative(x,t), cos(alpha)*nu1 - sin(alpha)*nu2)\n",
    "conn2 = Eq(Derivative(y,t), sin(alpha)*nu1 + cos(alpha)*nu2)\n",
    "conn3 = Eq(Derivative(alpha,t), nu3)"
   ]
  },
  {
   "cell_type": "code",
   "execution_count": 8,
   "metadata": {},
   "outputs": [
    {
     "data": {
      "text/latex": [
       "$\\displaystyle \\frac{d}{d t} x = \\nu_{1} \\cos{\\left(\\alpha \\right)} - \\nu_{2} \\sin{\\left(\\alpha \\right)}$"
      ],
      "text/plain": [
       "Eq(Derivative(x, t), nu1*cos(alpha) - nu2*sin(alpha))"
      ]
     },
     "metadata": {},
     "output_type": "display_data"
    },
    {
     "data": {
      "text/latex": [
       "$\\displaystyle \\frac{d}{d t} y = \\nu_{1} \\sin{\\left(\\alpha \\right)} + \\nu_{2} \\cos{\\left(\\alpha \\right)}$"
      ],
      "text/plain": [
       "Eq(Derivative(y, t), nu1*sin(alpha) + nu2*cos(alpha))"
      ]
     },
     "metadata": {},
     "output_type": "display_data"
    },
    {
     "data": {
      "text/latex": [
       "$\\displaystyle \\frac{d}{d t} \\alpha = \\nu_{3}$"
      ],
      "text/plain": [
       "Eq(Derivative(alpha, t), nu3)"
      ]
     },
     "metadata": {},
     "output_type": "display_data"
    }
   ],
   "source": [
    "display(conn1)\n",
    "display(conn2)\n",
    "display(conn3)"
   ]
  },
  {
   "cell_type": "markdown",
   "metadata": {},
   "source": [
    "### Создадим объект для механической системы с уравнениями Татаринова "
   ]
  },
  {
   "cell_type": "code",
   "execution_count": 9,
   "metadata": {},
   "outputs": [],
   "source": [
    "S = TatarinovSystem()"
   ]
  },
  {
   "cell_type": "markdown",
   "metadata": {},
   "source": [
    "### Заполним что нужно (связи, уравнения для $\\omega_i$, $v_i$, $F$)"
   ]
  },
  {
   "cell_type": "code",
   "execution_count": 10,
   "metadata": {},
   "outputs": [],
   "source": [
    "S.set_L(L)"
   ]
  },
  {
   "cell_type": "code",
   "execution_count": 11,
   "metadata": {},
   "outputs": [],
   "source": [
    "S.set_p([p[1], p[2], p[3]]) # это скорее внутренняя переменная и её не надо задавать\n",
    "S.set_q([x, y, alpha])"
   ]
  },
  {
   "cell_type": "code",
   "execution_count": 12,
   "metadata": {},
   "outputs": [
    {
     "data": {
      "text/plain": [
       "[Eq(Derivative(x, t), nu1*cos(alpha) - nu2*sin(alpha)),\n",
       " Eq(Derivative(y, t), nu1*sin(alpha) + nu2*cos(alpha)),\n",
       " Eq(Derivative(alpha, t), nu3)]"
      ]
     },
     "execution_count": 12,
     "metadata": {},
     "output_type": "execute_result"
    }
   ],
   "source": [
    "S.set_constraints([conn1, conn2, conn3])\n",
    "S.constraints"
   ]
  },
  {
   "cell_type": "code",
   "execution_count": 13,
   "metadata": {},
   "outputs": [
    {
     "data": {
      "text/plain": [
       "[Eq(omega[1], nu1), Eq(omega[2], nu2), Eq(omega[3], nu3)]"
      ]
     },
     "execution_count": 13,
     "metadata": {},
     "output_type": "execute_result"
    }
   ],
   "source": [
    "S.set_omega_equations(omegas=[omega[1], omega[2], omega[3]],\n",
    "                      equations=[nu1, nu2, nu3])\n",
    "S.omega_equations"
   ]
  },
  {
   "cell_type": "code",
   "execution_count": 14,
   "metadata": {},
   "outputs": [
    {
     "data": {
      "text/plain": [
       "[Eq(v[1], Derivative(x, t)),\n",
       " Eq(v[2], Derivative(y, t)),\n",
       " Eq(v[3], Derivative(alpha, t))]"
      ]
     },
     "execution_count": 14,
     "metadata": {},
     "output_type": "execute_result"
    }
   ],
   "source": [
    "S.set_v_equations(vs=[v[1], v[2], v[3]],\n",
    "                  equations=[Derivative(x,t), Derivative(y,t), Derivative(alpha,t)])\n",
    "S.v_equations"
   ]
  },
  {
   "cell_type": "code",
   "execution_count": 15,
   "metadata": {},
   "outputs": [
    {
     "data": {
      "text/latex": [
       "$\\displaystyle \\left[\\begin{matrix}- T \\sin{\\left(\\alpha \\right)} + W \\cos{\\left(\\alpha \\right)}\\\\T \\cos{\\left(\\alpha \\right)} + W \\sin{\\left(\\alpha \\right)}\\end{matrix}\\right]$"
      ],
      "text/plain": [
       "Matrix([\n",
       "[-T*sin(alpha) + W*cos(alpha)],\n",
       "[ T*cos(alpha) + W*sin(alpha)]])"
      ]
     },
     "execution_count": 15,
     "metadata": {},
     "output_type": "execute_result"
    }
   ],
   "source": [
    "F = W*e['xi'] + T*e['eta']\n",
    "S.set_F(F)\n",
    "F"
   ]
  },
  {
   "cell_type": "markdown",
   "metadata": {},
   "source": [
    "### Создадим $P_{\\alpha}$"
   ]
  },
  {
   "cell_type": "code",
   "execution_count": 16,
   "metadata": {},
   "outputs": [
    {
     "name": "stdout",
     "output_type": "stream",
     "text": [
      "Eq(Sum(P[k]*omega[k], (k, 1, 3)), Sum(p[k]*v[k], (k, 1, 3)))\n",
      "Eq(nu1*P[1] + nu2*P[2] + nu3*P[3], nu3*p[3] + (nu1*sin(alpha) + nu2*cos(alpha))*p[2] + (nu1*cos(alpha) - nu2*sin(alpha))*p[1])\n"
     ]
    },
    {
     "data": {
      "text/plain": [
       "[Eq(P[1], sin(alpha)*p[2] + cos(alpha)*p[1]),\n",
       " Eq(P[2], -sin(alpha)*p[1] + cos(alpha)*p[2]),\n",
       " Eq(P[3], p[3])]"
      ]
     },
     "execution_count": 16,
     "metadata": {},
     "output_type": "execute_result"
    }
   ],
   "source": [
    "Ps = S.create_P()\n",
    "Ps"
   ]
  },
  {
   "cell_type": "markdown",
   "metadata": {},
   "source": [
    "### Получение $Q_i$"
   ]
  },
  {
   "cell_type": "code",
   "execution_count": 17,
   "metadata": {},
   "outputs": [
    {
     "data": {
      "text/plain": [
       "[-T*sin(alpha) + W*cos(alpha),\n",
       " T*cos(alpha) + W*sin(alpha),\n",
       " (-T*sin(alpha) + W*cos(alpha))*(-eta*cos(alpha) - xi*sin(alpha)) + (T*cos(alpha) + W*sin(alpha))*(-eta*sin(alpha) + xi*cos(alpha))]"
      ]
     },
     "execution_count": 17,
     "metadata": {},
     "output_type": "execute_result"
    }
   ],
   "source": [
    "S.create_Q(S.F, S.create_r()['p'])\n",
    "S.Q"
   ]
  },
  {
   "cell_type": "markdown",
   "metadata": {},
   "source": [
    "### $ L^* $"
   ]
  },
  {
   "cell_type": "code",
   "execution_count": 18,
   "metadata": {},
   "outputs": [
    {
     "data": {
      "text/latex": [
       "$\\displaystyle L = \\frac{m \\left(\\nu_{1}^{2} + \\nu_{2}^{2}\\right)}{2} + \\frac{\\nu_{3}^{2} {J}_{s}}{2}$"
      ],
      "text/plain": [
       "Eq(L, m*(nu1**2 + nu2**2)/2 + nu3**2*J[s]/2)"
      ]
     },
     "execution_count": 18,
     "metadata": {},
     "output_type": "execute_result"
    }
   ],
   "source": [
    "simplify(S.sub_constraints(L))"
   ]
  },
  {
   "cell_type": "markdown",
   "metadata": {},
   "source": [
    "### Получаем уравнения"
   ]
  },
  {
   "cell_type": "code",
   "execution_count": 19,
   "metadata": {},
   "outputs": [],
   "source": [
    "for i in range(3):\n",
    "    S.tatarinov_equation(i)"
   ]
  },
  {
   "cell_type": "code",
   "execution_count": 20,
   "metadata": {},
   "outputs": [
    {
     "data": {
      "text/plain": [
       "[Eq(W + m*nu2(t)*nu3(t), m*Derivative(nu1(t), t)),\n",
       " Eq(m*Derivative(nu2(t), t), T - m*nu1(t)*nu3(t)),\n",
       " Eq(Derivative(nu3(t), t)*J[s], T*xi - W*eta)]"
      ]
     },
     "execution_count": 20,
     "metadata": {},
     "output_type": "execute_result"
    }
   ],
   "source": [
    "S.tatarinov_equations"
   ]
  },
  {
   "cell_type": "code",
   "execution_count": 21,
   "metadata": {},
   "outputs": [
    {
     "data": {
      "text/latex": [
       "$\\displaystyle W + m \\nu_{2}{\\left(t \\right)} \\nu_{3}{\\left(t \\right)} = m \\frac{d}{d t} \\nu_{1}{\\left(t \\right)}$"
      ],
      "text/plain": [
       "Eq(W + m*nu2(t)*nu3(t), m*Derivative(nu1(t), t))"
      ]
     },
     "metadata": {},
     "output_type": "display_data"
    },
    {
     "data": {
      "text/latex": [
       "$\\displaystyle m \\frac{d}{d t} \\nu_{2}{\\left(t \\right)} = T - m \\nu_{1}{\\left(t \\right)} \\nu_{3}{\\left(t \\right)}$"
      ],
      "text/plain": [
       "Eq(m*Derivative(nu2(t), t), T - m*nu1(t)*nu3(t))"
      ]
     },
     "metadata": {},
     "output_type": "display_data"
    },
    {
     "data": {
      "text/latex": [
       "$\\displaystyle \\frac{d}{d t} \\nu_{3}{\\left(t \\right)} {J}_{s} = T \\xi - W \\eta$"
      ],
      "text/plain": [
       "Eq(Derivative(nu3(t), t)*J[s], T*xi - W*eta)"
      ]
     },
     "metadata": {},
     "output_type": "display_data"
    }
   ],
   "source": [
    "for eq in S.tatarinov_equations:\n",
    "    display(eq)"
   ]
  },
  {
   "cell_type": "markdown",
   "metadata": {},
   "source": [
    "## Найдем  $W,T, \\ddot{\\alpha}$  как функции от времени "
   ]
  },
  {
   "cell_type": "code",
   "execution_count": 22,
   "metadata": {},
   "outputs": [
    {
     "data": {
      "text/latex": [
       "$\\displaystyle W + m \\nu_{2}{\\left(t \\right)} \\nu_{3}{\\left(t \\right)} = m \\frac{d}{d t} \\nu_{1}{\\left(t \\right)}$"
      ],
      "text/plain": [
       "Eq(W + m*nu2(t)*nu3(t), m*Derivative(nu1(t), t))"
      ]
     },
     "metadata": {},
     "output_type": "display_data"
    },
    {
     "data": {
      "text/latex": [
       "$\\displaystyle m \\frac{d}{d t} \\nu_{2}{\\left(t \\right)} = T - m \\nu_{1}{\\left(t \\right)} \\nu_{3}{\\left(t \\right)}$"
      ],
      "text/plain": [
       "Eq(m*Derivative(nu2(t), t), T - m*nu1(t)*nu3(t))"
      ]
     },
     "metadata": {},
     "output_type": "display_data"
    },
    {
     "data": {
      "text/latex": [
       "$\\displaystyle \\frac{d}{d t} \\nu_{3}{\\left(t \\right)} {J}_{s} = T \\xi - W \\eta$"
      ],
      "text/plain": [
       "Eq(Derivative(nu3(t), t)*J[s], T*xi - W*eta)"
      ]
     },
     "metadata": {},
     "output_type": "display_data"
    }
   ],
   "source": [
    "from copy import copy\n",
    "\n",
    "for x in S.tatarinov_equations:\n",
    "    display(x)"
   ]
  },
  {
   "cell_type": "markdown",
   "metadata": {},
   "source": [
    "### Зададим $x,y, alpha$ как функции времени"
   ]
  },
  {
   "cell_type": "code",
   "execution_count": 23,
   "metadata": {},
   "outputs": [],
   "source": [
    "# Начальные условия и парметры\n",
    "eq_x = 3*t\n",
    "eq_y = t**2\n",
    "\n",
    "params = dict(xi=0, eta=0)\n",
    "\n",
    "t_end = 2*pi.evalf()"
   ]
  },
  {
   "cell_type": "code",
   "execution_count": 24,
   "metadata": {},
   "outputs": [],
   "source": [
    "def _ss(eq):\n",
    "    nu1, nu2, nu3 = symbols('nu1, nu2, nu3')\n",
    "    return eq.subs({\n",
    "        nu1: Function('nu1')(t),\n",
    "        nu2: Function('nu2')(t),\n",
    "        nu3: Function('nu3')(t)\n",
    "    })\n",
    "    \n",
    "def subs_funcs(eq):\n",
    "    subs_dict = dict(x=eq_x, y=eq_y, alpha=Function('alpha')(t)) # , alpha=eq_alpha)\n",
    "    if type(eq) == dict:\n",
    "        d = {}\n",
    "        for k,v in eq.items():\n",
    "            d[_ss(k)] = _ss(v.subs(subs_dict))\n",
    "        return d\n",
    "    if type(eq) == list:\n",
    "        l = []\n",
    "        for x in eq:\n",
    "            l += _ss(eq.subs(subs_dict))\n",
    "        return l\n",
    "    if type(eq) == Eq or type(eq) == Add:\n",
    "        return _ss(eq.subs(subs_dict))"
   ]
  },
  {
   "cell_type": "code",
   "execution_count": 25,
   "metadata": {},
   "outputs": [
    {
     "data": {
      "text/plain": [
       "[Eq(Derivative(x, t), nu1*cos(alpha) - nu2*sin(alpha)),\n",
       " Eq(Derivative(y, t), nu1*sin(alpha) + nu2*cos(alpha)),\n",
       " Eq(Derivative(alpha, t), nu3)]"
      ]
     },
     "execution_count": 25,
     "metadata": {},
     "output_type": "execute_result"
    }
   ],
   "source": [
    "S.constraints"
   ]
  },
  {
   "cell_type": "code",
   "execution_count": 26,
   "metadata": {},
   "outputs": [
    {
     "data": {
      "text/latex": [
       "$\\displaystyle \\nu_{1} = \\sin{\\left(\\alpha \\right)} \\frac{d}{d t} y + \\cos{\\left(\\alpha \\right)} \\frac{d}{d t} x$"
      ],
      "text/plain": [
       "Eq(nu1, sin(alpha)*Derivative(y, t) + cos(alpha)*Derivative(x, t))"
      ]
     },
     "metadata": {},
     "output_type": "display_data"
    },
    {
     "data": {
      "text/latex": [
       "$\\displaystyle \\nu_{2} = - \\sin{\\left(\\alpha \\right)} \\frac{d}{d t} x + \\cos{\\left(\\alpha \\right)} \\frac{d}{d t} y$"
      ],
      "text/plain": [
       "Eq(nu2, -sin(alpha)*Derivative(x, t) + cos(alpha)*Derivative(y, t))"
      ]
     },
     "metadata": {},
     "output_type": "display_data"
    },
    {
     "data": {
      "text/latex": [
       "$\\displaystyle \\nu_{3} = \\frac{d}{d t} \\alpha$"
      ],
      "text/plain": [
       "Eq(nu3, Derivative(alpha, t))"
      ]
     },
     "metadata": {},
     "output_type": "display_data"
    }
   ],
   "source": [
    "nus = solve(S.constraints, S.right_part_Eqs(S.omega_equations))\n",
    "for k, v in nus.items():\n",
    "    display(Eq(k, v))"
   ]
  },
  {
   "cell_type": "code",
   "execution_count": 27,
   "metadata": {},
   "outputs": [
    {
     "data": {
      "text/plain": [
       "{nu1(t): sin(alpha(t))*Derivative(t**2, t) + cos(alpha(t))*Derivative(3*t, t),\n",
       " nu2(t): -sin(alpha(t))*Derivative(3*t, t) + cos(alpha(t))*Derivative(t**2, t),\n",
       " nu3(t): Derivative(alpha(t), t)}"
      ]
     },
     "execution_count": 27,
     "metadata": {},
     "output_type": "execute_result"
    }
   ],
   "source": [
    "nust = subs_funcs(nus)\n",
    "nust"
   ]
  },
  {
   "cell_type": "code",
   "execution_count": 28,
   "metadata": {},
   "outputs": [
    {
     "data": {
      "text/latex": [
       "$\\displaystyle W + m \\nu_{2}{\\left(t \\right)} \\nu_{3}{\\left(t \\right)} = m \\frac{d}{d t} \\nu_{1}{\\left(t \\right)}$"
      ],
      "text/plain": [
       "Eq(W + m*nu2(t)*nu3(t), m*Derivative(nu1(t), t))"
      ]
     },
     "metadata": {},
     "output_type": "display_data"
    },
    {
     "data": {
      "text/latex": [
       "$\\displaystyle m \\frac{d}{d t} \\nu_{2}{\\left(t \\right)} = T - m \\nu_{1}{\\left(t \\right)} \\nu_{3}{\\left(t \\right)}$"
      ],
      "text/plain": [
       "Eq(m*Derivative(nu2(t), t), T - m*nu1(t)*nu3(t))"
      ]
     },
     "metadata": {},
     "output_type": "display_data"
    },
    {
     "data": {
      "text/latex": [
       "$\\displaystyle \\frac{d}{d t} \\nu_{3}{\\left(t \\right)} {J}_{s} = T \\xi - W \\eta$"
      ],
      "text/plain": [
       "Eq(Derivative(nu3(t), t)*J[s], T*xi - W*eta)"
      ]
     },
     "metadata": {},
     "output_type": "display_data"
    }
   ],
   "source": [
    "tet = copy(S.tatarinov_equations)\n",
    "for x in tet:\n",
    "    display(x)"
   ]
  },
  {
   "cell_type": "code",
   "execution_count": 29,
   "metadata": {},
   "outputs": [
    {
     "data": {
      "text/latex": [
       "$\\displaystyle W + m \\left(2 t \\cos{\\left(\\alpha{\\left(t \\right)} \\right)} - 3 \\sin{\\left(\\alpha{\\left(t \\right)} \\right)}\\right) \\frac{d}{d t} \\alpha{\\left(t \\right)} = m \\left(2 t \\cos{\\left(\\alpha{\\left(t \\right)} \\right)} \\frac{d}{d t} \\alpha{\\left(t \\right)} - 3 \\sin{\\left(\\alpha{\\left(t \\right)} \\right)} \\frac{d}{d t} \\alpha{\\left(t \\right)} + 2 \\sin{\\left(\\alpha{\\left(t \\right)} \\right)}\\right)$"
      ],
      "text/plain": [
       "Eq(W + m*(2*t*cos(alpha(t)) - 3*sin(alpha(t)))*Derivative(alpha(t), t), m*(2*t*cos(alpha(t))*Derivative(alpha(t), t) - 3*sin(alpha(t))*Derivative(alpha(t), t) + 2*sin(alpha(t))))"
      ]
     },
     "metadata": {},
     "output_type": "display_data"
    },
    {
     "data": {
      "text/latex": [
       "$\\displaystyle m \\left(- 2 t \\sin{\\left(\\alpha{\\left(t \\right)} \\right)} \\frac{d}{d t} \\alpha{\\left(t \\right)} - 3 \\cos{\\left(\\alpha{\\left(t \\right)} \\right)} \\frac{d}{d t} \\alpha{\\left(t \\right)} + 2 \\cos{\\left(\\alpha{\\left(t \\right)} \\right)}\\right) = T - m \\left(2 t \\sin{\\left(\\alpha{\\left(t \\right)} \\right)} + 3 \\cos{\\left(\\alpha{\\left(t \\right)} \\right)}\\right) \\frac{d}{d t} \\alpha{\\left(t \\right)}$"
      ],
      "text/plain": [
       "Eq(m*(-2*t*sin(alpha(t))*Derivative(alpha(t), t) - 3*cos(alpha(t))*Derivative(alpha(t), t) + 2*cos(alpha(t))), T - m*(2*t*sin(alpha(t)) + 3*cos(alpha(t)))*Derivative(alpha(t), t))"
      ]
     },
     "metadata": {},
     "output_type": "display_data"
    },
    {
     "data": {
      "text/latex": [
       "$\\displaystyle \\frac{d^{2}}{d t^{2}} \\alpha{\\left(t \\right)} {J}_{s} = T \\xi - W \\eta$"
      ],
      "text/plain": [
       "Eq(Derivative(alpha(t), (t, 2))*J[s], T*xi - W*eta)"
      ]
     },
     "metadata": {},
     "output_type": "display_data"
    }
   ],
   "source": [
    "for i in range(3):\n",
    "    tet[i] = tet[i].subs(nust).doit()\n",
    "    display(tet[i])\n",
    "#     display((tet[i].subs(nust)))\n",
    "#     display((tet[i].subs(nust)).doit())\n",
    "    "
   ]
  },
  {
   "cell_type": "code",
   "execution_count": 30,
   "metadata": {},
   "outputs": [
    {
     "data": {
      "text/latex": [
       "$\\displaystyle T = 2 m \\cos{\\left(\\alpha{\\left(t \\right)} \\right)}$"
      ],
      "text/plain": [
       "Eq(T, 2*m*cos(alpha(t)))"
      ]
     },
     "metadata": {},
     "output_type": "display_data"
    },
    {
     "data": {
      "text/latex": [
       "$\\displaystyle W = 2 m \\sin{\\left(\\alpha{\\left(t \\right)} \\right)}$"
      ],
      "text/plain": [
       "Eq(W, 2*m*sin(alpha(t)))"
      ]
     },
     "metadata": {},
     "output_type": "display_data"
    },
    {
     "data": {
      "text/latex": [
       "$\\displaystyle \\frac{d^{2}}{d t^{2}} \\alpha{\\left(t \\right)} = \\frac{2 m \\left(- \\eta \\sin{\\left(\\alpha{\\left(t \\right)} \\right)} + \\xi \\cos{\\left(\\alpha{\\left(t \\right)} \\right)}\\right)}{{J}_{s}}$"
      ],
      "text/plain": [
       "Eq(Derivative(alpha(t), (t, 2)), 2*m*(-eta*sin(alpha(t)) + xi*cos(alpha(t)))/J[s])"
      ]
     },
     "metadata": {},
     "output_type": "display_data"
    }
   ],
   "source": [
    "sol = solve(tet, [T, W, Derivative(Function('alpha')(t), t, 2)])\n",
    "for k,v in sol.items():\n",
    "    display(Eq(k, v))"
   ]
  },
  {
   "cell_type": "markdown",
   "metadata": {},
   "source": [
    "### Проинтегрируем\n",
    "$$ {\\ddot{\\alpha}, \\dot{\\alpha}} \\rightarrow \\alpha $$"
   ]
  },
  {
   "cell_type": "code",
   "execution_count": 31,
   "metadata": {},
   "outputs": [
    {
     "data": {
      "text/plain": [
       "[alpha2(t), alpha(t)]"
      ]
     },
     "execution_count": 31,
     "metadata": {},
     "output_type": "execute_result"
    }
   ],
   "source": [
    "_vars = [Function('alpha2')(t), Function('alpha')(t)]\n",
    "_vars"
   ]
  },
  {
   "cell_type": "code",
   "execution_count": 32,
   "metadata": {},
   "outputs": [
    {
     "data": {
      "text/plain": [
       "[alpha2(t), 2*m*(-eta*sin(alpha(t)) + xi*cos(alpha(t)))/J[s]]"
      ]
     },
     "execution_count": 32,
     "metadata": {},
     "output_type": "execute_result"
    }
   ],
   "source": [
    "eqs = [Function('alpha2')(t), list(sol.values())[2]]\n",
    "eqs"
   ]
  },
  {
   "cell_type": "code",
   "execution_count": 33,
   "metadata": {},
   "outputs": [
    {
     "name": "stdout",
     "output_type": "stream",
     "text": [
      "Система уравнений на alpha\n"
     ]
    },
    {
     "data": {
      "text/latex": [
       "$\\displaystyle \\alpha = \\alpha_{2}$"
      ],
      "text/plain": [
       "Eq(alpha, alpha2)"
      ]
     },
     "metadata": {},
     "output_type": "display_data"
    },
    {
     "data": {
      "text/latex": [
       "$\\displaystyle \\alpha_{2} = \\frac{2 m \\left(- \\eta \\sin{\\left(\\alpha \\right)} + \\xi \\cos{\\left(\\alpha \\right)}\\right)}{{J}_{s}}$"
      ],
      "text/plain": [
       "Eq(alpha2, 2*m*(-eta*sin(alpha) + xi*cos(alpha))/J[s])"
      ]
     },
     "metadata": {},
     "output_type": "display_data"
    }
   ],
   "source": [
    "_vars = [Symbol('alpha'),  Symbol('alpha2')]\n",
    "eqs =   [Symbol('alpha2'), list(sol.values())[2].subs({Function('alpha')(t): Symbol('alpha')})]\n",
    "\n",
    "print(\"Система уравнений на alpha\")\n",
    "for l, r in zip(_vars, eqs):\n",
    "    display(Eq(l,r))"
   ]
  },
  {
   "cell_type": "code",
   "execution_count": 34,
   "metadata": {},
   "outputs": [],
   "source": [
    "# keyword can't be an expression\n",
    "eqs[1] = eqs[1].subs({J[s]: 3})\n",
    "\n",
    "_subs = dict(m=1, eta=2, xi=3)"
   ]
  },
  {
   "cell_type": "code",
   "execution_count": 35,
   "metadata": {},
   "outputs": [],
   "source": [
    "def f(_vars_values, time):\n",
    "    return [lambdify(_vars, x.subs(_subs), 'numpy')(*_vars_values) for x in eqs]"
   ]
  },
  {
   "cell_type": "code",
   "execution_count": 36,
   "metadata": {},
   "outputs": [],
   "source": [
    "import numpy as np\n",
    "from scipy.integrate import RK45, odeint"
   ]
  },
  {
   "cell_type": "code",
   "execution_count": 37,
   "metadata": {},
   "outputs": [],
   "source": [
    "f0 = [1, 0.1] # [alpha', alpha]\n",
    "time = np.linspace(0., 4, 100)\n",
    "\n",
    "_solution = odeint(f, f0, time)"
   ]
  },
  {
   "cell_type": "code",
   "execution_count": 39,
   "metadata": {},
   "outputs": [
    {
     "name": "stdout",
     "output_type": "stream",
     "text": [
      "dot_alpha\n"
     ]
    },
    {
     "data": {
      "image/png": "[encoded data removed]",
      "text/plain": [
       "<Figure size 432x288 with 1 Axes>"
      ]
     },
     "metadata": {
      "needs_background": "light"
     },
     "output_type": "display_data"
    },
    {
     "name": "stdout",
     "output_type": "stream",
     "text": [
      "alpha\n"
     ]
    },
    {
     "data": {
      "image/png": "[encoded data removed]",
      "text/plain": [
       "<Figure size 432x288 with 1 Axes>"
      ]
     },
     "metadata": {
      "needs_background": "light"
     },
     "output_type": "display_data"
    }
   ],
   "source": [
    "import matplotlib.pyplot as plt\n",
    "\n",
    "_items = zip(['dot_alpha', 'alpha'], list(range(2)))\n",
    "\n",
    "for name, col in _items:\n",
    "    print(name)\n",
    "    fig = plt.plot(time, _solution[:, col], label=name)\n",
    "    plt.show()"
   ]
  },
  {
   "cell_type": "markdown",
   "metadata": {},
   "source": [
    "## Подставим в $W, T$\n",
    "$$ \\{W(\\alpha, t), T(\\alpha, t)\\} \\rightarrow \\{W(t), T(t)\\}$$"
   ]
  },
  {
   "cell_type": "code",
   "execution_count": 40,
   "metadata": {},
   "outputs": [
    {
     "data": {
      "text/latex": [
       "$\\displaystyle 2 m \\sin{\\left(\\alpha{\\left(t \\right)} \\right)}$"
      ],
      "text/plain": [
       "2*m*sin(alpha(t))"
      ]
     },
     "metadata": {},
     "output_type": "display_data"
    },
    {
     "data": {
      "text/latex": [
       "$\\displaystyle 2 m \\cos{\\left(\\alpha{\\left(t \\right)} \\right)}$"
      ],
      "text/plain": [
       "2*m*cos(alpha(t))"
      ]
     },
     "metadata": {},
     "output_type": "display_data"
    }
   ],
   "source": [
    "display(sol[W])\n",
    "display(sol[T])"
   ]
  },
  {
   "cell_type": "code",
   "execution_count": 41,
   "metadata": {},
   "outputs": [],
   "source": [
    "W_t = lambdify([t, Function('alpha')(t)], sol[W].subs(_subs), 'numpy')\n",
    "T_t = lambdify([t, Function('alpha')(t)], sol[T].subs(_subs), 'numpy')"
   ]
  },
  {
   "cell_type": "code",
   "execution_count": 42,
   "metadata": {},
   "outputs": [
    {
     "data": {
      "text/plain": [
       "True"
      ]
     },
     "execution_count": 42,
     "metadata": {},
     "output_type": "execute_result"
    }
   ],
   "source": [
    "_solution[:,1].size == time.size "
   ]
  },
  {
   "cell_type": "code",
   "execution_count": 43,
   "metadata": {},
   "outputs": [],
   "source": [
    "wl, tl = [], []\n",
    "\n",
    "for x,y in zip(time, _solution[:,1]):\n",
    "    wl.append(W_t(x, y))\n",
    "    \n",
    "for x,y in zip(time, _solution[:,1]):\n",
    "    tl.append(T_t(x, y))"
   ]
  },
  {
   "cell_type": "code",
   "execution_count": 44,
   "metadata": {},
   "outputs": [
    {
     "data": {
      "image/png": "[encoded data removed]",
      "text/plain": [
       "<Figure size 432x288 with 1 Axes>"
      ]
     },
     "metadata": {
      "needs_background": "light"
     },
     "output_type": "display_data"
    }
   ],
   "source": [
    "fig = plt.plot(time, wl, label='W')\n",
    "plt.show()"
   ]
  },
  {
   "cell_type": "code",
   "execution_count": 45,
   "metadata": {},
   "outputs": [
    {
     "data": {
      "image/png": "[encoded data removed]",
      "text/plain": [
       "<Figure size 432x288 with 1 Axes>"
      ]
     },
     "metadata": {
      "needs_background": "light"
     },
     "output_type": "display_data"
    }
   ],
   "source": [
    "fig = plt.plot(time, tl, label='T')\n",
    "plt.show()"
   ]
  },
  {
   "cell_type": "code",
   "execution_count": 49,
   "metadata": {},
   "outputs": [],
   "source": [
    "al = _solution[:, 1]"
   ]
  },
  {
   "cell_type": "code",
   "execution_count": 58,
   "metadata": {},
   "outputs": [],
   "source": [
    "tmp_x = tl*np.sin(al)*(-1) + wl*np.cos(al)\n",
    "tmp_y = tl*np.cos(al) + wl*np.sin(al)"
   ]
  },
  {
   "cell_type": "code",
   "execution_count": 65,
   "metadata": {},
   "outputs": [
    {
     "data": {
      "image/png": "[encoded data removed]",
      "text/plain": [
       "<Figure size 432x288 with 1 Axes>"
      ]
     },
     "metadata": {
      "needs_background": "light"
     },
     "output_type": "display_data"
    }
   ],
   "source": [
    "fig = plt.plot(tmp_x, label='~x\"')\n",
    "fig = plt.plot(tmp_y, label='~y\"')\n",
    "plt.show()"
   ]
  },
  {
   "cell_type": "code",
   "execution_count": 57,
   "metadata": {},
   "outputs": [
    {
     "data": {
      "text/latex": [
       "$\\displaystyle \\left[\\begin{matrix}- T \\sin{\\left(\\alpha \\right)} + W \\cos{\\left(\\alpha \\right)}\\\\T \\cos{\\left(\\alpha \\right)} + W \\sin{\\left(\\alpha \\right)}\\end{matrix}\\right]$"
      ],
      "text/plain": [
       "Matrix([\n",
       "[-T*sin(alpha) + W*cos(alpha)],\n",
       "[ T*cos(alpha) + W*sin(alpha)]])"
      ]
     },
     "execution_count": 57,
     "metadata": {},
     "output_type": "execute_result"
    }
   ],
   "source": [
    "F"
   ]
  },
  {
   "cell_type": "code",
   "execution_count": null,
   "metadata": {},
   "outputs": [],
   "source": []
  },
  {
   "cell_type": "code",
   "execution_count": null,
   "metadata": {},
   "outputs": [],
   "source": []
  },
  {
   "cell_type": "code",
   "execution_count": null,
   "metadata": {},
   "outputs": [],
   "source": []
  },
  {
   "cell_type": "markdown",
   "metadata": {},
   "source": [
    "## Проинтегрируем численно"
   ]
  },
  {
   "cell_type": "code",
   "execution_count": 27,
   "metadata": {},
   "outputs": [],
   "source": [
    "left = []; right = []"
   ]
  },
  {
   "cell_type": "code",
   "execution_count": 28,
   "metadata": {},
   "outputs": [],
   "source": [
    "left += S.left_part_Eqs(S.constraints)\n",
    "right += S.right_part_Eqs(S.constraints)"
   ]
  },
  {
   "cell_type": "code",
   "execution_count": 29,
   "metadata": {},
   "outputs": [
    {
     "data": {
      "text/plain": [
       "{Derivative(nu1(t), t): (A*nu2(t)*nu3(t) - C*nu2(t)*nu3(t) + g*m*sin(theta)*cos(phi))/A,\n",
       " Derivative(nu2(t), t): (-A*nu1(t)*nu3(t) + C*nu1(t)*nu3(t) - g*m*sin(phi)*sin(theta))/A,\n",
       " Derivative(nu3(t), t): 0}"
      ]
     },
     "execution_count": 29,
     "metadata": {},
     "output_type": "execute_result"
    }
   ],
   "source": [
    "diff_omegas_t = [Derivative(S.create_fs(x)) for x in S.right_part_Eqs(S.omega_equations)]\n",
    "constr = solve(eqs, diff_omegas_t)\n",
    "constr"
   ]
  },
  {
   "cell_type": "code",
   "execution_count": 30,
   "metadata": {},
   "outputs": [],
   "source": [
    "for left_item, right_item in constr.items():\n",
    "    left += [left_item]\n",
    "    right += [right_item]"
   ]
  },
  {
   "cell_type": "code",
   "execution_count": 31,
   "metadata": {},
   "outputs": [],
   "source": [
    "_vars = (phi, psi, theta, nu1, nu2, nu3)"
   ]
  },
  {
   "cell_type": "code",
   "execution_count": 32,
   "metadata": {},
   "outputs": [],
   "source": [
    "right = [S.create_ss(x) for x in right]"
   ]
  },
  {
   "cell_type": "code",
   "execution_count": 33,
   "metadata": {},
   "outputs": [],
   "source": [
    "_subs = {A: 1, C: 2, g: 10, m: 1}"
   ]
  },
  {
   "cell_type": "code",
   "execution_count": 34,
   "metadata": {},
   "outputs": [
    {
     "data": {
      "text/plain": [
       "[Derivative(phi, t),\n",
       " Derivative(psi, t),\n",
       " Derivative(theta, t),\n",
       " Derivative(nu1(t), t),\n",
       " Derivative(nu2(t), t),\n",
       " Derivative(nu3(t), t)]"
      ]
     },
     "execution_count": 34,
     "metadata": {},
     "output_type": "execute_result"
    }
   ],
   "source": [
    "left"
   ]
  },
  {
   "cell_type": "code",
   "execution_count": 35,
   "metadata": {},
   "outputs": [
    {
     "data": {
      "text/plain": [
       "[-nu1*sin(phi)/tan(theta) - nu2*cos(phi)/tan(theta) + nu3,\n",
       " (nu1*sin(phi) + nu2*cos(phi))/sin(theta),\n",
       " nu1*cos(phi) - nu2*sin(phi),\n",
       " (A*nu2*nu3 - C*nu2*nu3 + g*m*sin(theta)*cos(phi))/A,\n",
       " (-A*nu1*nu3 + C*nu1*nu3 - g*m*sin(phi)*sin(theta))/A,\n",
       " 0]"
      ]
     },
     "execution_count": 35,
     "metadata": {},
     "output_type": "execute_result"
    }
   ],
   "source": [
    "right"
   ]
  },
  {
   "cell_type": "code",
   "execution_count": 36,
   "metadata": {},
   "outputs": [],
   "source": [
    "def f(_vars_values, time):\n",
    "    return [lambdify(_vars, x.subs(_subs), 'numpy')(*_vars_values) for x in right]"
   ]
  },
  {
   "cell_type": "code",
   "execution_count": 47,
   "metadata": {},
   "outputs": [],
   "source": [
    "f0 = [3,0.1,0.1,1,2,3]"
   ]
  },
  {
   "cell_type": "code",
   "execution_count": 48,
   "metadata": {},
   "outputs": [],
   "source": [
    "import numpy as np\n",
    "from scipy.integrate import RK45, odeint"
   ]
  },
  {
   "cell_type": "code",
   "execution_count": 49,
   "metadata": {},
   "outputs": [],
   "source": [
    "_solution = odeint(f, f0, np.linspace(0., 4., 100))"
   ]
  },
  {
   "cell_type": "code",
   "execution_count": 74,
   "metadata": {},
   "outputs": [
    {
     "name": "stdout",
     "output_type": "stream",
     "text": [
      "phi\n"
     ]
    },
    {
     "data": {
      "image/png": "[encoded data removed]",
      "text/plain": [
       "<Figure size 432x288 with 1 Axes>"
      ]
     },
     "metadata": {
      "needs_background": "light"
     },
     "output_type": "display_data"
    },
    {
     "name": "stdout",
     "output_type": "stream",
     "text": [
      "psi\n"
     ]
    },
    {
     "data": {
      "image/png": "[encoded data removed]",
      "text/plain": [
       "<Figure size 432x288 with 1 Axes>"
      ]
     },
     "metadata": {
      "needs_background": "light"
     },
     "output_type": "display_data"
    },
    {
     "name": "stdout",
     "output_type": "stream",
     "text": [
      "theta\n"
     ]
    },
    {
     "data": {
      "image/png": "[encoded data removed]",
      "text/plain": [
       "<Figure size 432x288 with 1 Axes>"
      ]
     },
     "metadata": {
      "needs_background": "light"
     },
     "output_type": "display_data"
    },
    {
     "name": "stdout",
     "output_type": "stream",
     "text": [
      "nu1\n"
     ]
    },
    {
     "data": {
      "image/png": "[encoded data removed]",
      "text/plain": [
       "<Figure size 432x288 with 1 Axes>"
      ]
     },
     "metadata": {
      "needs_background": "light"
     },
     "output_type": "display_data"
    },
    {
     "name": "stdout",
     "output_type": "stream",
     "text": [
      "nu2\n"
     ]
    },
    {
     "data": {
      "image/png": "[encoded data removed]",
      "text/plain": [
       "<Figure size 432x288 with 1 Axes>"
      ]
     },
     "metadata": {
      "needs_background": "light"
     },
     "output_type": "display_data"
    },
    {
     "name": "stdout",
     "output_type": "stream",
     "text": [
      "nu3\n"
     ]
    },
    {
     "data": {
      "image/png": "[encoded data removed]",
      "text/plain": [
       "<Figure size 432x288 with 1 Axes>"
      ]
     },
     "metadata": {
      "needs_background": "light"
     },
     "output_type": "display_data"
    }
   ],
   "source": [
    "import matplotlib.pyplot as plt \n",
    "\n",
    "_items = zip(['phi', 'psi', 'theta', 'nu1', 'nu2', 'nu3'], list(range(6)))\n",
    "\n",
    "for name, col in _items:\n",
    "    print(name)\n",
    "    fig = plt.plot(np.linspace(0,4,100), _solution[:, col], label=name)\n",
    "    plt.show()"
   ]
  },
  {
   "cell_type": "markdown",
   "metadata": {},
   "source": [
    "## Посмотрим на энергию"
   ]
  },
  {
   "cell_type": "code",
   "execution_count": 64,
   "metadata": {},
   "outputs": [
    {
     "data": {
      "text/latex": [
       "$\\displaystyle \\frac{A \\left(\\sin^{2}{\\left(\\theta \\right)} \\left(\\frac{d}{d t} \\psi\\right)^{2} + \\left(\\frac{d}{d t} \\theta\\right)^{2}\\right)}{2} + \\frac{C \\left(\\cos{\\left(\\theta \\right)} \\frac{d}{d t} \\psi + \\frac{d}{d t} \\phi\\right)^{2}}{2} + g m \\cos{\\left(\\theta \\right)}$"
      ],
      "text/plain": [
       "A*(sin(theta)**2*Derivative(psi, t)**2 + Derivative(theta, t)**2)/2 + C*(cos(theta)*Derivative(psi, t) + Derivative(phi, t))**2/2 + g*m*cos(theta)"
      ]
     },
     "execution_count": 64,
     "metadata": {},
     "output_type": "execute_result"
    }
   ],
   "source": [
    "H = A*(Derivative(theta,t)**2 + Derivative(psi,t)**2*sin(theta)**2)/2 \\\n",
    "    + C*(Derivative(phi, t) + Derivative(psi, t)*cos(theta))**2/2 \\\n",
    "    + m*g*cos(theta)\n",
    "H"
   ]
  },
  {
   "cell_type": "code",
   "execution_count": 65,
   "metadata": {},
   "outputs": [
    {
     "data": {
      "text/latex": [
       "$\\displaystyle \\frac{A \\nu_{1}^{2}}{2} + \\frac{A \\nu_{2}^{2}}{2} + \\frac{C \\nu_{3}^{2}}{2} + g m \\cos{\\left(\\theta \\right)}$"
      ],
      "text/plain": [
       "A*nu1**2/2 + A*nu2**2/2 + C*nu3**2/2 + g*m*cos(theta)"
      ]
     },
     "execution_count": 65,
     "metadata": {},
     "output_type": "execute_result"
    }
   ],
   "source": [
    "H = S.sub_constraints(H)\n",
    "H"
   ]
  },
  {
   "cell_type": "code",
   "execution_count": 66,
   "metadata": {},
   "outputs": [],
   "source": [
    "fH = lambdify(_vars, H.subs(_subs), 'numpy')"
   ]
  },
  {
   "cell_type": "code",
   "execution_count": 67,
   "metadata": {},
   "outputs": [
    {
     "data": {
      "text/plain": [
       "9.375154874646796e-07"
      ]
     },
     "execution_count": 67,
     "metadata": {},
     "output_type": "execute_result"
    }
   ],
   "source": [
    "H_values = np.array([fH(*x) for x in _solution])\n",
    "max(H_values) - min(H_values)"
   ]
  },
  {
   "cell_type": "code",
   "execution_count": 68,
   "metadata": {},
   "outputs": [
    {
     "data": {
      "text/latex": [
       "$\\displaystyle \\frac{d}{d t} \\phi = - \\frac{\\nu_{1} \\sin{\\left(\\phi \\right)}}{\\tan{\\left(\\theta \\right)}} - \\frac{\\nu_{2} \\cos{\\left(\\phi \\right)}}{\\tan{\\left(\\theta \\right)}} + \\nu_{3}$"
      ],
      "text/plain": [
       "Eq(Derivative(phi, t), -nu1*sin(phi)/tan(theta) - nu2*cos(phi)/tan(theta) + nu3)"
      ]
     },
     "metadata": {},
     "output_type": "display_data"
    },
    {
     "data": {
      "text/latex": [
       "$\\displaystyle \\frac{d}{d t} \\psi = \\frac{\\nu_{1} \\sin{\\left(\\phi \\right)} + \\nu_{2} \\cos{\\left(\\phi \\right)}}{\\sin{\\left(\\theta \\right)}}$"
      ],
      "text/plain": [
       "Eq(Derivative(psi, t), (nu1*sin(phi) + nu2*cos(phi))/sin(theta))"
      ]
     },
     "metadata": {},
     "output_type": "display_data"
    },
    {
     "data": {
      "text/latex": [
       "$\\displaystyle \\frac{d}{d t} \\theta = \\nu_{1} \\cos{\\left(\\phi \\right)} - \\nu_{2} \\sin{\\left(\\phi \\right)}$"
      ],
      "text/plain": [
       "Eq(Derivative(theta, t), nu1*cos(phi) - nu2*sin(phi))"
      ]
     },
     "metadata": {},
     "output_type": "display_data"
    }
   ],
   "source": [
    "for x in S.constraints:\n",
    "    display(x)"
   ]
  },
  {
   "cell_type": "code",
   "execution_count": 69,
   "metadata": {},
   "outputs": [
    {
     "data": {
      "text/latex": [
       "$\\displaystyle L = \\frac{A \\left(\\sin^{2}{\\left(\\theta \\right)} \\left(\\frac{d}{d t} \\psi\\right)^{2} + \\left(\\frac{d}{d t} \\theta\\right)^{2}\\right)}{2} + \\frac{C \\left(\\cos{\\left(\\theta \\right)} \\frac{d}{d t} \\psi + \\frac{d}{d t} \\phi\\right)^{2}}{2} - g m \\cos{\\left(\\theta \\right)}$"
      ],
      "text/plain": [
       "Eq(L, A*(sin(theta)**2*Derivative(psi, t)**2 + Derivative(theta, t)**2)/2 + C*(cos(theta)*Derivative(psi, t) + Derivative(phi, t))**2/2 - g*m*cos(theta))"
      ]
     },
     "execution_count": 69,
     "metadata": {},
     "output_type": "execute_result"
    }
   ],
   "source": [
    "L"
   ]
  },
  {
   "cell_type": "markdown",
   "metadata": {},
   "source": [
    "# $$ x(t), y(t), \\alpha(t)$$"
   ]
  },
  {
   "cell_type": "markdown",
   "metadata": {},
   "source": [
    "1. зададим $x(t), y(t), \\alpha(t)$\n",
    "2. "
   ]
  },
  {
   "cell_type": "code",
   "execution_count": 76,
   "metadata": {},
   "outputs": [
    {
     "data": {
      "text/plain": [
       "[Eq(Derivative(phi, t), -nu1*sin(phi)/tan(theta) - nu2*cos(phi)/tan(theta) + nu3),\n",
       " Eq(Derivative(psi, t), (nu1*sin(phi) + nu2*cos(phi))/sin(theta)),\n",
       " Eq(Derivative(theta, t), nu1*cos(phi) - nu2*sin(phi))]"
      ]
     },
     "execution_count": 76,
     "metadata": {},
     "output_type": "execute_result"
    }
   ],
   "source": [
    "S."
   ]
  },
  {
   "cell_type": "code",
   "execution_count": null,
   "metadata": {},
   "outputs": [],
   "source": []
  }
 ],
 "metadata": {
  "kernelspec": {
   "display_name": "Python 3",
   "language": "python",
   "name": "python3"
  },
  "language_info": {
   "codemirror_mode": {
    "name": "ipython",
    "version": 3
   },
   "file_extension": ".py",
   "mimetype": "text/x-python",
   "name": "python",
   "nbconvert_exporter": "python",
   "pygments_lexer": "ipython3",
   "version": "3.6.8"
  }
 },
 "nbformat": 4,
 "nbformat_minor": 2
}
