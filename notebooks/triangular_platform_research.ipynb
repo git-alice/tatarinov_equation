{
 "cells": [
  {
   "cell_type": "code",
   "execution_count": 2,
   "metadata": {},
   "outputs": [],
   "source": [
    "%load_ext autoreload\n",
    "%autoreload 2\n",
    "\n",
    "import sympy as sp\n",
    "from sympy import Derivative, Symbol, IndexedBase, Idx, Sum, Function, Matrix, Add, Eq\n",
    "from sympy import diff, symbols, solve, linsolve, simplify, poly, pprint, factor, integrate, lambdify\n",
    "from sympy import cos, sin, pi\n",
    "\n",
    "# syspath trick\n",
    "import sys\n",
    "sys.path.append('../')\n",
    "\n",
    "from tatarinov.database.singleton import db\n",
    "db.set_root('../data/triangular_platform')\n",
    "\n",
    "\n",
    "from tatarinov.utils.jupyter import display_list, display_obj\n",
    "from tatarinov.core.variables import _omega, _v\n",
    "from tatarinov.core.tatarinov import TatarinovSystem\n",
    "\n",
    "from tatarinov.problems.triangular_platform.variables import *\n",
    "from tatarinov.problems.triangular_platform.structure import *\n",
    "from tatarinov.problems.triangular_platform.functions import euler, scalar\n",
    "from tatarinov.utils.sympy import MatrixElDerivative"
   ]
  },
  {
   "cell_type": "markdown",
   "metadata": {},
   "source": [
    "### Посмотрим, будут ли не зависеть от времени момент при движении по окружности"
   ]
  },
  {
   "cell_type": "code",
   "execution_count": 3,
   "metadata": {},
   "outputs": [
    {
     "name": "stdout",
     "output_type": "stream",
     "text": [
      "Loading from: ../data/triangular_platform/TWNU3.pickle\n",
      "Loading from: ../data/triangular_platform/constraints.pickle\n",
      "Loading from: ../data/triangular_platform/nu1,nu2(x,y).pickle\n"
     ]
    }
   ],
   "source": [
    "TWNU3 = db.load('TWNU3').obj\n",
    "constraints = db.load('constraints').obj\n",
    "nu1, nu2 = db.load('nu1,nu2(x,y)').obj"
   ]
  },
  {
   "cell_type": "code",
   "execution_count": 35,
   "metadata": {},
   "outputs": [
    {
     "data": {
      "text/latex": [
       "$\\displaystyle \\nu_{1}{\\left(t \\right)} = \\sin{\\left(\\alpha{\\left(t \\right)} \\right)} \\frac{d}{d t} y{\\left(t \\right)} + \\cos{\\left(\\alpha{\\left(t \\right)} \\right)} \\frac{d}{d t} x{\\left(t \\right)}$"
      ],
      "text/plain": [
       "Eq(nu1(t), sin(alpha(t))*Derivative(y(t), t) + cos(alpha(t))*Derivative(x(t), t))"
      ]
     },
     "metadata": {},
     "output_type": "display_data"
    },
    {
     "data": {
      "text/latex": [
       "$\\displaystyle \\nu_{1}{\\left(t \\right)} = \\sin{\\left(\\alpha{\\left(t \\right)} \\right)} \\frac{d}{d t} y{\\left(t \\right)} + \\cos{\\left(\\alpha{\\left(t \\right)} \\right)} \\frac{d}{d t} x{\\left(t \\right)}$"
      ],
      "text/plain": [
       "Eq(nu1(t), sin(alpha(t))*Derivative(y(t), t) + cos(alpha(t))*Derivative(x(t), t))"
      ]
     },
     "metadata": {},
     "output_type": "display_data"
    }
   ],
   "source": [
    "display_list([nu1, nu2])"
   ]
  },
  {
   "cell_type": "code",
   "execution_count": 10,
   "metadata": {},
   "outputs": [],
   "source": [
    "equations = [TWNU3[2]] + [constraints[2], constraints[3]]"
   ]
  },
  {
   "cell_type": "code",
   "execution_count": 11,
   "metadata": {},
   "outputs": [
    {
     "data": {
      "text/latex": [
       "$\\displaystyle \\frac{d}{d t} \\nu_{3}{\\left(t \\right)} = \\frac{- \\nu_{1}^{2}{\\left(t \\right)} \\sin^{3}{\\left(\\theta_{0}{\\left(t \\right)} \\right)} + \\frac{3 \\nu_{1}^{2}{\\left(t \\right)} \\sin{\\left(\\theta_{0}{\\left(t \\right)} \\right)}}{4} - \\frac{\\nu_{1}^{2}{\\left(t \\right)} \\sin{\\left(3 \\theta_{0}{\\left(t \\right)} \\right)}}{4} - 2 \\nu_{1}{\\left(t \\right)} \\nu_{2}{\\left(t \\right)} \\cos^{3}{\\left(\\theta_{0}{\\left(t \\right)} \\right)} + \\frac{3 \\nu_{1}{\\left(t \\right)} \\nu_{2}{\\left(t \\right)} \\cos{\\left(\\theta_{0}{\\left(t \\right)} \\right)}}{2} + \\frac{\\nu_{1}{\\left(t \\right)} \\nu_{2}{\\left(t \\right)} \\cos{\\left(3 \\theta_{0}{\\left(t \\right)} \\right)}}{2} - 4 \\nu_{1}{\\left(t \\right)} \\nu_{3}{\\left(t \\right)} \\cos^{3}{\\left(\\theta_{0}{\\left(t \\right)} \\right)} + 3 \\nu_{1}{\\left(t \\right)} \\nu_{3}{\\left(t \\right)} \\cos^{2}{\\left(\\theta_{0}{\\left(t \\right)} \\right)} + 9 \\nu_{1}{\\left(t \\right)} \\nu_{3}{\\left(t \\right)} \\cos{\\left(\\theta_{0}{\\left(t \\right)} \\right)} + \\nu_{1}{\\left(t \\right)} \\nu_{3}{\\left(t \\right)} \\cos{\\left(3 \\theta_{0}{\\left(t \\right)} \\right)} + \\nu_{2}^{2}{\\left(t \\right)} \\sin^{3}{\\left(\\theta_{0}{\\left(t \\right)} \\right)} - \\frac{3 \\nu_{2}^{2}{\\left(t \\right)} \\sin{\\left(\\theta_{0}{\\left(t \\right)} \\right)}}{4} + \\frac{\\nu_{2}^{2}{\\left(t \\right)} \\sin{\\left(3 \\theta_{0}{\\left(t \\right)} \\right)}}{4} + 4 \\nu_{2}{\\left(t \\right)} \\nu_{3}{\\left(t \\right)} \\sin^{3}{\\left(\\theta_{0}{\\left(t \\right)} \\right)} + 3 \\nu_{2}{\\left(t \\right)} \\nu_{3}{\\left(t \\right)} \\sin{\\left(\\theta_{0}{\\left(t \\right)} \\right)} \\cos{\\left(\\theta_{0}{\\left(t \\right)} \\right)} - 3 \\nu_{2}{\\left(t \\right)} \\nu_{3}{\\left(t \\right)} \\sin{\\left(\\theta_{0}{\\left(t \\right)} \\right)} + \\nu_{2}{\\left(t \\right)} \\nu_{3}{\\left(t \\right)} \\sin{\\left(3 \\theta_{0}{\\left(t \\right)} \\right)} + 4 \\nu_{3}^{2}{\\left(t \\right)} \\sin^{3}{\\left(\\theta_{0}{\\left(t \\right)} \\right)} - 3 \\nu_{3}^{2}{\\left(t \\right)} \\sin{\\left(\\theta_{0}{\\left(t \\right)} \\right)} + \\nu_{3}^{2}{\\left(t \\right)} \\sin{\\left(3 \\theta_{0}{\\left(t \\right)} \\right)} - 4 \\sin{\\left(\\theta_{0}{\\left(t \\right)} \\right)} \\cos{\\left(\\theta_{0}{\\left(t \\right)} \\right)} \\frac{d}{d t} \\nu_{1}{\\left(t \\right)} + 4 \\cos^{2}{\\left(\\theta_{0}{\\left(t \\right)} \\right)} \\frac{d}{d t} \\nu_{2}{\\left(t \\right)} + 6 \\cos{\\left(\\theta_{0}{\\left(t \\right)} \\right)} \\frac{d}{d t} \\nu_{2}{\\left(t \\right)}}{3 \\cos{\\left(\\theta_{0}{\\left(t \\right)} \\right)} - \\cos{\\left(2 \\theta_{0}{\\left(t \\right)} \\right)} - 1}$"
      ],
      "text/plain": [
       "Eq(Derivative(nu3(t), t), (-nu1(t)**2*sin(theta0(t))**3 + 3*nu1(t)**2*sin(theta0(t))/4 - nu1(t)**2*sin(3*theta0(t))/4 - 2*nu1(t)*nu2(t)*cos(theta0(t))**3 + 3*nu1(t)*nu2(t)*cos(theta0(t))/2 + nu1(t)*nu2(t)*cos(3*theta0(t))/2 - 4*nu1(t)*nu3(t)*cos(theta0(t))**3 + 3*nu1(t)*nu3(t)*cos(theta0(t))**2 + 9*nu1(t)*nu3(t)*cos(theta0(t)) + nu1(t)*nu3(t)*cos(3*theta0(t)) + nu2(t)**2*sin(theta0(t))**3 - 3*nu2(t)**2*sin(theta0(t))/4 + nu2(t)**2*sin(3*theta0(t))/4 + 4*nu2(t)*nu3(t)*sin(theta0(t))**3 + 3*nu2(t)*nu3(t)*sin(theta0(t))*cos(theta0(t)) - 3*nu2(t)*nu3(t)*sin(theta0(t)) + nu2(t)*nu3(t)*sin(3*theta0(t)) + 4*nu3(t)**2*sin(theta0(t))**3 - 3*nu3(t)**2*sin(theta0(t)) + nu3(t)**2*sin(3*theta0(t)) - 4*sin(theta0(t))*cos(theta0(t))*Derivative(nu1(t), t) + 4*cos(theta0(t))**2*Derivative(nu2(t), t) + 6*cos(theta0(t))*Derivative(nu2(t), t))/(3*cos(theta0(t)) - cos(2*theta0(t)) - 1))"
      ]
     },
     "metadata": {},
     "output_type": "display_data"
    },
    {
     "data": {
      "text/latex": [
       "$\\displaystyle \\frac{d}{d t} \\alpha{\\left(t \\right)} = \\nu_{3}{\\left(t \\right)}$"
      ],
      "text/plain": [
       "Eq(Derivative(alpha(t), t), nu3(t))"
      ]
     },
     "metadata": {},
     "output_type": "display_data"
    },
    {
     "data": {
      "text/latex": [
       "$\\displaystyle \\frac{d}{d t} \\theta_{0}{\\left(t \\right)} = \\frac{- R \\nu_{3}{\\left(t \\right)} \\cos{\\left(\\beta_{0} - \\theta_{0}{\\left(t \\right)} \\right)} - d \\nu_{3}{\\left(t \\right)} + \\nu_{1}{\\left(t \\right)} \\sin{\\left(\\theta_{0}{\\left(t \\right)} \\right)} - \\nu_{2}{\\left(t \\right)} \\cos{\\left(\\theta_{0}{\\left(t \\right)} \\right)}}{d}$"
      ],
      "text/plain": [
       "Eq(Derivative(theta0(t), t), (-R*nu3(t)*cos(beta0 - theta0(t)) - d*nu3(t) + nu1(t)*sin(theta0(t)) - nu2(t)*cos(theta0(t)))/d)"
      ]
     },
     "metadata": {},
     "output_type": "display_data"
    }
   ],
   "source": [
    "display_list(equations)"
   ]
  },
  {
   "cell_type": "code",
   "execution_count": 88,
   "metadata": {},
   "outputs": [],
   "source": [
    "const, V = symbols('(const), V')\n",
    "# w = dynamicsymbols('omega')\n",
    "\n",
    "subs_dict = {\n",
    "    x: V*cos(t),\n",
    "    y: V*sin(t)\n",
    "}\n",
    "\n",
    "subs_dict.update({\n",
    "    nu[1]: nu1.subs(subs_dict).args[1],\n",
    "    nu[2]: nu2.subs(subs_dict).args[1]\n",
    "})\n",
    "\n",
    "subs_dict_const = {\n",
    "    nu[3]: symbols('C'),\n",
    "    Derivative(alpha, t): symbols('C')\n",
    "}"
   ]
  },
  {
   "cell_type": "code",
   "execution_count": 85,
   "metadata": {},
   "outputs": [
    {
     "name": "stdout",
     "output_type": "stream",
     "text": [
      "CPU times: user 25 s, sys: 0 ns, total: 25 s\n",
      "Wall time: 25 s\n"
     ]
    }
   ],
   "source": [
    "%%time \n",
    "equations1 = [simplify(_.subs(subs_dict)) for _ in equations[0::2]]"
   ]
  },
  {
   "cell_type": "code",
   "execution_count": 86,
   "metadata": {},
   "outputs": [],
   "source": [
    "equations2 = equations1 + [equations[1]]"
   ]
  },
  {
   "cell_type": "code",
   "execution_count": 87,
   "metadata": {},
   "outputs": [
    {
     "data": {
      "text/latex": [
       "$\\displaystyle \\frac{d}{d t} \\nu_{3}{\\left(t \\right)} = \\frac{- 2 V \\left(1 - \\frac{d}{d t} \\alpha{\\left(t \\right)}\\right) \\sin{\\left(2 \\theta_{0}{\\left(t \\right)} \\right)} \\cos{\\left(t - \\alpha{\\left(t \\right)} \\right)} + 4 V \\left(1 - \\frac{d}{d t} \\alpha{\\left(t \\right)}\\right) \\cos{\\left(t - \\alpha{\\left(t \\right)} \\right)} \\cos^{2}{\\left(\\theta_{0}{\\left(t \\right)} \\right)} + 6 V \\left(1 - \\frac{d}{d t} \\alpha{\\left(t \\right)}\\right) \\cos{\\left(t - \\alpha{\\left(t \\right)} \\right)} \\cos{\\left(\\theta_{0}{\\left(t \\right)} \\right)} + 2 \\left(- V \\sin{\\left(t \\right)} \\cos{\\left(\\alpha{\\left(t \\right)} \\right)} + V \\sin{\\left(\\alpha{\\left(t \\right)} \\right)} \\cos{\\left(t \\right)}\\right)^{2} \\cos^{3}{\\left(\\theta_{0}{\\left(t \\right)} \\right)} - \\frac{3 \\left(- V \\sin{\\left(t \\right)} \\cos{\\left(\\alpha{\\left(t \\right)} \\right)} + V \\sin{\\left(\\alpha{\\left(t \\right)} \\right)} \\cos{\\left(t \\right)}\\right)^{2} \\cos{\\left(\\theta_{0}{\\left(t \\right)} \\right)}}{2} - \\frac{\\left(- V \\sin{\\left(t \\right)} \\cos{\\left(\\alpha{\\left(t \\right)} \\right)} + V \\sin{\\left(\\alpha{\\left(t \\right)} \\right)} \\cos{\\left(t \\right)}\\right)^{2} \\cos{\\left(3 \\theta_{0}{\\left(t \\right)} \\right)}}{2} - 4 \\left(- V \\sin{\\left(t \\right)} \\cos{\\left(\\alpha{\\left(t \\right)} \\right)} + V \\sin{\\left(\\alpha{\\left(t \\right)} \\right)} \\cos{\\left(t \\right)}\\right) \\nu_{3}{\\left(t \\right)} \\sin^{3}{\\left(\\theta_{0}{\\left(t \\right)} \\right)} - 3 \\left(- V \\sin{\\left(t \\right)} \\cos{\\left(\\alpha{\\left(t \\right)} \\right)} + V \\sin{\\left(\\alpha{\\left(t \\right)} \\right)} \\cos{\\left(t \\right)}\\right) \\nu_{3}{\\left(t \\right)} \\sin{\\left(\\theta_{0}{\\left(t \\right)} \\right)} \\cos{\\left(\\theta_{0}{\\left(t \\right)} \\right)} + 3 \\left(- V \\sin{\\left(t \\right)} \\cos{\\left(\\alpha{\\left(t \\right)} \\right)} + V \\sin{\\left(\\alpha{\\left(t \\right)} \\right)} \\cos{\\left(t \\right)}\\right) \\nu_{3}{\\left(t \\right)} \\sin{\\left(\\theta_{0}{\\left(t \\right)} \\right)} - \\left(- V \\sin{\\left(t \\right)} \\cos{\\left(\\alpha{\\left(t \\right)} \\right)} + V \\sin{\\left(\\alpha{\\left(t \\right)} \\right)} \\cos{\\left(t \\right)}\\right) \\nu_{3}{\\left(t \\right)} \\sin{\\left(3 \\theta_{0}{\\left(t \\right)} \\right)} + 4 \\left(- V \\sin{\\left(t \\right)} \\cos{\\left(\\alpha{\\left(t \\right)} \\right)} + V \\sin{\\left(\\alpha{\\left(t \\right)} \\right)} \\cos{\\left(t \\right)}\\right) \\nu_{3}{\\left(t \\right)} \\cos^{3}{\\left(\\theta_{0}{\\left(t \\right)} \\right)} - 3 \\left(- V \\sin{\\left(t \\right)} \\cos{\\left(\\alpha{\\left(t \\right)} \\right)} + V \\sin{\\left(\\alpha{\\left(t \\right)} \\right)} \\cos{\\left(t \\right)}\\right) \\nu_{3}{\\left(t \\right)} \\cos^{2}{\\left(\\theta_{0}{\\left(t \\right)} \\right)} - 9 \\left(- V \\sin{\\left(t \\right)} \\cos{\\left(\\alpha{\\left(t \\right)} \\right)} + V \\sin{\\left(\\alpha{\\left(t \\right)} \\right)} \\cos{\\left(t \\right)}\\right) \\nu_{3}{\\left(t \\right)} \\cos{\\left(\\theta_{0}{\\left(t \\right)} \\right)} - \\left(- V \\sin{\\left(t \\right)} \\cos{\\left(\\alpha{\\left(t \\right)} \\right)} + V \\sin{\\left(\\alpha{\\left(t \\right)} \\right)} \\cos{\\left(t \\right)}\\right) \\nu_{3}{\\left(t \\right)} \\cos{\\left(3 \\theta_{0}{\\left(t \\right)} \\right)} - 4 \\nu_{3}^{2}{\\left(t \\right)} \\sin^{3}{\\left(\\theta_{0}{\\left(t \\right)} \\right)} + 3 \\nu_{3}^{2}{\\left(t \\right)} \\sin{\\left(\\theta_{0}{\\left(t \\right)} \\right)} - \\nu_{3}^{2}{\\left(t \\right)} \\sin{\\left(3 \\theta_{0}{\\left(t \\right)} \\right)}}{- 3 \\cos{\\left(\\theta_{0}{\\left(t \\right)} \\right)} + \\cos{\\left(2 \\theta_{0}{\\left(t \\right)} \\right)} + 1}$"
      ],
      "text/plain": [
       "Eq(Derivative(nu3(t), t), (-2*V*(1 - Derivative(alpha(t), t))*sin(2*theta0(t))*cos(t - alpha(t)) + 4*V*(1 - Derivative(alpha(t), t))*cos(t - alpha(t))*cos(theta0(t))**2 + 6*V*(1 - Derivative(alpha(t), t))*cos(t - alpha(t))*cos(theta0(t)) + 2*(-V*sin(t)*cos(alpha(t)) + V*sin(alpha(t))*cos(t))**2*cos(theta0(t))**3 - 3*(-V*sin(t)*cos(alpha(t)) + V*sin(alpha(t))*cos(t))**2*cos(theta0(t))/2 - (-V*sin(t)*cos(alpha(t)) + V*sin(alpha(t))*cos(t))**2*cos(3*theta0(t))/2 - 4*(-V*sin(t)*cos(alpha(t)) + V*sin(alpha(t))*cos(t))*nu3(t)*sin(theta0(t))**3 - 3*(-V*sin(t)*cos(alpha(t)) + V*sin(alpha(t))*cos(t))*nu3(t)*sin(theta0(t))*cos(theta0(t)) + 3*(-V*sin(t)*cos(alpha(t)) + V*sin(alpha(t))*cos(t))*nu3(t)*sin(theta0(t)) - (-V*sin(t)*cos(alpha(t)) + V*sin(alpha(t))*cos(t))*nu3(t)*sin(3*theta0(t)) + 4*(-V*sin(t)*cos(alpha(t)) + V*sin(alpha(t))*cos(t))*nu3(t)*cos(theta0(t))**3 - 3*(-V*sin(t)*cos(alpha(t)) + V*sin(alpha(t))*cos(t))*nu3(t)*cos(theta0(t))**2 - 9*(-V*sin(t)*cos(alpha(t)) + V*sin(alpha(t))*cos(t))*nu3(t)*cos(theta0(t)) - (-V*sin(t)*cos(alpha(t)) + V*sin(alpha(t))*cos(t))*nu3(t)*cos(3*theta0(t)) - 4*nu3(t)**2*sin(theta0(t))**3 + 3*nu3(t)**2*sin(theta0(t)) - nu3(t)**2*sin(3*theta0(t)))/(-3*cos(theta0(t)) + cos(2*theta0(t)) + 1))"
      ]
     },
     "metadata": {},
     "output_type": "display_data"
    },
    {
     "data": {
      "text/latex": [
       "$\\displaystyle \\frac{d}{d t} \\theta_{0}{\\left(t \\right)} = - \\frac{R \\nu_{3}{\\left(t \\right)} \\cos{\\left(\\beta_{0} - \\theta_{0}{\\left(t \\right)} \\right)} - \\sqrt{2} V \\sin{\\left(t \\right)} \\cos{\\left(\\theta_{0}{\\left(t \\right)} + \\frac{\\pi}{4} \\right)} \\cos{\\left(\\alpha{\\left(t \\right)} \\right)} + \\sqrt{2} V \\sin{\\left(\\alpha{\\left(t \\right)} \\right)} \\cos{\\left(t \\right)} \\cos{\\left(\\theta_{0}{\\left(t \\right)} + \\frac{\\pi}{4} \\right)} + d \\nu_{3}{\\left(t \\right)}}{d}$"
      ],
      "text/plain": [
       "Eq(Derivative(theta0(t), t), -(R*nu3(t)*cos(beta0 - theta0(t)) - sqrt(2)*V*sin(t)*cos(theta0(t) + pi/4)*cos(alpha(t)) + sqrt(2)*V*sin(alpha(t))*cos(t)*cos(theta0(t) + pi/4) + d*nu3(t))/d)"
      ]
     },
     "metadata": {},
     "output_type": "display_data"
    },
    {
     "data": {
      "text/latex": [
       "$\\displaystyle \\frac{d}{d t} \\alpha{\\left(t \\right)} = \\nu_{3}{\\left(t \\right)}$"
      ],
      "text/plain": [
       "Eq(Derivative(alpha(t), t), nu3(t))"
      ]
     },
     "metadata": {},
     "output_type": "display_data"
    }
   ],
   "source": [
    "display_list(equations2)"
   ]
  },
  {
   "cell_type": "code",
   "execution_count": 82,
   "metadata": {},
   "outputs": [],
   "source": [
    "# x(t),y(t) ---> [T[1], W[1], Derivative(alpha, t)]"
   ]
  },
  {
   "cell_type": "code",
   "execution_count": 90,
   "metadata": {},
   "outputs": [],
   "source": [
    "equations3 = [_.subs(subs_dict_const) for _ in equations2]"
   ]
  },
  {
   "cell_type": "code",
   "execution_count": 92,
   "metadata": {},
   "outputs": [
    {
     "data": {
      "text/latex": [
       "$\\displaystyle \\frac{d}{d t} C = \\frac{- 4 C^{2} \\sin^{3}{\\left(\\theta_{0}{\\left(t \\right)} \\right)} + 3 C^{2} \\sin{\\left(\\theta_{0}{\\left(t \\right)} \\right)} - C^{2} \\sin{\\left(3 \\theta_{0}{\\left(t \\right)} \\right)} - 4 C \\left(- V \\sin{\\left(t \\right)} \\cos{\\left(\\alpha{\\left(t \\right)} \\right)} + V \\sin{\\left(\\alpha{\\left(t \\right)} \\right)} \\cos{\\left(t \\right)}\\right) \\sin^{3}{\\left(\\theta_{0}{\\left(t \\right)} \\right)} - 3 C \\left(- V \\sin{\\left(t \\right)} \\cos{\\left(\\alpha{\\left(t \\right)} \\right)} + V \\sin{\\left(\\alpha{\\left(t \\right)} \\right)} \\cos{\\left(t \\right)}\\right) \\sin{\\left(\\theta_{0}{\\left(t \\right)} \\right)} \\cos{\\left(\\theta_{0}{\\left(t \\right)} \\right)} + 3 C \\left(- V \\sin{\\left(t \\right)} \\cos{\\left(\\alpha{\\left(t \\right)} \\right)} + V \\sin{\\left(\\alpha{\\left(t \\right)} \\right)} \\cos{\\left(t \\right)}\\right) \\sin{\\left(\\theta_{0}{\\left(t \\right)} \\right)} - C \\left(- V \\sin{\\left(t \\right)} \\cos{\\left(\\alpha{\\left(t \\right)} \\right)} + V \\sin{\\left(\\alpha{\\left(t \\right)} \\right)} \\cos{\\left(t \\right)}\\right) \\sin{\\left(3 \\theta_{0}{\\left(t \\right)} \\right)} + 4 C \\left(- V \\sin{\\left(t \\right)} \\cos{\\left(\\alpha{\\left(t \\right)} \\right)} + V \\sin{\\left(\\alpha{\\left(t \\right)} \\right)} \\cos{\\left(t \\right)}\\right) \\cos^{3}{\\left(\\theta_{0}{\\left(t \\right)} \\right)} - 3 C \\left(- V \\sin{\\left(t \\right)} \\cos{\\left(\\alpha{\\left(t \\right)} \\right)} + V \\sin{\\left(\\alpha{\\left(t \\right)} \\right)} \\cos{\\left(t \\right)}\\right) \\cos^{2}{\\left(\\theta_{0}{\\left(t \\right)} \\right)} - 9 C \\left(- V \\sin{\\left(t \\right)} \\cos{\\left(\\alpha{\\left(t \\right)} \\right)} + V \\sin{\\left(\\alpha{\\left(t \\right)} \\right)} \\cos{\\left(t \\right)}\\right) \\cos{\\left(\\theta_{0}{\\left(t \\right)} \\right)} - C \\left(- V \\sin{\\left(t \\right)} \\cos{\\left(\\alpha{\\left(t \\right)} \\right)} + V \\sin{\\left(\\alpha{\\left(t \\right)} \\right)} \\cos{\\left(t \\right)}\\right) \\cos{\\left(3 \\theta_{0}{\\left(t \\right)} \\right)} - 2 V \\left(1 - C\\right) \\sin{\\left(2 \\theta_{0}{\\left(t \\right)} \\right)} \\cos{\\left(t - \\alpha{\\left(t \\right)} \\right)} + 4 V \\left(1 - C\\right) \\cos{\\left(t - \\alpha{\\left(t \\right)} \\right)} \\cos^{2}{\\left(\\theta_{0}{\\left(t \\right)} \\right)} + 6 V \\left(1 - C\\right) \\cos{\\left(t - \\alpha{\\left(t \\right)} \\right)} \\cos{\\left(\\theta_{0}{\\left(t \\right)} \\right)} + 2 \\left(- V \\sin{\\left(t \\right)} \\cos{\\left(\\alpha{\\left(t \\right)} \\right)} + V \\sin{\\left(\\alpha{\\left(t \\right)} \\right)} \\cos{\\left(t \\right)}\\right)^{2} \\cos^{3}{\\left(\\theta_{0}{\\left(t \\right)} \\right)} - \\frac{3 \\left(- V \\sin{\\left(t \\right)} \\cos{\\left(\\alpha{\\left(t \\right)} \\right)} + V \\sin{\\left(\\alpha{\\left(t \\right)} \\right)} \\cos{\\left(t \\right)}\\right)^{2} \\cos{\\left(\\theta_{0}{\\left(t \\right)} \\right)}}{2} - \\frac{\\left(- V \\sin{\\left(t \\right)} \\cos{\\left(\\alpha{\\left(t \\right)} \\right)} + V \\sin{\\left(\\alpha{\\left(t \\right)} \\right)} \\cos{\\left(t \\right)}\\right)^{2} \\cos{\\left(3 \\theta_{0}{\\left(t \\right)} \\right)}}{2}}{- 3 \\cos{\\left(\\theta_{0}{\\left(t \\right)} \\right)} + \\cos{\\left(2 \\theta_{0}{\\left(t \\right)} \\right)} + 1}$"
      ],
      "text/plain": [
       "Eq(Derivative(C, t), (-4*C**2*sin(theta0(t))**3 + 3*C**2*sin(theta0(t)) - C**2*sin(3*theta0(t)) - 4*C*(-V*sin(t)*cos(alpha(t)) + V*sin(alpha(t))*cos(t))*sin(theta0(t))**3 - 3*C*(-V*sin(t)*cos(alpha(t)) + V*sin(alpha(t))*cos(t))*sin(theta0(t))*cos(theta0(t)) + 3*C*(-V*sin(t)*cos(alpha(t)) + V*sin(alpha(t))*cos(t))*sin(theta0(t)) - C*(-V*sin(t)*cos(alpha(t)) + V*sin(alpha(t))*cos(t))*sin(3*theta0(t)) + 4*C*(-V*sin(t)*cos(alpha(t)) + V*sin(alpha(t))*cos(t))*cos(theta0(t))**3 - 3*C*(-V*sin(t)*cos(alpha(t)) + V*sin(alpha(t))*cos(t))*cos(theta0(t))**2 - 9*C*(-V*sin(t)*cos(alpha(t)) + V*sin(alpha(t))*cos(t))*cos(theta0(t)) - C*(-V*sin(t)*cos(alpha(t)) + V*sin(alpha(t))*cos(t))*cos(3*theta0(t)) - 2*V*(1 - C)*sin(2*theta0(t))*cos(t - alpha(t)) + 4*V*(1 - C)*cos(t - alpha(t))*cos(theta0(t))**2 + 6*V*(1 - C)*cos(t - alpha(t))*cos(theta0(t)) + 2*(-V*sin(t)*cos(alpha(t)) + V*sin(alpha(t))*cos(t))**2*cos(theta0(t))**3 - 3*(-V*sin(t)*cos(alpha(t)) + V*sin(alpha(t))*cos(t))**2*cos(theta0(t))/2 - (-V*sin(t)*cos(alpha(t)) + V*sin(alpha(t))*cos(t))**2*cos(3*theta0(t))/2)/(-3*cos(theta0(t)) + cos(2*theta0(t)) + 1))"
      ]
     },
     "metadata": {},
     "output_type": "display_data"
    },
    {
     "data": {
      "text/latex": [
       "$\\displaystyle \\frac{d}{d t} \\theta_{0}{\\left(t \\right)} = - \\frac{C R \\cos{\\left(\\beta_{0} - \\theta_{0}{\\left(t \\right)} \\right)} + C d - \\sqrt{2} V \\sin{\\left(t \\right)} \\cos{\\left(\\theta_{0}{\\left(t \\right)} + \\frac{\\pi}{4} \\right)} \\cos{\\left(\\alpha{\\left(t \\right)} \\right)} + \\sqrt{2} V \\sin{\\left(\\alpha{\\left(t \\right)} \\right)} \\cos{\\left(t \\right)} \\cos{\\left(\\theta_{0}{\\left(t \\right)} + \\frac{\\pi}{4} \\right)}}{d}$"
      ],
      "text/plain": [
       "Eq(Derivative(theta0(t), t), -(C*R*cos(beta0 - theta0(t)) + C*d - sqrt(2)*V*sin(t)*cos(theta0(t) + pi/4)*cos(alpha(t)) + sqrt(2)*V*sin(alpha(t))*cos(t)*cos(theta0(t) + pi/4))/d)"
      ]
     },
     "metadata": {},
     "output_type": "display_data"
    },
    {
     "data": {
      "text/latex": [
       "$\\displaystyle \\text{True}$"
      ],
      "text/plain": [
       "True"
      ]
     },
     "metadata": {},
     "output_type": "display_data"
    }
   ],
   "source": [
    "display_list(equations3)"
   ]
  },
  {
   "cell_type": "code",
   "execution_count": null,
   "metadata": {},
   "outputs": [],
   "source": []
  },
  {
   "cell_type": "code",
   "execution_count": 95,
   "metadata": {},
   "outputs": [
    {
     "data": {
      "text/latex": [
       "$\\displaystyle 0 = \\frac{- 4 C^{2} \\sin^{3}{\\left(\\theta_{0}{\\left(t \\right)} \\right)} + 3 C^{2} \\sin{\\left(\\theta_{0}{\\left(t \\right)} \\right)} - C^{2} \\sin{\\left(3 \\theta_{0}{\\left(t \\right)} \\right)} + \\frac{3 C V \\left(\\cos{\\left(- t + \\alpha{\\left(t \\right)} + 2 \\theta_{0}{\\left(t \\right)} \\right)} - \\cos{\\left(t - \\alpha{\\left(t \\right)} + 2 \\theta_{0}{\\left(t \\right)} \\right)}\\right)}{4} + 4 C V \\sin{\\left(t - \\alpha{\\left(t \\right)} \\right)} \\sin^{3}{\\left(\\theta_{0}{\\left(t \\right)} \\right)} - 3 C V \\sin{\\left(t - \\alpha{\\left(t \\right)} \\right)} \\sin{\\left(\\theta_{0}{\\left(t \\right)} \\right)} + C V \\sin{\\left(t - \\alpha{\\left(t \\right)} \\right)} \\sin{\\left(3 \\theta_{0}{\\left(t \\right)} \\right)} - 4 C V \\sin{\\left(t - \\alpha{\\left(t \\right)} \\right)} \\cos^{3}{\\left(\\theta_{0}{\\left(t \\right)} \\right)} + 3 C V \\sin{\\left(t - \\alpha{\\left(t \\right)} \\right)} \\cos^{2}{\\left(\\theta_{0}{\\left(t \\right)} \\right)} + 9 C V \\sin{\\left(t - \\alpha{\\left(t \\right)} \\right)} \\cos{\\left(\\theta_{0}{\\left(t \\right)} \\right)} + C V \\sin{\\left(t - \\alpha{\\left(t \\right)} \\right)} \\cos{\\left(3 \\theta_{0}{\\left(t \\right)} \\right)} + 2 V^{2} \\sin^{2}{\\left(t - \\alpha{\\left(t \\right)} \\right)} \\cos^{3}{\\left(\\theta_{0}{\\left(t \\right)} \\right)} - \\frac{3 V^{2} \\sin^{2}{\\left(t - \\alpha{\\left(t \\right)} \\right)} \\cos{\\left(\\theta_{0}{\\left(t \\right)} \\right)}}{2} - \\frac{V^{2} \\sin^{2}{\\left(t - \\alpha{\\left(t \\right)} \\right)} \\cos{\\left(3 \\theta_{0}{\\left(t \\right)} \\right)}}{2} - 2 V \\left(1 - C\\right) \\sin{\\left(2 \\theta_{0}{\\left(t \\right)} \\right)} \\cos{\\left(t - \\alpha{\\left(t \\right)} \\right)} + 4 V \\left(1 - C\\right) \\cos{\\left(t - \\alpha{\\left(t \\right)} \\right)} \\cos^{2}{\\left(\\theta_{0}{\\left(t \\right)} \\right)} + 6 V \\left(1 - C\\right) \\cos{\\left(t - \\alpha{\\left(t \\right)} \\right)} \\cos{\\left(\\theta_{0}{\\left(t \\right)} \\right)}}{- 3 \\cos{\\left(\\theta_{0}{\\left(t \\right)} \\right)} + \\cos{\\left(2 \\theta_{0}{\\left(t \\right)} \\right)} + 1}$"
      ],
      "text/plain": [
       "Eq(0, (-4*C**2*sin(theta0(t))**3 + 3*C**2*sin(theta0(t)) - C**2*sin(3*theta0(t)) + 3*C*V*(cos(-t + alpha(t) + 2*theta0(t)) - cos(t - alpha(t) + 2*theta0(t)))/4 + 4*C*V*sin(t - alpha(t))*sin(theta0(t))**3 - 3*C*V*sin(t - alpha(t))*sin(theta0(t)) + C*V*sin(t - alpha(t))*sin(3*theta0(t)) - 4*C*V*sin(t - alpha(t))*cos(theta0(t))**3 + 3*C*V*sin(t - alpha(t))*cos(theta0(t))**2 + 9*C*V*sin(t - alpha(t))*cos(theta0(t)) + C*V*sin(t - alpha(t))*cos(3*theta0(t)) + 2*V**2*sin(t - alpha(t))**2*cos(theta0(t))**3 - 3*V**2*sin(t - alpha(t))**2*cos(theta0(t))/2 - V**2*sin(t - alpha(t))**2*cos(3*theta0(t))/2 - 2*V*(1 - C)*sin(2*theta0(t))*cos(t - alpha(t)) + 4*V*(1 - C)*cos(t - alpha(t))*cos(theta0(t))**2 + 6*V*(1 - C)*cos(t - alpha(t))*cos(theta0(t)))/(-3*cos(theta0(t)) + cos(2*theta0(t)) + 1))"
      ]
     },
     "execution_count": 95,
     "metadata": {},
     "output_type": "execute_result"
    }
   ],
   "source": [
    "trigsimp(equations3[0]).doit()"
   ]
  },
  {
   "cell_type": "code",
   "execution_count": null,
   "metadata": {},
   "outputs": [],
   "source": []
  }
 ],
 "metadata": {
  "kernelspec": {
   "display_name": "Python 3",
   "language": "python",
   "name": "python3"
  },
  "language_info": {
   "codemirror_mode": {
    "name": "ipython",
    "version": 3
   },
   "file_extension": ".py",
   "mimetype": "text/x-python",
   "name": "python",
   "nbconvert_exporter": "python",
   "pygments_lexer": "ipython3",
   "version": "3.7.7"
  }
 },
 "nbformat": 4,
 "nbformat_minor": 4
}
