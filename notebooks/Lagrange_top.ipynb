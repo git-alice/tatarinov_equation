{
 "cells": [
  {
   "cell_type": "markdown",
   "metadata": {},
   "source": [
    "## Случай Лагранжа (Волчок Лагранжа)"
   ]
  },
  {
   "cell_type": "code",
   "execution_count": 18,
   "metadata": {},
   "outputs": [
    {
     "name": "stdout",
     "output_type": "stream",
     "text": [
      "The autoreload extension is already loaded. To reload it, use:\n",
      "  %reload_ext autoreload\n"
     ]
    }
   ],
   "source": [
    "%load_ext autoreload\n",
    "%autoreload 2\n",
    "\n",
    "import sympy as sp\n",
    "from sympy import Derivative, Symbol, IndexedBase, Idx, Sum, Function, Matrix, Add, Eq\n",
    "from sympy import diff, symbols, solve, linsolve, simplify, poly, pprint, factor, integrate, lambdify\n",
    "from sympy import cos, sin, pi\n",
    "\n",
    "# syspath trick\n",
    "import sys\n",
    "sys.path.append('../')\n",
    "\n",
    "from tatarinov.utils.jupyter import display_list, display_obj\n",
    "from tatarinov.core.variables import *\n",
    "from tatarinov.problems.Lagrange_top.variables import *\n",
    "from tatarinov.core.tatarinov import TatarinovSystem\n",
    "\n",
    "from tatarinov.database.singleton import db\n",
    "db.set_root('../data/Lagrange_top')"
   ]
  },
  {
   "cell_type": "code",
   "execution_count": 2,
   "metadata": {},
   "outputs": [
    {
     "data": {
      "text/latex": [
       "$\\displaystyle L = \\frac{A \\left(\\sin^{2}{\\left(\\theta{\\left(t \\right)} \\right)} \\left(\\frac{d}{d t} \\psi{\\left(t \\right)}\\right)^{2} + \\left(\\frac{d}{d t} \\theta{\\left(t \\right)}\\right)^{2}\\right)}{2} + \\frac{C \\left(\\cos{\\left(\\theta{\\left(t \\right)} \\right)} \\frac{d}{d t} \\psi{\\left(t \\right)} + \\frac{d}{d t} \\phi{\\left(t \\right)}\\right)^{2}}{2} - g m \\cos{\\left(\\theta{\\left(t \\right)} \\right)}$"
      ],
      "text/plain": [
       "Eq(L, A*(sin(theta(t))**2*Derivative(psi(t), t)**2 + Derivative(theta(t), t)**2)/2 + C*(cos(theta(t))*Derivative(psi(t), t) + Derivative(phi(t), t))**2/2 - g*m*cos(theta(t)))"
      ]
     },
     "execution_count": 2,
     "metadata": {},
     "output_type": "execute_result"
    }
   ],
   "source": [
    "Lval = Eq(L, A*(Derivative(theta,t)**2 + Derivative(psi,t)**2*sin(theta)**2)/2 +\n",
    "          C*(Derivative(phi, t) + Derivative(psi, t)*cos(theta))**2/2 -\n",
    "          m*g*cos(theta))\n",
    "Lval"
   ]
  },
  {
   "cell_type": "code",
   "execution_count": 24,
   "metadata": {},
   "outputs": [
    {
     "name": "stdout",
     "output_type": "stream",
     "text": [
      "PWD: /home/alice/Documents/Course/.bak/16apr2020/tatarinov_equation/notebooks, Database root: ../data/Lagrange_top\n"
     ]
    }
   ],
   "source": [
    "db.save(Lval, 'Lval', description='Лагранжиан')"
   ]
  },
  {
   "cell_type": "markdown",
   "metadata": {},
   "source": [
    "####  Создадим объект для механической системы с уравнениями Татаринова "
   ]
  },
  {
   "cell_type": "code",
   "execution_count": 3,
   "metadata": {},
   "outputs": [],
   "source": [
    "TS = TatarinovSystem()"
   ]
  },
  {
   "cell_type": "code",
   "execution_count": 4,
   "metadata": {},
   "outputs": [],
   "source": [
    "TS.set_p([p[1], p[2], p[3]])\n",
    "TS.set_q([phi, psi, theta])"
   ]
  },
  {
   "cell_type": "code",
   "execution_count": 5,
   "metadata": {},
   "outputs": [
    {
     "data": {
      "text/latex": [
       "$\\displaystyle \\nu_{1}{\\left(t \\right)} = \\sin{\\left(\\phi{\\left(t \\right)} \\right)} \\sin{\\left(\\theta{\\left(t \\right)} \\right)} \\frac{d}{d t} \\psi{\\left(t \\right)} + \\cos{\\left(\\phi{\\left(t \\right)} \\right)} \\frac{d}{d t} \\theta{\\left(t \\right)}$"
      ],
      "text/plain": [
       "Eq(nu1(t), sin(phi(t))*sin(theta(t))*Derivative(psi(t), t) + cos(phi(t))*Derivative(theta(t), t))"
      ]
     },
     "metadata": {},
     "output_type": "display_data"
    },
    {
     "data": {
      "text/latex": [
       "$\\displaystyle \\nu_{2}{\\left(t \\right)} = - \\sin{\\left(\\phi{\\left(t \\right)} \\right)} \\frac{d}{d t} \\theta{\\left(t \\right)} + \\sin{\\left(\\theta{\\left(t \\right)} \\right)} \\cos{\\left(\\phi{\\left(t \\right)} \\right)} \\frac{d}{d t} \\psi{\\left(t \\right)}$"
      ],
      "text/plain": [
       "Eq(nu2(t), -sin(phi(t))*Derivative(theta(t), t) + sin(theta(t))*cos(phi(t))*Derivative(psi(t), t))"
      ]
     },
     "metadata": {},
     "output_type": "display_data"
    },
    {
     "data": {
      "text/latex": [
       "$\\displaystyle \\nu_{3}{\\left(t \\right)} = \\cos{\\left(\\theta{\\left(t \\right)} \\right)} \\frac{d}{d t} \\psi{\\left(t \\right)} + \\frac{d}{d t} \\phi{\\left(t \\right)}$"
      ],
      "text/plain": [
       "Eq(nu3(t), cos(theta(t))*Derivative(psi(t), t) + Derivative(phi(t), t))"
      ]
     },
     "metadata": {},
     "output_type": "display_data"
    }
   ],
   "source": [
    "constraints = []\n",
    "constraints += [Eq(nu1, Derivative(psi,t)*sin(theta)*sin(phi) + Derivative(theta,t)*cos(phi))]\n",
    "constraints += [Eq(nu2, Derivative(psi,t)*sin(theta)*cos(phi) - Derivative(theta,t)*sin(phi))]\n",
    "constraints += [Eq(nu3, Derivative(phi,t) + Derivative(psi,t)*cos(theta))]\n",
    "display_list(constraints)"
   ]
  },
  {
   "cell_type": "code",
   "execution_count": 22,
   "metadata": {},
   "outputs": [
    {
     "name": "stdout",
     "output_type": "stream",
     "text": [
      "PWD: /home/alice/Documents/Course/.bak/16apr2020/tatarinov_equation/notebooks, Database root: ../data/Lagrange_top\n"
     ]
    }
   ],
   "source": [
    "db.save(constraints, 'constraints', description='Связи неразрешенные относительно старших производных')"
   ]
  },
  {
   "cell_type": "code",
   "execution_count": 6,
   "metadata": {},
   "outputs": [
    {
     "data": {
      "text/markdown": [
       "_dubug output:_ "
      ],
      "text/plain": [
       "<IPython.core.display.Markdown object>"
      ]
     },
     "metadata": {},
     "output_type": "display_data"
    },
    {
     "data": {
      "text/markdown": [
       "__Solving by: diff([phi(t), psi(t), theta(t)])__"
      ],
      "text/plain": [
       "<IPython.core.display.Markdown object>"
      ]
     },
     "metadata": {},
     "output_type": "display_data"
    },
    {
     "data": {
      "text/markdown": [
       "---"
      ],
      "text/plain": [
       "<IPython.core.display.Markdown object>"
      ]
     },
     "metadata": {},
     "output_type": "display_data"
    },
    {
     "data": {
      "text/latex": [
       "$\\displaystyle \\frac{d}{d t} \\phi{\\left(t \\right)} = - \\frac{\\nu_{1}{\\left(t \\right)} \\sin{\\left(\\phi{\\left(t \\right)} \\right)}}{\\tan{\\left(\\theta{\\left(t \\right)} \\right)}} - \\frac{\\nu_{2}{\\left(t \\right)} \\cos{\\left(\\phi{\\left(t \\right)} \\right)}}{\\tan{\\left(\\theta{\\left(t \\right)} \\right)}} + \\nu_{3}{\\left(t \\right)}$"
      ],
      "text/plain": [
       "Eq(Derivative(phi(t), t), -nu1(t)*sin(phi(t))/tan(theta(t)) - nu2(t)*cos(phi(t))/tan(theta(t)) + nu3(t))"
      ]
     },
     "metadata": {},
     "output_type": "display_data"
    },
    {
     "data": {
      "text/latex": [
       "$\\displaystyle \\frac{d}{d t} \\psi{\\left(t \\right)} = \\frac{\\nu_{1}{\\left(t \\right)} \\sin{\\left(\\phi{\\left(t \\right)} \\right)} + \\nu_{2}{\\left(t \\right)} \\cos{\\left(\\phi{\\left(t \\right)} \\right)}}{\\sin{\\left(\\theta{\\left(t \\right)} \\right)}}$"
      ],
      "text/plain": [
       "Eq(Derivative(psi(t), t), (nu1(t)*sin(phi(t)) + nu2(t)*cos(phi(t)))/sin(theta(t)))"
      ]
     },
     "metadata": {},
     "output_type": "display_data"
    },
    {
     "data": {
      "text/latex": [
       "$\\displaystyle \\frac{d}{d t} \\theta{\\left(t \\right)} = \\nu_{1}{\\left(t \\right)} \\cos{\\left(\\phi{\\left(t \\right)} \\right)} - \\nu_{2}{\\left(t \\right)} \\sin{\\left(\\phi{\\left(t \\right)} \\right)}$"
      ],
      "text/plain": [
       "Eq(Derivative(theta(t), t), nu1(t)*cos(phi(t)) - nu2(t)*sin(phi(t)))"
      ]
     },
     "metadata": {},
     "output_type": "display_data"
    }
   ],
   "source": [
    "TS.set_constraints(constraints)\n",
    "display_list(TS.constraints)"
   ]
  },
  {
   "cell_type": "code",
   "execution_count": 23,
   "metadata": {},
   "outputs": [
    {
     "name": "stdout",
     "output_type": "stream",
     "text": [
      "PWD: /home/alice/Documents/Course/.bak/16apr2020/tatarinov_equation/notebooks, Database root: ../data/Lagrange_top\n"
     ]
    }
   ],
   "source": [
    "db.save(TS.constraints, 'solved_constraints', description='Связи разрешенные относительно старших производных')"
   ]
  },
  {
   "cell_type": "code",
   "execution_count": 7,
   "metadata": {},
   "outputs": [
    {
     "name": "stdout",
     "output_type": "stream",
     "text": [
      "CPU times: user 1.74 s, sys: 3.98 ms, total: 1.74 s\n",
      "Wall time: 1.74 s\n"
     ]
    }
   ],
   "source": [
    "%%time\n",
    "TS.set_L(simplify(Lval))"
   ]
  },
  {
   "cell_type": "code",
   "execution_count": 8,
   "metadata": {},
   "outputs": [
    {
     "data": {
      "text/latex": [
       "$\\displaystyle L = \\frac{A \\nu_{1}^{2}{\\left(t \\right)}}{2} + \\frac{A \\nu_{2}^{2}{\\left(t \\right)}}{2} + \\frac{C \\nu_{3}^{2}{\\left(t \\right)}}{2} - g m \\cos{\\left(\\theta{\\left(t \\right)} \\right)}$"
      ],
      "text/plain": [
       "Eq(L, A*nu1(t)**2/2 + A*nu2(t)**2/2 + C*nu3(t)**2/2 - g*m*cos(theta(t)))"
      ]
     },
     "metadata": {},
     "output_type": "display_data"
    },
    {
     "name": "stdout",
     "output_type": "stream",
     "text": [
      "CPU times: user 1.87 s, sys: 0 ns, total: 1.87 s\n",
      "Wall time: 1.88 s\n"
     ]
    }
   ],
   "source": [
    "%%time\n",
    "L_star = TS.set_L_star(TS.sub_constraints(Lval))\n",
    "display(TS.L_star)"
   ]
  },
  {
   "cell_type": "code",
   "execution_count": 9,
   "metadata": {},
   "outputs": [],
   "source": [
    "TS.set_omega_equations(omegas=[omega[1], omega[2], omega[3]],\n",
    "                      equations=[nu1, nu2, nu3])\n",
    "# display_list(TS.omega_equations)"
   ]
  },
  {
   "cell_type": "code",
   "execution_count": 10,
   "metadata": {},
   "outputs": [],
   "source": [
    "TS.set_v_equations(vs=[v[1], v[2], v[3]],\n",
    "                  equations=[el.diff() for el in TS.q])\n",
    "# display_list(TS.v_equations)"
   ]
  },
  {
   "cell_type": "code",
   "execution_count": 11,
   "metadata": {},
   "outputs": [],
   "source": [
    "F = Matrix([0,0])\n",
    "TS.set_F(F)\n",
    "# TS.F"
   ]
  },
  {
   "cell_type": "code",
   "execution_count": 12,
   "metadata": {},
   "outputs": [
    {
     "data": {
      "text/markdown": [
       "_dubug output:_ "
      ],
      "text/plain": [
       "<IPython.core.display.Markdown object>"
      ]
     },
     "metadata": {},
     "output_type": "display_data"
    },
    {
     "data": {
      "text/latex": [
       "$\\displaystyle \\sum_{Idx\\left(k\\right)=1}^{3} {P}_{Idx\\left(k\\right)} {\\omega}_{Idx\\left(k\\right)} = \\sum_{Idx\\left(k\\right)=1}^{3} {p}_{Idx\\left(k\\right)} {v}_{Idx\\left(k\\right)}$"
      ],
      "text/plain": [
       "Eq(Sum(P[k]*omega[k], (k, 1, 3)), Sum(p[k]*v[k], (k, 1, 3)))"
      ]
     },
     "metadata": {},
     "output_type": "display_data"
    },
    {
     "data": {
      "text/markdown": [
       "---"
      ],
      "text/plain": [
       "<IPython.core.display.Markdown object>"
      ]
     },
     "metadata": {},
     "output_type": "display_data"
    },
    {
     "data": {
      "text/markdown": [
       "_dubug output:_ "
      ],
      "text/plain": [
       "<IPython.core.display.Markdown object>"
      ]
     },
     "metadata": {},
     "output_type": "display_data"
    },
    {
     "data": {
      "text/latex": [
       "$\\displaystyle \\nu_{1}{\\left(t \\right)} {P}_{1} + \\nu_{2}{\\left(t \\right)} {P}_{2} + \\nu_{3}{\\left(t \\right)} {P}_{3} = \\frac{\\left(\\nu_{1}{\\left(t \\right)} \\sin{\\left(\\phi{\\left(t \\right)} \\right)} + \\nu_{2}{\\left(t \\right)} \\cos{\\left(\\phi{\\left(t \\right)} \\right)}\\right) {p}_{2}}{\\sin{\\left(\\theta{\\left(t \\right)} \\right)}} + \\left(\\nu_{1}{\\left(t \\right)} \\cos{\\left(\\phi{\\left(t \\right)} \\right)} - \\nu_{2}{\\left(t \\right)} \\sin{\\left(\\phi{\\left(t \\right)} \\right)}\\right) {p}_{3} + \\left(- \\frac{\\nu_{1}{\\left(t \\right)} \\sin{\\left(\\phi{\\left(t \\right)} \\right)}}{\\tan{\\left(\\theta{\\left(t \\right)} \\right)}} - \\frac{\\nu_{2}{\\left(t \\right)} \\cos{\\left(\\phi{\\left(t \\right)} \\right)}}{\\tan{\\left(\\theta{\\left(t \\right)} \\right)}} + \\nu_{3}{\\left(t \\right)}\\right) {p}_{1}$"
      ],
      "text/plain": [
       "Eq(nu1(t)*P[1] + nu2(t)*P[2] + nu3(t)*P[3], (nu1(t)*sin(phi(t)) + nu2(t)*cos(phi(t)))*p[2]/sin(theta(t)) + (nu1(t)*cos(phi(t)) - nu2(t)*sin(phi(t)))*p[3] + (-nu1(t)*sin(phi(t))/tan(theta(t)) - nu2(t)*cos(phi(t))/tan(theta(t)) + nu3(t))*p[1])"
      ]
     },
     "metadata": {},
     "output_type": "display_data"
    },
    {
     "data": {
      "text/markdown": [
       "---"
      ],
      "text/plain": [
       "<IPython.core.display.Markdown object>"
      ]
     },
     "metadata": {},
     "output_type": "display_data"
    },
    {
     "data": {
      "text/latex": [
       "$\\displaystyle {P}_{1} = \\frac{- \\sin{\\left(\\phi{\\left(t \\right)} \\right)} \\sin{\\left(\\theta{\\left(t \\right)} \\right)} {p}_{1} + \\sin{\\left(\\phi{\\left(t \\right)} \\right)} \\tan{\\left(\\theta{\\left(t \\right)} \\right)} {p}_{2} + \\sin{\\left(\\theta{\\left(t \\right)} \\right)} \\cos{\\left(\\phi{\\left(t \\right)} \\right)} \\tan{\\left(\\theta{\\left(t \\right)} \\right)} {p}_{3}}{\\sin{\\left(\\theta{\\left(t \\right)} \\right)} \\tan{\\left(\\theta{\\left(t \\right)} \\right)}}$"
      ],
      "text/plain": [
       "Eq(P[1], (-sin(phi(t))*sin(theta(t))*p[1] + sin(phi(t))*tan(theta(t))*p[2] + sin(theta(t))*cos(phi(t))*tan(theta(t))*p[3])/(sin(theta(t))*tan(theta(t))))"
      ]
     },
     "metadata": {},
     "output_type": "display_data"
    },
    {
     "data": {
      "text/latex": [
       "$\\displaystyle {P}_{2} = - \\frac{\\sin{\\left(\\phi{\\left(t \\right)} \\right)} \\sin{\\left(\\theta{\\left(t \\right)} \\right)} \\tan{\\left(\\theta{\\left(t \\right)} \\right)} {p}_{3} + \\sin{\\left(\\theta{\\left(t \\right)} \\right)} \\cos{\\left(\\phi{\\left(t \\right)} \\right)} {p}_{1} - \\cos{\\left(\\phi{\\left(t \\right)} \\right)} \\tan{\\left(\\theta{\\left(t \\right)} \\right)} {p}_{2}}{\\sin{\\left(\\theta{\\left(t \\right)} \\right)} \\tan{\\left(\\theta{\\left(t \\right)} \\right)}}$"
      ],
      "text/plain": [
       "Eq(P[2], -(sin(phi(t))*sin(theta(t))*tan(theta(t))*p[3] + sin(theta(t))*cos(phi(t))*p[1] - cos(phi(t))*tan(theta(t))*p[2])/(sin(theta(t))*tan(theta(t))))"
      ]
     },
     "metadata": {},
     "output_type": "display_data"
    },
    {
     "data": {
      "text/latex": [
       "$\\displaystyle {P}_{3} = {p}_{1}$"
      ],
      "text/plain": [
       "Eq(P[3], p[1])"
      ]
     },
     "metadata": {},
     "output_type": "display_data"
    }
   ],
   "source": [
    "TS.create_P()\n",
    "display_list(TS.P)"
   ]
  },
  {
   "cell_type": "code",
   "execution_count": 15,
   "metadata": {},
   "outputs": [
    {
     "data": {
      "text/latex": [
       "$\\displaystyle 0$"
      ],
      "text/plain": [
       "0"
      ]
     },
     "metadata": {},
     "output_type": "display_data"
    },
    {
     "data": {
      "text/latex": [
       "$\\displaystyle 0$"
      ],
      "text/plain": [
       "0"
      ]
     },
     "metadata": {},
     "output_type": "display_data"
    },
    {
     "data": {
      "text/latex": [
       "$\\displaystyle 0$"
      ],
      "text/plain": [
       "0"
      ]
     },
     "metadata": {},
     "output_type": "display_data"
    }
   ],
   "source": [
    "TS.create_Q(r['p'])\n",
    "display_list(TS.Q)"
   ]
  },
  {
   "cell_type": "code",
   "execution_count": 16,
   "metadata": {},
   "outputs": [
    {
     "data": {
      "text/markdown": [
       "_dubug output:_ "
      ],
      "text/plain": [
       "<IPython.core.display.Markdown object>"
      ]
     },
     "metadata": {},
     "output_type": "display_data"
    },
    {
     "data": {
      "text/markdown": [
       "__Уравнение #0__"
      ],
      "text/plain": [
       "<IPython.core.display.Markdown object>"
      ]
     },
     "metadata": {},
     "output_type": "display_data"
    },
    {
     "data": {
      "text/markdown": [
       "---"
      ],
      "text/plain": [
       "<IPython.core.display.Markdown object>"
      ]
     },
     "metadata": {},
     "output_type": "display_data"
    },
    {
     "data": {
      "text/markdown": [
       "_dubug output:_ "
      ],
      "text/plain": [
       "<IPython.core.display.Markdown object>"
      ]
     },
     "metadata": {},
     "output_type": "display_data"
    },
    {
     "data": {
      "text/markdown": [
       "__Левая часть уравнения__"
      ],
      "text/plain": [
       "<IPython.core.display.Markdown object>"
      ]
     },
     "metadata": {},
     "output_type": "display_data"
    },
    {
     "data": {
      "text/latex": [
       "$\\displaystyle A \\frac{d}{d t} \\nu_{1}{\\left(t \\right)} - g m \\sin{\\left(\\theta{\\left(t \\right)} \\right)} \\cos{\\left(\\phi{\\left(t \\right)} \\right)}$"
      ],
      "text/plain": [
       "A*Derivative(nu1(t), t) - g*m*sin(theta(t))*cos(phi(t))"
      ]
     },
     "metadata": {},
     "output_type": "display_data"
    },
    {
     "data": {
      "text/markdown": [
       "---"
      ],
      "text/plain": [
       "<IPython.core.display.Markdown object>"
      ]
     },
     "metadata": {},
     "output_type": "display_data"
    },
    {
     "data": {
      "text/markdown": [
       "_dubug output:_ "
      ],
      "text/plain": [
       "<IPython.core.display.Markdown object>"
      ]
     },
     "metadata": {},
     "output_type": "display_data"
    },
    {
     "data": {
      "text/markdown": [
       "__Правая часть уравнения__"
      ],
      "text/plain": [
       "<IPython.core.display.Markdown object>"
      ]
     },
     "metadata": {},
     "output_type": "display_data"
    },
    {
     "data": {
      "text/latex": [
       "$\\displaystyle \\left(\\nu_{1}{\\left(t \\right)} \\cos{\\left(\\phi{\\left(t \\right)} \\right)} - \\nu_{2}{\\left(t \\right)} \\sin{\\left(\\phi{\\left(t \\right)} \\right)}\\right) \\left(\\frac{\\left(- \\tan^{2}{\\left(\\theta{\\left(t \\right)} \\right)} - 1\\right) \\left(- \\sin{\\left(\\phi{\\left(t \\right)} \\right)} \\sin{\\left(\\theta{\\left(t \\right)} \\right)} {p}_{1} + \\sin{\\left(\\phi{\\left(t \\right)} \\right)} \\tan{\\left(\\theta{\\left(t \\right)} \\right)} {p}_{2} + \\sin{\\left(\\theta{\\left(t \\right)} \\right)} \\cos{\\left(\\phi{\\left(t \\right)} \\right)} \\tan{\\left(\\theta{\\left(t \\right)} \\right)} {p}_{3}\\right)}{\\sin{\\left(\\theta{\\left(t \\right)} \\right)} \\tan^{2}{\\left(\\theta{\\left(t \\right)} \\right)}} - \\frac{\\left(- \\sin{\\left(\\phi{\\left(t \\right)} \\right)} \\sin{\\left(\\theta{\\left(t \\right)} \\right)} {p}_{1} + \\sin{\\left(\\phi{\\left(t \\right)} \\right)} \\tan{\\left(\\theta{\\left(t \\right)} \\right)} {p}_{2} + \\sin{\\left(\\theta{\\left(t \\right)} \\right)} \\cos{\\left(\\phi{\\left(t \\right)} \\right)} \\tan{\\left(\\theta{\\left(t \\right)} \\right)} {p}_{3}\\right) \\cos{\\left(\\theta{\\left(t \\right)} \\right)}}{\\sin^{2}{\\left(\\theta{\\left(t \\right)} \\right)} \\tan{\\left(\\theta{\\left(t \\right)} \\right)}} + \\frac{\\left(\\tan^{2}{\\left(\\theta{\\left(t \\right)} \\right)} + 1\\right) \\sin{\\left(\\phi{\\left(t \\right)} \\right)} {p}_{2} + \\left(\\tan^{2}{\\left(\\theta{\\left(t \\right)} \\right)} + 1\\right) \\sin{\\left(\\theta{\\left(t \\right)} \\right)} \\cos{\\left(\\phi{\\left(t \\right)} \\right)} {p}_{3} - \\sin{\\left(\\phi{\\left(t \\right)} \\right)} \\cos{\\left(\\theta{\\left(t \\right)} \\right)} {p}_{1} + \\cos{\\left(\\phi{\\left(t \\right)} \\right)} \\cos{\\left(\\theta{\\left(t \\right)} \\right)} \\tan{\\left(\\theta{\\left(t \\right)} \\right)} {p}_{3}}{\\sin{\\left(\\theta{\\left(t \\right)} \\right)} \\tan{\\left(\\theta{\\left(t \\right)} \\right)}}\\right) + \\frac{\\left(- \\frac{\\left(- \\sin{\\left(\\phi{\\left(t \\right)} \\right)} \\sin{\\left(\\theta{\\left(t \\right)} \\right)} {p}_{1} + \\sin{\\left(\\phi{\\left(t \\right)} \\right)} \\tan{\\left(\\theta{\\left(t \\right)} \\right)} {p}_{2} + \\sin{\\left(\\theta{\\left(t \\right)} \\right)} \\cos{\\left(\\phi{\\left(t \\right)} \\right)} \\tan{\\left(\\theta{\\left(t \\right)} \\right)} {p}_{3}\\right) \\nu_{2}{\\left(t \\right)}}{\\sin{\\left(\\theta{\\left(t \\right)} \\right)} \\tan{\\left(\\theta{\\left(t \\right)} \\right)}} + \\frac{\\left(- \\sin{\\left(\\phi{\\left(t \\right)} \\right)} \\sin{\\left(\\theta{\\left(t \\right)} \\right)} \\tan{\\left(\\theta{\\left(t \\right)} \\right)} {p}_{3} - \\sin{\\left(\\theta{\\left(t \\right)} \\right)} \\cos{\\left(\\phi{\\left(t \\right)} \\right)} {p}_{1} + \\cos{\\left(\\phi{\\left(t \\right)} \\right)} \\tan{\\left(\\theta{\\left(t \\right)} \\right)} {p}_{2}\\right) \\nu_{1}{\\left(t \\right)}}{\\sin{\\left(\\theta{\\left(t \\right)} \\right)} \\tan{\\left(\\theta{\\left(t \\right)} \\right)}}\\right) \\sin{\\left(\\phi{\\left(t \\right)} \\right)}}{\\tan{\\left(\\theta{\\left(t \\right)} \\right)}} + \\frac{\\left(- \\frac{\\nu_{1}{\\left(t \\right)} \\sin{\\left(\\phi{\\left(t \\right)} \\right)}}{\\tan{\\left(\\theta{\\left(t \\right)} \\right)}} - \\frac{\\nu_{2}{\\left(t \\right)} \\cos{\\left(\\phi{\\left(t \\right)} \\right)}}{\\tan{\\left(\\theta{\\left(t \\right)} \\right)}} + \\nu_{3}{\\left(t \\right)}\\right) \\left(- \\sin{\\left(\\phi{\\left(t \\right)} \\right)} \\sin{\\left(\\theta{\\left(t \\right)} \\right)} \\tan{\\left(\\theta{\\left(t \\right)} \\right)} {p}_{3} - \\sin{\\left(\\theta{\\left(t \\right)} \\right)} \\cos{\\left(\\phi{\\left(t \\right)} \\right)} {p}_{1} + \\cos{\\left(\\phi{\\left(t \\right)} \\right)} \\tan{\\left(\\theta{\\left(t \\right)} \\right)} {p}_{2}\\right)}{\\sin{\\left(\\theta{\\left(t \\right)} \\right)} \\tan{\\left(\\theta{\\left(t \\right)} \\right)}} - \\left(\\frac{\\left(- \\tan^{2}{\\left(\\theta{\\left(t \\right)} \\right)} - 1\\right) \\left(- \\sin{\\left(\\phi{\\left(t \\right)} \\right)} \\sin{\\left(\\theta{\\left(t \\right)} \\right)} {p}_{1} + \\sin{\\left(\\phi{\\left(t \\right)} \\right)} \\tan{\\left(\\theta{\\left(t \\right)} \\right)} {p}_{2} + \\sin{\\left(\\theta{\\left(t \\right)} \\right)} \\cos{\\left(\\phi{\\left(t \\right)} \\right)} \\tan{\\left(\\theta{\\left(t \\right)} \\right)} {p}_{3}\\right) \\nu_{1}{\\left(t \\right)}}{\\sin{\\left(\\theta{\\left(t \\right)} \\right)} \\tan^{2}{\\left(\\theta{\\left(t \\right)} \\right)}} - \\frac{\\left(- \\tan^{2}{\\left(\\theta{\\left(t \\right)} \\right)} - 1\\right) \\left(\\sin{\\left(\\phi{\\left(t \\right)} \\right)} \\sin{\\left(\\theta{\\left(t \\right)} \\right)} \\tan{\\left(\\theta{\\left(t \\right)} \\right)} {p}_{3} + \\sin{\\left(\\theta{\\left(t \\right)} \\right)} \\cos{\\left(\\phi{\\left(t \\right)} \\right)} {p}_{1} - \\cos{\\left(\\phi{\\left(t \\right)} \\right)} \\tan{\\left(\\theta{\\left(t \\right)} \\right)} {p}_{2}\\right) \\nu_{2}{\\left(t \\right)}}{\\sin{\\left(\\theta{\\left(t \\right)} \\right)} \\tan^{2}{\\left(\\theta{\\left(t \\right)} \\right)}} - \\frac{\\left(- \\sin{\\left(\\phi{\\left(t \\right)} \\right)} \\sin{\\left(\\theta{\\left(t \\right)} \\right)} {p}_{1} + \\sin{\\left(\\phi{\\left(t \\right)} \\right)} \\tan{\\left(\\theta{\\left(t \\right)} \\right)} {p}_{2} + \\sin{\\left(\\theta{\\left(t \\right)} \\right)} \\cos{\\left(\\phi{\\left(t \\right)} \\right)} \\tan{\\left(\\theta{\\left(t \\right)} \\right)} {p}_{3}\\right) \\nu_{1}{\\left(t \\right)} \\cos{\\left(\\theta{\\left(t \\right)} \\right)}}{\\sin^{2}{\\left(\\theta{\\left(t \\right)} \\right)} \\tan{\\left(\\theta{\\left(t \\right)} \\right)}} + \\frac{\\left(\\sin{\\left(\\phi{\\left(t \\right)} \\right)} \\sin{\\left(\\theta{\\left(t \\right)} \\right)} \\tan{\\left(\\theta{\\left(t \\right)} \\right)} {p}_{3} + \\sin{\\left(\\theta{\\left(t \\right)} \\right)} \\cos{\\left(\\phi{\\left(t \\right)} \\right)} {p}_{1} - \\cos{\\left(\\phi{\\left(t \\right)} \\right)} \\tan{\\left(\\theta{\\left(t \\right)} \\right)} {p}_{2}\\right) \\nu_{2}{\\left(t \\right)} \\cos{\\left(\\theta{\\left(t \\right)} \\right)}}{\\sin^{2}{\\left(\\theta{\\left(t \\right)} \\right)} \\tan{\\left(\\theta{\\left(t \\right)} \\right)}} + \\frac{\\left(\\left(\\tan^{2}{\\left(\\theta{\\left(t \\right)} \\right)} + 1\\right) \\sin{\\left(\\phi{\\left(t \\right)} \\right)} {p}_{2} + \\left(\\tan^{2}{\\left(\\theta{\\left(t \\right)} \\right)} + 1\\right) \\sin{\\left(\\theta{\\left(t \\right)} \\right)} \\cos{\\left(\\phi{\\left(t \\right)} \\right)} {p}_{3} - \\sin{\\left(\\phi{\\left(t \\right)} \\right)} \\cos{\\left(\\theta{\\left(t \\right)} \\right)} {p}_{1} + \\cos{\\left(\\phi{\\left(t \\right)} \\right)} \\cos{\\left(\\theta{\\left(t \\right)} \\right)} \\tan{\\left(\\theta{\\left(t \\right)} \\right)} {p}_{3}\\right) \\nu_{1}{\\left(t \\right)}}{\\sin{\\left(\\theta{\\left(t \\right)} \\right)} \\tan{\\left(\\theta{\\left(t \\right)} \\right)}} - \\frac{\\left(\\left(\\tan^{2}{\\left(\\theta{\\left(t \\right)} \\right)} + 1\\right) \\sin{\\left(\\phi{\\left(t \\right)} \\right)} \\sin{\\left(\\theta{\\left(t \\right)} \\right)} {p}_{3} - \\left(\\tan^{2}{\\left(\\theta{\\left(t \\right)} \\right)} + 1\\right) \\cos{\\left(\\phi{\\left(t \\right)} \\right)} {p}_{2} + \\sin{\\left(\\phi{\\left(t \\right)} \\right)} \\cos{\\left(\\theta{\\left(t \\right)} \\right)} \\tan{\\left(\\theta{\\left(t \\right)} \\right)} {p}_{3} + \\cos{\\left(\\phi{\\left(t \\right)} \\right)} \\cos{\\left(\\theta{\\left(t \\right)} \\right)} {p}_{1}\\right) \\nu_{2}{\\left(t \\right)}}{\\sin{\\left(\\theta{\\left(t \\right)} \\right)} \\tan{\\left(\\theta{\\left(t \\right)} \\right)}}\\right) \\cos{\\left(\\phi{\\left(t \\right)} \\right)}$"
      ],
      "text/plain": [
       "(nu1(t)*cos(phi(t)) - nu2(t)*sin(phi(t)))*((-tan(theta(t))**2 - 1)*(-sin(phi(t))*sin(theta(t))*p[1] + sin(phi(t))*tan(theta(t))*p[2] + sin(theta(t))*cos(phi(t))*tan(theta(t))*p[3])/(sin(theta(t))*tan(theta(t))**2) - (-sin(phi(t))*sin(theta(t))*p[1] + sin(phi(t))*tan(theta(t))*p[2] + sin(theta(t))*cos(phi(t))*tan(theta(t))*p[3])*cos(theta(t))/(sin(theta(t))**2*tan(theta(t))) + ((tan(theta(t))**2 + 1)*sin(phi(t))*p[2] + (tan(theta(t))**2 + 1)*sin(theta(t))*cos(phi(t))*p[3] - sin(phi(t))*cos(theta(t))*p[1] + cos(phi(t))*cos(theta(t))*tan(theta(t))*p[3])/(sin(theta(t))*tan(theta(t)))) + (-(-sin(phi(t))*sin(theta(t))*p[1] + sin(phi(t))*tan(theta(t))*p[2] + sin(theta(t))*cos(phi(t))*tan(theta(t))*p[3])*nu2(t)/(sin(theta(t))*tan(theta(t))) + (-sin(phi(t))*sin(theta(t))*tan(theta(t))*p[3] - sin(theta(t))*cos(phi(t))*p[1] + cos(phi(t))*tan(theta(t))*p[2])*nu1(t)/(sin(theta(t))*tan(theta(t))))*sin(phi(t))/tan(theta(t)) + (-nu1(t)*sin(phi(t))/tan(theta(t)) - nu2(t)*cos(phi(t))/tan(theta(t)) + nu3(t))*(-sin(phi(t))*sin(theta(t))*tan(theta(t))*p[3] - sin(theta(t))*cos(phi(t))*p[1] + cos(phi(t))*tan(theta(t))*p[2])/(sin(theta(t))*tan(theta(t))) - ((-tan(theta(t))**2 - 1)*(-sin(phi(t))*sin(theta(t))*p[1] + sin(phi(t))*tan(theta(t))*p[2] + sin(theta(t))*cos(phi(t))*tan(theta(t))*p[3])*nu1(t)/(sin(theta(t))*tan(theta(t))**2) - (-tan(theta(t))**2 - 1)*(sin(phi(t))*sin(theta(t))*tan(theta(t))*p[3] + sin(theta(t))*cos(phi(t))*p[1] - cos(phi(t))*tan(theta(t))*p[2])*nu2(t)/(sin(theta(t))*tan(theta(t))**2) - (-sin(phi(t))*sin(theta(t))*p[1] + sin(phi(t))*tan(theta(t))*p[2] + sin(theta(t))*cos(phi(t))*tan(theta(t))*p[3])*nu1(t)*cos(theta(t))/(sin(theta(t))**2*tan(theta(t))) + (sin(phi(t))*sin(theta(t))*tan(theta(t))*p[3] + sin(theta(t))*cos(phi(t))*p[1] - cos(phi(t))*tan(theta(t))*p[2])*nu2(t)*cos(theta(t))/(sin(theta(t))**2*tan(theta(t))) + ((tan(theta(t))**2 + 1)*sin(phi(t))*p[2] + (tan(theta(t))**2 + 1)*sin(theta(t))*cos(phi(t))*p[3] - sin(phi(t))*cos(theta(t))*p[1] + cos(phi(t))*cos(theta(t))*tan(theta(t))*p[3])*nu1(t)/(sin(theta(t))*tan(theta(t))) - ((tan(theta(t))**2 + 1)*sin(phi(t))*sin(theta(t))*p[3] - (tan(theta(t))**2 + 1)*cos(phi(t))*p[2] + sin(phi(t))*cos(theta(t))*tan(theta(t))*p[3] + cos(phi(t))*cos(theta(t))*p[1])*nu2(t)/(sin(theta(t))*tan(theta(t))))*cos(phi(t))"
      ]
     },
     "metadata": {},
     "output_type": "display_data"
    },
    {
     "data": {
      "text/markdown": [
       "---"
      ],
      "text/plain": [
       "<IPython.core.display.Markdown object>"
      ]
     },
     "metadata": {},
     "output_type": "display_data"
    },
    {
     "data": {
      "text/markdown": [
       "_dubug output:_ "
      ],
      "text/plain": [
       "<IPython.core.display.Markdown object>"
      ]
     },
     "metadata": {},
     "output_type": "display_data"
    },
    {
     "data": {
      "text/markdown": [
       "__Уравнение #1__"
      ],
      "text/plain": [
       "<IPython.core.display.Markdown object>"
      ]
     },
     "metadata": {},
     "output_type": "display_data"
    },
    {
     "data": {
      "text/markdown": [
       "---"
      ],
      "text/plain": [
       "<IPython.core.display.Markdown object>"
      ]
     },
     "metadata": {},
     "output_type": "display_data"
    },
    {
     "data": {
      "text/markdown": [
       "_dubug output:_ "
      ],
      "text/plain": [
       "<IPython.core.display.Markdown object>"
      ]
     },
     "metadata": {},
     "output_type": "display_data"
    },
    {
     "data": {
      "text/markdown": [
       "__Левая часть уравнения__"
      ],
      "text/plain": [
       "<IPython.core.display.Markdown object>"
      ]
     },
     "metadata": {},
     "output_type": "display_data"
    },
    {
     "data": {
      "text/latex": [
       "$\\displaystyle A \\frac{d}{d t} \\nu_{2}{\\left(t \\right)} + g m \\sin{\\left(\\phi{\\left(t \\right)} \\right)} \\sin{\\left(\\theta{\\left(t \\right)} \\right)}$"
      ],
      "text/plain": [
       "A*Derivative(nu2(t), t) + g*m*sin(phi(t))*sin(theta(t))"
      ]
     },
     "metadata": {},
     "output_type": "display_data"
    },
    {
     "data": {
      "text/markdown": [
       "---"
      ],
      "text/plain": [
       "<IPython.core.display.Markdown object>"
      ]
     },
     "metadata": {},
     "output_type": "display_data"
    },
    {
     "data": {
      "text/markdown": [
       "_dubug output:_ "
      ],
      "text/plain": [
       "<IPython.core.display.Markdown object>"
      ]
     },
     "metadata": {},
     "output_type": "display_data"
    },
    {
     "data": {
      "text/markdown": [
       "__Правая часть уравнения__"
      ],
      "text/plain": [
       "<IPython.core.display.Markdown object>"
      ]
     },
     "metadata": {},
     "output_type": "display_data"
    },
    {
     "data": {
      "text/latex": [
       "$\\displaystyle \\left(\\nu_{1}{\\left(t \\right)} \\cos{\\left(\\phi{\\left(t \\right)} \\right)} - \\nu_{2}{\\left(t \\right)} \\sin{\\left(\\phi{\\left(t \\right)} \\right)}\\right) \\left(- \\frac{\\left(- \\tan^{2}{\\left(\\theta{\\left(t \\right)} \\right)} - 1\\right) \\left(\\sin{\\left(\\phi{\\left(t \\right)} \\right)} \\sin{\\left(\\theta{\\left(t \\right)} \\right)} \\tan{\\left(\\theta{\\left(t \\right)} \\right)} {p}_{3} + \\sin{\\left(\\theta{\\left(t \\right)} \\right)} \\cos{\\left(\\phi{\\left(t \\right)} \\right)} {p}_{1} - \\cos{\\left(\\phi{\\left(t \\right)} \\right)} \\tan{\\left(\\theta{\\left(t \\right)} \\right)} {p}_{2}\\right)}{\\sin{\\left(\\theta{\\left(t \\right)} \\right)} \\tan^{2}{\\left(\\theta{\\left(t \\right)} \\right)}} + \\frac{\\left(\\sin{\\left(\\phi{\\left(t \\right)} \\right)} \\sin{\\left(\\theta{\\left(t \\right)} \\right)} \\tan{\\left(\\theta{\\left(t \\right)} \\right)} {p}_{3} + \\sin{\\left(\\theta{\\left(t \\right)} \\right)} \\cos{\\left(\\phi{\\left(t \\right)} \\right)} {p}_{1} - \\cos{\\left(\\phi{\\left(t \\right)} \\right)} \\tan{\\left(\\theta{\\left(t \\right)} \\right)} {p}_{2}\\right) \\cos{\\left(\\theta{\\left(t \\right)} \\right)}}{\\sin^{2}{\\left(\\theta{\\left(t \\right)} \\right)} \\tan{\\left(\\theta{\\left(t \\right)} \\right)}} - \\frac{\\left(\\tan^{2}{\\left(\\theta{\\left(t \\right)} \\right)} + 1\\right) \\sin{\\left(\\phi{\\left(t \\right)} \\right)} \\sin{\\left(\\theta{\\left(t \\right)} \\right)} {p}_{3} - \\left(\\tan^{2}{\\left(\\theta{\\left(t \\right)} \\right)} + 1\\right) \\cos{\\left(\\phi{\\left(t \\right)} \\right)} {p}_{2} + \\sin{\\left(\\phi{\\left(t \\right)} \\right)} \\cos{\\left(\\theta{\\left(t \\right)} \\right)} \\tan{\\left(\\theta{\\left(t \\right)} \\right)} {p}_{3} + \\cos{\\left(\\phi{\\left(t \\right)} \\right)} \\cos{\\left(\\theta{\\left(t \\right)} \\right)} {p}_{1}}{\\sin{\\left(\\theta{\\left(t \\right)} \\right)} \\tan{\\left(\\theta{\\left(t \\right)} \\right)}}\\right) + \\frac{\\left(- \\frac{\\left(- \\sin{\\left(\\phi{\\left(t \\right)} \\right)} \\sin{\\left(\\theta{\\left(t \\right)} \\right)} {p}_{1} + \\sin{\\left(\\phi{\\left(t \\right)} \\right)} \\tan{\\left(\\theta{\\left(t \\right)} \\right)} {p}_{2} + \\sin{\\left(\\theta{\\left(t \\right)} \\right)} \\cos{\\left(\\phi{\\left(t \\right)} \\right)} \\tan{\\left(\\theta{\\left(t \\right)} \\right)} {p}_{3}\\right) \\nu_{2}{\\left(t \\right)}}{\\sin{\\left(\\theta{\\left(t \\right)} \\right)} \\tan{\\left(\\theta{\\left(t \\right)} \\right)}} + \\frac{\\left(- \\sin{\\left(\\phi{\\left(t \\right)} \\right)} \\sin{\\left(\\theta{\\left(t \\right)} \\right)} \\tan{\\left(\\theta{\\left(t \\right)} \\right)} {p}_{3} - \\sin{\\left(\\theta{\\left(t \\right)} \\right)} \\cos{\\left(\\phi{\\left(t \\right)} \\right)} {p}_{1} + \\cos{\\left(\\phi{\\left(t \\right)} \\right)} \\tan{\\left(\\theta{\\left(t \\right)} \\right)} {p}_{2}\\right) \\nu_{1}{\\left(t \\right)}}{\\sin{\\left(\\theta{\\left(t \\right)} \\right)} \\tan{\\left(\\theta{\\left(t \\right)} \\right)}}\\right) \\cos{\\left(\\phi{\\left(t \\right)} \\right)}}{\\tan{\\left(\\theta{\\left(t \\right)} \\right)}} - \\frac{\\left(- \\frac{\\nu_{1}{\\left(t \\right)} \\sin{\\left(\\phi{\\left(t \\right)} \\right)}}{\\tan{\\left(\\theta{\\left(t \\right)} \\right)}} - \\frac{\\nu_{2}{\\left(t \\right)} \\cos{\\left(\\phi{\\left(t \\right)} \\right)}}{\\tan{\\left(\\theta{\\left(t \\right)} \\right)}} + \\nu_{3}{\\left(t \\right)}\\right) \\left(- \\sin{\\left(\\phi{\\left(t \\right)} \\right)} \\sin{\\left(\\theta{\\left(t \\right)} \\right)} {p}_{1} + \\sin{\\left(\\phi{\\left(t \\right)} \\right)} \\tan{\\left(\\theta{\\left(t \\right)} \\right)} {p}_{2} + \\sin{\\left(\\theta{\\left(t \\right)} \\right)} \\cos{\\left(\\phi{\\left(t \\right)} \\right)} \\tan{\\left(\\theta{\\left(t \\right)} \\right)} {p}_{3}\\right)}{\\sin{\\left(\\theta{\\left(t \\right)} \\right)} \\tan{\\left(\\theta{\\left(t \\right)} \\right)}} + \\left(\\frac{\\left(- \\tan^{2}{\\left(\\theta{\\left(t \\right)} \\right)} - 1\\right) \\left(- \\sin{\\left(\\phi{\\left(t \\right)} \\right)} \\sin{\\left(\\theta{\\left(t \\right)} \\right)} {p}_{1} + \\sin{\\left(\\phi{\\left(t \\right)} \\right)} \\tan{\\left(\\theta{\\left(t \\right)} \\right)} {p}_{2} + \\sin{\\left(\\theta{\\left(t \\right)} \\right)} \\cos{\\left(\\phi{\\left(t \\right)} \\right)} \\tan{\\left(\\theta{\\left(t \\right)} \\right)} {p}_{3}\\right) \\nu_{1}{\\left(t \\right)}}{\\sin{\\left(\\theta{\\left(t \\right)} \\right)} \\tan^{2}{\\left(\\theta{\\left(t \\right)} \\right)}} - \\frac{\\left(- \\tan^{2}{\\left(\\theta{\\left(t \\right)} \\right)} - 1\\right) \\left(\\sin{\\left(\\phi{\\left(t \\right)} \\right)} \\sin{\\left(\\theta{\\left(t \\right)} \\right)} \\tan{\\left(\\theta{\\left(t \\right)} \\right)} {p}_{3} + \\sin{\\left(\\theta{\\left(t \\right)} \\right)} \\cos{\\left(\\phi{\\left(t \\right)} \\right)} {p}_{1} - \\cos{\\left(\\phi{\\left(t \\right)} \\right)} \\tan{\\left(\\theta{\\left(t \\right)} \\right)} {p}_{2}\\right) \\nu_{2}{\\left(t \\right)}}{\\sin{\\left(\\theta{\\left(t \\right)} \\right)} \\tan^{2}{\\left(\\theta{\\left(t \\right)} \\right)}} - \\frac{\\left(- \\sin{\\left(\\phi{\\left(t \\right)} \\right)} \\sin{\\left(\\theta{\\left(t \\right)} \\right)} {p}_{1} + \\sin{\\left(\\phi{\\left(t \\right)} \\right)} \\tan{\\left(\\theta{\\left(t \\right)} \\right)} {p}_{2} + \\sin{\\left(\\theta{\\left(t \\right)} \\right)} \\cos{\\left(\\phi{\\left(t \\right)} \\right)} \\tan{\\left(\\theta{\\left(t \\right)} \\right)} {p}_{3}\\right) \\nu_{1}{\\left(t \\right)} \\cos{\\left(\\theta{\\left(t \\right)} \\right)}}{\\sin^{2}{\\left(\\theta{\\left(t \\right)} \\right)} \\tan{\\left(\\theta{\\left(t \\right)} \\right)}} + \\frac{\\left(\\sin{\\left(\\phi{\\left(t \\right)} \\right)} \\sin{\\left(\\theta{\\left(t \\right)} \\right)} \\tan{\\left(\\theta{\\left(t \\right)} \\right)} {p}_{3} + \\sin{\\left(\\theta{\\left(t \\right)} \\right)} \\cos{\\left(\\phi{\\left(t \\right)} \\right)} {p}_{1} - \\cos{\\left(\\phi{\\left(t \\right)} \\right)} \\tan{\\left(\\theta{\\left(t \\right)} \\right)} {p}_{2}\\right) \\nu_{2}{\\left(t \\right)} \\cos{\\left(\\theta{\\left(t \\right)} \\right)}}{\\sin^{2}{\\left(\\theta{\\left(t \\right)} \\right)} \\tan{\\left(\\theta{\\left(t \\right)} \\right)}} + \\frac{\\left(\\left(\\tan^{2}{\\left(\\theta{\\left(t \\right)} \\right)} + 1\\right) \\sin{\\left(\\phi{\\left(t \\right)} \\right)} {p}_{2} + \\left(\\tan^{2}{\\left(\\theta{\\left(t \\right)} \\right)} + 1\\right) \\sin{\\left(\\theta{\\left(t \\right)} \\right)} \\cos{\\left(\\phi{\\left(t \\right)} \\right)} {p}_{3} - \\sin{\\left(\\phi{\\left(t \\right)} \\right)} \\cos{\\left(\\theta{\\left(t \\right)} \\right)} {p}_{1} + \\cos{\\left(\\phi{\\left(t \\right)} \\right)} \\cos{\\left(\\theta{\\left(t \\right)} \\right)} \\tan{\\left(\\theta{\\left(t \\right)} \\right)} {p}_{3}\\right) \\nu_{1}{\\left(t \\right)}}{\\sin{\\left(\\theta{\\left(t \\right)} \\right)} \\tan{\\left(\\theta{\\left(t \\right)} \\right)}} - \\frac{\\left(\\left(\\tan^{2}{\\left(\\theta{\\left(t \\right)} \\right)} + 1\\right) \\sin{\\left(\\phi{\\left(t \\right)} \\right)} \\sin{\\left(\\theta{\\left(t \\right)} \\right)} {p}_{3} - \\left(\\tan^{2}{\\left(\\theta{\\left(t \\right)} \\right)} + 1\\right) \\cos{\\left(\\phi{\\left(t \\right)} \\right)} {p}_{2} + \\sin{\\left(\\phi{\\left(t \\right)} \\right)} \\cos{\\left(\\theta{\\left(t \\right)} \\right)} \\tan{\\left(\\theta{\\left(t \\right)} \\right)} {p}_{3} + \\cos{\\left(\\phi{\\left(t \\right)} \\right)} \\cos{\\left(\\theta{\\left(t \\right)} \\right)} {p}_{1}\\right) \\nu_{2}{\\left(t \\right)}}{\\sin{\\left(\\theta{\\left(t \\right)} \\right)} \\tan{\\left(\\theta{\\left(t \\right)} \\right)}}\\right) \\sin{\\left(\\phi{\\left(t \\right)} \\right)}$"
      ],
      "text/plain": [
       "(nu1(t)*cos(phi(t)) - nu2(t)*sin(phi(t)))*(-(-tan(theta(t))**2 - 1)*(sin(phi(t))*sin(theta(t))*tan(theta(t))*p[3] + sin(theta(t))*cos(phi(t))*p[1] - cos(phi(t))*tan(theta(t))*p[2])/(sin(theta(t))*tan(theta(t))**2) + (sin(phi(t))*sin(theta(t))*tan(theta(t))*p[3] + sin(theta(t))*cos(phi(t))*p[1] - cos(phi(t))*tan(theta(t))*p[2])*cos(theta(t))/(sin(theta(t))**2*tan(theta(t))) - ((tan(theta(t))**2 + 1)*sin(phi(t))*sin(theta(t))*p[3] - (tan(theta(t))**2 + 1)*cos(phi(t))*p[2] + sin(phi(t))*cos(theta(t))*tan(theta(t))*p[3] + cos(phi(t))*cos(theta(t))*p[1])/(sin(theta(t))*tan(theta(t)))) + (-(-sin(phi(t))*sin(theta(t))*p[1] + sin(phi(t))*tan(theta(t))*p[2] + sin(theta(t))*cos(phi(t))*tan(theta(t))*p[3])*nu2(t)/(sin(theta(t))*tan(theta(t))) + (-sin(phi(t))*sin(theta(t))*tan(theta(t))*p[3] - sin(theta(t))*cos(phi(t))*p[1] + cos(phi(t))*tan(theta(t))*p[2])*nu1(t)/(sin(theta(t))*tan(theta(t))))*cos(phi(t))/tan(theta(t)) - (-nu1(t)*sin(phi(t))/tan(theta(t)) - nu2(t)*cos(phi(t))/tan(theta(t)) + nu3(t))*(-sin(phi(t))*sin(theta(t))*p[1] + sin(phi(t))*tan(theta(t))*p[2] + sin(theta(t))*cos(phi(t))*tan(theta(t))*p[3])/(sin(theta(t))*tan(theta(t))) + ((-tan(theta(t))**2 - 1)*(-sin(phi(t))*sin(theta(t))*p[1] + sin(phi(t))*tan(theta(t))*p[2] + sin(theta(t))*cos(phi(t))*tan(theta(t))*p[3])*nu1(t)/(sin(theta(t))*tan(theta(t))**2) - (-tan(theta(t))**2 - 1)*(sin(phi(t))*sin(theta(t))*tan(theta(t))*p[3] + sin(theta(t))*cos(phi(t))*p[1] - cos(phi(t))*tan(theta(t))*p[2])*nu2(t)/(sin(theta(t))*tan(theta(t))**2) - (-sin(phi(t))*sin(theta(t))*p[1] + sin(phi(t))*tan(theta(t))*p[2] + sin(theta(t))*cos(phi(t))*tan(theta(t))*p[3])*nu1(t)*cos(theta(t))/(sin(theta(t))**2*tan(theta(t))) + (sin(phi(t))*sin(theta(t))*tan(theta(t))*p[3] + sin(theta(t))*cos(phi(t))*p[1] - cos(phi(t))*tan(theta(t))*p[2])*nu2(t)*cos(theta(t))/(sin(theta(t))**2*tan(theta(t))) + ((tan(theta(t))**2 + 1)*sin(phi(t))*p[2] + (tan(theta(t))**2 + 1)*sin(theta(t))*cos(phi(t))*p[3] - sin(phi(t))*cos(theta(t))*p[1] + cos(phi(t))*cos(theta(t))*tan(theta(t))*p[3])*nu1(t)/(sin(theta(t))*tan(theta(t))) - ((tan(theta(t))**2 + 1)*sin(phi(t))*sin(theta(t))*p[3] - (tan(theta(t))**2 + 1)*cos(phi(t))*p[2] + sin(phi(t))*cos(theta(t))*tan(theta(t))*p[3] + cos(phi(t))*cos(theta(t))*p[1])*nu2(t)/(sin(theta(t))*tan(theta(t))))*sin(phi(t))"
      ]
     },
     "metadata": {},
     "output_type": "display_data"
    },
    {
     "data": {
      "text/markdown": [
       "---"
      ],
      "text/plain": [
       "<IPython.core.display.Markdown object>"
      ]
     },
     "metadata": {},
     "output_type": "display_data"
    },
    {
     "data": {
      "text/markdown": [
       "_dubug output:_ "
      ],
      "text/plain": [
       "<IPython.core.display.Markdown object>"
      ]
     },
     "metadata": {},
     "output_type": "display_data"
    },
    {
     "data": {
      "text/markdown": [
       "__Уравнение #2__"
      ],
      "text/plain": [
       "<IPython.core.display.Markdown object>"
      ]
     },
     "metadata": {},
     "output_type": "display_data"
    },
    {
     "data": {
      "text/markdown": [
       "---"
      ],
      "text/plain": [
       "<IPython.core.display.Markdown object>"
      ]
     },
     "metadata": {},
     "output_type": "display_data"
    },
    {
     "data": {
      "text/markdown": [
       "_dubug output:_ "
      ],
      "text/plain": [
       "<IPython.core.display.Markdown object>"
      ]
     },
     "metadata": {},
     "output_type": "display_data"
    },
    {
     "data": {
      "text/markdown": [
       "__Левая часть уравнения__"
      ],
      "text/plain": [
       "<IPython.core.display.Markdown object>"
      ]
     },
     "metadata": {},
     "output_type": "display_data"
    },
    {
     "data": {
      "text/latex": [
       "$\\displaystyle C \\frac{d}{d t} \\nu_{3}{\\left(t \\right)}$"
      ],
      "text/plain": [
       "C*Derivative(nu3(t), t)"
      ]
     },
     "metadata": {},
     "output_type": "display_data"
    },
    {
     "data": {
      "text/markdown": [
       "---"
      ],
      "text/plain": [
       "<IPython.core.display.Markdown object>"
      ]
     },
     "metadata": {},
     "output_type": "display_data"
    },
    {
     "data": {
      "text/markdown": [
       "_dubug output:_ "
      ],
      "text/plain": [
       "<IPython.core.display.Markdown object>"
      ]
     },
     "metadata": {},
     "output_type": "display_data"
    },
    {
     "data": {
      "text/markdown": [
       "__Правая часть уравнения__"
      ],
      "text/plain": [
       "<IPython.core.display.Markdown object>"
      ]
     },
     "metadata": {},
     "output_type": "display_data"
    },
    {
     "data": {
      "text/latex": [
       "$\\displaystyle \\frac{\\left(- \\sin{\\left(\\phi{\\left(t \\right)} \\right)} \\sin{\\left(\\theta{\\left(t \\right)} \\right)} {p}_{1} + \\sin{\\left(\\phi{\\left(t \\right)} \\right)} \\tan{\\left(\\theta{\\left(t \\right)} \\right)} {p}_{2} + \\sin{\\left(\\theta{\\left(t \\right)} \\right)} \\cos{\\left(\\phi{\\left(t \\right)} \\right)} \\tan{\\left(\\theta{\\left(t \\right)} \\right)} {p}_{3}\\right) \\nu_{2}{\\left(t \\right)}}{\\sin{\\left(\\theta{\\left(t \\right)} \\right)} \\tan{\\left(\\theta{\\left(t \\right)} \\right)}} - \\frac{\\left(- \\sin{\\left(\\phi{\\left(t \\right)} \\right)} \\sin{\\left(\\theta{\\left(t \\right)} \\right)} \\tan{\\left(\\theta{\\left(t \\right)} \\right)} {p}_{3} - \\sin{\\left(\\theta{\\left(t \\right)} \\right)} \\cos{\\left(\\phi{\\left(t \\right)} \\right)} {p}_{1} + \\cos{\\left(\\phi{\\left(t \\right)} \\right)} \\tan{\\left(\\theta{\\left(t \\right)} \\right)} {p}_{2}\\right) \\nu_{1}{\\left(t \\right)}}{\\sin{\\left(\\theta{\\left(t \\right)} \\right)} \\tan{\\left(\\theta{\\left(t \\right)} \\right)}}$"
      ],
      "text/plain": [
       "(-sin(phi(t))*sin(theta(t))*p[1] + sin(phi(t))*tan(theta(t))*p[2] + sin(theta(t))*cos(phi(t))*tan(theta(t))*p[3])*nu2(t)/(sin(theta(t))*tan(theta(t))) - (-sin(phi(t))*sin(theta(t))*tan(theta(t))*p[3] - sin(theta(t))*cos(phi(t))*p[1] + cos(phi(t))*tan(theta(t))*p[2])*nu1(t)/(sin(theta(t))*tan(theta(t)))"
      ]
     },
     "metadata": {},
     "output_type": "display_data"
    },
    {
     "data": {
      "text/markdown": [
       "---"
      ],
      "text/plain": [
       "<IPython.core.display.Markdown object>"
      ]
     },
     "metadata": {},
     "output_type": "display_data"
    }
   ],
   "source": [
    "for i in range(3):\n",
    "    TS.tatarinov_equation(i)"
   ]
  },
  {
   "cell_type": "code",
   "execution_count": 17,
   "metadata": {},
   "outputs": [
    {
     "data": {
      "text/latex": [
       "$\\displaystyle \\left(A - C\\right) \\nu_{2}{\\left(t \\right)} \\nu_{3}{\\left(t \\right)} = A \\frac{d}{d t} \\nu_{1}{\\left(t \\right)} - g m \\sin{\\left(\\theta{\\left(t \\right)} \\right)} \\cos{\\left(\\phi{\\left(t \\right)} \\right)}$"
      ],
      "text/plain": [
       "Eq((A - C)*nu2(t)*nu3(t), A*Derivative(nu1(t), t) - g*m*sin(theta(t))*cos(phi(t)))"
      ]
     },
     "metadata": {},
     "output_type": "display_data"
    },
    {
     "data": {
      "text/latex": [
       "$\\displaystyle \\left(A - C\\right) \\nu_{1}{\\left(t \\right)} \\nu_{3}{\\left(t \\right)} = - A \\frac{d}{d t} \\nu_{2}{\\left(t \\right)} - g m \\sin{\\left(\\phi{\\left(t \\right)} \\right)} \\sin{\\left(\\theta{\\left(t \\right)} \\right)}$"
      ],
      "text/plain": [
       "Eq((A - C)*nu1(t)*nu3(t), -A*Derivative(nu2(t), t) - g*m*sin(phi(t))*sin(theta(t)))"
      ]
     },
     "metadata": {},
     "output_type": "display_data"
    },
    {
     "data": {
      "text/latex": [
       "$\\displaystyle C \\frac{d}{d t} \\nu_{3}{\\left(t \\right)} = 0$"
      ],
      "text/plain": [
       "Eq(C*Derivative(nu3(t), t), 0)"
      ]
     },
     "metadata": {},
     "output_type": "display_data"
    }
   ],
   "source": [
    "TS.display_equations()"
   ]
  },
  {
   "cell_type": "code",
   "execution_count": 25,
   "metadata": {},
   "outputs": [
    {
     "name": "stdout",
     "output_type": "stream",
     "text": [
      "PWD: /home/alice/Documents/Course/.bak/16apr2020/tatarinov_equation/notebooks, Database root: ../data/Lagrange_top\n"
     ]
    }
   ],
   "source": [
    "db.save(Matrix(TS.tatarinov_equations), 'Teqs', description='Уравнения Татаринова для волчка Лагранжа')"
   ]
  },
  {
   "cell_type": "code",
   "execution_count": null,
   "metadata": {},
   "outputs": [],
   "source": []
  }
 ],
 "metadata": {
  "kernelspec": {
   "display_name": "Python 3",
   "language": "python",
   "name": "python3"
  },
  "language_info": {
   "codemirror_mode": {
    "name": "ipython",
    "version": 3
   },
   "file_extension": ".py",
   "mimetype": "text/x-python",
   "name": "python",
   "nbconvert_exporter": "python",
   "pygments_lexer": "ipython3",
   "version": "3.7.7"
  }
 },
 "nbformat": 4,
 "nbformat_minor": 4
}
