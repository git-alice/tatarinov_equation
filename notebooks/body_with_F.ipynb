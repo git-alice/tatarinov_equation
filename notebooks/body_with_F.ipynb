{
 "cells": [
  {
   "cell_type": "markdown",
   "metadata": {},
   "source": [
    "## Задача движения тела с приложенной силой"
   ]
  },
  {
   "cell_type": "code",
   "execution_count": 3,
   "metadata": {},
   "outputs": [
    {
     "name": "stdout",
     "output_type": "stream",
     "text": [
      "The autoreload extension is already loaded. To reload it, use:\n",
      "  %reload_ext autoreload\n"
     ]
    }
   ],
   "source": [
    "%load_ext autoreload\n",
    "%autoreload 2\n",
    "\n",
    "import sympy as sp\n",
    "from sympy import Derivative, Symbol, IndexedBase, Idx, Sum, Function, Matrix, Add, Eq\n",
    "from sympy import diff, symbols, solve, simplify, poly, pprint, factor, integrate, lambdify\n",
    "from sympy import cos, sin, pi\n",
    "\n",
    "# syspath trick\n",
    "import sys\n",
    "sys.path.append('../')\n",
    "\n",
    "from tatarinov.utils.jupyter import display_list, display_obj\n",
    "from tatarinov.problems.body_with_F.variables import *\n",
    "from tatarinov.core.tatarinov import TatarinovSystem\n",
    "\n",
    "from tatarinov.database.singleton import db\n",
    "db.set_root('../data/body_with_F')"
   ]
  },
  {
   "cell_type": "code",
   "execution_count": 28,
   "metadata": {},
   "outputs": [],
   "source": [
    "Lval = Eq(L, m*(Derivative(x,t)**2 + Derivative(y,t)**2)/2 + J[s]*(Derivative(alpha, t)**2)/2)\n",
    "# Lval\n",
    "# db.save(Lval, 'L', description='Лагранжиан')"
   ]
  },
  {
   "cell_type": "code",
   "execution_count": 9,
   "metadata": {},
   "outputs": [
    {
     "data": {
      "text/latex": [
       "$\\displaystyle \\frac{d}{d t} x{\\left(t \\right)} = \\nu_{1}{\\left(t \\right)} \\cos{\\left(\\alpha{\\left(t \\right)} \\right)} - \\nu_{2}{\\left(t \\right)} \\sin{\\left(\\alpha{\\left(t \\right)} \\right)}$"
      ],
      "text/plain": [
       "Eq(Derivative(x(t), t), nu1(t)*cos(alpha(t)) - nu2(t)*sin(alpha(t)))"
      ]
     },
     "metadata": {},
     "output_type": "display_data"
    },
    {
     "data": {
      "text/latex": [
       "$\\displaystyle \\frac{d}{d t} y{\\left(t \\right)} = \\nu_{1}{\\left(t \\right)} \\sin{\\left(\\alpha{\\left(t \\right)} \\right)} + \\nu_{2}{\\left(t \\right)} \\cos{\\left(\\alpha{\\left(t \\right)} \\right)}$"
      ],
      "text/plain": [
       "Eq(Derivative(y(t), t), nu1(t)*sin(alpha(t)) + nu2(t)*cos(alpha(t)))"
      ]
     },
     "metadata": {},
     "output_type": "display_data"
    },
    {
     "data": {
      "text/latex": [
       "$\\displaystyle \\frac{d}{d t} \\alpha{\\left(t \\right)} = \\nu_{3}{\\left(t \\right)}$"
      ],
      "text/plain": [
       "Eq(Derivative(alpha(t), t), nu3(t))"
      ]
     },
     "metadata": {},
     "output_type": "display_data"
    }
   ],
   "source": [
    "constraints = []\n",
    "constraints += [Eq(Derivative(x,t), cos(alpha)*nu1 - sin(alpha)*nu2)]\n",
    "constraints += [Eq(Derivative(y,t), sin(alpha)*nu1 + cos(alpha)*nu2)]\n",
    "constraints += [Eq(Derivative(alpha,t), nu3)]\n",
    "display_list(constraints)"
   ]
  },
  {
   "cell_type": "markdown",
   "metadata": {},
   "source": [
    "####  Создадим объект для механической системы с уравнениями Татаринова "
   ]
  },
  {
   "cell_type": "code",
   "execution_count": 10,
   "metadata": {},
   "outputs": [],
   "source": [
    "TS = TatarinovSystem()"
   ]
  },
  {
   "cell_type": "markdown",
   "metadata": {},
   "source": [
    "#### Зададим всё что нужно для составления уравнений  "
   ]
  },
  {
   "cell_type": "code",
   "execution_count": 11,
   "metadata": {},
   "outputs": [
    {
     "name": "stdout",
     "output_type": "stream",
     "text": [
      "CPU times: user 600 ms, sys: 0 ns, total: 600 ms\n",
      "Wall time: 599 ms\n"
     ]
    }
   ],
   "source": [
    "%%time\n",
    "TS.set_L(simplify(Lval))"
   ]
  },
  {
   "cell_type": "code",
   "execution_count": 12,
   "metadata": {},
   "outputs": [],
   "source": [
    "TS.set_constraints(constraints)"
   ]
  },
  {
   "cell_type": "code",
   "execution_count": 13,
   "metadata": {},
   "outputs": [
    {
     "data": {
      "text/latex": [
       "$\\displaystyle L = \\frac{m \\left(\\nu_{1}^{2}{\\left(t \\right)} + \\nu_{2}^{2}{\\left(t \\right)}\\right)}{2} + \\frac{\\nu_{3}^{2}{\\left(t \\right)} {J}_{s}}{2}$"
      ],
      "text/plain": [
       "Eq(L, m*(nu1(t)**2 + nu2(t)**2)/2 + nu3(t)**2*J[s]/2)"
      ]
     },
     "metadata": {},
     "output_type": "display_data"
    },
    {
     "name": "stdout",
     "output_type": "stream",
     "text": [
      "CPU times: user 695 ms, sys: 0 ns, total: 695 ms\n",
      "Wall time: 694 ms\n"
     ]
    }
   ],
   "source": [
    "%%time\n",
    "L_star = TS.set_L_star(TS.sub_constraints(Lval))\n",
    "display(TS.L_star)"
   ]
  },
  {
   "cell_type": "code",
   "execution_count": 14,
   "metadata": {},
   "outputs": [],
   "source": [
    "TS.set_p([p[1], p[2], p[3]])\n",
    "TS.set_q([x, y, alpha])"
   ]
  },
  {
   "cell_type": "code",
   "execution_count": 15,
   "metadata": {},
   "outputs": [],
   "source": [
    "TS.set_omega_equations(omegas=[omega[1], omega[2], omega[3]],\n",
    "                       equations=[nu1, nu2, nu3])\n",
    "# display_list(TS.omega_equations)"
   ]
  },
  {
   "cell_type": "code",
   "execution_count": 16,
   "metadata": {},
   "outputs": [],
   "source": [
    "TS.set_v_equations(vs=[v[1], v[2], v[3]],\n",
    "                  equations=[Derivative(x,t), Derivative(y,t), Derivative(alpha,t)])\n",
    "# display_list(TS.v_equations)"
   ]
  },
  {
   "cell_type": "markdown",
   "metadata": {},
   "source": [
    "#### В данном случае сила прикладывается"
   ]
  },
  {
   "cell_type": "code",
   "execution_count": 17,
   "metadata": {},
   "outputs": [],
   "source": [
    "F = W*e['xi'] + T*e['eta']\n",
    "TS.set_F(F)\n",
    "# display(e['xi'])\n",
    "# display(e['eta'])\n",
    "# display(F)"
   ]
  },
  {
   "cell_type": "code",
   "execution_count": 18,
   "metadata": {},
   "outputs": [
    {
     "data": {
      "text/markdown": [
       "_dubug output:_ "
      ],
      "text/plain": [
       "<IPython.core.display.Markdown object>"
      ]
     },
     "metadata": {},
     "output_type": "display_data"
    },
    {
     "data": {
      "text/latex": [
       "$\\displaystyle \\sum_{Idx\\left(k\\right)=1}^{3} {P}_{Idx\\left(k\\right)} {\\omega}_{Idx\\left(k\\right)} = \\sum_{Idx\\left(k\\right)=1}^{3} {p}_{Idx\\left(k\\right)} {v}_{Idx\\left(k\\right)}$"
      ],
      "text/plain": [
       "Eq(Sum(P[k]*omega[k], (k, 1, 3)), Sum(p[k]*v[k], (k, 1, 3)))"
      ]
     },
     "metadata": {},
     "output_type": "display_data"
    },
    {
     "data": {
      "text/markdown": [
       "---"
      ],
      "text/plain": [
       "<IPython.core.display.Markdown object>"
      ]
     },
     "metadata": {},
     "output_type": "display_data"
    },
    {
     "data": {
      "text/markdown": [
       "_dubug output:_ "
      ],
      "text/plain": [
       "<IPython.core.display.Markdown object>"
      ]
     },
     "metadata": {},
     "output_type": "display_data"
    },
    {
     "data": {
      "text/latex": [
       "$\\displaystyle \\nu_{1}{\\left(t \\right)} {P}_{1} + \\nu_{2}{\\left(t \\right)} {P}_{2} + \\nu_{3}{\\left(t \\right)} {P}_{3} = \\left(\\nu_{1}{\\left(t \\right)} \\sin{\\left(\\alpha{\\left(t \\right)} \\right)} + \\nu_{2}{\\left(t \\right)} \\cos{\\left(\\alpha{\\left(t \\right)} \\right)}\\right) {p}_{2} + \\left(\\nu_{1}{\\left(t \\right)} \\cos{\\left(\\alpha{\\left(t \\right)} \\right)} - \\nu_{2}{\\left(t \\right)} \\sin{\\left(\\alpha{\\left(t \\right)} \\right)}\\right) {p}_{1} + \\nu_{3}{\\left(t \\right)} {p}_{3}$"
      ],
      "text/plain": [
       "Eq(nu1(t)*P[1] + nu2(t)*P[2] + nu3(t)*P[3], (nu1(t)*sin(alpha(t)) + nu2(t)*cos(alpha(t)))*p[2] + (nu1(t)*cos(alpha(t)) - nu2(t)*sin(alpha(t)))*p[1] + nu3(t)*p[3])"
      ]
     },
     "metadata": {},
     "output_type": "display_data"
    },
    {
     "data": {
      "text/markdown": [
       "---"
      ],
      "text/plain": [
       "<IPython.core.display.Markdown object>"
      ]
     },
     "metadata": {},
     "output_type": "display_data"
    },
    {
     "data": {
      "text/latex": [
       "$\\displaystyle {P}_{1} = \\sin{\\left(\\alpha{\\left(t \\right)} \\right)} {p}_{2} + \\cos{\\left(\\alpha{\\left(t \\right)} \\right)} {p}_{1}$"
      ],
      "text/plain": [
       "Eq(P[1], sin(alpha(t))*p[2] + cos(alpha(t))*p[1])"
      ]
     },
     "metadata": {},
     "output_type": "display_data"
    },
    {
     "data": {
      "text/latex": [
       "$\\displaystyle {P}_{2} = - \\sin{\\left(\\alpha{\\left(t \\right)} \\right)} {p}_{1} + \\cos{\\left(\\alpha{\\left(t \\right)} \\right)} {p}_{2}$"
      ],
      "text/plain": [
       "Eq(P[2], -sin(alpha(t))*p[1] + cos(alpha(t))*p[2])"
      ]
     },
     "metadata": {},
     "output_type": "display_data"
    },
    {
     "data": {
      "text/latex": [
       "$\\displaystyle {P}_{3} = {p}_{3}$"
      ],
      "text/plain": [
       "Eq(P[3], p[3])"
      ]
     },
     "metadata": {},
     "output_type": "display_data"
    }
   ],
   "source": [
    "TS.create_P()\n",
    "display_list(TS.P)"
   ]
  },
  {
   "cell_type": "code",
   "execution_count": 19,
   "metadata": {},
   "outputs": [
    {
     "data": {
      "text/latex": [
       "$\\displaystyle - T \\sin{\\left(\\alpha{\\left(t \\right)} \\right)} + W \\cos{\\left(\\alpha{\\left(t \\right)} \\right)}$"
      ],
      "text/plain": [
       "-T*sin(alpha(t)) + W*cos(alpha(t))"
      ]
     },
     "metadata": {},
     "output_type": "display_data"
    },
    {
     "data": {
      "text/latex": [
       "$\\displaystyle T \\cos{\\left(\\alpha{\\left(t \\right)} \\right)} + W \\sin{\\left(\\alpha{\\left(t \\right)} \\right)}$"
      ],
      "text/plain": [
       "T*cos(alpha(t)) + W*sin(alpha(t))"
      ]
     },
     "metadata": {},
     "output_type": "display_data"
    },
    {
     "data": {
      "text/latex": [
       "$\\displaystyle \\left(- T \\sin{\\left(\\alpha{\\left(t \\right)} \\right)} + W \\cos{\\left(\\alpha{\\left(t \\right)} \\right)}\\right) \\left(- \\eta \\cos{\\left(\\alpha{\\left(t \\right)} \\right)} - \\xi \\sin{\\left(\\alpha{\\left(t \\right)} \\right)}\\right) + \\left(T \\cos{\\left(\\alpha{\\left(t \\right)} \\right)} + W \\sin{\\left(\\alpha{\\left(t \\right)} \\right)}\\right) \\left(- \\eta \\sin{\\left(\\alpha{\\left(t \\right)} \\right)} + \\xi \\cos{\\left(\\alpha{\\left(t \\right)} \\right)}\\right)$"
      ],
      "text/plain": [
       "(-T*sin(alpha(t)) + W*cos(alpha(t)))*(-eta*cos(alpha(t)) - xi*sin(alpha(t))) + (T*cos(alpha(t)) + W*sin(alpha(t)))*(-eta*sin(alpha(t)) + xi*cos(alpha(t)))"
      ]
     },
     "metadata": {},
     "output_type": "display_data"
    }
   ],
   "source": [
    "TS.create_Q(r_p=r['p'])\n",
    "display_list(TS.Q)"
   ]
  },
  {
   "cell_type": "code",
   "execution_count": 20,
   "metadata": {},
   "outputs": [
    {
     "data": {
      "text/markdown": [
       "_dubug output:_ "
      ],
      "text/plain": [
       "<IPython.core.display.Markdown object>"
      ]
     },
     "metadata": {},
     "output_type": "display_data"
    },
    {
     "data": {
      "text/markdown": [
       "__Уравнение #0__"
      ],
      "text/plain": [
       "<IPython.core.display.Markdown object>"
      ]
     },
     "metadata": {},
     "output_type": "display_data"
    },
    {
     "data": {
      "text/markdown": [
       "---"
      ],
      "text/plain": [
       "<IPython.core.display.Markdown object>"
      ]
     },
     "metadata": {},
     "output_type": "display_data"
    },
    {
     "data": {
      "text/markdown": [
       "_dubug output:_ "
      ],
      "text/plain": [
       "<IPython.core.display.Markdown object>"
      ]
     },
     "metadata": {},
     "output_type": "display_data"
    },
    {
     "data": {
      "text/markdown": [
       "__Левая часть уравнения__"
      ],
      "text/plain": [
       "<IPython.core.display.Markdown object>"
      ]
     },
     "metadata": {},
     "output_type": "display_data"
    },
    {
     "data": {
      "text/latex": [
       "$\\displaystyle m \\frac{d}{d t} \\nu_{1}{\\left(t \\right)}$"
      ],
      "text/plain": [
       "m*Derivative(nu1(t), t)"
      ]
     },
     "metadata": {},
     "output_type": "display_data"
    },
    {
     "data": {
      "text/markdown": [
       "---"
      ],
      "text/plain": [
       "<IPython.core.display.Markdown object>"
      ]
     },
     "metadata": {},
     "output_type": "display_data"
    },
    {
     "data": {
      "text/markdown": [
       "_dubug output:_ "
      ],
      "text/plain": [
       "<IPython.core.display.Markdown object>"
      ]
     },
     "metadata": {},
     "output_type": "display_data"
    },
    {
     "data": {
      "text/markdown": [
       "__Правая часть уравнения__"
      ],
      "text/plain": [
       "<IPython.core.display.Markdown object>"
      ]
     },
     "metadata": {},
     "output_type": "display_data"
    },
    {
     "data": {
      "text/latex": [
       "$\\displaystyle W + \\left(- \\sin{\\left(\\alpha{\\left(t \\right)} \\right)} {p}_{1} + \\cos{\\left(\\alpha{\\left(t \\right)} \\right)} {p}_{2}\\right) \\nu_{3}{\\left(t \\right)}$"
      ],
      "text/plain": [
       "W + (-sin(alpha(t))*p[1] + cos(alpha(t))*p[2])*nu3(t)"
      ]
     },
     "metadata": {},
     "output_type": "display_data"
    },
    {
     "data": {
      "text/markdown": [
       "---"
      ],
      "text/plain": [
       "<IPython.core.display.Markdown object>"
      ]
     },
     "metadata": {},
     "output_type": "display_data"
    },
    {
     "data": {
      "text/markdown": [
       "_dubug output:_ "
      ],
      "text/plain": [
       "<IPython.core.display.Markdown object>"
      ]
     },
     "metadata": {},
     "output_type": "display_data"
    },
    {
     "data": {
      "text/markdown": [
       "__Уравнение #1__"
      ],
      "text/plain": [
       "<IPython.core.display.Markdown object>"
      ]
     },
     "metadata": {},
     "output_type": "display_data"
    },
    {
     "data": {
      "text/markdown": [
       "---"
      ],
      "text/plain": [
       "<IPython.core.display.Markdown object>"
      ]
     },
     "metadata": {},
     "output_type": "display_data"
    },
    {
     "data": {
      "text/markdown": [
       "_dubug output:_ "
      ],
      "text/plain": [
       "<IPython.core.display.Markdown object>"
      ]
     },
     "metadata": {},
     "output_type": "display_data"
    },
    {
     "data": {
      "text/markdown": [
       "__Левая часть уравнения__"
      ],
      "text/plain": [
       "<IPython.core.display.Markdown object>"
      ]
     },
     "metadata": {},
     "output_type": "display_data"
    },
    {
     "data": {
      "text/latex": [
       "$\\displaystyle m \\frac{d}{d t} \\nu_{2}{\\left(t \\right)}$"
      ],
      "text/plain": [
       "m*Derivative(nu2(t), t)"
      ]
     },
     "metadata": {},
     "output_type": "display_data"
    },
    {
     "data": {
      "text/markdown": [
       "---"
      ],
      "text/plain": [
       "<IPython.core.display.Markdown object>"
      ]
     },
     "metadata": {},
     "output_type": "display_data"
    },
    {
     "data": {
      "text/markdown": [
       "_dubug output:_ "
      ],
      "text/plain": [
       "<IPython.core.display.Markdown object>"
      ]
     },
     "metadata": {},
     "output_type": "display_data"
    },
    {
     "data": {
      "text/markdown": [
       "__Правая часть уравнения__"
      ],
      "text/plain": [
       "<IPython.core.display.Markdown object>"
      ]
     },
     "metadata": {},
     "output_type": "display_data"
    },
    {
     "data": {
      "text/latex": [
       "$\\displaystyle T + \\left(- \\sin{\\left(\\alpha{\\left(t \\right)} \\right)} {p}_{2} - \\cos{\\left(\\alpha{\\left(t \\right)} \\right)} {p}_{1}\\right) \\nu_{3}{\\left(t \\right)}$"
      ],
      "text/plain": [
       "T + (-sin(alpha(t))*p[2] - cos(alpha(t))*p[1])*nu3(t)"
      ]
     },
     "metadata": {},
     "output_type": "display_data"
    },
    {
     "data": {
      "text/markdown": [
       "---"
      ],
      "text/plain": [
       "<IPython.core.display.Markdown object>"
      ]
     },
     "metadata": {},
     "output_type": "display_data"
    },
    {
     "data": {
      "text/markdown": [
       "_dubug output:_ "
      ],
      "text/plain": [
       "<IPython.core.display.Markdown object>"
      ]
     },
     "metadata": {},
     "output_type": "display_data"
    },
    {
     "data": {
      "text/markdown": [
       "__Уравнение #2__"
      ],
      "text/plain": [
       "<IPython.core.display.Markdown object>"
      ]
     },
     "metadata": {},
     "output_type": "display_data"
    },
    {
     "data": {
      "text/markdown": [
       "---"
      ],
      "text/plain": [
       "<IPython.core.display.Markdown object>"
      ]
     },
     "metadata": {},
     "output_type": "display_data"
    },
    {
     "data": {
      "text/markdown": [
       "_dubug output:_ "
      ],
      "text/plain": [
       "<IPython.core.display.Markdown object>"
      ]
     },
     "metadata": {},
     "output_type": "display_data"
    },
    {
     "data": {
      "text/markdown": [
       "__Левая часть уравнения__"
      ],
      "text/plain": [
       "<IPython.core.display.Markdown object>"
      ]
     },
     "metadata": {},
     "output_type": "display_data"
    },
    {
     "data": {
      "text/latex": [
       "$\\displaystyle \\frac{d}{d t} \\nu_{3}{\\left(t \\right)} {J}_{s}$"
      ],
      "text/plain": [
       "Derivative(nu3(t), t)*J[s]"
      ]
     },
     "metadata": {},
     "output_type": "display_data"
    },
    {
     "data": {
      "text/markdown": [
       "---"
      ],
      "text/plain": [
       "<IPython.core.display.Markdown object>"
      ]
     },
     "metadata": {},
     "output_type": "display_data"
    },
    {
     "data": {
      "text/markdown": [
       "_dubug output:_ "
      ],
      "text/plain": [
       "<IPython.core.display.Markdown object>"
      ]
     },
     "metadata": {},
     "output_type": "display_data"
    },
    {
     "data": {
      "text/markdown": [
       "__Правая часть уравнения__"
      ],
      "text/plain": [
       "<IPython.core.display.Markdown object>"
      ]
     },
     "metadata": {},
     "output_type": "display_data"
    },
    {
     "data": {
      "text/latex": [
       "$\\displaystyle T \\xi - W \\eta - \\left(- \\sin{\\left(\\alpha{\\left(t \\right)} \\right)} {p}_{1} + \\cos{\\left(\\alpha{\\left(t \\right)} \\right)} {p}_{2}\\right) \\nu_{1}{\\left(t \\right)} - \\left(- \\sin{\\left(\\alpha{\\left(t \\right)} \\right)} {p}_{2} - \\cos{\\left(\\alpha{\\left(t \\right)} \\right)} {p}_{1}\\right) \\nu_{2}{\\left(t \\right)}$"
      ],
      "text/plain": [
       "T*xi - W*eta - (-sin(alpha(t))*p[1] + cos(alpha(t))*p[2])*nu1(t) - (-sin(alpha(t))*p[2] - cos(alpha(t))*p[1])*nu2(t)"
      ]
     },
     "metadata": {},
     "output_type": "display_data"
    },
    {
     "data": {
      "text/markdown": [
       "---"
      ],
      "text/plain": [
       "<IPython.core.display.Markdown object>"
      ]
     },
     "metadata": {},
     "output_type": "display_data"
    }
   ],
   "source": [
    "for i in range(3):\n",
    "    TS.tatarinov_equation(i)"
   ]
  },
  {
   "cell_type": "code",
   "execution_count": 23,
   "metadata": {},
   "outputs": [
    {
     "data": {
      "text/latex": [
       "$\\displaystyle m \\frac{d}{d t} \\nu_{1}{\\left(t \\right)} = W + m \\nu_{2}{\\left(t \\right)} \\nu_{3}{\\left(t \\right)}$"
      ],
      "text/plain": [
       "Eq(m*Derivative(nu1(t), t), W + m*nu2(t)*nu3(t))"
      ]
     },
     "metadata": {},
     "output_type": "display_data"
    },
    {
     "data": {
      "text/latex": [
       "$\\displaystyle m \\frac{d}{d t} \\nu_{2}{\\left(t \\right)} = T - m \\nu_{1}{\\left(t \\right)} \\nu_{3}{\\left(t \\right)}$"
      ],
      "text/plain": [
       "Eq(m*Derivative(nu2(t), t), T - m*nu1(t)*nu3(t))"
      ]
     },
     "metadata": {},
     "output_type": "display_data"
    },
    {
     "data": {
      "text/latex": [
       "$\\displaystyle T \\xi - W \\eta = \\frac{d}{d t} \\nu_{3}{\\left(t \\right)} {J}_{s}$"
      ],
      "text/plain": [
       "Eq(T*xi - W*eta, Derivative(nu3(t), t)*J[s])"
      ]
     },
     "metadata": {},
     "output_type": "display_data"
    }
   ],
   "source": [
    "display_list(TS.tatarinov_equations)"
   ]
  },
  {
   "cell_type": "code",
   "execution_count": 27,
   "metadata": {},
   "outputs": [
    {
     "name": "stdout",
     "output_type": "stream",
     "text": [
      "PWD: /home/alice/Documents/Course/.bak/16apr2020/tatarinov_equation/notebooks, Database root: ../data/body_with_F\n",
      "{'description': 'Уравнения Татаринова'}\n",
      "Уравнения Татаринова\n"
     ]
    }
   ],
   "source": [
    "db.save(Matrix(TS.tatarinov_equations), 'TEqs', description='Уравнения Татаринова')"
   ]
  },
  {
   "cell_type": "code",
   "execution_count": 30,
   "metadata": {},
   "outputs": [
    {
     "data": {
      "text/plain": [
       "[Eq(m*Derivative(nu1(t), t), W + m*nu2(t)*nu3(t)),\n",
       " Eq(m*Derivative(nu2(t), t), T - m*nu1(t)*nu3(t)),\n",
       " Eq(T*xi - W*eta, Derivative(nu3(t), t)*J[s])]"
      ]
     },
     "execution_count": 30,
     "metadata": {},
     "output_type": "execute_result"
    }
   ],
   "source": [
    "TS.tatarinov_equations"
   ]
  }
 ],
 "metadata": {
  "kernelspec": {
   "display_name": "Python 3",
   "language": "python",
   "name": "python3"
  },
  "language_info": {
   "codemirror_mode": {
    "name": "ipython",
    "version": 3
   },
   "file_extension": ".py",
   "mimetype": "text/x-python",
   "name": "python",
   "nbconvert_exporter": "python",
   "pygments_lexer": "ipython3",
   "version": "3.7.7"
  }
 },
 "nbformat": 4,
 "nbformat_minor": 4
}
