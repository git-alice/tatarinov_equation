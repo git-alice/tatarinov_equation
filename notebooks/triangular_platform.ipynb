{
 "cells": [
  {
   "cell_type": "markdown",
   "metadata": {},
   "source": [
    "### Треугольная платформа на колесах"
   ]
  },
  {
   "cell_type": "code",
   "execution_count": 1,
   "metadata": {},
   "outputs": [],
   "source": [
    "%load_ext autoreload\n",
    "%autoreload 2\n",
    "\n",
    "import sympy as sp\n",
    "from sympy import Derivative, Symbol, IndexedBase, Idx, Sum, Function, Matrix, Add, Eq\n",
    "from sympy import diff, symbols, solve, linsolve, simplify, poly, pprint, factor, integrate, lambdify\n",
    "from sympy import cos, sin, pi\n",
    "\n",
    "# syspath trick\n",
    "import sys\n",
    "sys.path.append('../')\n",
    "\n",
    "from tatarinov.database.singleton import db\n",
    "db.set_root('../data/triangular_platform')\n",
    "\n",
    "\n",
    "from tatarinov.utils.jupyter import display_list, display_obj\n",
    "# from tatarinov.core.variables import *\n",
    "from tatarinov.core.tatarinov import TatarinovSystem\n",
    "\n",
    "from tatarinov.problems.triangular_platform.variables import *\n",
    "from tatarinov.problems.triangular_platform.structure import *\n",
    "from tatarinov.problems.triangular_platform.functions import euler, scalar"
   ]
  },
  {
   "cell_type": "markdown",
   "metadata": {},
   "source": [
    "#### Псевдоскорости $\\nu_1$, $\\nu_2$\n",
    "#### Координаты $\\theta_1$, $\\psi_1$, $\\alpha$\n",
    "#### Связи $\\psi_1(\\nu_1,\\nu_2), \\theta_1(\\nu_1,\\nu_2)$"
   ]
  },
  {
   "cell_type": "code",
   "execution_count": 2,
   "metadata": {},
   "outputs": [],
   "source": [
    "# скорости точек\n",
    "\n",
    "v['S'] = euler(S, P)\n",
    "v['P'] = euler(P, C)\n",
    "v['C'] = euler(C, D)\n",
    "v['D'] = lambda i: Matrix([0,0,0])"
   ]
  },
  {
   "cell_type": "code",
   "execution_count": 3,
   "metadata": {},
   "outputs": [],
   "source": [
    "# угловаые скорости\n",
    "\n",
    "omega['platform']= lambda i: Derivative(alpha,t)*e['z']\n",
    "omega['fork']    = lambda i: omega['platform'](i) + Derivative(theta[i],t)*e['z']\n",
    "omega['wheel']   = lambda i: omega['fork'](i) + Derivative(psi[i],t)*n_wheel(i)"
   ]
  },
  {
   "cell_type": "code",
   "execution_count": 31,
   "metadata": {},
   "outputs": [],
   "source": [
    "# псевдоскорости\n",
    "\n",
    "eq['nu1'] = lambda i: scalar(v['S'](i), e['xi'])\n",
    "eq['nu2'] = lambda i: scalar(v['S'](i), e['eta'])"
   ]
  },
  {
   "cell_type": "code",
   "execution_count": 32,
   "metadata": {},
   "outputs": [
    {
     "name": "stdout",
     "output_type": "stream",
     "text": [
      "PWD: /home/alice/Documents/Course/.bak/16apr2020/tatarinov_equation/notebooks, Database root: ../data/triangular_platform\n"
     ]
    }
   ],
   "source": [
    "# db.save(simplify(Matrix([Eq(nu[1], eq['nu1'](0)),\n",
    "#                          Eq(nu[2], eq['nu2'](0))])),\n",
    "#         'nu1,nu2',\n",
    "#         description='Псевдоскорости nu1, nu2')"
   ]
  },
  {
   "cell_type": "code",
   "execution_count": 14,
   "metadata": {},
   "outputs": [],
   "source": [
    "# связи\n",
    "\n",
    "eq['f(nu1,nu2)'] = lambda i: solve(\n",
    "                      [Eq(eq['nu1'](i), nu[1]), Eq(eq['nu2'](i), nu[2])],\n",
    "                      [Derivative(psi[i],t), Derivative(theta[i],t)],\n",
    "                      dict=True)[0]; # возвращает словарь с выражениями для diff(psi) и diff(theta)\n",
    "\n",
    "eq['diff(psi)_nu']   = lambda i: eq['f(nu1,nu2)'](i)[Derivative(psi[i],t)]\n",
    "eq['diff(theta)_nu'] = lambda i: eq['f(nu1,nu2)'](i)[Derivative(theta[i],t)]"
   ]
  },
  {
   "cell_type": "code",
   "execution_count": 15,
   "metadata": {},
   "outputs": [
    {
     "name": "stdout",
     "output_type": "stream",
     "text": [
      "PWD: /home/alice/Documents/Course/.bak/16apr2020/tatarinov_equation/notebooks, Database root: ../data/triangular_platform\n"
     ]
    }
   ],
   "source": [
    "# db.save(Matrix([Eq(Derivative(psi[0], t), eq['diff(psi)_nu'](0)),\n",
    "#                 Eq(Derivative(theta[0], t), eq['diff(theta)_nu'](0))]),\n",
    "#         'constraints',\n",
    "#         description='Связи diff(psi), diff(theta) для колеса 0')"
   ]
  },
  {
   "cell_type": "markdown",
   "metadata": {},
   "source": [
    "### Лагранжиан для платформы\n"
   ]
  },
  {
   "cell_type": "markdown",
   "metadata": {},
   "source": [
    "$$ L = T - V $$ следовательно\n",
    "$$ T = T_{pl} + T_{fo} + T_{wh} $$ где\n",
    "$$ T_{pl} = \\frac{m_{pl} v_S^2}{2} + \\frac{(J_{pl} \\omega_{pl}, \\omega_{pl})}{2} $$\n",
    "$$ T_{fo} = 0$$\n",
    "$$ T_{wh} = \\frac{m_{wh} v_S^2}{2} + \\frac{(J_{wh} \\omega_{wh}, \\omega_{wh})}{2} $$"
   ]
  },
  {
   "cell_type": "markdown",
   "metadata": {},
   "source": [
    "### Платформа"
   ]
  },
  {
   "cell_type": "code",
   "execution_count": 16,
   "metadata": {},
   "outputs": [],
   "source": [
    "# Момент инерции платформы\n",
    "\n",
    "J['platform'] = eye(3, 3) * a"
   ]
  },
  {
   "cell_type": "code",
   "execution_count": 26,
   "metadata": {},
   "outputs": [
    {
     "name": "stdout",
     "output_type": "stream",
     "text": [
      "PWD: /home/alice/Documents/Course/.bak/16apr2020/tatarinov_equation/notebooks, Database root: ../data/triangular_platform\n"
     ]
    }
   ],
   "source": [
    "# db.save(J['platform'],\n",
    "#         'J_platform',\n",
    "#         description='Момент инерации платформы относительно связанной системы отсчета')"
   ]
  },
  {
   "cell_type": "markdown",
   "metadata": {},
   "source": [
    "### Колесо"
   ]
  },
  {
   "cell_type": "code",
   "execution_count": 17,
   "metadata": {},
   "outputs": [],
   "source": [
    "# Момент инерции колесо\n",
    "\n",
    "J['wheel'] = Matrix([[b,0,0],[0,c,0],[0,0,b]])"
   ]
  },
  {
   "cell_type": "code",
   "execution_count": 23,
   "metadata": {},
   "outputs": [
    {
     "name": "stdout",
     "output_type": "stream",
     "text": [
      "PWD: /home/alice/Documents/Course/.bak/16apr2020/tatarinov_equation/notebooks, Database root: ../data/triangular_platform\n"
     ]
    }
   ],
   "source": [
    "# db.save(J['wheel'],\n",
    "#         'J_wheel',\n",
    "#         description='Момент инерации колеса относительно связанной системы отсчета')"
   ]
  },
  {
   "cell_type": "markdown",
   "metadata": {},
   "source": [
    "_В одинаковых базисах нужно записывать угловую скорость и момент инерции!_"
   ]
  },
  {
   "cell_type": "code",
   "execution_count": 19,
   "metadata": {},
   "outputs": [],
   "source": [
    "# Угловая скорость колеса в СО связанной с колесом\n",
    "\n",
    "omega['wheel_in'] = lambda i: psi[i].diff(t)*e['y'] + (theta[i].diff(t) + alpha.diff(t))*e['z']"
   ]
  },
  {
   "cell_type": "code",
   "execution_count": 22,
   "metadata": {},
   "outputs": [],
   "source": [
    "# db.save(omega['wheel_in'](0),\n",
    "#         'wheel_in0',\n",
    "#         description='Угловая скорость колеса в связанной системе отсчета')"
   ]
  },
  {
   "cell_type": "code",
   "execution_count": null,
   "metadata": {},
   "outputs": [],
   "source": []
  }
 ],
 "metadata": {
  "kernelspec": {
   "display_name": "Python 3",
   "language": "python",
   "name": "python3"
  },
  "language_info": {
   "codemirror_mode": {
    "name": "ipython",
    "version": 3
   },
   "file_extension": ".py",
   "mimetype": "text/x-python",
   "name": "python",
   "nbconvert_exporter": "python",
   "pygments_lexer": "ipython3",
   "version": "3.7.7"
  }
 },
 "nbformat": 4,
 "nbformat_minor": 4
}
