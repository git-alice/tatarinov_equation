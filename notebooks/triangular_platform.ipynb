{
 "cells": [
  {
   "cell_type": "markdown",
   "metadata": {},
   "source": [
    "### Треугольная платформа на колесах"
   ]
  },
  {
   "cell_type": "code",
   "execution_count": 39,
   "metadata": {},
   "outputs": [
    {
     "name": "stdout",
     "output_type": "stream",
     "text": [
      "The autoreload extension is already loaded. To reload it, use:\n",
      "  %reload_ext autoreload\n"
     ]
    }
   ],
   "source": [
    "%load_ext autoreload\n",
    "%autoreload 2\n",
    "\n",
    "import sympy as sp\n",
    "from sympy import Derivative, Symbol, IndexedBase, Idx, Sum, Function, Matrix, Add, Eq\n",
    "from sympy import diff, symbols, solve, linsolve, simplify, poly, pprint, factor, integrate, lambdify\n",
    "from sympy import cos, sin, pi\n",
    "\n",
    "# syspath trick\n",
    "import sys\n",
    "sys.path.append('../')\n",
    "\n",
    "from tatarinov.database.singleton import db\n",
    "db.set_root('../data/triangular_platform')\n",
    "\n",
    "\n",
    "from tatarinov.utils.jupyter import display_list, display_obj\n",
    "# from tatarinov.core.variables import *\n",
    "from tatarinov.core.tatarinov import TatarinovSystem\n",
    "\n",
    "from tatarinov.problems.triangular_platform.variables import *\n",
    "from tatarinov.problems.triangular_platform.structure import *\n",
    "from tatarinov.problems.triangular_platform.functions import euler, scalar\n",
    "from tatarinov.utils.sympy import MatrixElDerivative"
   ]
  },
  {
   "cell_type": "markdown",
   "metadata": {},
   "source": [
    "#### Псевдоскорости $\\nu_1$, $\\nu_2$\n",
    "#### Координаты $\\theta_1$, $\\psi_1$, $\\alpha$\n",
    "#### Связи $\\psi_1(\\nu_1,\\nu_2), \\theta_1(\\nu_1,\\nu_2)$"
   ]
  },
  {
   "cell_type": "code",
   "execution_count": 2,
   "metadata": {},
   "outputs": [],
   "source": [
    "# скорости точек\n",
    "\n",
    "v['S'] = euler(S, P)\n",
    "v['P'] = euler(P, C)\n",
    "v['C'] = euler(C, D)\n",
    "v['D'] = lambda i: Matrix([0,0,0])"
   ]
  },
  {
   "cell_type": "code",
   "execution_count": 3,
   "metadata": {},
   "outputs": [],
   "source": [
    "# угловаые скорости\n",
    "\n",
    "omega['platform']= lambda i: Derivative(alpha,t)*e['z']\n",
    "omega['fork']    = lambda i: omega['platform'](i) + Derivative(theta[i],t)*e['z']\n",
    "omega['wheel']   = lambda i: omega['fork'](i) + Derivative(psi[i],t)*n_wheel(i)"
   ]
  },
  {
   "cell_type": "code",
   "execution_count": 36,
   "metadata": {},
   "outputs": [],
   "source": [
    "# псевдоскорости nu1, nu2\n",
    "\n",
    "eq['nu1'] = lambda i: scalar(v['S'](i), e['xi'])\n",
    "eq['nu2'] = lambda i: scalar(v['S'](i), e['eta'])\n",
    "\n",
    "eq['nu1(x,y)'] = Eq(nu[1], Derivative(x,t)*cos(alpha) + Derivative(y,t)*sin(alpha))\n",
    "eq['nu2(x,y)'] = Eq(nu[2], -Derivative(x,t)*sin(alpha) + Derivative(y,t)*cos(alpha))"
   ]
  },
  {
   "cell_type": "code",
   "execution_count": 35,
   "metadata": {},
   "outputs": [],
   "source": [
    "# nu1(x,y), nu2(x,y)\n",
    "# x(nu1,nu2), y(nu1,nu2)\n",
    "\n",
    "eq['diff_x(nu1,nu2)'], eq['diff_y(nu1,nu2)'] = linsolve([eq['nu1(x,y)'], eq['nu2(x,y)']], (Derivative(x, t), Derivative(y, t))).args[0]"
   ]
  },
  {
   "cell_type": "code",
   "execution_count": 32,
   "metadata": {},
   "outputs": [
    {
     "name": "stdout",
     "output_type": "stream",
     "text": [
      "PWD: /home/alice/Documents/Course/.bak/16apr2020/tatarinov_equation/notebooks, Database root: ../data/triangular_platform\n"
     ]
    }
   ],
   "source": [
    "# db.save(simplify(Matrix([Eq(nu[1], eq['nu1'](0)),\n",
    "#                          Eq(nu[2], eq['nu2'](0))])),\n",
    "#         'nu1,nu2',\n",
    "#         description='Псевдоскорости nu1, nu2')"
   ]
  },
  {
   "cell_type": "code",
   "execution_count": 14,
   "metadata": {},
   "outputs": [],
   "source": [
    "# связи\n",
    "\n",
    "eq['f(nu1,nu2)'] = lambda i: solve(\n",
    "                      [Eq(eq['nu1'](i), nu[1]), Eq(eq['nu2'](i), nu[2])],\n",
    "                      [Derivative(psi[i],t), Derivative(theta[i],t)],\n",
    "                      dict=True)[0]; # возвращает словарь с выражениями для diff(psi) и diff(theta)\n",
    "\n",
    "eq['diff(psi)_nu']   = lambda i: eq['f(nu1,nu2)'](i)[Derivative(psi[i],t)]\n",
    "eq['diff(theta)_nu'] = lambda i: eq['f(nu1,nu2)'](i)[Derivative(theta[i],t)]"
   ]
  },
  {
   "cell_type": "code",
   "execution_count": 15,
   "metadata": {},
   "outputs": [
    {
     "name": "stdout",
     "output_type": "stream",
     "text": [
      "PWD: /home/alice/Documents/Course/.bak/16apr2020/tatarinov_equation/notebooks, Database root: ../data/triangular_platform\n"
     ]
    }
   ],
   "source": [
    "# db.save(Matrix([Eq(Derivative(psi[0], t), eq['diff(psi)_nu'](0)),\n",
    "#                 Eq(Derivative(theta[0], t), eq['diff(theta)_nu'](0))]),\n",
    "#         'constraints',\n",
    "#         description='Связи diff(psi), diff(theta) для колеса 0')"
   ]
  },
  {
   "cell_type": "markdown",
   "metadata": {},
   "source": [
    "### Лагранжиан для платформы\n"
   ]
  },
  {
   "cell_type": "markdown",
   "metadata": {},
   "source": [
    "$$ L = T - V $$ следовательно\n",
    "$$ T = T_{pl} + T_{fo} + T_{wh} $$ где\n",
    "$$ T_{pl} = \\frac{m_{pl} v_S^2}{2} + \\frac{(J_{pl} \\omega_{pl}, \\omega_{pl})}{2} $$\n",
    "$$ T_{fo} = 0$$\n",
    "$$ T_{wh} = \\frac{m_{wh} v_S^2}{2} + \\frac{(J_{wh} \\omega_{wh}, \\omega_{wh})}{2} $$"
   ]
  },
  {
   "cell_type": "markdown",
   "metadata": {},
   "source": [
    "### Платформа"
   ]
  },
  {
   "cell_type": "code",
   "execution_count": 16,
   "metadata": {},
   "outputs": [],
   "source": [
    "# Момент инерции платформы\n",
    "\n",
    "J['platform'] = eye(3, 3) * a"
   ]
  },
  {
   "cell_type": "code",
   "execution_count": 26,
   "metadata": {},
   "outputs": [
    {
     "name": "stdout",
     "output_type": "stream",
     "text": [
      "PWD: /home/alice/Documents/Course/.bak/16apr2020/tatarinov_equation/notebooks, Database root: ../data/triangular_platform\n"
     ]
    }
   ],
   "source": [
    "# db.save(J['platform'],\n",
    "#         'J_platform',\n",
    "#         description='Момент инерации платформы относительно связанной системы отсчета')"
   ]
  },
  {
   "cell_type": "markdown",
   "metadata": {},
   "source": [
    "### Колесо"
   ]
  },
  {
   "cell_type": "code",
   "execution_count": 17,
   "metadata": {},
   "outputs": [],
   "source": [
    "# Момент инерции колесо\n",
    "\n",
    "J['wheel'] = Matrix([[b,0,0],[0,c,0],[0,0,b]])"
   ]
  },
  {
   "cell_type": "code",
   "execution_count": 23,
   "metadata": {},
   "outputs": [
    {
     "name": "stdout",
     "output_type": "stream",
     "text": [
      "PWD: /home/alice/Documents/Course/.bak/16apr2020/tatarinov_equation/notebooks, Database root: ../data/triangular_platform\n"
     ]
    }
   ],
   "source": [
    "# db.save(J['wheel'],\n",
    "#         'J_wheel',\n",
    "#         description='Момент инерации колеса относительно связанной системы отсчета')"
   ]
  },
  {
   "cell_type": "markdown",
   "metadata": {},
   "source": [
    "_В одинаковых базисах нужно записывать угловую скорость и момент инерции!_"
   ]
  },
  {
   "cell_type": "code",
   "execution_count": 19,
   "metadata": {},
   "outputs": [],
   "source": [
    "# Угловая скорость колеса в СО связанной с колесом\n",
    "\n",
    "omega['wheel_in'] = lambda i: psi[i].diff(t)*e['y'] + (theta[i].diff(t) + alpha.diff(t))*e['z']"
   ]
  },
  {
   "cell_type": "code",
   "execution_count": 22,
   "metadata": {},
   "outputs": [],
   "source": [
    "# db.save(omega['wheel_in'](0),\n",
    "#         'wheel_in0',\n",
    "#         description='Угловая скорость колеса в связанной системе отсчета')"
   ]
  },
  {
   "cell_type": "markdown",
   "metadata": {},
   "source": [
    "### Моменты сил\n",
    "####  _Платформа_ $$ \\vec{M} = -W_0*\\vec{e}_z $$ \n",
    "####  _Вилки_ $$ \\vec{M} = W_0*\\vec{e}_z - T_0*\\vec{n}_0 $$ \n",
    "####  _Колеса_ $$ \\vec{M} = T_0*\\vec{n}_0 $$ "
   ]
  },
  {
   "cell_type": "code",
   "execution_count": 40,
   "metadata": {},
   "outputs": [],
   "source": [
    "# Лагранжиан \n",
    "\n",
    "i = 0\n",
    "\n",
    "pl = m['platform']/2*(Derivative(x, t)**2 + Derivative(y, t)**2)\n",
    "pl += (J['platform']*omega['platform'](0)).dot(omega['platform'](0)) / 2\n",
    "\n",
    "wh = m['wheel']/2*(MatrixElDerivative(Matrix([x,y,0]) + SP(i) + PC(i))).dot(MatrixElDerivative(Matrix([x,y,0]) + SP(i) + PC(i)))\n",
    "wh += (J['wheel']*omega['wheel_in'](0)).dot(omega['wheel_in'](0)) / 2"
   ]
  },
  {
   "cell_type": "code",
   "execution_count": 47,
   "metadata": {},
   "outputs": [
    {
     "name": "stdout",
     "output_type": "stream",
     "text": [
      "PWD: /home/alice/Documents/Course/.bak/16apr2020/tatarinov_equation/notebooks, Database root: ../data/triangular_platform\n",
      "PWD: /home/alice/Documents/Course/.bak/16apr2020/tatarinov_equation/notebooks, Database root: ../data/triangular_platform\n"
     ]
    }
   ],
   "source": [
    "# db.save(pl,\n",
    "#         'L_platform',\n",
    "#         description='Часть Лагранжиана относящееся к платформе')\n",
    "# db.save(pl,\n",
    "#         'L_wheel',\n",
    "#         description='Часть Лагранжиана относящееся к колесу')"
   ]
  },
  {
   "cell_type": "code",
   "execution_count": 44,
   "metadata": {},
   "outputs": [
    {
     "data": {
      "text/latex": [
       "$\\displaystyle L = \\frac{a \\left(\\frac{d}{d t} \\alpha{\\left(t \\right)}\\right)^{2}}{2} + \\frac{b \\left(\\frac{d}{d t} \\alpha{\\left(t \\right)} + \\frac{d}{d t} \\theta_{0}{\\left(t \\right)}\\right)^{2}}{2} + \\frac{c \\left(\\frac{d}{d t} \\psi_{0}{\\left(t \\right)}\\right)^{2}}{2} + \\frac{m_{1} \\left(\\left(\\frac{d}{d t} x{\\left(t \\right)}\\right)^{2} + \\left(\\frac{d}{d t} y{\\left(t \\right)}\\right)^{2}\\right)}{2} + \\frac{m_{2} \\left(\\left(R \\sin{\\left(\\beta_{0} + \\alpha{\\left(t \\right)} \\right)} \\frac{d}{d t} \\alpha{\\left(t \\right)} + d \\left(\\frac{d}{d t} \\alpha{\\left(t \\right)} + \\frac{d}{d t} \\theta_{0}{\\left(t \\right)}\\right) \\sin{\\left(\\alpha{\\left(t \\right)} + \\theta_{0}{\\left(t \\right)} \\right)} - \\frac{d}{d t} x{\\left(t \\right)}\\right)^{2} + \\left(R \\cos{\\left(\\beta_{0} + \\alpha{\\left(t \\right)} \\right)} \\frac{d}{d t} \\alpha{\\left(t \\right)} + d \\left(\\frac{d}{d t} \\alpha{\\left(t \\right)} + \\frac{d}{d t} \\theta_{0}{\\left(t \\right)}\\right) \\cos{\\left(\\alpha{\\left(t \\right)} + \\theta_{0}{\\left(t \\right)} \\right)} + \\frac{d}{d t} y{\\left(t \\right)}\\right)^{2}\\right)}{2}$"
      ],
      "text/plain": [
       "Eq(L, a*Derivative(alpha(t), t)**2/2 + b*(Derivative(alpha(t), t) + Derivative(theta0(t), t))**2/2 + c*Derivative(psi0(t), t)**2/2 + m1*(Derivative(x(t), t)**2 + Derivative(y(t), t)**2)/2 + m2*((R*sin(beta0 + alpha(t))*Derivative(alpha(t), t) + d*(Derivative(alpha(t), t) + Derivative(theta0(t), t))*sin(alpha(t) + theta0(t)) - Derivative(x(t), t))**2 + (R*cos(beta0 + alpha(t))*Derivative(alpha(t), t) + d*(Derivative(alpha(t), t) + Derivative(theta0(t), t))*cos(alpha(t) + theta0(t)) + Derivative(y(t), t))**2)/2)"
      ]
     },
     "execution_count": 44,
     "metadata": {},
     "output_type": "execute_result"
    }
   ],
   "source": [
    "Lval = Eq(symbols('L'), simplify(pl + wh))\n",
    "Lval"
   ]
  },
  {
   "cell_type": "code",
   "execution_count": 48,
   "metadata": {},
   "outputs": [
    {
     "name": "stdout",
     "output_type": "stream",
     "text": [
      "PWD: /home/alice/Documents/Course/.bak/16apr2020/tatarinov_equation/notebooks, Database root: ../data/triangular_platform\n"
     ]
    }
   ],
   "source": [
    "# db.save(Lval,\n",
    "#         'L',\n",
    "#         desciption='Лагранжиан')"
   ]
  },
  {
   "cell_type": "markdown",
   "metadata": {},
   "source": [
    "### Связи"
   ]
  },
  {
   "cell_type": "code",
   "execution_count": 49,
   "metadata": {},
   "outputs": [
    {
     "data": {
      "text/latex": [
       "$\\displaystyle \\frac{d}{d t} x{\\left(t \\right)} = \\nu_{1}{\\left(t \\right)} \\cos{\\left(\\alpha{\\left(t \\right)} \\right)} - \\nu_{2}{\\left(t \\right)} \\sin{\\left(\\alpha{\\left(t \\right)} \\right)}$"
      ],
      "text/plain": [
       "Eq(Derivative(x(t), t), nu1(t)*cos(alpha(t)) - nu2(t)*sin(alpha(t)))"
      ]
     },
     "metadata": {},
     "output_type": "display_data"
    },
    {
     "data": {
      "text/latex": [
       "$\\displaystyle \\frac{d}{d t} y{\\left(t \\right)} = \\nu_{1}{\\left(t \\right)} \\sin{\\left(\\alpha{\\left(t \\right)} \\right)} + \\nu_{2}{\\left(t \\right)} \\cos{\\left(\\alpha{\\left(t \\right)} \\right)}$"
      ],
      "text/plain": [
       "Eq(Derivative(y(t), t), nu1(t)*sin(alpha(t)) + nu2(t)*cos(alpha(t)))"
      ]
     },
     "metadata": {},
     "output_type": "display_data"
    },
    {
     "data": {
      "text/latex": [
       "$\\displaystyle \\frac{d}{d t} \\alpha{\\left(t \\right)} = \\nu_{3}{\\left(t \\right)}$"
      ],
      "text/plain": [
       "Eq(Derivative(alpha(t), t), nu3(t))"
      ]
     },
     "metadata": {},
     "output_type": "display_data"
    },
    {
     "data": {
      "text/latex": [
       "$\\displaystyle \\frac{d}{d t} \\theta_{0}{\\left(t \\right)} = \\frac{- R \\nu_{3}{\\left(t \\right)} \\cos{\\left(\\beta_{0} - \\theta_{0}{\\left(t \\right)} \\right)} - d \\nu_{3}{\\left(t \\right)} + \\nu_{1}{\\left(t \\right)} \\sin{\\left(\\theta_{0}{\\left(t \\right)} \\right)} - \\nu_{2}{\\left(t \\right)} \\cos{\\left(\\theta_{0}{\\left(t \\right)} \\right)}}{d}$"
      ],
      "text/plain": [
       "Eq(Derivative(theta0(t), t), (-R*nu3(t)*cos(beta0 - theta0(t)) - d*nu3(t) + nu1(t)*sin(theta0(t)) - nu2(t)*cos(theta0(t)))/d)"
      ]
     },
     "metadata": {},
     "output_type": "display_data"
    },
    {
     "data": {
      "text/latex": [
       "$\\displaystyle \\frac{d}{d t} \\psi_{0}{\\left(t \\right)} = \\frac{- R \\nu_{3}{\\left(t \\right)} \\sin{\\left(\\beta_{0} - \\theta_{0}{\\left(t \\right)} \\right)} + \\nu_{1}{\\left(t \\right)} \\cos{\\left(\\theta_{0}{\\left(t \\right)} \\right)} + \\nu_{2}{\\left(t \\right)} \\sin{\\left(\\theta_{0}{\\left(t \\right)} \\right)}}{r}$"
      ],
      "text/plain": [
       "Eq(Derivative(psi0(t), t), (-R*nu3(t)*sin(beta0 - theta0(t)) + nu1(t)*cos(theta0(t)) + nu2(t)*sin(theta0(t)))/r)"
      ]
     },
     "metadata": {},
     "output_type": "display_data"
    }
   ],
   "source": [
    "constraints = []\n",
    "constraints += [Eq(Derivative(x, t), eq['diff_x(nu1,nu2)'])]\n",
    "constraints += [Eq(Derivative(y, t), eq['diff_y(nu1,nu2)'])]\n",
    "constraints += [Eq(Derivative(alpha, t), nu[3])]\n",
    "constraints += [Eq(Derivative(theta[0], t), simplify(eq['diff(theta)_nu'](0))).subs({Derivative(alpha, t): nu[3]})]\n",
    "constraints += [Eq(Derivative(psi[0], t), simplify(eq['diff(psi)_nu'](0))).subs({Derivative(alpha, t): nu[3]})]\n",
    "display_list(constraints)"
   ]
  },
  {
   "cell_type": "code",
   "execution_count": 50,
   "metadata": {},
   "outputs": [
    {
     "name": "stdout",
     "output_type": "stream",
     "text": [
      "PWD: /home/alice/Documents/Course/.bak/16apr2020/tatarinov_equation/notebooks, Database root: ../data/triangular_platform\n"
     ]
    }
   ],
   "source": [
    "# db.save(constraints,\n",
    "#         'constraints',\n",
    "#         description='Связи, уже разрешенные относительно старших производных')"
   ]
  },
  {
   "cell_type": "code",
   "execution_count": null,
   "metadata": {},
   "outputs": [],
   "source": []
  }
 ],
 "metadata": {
  "kernelspec": {
   "display_name": "Python 3",
   "language": "python",
   "name": "python3"
  },
  "language_info": {
   "codemirror_mode": {
    "name": "ipython",
    "version": 3
   },
   "file_extension": ".py",
   "mimetype": "text/x-python",
   "name": "python",
   "nbconvert_exporter": "python",
   "pygments_lexer": "ipython3",
   "version": "3.7.7"
  }
 },
 "nbformat": 4,
 "nbformat_minor": 4
}
