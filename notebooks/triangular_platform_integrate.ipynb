{
 "cells": [
  {
   "cell_type": "code",
   "execution_count": 58,
   "metadata": {},
   "outputs": [
    {
     "name": "stdout",
     "output_type": "stream",
     "text": [
      "The autoreload extension is already loaded. To reload it, use:\n",
      "  %reload_ext autoreload\n"
     ]
    }
   ],
   "source": [
    "%load_ext autoreload\n",
    "%autoreload 2\n",
    "\n",
    "import sympy as sp\n",
    "import numpy as np\n",
    "from sympy import Derivative, Symbol, IndexedBase, Idx, Sum, Function, Matrix, Add, Eq\n",
    "from sympy import diff, symbols, solve, linsolve, simplify, poly, pprint, factor, integrate, lambdify\n",
    "from sympy import cos, sin, pi\n",
    "\n",
    "# syspath trick\n",
    "import sys\n",
    "sys.path.append('../')\n",
    "\n",
    "from tatarinov.database.singleton import db\n",
    "db.set_root('../data/triangular_platform')\n",
    "\n",
    "\n",
    "from tatarinov.utils.jupyter import display_list, display_obj, display_from_what, display_list_from_what\n",
    "from tatarinov.core.variables import _omega, _v\n",
    "from tatarinov.core.tatarinov import TatarinovSystem\n",
    "from tatarinov.core.numerical import Integrator\n",
    "\n",
    "from tatarinov.problems.triangular_platform.variables import *\n",
    "from tatarinov.problems.triangular_platform.structure import *\n",
    "from tatarinov.problems.triangular_platform.functions import euler, scalar\n",
    "from tatarinov.utils.sympy import MatrixElDerivative"
   ]
  },
  {
   "cell_type": "code",
   "execution_count": 59,
   "metadata": {},
   "outputs": [
    {
     "data": {
      "text/plain": [
       "['left_TWnu3_Matrix',\n",
       " 'right_TWnu3_Matrix',\n",
       " 'good_params',\n",
       " 'wheel_in0',\n",
       " 'nu1,nu2',\n",
       " 'J_platform',\n",
       " 'constraints',\n",
       " 'L',\n",
       " 'nu1,nu2(x,y)',\n",
       " 'J_wheel',\n",
       " 'L_platform',\n",
       " 'Q_dw_by_dv',\n",
       " 'TWNU3',\n",
       " 'L_wheel',\n",
       " 'Det',\n",
       " 'eqs+TW']"
      ]
     },
     "execution_count": 59,
     "metadata": {},
     "output_type": "execute_result"
    }
   ],
   "source": [
    "db.get_all_names()"
   ]
  },
  {
   "cell_type": "code",
   "execution_count": 60,
   "metadata": {},
   "outputs": [
    {
     "name": "stdout",
     "output_type": "stream",
     "text": [
      "Loading from: ../data/triangular_platform/TWNU3.pickle\n",
      "Loading from: ../data/triangular_platform/constraints.pickle\n",
      "Loading from: ../data/triangular_platform/nu1,nu2(x,y).pickle\n",
      "Loading from: ../data/triangular_platform/good_params.pickle\n"
     ]
    }
   ],
   "source": [
    "TWNU3 = db.load('TWNU3').obj\n",
    "constraints = db.load('constraints').obj\n",
    "nu1, nu2 = db.load('nu1,nu2(x,y)').obj\n",
    "good_params = db.load('good_params').obj"
   ]
  },
  {
   "cell_type": "markdown",
   "metadata": {},
   "source": [
    "#### Зададим левую и правую часть"
   ]
  },
  {
   "cell_type": "code",
   "execution_count": 61,
   "metadata": {},
   "outputs": [],
   "source": [
    "_eqs = [\n",
    "    TWNU3[2].subs(good_params).args[1],\n",
    "    constraints[2].subs(good_params).args[1],\n",
    "    constraints[4].subs(good_params).args[1]\n",
    "]"
   ]
  },
  {
   "cell_type": "code",
   "execution_count": 62,
   "metadata": {},
   "outputs": [],
   "source": [
    "# display_list(_eqs)"
   ]
  },
  {
   "cell_type": "code",
   "execution_count": 63,
   "metadata": {},
   "outputs": [],
   "source": [
    "_vars = [\n",
    "    nu[3],\n",
    "    alpha,\n",
    "    theta[0],\n",
    "    t\n",
    "]"
   ]
  },
  {
   "cell_type": "code",
   "execution_count": 64,
   "metadata": {},
   "outputs": [],
   "source": [
    "# display_list(_vars)"
   ]
  },
  {
   "cell_type": "markdown",
   "metadata": {},
   "source": [
    "#### Подставим уравнения (правую часть) и переменные (левую часть + время) в конструктор"
   ]
  },
  {
   "cell_type": "code",
   "execution_count": 65,
   "metadata": {},
   "outputs": [],
   "source": [
    "itg = Integrator(_vars, _eqs)"
   ]
  },
  {
   "cell_type": "code",
   "execution_count": 68,
   "metadata": {},
   "outputs": [],
   "source": [
    "itg.set_subs_dict(subs_dict={\n",
    "    x: t**2/2,\n",
    "    y: 0,\n",
    "    nu[1]: nu1.args[1],\n",
    "    nu[2]: nu2.args[1],\n",
    "}, ext_subs_dict={\n",
    "    Derivative(alpha, t): nu[3] # Это потому что после подстановки в nu'(..., alpha) вылезает alpha' (=nu3)\n",
    "})"
   ]
  },
  {
   "cell_type": "markdown",
   "metadata": {},
   "source": [
    "#### Введем дополнительные соотношения, зависящие от полученных значение ($T, W$) "
   ]
  },
  {
   "cell_type": "code",
   "execution_count": 69,
   "metadata": {},
   "outputs": [],
   "source": [
    "itg.set_additional_eqs({\n",
    "    T[1]: TWNU3[0].args[1],\n",
    "    W[1]: TWNU3[1].args[1]\n",
    "})"
   ]
  },
  {
   "cell_type": "code",
   "execution_count": 72,
   "metadata": {},
   "outputs": [],
   "source": [
    "# integr.eqs[1].subs(integr.subs_dict).doit()"
   ]
  },
  {
   "cell_type": "code",
   "execution_count": 73,
   "metadata": {},
   "outputs": [],
   "source": [
    "# integr.eqs[2].subs(integr.subs_dict).doit()"
   ]
  },
  {
   "cell_type": "code",
   "execution_count": 74,
   "metadata": {},
   "outputs": [],
   "source": [
    "# integr.lambdify_eqs()"
   ]
  },
  {
   "cell_type": "code",
   "execution_count": 75,
   "metadata": {},
   "outputs": [],
   "source": [
    "# integr.lambdify_eqs()([0,0,0], 0)"
   ]
  },
  {
   "cell_type": "code",
   "execution_count": null,
   "metadata": {},
   "outputs": [],
   "source": [
    "%%time\n",
    "\n",
    "_f0 = [0,0,0]\n",
    "_time = np.linspace(0., 20, 200)\n",
    "\n",
    "itg.integrate(_f0, _time)"
   ]
  },
  {
   "cell_type": "markdown",
   "metadata": {},
   "source": [
    "####  Нарисуем"
   ]
  },
  {
   "cell_type": "code",
   "execution_count": null,
   "metadata": {},
   "outputs": [],
   "source": [
    "itg.plot_eq([alpha, theta[0], nu[3]])"
   ]
  },
  {
   "cell_type": "code",
   "execution_count": null,
   "metadata": {},
   "outputs": [],
   "source": [
    "itg.plot_add_eq([W[1], T[1]])"
   ]
  },
  {
   "cell_type": "code",
   "execution_count": null,
   "metadata": {},
   "outputs": [],
   "source": []
  }
 ],
 "metadata": {
  "kernelspec": {
   "display_name": "Python 3",
   "language": "python",
   "name": "python3"
  },
  "language_info": {
   "codemirror_mode": {
    "name": "ipython",
    "version": 3
   },
   "file_extension": ".py",
   "mimetype": "text/x-python",
   "name": "python",
   "nbconvert_exporter": "python",
   "pygments_lexer": "ipython3",
   "version": "3.7.7"
  }
 },
 "nbformat": 4,
 "nbformat_minor": 4
}
