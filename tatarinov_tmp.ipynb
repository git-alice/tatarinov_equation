{
 "cells": [
  {
   "cell_type": "markdown",
   "metadata": {},
   "source": [
    "# Реализация нахождения уравнений движения с помощью Урванений Татаринова \n",
    "\n",
    "##### TODO \n",
    " - Добавить рисунок и описание решаемой здесь задачи\n",
    " - Добавить решение с помощью общих теорем динамики\n",
    " - Тесты"
   ]
  },
  {
   "cell_type": "code",
   "execution_count": 1,
   "metadata": {},
   "outputs": [],
   "source": [
    "import sympy as sp\n",
    "from sympy import Derivative, Symbol, IndexedBase, Eq, Idx, Sum, Function, Matrix\n",
    "from sympy import diff, symbols, solve, simplify, poly, pprint\n",
    "from sympy import cos, sin\n",
    "\n",
    "from abc import ABC, abstractmethod"
   ]
  },
  {
   "cell_type": "markdown",
   "metadata": {},
   "source": [
    "### Уравнения Татаринова\n",
    "$$\n",
    "\\frac{d}{dt} \\frac{\\partial L*}{\\partial \\omega_{\\alpha}} +\n",
    "\\{P_{\\alpha}, L*\\} = \n",
    "\\{P_{\\alpha}, \\sum_{\\mu}{\\omega_{\\mu} P_{\\mu}} \\} +\n",
    "\\sum_{i}{Q_i \\frac{\\partial v_i}{ \\partial \\omega_{\\alpha}}}\n",
    "$$"
   ]
  },
  {
   "cell_type": "markdown",
   "metadata": {},
   "source": [
    "### Скобка Пуассона\n",
    "$$\n",
    "\\{f, g\\} = \\sum_{i=1}^{N} \\left( \\frac{\\partial f}{\\partial q_{i}} \\frac{\\partial g}{\\partial p_{i}} - \\frac{\\partial f}{\\partial p_i} \\frac{\\partial g}{\\partial q_i}\\right).\n",
    "$$"
   ]
  },
  {
   "cell_type": "markdown",
   "metadata": {},
   "source": [
    "### Функции $ P_{\\alpha} $\n",
    "$$\n",
    "\\sum_{\\alpha}{P_{\\alpha} \\omega_{\\alpha}} = \\sum_i{p_iv_i}\n",
    "$$"
   ]
  },
  {
   "cell_type": "markdown",
   "metadata": {},
   "source": [
    "### Функции $v_i$\n",
    "$$\n",
    "v_i = \\dot{q}\n",
    "$$"
   ]
  },
  {
   "cell_type": "code",
   "execution_count": 2,
   "metadata": {},
   "outputs": [],
   "source": [
    "class MechanicalSystem():\n",
    "    \n",
    "    def __init__(self):\n",
    "        p = IndexedBase('p')\n",
    "        self.p = [p[1], p[2], p[3]]\n",
    "        self.q = [x, y, alpha]\n",
    "    \n",
    "    def poisson_bracket(self, F, G): # надо сделать, чтобы использовалось IndexedBase\n",
    "        \"\"\" To evaluate an unevaluated derivative, use the doit method. \"\"\"\n",
    "        res = 0\n",
    "        for i in range(3):\n",
    "            res += diff(F, self.q[i])*diff(G, self.p[i])\n",
    "            res -= diff(F, self.p[i])*diff(G, self.q[i])\n",
    "        return res\n",
    "    \n",
    "    @staticmethod\n",
    "    def sub_Eq(equation, Eq):\n",
    "        return equation.subs(Eq.args[0], Eq.args[1])\n",
    "    \n",
    "    @classmethod\n",
    "    def sub_Eqs(cls, equation, Eqs):\n",
    "        sub_equation = equation\n",
    "        for Eq in Eqs:\n",
    "            sub_equation = cls.sub_Eq(sub_equation, Eq)\n",
    "        return sub_equation \n",
    "    \n",
    "    \n",
    "    @staticmethod\n",
    "    def left_part_Eqs(Eqs):\n",
    "        return [Eq.args[0] for Eq in Eqs]\n",
    "    \n",
    "    @staticmethod\n",
    "    def right_part_Eqs(Eqs):\n",
    "        return [Eq.args[1] for Eq in Eqs]\n",
    "    \n",
    "    def set_connections(self, connections):\n",
    "        \"\"\" Setting up connections \"\"\"\n",
    "        self.connections = connections\n",
    "        \n",
    "    def sub_connections(self, func):\n",
    "        \"\"\" Substitutes connections in the equation\n",
    "        Private special case:\n",
    "            L -> L* \n",
    "        \"\"\"\n",
    "        sub_dict = {conn.args[0]: conn.args[1] for conn in self.connections}\n",
    "        return simplify(func.subs(sub_dict))\n",
    "    \n",
    "    def sub_connections_to_list(self, equations):\n",
    "        return [self.sub_connections(equation) for equation in equations]\n",
    "    \n",
    "    @staticmethod\n",
    "    def diff_hack(equation, by):\n",
    "        \"\"\" eq -> eq.subs(Derivative -> temp_variable) -> eq.diff(temp_variable) ->\n",
    "            -> eq.subs(temp_variable -> Derivative)\n",
    "        \"\"\"\n",
    "        tmp_by = Symbol('tmp_by')\n",
    "        tmp_eq = equation.subs({by: tmp_by})\n",
    "        tmp_eq = tmp_eq.diff(tmp_by)\n",
    "        return tmp_eq.subs({tmp_by: by})\n",
    "        "
   ]
  },
  {
   "cell_type": "code",
   "execution_count": 3,
   "metadata": {},
   "outputs": [],
   "source": [
    "class TatarinovSystem(MechanicalSystem):\n",
    "    \n",
    "    def __init__(self, N=3):\n",
    "        super().__init__()\n",
    "        self.N = N\n",
    "        self.tatarinov_equations = [None]*N\n",
    "        \n",
    "    def set_q(self):\n",
    "        pass\n",
    "    \n",
    "    def set_p(self):\n",
    "        pass\n",
    "\n",
    "    def set_omega_equations(self, omegas, equations):\n",
    "        omega_equations = [Eq(omega, equation) for omega, equation in zip(omegas, equations)]\n",
    "        self.omega_equations = omega_equations\n",
    "        \n",
    "    def set_v_equations(self, vs, equations): # vs - не лучшее название\n",
    "        v_equations = [Eq(v, equation) for v, equation in zip(vs, equations)]\n",
    "        self.v_equations = v_equations\n",
    "    \n",
    "    def set_v(self):\n",
    "        v = IndexedBase('v')\n",
    "        k= symbols('k', cls=Idx)\n",
    "        Eq(v[k], diff(self.q[k]))\n",
    "        \n",
    "    def set_P(self):\n",
    "        k, mu = symbols('k, mu', cls=Idx)\n",
    "        left = Sum(P[k]*om[k], (k, 1, self.N)).doit()\n",
    "        right = Sum(p[i]*v[i], (k, 1, self.N))\n",
    "        Eq(left, right)\n",
    "    \n",
    "    def set_L(self):\n",
    "        pass\n",
    "    \n",
    "    def set_F(self, F):\n",
    "        self.F = F\n",
    "    \n",
    "    def create_r(self):\n",
    "        r = {}\n",
    "        r['s'] = x*e['x'] + y*e['y']\n",
    "        r['p'] = r['s'] + xi*e['xi'] + eta*e['eta']\n",
    "        self.r = r\n",
    "        return self.r\n",
    "\n",
    "    def set_Qs(self, Qs):\n",
    "        self.Qs = Qs\n",
    "    \n",
    "    def create_P(self):\n",
    "        equations_for_P = Eq(\n",
    "            Sum(P[k]*omega[k], (k, 1, S.N)),\n",
    "            Sum(p[k]*v[k], (k, 1, S.N)))\n",
    "        print(equations_for_P)\n",
    "        # subs omega_i and v_i\n",
    "        sub_equations_for_P = TatarinovSystem.sub_Eqs(\n",
    "            equations_for_P.doit(), # important\n",
    "            self.omega_equations + self.v_equations) # for Ex: omega[1] -> nu1), v[1] -> x', ....\n",
    "        # subs_connections\n",
    "        sub_conn_equations_for_P = self.sub_connections(sub_equations_for_P)\n",
    "        print(sub_conn_equations_for_P)\n",
    "        # to equate the coefficients\n",
    "        left_coeffs = poly(sub_conn_equations_for_P.args[0], TatarinovSystem.right_part_Eqs(self.omega_equations)).coeffs()\n",
    "        right_coeffs = poly(sub_conn_equations_for_P.args[1], TatarinovSystem.right_part_Eqs(self.omega_equations)).coeffs()\n",
    "        final_equations_for_P = [Eq(left, right) for left, right in zip(left_coeffs, right_coeffs)]\n",
    "        self.Ps = final_equations_for_P\n",
    "        return final_equations_for_P\n",
    "    \n",
    "    def create_Q(self, F, r_p):\n",
    "        self.Q = [F.dot(r_p.diff(x)) for x in self.q]\n",
    "    \n",
    "    def Q_dw_by_dv(self, i):\n",
    "        Q_dw_by_dv = lambda i,a: self.Q[i]*Derivative(self.right_part_Eqs(S.sub_connections_to_list(S.v_equations))[i],\n",
    "                                                      self.right_part_Eqs(self.omega_equations)[a]).doit()\n",
    "        Q_dw_by_dv_sum = lambda a: Q_dw_by_dv(0,a) + Q_dw_by_dv(1,a) + Q_dw_by_dv(2,a)\n",
    "        return Q_dw_by_dv_sum(i)\n",
    "    \n",
    "    def tatarinov_equation__depricated(self, i):\n",
    "        left, right = 0, 0;\n",
    "        left += diff(diff(L, omega[k]), t)\n",
    "        left += poisson_bracket(P[k], L)\n",
    "        right += poisson_bracket(P[k], Sum(omega[k]*P[k], (k, 1, self.N)))\n",
    "        right += Sum(Q[l]*diff(v[l], omega[k]), (l, 1, self.N))\n",
    "        Eq(left, right)\n",
    "        \n",
    "    def create_bracket_sum(self):\n",
    "        \"\"\" not good \"\"\"\n",
    "        bracket_sum = nu1*(p[1]*cos(alpha) + p[2]*sin(alpha)) + nu2*(-p[1]*sin(alpha) + p[2]*cos(alpha)) + nu3*p[3]\n",
    "        return bracket_sum\n",
    "    \n",
    "    def create_fs(self, fs):\n",
    "        \"\"\" not good \"\"\"\n",
    "        return fs.subs({\n",
    "            nu1: Function('nu1')(t),\n",
    "            nu2: Function('nu2')(t),\n",
    "            nu3: Function('nu3')(t)\n",
    "        })\n",
    "\n",
    "    def tatarinov_equation(self, i):\n",
    "        left, right = 0,0\n",
    "        left = S.sub_connections(L).args[1]\n",
    "        left = left.diff(self.right_part_Eqs(self.omega_equations)[i])\n",
    "        left += self.poisson_bracket(self.Ps[i].args[1], self.sub_connections(L).args[1])\n",
    "        left = self.create_fs(left).diff(t)\n",
    "        \n",
    "        right += self.poisson_bracket(self.Ps[i].args[1], self.create_bracket_sum())\n",
    "        right += simplify(self.Q_dw_by_dv(i))\n",
    "        right = self.create_fs(right)\n",
    "        \n",
    "        self.tatarinov_equations[i] = simplify(Eq(left, right))\n",
    "        \n",
    "        return self.tatarinov_equations[i]\n",
    "\n",
    "    def display_tatarinov_equations(self):\n",
    "        for eq in self.tatarinov_equations:\n",
    "            display(eq)"
   ]
  },
  {
   "cell_type": "code",
   "execution_count": 4,
   "metadata": {},
   "outputs": [],
   "source": [
    "L, m, x, y, t, alpha = symbols('L, m, x, y, t, alpha')\n",
    "nu1, nu2, nu3 = symbols('nu1, nu2, nu3')\n",
    "W, T = symbols('W, T')\n",
    "s = symbols('s')\n",
    "P = IndexedBase('P')\n",
    "p = IndexedBase('p')\n",
    "omega = IndexedBase('omega')\n",
    "v = IndexedBase('v')\n",
    "Q = IndexedBase('Q')\n",
    "k = symbols('k', cls=Idx)\n",
    "J = IndexedBase('J')\n",
    "\n",
    "xi, eta = symbols('xi, eta')\n",
    "e = {}\n",
    "e['x'] = Matrix([1,0])\n",
    "e['y'] = Matrix([0,1])\n",
    "e['xi'] = Matrix([cos(alpha), sin(alpha)])\n",
    "e['eta'] = Matrix([-sin(alpha), cos(alpha)])"
   ]
  },
  {
   "cell_type": "markdown",
   "metadata": {},
   "source": [
    "### Определим Лагранжиан"
   ]
  },
  {
   "cell_type": "code",
   "execution_count": 5,
   "metadata": {},
   "outputs": [
    {
     "data": {
      "text/latex": [
       "$\\displaystyle L = \\frac{m \\left(\\left(\\frac{d}{d t} x\\right)^{2} + \\left(\\frac{d}{d t} y\\right)^{2}\\right)}{2} + \\frac{\\left(\\frac{d}{d t} \\alpha\\right)^{2} {J}_{s}}{2}$"
      ],
      "text/plain": [
       "Eq(L, m*(Derivative(x, t)**2 + Derivative(y, t)**2)/2 + Derivative(alpha, t)**2*J[s]/2)"
      ]
     },
     "execution_count": 5,
     "metadata": {},
     "output_type": "execute_result"
    }
   ],
   "source": [
    "L = Eq(L, m*(Derivative(x,t)**2 + Derivative(y,t)**2)/2 + J[s]*(Derivative(alpha, t)**2)/2)\n",
    "L"
   ]
  },
  {
   "cell_type": "markdown",
   "metadata": {},
   "source": [
    "### Определим связи "
   ]
  },
  {
   "cell_type": "code",
   "execution_count": 6,
   "metadata": {},
   "outputs": [],
   "source": [
    "conn1 = Eq(Derivative(x,t), cos(alpha)*nu1 - sin(alpha)*nu2)\n",
    "conn2 = Eq(Derivative(y,t), sin(alpha)*nu1 + cos(alpha)*nu2)\n",
    "conn3 = Eq(Derivative(alpha,t), nu3)"
   ]
  },
  {
   "cell_type": "markdown",
   "metadata": {},
   "source": [
    "### Создадим объект для механической системы с уравнениями Татаринова "
   ]
  },
  {
   "cell_type": "code",
   "execution_count": 7,
   "metadata": {},
   "outputs": [],
   "source": [
    "S = TatarinovSystem()"
   ]
  },
  {
   "cell_type": "markdown",
   "metadata": {},
   "source": [
    "### Заполним что нужно (связи, уравнения для $\\omega_i$, $v_i$, $F$)"
   ]
  },
  {
   "cell_type": "code",
   "execution_count": 8,
   "metadata": {},
   "outputs": [
    {
     "data": {
      "text/plain": [
       "[Eq(Derivative(x, t), nu1*cos(alpha) - nu2*sin(alpha)),\n",
       " Eq(Derivative(y, t), nu1*sin(alpha) + nu2*cos(alpha)),\n",
       " Eq(Derivative(alpha, t), nu3)]"
      ]
     },
     "execution_count": 8,
     "metadata": {},
     "output_type": "execute_result"
    }
   ],
   "source": [
    "S.set_connections([conn1, conn2, conn3])\n",
    "S.connections"
   ]
  },
  {
   "cell_type": "code",
   "execution_count": 9,
   "metadata": {},
   "outputs": [
    {
     "data": {
      "text/plain": [
       "[Eq(omega[1], nu1), Eq(omega[2], nu2), Eq(omega[3], nu3)]"
      ]
     },
     "execution_count": 9,
     "metadata": {},
     "output_type": "execute_result"
    }
   ],
   "source": [
    "S.set_omega_equations(omegas=[omega[1], omega[2], omega[3]],\n",
    "                      equations=[nu1, nu2, nu3])\n",
    "S.omega_equations"
   ]
  },
  {
   "cell_type": "code",
   "execution_count": 10,
   "metadata": {},
   "outputs": [
    {
     "data": {
      "text/plain": [
       "[Eq(v[1], Derivative(x, t)),\n",
       " Eq(v[2], Derivative(y, t)),\n",
       " Eq(v[3], Derivative(alpha, t))]"
      ]
     },
     "execution_count": 10,
     "metadata": {},
     "output_type": "execute_result"
    }
   ],
   "source": [
    "S.set_v_equations(vs=[v[1], v[2], v[3]],\n",
    "                  equations=[Derivative(x,t), Derivative(y,t), Derivative(alpha,t)])\n",
    "S.v_equations"
   ]
  },
  {
   "cell_type": "code",
   "execution_count": 11,
   "metadata": {},
   "outputs": [],
   "source": [
    "F = W*e['xi'] + T*e['eta']\n",
    "S.set_F(F)"
   ]
  },
  {
   "cell_type": "markdown",
   "metadata": {},
   "source": [
    "### Создадим $P_{\\alpha}$"
   ]
  },
  {
   "cell_type": "code",
   "execution_count": 12,
   "metadata": {},
   "outputs": [
    {
     "name": "stdout",
     "output_type": "stream",
     "text": [
      "Eq(Sum(P[k]*omega[k], (k, 1, 3)), Sum(p[k]*v[k], (k, 1, 3)))\n",
      "Eq(nu1*P[1] + nu2*P[2] + nu3*P[3], nu3*p[3] + (nu1*sin(alpha) + nu2*cos(alpha))*p[2] + (nu1*cos(alpha) - nu2*sin(alpha))*p[1])\n"
     ]
    },
    {
     "data": {
      "text/plain": [
       "[Eq(P[1], sin(alpha)*p[2] + cos(alpha)*p[1]),\n",
       " Eq(P[2], -sin(alpha)*p[1] + cos(alpha)*p[2]),\n",
       " Eq(P[3], p[3])]"
      ]
     },
     "execution_count": 12,
     "metadata": {},
     "output_type": "execute_result"
    }
   ],
   "source": [
    "Ps = S.create_P()\n",
    "Ps"
   ]
  },
  {
   "cell_type": "markdown",
   "metadata": {},
   "source": [
    "### Получение $Q_i$"
   ]
  },
  {
   "cell_type": "code",
   "execution_count": 13,
   "metadata": {},
   "outputs": [
    {
     "data": {
      "text/plain": [
       "[-T*sin(alpha) + W*cos(alpha),\n",
       " T*cos(alpha) + W*sin(alpha),\n",
       " (-T*sin(alpha) + W*cos(alpha))*(-eta*cos(alpha) - xi*sin(alpha)) + (T*cos(alpha) + W*sin(alpha))*(-eta*sin(alpha) + xi*cos(alpha))]"
      ]
     },
     "execution_count": 13,
     "metadata": {},
     "output_type": "execute_result"
    }
   ],
   "source": [
    "S.create_Q(S.F, S.create_r()['p'])\n",
    "S.Q"
   ]
  },
  {
   "cell_type": "markdown",
   "metadata": {},
   "source": [
    "### Получаем уравнения"
   ]
  },
  {
   "cell_type": "code",
   "execution_count": 14,
   "metadata": {},
   "outputs": [],
   "source": [
    "for i in range(3):\n",
    "    S.tatarinov_equation(i)"
   ]
  },
  {
   "cell_type": "code",
   "execution_count": 15,
   "metadata": {},
   "outputs": [
    {
     "data": {
      "text/latex": [
       "$\\displaystyle m \\frac{d}{d t} \\nu_{1}{\\left(t \\right)} = W - \\left(\\sin{\\left(\\alpha \\right)} {p}_{1} - \\cos{\\left(\\alpha \\right)} {p}_{2}\\right) \\nu_{3}{\\left(t \\right)}$"
      ],
      "text/plain": [
       "Eq(m*Derivative(nu1(t), t), W - (sin(alpha)*p[1] - cos(alpha)*p[2])*nu3(t))"
      ]
     },
     "metadata": {},
     "output_type": "display_data"
    },
    {
     "data": {
      "text/latex": [
       "$\\displaystyle m \\frac{d}{d t} \\nu_{2}{\\left(t \\right)} = T - \\left(\\sin{\\left(\\alpha \\right)} {p}_{2} + \\cos{\\left(\\alpha \\right)} {p}_{1}\\right) \\nu_{3}{\\left(t \\right)}$"
      ],
      "text/plain": [
       "Eq(m*Derivative(nu2(t), t), T - (sin(alpha)*p[2] + cos(alpha)*p[1])*nu3(t))"
      ]
     },
     "metadata": {},
     "output_type": "display_data"
    },
    {
     "data": {
      "text/latex": [
       "$\\displaystyle \\frac{d}{d t} \\nu_{3}{\\left(t \\right)} {J}_{s} = \\left(\\sin{\\left(\\alpha \\right)} {p}_{1} - \\cos{\\left(\\alpha \\right)} {p}_{2}\\right) \\nu_{1}{\\left(t \\right)} + \\left(\\sin{\\left(\\alpha \\right)} {p}_{2} + \\cos{\\left(\\alpha \\right)} {p}_{1}\\right) \\nu_{2}{\\left(t \\right)}$"
      ],
      "text/plain": [
       "Eq(Derivative(nu3(t), t)*J[s], (sin(alpha)*p[1] - cos(alpha)*p[2])*nu1(t) + (sin(alpha)*p[2] + cos(alpha)*p[1])*nu2(t))"
      ]
     },
     "metadata": {},
     "output_type": "display_data"
    }
   ],
   "source": [
    "S.display_tatarinov_equations()"
   ]
  },
  {
   "cell_type": "code",
   "execution_count": 27,
   "metadata": {},
   "outputs": [
    {
     "data": {
      "text/plain": [
       "[m*(nu1*cos(alpha) - nu2*sin(alpha)),\n",
       " m*(nu1*sin(alpha) + nu2*cos(alpha)),\n",
       " nu3*J[s]]"
      ]
     },
     "execution_count": 27,
     "metadata": {},
     "output_type": "execute_result"
    }
   ],
   "source": [
    "fps = lambda i: S.sub_connections(S.diff_hack(L.args[1], S.right_part_Eqs(S.v_equations)[i]))\n",
    "ps = [fps(x) for x in range(3)]\n",
    "ps"
   ]
  },
  {
   "cell_type": "code",
   "execution_count": 32,
   "metadata": {},
   "outputs": [
    {
     "data": {
      "text/latex": [
       "$\\displaystyle m \\frac{d}{d t} \\nu_{1}{\\left(t \\right)} = W - \\left(\\sin{\\left(\\alpha \\right)} {p}_{1} - \\cos{\\left(\\alpha \\right)} {p}_{2}\\right) \\nu_{3}{\\left(t \\right)}$"
      ],
      "text/plain": [
       "Eq(m*Derivative(nu1(t), t), W - (sin(alpha)*p[1] - cos(alpha)*p[2])*nu3(t))"
      ]
     },
     "metadata": {},
     "output_type": "display_data"
    },
    {
     "data": {
      "text/latex": [
       "$\\displaystyle m \\frac{d}{d t} \\nu_{2}{\\left(t \\right)} = T - \\left(\\sin{\\left(\\alpha \\right)} {p}_{2} + \\cos{\\left(\\alpha \\right)} {p}_{1}\\right) \\nu_{3}{\\left(t \\right)}$"
      ],
      "text/plain": [
       "Eq(m*Derivative(nu2(t), t), T - (sin(alpha)*p[2] + cos(alpha)*p[1])*nu3(t))"
      ]
     },
     "metadata": {},
     "output_type": "display_data"
    },
    {
     "data": {
      "text/latex": [
       "$\\displaystyle \\frac{d}{d t} \\nu_{3}{\\left(t \\right)} {J}_{s} = \\left(\\sin{\\left(\\alpha \\right)} {p}_{1} - \\cos{\\left(\\alpha \\right)} {p}_{2}\\right) \\nu_{1}{\\left(t \\right)} + \\left(\\sin{\\left(\\alpha \\right)} {p}_{2} + \\cos{\\left(\\alpha \\right)} {p}_{1}\\right) \\nu_{2}{\\left(t \\right)}$"
      ],
      "text/plain": [
       "Eq(Derivative(nu3(t), t)*J[s], (sin(alpha)*p[1] - cos(alpha)*p[2])*nu1(t) + (sin(alpha)*p[2] + cos(alpha)*p[1])*nu2(t))"
      ]
     },
     "metadata": {},
     "output_type": "display_data"
    }
   ],
   "source": [
    "for x in range(3):\n",
    "    display(simplify(S.tatarinov_equations[x]))"
   ]
  },
  {
   "cell_type": "code",
   "execution_count": 4,
   "metadata": {},
   "outputs": [],
   "source": []
  },
  {
   "cell_type": "code",
   "execution_count": null,
   "metadata": {},
   "outputs": [],
   "source": []
  },
  {
   "cell_type": "code",
   "execution_count": null,
   "metadata": {},
   "outputs": [],
   "source": []
  },
  {
   "cell_type": "code",
   "execution_count": null,
   "metadata": {},
   "outputs": [],
   "source": []
  },
  {
   "cell_type": "code",
   "execution_count": null,
   "metadata": {},
   "outputs": [],
   "source": []
  },
  {
   "cell_type": "code",
   "execution_count": null,
   "metadata": {},
   "outputs": [],
   "source": []
  },
  {
   "cell_type": "code",
   "execution_count": null,
   "metadata": {},
   "outputs": [],
   "source": []
  },
  {
   "cell_type": "code",
   "execution_count": null,
   "metadata": {},
   "outputs": [],
   "source": []
  },
  {
   "cell_type": "code",
   "execution_count": null,
   "metadata": {},
   "outputs": [],
   "source": []
  },
  {
   "cell_type": "code",
   "execution_count": null,
   "metadata": {},
   "outputs": [],
   "source": []
  },
  {
   "cell_type": "code",
   "execution_count": null,
   "metadata": {},
   "outputs": [],
   "source": []
  },
  {
   "cell_type": "code",
   "execution_count": null,
   "metadata": {},
   "outputs": [],
   "source": []
  },
  {
   "cell_type": "code",
   "execution_count": null,
   "metadata": {},
   "outputs": [],
   "source": []
  },
  {
   "cell_type": "markdown",
   "metadata": {},
   "source": [
    "### Тесты"
   ]
  },
  {
   "cell_type": "code",
   "execution_count": 69,
   "metadata": {},
   "outputs": [
    {
     "data": {
      "text/latex": [
       "$\\displaystyle 0$"
      ],
      "text/plain": [
       "0"
      ]
     },
     "execution_count": 69,
     "metadata": {},
     "output_type": "execute_result"
    }
   ],
   "source": [
    "S.poisson_bracket(Ps[0].args[1], S.sub_connections(L).args[1])"
   ]
  },
  {
   "cell_type": "code",
   "execution_count": 70,
   "metadata": {},
   "outputs": [
    {
     "data": {
      "text/latex": [
       "$\\displaystyle 0$"
      ],
      "text/plain": [
       "0"
      ]
     },
     "execution_count": 70,
     "metadata": {},
     "output_type": "execute_result"
    }
   ],
   "source": [
    "S.poisson_bracket(Ps[1].args[1], S.sub_connections(L).args[1])"
   ]
  },
  {
   "cell_type": "code",
   "execution_count": 71,
   "metadata": {},
   "outputs": [
    {
     "data": {
      "text/latex": [
       "$\\displaystyle 0$"
      ],
      "text/plain": [
       "0"
      ]
     },
     "execution_count": 71,
     "metadata": {},
     "output_type": "execute_result"
    }
   ],
   "source": [
    "S.poisson_bracket(Ps[2].args[1], S.sub_connections(L).args[1])"
   ]
  },
  {
   "cell_type": "code",
   "execution_count": null,
   "metadata": {},
   "outputs": [],
   "source": []
  },
  {
   "cell_type": "code",
   "execution_count": 57,
   "metadata": {},
   "outputs": [],
   "source": [
    "tmp = nu1*(p[1]*cos(alpha) + p[2]*sin(alpha)) + nu2*(-p[1]*sin(alpha) + p[2]*cos(alpha)) + nu3*p[3]"
   ]
  },
  {
   "cell_type": "code",
   "execution_count": 22,
   "metadata": {},
   "outputs": [
    {
     "data": {
      "text/latex": [
       "$\\displaystyle \\left(- \\sin{\\left(\\alpha \\right)} {p}_{1} + \\cos{\\left(\\alpha \\right)} {p}_{2}\\right) \\frac{d}{d t} \\alpha$"
      ],
      "text/plain": [
       "(-sin(alpha)*p[1] + cos(alpha)*p[2])*Derivative(alpha, t)"
      ]
     },
     "execution_count": 22,
     "metadata": {},
     "output_type": "execute_result"
    }
   ],
   "source": [
    "S.poisson_bracket(Ps[0].args[1], tmp)"
   ]
  },
  {
   "cell_type": "code",
   "execution_count": 23,
   "metadata": {},
   "outputs": [
    {
     "data": {
      "text/latex": [
       "$\\displaystyle \\left(- \\sin{\\left(\\alpha \\right)} {p}_{2} - \\cos{\\left(\\alpha \\right)} {p}_{1}\\right) \\frac{d}{d t} \\alpha$"
      ],
      "text/plain": [
       "(-sin(alpha)*p[2] - cos(alpha)*p[1])*Derivative(alpha, t)"
      ]
     },
     "execution_count": 23,
     "metadata": {},
     "output_type": "execute_result"
    }
   ],
   "source": [
    "S.poisson_bracket(Ps[1].args[1], tmp)"
   ]
  },
  {
   "cell_type": "code",
   "execution_count": 24,
   "metadata": {},
   "outputs": [
    {
     "data": {
      "text/latex": [
       "$\\displaystyle - \\nu_{1} \\left(- \\sin{\\left(\\alpha \\right)} {p}_{1} + \\cos{\\left(\\alpha \\right)} {p}_{2}\\right) - \\nu_{2} \\left(- \\sin{\\left(\\alpha \\right)} {p}_{2} - \\cos{\\left(\\alpha \\right)} {p}_{1}\\right)$"
      ],
      "text/plain": [
       "-nu1*(-sin(alpha)*p[1] + cos(alpha)*p[2]) - nu2*(-sin(alpha)*p[2] - cos(alpha)*p[1])"
      ]
     },
     "execution_count": 24,
     "metadata": {},
     "output_type": "execute_result"
    }
   ],
   "source": [
    "S.poisson_bracket(Ps[2].args[1], tmp)"
   ]
  },
  {
   "cell_type": "code",
   "execution_count": 25,
   "metadata": {},
   "outputs": [],
   "source": [
    "# def create_Q(F, r_p):\n",
    "#     return [F.dot(r_p.diff(x)) for x in self.q]"
   ]
  },
  {
   "cell_type": "code",
   "execution_count": null,
   "metadata": {},
   "outputs": [],
   "source": []
  },
  {
   "cell_type": "code",
   "execution_count": 26,
   "metadata": {},
   "outputs": [],
   "source": []
  },
  {
   "cell_type": "markdown",
   "metadata": {},
   "source": [
    "### Всё что связано с векторами"
   ]
  },
  {
   "cell_type": "code",
   "execution_count": 19,
   "metadata": {},
   "outputs": [
    {
     "data": {
      "text/latex": [
       "$\\displaystyle \\left[\\begin{matrix}- T \\sin{\\left(\\alpha \\right)} + W \\cos{\\left(\\alpha \\right)}\\\\T \\cos{\\left(\\alpha \\right)} + W \\sin{\\left(\\alpha \\right)}\\end{matrix}\\right]$"
      ],
      "text/plain": [
       "Matrix([\n",
       "[-T*sin(alpha) + W*cos(alpha)],\n",
       "[ T*cos(alpha) + W*sin(alpha)]])"
      ]
     },
     "execution_count": 19,
     "metadata": {},
     "output_type": "execute_result"
    }
   ],
   "source": [
    "F = W*e['xi'] + T*e['eta']\n",
    "F"
   ]
  },
  {
   "cell_type": "code",
   "execution_count": 20,
   "metadata": {},
   "outputs": [
    {
     "data": {
      "text/latex": [
       "$\\displaystyle \\left[\\begin{matrix}- \\eta \\sin{\\left(\\alpha \\right)} + x + \\xi \\cos{\\left(\\alpha \\right)}\\\\\\eta \\cos{\\left(\\alpha \\right)} + \\xi \\sin{\\left(\\alpha \\right)} + y\\end{matrix}\\right]$"
      ],
      "text/plain": [
       "Matrix([\n",
       "[-eta*sin(alpha) + x + xi*cos(alpha)],\n",
       "[ eta*cos(alpha) + xi*sin(alpha) + y]])"
      ]
     },
     "execution_count": 20,
     "metadata": {},
     "output_type": "execute_result"
    }
   ],
   "source": [
    "r = {}\n",
    "r['s'] = x*e['x'] + y*e['y']\n",
    "r['p'] = r['s'] + xi*e['xi'] + eta*e['eta']\n",
    "r['p']"
   ]
  },
  {
   "cell_type": "code",
   "execution_count": 21,
   "metadata": {},
   "outputs": [
    {
     "data": {
      "text/latex": [
       "$\\displaystyle \\left[\\begin{matrix}1\\\\0\\end{matrix}\\right]$"
      ],
      "text/plain": [
       "Matrix([\n",
       "[1],\n",
       "[0]])"
      ]
     },
     "execution_count": 21,
     "metadata": {},
     "output_type": "execute_result"
    }
   ],
   "source": [
    "r['p'].diff(x)"
   ]
  },
  {
   "cell_type": "code",
   "execution_count": 22,
   "metadata": {},
   "outputs": [
    {
     "data": {
      "text/latex": [
       "$\\displaystyle \\left[\\begin{matrix}0\\\\1\\end{matrix}\\right]$"
      ],
      "text/plain": [
       "Matrix([\n",
       "[0],\n",
       "[1]])"
      ]
     },
     "execution_count": 22,
     "metadata": {},
     "output_type": "execute_result"
    }
   ],
   "source": [
    "r['p'].diff(y)"
   ]
  },
  {
   "cell_type": "code",
   "execution_count": 23,
   "metadata": {},
   "outputs": [
    {
     "data": {
      "text/latex": [
       "$\\displaystyle \\left[\\begin{matrix}- \\eta \\cos{\\left(\\alpha \\right)} - \\xi \\sin{\\left(\\alpha \\right)}\\\\- \\eta \\sin{\\left(\\alpha \\right)} + \\xi \\cos{\\left(\\alpha \\right)}\\end{matrix}\\right]$"
      ],
      "text/plain": [
       "Matrix([\n",
       "[-eta*cos(alpha) - xi*sin(alpha)],\n",
       "[-eta*sin(alpha) + xi*cos(alpha)]])"
      ]
     },
     "execution_count": 23,
     "metadata": {},
     "output_type": "execute_result"
    }
   ],
   "source": [
    "r['p'].diff(alpha)"
   ]
  },
  {
   "cell_type": "markdown",
   "metadata": {},
   "source": [
    "### Получение $Q_i\\frac{\\partial v_i}{\\partial w_{\\alpha}}$"
   ]
  },
  {
   "cell_type": "code",
   "execution_count": 35,
   "metadata": {},
   "outputs": [],
   "source": [
    "l = lambda i,a: S.Q[i]*Derivative(MechanicalSystem.right_part_Eqs(S.sub_connections_to_list(S.v_equations))[i],\n",
    "                                  MechanicalSystem.right_part_Eqs(S.omega_equations)[a]).doit()\n",
    "ll = lambda a: l(0,a) + l(1,a) + l(2,a)"
   ]
  },
  {
   "cell_type": "code",
   "execution_count": 39,
   "metadata": {},
   "outputs": [],
   "source": [
    "# S.sub_connections_to_list(S.v_equations)"
   ]
  },
  {
   "cell_type": "code",
   "execution_count": 40,
   "metadata": {},
   "outputs": [
    {
     "data": {
      "text/latex": [
       "$\\displaystyle \\left(- T \\sin{\\left(\\alpha \\right)} + W \\cos{\\left(\\alpha \\right)}\\right) \\cos{\\left(\\alpha \\right)} + \\left(T \\cos{\\left(\\alpha \\right)} + W \\sin{\\left(\\alpha \\right)}\\right) \\sin{\\left(\\alpha \\right)}$"
      ],
      "text/plain": [
       "(-T*sin(alpha) + W*cos(alpha))*cos(alpha) + (T*cos(alpha) + W*sin(alpha))*sin(alpha)"
      ]
     },
     "execution_count": 40,
     "metadata": {},
     "output_type": "execute_result"
    }
   ],
   "source": [
    "ll(0)"
   ]
  },
  {
   "cell_type": "code",
   "execution_count": null,
   "metadata": {},
   "outputs": [],
   "source": []
  },
  {
   "cell_type": "markdown",
   "metadata": {},
   "source": [
    "### Уравнения Татаринова\n",
    "$$\n",
    "\\frac{d}{dt} \\frac{\\partial L*}{\\partial \\omega_{\\alpha}} +\n",
    "\\{P_{\\alpha}, L*\\} = \n",
    "\\{P_{\\alpha}, \\sum_{\\mu}{\\omega_{\\mu} P_{\\mu}} \\} +\n",
    "\\sum_{i}{Q_i \\frac{\\partial v_i}{ \\partial \\omega_{\\alpha}}}\n",
    "$$"
   ]
  },
  {
   "cell_type": "code",
   "execution_count": null,
   "metadata": {},
   "outputs": [],
   "source": []
  },
  {
   "cell_type": "code",
   "execution_count": 132,
   "metadata": {},
   "outputs": [],
   "source": [
    "# [x.diff() for x in S.right_part_Eqs(S.connections)"
   ]
  },
  {
   "cell_type": "code",
   "execution_count": 133,
   "metadata": {},
   "outputs": [
    {
     "data": {
      "text/plain": [
       "[Derivative(x, t), Derivative(y, t), Derivative(alpha, t)]"
      ]
     },
     "execution_count": 133,
     "metadata": {},
     "output_type": "execute_result"
    }
   ],
   "source": [
    "S.right_part_Eqs(S.v_equations)"
   ]
  },
  {
   "cell_type": "code",
   "execution_count": 134,
   "metadata": {},
   "outputs": [
    {
     "data": {
      "text/plain": [
       "[nu1, nu2, nu3]"
      ]
     },
     "execution_count": 134,
     "metadata": {},
     "output_type": "execute_result"
    }
   ],
   "source": [
    "S.right_part_Eqs(S.omega_equations)"
   ]
  },
  {
   "cell_type": "markdown",
   "metadata": {},
   "source": [
    "### Получаем уравнения "
   ]
  },
  {
   "cell_type": "code",
   "execution_count": 135,
   "metadata": {},
   "outputs": [
    {
     "data": {
      "text/plain": [
       "[Eq(omega[1], nu1), Eq(omega[2], nu2), Eq(omega[3], nu3)]"
      ]
     },
     "execution_count": 135,
     "metadata": {},
     "output_type": "execute_result"
    }
   ],
   "source": [
    "S.omega_equations"
   ]
  },
  {
   "cell_type": "code",
   "execution_count": 136,
   "metadata": {},
   "outputs": [
    {
     "data": {
      "text/plain": [
       "[nu1, nu2, nu3]"
      ]
     },
     "execution_count": 136,
     "metadata": {},
     "output_type": "execute_result"
    }
   ],
   "source": [
    "MechanicalSystem.right_part_Eqs(S.omega_equations)"
   ]
  },
  {
   "cell_type": "code",
   "execution_count": 137,
   "metadata": {},
   "outputs": [
    {
     "data": {
      "text/latex": [
       "$\\displaystyle \\frac{m \\left(\\left(\\frac{d}{d t} x\\right)^{2} + \\left(\\frac{d}{d t} y\\right)^{2}\\right)}{2} + \\frac{\\left(\\frac{d}{d t} \\alpha\\right)^{2} {J}_{s}}{2}$"
      ],
      "text/plain": [
       "m*(Derivative(x, t)**2 + Derivative(y, t)**2)/2 + Derivative(alpha, t)**2*J[s]/2"
      ]
     },
     "execution_count": 137,
     "metadata": {},
     "output_type": "execute_result"
    }
   ],
   "source": [
    "L.args[1]"
   ]
  },
  {
   "cell_type": "markdown",
   "metadata": {},
   "source": [
    "##### Разберемся с  $$ \\frac{\\partial L}{\\partial \\omega_{\\alpha}} $$"
   ]
  },
  {
   "cell_type": "code",
   "execution_count": 138,
   "metadata": {},
   "outputs": [],
   "source": [
    "# for x in S.right_part_Eqs(S.v_equations):\n",
    "#     left+=\n",
    "# S.diff_hack(L.args[1], x) for x in ]"
   ]
  },
  {
   "cell_type": "code",
   "execution_count": 139,
   "metadata": {},
   "outputs": [],
   "source": [
    "# S.diff_hack(L.args[1], Derivative(y,t))"
   ]
  },
  {
   "cell_type": "code",
   "execution_count": 140,
   "metadata": {},
   "outputs": [],
   "source": [
    "# S.diff_hack(L.args[1], Derivative(alpha,t))"
   ]
  },
  {
   "cell_type": "code",
   "execution_count": 141,
   "metadata": {},
   "outputs": [],
   "source": [
    "# xx = symbols('xx')\n",
    "# diff(Derivative(x, t).subs(Derivative(x, t), xx), xx)"
   ]
  },
  {
   "cell_type": "code",
   "execution_count": 41,
   "metadata": {},
   "outputs": [],
   "source": [
    "def create_fs(fs):\n",
    "    return fs.subs(\n",
    "    {\n",
    "        nu1: Function('nu1')(t),\n",
    "        nu2: Function('nu2')(t),\n",
    "        nu3: Function('nu3')(t)\n",
    "    }\n",
    ")\n"
   ]
  },
  {
   "cell_type": "code",
   "execution_count": 143,
   "metadata": {},
   "outputs": [
    {
     "data": {
      "text/latex": [
       "$\\displaystyle \\frac{m \\left(\\nu_{1}^{2} + \\nu_{2}^{2}\\right)}{2} + \\frac{\\nu_{3}^{2} {J}_{s}}{2}$"
      ],
      "text/plain": [
       "m*(nu1**2 + nu2**2)/2 + nu3**2*J[s]/2"
      ]
     },
     "execution_count": 143,
     "metadata": {},
     "output_type": "execute_result"
    }
   ],
   "source": [
    "S.sub_connections(L).args[1]"
   ]
  },
  {
   "cell_type": "code",
   "execution_count": 144,
   "metadata": {},
   "outputs": [],
   "source": [
    "l1 = lambda x: S.sub_connections(L).args[1].diff(x)\n",
    "    \n",
    "# create_fs(left).diff(t)"
   ]
  },
  {
   "cell_type": "markdown",
   "metadata": {},
   "source": [
    "### Уравнения"
   ]
  },
  {
   "cell_type": "code",
   "execution_count": 213,
   "metadata": {},
   "outputs": [],
   "source": [
    "left, right = 0,0"
   ]
  },
  {
   "cell_type": "code",
   "execution_count": 214,
   "metadata": {},
   "outputs": [],
   "source": [
    "i = 0"
   ]
  },
  {
   "cell_type": "markdown",
   "metadata": {},
   "source": [
    "### Уравнения Татаринова\n",
    "$$\n",
    "\\frac{d}{dt} \\frac{\\partial L*}{\\partial \\omega_{\\alpha}} +\n",
    "\\{P_{\\alpha}, L*\\} = \n",
    "\\{P_{\\alpha}, \\sum_{\\mu}{\\omega_{\\mu} P_{\\mu}} \\} +\n",
    "\\sum_{i}{Q_i \\frac{\\partial v_i}{ \\partial \\omega_{\\alpha}}}\n",
    "$$"
   ]
  },
  {
   "cell_type": "code",
   "execution_count": 215,
   "metadata": {},
   "outputs": [
    {
     "data": {
      "text/latex": [
       "$\\displaystyle L = \\frac{m \\left(\\left(\\frac{d}{d t} x\\right)^{2} + \\left(\\frac{d}{d t} y\\right)^{2}\\right)}{2} + \\frac{\\left(\\frac{d}{d t} \\alpha\\right)^{2} {J}_{s}}{2}$"
      ],
      "text/plain": [
       "Eq(L, m*(Derivative(x, t)**2 + Derivative(y, t)**2)/2 + Derivative(alpha, t)**2*J[s]/2)"
      ]
     },
     "execution_count": 215,
     "metadata": {},
     "output_type": "execute_result"
    }
   ],
   "source": [
    "# left += create_fs(S.sub_connections(L).args[1])\n",
    "# left\n",
    "\n",
    "# left = left.diff(create_fs(MechanicalSystem.right_part_Eqs(S.omega_equations)[i]))\n",
    "# left\n",
    "L"
   ]
  },
  {
   "cell_type": "code",
   "execution_count": 216,
   "metadata": {},
   "outputs": [
    {
     "data": {
      "text/latex": [
       "$\\displaystyle \\frac{m \\left(\\nu_{1}^{2} + \\nu_{2}^{2}\\right)}{2} + \\frac{\\nu_{3}^{2} {J}_{s}}{2}$"
      ],
      "text/plain": [
       "m*(nu1**2 + nu2**2)/2 + nu3**2*J[s]/2"
      ]
     },
     "execution_count": 216,
     "metadata": {},
     "output_type": "execute_result"
    }
   ],
   "source": [
    "left = S.sub_connections(L)\n",
    "left = left.args[1]\n",
    "left"
   ]
  },
  {
   "cell_type": "code",
   "execution_count": 217,
   "metadata": {},
   "outputs": [
    {
     "data": {
      "text/latex": [
       "$\\displaystyle m \\nu_{1}$"
      ],
      "text/plain": [
       "m*nu1"
      ]
     },
     "execution_count": 217,
     "metadata": {},
     "output_type": "execute_result"
    }
   ],
   "source": [
    "left = left.diff(nu1)\n",
    "left"
   ]
  },
  {
   "cell_type": "code",
   "execution_count": 218,
   "metadata": {},
   "outputs": [
    {
     "data": {
      "text/plain": [
       "[Eq(v[1], Derivative(x, t)),\n",
       " Eq(v[2], Derivative(y, t)),\n",
       " Eq(v[3], Derivative(alpha, t))]"
      ]
     },
     "execution_count": 218,
     "metadata": {},
     "output_type": "execute_result"
    }
   ],
   "source": [
    "S.v_equations"
   ]
  },
  {
   "cell_type": "code",
   "execution_count": 219,
   "metadata": {},
   "outputs": [
    {
     "data": {
      "text/plain": [
       "[m*(nu1*cos(alpha) - nu2*sin(alpha)),\n",
       " m*(nu1*sin(alpha) + nu2*cos(alpha)),\n",
       " nu3*J[s]]"
      ]
     },
     "execution_count": 219,
     "metadata": {},
     "output_type": "execute_result"
    }
   ],
   "source": [
    "fps = lambda i: S.sub_connections(S.diff_hack(L.args[1], S.right_part_Eqs(S.v_equations)[i]))\n",
    "ps = [fps(x) for x in range(3)]\n",
    "ps"
   ]
  },
  {
   "cell_type": "code",
   "execution_count": 220,
   "metadata": {},
   "outputs": [
    {
     "data": {
      "text/latex": [
       "$\\displaystyle \\sin{\\left(\\alpha \\right)} {p}_{2} + \\cos{\\left(\\alpha \\right)} {p}_{1}$"
      ],
      "text/plain": [
       "sin(alpha)*p[2] + cos(alpha)*p[1]"
      ]
     },
     "execution_count": 220,
     "metadata": {},
     "output_type": "execute_result"
    }
   ],
   "source": [
    "Ps[0].args[1]"
   ]
  },
  {
   "cell_type": "code",
   "execution_count": 221,
   "metadata": {},
   "outputs": [
    {
     "data": {
      "text/latex": [
       "$\\displaystyle \\frac{m \\left(\\nu_{1}^{2} + \\nu_{2}^{2}\\right)}{2} + \\frac{\\nu_{3}^{2} {J}_{s}}{2}$"
      ],
      "text/plain": [
       "m*(nu1**2 + nu2**2)/2 + nu3**2*J[s]/2"
      ]
     },
     "execution_count": 221,
     "metadata": {},
     "output_type": "execute_result"
    }
   ],
   "source": [
    "S.sub_connections(L).args[1]"
   ]
  },
  {
   "cell_type": "code",
   "execution_count": 222,
   "metadata": {},
   "outputs": [
    {
     "data": {
      "text/latex": [
       "$\\displaystyle 0$"
      ],
      "text/plain": [
       "0"
      ]
     },
     "execution_count": 222,
     "metadata": {},
     "output_type": "execute_result"
    }
   ],
   "source": [
    "S.poisson_bracket(Ps[0].args[1], S.sub_connections(L).args[1])"
   ]
  },
  {
   "cell_type": "code",
   "execution_count": 25,
   "metadata": {},
   "outputs": [
    {
     "ename": "NameError",
     "evalue": "name 'left' is not defined",
     "output_type": "error",
     "traceback": [
      "\u001b[0;31m---------------------------------------------------------------------------\u001b[0m",
      "\u001b[0;31mNameError\u001b[0m                                 Traceback (most recent call last)",
      "\u001b[0;32m<ipython-input-25-9d0525cb385f>\u001b[0m in \u001b[0;36m<module>\u001b[0;34m\u001b[0m\n\u001b[0;32m----> 1\u001b[0;31m \u001b[0mleft\u001b[0m \u001b[0;34m+=\u001b[0m \u001b[0mS\u001b[0m\u001b[0;34m.\u001b[0m\u001b[0mpoisson_bracket\u001b[0m\u001b[0;34m(\u001b[0m\u001b[0mPs\u001b[0m\u001b[0;34m[\u001b[0m\u001b[0;36m0\u001b[0m\u001b[0;34m]\u001b[0m\u001b[0;34m.\u001b[0m\u001b[0margs\u001b[0m\u001b[0;34m[\u001b[0m\u001b[0;36m1\u001b[0m\u001b[0;34m]\u001b[0m\u001b[0;34m,\u001b[0m \u001b[0mS\u001b[0m\u001b[0;34m.\u001b[0m\u001b[0msub_connections\u001b[0m\u001b[0;34m(\u001b[0m\u001b[0mL\u001b[0m\u001b[0;34m)\u001b[0m\u001b[0;34m.\u001b[0m\u001b[0margs\u001b[0m\u001b[0;34m[\u001b[0m\u001b[0;36m1\u001b[0m\u001b[0;34m]\u001b[0m\u001b[0;34m)\u001b[0m\u001b[0;34m\u001b[0m\u001b[0;34m\u001b[0m\u001b[0m\n\u001b[0m\u001b[1;32m      2\u001b[0m \u001b[0mleft\u001b[0m \u001b[0;34m=\u001b[0m \u001b[0mcreate_fs\u001b[0m\u001b[0;34m(\u001b[0m\u001b[0mleft\u001b[0m\u001b[0;34m)\u001b[0m\u001b[0;34m.\u001b[0m\u001b[0mdiff\u001b[0m\u001b[0;34m(\u001b[0m\u001b[0mt\u001b[0m\u001b[0;34m)\u001b[0m\u001b[0;34m\u001b[0m\u001b[0;34m\u001b[0m\u001b[0m\n",
      "\u001b[0;31mNameError\u001b[0m: name 'left' is not defined"
     ]
    }
   ],
   "source": [
    "left += S.poisson_bracket(Ps[0].args[1], S.sub_connections(L).args[1])\n",
    "left = create_fs(left).diff(t)"
   ]
  },
  {
   "cell_type": "code",
   "execution_count": 26,
   "metadata": {},
   "outputs": [
    {
     "data": {
      "text/latex": [
       "$\\displaystyle \\nu_{1} \\left(\\sin{\\left(\\alpha \\right)} {p}_{2} + \\cos{\\left(\\alpha \\right)} {p}_{1}\\right) + \\nu_{2} \\left(- \\sin{\\left(\\alpha \\right)} {p}_{1} + \\cos{\\left(\\alpha \\right)} {p}_{2}\\right) + \\nu_{3} {p}_{3}$"
      ],
      "text/plain": [
       "nu1*(sin(alpha)*p[2] + cos(alpha)*p[1]) + nu2*(-sin(alpha)*p[1] + cos(alpha)*p[2]) + nu3*p[3]"
      ]
     },
     "execution_count": 26,
     "metadata": {},
     "output_type": "execute_result"
    }
   ],
   "source": [
    "bracket_sum = nu1*(p[1]*cos(alpha) + p[2]*sin(alpha)) + nu2*(-p[1]*sin(alpha) + p[2]*cos(alpha)) + nu3*p[3]\n",
    "bracket_sum"
   ]
  },
  {
   "cell_type": "code",
   "execution_count": 225,
   "metadata": {},
   "outputs": [
    {
     "data": {
      "text/latex": [
       "$\\displaystyle \\nu_{3} \\left(- \\sin{\\left(\\alpha \\right)} {p}_{1} + \\cos{\\left(\\alpha \\right)} {p}_{2}\\right)$"
      ],
      "text/plain": [
       "nu3*(-sin(alpha)*p[1] + cos(alpha)*p[2])"
      ]
     },
     "execution_count": 225,
     "metadata": {},
     "output_type": "execute_result"
    }
   ],
   "source": [
    "S.poisson_bracket(Ps[0].args[1], bracket_sum)"
   ]
  },
  {
   "cell_type": "code",
   "execution_count": 226,
   "metadata": {},
   "outputs": [
    {
     "data": {
      "text/latex": [
       "$\\displaystyle \\nu_{3} \\left(- \\sin{\\left(\\alpha \\right)} {p}_{1} + \\cos{\\left(\\alpha \\right)} {p}_{2}\\right)$"
      ],
      "text/plain": [
       "nu3*(-sin(alpha)*p[1] + cos(alpha)*p[2])"
      ]
     },
     "execution_count": 226,
     "metadata": {},
     "output_type": "execute_result"
    }
   ],
   "source": [
    "right += S.poisson_bracket(Ps[0].args[1], bracket_sum)\n",
    "right"
   ]
  },
  {
   "cell_type": "code",
   "execution_count": 227,
   "metadata": {},
   "outputs": [
    {
     "data": {
      "text/latex": [
       "$\\displaystyle W$"
      ],
      "text/plain": [
       "W"
      ]
     },
     "execution_count": 227,
     "metadata": {},
     "output_type": "execute_result"
    }
   ],
   "source": [
    "simplify(ll(0))"
   ]
  },
  {
   "cell_type": "code",
   "execution_count": 228,
   "metadata": {},
   "outputs": [
    {
     "data": {
      "text/latex": [
       "$\\displaystyle W + \\nu_{3} \\left(- \\sin{\\left(\\alpha \\right)} {p}_{1} + \\cos{\\left(\\alpha \\right)} {p}_{2}\\right)$"
      ],
      "text/plain": [
       "W + nu3*(-sin(alpha)*p[1] + cos(alpha)*p[2])"
      ]
     },
     "execution_count": 228,
     "metadata": {},
     "output_type": "execute_result"
    }
   ],
   "source": [
    "right += simplify(ll(0))\n",
    "right"
   ]
  },
  {
   "cell_type": "code",
   "execution_count": 229,
   "metadata": {},
   "outputs": [],
   "source": [
    "right = create_fs(right)"
   ]
  },
  {
   "cell_type": "code",
   "execution_count": 230,
   "metadata": {},
   "outputs": [
    {
     "data": {
      "text/latex": [
       "$\\displaystyle m \\frac{d}{d t} \\nu_{1}{\\left(t \\right)} = W + \\left(- \\sin{\\left(\\alpha \\right)} {p}_{1} + \\cos{\\left(\\alpha \\right)} {p}_{2}\\right) \\nu_{3}{\\left(t \\right)}$"
      ],
      "text/plain": [
       "Eq(m*Derivative(nu1(t), t), W + (-sin(alpha)*p[1] + cos(alpha)*p[2])*nu3(t))"
      ]
     },
     "execution_count": 230,
     "metadata": {},
     "output_type": "execute_result"
    }
   ],
   "source": [
    "Eq(left, right)"
   ]
  },
  {
   "cell_type": "code",
   "execution_count": 231,
   "metadata": {},
   "outputs": [],
   "source": [
    "RES = Eq(left, right).subs({p[1]: ps[0], p[2]: ps[1], p[3]: ps[2]})"
   ]
  },
  {
   "cell_type": "code",
   "execution_count": 232,
   "metadata": {},
   "outputs": [
    {
     "data": {
      "text/latex": [
       "$\\displaystyle m \\frac{d}{d t} \\nu_{1}{\\left(t \\right)} = W + \\left(m \\left(\\nu_{1} \\sin{\\left(\\alpha \\right)} + \\nu_{2} \\cos{\\left(\\alpha \\right)}\\right) \\cos{\\left(\\alpha \\right)} - m \\left(\\nu_{1} \\cos{\\left(\\alpha \\right)} - \\nu_{2} \\sin{\\left(\\alpha \\right)}\\right) \\sin{\\left(\\alpha \\right)}\\right) \\nu_{3}{\\left(t \\right)}$"
      ],
      "text/plain": [
       "Eq(m*Derivative(nu1(t), t), W + (m*(nu1*sin(alpha) + nu2*cos(alpha))*cos(alpha) - m*(nu1*cos(alpha) - nu2*sin(alpha))*sin(alpha))*nu3(t))"
      ]
     },
     "execution_count": 232,
     "metadata": {},
     "output_type": "execute_result"
    }
   ],
   "source": [
    "RES"
   ]
  },
  {
   "cell_type": "code",
   "execution_count": 233,
   "metadata": {},
   "outputs": [
    {
     "data": {
      "text/latex": [
       "$\\displaystyle W + m \\nu_{2} \\nu_{3}{\\left(t \\right)} = m \\frac{d}{d t} \\nu_{1}{\\left(t \\right)}$"
      ],
      "text/plain": [
       "Eq(W + m*nu2*nu3(t), m*Derivative(nu1(t), t))"
      ]
     },
     "execution_count": 233,
     "metadata": {},
     "output_type": "execute_result"
    }
   ],
   "source": [
    "simplify(RES)"
   ]
  },
  {
   "cell_type": "code",
   "execution_count": null,
   "metadata": {},
   "outputs": [],
   "source": []
  },
  {
   "cell_type": "code",
   "execution_count": null,
   "metadata": {},
   "outputs": [],
   "source": []
  },
  {
   "cell_type": "code",
   "execution_count": 52,
   "metadata": {},
   "outputs": [
    {
     "data": {
      "text/latex": [
       "$\\displaystyle T \\xi - W \\eta$"
      ],
      "text/plain": [
       "T*xi - W*eta"
      ]
     },
     "execution_count": 52,
     "metadata": {},
     "output_type": "execute_result"
    }
   ],
   "source": [
    "S.Q[2].simplify()"
   ]
  },
  {
   "cell_type": "code",
   "execution_count": null,
   "metadata": {},
   "outputs": [],
   "source": []
  },
  {
   "cell_type": "code",
   "execution_count": 43,
   "metadata": {},
   "outputs": [],
   "source": [
    "bracket_sum = nu1*(p[1]*cos(alpha) + p[2]*sin(alpha)) + nu2*(-p[1]*sin(alpha) + p[2]*cos(alpha)) + nu3*p[3]"
   ]
  },
  {
   "cell_type": "code",
   "execution_count": 48,
   "metadata": {},
   "outputs": [
    {
     "data": {
      "text/latex": [
       "$\\displaystyle m \\frac{d}{d t} \\nu_{1}{\\left(t \\right)} = W - \\left(\\sin{\\left(\\alpha \\right)} {p}_{1} - \\cos{\\left(\\alpha \\right)} {p}_{2}\\right) \\nu_{3}{\\left(t \\right)}$"
      ],
      "text/plain": [
       "Eq(m*Derivative(nu1(t), t), W - (sin(alpha)*p[1] - cos(alpha)*p[2])*nu3(t))"
      ]
     },
     "metadata": {},
     "output_type": "display_data"
    },
    {
     "data": {
      "text/latex": [
       "$\\displaystyle m \\frac{d}{d t} \\nu_{2}{\\left(t \\right)} = T - \\left(\\sin{\\left(\\alpha \\right)} {p}_{2} + \\cos{\\left(\\alpha \\right)} {p}_{1}\\right) \\nu_{3}{\\left(t \\right)}$"
      ],
      "text/plain": [
       "Eq(m*Derivative(nu2(t), t), T - (sin(alpha)*p[2] + cos(alpha)*p[1])*nu3(t))"
      ]
     },
     "metadata": {},
     "output_type": "display_data"
    },
    {
     "data": {
      "text/latex": [
       "$\\displaystyle \\frac{d}{d t} \\nu_{3}{\\left(t \\right)} {J}_{s} = \\left(\\sin{\\left(\\alpha \\right)} {p}_{1} - \\cos{\\left(\\alpha \\right)} {p}_{2}\\right) \\nu_{1}{\\left(t \\right)} + \\left(\\sin{\\left(\\alpha \\right)} {p}_{2} + \\cos{\\left(\\alpha \\right)} {p}_{1}\\right) \\nu_{2}{\\left(t \\right)}$"
      ],
      "text/plain": [
       "Eq(Derivative(nu3(t), t)*J[s], (sin(alpha)*p[1] - cos(alpha)*p[2])*nu1(t) + (sin(alpha)*p[2] + cos(alpha)*p[1])*nu2(t))"
      ]
     },
     "metadata": {},
     "output_type": "display_data"
    }
   ],
   "source": [
    "for i in range(3):\n",
    "    left, right = 0,0\n",
    "    left = S.sub_connections(L)\n",
    "    left = left.args[1]\n",
    "    left = left.diff(S.right_part_Eqs(S.omega_equations)[i])\n",
    "    left += S.poisson_bracket(Ps[i].args[1], S.sub_connections(L).args[1])\n",
    "    left = create_fs(left).diff(t)\n",
    "    right += S.poisson_bracket(Ps[i].args[1], bracket_sum)\n",
    "    right += simplify(ll(i))\n",
    "    right = create_fs(right)\n",
    "    \n",
    "    display(simplify(Eq(left, right)))"
   ]
  },
  {
   "cell_type": "code",
   "execution_count": null,
   "metadata": {},
   "outputs": [],
   "source": []
  },
  {
   "cell_type": "code",
   "execution_count": null,
   "metadata": {},
   "outputs": [],
   "source": []
  },
  {
   "cell_type": "code",
   "execution_count": null,
   "metadata": {},
   "outputs": [],
   "source": []
  },
  {
   "cell_type": "code",
   "execution_count": null,
   "metadata": {},
   "outputs": [],
   "source": []
  },
  {
   "cell_type": "code",
   "execution_count": 87,
   "metadata": {},
   "outputs": [
    {
     "ename": "AttributeError",
     "evalue": "type object 'MechanicalSystem' has no attribute 'set_q'",
     "output_type": "error",
     "traceback": [
      "\u001b[0;31m---------------------------------------------------------------------------\u001b[0m",
      "\u001b[0;31mAttributeError\u001b[0m                            Traceback (most recent call last)",
      "\u001b[0;32m<ipython-input-87-b7ffb0fd1d94>\u001b[0m in \u001b[0;36m<module>\u001b[0;34m\u001b[0m\n\u001b[1;32m      1\u001b[0m \u001b[0;31m# Interface\u001b[0m\u001b[0;34m\u001b[0m\u001b[0;34m\u001b[0m\u001b[0;34m\u001b[0m\u001b[0m\n\u001b[1;32m      2\u001b[0m \u001b[0;34m\u001b[0m\u001b[0m\n\u001b[0;32m----> 3\u001b[0;31m \u001b[0mMechanicalSystem\u001b[0m\u001b[0;34m.\u001b[0m\u001b[0mset_q\u001b[0m\u001b[0;34m(\u001b[0m\u001b[0;34m)\u001b[0m\u001b[0;34m\u001b[0m\u001b[0;34m\u001b[0m\u001b[0m\n\u001b[0m\u001b[1;32m      4\u001b[0m \u001b[0mMechanicalSystem\u001b[0m\u001b[0;34m.\u001b[0m\u001b[0mset_p\u001b[0m\u001b[0;34m(\u001b[0m\u001b[0;34m)\u001b[0m\u001b[0;34m\u001b[0m\u001b[0;34m\u001b[0m\u001b[0m\n\u001b[1;32m      5\u001b[0m \u001b[0;31m# ...\u001b[0m\u001b[0;34m\u001b[0m\u001b[0;34m\u001b[0m\u001b[0;34m\u001b[0m\u001b[0m\n",
      "\u001b[0;31mAttributeError\u001b[0m: type object 'MechanicalSystem' has no attribute 'set_q'"
     ]
    }
   ],
   "source": [
    "# Interface\n",
    "\n",
    "MechanicalSystem.set_q()\n",
    "MechanicalSystem.set_p()\n",
    "# ..."
   ]
  },
  {
   "cell_type": "code",
   "execution_count": null,
   "metadata": {},
   "outputs": [],
   "source": []
  },
  {
   "cell_type": "code",
   "execution_count": null,
   "metadata": {},
   "outputs": [],
   "source": [
    "v[1]"
   ]
  },
  {
   "cell_type": "code",
   "execution_count": null,
   "metadata": {},
   "outputs": [],
   "source": []
  },
  {
   "cell_type": "code",
   "execution_count": null,
   "metadata": {},
   "outputs": [],
   "source": []
  }
 ],
 "metadata": {
  "kernelspec": {
   "display_name": "Python 3",
   "language": "python",
   "name": "python3"
  },
  "language_info": {
   "codemirror_mode": {
    "name": "ipython",
    "version": 3
   },
   "file_extension": ".py",
   "mimetype": "text/x-python",
   "name": "python",
   "nbconvert_exporter": "python",
   "pygments_lexer": "ipython3",
   "version": "3.7.5"
  }
 },
 "nbformat": 4,
 "nbformat_minor": 2
}
