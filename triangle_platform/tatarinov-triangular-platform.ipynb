{
 "cells": [
  {
   "cell_type": "markdown",
   "metadata": {},
   "source": [
    "# Реализация нахождения уравнений движения с помощью Урванений Татаринова для платформы с одним колесом\n"
   ]
  },
  {
   "cell_type": "code",
   "execution_count": 1,
   "metadata": {},
   "outputs": [],
   "source": [
    "import sympy as sp\n",
    "import cloudpickle as pickle\n",
    "\n",
    "from copy import copy\n",
    "from sympy import Derivative, Symbol, IndexedBase, Eq, Idx, Sum, Function, Matrix, Add, N\n",
    "from sympy import diff, symbols, solve, simplify, poly, pprint, factor, integrate, lambdify, linear_eq_to_matrix, apart, trigsimp, cancel\n",
    "from sympy import cos, sin, pi\n",
    "from abc import ABC, abstractmethod\n",
    "\n",
    "from IPython.display import display, Markdown"
   ]
  },
  {
   "cell_type": "code",
   "execution_count": 2,
   "metadata": {},
   "outputs": [],
   "source": [
    "def create_fs(self, fs):\n",
    "    \"\"\" not good \"\"\"\n",
    "    # nu1, nu2, nu3 = symbols('nu1, nu2, nu3')\n",
    "    return fs.subs({\n",
    "        _nu1: Function('nu1_')(t),\n",
    "        _nu2: Function('nu2_')(t),\n",
    "        _nu3: Function('nu3_')(t)\n",
    "    })\n",
    "\n",
    "def create_ss(self, fs):\n",
    "    \"\"\" not good \"\"\"\n",
    "    # nu1, nu2, nu3 = symbols('nu1, nu2, nu3')\n",
    "    return fs.subs({\n",
    "        Function('nu1_')(t): _nu1,\n",
    "        Function('nu2_')(t): _nu2,\n",
    "        Function('nu3_')(t): _nu3\n",
    "    })\n",
    "\n",
    "def save(data, name):\n",
    "    with open(f'{name}.pickle', 'wb') as f:\n",
    "        pickle.dump(copy(data), f)\n",
    "        \n",
    "def load(name):\n",
    "    with open(f'{name}.pickle', 'rb') as f:\n",
    "        data = pickle.load(f)\n",
    "    return data\n",
    "\n",
    "def MatrixElDerivative(mat):\n",
    "    return Matrix([x.diff(t) for x in mat])\n",
    "\n",
    "def subs_Eqs(eq, Eqs):\n",
    "    \"\"\" \n",
    "        Например: x = z+2*y\n",
    "        Это eq.subs({x: z+2*y})\n",
    "    \"\"\"\n",
    "    for Eq in Eqs:\n",
    "        left, right = Eq.args[0], Eq.args[1]\n",
    "        eq = eq.subs({left: right})\n",
    "    return eq\n",
    "\n",
    "def subs_xy(obj):\n",
    "    substed = obj.subs({nu[1]: eq['nu1(x,y)'],\n",
    "                        nu[2]: eq['nu2(x,y)']})\n",
    "    return substed\n",
    "\n",
    "def display_list(l, spaces=False):\n",
    "    for x in l:\n",
    "        if spaces:\n",
    "            display(Markdown('---'))\n",
    "        display(x)"
   ]
  },
  {
   "cell_type": "markdown",
   "metadata": {},
   "source": [
    "### Уравнения Татаринова\n",
    "$$\n",
    "\\frac{d}{dt} \\frac{\\partial L*}{\\partial \\omega_{\\alpha}} +\n",
    "\\{P_{\\alpha}, L*\\} = \n",
    "\\{P_{\\alpha}, \\sum_{\\mu}{\\omega_{\\mu} P_{\\mu}} \\} +\n",
    "\\sum_{i}{Q_i \\frac{\\partial v_i}{ \\partial \\omega_{\\alpha}}}\n",
    "$$"
   ]
  },
  {
   "cell_type": "markdown",
   "metadata": {},
   "source": [
    "### Скобка Пуассона\n",
    "$$\n",
    "\\{f, g\\} = \\sum_{i=1}^{N} \\left( \\frac{\\partial f}{\\partial q_{i}} \\frac{\\partial g}{\\partial p_{i}} - \\frac{\\partial f}{\\partial p_i} \\frac{\\partial g}{\\partial q_i}\\right).\n",
    "$$"
   ]
  },
  {
   "cell_type": "markdown",
   "metadata": {},
   "source": [
    "### Функции $ P_{\\alpha} $\n",
    "$$\n",
    "\\sum_{\\alpha}{P_{\\alpha} \\omega_{\\alpha}} = \\sum_i{p_iv_i}\n",
    "$$"
   ]
  },
  {
   "cell_type": "markdown",
   "metadata": {},
   "source": [
    "### Функции $v_i$\n",
    "$$\n",
    "v_i = \\dot{q}\n",
    "$$"
   ]
  },
  {
   "cell_type": "code",
   "execution_count": 3,
   "metadata": {},
   "outputs": [],
   "source": [
    "class MechanicalSystem():\n",
    "    \n",
    "    def __init__(self):\n",
    "        pass\n",
    "    \n",
    "    def set_q(self, q):\n",
    "        self.q = q\n",
    "    \n",
    "    def set_p(self, p):\n",
    "        self.p = p\n",
    "    \n",
    "    def poisson_bracket(self, F, G): # надо сделать, чтобы использовалось IndexedBase\n",
    "        \"\"\" To evaluate an unevaluated derivative, use the doit method. \"\"\"\n",
    "        res = 0\n",
    "        for i in range(3):\n",
    "            res += diff(F, self.q[i])*diff(G, self.p[i])\n",
    "            res -= diff(F, self.p[i])*diff(G, self.q[i])\n",
    "        return res\n",
    "    \n",
    "    @staticmethod\n",
    "    def sub_Eq(equation, Eq):\n",
    "        return equation.subs(Eq.args[0], Eq.args[1])\n",
    "    \n",
    "    @classmethod\n",
    "    def sub_Eqs(cls, equation, Eqs):\n",
    "        sub_equation = equation\n",
    "        for Eq in Eqs:\n",
    "            sub_equation = cls.sub_Eq(sub_equation, Eq)\n",
    "        return sub_equation \n",
    "    \n",
    "    @staticmethod\n",
    "    def left_part_Eqs(Eqs):\n",
    "        return [Eq.args[0] for Eq in Eqs]\n",
    "    \n",
    "    @staticmethod\n",
    "    def right_part_Eqs(Eqs):\n",
    "        return [Eq.args[1] for Eq in Eqs]\n",
    "    \n",
    "    def set_constraints(self, constraints):\n",
    "        \"\"\" Setting up constraints \"\"\"\n",
    "        self.constraints = constraints\n",
    "        \n",
    "    def sub_constraints(self, func):\n",
    "        \"\"\" Substitutes constraints in the equation\n",
    "        Private special case:\n",
    "            L -> L* \n",
    "        \"\"\"\n",
    "        sub_dict = {conn.args[0]: conn.args[1] for conn in self.constraints}\n",
    "        return func.subs(sub_dict)\n",
    "    \n",
    "    def sub_constraints_to_list(self, equations):\n",
    "        return [self.sub_constraints(equation) for equation in equations]\n",
    "    \n",
    "    @staticmethod\n",
    "    def diff_hack(equation, by):\n",
    "        \"\"\" eq -> eq.subs(Derivative -> temp_variable) -> eq.diff(temp_variable) ->\n",
    "            -> eq.subs(temp_variable -> Derivative)\n",
    "        \"\"\"\n",
    "        tmp_by = Symbol('tmp_by')\n",
    "        tmp_eq = equation.subs({by: tmp_by})\n",
    "        tmp_eq = tmp_eq.diff(tmp_by)\n",
    "        return tmp_eq.subs({tmp_by: by})\n",
    "        "
   ]
  },
  {
   "cell_type": "code",
   "execution_count": 4,
   "metadata": {},
   "outputs": [],
   "source": [
    "class TatarinovSystem(MechanicalSystem):\n",
    "    \n",
    "    def __init__(self, N=3, debug=True):\n",
    "        super().__init__()\n",
    "        self.N = N\n",
    "        self.tatarinov_equations = [None]*N\n",
    "        self.debug = True\n",
    "        \n",
    "    def set_omega_equations(self, omegas, equations):\n",
    "        omega_equations = [Eq(omega, equation) for omega, equation in zip(omegas, equations)]\n",
    "        self.omega_equations = omega_equations\n",
    "        \n",
    "    def set_v_equations(self, vs, equations): # vs - не лучшее название\n",
    "        v_equations = [Eq(v, equation) for v, equation in zip(vs, equations)]\n",
    "        self.v_equations = v_equations\n",
    "\n",
    "    def set_P(self):\n",
    "        k, mu = symbols('k, mu', cls=Idx)\n",
    "        left = Sum(P[k]*om[k], (k, 1, self.N)).doit()\n",
    "        right = Sum(p[i]*v[i], (k, 1, self.N))\n",
    "        Eq(left, right)\n",
    "    \n",
    "    def set_L(self, L):\n",
    "        self.L = L\n",
    "        \n",
    "    def set_L_star(self, L_star):\n",
    "        self.L_star = simplify(L_star)\n",
    "    \n",
    "    def set_F(self, F):\n",
    "        self.F = F\n",
    "    \n",
    "    def create_r(self):\n",
    "        r = {}\n",
    "        r['s'] = x*e['x'] + y*e['y']\n",
    "        r['p'] = r['s'] + xi*e['xi'] + eta*e['eta']\n",
    "        self.r = r\n",
    "        return self.r\n",
    "\n",
    "    def set_Qs(self, Qs):\n",
    "        self.Qs = Qs\n",
    "    \n",
    "    def create_P(self):\n",
    "        equations_for_P = Eq(\n",
    "            Sum(P[k]*_omega[k], (k, 1, S.N)),\n",
    "            Sum(p[k]*_v[k], (k, 1, S.N)))\n",
    "        print(equations_for_P)\n",
    "        # subs omega_i and v_i\n",
    "        sub_equations_for_P = TatarinovSystem.sub_Eqs(\n",
    "            equations_for_P.doit(), # important\n",
    "            self.omega_equations + self.v_equations) # for Ex: omega[1] -> nu1), v[1] -> x', ....\n",
    "        # subs_constraints\n",
    "        sub_conn_equations_for_P = self.sub_constraints(sub_equations_for_P)\n",
    "        print(sub_conn_equations_for_P)\n",
    "        # to equate the coefficients\n",
    "        left_coeffs = poly(sub_conn_equations_for_P.args[0], TatarinovSystem.right_part_Eqs(self.omega_equations)).coeffs()\n",
    "        right_coeffs = poly(sub_conn_equations_for_P.args[1], TatarinovSystem.right_part_Eqs(self.omega_equations)).coeffs()\n",
    "        final_equations_for_P = [Eq(left, right) for left, right in zip(left_coeffs, right_coeffs)]\n",
    "        self.Ps = final_equations_for_P\n",
    "        return final_equations_for_P\n",
    "    \n",
    "    def create_Q(self, F, r_p):\n",
    "        self.Q = [F.dot(r_p.diff(x)) for x in self.q]\n",
    "        \n",
    "    def set_Q(self, Q):\n",
    "        self.Q = Q\n",
    "    \n",
    "    def Q_dw_by_dv(self, i):\n",
    "        Q_dw_by_dv = lambda i,a: self.Q[i]*Derivative(self.right_part_Eqs(S.sub_constraints_to_list(S.v_equations))[i],\n",
    "                                                      self.right_part_Eqs(self.omega_equations)[a]).doit()\n",
    "        Q_dw_by_dv_sum = lambda a: Q_dw_by_dv(0,a) + Q_dw_by_dv(1,a) + Q_dw_by_dv(2,a) + Q_dw_by_dv(3,a) + Q_dw_by_dv(4,a)\n",
    "        return Q_dw_by_dv_sum(i)\n",
    "    \n",
    "    def tatarinov_equation__depricated(self, i):\n",
    "        left, right = 0, 0;\n",
    "        left += diff(diff(L, omega[k]), t)\n",
    "        left += poisson_bracket(P[k], L)\n",
    "        right += poisson_bracket(P[k], Sum(omega[k]*P[k], (k, 1, self.N)))\n",
    "        right += Sum(Q[l]*diff(v[l], omega[k]), (l, 1, self.N))\n",
    "        Eq(left, right)\n",
    "        \n",
    "    def create_bracket_sum(self):\n",
    "        \"\"\" not good \"\"\"\n",
    "        # return  _nu1*(p[1]*cos(alpha) + p[2]*sin(alpha)) + _nu2*(-p[1]*sin(alpha) + p[2]*cos(alpha)) + _nu3*p[3]\n",
    "        bracket_sum = [x*y for x,y in zip(S.right_part_Eqs(S.Ps), S.right_part_Eqs(S.omega_equations))]\n",
    "        res = 0\n",
    "        for x in range(3):\n",
    "            res += bracket_sum[x]\n",
    "        return res\n",
    "    \n",
    "    def solve_tatarinov_equations(self):\n",
    "        te = [self.tatarinov_equations[i] for x in range(3)]\n",
    "        sol = solve(te, [Derivative(self.create_fs(x), t) for x in S.right_part_Eqs(S.omega_equations)])\n",
    "        return sol\n",
    "\n",
    "    def tatarinov_equation(self, i):\n",
    "        left, right = 0,0\n",
    "        left = self.L_star.args[1]\n",
    "#         left = self.create_fs(left.diff(self.right_part_Eqs(self.omega_equations)[i])).diff(t)\n",
    "        left = left.diff(self.right_part_Eqs(self.omega_equations)[i])\n",
    "        left = simplify(left)\n",
    "        left = left.diff(t)\n",
    "        left = simplify(self.sub_constraints(left))\n",
    "        tmp = self.poisson_bracket(self.Ps[i].args[1], self.L_star.args[1])\n",
    "        left += simplify(self.sub_constraints(tmp))\n",
    "#         left = self.create_fs(left)\n",
    "        if self.debug:\n",
    "            display(left)\n",
    "        \n",
    "        right += self.poisson_bracket(self.Ps[i].args[1], self.create_bracket_sum())\n",
    "        right += simplify(self.Q_dw_by_dv(i))\n",
    "#         right = self.create_fs(right)\n",
    "        if self.debug:\n",
    "            display(right)\n",
    "        \n",
    "        ps = lambda i: self.sub_constraints(self.diff_hack(self.L.args[1], self.right_part_Eqs(self.v_equations)[i]))\n",
    "        self.tatarinov_equations[i] = Eq(left, right).subs({p[1]: ps(0), p[2]: ps(1), p[3]: ps(2)})\n",
    "        \n",
    "#         self.tatarinov_equations[i] = self.create_fs(simplify(self.tatarinov_equations[i]))\n",
    "        print('Flag')\n",
    "        self.tatarinov_equations[i] = simplify(self.tatarinov_equations[i])\n",
    "        \n",
    "        return self.tatarinov_equations[i]\n",
    "\n",
    "    def display_tatarinov_equations(self):\n",
    "        for eq in self.tatarinov_equations:\n",
    "            display(eq)"
   ]
  },
  {
   "cell_type": "markdown",
   "metadata": {},
   "source": [
    "##  Импорт платформы"
   ]
  },
  {
   "cell_type": "code",
   "execution_count": 73,
   "metadata": {},
   "outputs": [
    {
     "name": "stdout",
     "output_type": "stream",
     "text": [
      "The autoreload extension is already loaded. To reload it, use:\n",
      "  %reload_ext autoreload\n"
     ]
    }
   ],
   "source": [
    "%load_ext autoreload\n",
    "%autoreload 2\n",
    "\n",
    "from variables import *\n",
    "from structure import *\n",
    "from functions import *\n",
    "\n",
    "from latex import *"
   ]
  },
  {
   "cell_type": "markdown",
   "metadata": {},
   "source": [
    "#### Псевдоскорости $nu_1$, $nu_2$\n",
    "#### Координаты $\\theta_1$, $\\psi_1$, $\\alpha$\n",
    "#### Связи $\\psi_1(\\nu_1,\\nu_2), \\theta_1(\\nu_1,\\nu_2)$"
   ]
  },
  {
   "cell_type": "markdown",
   "metadata": {},
   "source": [
    "#### Скорости"
   ]
  },
  {
   "cell_type": "code",
   "execution_count": 6,
   "metadata": {},
   "outputs": [],
   "source": [
    "omega['platform']= lambda i: Derivative(alpha,t)*e['z']\n",
    "omega['fork']    = lambda i: omega['platform'](i) + Derivative(theta[i],t)*e['z']\n",
    "omega['wheel']   = lambda i: omega['fork'](i) + Derivative(psi[i],t)*n_wheel(i)"
   ]
  },
  {
   "cell_type": "code",
   "execution_count": 7,
   "metadata": {},
   "outputs": [],
   "source": [
    "v['S'] = euler(S, P)\n",
    "v['P'] = euler(P, C)\n",
    "v['C'] = euler(C, D)\n",
    "v['D'] = lambda i: Matrix([0,0,0]) # проскальзывания нет"
   ]
  },
  {
   "cell_type": "code",
   "execution_count": 8,
   "metadata": {},
   "outputs": [],
   "source": [
    "# tmp = v['C'](0).subs(\n",
    "# {\n",
    "#     Derivative(theta[0],t): eq['f(nu1,nu2)'](0)[Derivative(theta[0],t)],\n",
    "#     Derivative(psi[0],t): eq['f(nu1,nu2)'](0)[Derivative(psi[0],t)],\n",
    "# }\n",
    "# )\n",
    "# tmp"
   ]
  },
  {
   "cell_type": "code",
   "execution_count": 9,
   "metadata": {},
   "outputs": [],
   "source": [
    "# simplify(simplify(tmp).dot(simplify(tmp)))"
   ]
  },
  {
   "cell_type": "markdown",
   "metadata": {},
   "source": [
    "#### Угловые скорости"
   ]
  },
  {
   "cell_type": "code",
   "execution_count": 10,
   "metadata": {},
   "outputs": [],
   "source": [
    "omega['platform']= lambda i: Derivative(alpha,t)*e['z']\n",
    "omega['fork']    = lambda i: omega['platform'](i) + Derivative(theta[i],t)*e['z']\n",
    "omega['wheel']   = lambda i: omega['fork'](i) + Derivative(psi[i],t)*n_wheel(i)"
   ]
  },
  {
   "cell_type": "code",
   "execution_count": 11,
   "metadata": {},
   "outputs": [],
   "source": [
    "eq['nu1'] = lambda i: scalar(v['S'](i), e['xi'])\n",
    "eq['nu2'] = lambda i: scalar(v['S'](i), e['eta'])"
   ]
  },
  {
   "cell_type": "markdown",
   "metadata": {},
   "source": [
    "#### Псевдоскорости"
   ]
  },
  {
   "cell_type": "code",
   "execution_count": 12,
   "metadata": {},
   "outputs": [
    {
     "data": {
      "text/latex": [
       "$\\displaystyle \\left[\\begin{matrix}\\nu_{1}{\\left(t \\right)} = R \\sin{\\left(\\beta_{0} \\right)} \\frac{d}{d t} \\alpha{\\left(t \\right)} + d \\sin{\\left(\\theta_{0}{\\left(t \\right)} \\right)} \\frac{d}{d t} \\alpha{\\left(t \\right)} + d \\sin{\\left(\\theta_{0}{\\left(t \\right)} \\right)} \\frac{d}{d t} \\theta_{0}{\\left(t \\right)} + r \\cos{\\left(\\theta_{0}{\\left(t \\right)} \\right)} \\frac{d}{d t} \\psi_{0}{\\left(t \\right)}\\\\\\nu_{2}{\\left(t \\right)} = - R \\cos{\\left(\\beta_{0} \\right)} \\frac{d}{d t} \\alpha{\\left(t \\right)} - d \\cos{\\left(\\theta_{0}{\\left(t \\right)} \\right)} \\frac{d}{d t} \\alpha{\\left(t \\right)} - d \\cos{\\left(\\theta_{0}{\\left(t \\right)} \\right)} \\frac{d}{d t} \\theta_{0}{\\left(t \\right)} + r \\sin{\\left(\\theta_{0}{\\left(t \\right)} \\right)} \\frac{d}{d t} \\psi_{0}{\\left(t \\right)}\\end{matrix}\\right]$"
      ],
      "text/plain": [
       "Matrix([\n",
       "[ Eq(nu1(t), R*sin(beta0)*Derivative(alpha(t), t) + d*sin(theta0(t))*Derivative(alpha(t), t) + d*sin(theta0(t))*Derivative(theta0(t), t) + r*cos(theta0(t))*Derivative(psi0(t), t))],\n",
       "[Eq(nu2(t), -R*cos(beta0)*Derivative(alpha(t), t) - d*cos(theta0(t))*Derivative(alpha(t), t) - d*cos(theta0(t))*Derivative(theta0(t), t) + r*sin(theta0(t))*Derivative(psi0(t), t))]])"
      ]
     },
     "execution_count": 12,
     "metadata": {},
     "output_type": "execute_result"
    }
   ],
   "source": [
    "simplify(Matrix([Eq(nu[1], eq['nu1'](0)),\n",
    "                 Eq(nu[2], eq['nu2'](0))]))"
   ]
  },
  {
   "cell_type": "code",
   "execution_count": 13,
   "metadata": {},
   "outputs": [],
   "source": [
    "eq['f(nu1,nu2)'] = lambda i: solve(\n",
    "                      [Eq(eq['nu1'](i), nu[1]), Eq(eq['nu2'](i), nu[2])],\n",
    "                      [Derivative(psi[i],t), Derivative(theta[i],t)],\n",
    "                      dict=True)[0]; # возвращает словарь с выражениями для diff(psi) и diff(theta)"
   ]
  },
  {
   "cell_type": "code",
   "execution_count": 14,
   "metadata": {},
   "outputs": [
    {
     "data": {
      "text/latex": [
       "$\\displaystyle \\frac{d}{d t} \\alpha{\\left(t \\right)} = \\nu_{3}{\\left(t \\right)}$"
      ],
      "text/plain": [
       "Eq(Derivative(alpha(t), t), nu3(t))"
      ]
     },
     "execution_count": 14,
     "metadata": {},
     "output_type": "execute_result"
    }
   ],
   "source": [
    "Eq(Derivative(alpha), nu[3])"
   ]
  },
  {
   "cell_type": "markdown",
   "metadata": {},
   "source": [
    "####  Связи"
   ]
  },
  {
   "cell_type": "code",
   "execution_count": 15,
   "metadata": {},
   "outputs": [],
   "source": [
    "eq['diff(psi)_nu']   = lambda i: eq['f(nu1,nu2)'](i)[Derivative(psi[i],t)]\n",
    "eq['diff(theta)_nu'] = lambda i: eq['f(nu1,nu2)'](i)[Derivative(theta[i],t)]"
   ]
  },
  {
   "cell_type": "code",
   "execution_count": 16,
   "metadata": {},
   "outputs": [
    {
     "data": {
      "text/latex": [
       "$\\displaystyle \\left[\\begin{matrix}\\frac{d}{d t} \\psi_{0}{\\left(t \\right)} = \\frac{- R \\sin{\\left(\\beta_{0} - \\theta_{0}{\\left(t \\right)} \\right)} \\frac{d}{d t} \\alpha{\\left(t \\right)} + \\nu_{1}{\\left(t \\right)} \\cos{\\left(\\theta_{0}{\\left(t \\right)} \\right)} + \\nu_{2}{\\left(t \\right)} \\sin{\\left(\\theta_{0}{\\left(t \\right)} \\right)}}{r}\\\\\\frac{d}{d t} \\theta_{0}{\\left(t \\right)} = \\frac{- R \\cos{\\left(\\beta_{0} - \\theta_{0}{\\left(t \\right)} \\right)} \\frac{d}{d t} \\alpha{\\left(t \\right)} - d \\frac{d}{d t} \\alpha{\\left(t \\right)} + \\nu_{1}{\\left(t \\right)} \\sin{\\left(\\theta_{0}{\\left(t \\right)} \\right)} - \\nu_{2}{\\left(t \\right)} \\cos{\\left(\\theta_{0}{\\left(t \\right)} \\right)}}{d}\\end{matrix}\\right]$"
      ],
      "text/plain": [
       "Matrix([\n",
       "[                              Eq(Derivative(psi0(t), t), (-R*sin(beta0 - theta0(t))*Derivative(alpha(t), t) + nu1(t)*cos(theta0(t)) + nu2(t)*sin(theta0(t)))/r)],\n",
       "[Eq(Derivative(theta0(t), t), (-R*cos(beta0 - theta0(t))*Derivative(alpha(t), t) - d*Derivative(alpha(t), t) + nu1(t)*sin(theta0(t)) - nu2(t)*cos(theta0(t)))/d)]])"
      ]
     },
     "execution_count": 16,
     "metadata": {},
     "output_type": "execute_result"
    }
   ],
   "source": [
    "Matrix([Eq(Derivative(psi[0], t), eq['diff(psi)_nu'](0)),\n",
    "        Eq(Derivative(theta[0], t), eq['diff(theta)_nu'](0))])"
   ]
  },
  {
   "cell_type": "code",
   "execution_count": 17,
   "metadata": {},
   "outputs": [],
   "source": [
    "# L, m, x, y, t, alpha = symbols('L, m, x, y, t, alpha')\n",
    "# _nu1, _nu2, _nu3, _nu4, _nu5 = symbols('nu1_, nu2_, nu3_, nu4_, nu5_')\n",
    "# W, T = symbols('W, T')\n",
    "# s = symbols('s')\n",
    "P = IndexedBase('P')\n",
    "p = IndexedBase('p')\n",
    "# p = IndexedBase('p')\n",
    "_omega = IndexedBase('omega')\n",
    "_v = IndexedBase('v')\n",
    "# Q = IndexedBase('Q')\n",
    "k = symbols('k', cls=Idx)\n",
    "# J = IndexedBase('J')\n",
    "\n",
    "# xi, eta = symbols('xi, eta')\n",
    "# e = {}\n",
    "# e['x'] = Matrix([1,0])\n",
    "# e['y'] = Matrix([0,1])\n",
    "# e['xi'] = Matrix([cos(alpha), sin(alpha)])\n",
    "# e['eta'] = Matrix([-sin(alpha), cos(alpha)])"
   ]
  },
  {
   "cell_type": "code",
   "execution_count": 18,
   "metadata": {},
   "outputs": [],
   "source": [
    "# A, C, c = symbols('A, C, c')\n",
    "\n",
    "# psi, theta, phi = symbols('psi, theta, phi') # v\n",
    "\n",
    "# g = symbols('g')"
   ]
  },
  {
   "cell_type": "markdown",
   "metadata": {},
   "source": [
    "$$ L = T - V $$\n",
    "$$ T = T_{pl} + T_{fo} + T_{wh} $$"
   ]
  },
  {
   "cell_type": "markdown",
   "metadata": {},
   "source": [
    "$$ T_{pl} = \\frac{m_{pl} v_S^2}{2} + \\frac{(J_{pl} \\omega_{pl}, \\omega_{pl})}{2} $$\n",
    "$$ T_{fo} = 0$$\n",
    "$$ T_{wh} = \\frac{m_{wh} v_S^2}{2} + \\frac{(J_{wh} \\omega_{wh}, \\omega_{wh})}{2} $$"
   ]
  },
  {
   "cell_type": "markdown",
   "metadata": {},
   "source": [
    "#### Platform"
   ]
  },
  {
   "cell_type": "code",
   "execution_count": 19,
   "metadata": {},
   "outputs": [
    {
     "data": {
      "text/latex": [
       "$\\displaystyle m_{1}$"
      ],
      "text/plain": [
       "m1"
      ]
     },
     "execution_count": 19,
     "metadata": {},
     "output_type": "execute_result"
    }
   ],
   "source": [
    "m['platform']"
   ]
  },
  {
   "cell_type": "code",
   "execution_count": 20,
   "metadata": {},
   "outputs": [
    {
     "data": {
      "text/latex": [
       "$\\displaystyle \\left(\\frac{d}{d t} x{\\left(t \\right)}\\right)^{2} + \\left(\\frac{d}{d t} y{\\left(t \\right)}\\right)^{2}$"
      ],
      "text/plain": [
       "Derivative(x(t), t)**2 + Derivative(y(t), t)**2"
      ]
     },
     "execution_count": 20,
     "metadata": {},
     "output_type": "execute_result"
    }
   ],
   "source": [
    "Derivative(x, t)**2 + Derivative(y, t)**2"
   ]
  },
  {
   "cell_type": "code",
   "execution_count": 21,
   "metadata": {},
   "outputs": [],
   "source": [
    "J['platform'] = eye(3,3)*a"
   ]
  },
  {
   "cell_type": "code",
   "execution_count": 22,
   "metadata": {},
   "outputs": [
    {
     "data": {
      "text/latex": [
       "$\\displaystyle \\left[\\begin{matrix}0\\\\0\\\\\\frac{d}{d t} \\alpha{\\left(t \\right)}\\end{matrix}\\right]$"
      ],
      "text/plain": [
       "Matrix([\n",
       "[                      0],\n",
       "[                      0],\n",
       "[Derivative(alpha(t), t)]])"
      ]
     },
     "execution_count": 22,
     "metadata": {},
     "output_type": "execute_result"
    }
   ],
   "source": [
    "omega['platform'](0)"
   ]
  },
  {
   "cell_type": "markdown",
   "metadata": {},
   "source": [
    "#### Wheel"
   ]
  },
  {
   "cell_type": "code",
   "execution_count": 23,
   "metadata": {},
   "outputs": [
    {
     "data": {
      "text/latex": [
       "$\\displaystyle m_{2}$"
      ],
      "text/plain": [
       "m2"
      ]
     },
     "execution_count": 23,
     "metadata": {},
     "output_type": "execute_result"
    }
   ],
   "source": [
    "m['wheel']"
   ]
  },
  {
   "cell_type": "code",
   "execution_count": 24,
   "metadata": {},
   "outputs": [
    {
     "data": {
      "text/latex": [
       "$\\displaystyle \\left[\\begin{matrix}d \\left(- \\sin{\\left(\\alpha{\\left(t \\right)} \\right)} \\sin{\\left(\\theta_{0}{\\left(t \\right)} \\right)} + \\cos{\\left(\\alpha{\\left(t \\right)} \\right)} \\cos{\\left(\\theta_{0}{\\left(t \\right)} \\right)}\\right) + x{\\left(t \\right)}\\\\d \\left(\\sin{\\left(\\alpha{\\left(t \\right)} \\right)} \\cos{\\left(\\theta_{0}{\\left(t \\right)} \\right)} + \\sin{\\left(\\theta_{0}{\\left(t \\right)} \\right)} \\cos{\\left(\\alpha{\\left(t \\right)} \\right)}\\right) + y{\\left(t \\right)}\\\\0\\end{matrix}\\right]$"
      ],
      "text/plain": [
       "Matrix([\n",
       "[d*(-sin(alpha(t))*sin(theta0(t)) + cos(alpha(t))*cos(theta0(t))) + x(t)],\n",
       "[ d*(sin(alpha(t))*cos(theta0(t)) + sin(theta0(t))*cos(alpha(t))) + y(t)],\n",
       "[                                                                      0]])"
      ]
     },
     "execution_count": 24,
     "metadata": {},
     "output_type": "execute_result"
    }
   ],
   "source": [
    "Matrix([x,y,0]) + d*e_wheel(0)"
   ]
  },
  {
   "cell_type": "code",
   "execution_count": 25,
   "metadata": {},
   "outputs": [],
   "source": [
    "J['wheel'] = Matrix([[b,0,0],[0,c,0],[0,0,b]])"
   ]
  },
  {
   "cell_type": "markdown",
   "metadata": {},
   "source": [
    "#### В одинаковых базисах нужно записывать угловую скорость и момент инерции !"
   ]
  },
  {
   "cell_type": "code",
   "execution_count": 26,
   "metadata": {},
   "outputs": [],
   "source": [
    "omega['wheel_in'] = lambda i: psi[i].diff(t)*e['y'] + (theta[i].diff(t) + alpha.diff(t))*e['z']"
   ]
  },
  {
   "cell_type": "code",
   "execution_count": 27,
   "metadata": {},
   "outputs": [
    {
     "data": {
      "text/latex": [
       "$\\displaystyle \\left[\\begin{matrix}0\\\\\\frac{d}{d t} \\psi_{0}{\\left(t \\right)}\\\\\\frac{d}{d t} \\alpha{\\left(t \\right)} + \\frac{d}{d t} \\theta_{0}{\\left(t \\right)}\\end{matrix}\\right]$"
      ],
      "text/plain": [
       "Matrix([\n",
       "[                                                 0],\n",
       "[                            Derivative(psi0(t), t)],\n",
       "[Derivative(alpha(t), t) + Derivative(theta0(t), t)]])"
      ]
     },
     "execution_count": 27,
     "metadata": {},
     "output_type": "execute_result"
    }
   ],
   "source": [
    "omega['wheel_in'](0)"
   ]
  },
  {
   "cell_type": "markdown",
   "metadata": {},
   "source": [
    "### Моменты сил\n",
    "####  (platform) $ \\vec{M} = -W_0*\\vec{e}_z $ \n",
    "####  (fork) $ \\vec{M} = W_0*\\vec{e}_z - T_0*\\vec{n}_0 $ \n",
    "####  (wheel) $ \\vec{M} = T_0*\\vec{n}_0 $ "
   ]
  },
  {
   "cell_type": "code",
   "execution_count": 74,
   "metadata": {},
   "outputs": [],
   "source": [
    "eq['nu1(x,y)'] = Eq(nu[1], Derivative(x,t)*cos(alpha) + Derivative(y,t)*sin(alpha))\n",
    "eq['nu2(x,y)'] = Eq(nu[2], -Derivative(x,t)*sin(alpha) + Derivative(y,t)*cos(alpha))"
   ]
  },
  {
   "cell_type": "code",
   "execution_count": 29,
   "metadata": {},
   "outputs": [],
   "source": [
    "eq['diff_x(nu1,nu2)'], eq['diff_y(nu1,nu2)'] = linsolve([eq['nu1(x,y)'], eq['nu2(x,y)']], (Derivative(x, t), Derivative(y, t))).args[0]"
   ]
  },
  {
   "cell_type": "markdown",
   "metadata": {},
   "source": [
    "### L"
   ]
  },
  {
   "cell_type": "code",
   "execution_count": 30,
   "metadata": {},
   "outputs": [],
   "source": [
    "L = Symbol('L')"
   ]
  },
  {
   "cell_type": "code",
   "execution_count": 31,
   "metadata": {},
   "outputs": [],
   "source": [
    "i = 0\n",
    "\n",
    "pl = m['platform']/2*(Derivative(x, t)**2 + Derivative(y, t)**2)\n",
    "pl += (J['platform']*omega['platform'](0)).dot(omega['platform'](0))/2\n",
    "\n",
    "wh = m['wheel']/2*(MatrixElDerivative(Matrix([x,y,0]) + SP(i) + PC(i))).dot(MatrixElDerivative(Matrix([x,y,0]) + SP(i) + PC(i)))\n",
    "wh += (J['wheel']*omega['wheel_in'](0)).dot(omega['wheel_in'](0))/2\n",
    "\n"
   ]
  },
  {
   "cell_type": "code",
   "execution_count": 32,
   "metadata": {},
   "outputs": [
    {
     "data": {
      "text/latex": [
       "$\\displaystyle L = \\frac{a \\left(\\frac{d}{d t} \\alpha{\\left(t \\right)}\\right)^{2}}{2} + \\frac{b \\left(\\frac{d}{d t} \\alpha{\\left(t \\right)} + \\frac{d}{d t} \\theta_{0}{\\left(t \\right)}\\right)^{2}}{2} + \\frac{c \\left(\\frac{d}{d t} \\psi_{0}{\\left(t \\right)}\\right)^{2}}{2} + \\frac{m_{1} \\left(\\left(\\frac{d}{d t} x{\\left(t \\right)}\\right)^{2} + \\left(\\frac{d}{d t} y{\\left(t \\right)}\\right)^{2}\\right)}{2} + \\frac{m_{2} \\left(\\left(R \\left(- \\sin{\\left(\\beta_{0} \\right)} \\sin{\\left(\\alpha{\\left(t \\right)} \\right)} \\frac{d}{d t} \\alpha{\\left(t \\right)} + \\cos{\\left(\\beta_{0} \\right)} \\cos{\\left(\\alpha{\\left(t \\right)} \\right)} \\frac{d}{d t} \\alpha{\\left(t \\right)}\\right) + d \\left(- \\sin{\\left(\\alpha{\\left(t \\right)} \\right)} \\sin{\\left(\\theta_{0}{\\left(t \\right)} \\right)} \\frac{d}{d t} \\alpha{\\left(t \\right)} - \\sin{\\left(\\alpha{\\left(t \\right)} \\right)} \\sin{\\left(\\theta_{0}{\\left(t \\right)} \\right)} \\frac{d}{d t} \\theta_{0}{\\left(t \\right)} + \\cos{\\left(\\alpha{\\left(t \\right)} \\right)} \\cos{\\left(\\theta_{0}{\\left(t \\right)} \\right)} \\frac{d}{d t} \\alpha{\\left(t \\right)} + \\cos{\\left(\\alpha{\\left(t \\right)} \\right)} \\cos{\\left(\\theta_{0}{\\left(t \\right)} \\right)} \\frac{d}{d t} \\theta_{0}{\\left(t \\right)}\\right) + \\frac{d}{d t} y{\\left(t \\right)}\\right)^{2} + \\left(R \\left(- \\sin{\\left(\\beta_{0} \\right)} \\cos{\\left(\\alpha{\\left(t \\right)} \\right)} \\frac{d}{d t} \\alpha{\\left(t \\right)} - \\sin{\\left(\\alpha{\\left(t \\right)} \\right)} \\cos{\\left(\\beta_{0} \\right)} \\frac{d}{d t} \\alpha{\\left(t \\right)}\\right) + d \\left(- \\sin{\\left(\\alpha{\\left(t \\right)} \\right)} \\cos{\\left(\\theta_{0}{\\left(t \\right)} \\right)} \\frac{d}{d t} \\alpha{\\left(t \\right)} - \\sin{\\left(\\alpha{\\left(t \\right)} \\right)} \\cos{\\left(\\theta_{0}{\\left(t \\right)} \\right)} \\frac{d}{d t} \\theta_{0}{\\left(t \\right)} - \\sin{\\left(\\theta_{0}{\\left(t \\right)} \\right)} \\cos{\\left(\\alpha{\\left(t \\right)} \\right)} \\frac{d}{d t} \\alpha{\\left(t \\right)} - \\sin{\\left(\\theta_{0}{\\left(t \\right)} \\right)} \\cos{\\left(\\alpha{\\left(t \\right)} \\right)} \\frac{d}{d t} \\theta_{0}{\\left(t \\right)}\\right) + \\frac{d}{d t} x{\\left(t \\right)}\\right)^{2}\\right)}{2}$"
      ],
      "text/plain": [
       "Eq(L, a*Derivative(alpha(t), t)**2/2 + b*(Derivative(alpha(t), t) + Derivative(theta0(t), t))**2/2 + c*Derivative(psi0(t), t)**2/2 + m1*(Derivative(x(t), t)**2 + Derivative(y(t), t)**2)/2 + m2*((R*(-sin(beta0)*sin(alpha(t))*Derivative(alpha(t), t) + cos(beta0)*cos(alpha(t))*Derivative(alpha(t), t)) + d*(-sin(alpha(t))*sin(theta0(t))*Derivative(alpha(t), t) - sin(alpha(t))*sin(theta0(t))*Derivative(theta0(t), t) + cos(alpha(t))*cos(theta0(t))*Derivative(alpha(t), t) + cos(alpha(t))*cos(theta0(t))*Derivative(theta0(t), t)) + Derivative(y(t), t))**2 + (R*(-sin(beta0)*cos(alpha(t))*Derivative(alpha(t), t) - sin(alpha(t))*cos(beta0)*Derivative(alpha(t), t)) + d*(-sin(alpha(t))*cos(theta0(t))*Derivative(alpha(t), t) - sin(alpha(t))*cos(theta0(t))*Derivative(theta0(t), t) - sin(theta0(t))*cos(alpha(t))*Derivative(alpha(t), t) - sin(theta0(t))*cos(alpha(t))*Derivative(theta0(t), t)) + Derivative(x(t), t))**2)/2)"
      ]
     },
     "execution_count": 32,
     "metadata": {},
     "output_type": "execute_result"
    }
   ],
   "source": [
    "L = Eq(L, pl + wh)\n",
    "L"
   ]
  },
  {
   "cell_type": "code",
   "execution_count": 33,
   "metadata": {},
   "outputs": [
    {
     "name": "stdout",
     "output_type": "stream",
     "text": [
      "CPU times: user 18.4 s, sys: 9.75 ms, total: 18.4 s\n",
      "Wall time: 18.4 s\n"
     ]
    }
   ],
   "source": [
    "%%time\n",
    "sL = simplify(L)"
   ]
  },
  {
   "cell_type": "code",
   "execution_count": 34,
   "metadata": {},
   "outputs": [
    {
     "data": {
      "text/latex": [
       "$\\displaystyle L = \\frac{a \\left(\\frac{d}{d t} \\alpha{\\left(t \\right)}\\right)^{2}}{2} + \\frac{b \\left(\\frac{d}{d t} \\alpha{\\left(t \\right)} + \\frac{d}{d t} \\theta_{0}{\\left(t \\right)}\\right)^{2}}{2} + \\frac{c \\left(\\frac{d}{d t} \\psi_{0}{\\left(t \\right)}\\right)^{2}}{2} + \\frac{m_{1} \\left(\\left(\\frac{d}{d t} x{\\left(t \\right)}\\right)^{2} + \\left(\\frac{d}{d t} y{\\left(t \\right)}\\right)^{2}\\right)}{2} + \\frac{m_{2} \\left(\\left(R \\sin{\\left(\\beta_{0} + \\alpha{\\left(t \\right)} \\right)} \\frac{d}{d t} \\alpha{\\left(t \\right)} + d \\left(\\frac{d}{d t} \\alpha{\\left(t \\right)} + \\frac{d}{d t} \\theta_{0}{\\left(t \\right)}\\right) \\sin{\\left(\\alpha{\\left(t \\right)} + \\theta_{0}{\\left(t \\right)} \\right)} - \\frac{d}{d t} x{\\left(t \\right)}\\right)^{2} + \\left(R \\cos{\\left(\\beta_{0} + \\alpha{\\left(t \\right)} \\right)} \\frac{d}{d t} \\alpha{\\left(t \\right)} + d \\left(\\frac{d}{d t} \\alpha{\\left(t \\right)} + \\frac{d}{d t} \\theta_{0}{\\left(t \\right)}\\right) \\cos{\\left(\\alpha{\\left(t \\right)} + \\theta_{0}{\\left(t \\right)} \\right)} + \\frac{d}{d t} y{\\left(t \\right)}\\right)^{2}\\right)}{2}$"
      ],
      "text/plain": [
       "Eq(L, a*Derivative(alpha(t), t)**2/2 + b*(Derivative(alpha(t), t) + Derivative(theta0(t), t))**2/2 + c*Derivative(psi0(t), t)**2/2 + m1*(Derivative(x(t), t)**2 + Derivative(y(t), t)**2)/2 + m2*((R*sin(beta0 + alpha(t))*Derivative(alpha(t), t) + d*(Derivative(alpha(t), t) + Derivative(theta0(t), t))*sin(alpha(t) + theta0(t)) - Derivative(x(t), t))**2 + (R*cos(beta0 + alpha(t))*Derivative(alpha(t), t) + d*(Derivative(alpha(t), t) + Derivative(theta0(t), t))*cos(alpha(t) + theta0(t)) + Derivative(y(t), t))**2)/2)"
      ]
     },
     "execution_count": 34,
     "metadata": {},
     "output_type": "execute_result"
    }
   ],
   "source": [
    "sL"
   ]
  },
  {
   "cell_type": "markdown",
   "metadata": {},
   "source": [
    "### Определим связи "
   ]
  },
  {
   "cell_type": "code",
   "execution_count": 35,
   "metadata": {},
   "outputs": [],
   "source": [
    "conn1 = Eq(Derivative(x, t), eq['diff_x(nu1,nu2)'])\n",
    "conn2 = Eq(Derivative(y, t), eq['diff_y(nu1,nu2)'])\n",
    "conn3 = Eq(Derivative(alpha, t), nu[3])\n",
    "conn4 = Eq(Derivative(theta[0], t), simplify(eq['diff(theta)_nu'](0))).subs({Derivative(alpha, t): nu[3]})\n",
    "conn5 = Eq(Derivative(psi[0], t), simplify(eq['diff(psi)_nu'](0))).subs({Derivative(alpha, t): nu[3]})"
   ]
  },
  {
   "cell_type": "code",
   "execution_count": 36,
   "metadata": {},
   "outputs": [
    {
     "data": {
      "text/latex": [
       "$\\displaystyle \\frac{d}{d t} x{\\left(t \\right)} = \\nu_{1}{\\left(t \\right)} \\cos{\\left(\\alpha{\\left(t \\right)} \\right)} - \\nu_{2}{\\left(t \\right)} \\sin{\\left(\\alpha{\\left(t \\right)} \\right)}$"
      ],
      "text/plain": [
       "Eq(Derivative(x(t), t), nu1(t)*cos(alpha(t)) - nu2(t)*sin(alpha(t)))"
      ]
     },
     "metadata": {},
     "output_type": "display_data"
    },
    {
     "data": {
      "text/latex": [
       "$\\displaystyle \\frac{d}{d t} y{\\left(t \\right)} = \\nu_{1}{\\left(t \\right)} \\sin{\\left(\\alpha{\\left(t \\right)} \\right)} + \\nu_{2}{\\left(t \\right)} \\cos{\\left(\\alpha{\\left(t \\right)} \\right)}$"
      ],
      "text/plain": [
       "Eq(Derivative(y(t), t), nu1(t)*sin(alpha(t)) + nu2(t)*cos(alpha(t)))"
      ]
     },
     "metadata": {},
     "output_type": "display_data"
    },
    {
     "data": {
      "text/latex": [
       "$\\displaystyle \\frac{d}{d t} \\alpha{\\left(t \\right)} = \\nu_{3}{\\left(t \\right)}$"
      ],
      "text/plain": [
       "Eq(Derivative(alpha(t), t), nu3(t))"
      ]
     },
     "metadata": {},
     "output_type": "display_data"
    },
    {
     "data": {
      "text/latex": [
       "$\\displaystyle \\frac{d}{d t} \\theta_{0}{\\left(t \\right)} = \\frac{- R \\nu_{3}{\\left(t \\right)} \\cos{\\left(\\beta_{0} - \\theta_{0}{\\left(t \\right)} \\right)} - d \\nu_{3}{\\left(t \\right)} + \\nu_{1}{\\left(t \\right)} \\sin{\\left(\\theta_{0}{\\left(t \\right)} \\right)} - \\nu_{2}{\\left(t \\right)} \\cos{\\left(\\theta_{0}{\\left(t \\right)} \\right)}}{d}$"
      ],
      "text/plain": [
       "Eq(Derivative(theta0(t), t), (-R*nu3(t)*cos(beta0 - theta0(t)) - d*nu3(t) + nu1(t)*sin(theta0(t)) - nu2(t)*cos(theta0(t)))/d)"
      ]
     },
     "metadata": {},
     "output_type": "display_data"
    },
    {
     "data": {
      "text/latex": [
       "$\\displaystyle \\frac{d}{d t} \\psi_{0}{\\left(t \\right)} = \\frac{- R \\nu_{3}{\\left(t \\right)} \\sin{\\left(\\beta_{0} - \\theta_{0}{\\left(t \\right)} \\right)} + \\nu_{1}{\\left(t \\right)} \\cos{\\left(\\theta_{0}{\\left(t \\right)} \\right)} + \\nu_{2}{\\left(t \\right)} \\sin{\\left(\\theta_{0}{\\left(t \\right)} \\right)}}{r}$"
      ],
      "text/plain": [
       "Eq(Derivative(psi0(t), t), (-R*nu3(t)*sin(beta0 - theta0(t)) + nu1(t)*cos(theta0(t)) + nu2(t)*sin(theta0(t)))/r)"
      ]
     },
     "metadata": {},
     "output_type": "display_data"
    }
   ],
   "source": [
    "for conn in [conn1, conn2, conn3, conn4, conn5]:\n",
    "    display(conn)"
   ]
  },
  {
   "cell_type": "markdown",
   "metadata": {},
   "source": [
    "## Заполним что нужно (связи, уравнения для $\\omega_i$, $v_i$, $F$)"
   ]
  },
  {
   "cell_type": "markdown",
   "metadata": {},
   "source": [
    "### Создадим объект для механической системы с уравнениями Татаринова "
   ]
  },
  {
   "cell_type": "code",
   "execution_count": 37,
   "metadata": {},
   "outputs": [],
   "source": [
    "S = TatarinovSystem()"
   ]
  },
  {
   "cell_type": "code",
   "execution_count": 38,
   "metadata": {},
   "outputs": [],
   "source": [
    "S.set_L(sL)"
   ]
  },
  {
   "cell_type": "code",
   "execution_count": 39,
   "metadata": {},
   "outputs": [
    {
     "data": {
      "text/plain": [
       "[Eq(Derivative(x(t), t), nu1(t)*cos(alpha(t)) - nu2(t)*sin(alpha(t))),\n",
       " Eq(Derivative(y(t), t), nu1(t)*sin(alpha(t)) + nu2(t)*cos(alpha(t))),\n",
       " Eq(Derivative(alpha(t), t), nu3(t)),\n",
       " Eq(Derivative(theta0(t), t), (-R*nu3(t)*cos(beta0 - theta0(t)) - d*nu3(t) + nu1(t)*sin(theta0(t)) - nu2(t)*cos(theta0(t)))/d),\n",
       " Eq(Derivative(psi0(t), t), (-R*nu3(t)*sin(beta0 - theta0(t)) + nu1(t)*cos(theta0(t)) + nu2(t)*sin(theta0(t)))/r)]"
      ]
     },
     "execution_count": 39,
     "metadata": {},
     "output_type": "execute_result"
    }
   ],
   "source": [
    "S.set_constraints([conn1, conn2, conn3, conn4, conn5])\n",
    "S.constraints"
   ]
  },
  {
   "cell_type": "code",
   "execution_count": 40,
   "metadata": {},
   "outputs": [
    {
     "name": "stdout",
     "output_type": "stream",
     "text": [
      "CPU times: user 2min 41s, sys: 283 ms, total: 2min 41s\n",
      "Wall time: 2min 41s\n"
     ]
    }
   ],
   "source": [
    "%%time\n",
    "sL_star = S.set_L_star(S.sub_constraints(sL))"
   ]
  },
  {
   "cell_type": "code",
   "execution_count": 41,
   "metadata": {},
   "outputs": [],
   "source": [
    "S.set_p([p[1], p[2], p[3]]) # это скорее внутренняя переменная и её не надо задавать here \n",
    "S.set_q([x, y, alpha, theta[0], psi[0]])"
   ]
  },
  {
   "cell_type": "code",
   "execution_count": 42,
   "metadata": {},
   "outputs": [
    {
     "data": {
      "text/plain": [
       "[Eq(omega[1], nu1(t)), Eq(omega[2], nu2(t)), Eq(omega[3], nu3(t))]"
      ]
     },
     "execution_count": 42,
     "metadata": {},
     "output_type": "execute_result"
    }
   ],
   "source": [
    "S.set_omega_equations(omegas=[_omega[1], _omega[2], _omega[3]],\n",
    "                      equations=[nu[1], nu[2], nu[3]])\n",
    "S.omega_equations"
   ]
  },
  {
   "cell_type": "code",
   "execution_count": 43,
   "metadata": {},
   "outputs": [
    {
     "data": {
      "text/plain": [
       "[Eq(v[1], Derivative(x(t), t)),\n",
       " Eq(v[2], Derivative(y(t), t)),\n",
       " Eq(v[3], Derivative(alpha(t), t)),\n",
       " Eq(v[4], Derivative(theta0(t), t)),\n",
       " Eq(v[5], Derivative(psi0(t), t))]"
      ]
     },
     "execution_count": 43,
     "metadata": {},
     "output_type": "execute_result"
    }
   ],
   "source": [
    "S.set_v_equations(vs=[_v[1], _v[2], _v[3], _v[4], _v[5]],\n",
    "                  equations=[Derivative(x, t), Derivative(y, t), Derivative(alpha, t), Derivative(theta[0], t), Derivative(psi[0], t)])\n",
    "S.v_equations"
   ]
  },
  {
   "cell_type": "markdown",
   "metadata": {},
   "source": [
    "### Создадим $P_{\\alpha}$"
   ]
  },
  {
   "cell_type": "code",
   "execution_count": 44,
   "metadata": {},
   "outputs": [
    {
     "name": "stdout",
     "output_type": "stream",
     "text": [
      "Eq(Sum(P[k]*omega[k], (k, 1, 3)), Sum(p[k]*v[k], (k, 1, 3)))\n",
      "Eq(nu1(t)*P[1] + nu2(t)*P[2] + nu3(t)*P[3], (nu1(t)*sin(alpha(t)) + nu2(t)*cos(alpha(t)))*p[2] + (nu1(t)*cos(alpha(t)) - nu2(t)*sin(alpha(t)))*p[1] + nu3(t)*p[3])\n"
     ]
    },
    {
     "data": {
      "text/plain": [
       "[Eq(P[1], sin(alpha(t))*p[2] + cos(alpha(t))*p[1]),\n",
       " Eq(P[2], -sin(alpha(t))*p[1] + cos(alpha(t))*p[2]),\n",
       " Eq(P[3], p[3])]"
      ]
     },
     "execution_count": 44,
     "metadata": {},
     "output_type": "execute_result"
    }
   ],
   "source": [
    "Ps = S.create_P()\n",
    "Ps"
   ]
  },
  {
   "cell_type": "markdown",
   "metadata": {},
   "source": [
    "### Создадим $Q_i$"
   ]
  },
  {
   "cell_type": "code",
   "execution_count": 45,
   "metadata": {},
   "outputs": [],
   "source": [
    "# F = Matrix([0,0,0])\n",
    "# S.set_F(F)\n",
    "\n",
    "# S.create_Q(S.F, S.create_r()['p'])\n",
    "# S.Q\n",
    "\n",
    "S.set_Q([0,0,0,W[1],T[1]])"
   ]
  },
  {
   "cell_type": "code",
   "execution_count": 46,
   "metadata": {},
   "outputs": [
    {
     "data": {
      "text/latex": [
       "$\\displaystyle \\frac{\\operatorname{T_{1}}{\\left(t \\right)} \\cos{\\left(\\theta_{0}{\\left(t \\right)} \\right)}}{r} + \\frac{\\operatorname{W_{1}}{\\left(t \\right)} \\sin{\\left(\\theta_{0}{\\left(t \\right)} \\right)}}{d}$"
      ],
      "text/plain": [
       "T1(t)*cos(theta0(t))/r + W1(t)*sin(theta0(t))/d"
      ]
     },
     "metadata": {},
     "output_type": "display_data"
    },
    {
     "data": {
      "text/latex": [
       "$\\displaystyle \\frac{\\operatorname{T_{1}}{\\left(t \\right)} \\sin{\\left(\\theta_{0}{\\left(t \\right)} \\right)}}{r} - \\frac{\\operatorname{W_{1}}{\\left(t \\right)} \\cos{\\left(\\theta_{0}{\\left(t \\right)} \\right)}}{d}$"
      ],
      "text/plain": [
       "T1(t)*sin(theta0(t))/r - W1(t)*cos(theta0(t))/d"
      ]
     },
     "metadata": {},
     "output_type": "display_data"
    },
    {
     "data": {
      "text/latex": [
       "$\\displaystyle - \\frac{R \\operatorname{T_{1}}{\\left(t \\right)} \\sin{\\left(\\beta_{0} - \\theta_{0}{\\left(t \\right)} \\right)}}{r} + \\frac{\\left(- R \\cos{\\left(\\beta_{0} - \\theta_{0}{\\left(t \\right)} \\right)} - d\\right) \\operatorname{W_{1}}{\\left(t \\right)}}{d}$"
      ],
      "text/plain": [
       "-R*T1(t)*sin(beta0 - theta0(t))/r + (-R*cos(beta0 - theta0(t)) - d)*W1(t)/d"
      ]
     },
     "metadata": {},
     "output_type": "display_data"
    }
   ],
   "source": [
    "for i in range(3):\n",
    "    display(S.Q_dw_by_dv(i))"
   ]
  },
  {
   "cell_type": "markdown",
   "metadata": {},
   "source": [
    "### Получаем уравнения"
   ]
  },
  {
   "cell_type": "markdown",
   "metadata": {},
   "source": [
    "## Equations"
   ]
  },
  {
   "cell_type": "code",
   "execution_count": null,
   "metadata": {
    "scrolled": true
   },
   "outputs": [],
   "source": [
    "%%time \n",
    "S.tatarinov_equation(0)"
   ]
  },
  {
   "cell_type": "code",
   "execution_count": null,
   "metadata": {
    "scrolled": true
   },
   "outputs": [],
   "source": [
    "%%time\n",
    "S.tatarinov_equation(1)"
   ]
  },
  {
   "cell_type": "code",
   "execution_count": null,
   "metadata": {
    "scrolled": true
   },
   "outputs": [],
   "source": [
    "%%time\n",
    "S.tatarinov_equation(2)"
   ]
  },
  {
   "cell_type": "code",
   "execution_count": null,
   "metadata": {},
   "outputs": [],
   "source": [
    "save(S.tatarinov_equations, 'data/eqs+TW')"
   ]
  },
  {
   "cell_type": "code",
   "execution_count": null,
   "metadata": {},
   "outputs": [],
   "source": []
  },
  {
   "cell_type": "code",
   "execution_count": null,
   "metadata": {},
   "outputs": [],
   "source": []
  },
  {
   "cell_type": "code",
   "execution_count": null,
   "metadata": {},
   "outputs": [],
   "source": []
  },
  {
   "cell_type": "markdown",
   "metadata": {},
   "source": [
    "## Load"
   ]
  },
  {
   "cell_type": "code",
   "execution_count": 47,
   "metadata": {},
   "outputs": [],
   "source": [
    "eqs = load('data/eqs+TW')"
   ]
  },
  {
   "cell_type": "code",
   "execution_count": null,
   "metadata": {},
   "outputs": [],
   "source": [
    "display_list(eqs)"
   ]
  },
  {
   "cell_type": "markdown",
   "metadata": {},
   "source": [
    "### Matrix for $T, W, \\dot{\\nu_3}$ "
   ]
  },
  {
   "cell_type": "code",
   "execution_count": 61,
   "metadata": {},
   "outputs": [],
   "source": [
    "# mat = linear_eq_to_matrix(eqs, [T[1], W[1], Derivative(nu[3], t)])\n",
    "\n",
    "_T1, _W1, _DNU_3 = symbols('_T1, _W1, _DNU_3')\n",
    "\n",
    "tmp = copy(eqs)\n",
    "\n",
    "for i, eq in enumerate(tmp):\n",
    "    tmp[i] = eq.subs({\n",
    "        T[1]: _T1,\n",
    "        W[1]: _W1,\n",
    "        Derivative(nu[3], t): _DNU_3\n",
    "    })\n",
    "    \n",
    "mat = linear_eq_to_matrix(tmp, [_T1, _W1, _DNU_3])"
   ]
  },
  {
   "cell_type": "code",
   "execution_count": 62,
   "metadata": {},
   "outputs": [
    {
     "name": "stdout",
     "output_type": "stream",
     "text": [
      "CPU times: user 5.09 s, sys: 3.99 ms, total: 5.09 s\n",
      "Wall time: 5.09 s\n"
     ]
    }
   ],
   "source": [
    "%%time\n",
    "mat2 = simplify(mat[0])"
   ]
  },
  {
   "cell_type": "code",
   "execution_count": 27,
   "metadata": {},
   "outputs": [
    {
     "data": {
      "text/latex": [
       "$\\displaystyle \\left[\\begin{matrix}- \\frac{\\left(R m_{2} \\nu_{3}{\\left(t \\right)} \\cos{\\left(\\beta_{0} \\right)} - R m_{2} \\nu_{3}{\\left(t \\right)} \\cos{\\left(\\beta_{0} - 2 \\theta_{0}{\\left(t \\right)} \\right)} + 2 m_{1} \\nu_{2}{\\left(t \\right)} + m_{2} \\nu_{1}{\\left(t \\right)} \\sin{\\left(2 \\theta_{0}{\\left(t \\right)} \\right)} - m_{2} \\nu_{2}{\\left(t \\right)} \\cos{\\left(2 \\theta_{0}{\\left(t \\right)} \\right)} + m_{2} \\nu_{2}{\\left(t \\right)}\\right) \\nu_{3}{\\left(t \\right)}}{2} + \\frac{b r^{2} \\left(R \\nu_{3}{\\left(t \\right)} \\cos{\\left(\\beta_{0} - \\theta_{0}{\\left(t \\right)} \\right)} - \\nu_{1}{\\left(t \\right)} \\sin{\\left(\\theta_{0}{\\left(t \\right)} \\right)} + \\nu_{2}{\\left(t \\right)} \\cos{\\left(\\theta_{0}{\\left(t \\right)} \\right)}\\right) \\left(R \\nu_{3}{\\left(t \\right)} \\cos{\\left(\\beta_{0} - \\theta_{0}{\\left(t \\right)} \\right)} + d \\nu_{3}{\\left(t \\right)} - \\nu_{1}{\\left(t \\right)} \\sin{\\left(\\theta_{0}{\\left(t \\right)} \\right)} + \\nu_{2}{\\left(t \\right)} \\cos{\\left(\\theta_{0}{\\left(t \\right)} \\right)}\\right) \\cos{\\left(\\theta_{0}{\\left(t \\right)} \\right)} - \\frac{b r^{2} \\left(- R^{2} \\nu_{3}^{2}{\\left(t \\right)} \\sin{\\left(2 \\beta_{0} - 2 \\theta_{0}{\\left(t \\right)} \\right)} - 2 R d \\nu_{3}^{2}{\\left(t \\right)} \\sin{\\left(\\beta_{0} - \\theta_{0}{\\left(t \\right)} \\right)} + 2 R \\nu_{1}{\\left(t \\right)} \\nu_{3}{\\left(t \\right)} \\cos{\\left(\\beta_{0} - 2 \\theta_{0}{\\left(t \\right)} \\right)} - 2 R \\nu_{2}{\\left(t \\right)} \\nu_{3}{\\left(t \\right)} \\sin{\\left(\\beta_{0} - 2 \\theta_{0}{\\left(t \\right)} \\right)} + 2 d \\nu_{1}{\\left(t \\right)} \\nu_{3}{\\left(t \\right)} \\cos{\\left(\\theta_{0}{\\left(t \\right)} \\right)} + 2 d \\nu_{2}{\\left(t \\right)} \\nu_{3}{\\left(t \\right)} \\sin{\\left(\\theta_{0}{\\left(t \\right)} \\right)} - 2 d \\sin{\\left(\\theta_{0}{\\left(t \\right)} \\right)} \\frac{d}{d t} \\nu_{1}{\\left(t \\right)} + 2 d \\cos{\\left(\\theta_{0}{\\left(t \\right)} \\right)} \\frac{d}{d t} \\nu_{2}{\\left(t \\right)} - \\nu_{1}^{2}{\\left(t \\right)} \\sin{\\left(2 \\theta_{0}{\\left(t \\right)} \\right)} + 2 \\nu_{1}{\\left(t \\right)} \\nu_{2}{\\left(t \\right)} \\cos{\\left(2 \\theta_{0}{\\left(t \\right)} \\right)} + \\nu_{2}^{2}{\\left(t \\right)} \\sin{\\left(2 \\theta_{0}{\\left(t \\right)} \\right)}\\right) \\sin{\\left(\\theta_{0}{\\left(t \\right)} \\right)}}{2} + \\frac{d^{2} \\left(2 c \\left(- R \\nu_{3}{\\left(t \\right)} \\sin{\\left(\\beta_{0} - \\theta_{0}{\\left(t \\right)} \\right)} + \\nu_{1}{\\left(t \\right)} \\cos{\\left(\\theta_{0}{\\left(t \\right)} \\right)} + \\nu_{2}{\\left(t \\right)} \\sin{\\left(\\theta_{0}{\\left(t \\right)} \\right)}\\right) \\left(R \\nu_{3}{\\left(t \\right)} \\cos{\\left(\\beta_{0} - \\theta_{0}{\\left(t \\right)} \\right)} + d \\nu_{3}{\\left(t \\right)} - \\nu_{1}{\\left(t \\right)} \\sin{\\left(\\theta_{0}{\\left(t \\right)} \\right)} + \\nu_{2}{\\left(t \\right)} \\cos{\\left(\\theta_{0}{\\left(t \\right)} \\right)}\\right) \\sin{\\left(\\theta_{0}{\\left(t \\right)} \\right)} - 2 c \\left(R \\left(R \\nu_{3}{\\left(t \\right)} \\cos{\\left(\\beta_{0} - \\theta_{0}{\\left(t \\right)} \\right)} + d \\nu_{3}{\\left(t \\right)} - \\nu_{1}{\\left(t \\right)} \\sin{\\left(\\theta_{0}{\\left(t \\right)} \\right)} + \\nu_{2}{\\left(t \\right)} \\cos{\\left(\\theta_{0}{\\left(t \\right)} \\right)}\\right) \\nu_{3}{\\left(t \\right)} \\cos{\\left(\\beta_{0} - \\theta_{0}{\\left(t \\right)} \\right)} - d \\left(\\sin{\\left(\\theta_{0}{\\left(t \\right)} \\right)} \\frac{d}{d t} \\nu_{2}{\\left(t \\right)} + \\cos{\\left(\\theta_{0}{\\left(t \\right)} \\right)} \\frac{d}{d t} \\nu_{1}{\\left(t \\right)}\\right) - \\left(R \\nu_{3}{\\left(t \\right)} \\cos{\\left(\\beta_{0} - \\theta_{0}{\\left(t \\right)} \\right)} + d \\nu_{3}{\\left(t \\right)} - \\nu_{1}{\\left(t \\right)} \\sin{\\left(\\theta_{0}{\\left(t \\right)} \\right)} + \\nu_{2}{\\left(t \\right)} \\cos{\\left(\\theta_{0}{\\left(t \\right)} \\right)}\\right) \\nu_{1}{\\left(t \\right)} \\sin{\\left(\\theta_{0}{\\left(t \\right)} \\right)} + \\left(R \\nu_{3}{\\left(t \\right)} \\cos{\\left(\\beta_{0} - \\theta_{0}{\\left(t \\right)} \\right)} + d \\nu_{3}{\\left(t \\right)} - \\nu_{1}{\\left(t \\right)} \\sin{\\left(\\theta_{0}{\\left(t \\right)} \\right)} + \\nu_{2}{\\left(t \\right)} \\cos{\\left(\\theta_{0}{\\left(t \\right)} \\right)}\\right) \\nu_{2}{\\left(t \\right)} \\cos{\\left(\\theta_{0}{\\left(t \\right)} \\right)}\\right) \\cos{\\left(\\theta_{0}{\\left(t \\right)} \\right)} + r^{2} \\left(2 d m_{1} \\frac{d}{d t} \\nu_{1}{\\left(t \\right)} - m_{2} \\left(2 R \\left(R \\nu_{3}{\\left(t \\right)} \\cos{\\left(\\beta_{0} - \\theta_{0}{\\left(t \\right)} \\right)} + d \\nu_{3}{\\left(t \\right)} - \\nu_{1}{\\left(t \\right)} \\sin{\\left(\\theta_{0}{\\left(t \\right)} \\right)} + \\nu_{2}{\\left(t \\right)} \\cos{\\left(\\theta_{0}{\\left(t \\right)} \\right)}\\right) \\nu_{3}{\\left(t \\right)} \\cos{\\left(\\beta_{0} - 2 \\theta_{0}{\\left(t \\right)} \\right)} - d \\left(\\sin{\\left(2 \\theta_{0}{\\left(t \\right)} \\right)} \\frac{d}{d t} \\nu_{2}{\\left(t \\right)} + \\cos{\\left(2 \\theta_{0}{\\left(t \\right)} \\right)} \\frac{d}{d t} \\nu_{1}{\\left(t \\right)} + \\frac{d}{d t} \\nu_{1}{\\left(t \\right)}\\right) - 2 \\left(R \\nu_{3}{\\left(t \\right)} \\cos{\\left(\\beta_{0} - \\theta_{0}{\\left(t \\right)} \\right)} + d \\nu_{3}{\\left(t \\right)} - \\nu_{1}{\\left(t \\right)} \\sin{\\left(\\theta_{0}{\\left(t \\right)} \\right)} + \\nu_{2}{\\left(t \\right)} \\cos{\\left(\\theta_{0}{\\left(t \\right)} \\right)}\\right) \\nu_{1}{\\left(t \\right)} \\sin{\\left(2 \\theta_{0}{\\left(t \\right)} \\right)} + 2 \\left(R \\nu_{3}{\\left(t \\right)} \\cos{\\left(\\beta_{0} - \\theta_{0}{\\left(t \\right)} \\right)} + d \\nu_{3}{\\left(t \\right)} - \\nu_{1}{\\left(t \\right)} \\sin{\\left(\\theta_{0}{\\left(t \\right)} \\right)} + \\nu_{2}{\\left(t \\right)} \\cos{\\left(\\theta_{0}{\\left(t \\right)} \\right)}\\right) \\nu_{2}{\\left(t \\right)} \\cos{\\left(2 \\theta_{0}{\\left(t \\right)} \\right)}\\right)\\right)\\right)}{2}}{d^{3} r^{2}}\\\\\\frac{\\left(- R m_{2} \\nu_{3}{\\left(t \\right)} \\sin{\\left(\\beta_{0} \\right)} - R m_{2} \\nu_{3}{\\left(t \\right)} \\sin{\\left(\\beta_{0} - 2 \\theta_{0}{\\left(t \\right)} \\right)} + 2 m_{1} \\nu_{1}{\\left(t \\right)} + m_{2} \\nu_{1}{\\left(t \\right)} \\cos{\\left(2 \\theta_{0}{\\left(t \\right)} \\right)} + m_{2} \\nu_{1}{\\left(t \\right)} + m_{2} \\nu_{2}{\\left(t \\right)} \\sin{\\left(2 \\theta_{0}{\\left(t \\right)} \\right)}\\right) \\nu_{3}{\\left(t \\right)}}{2} + \\frac{2 b r^{2} \\left(R \\nu_{3}{\\left(t \\right)} \\cos{\\left(\\beta_{0} - \\theta_{0}{\\left(t \\right)} \\right)} - \\nu_{1}{\\left(t \\right)} \\sin{\\left(\\theta_{0}{\\left(t \\right)} \\right)} + \\nu_{2}{\\left(t \\right)} \\cos{\\left(\\theta_{0}{\\left(t \\right)} \\right)}\\right) \\left(R \\nu_{3}{\\left(t \\right)} \\cos{\\left(\\beta_{0} - \\theta_{0}{\\left(t \\right)} \\right)} + d \\nu_{3}{\\left(t \\right)} - \\nu_{1}{\\left(t \\right)} \\sin{\\left(\\theta_{0}{\\left(t \\right)} \\right)} + \\nu_{2}{\\left(t \\right)} \\cos{\\left(\\theta_{0}{\\left(t \\right)} \\right)}\\right) \\sin{\\left(\\theta_{0}{\\left(t \\right)} \\right)} + b r^{2} \\left(- R^{2} \\nu_{3}^{2}{\\left(t \\right)} \\sin{\\left(2 \\beta_{0} - 2 \\theta_{0}{\\left(t \\right)} \\right)} - 2 R d \\nu_{3}^{2}{\\left(t \\right)} \\sin{\\left(\\beta_{0} - \\theta_{0}{\\left(t \\right)} \\right)} + 2 R \\nu_{1}{\\left(t \\right)} \\nu_{3}{\\left(t \\right)} \\cos{\\left(\\beta_{0} - 2 \\theta_{0}{\\left(t \\right)} \\right)} - 2 R \\nu_{2}{\\left(t \\right)} \\nu_{3}{\\left(t \\right)} \\sin{\\left(\\beta_{0} - 2 \\theta_{0}{\\left(t \\right)} \\right)} + 2 d \\nu_{1}{\\left(t \\right)} \\nu_{3}{\\left(t \\right)} \\cos{\\left(\\theta_{0}{\\left(t \\right)} \\right)} + 2 d \\nu_{2}{\\left(t \\right)} \\nu_{3}{\\left(t \\right)} \\sin{\\left(\\theta_{0}{\\left(t \\right)} \\right)} - 2 d \\sin{\\left(\\theta_{0}{\\left(t \\right)} \\right)} \\frac{d}{d t} \\nu_{1}{\\left(t \\right)} + 2 d \\cos{\\left(\\theta_{0}{\\left(t \\right)} \\right)} \\frac{d}{d t} \\nu_{2}{\\left(t \\right)} - \\nu_{1}^{2}{\\left(t \\right)} \\sin{\\left(2 \\theta_{0}{\\left(t \\right)} \\right)} + 2 \\nu_{1}{\\left(t \\right)} \\nu_{2}{\\left(t \\right)} \\cos{\\left(2 \\theta_{0}{\\left(t \\right)} \\right)} + \\nu_{2}^{2}{\\left(t \\right)} \\sin{\\left(2 \\theta_{0}{\\left(t \\right)} \\right)}\\right) \\cos{\\left(\\theta_{0}{\\left(t \\right)} \\right)} + 2 d^{2} \\left(- c \\left(- R \\nu_{3}{\\left(t \\right)} \\sin{\\left(\\beta_{0} - \\theta_{0}{\\left(t \\right)} \\right)} + \\nu_{1}{\\left(t \\right)} \\cos{\\left(\\theta_{0}{\\left(t \\right)} \\right)} + \\nu_{2}{\\left(t \\right)} \\sin{\\left(\\theta_{0}{\\left(t \\right)} \\right)}\\right) \\left(R \\nu_{3}{\\left(t \\right)} \\cos{\\left(\\beta_{0} - \\theta_{0}{\\left(t \\right)} \\right)} + d \\nu_{3}{\\left(t \\right)} - \\nu_{1}{\\left(t \\right)} \\sin{\\left(\\theta_{0}{\\left(t \\right)} \\right)} + \\nu_{2}{\\left(t \\right)} \\cos{\\left(\\theta_{0}{\\left(t \\right)} \\right)}\\right) \\cos{\\left(\\theta_{0}{\\left(t \\right)} \\right)} - c \\left(R \\left(R \\nu_{3}{\\left(t \\right)} \\cos{\\left(\\beta_{0} - \\theta_{0}{\\left(t \\right)} \\right)} + d \\nu_{3}{\\left(t \\right)} - \\nu_{1}{\\left(t \\right)} \\sin{\\left(\\theta_{0}{\\left(t \\right)} \\right)} + \\nu_{2}{\\left(t \\right)} \\cos{\\left(\\theta_{0}{\\left(t \\right)} \\right)}\\right) \\nu_{3}{\\left(t \\right)} \\cos{\\left(\\beta_{0} - \\theta_{0}{\\left(t \\right)} \\right)} - d \\left(\\sin{\\left(\\theta_{0}{\\left(t \\right)} \\right)} \\frac{d}{d t} \\nu_{2}{\\left(t \\right)} + \\cos{\\left(\\theta_{0}{\\left(t \\right)} \\right)} \\frac{d}{d t} \\nu_{1}{\\left(t \\right)}\\right) - \\left(R \\nu_{3}{\\left(t \\right)} \\cos{\\left(\\beta_{0} - \\theta_{0}{\\left(t \\right)} \\right)} + d \\nu_{3}{\\left(t \\right)} - \\nu_{1}{\\left(t \\right)} \\sin{\\left(\\theta_{0}{\\left(t \\right)} \\right)} + \\nu_{2}{\\left(t \\right)} \\cos{\\left(\\theta_{0}{\\left(t \\right)} \\right)}\\right) \\nu_{1}{\\left(t \\right)} \\sin{\\left(\\theta_{0}{\\left(t \\right)} \\right)} + \\left(R \\nu_{3}{\\left(t \\right)} \\cos{\\left(\\beta_{0} - \\theta_{0}{\\left(t \\right)} \\right)} + d \\nu_{3}{\\left(t \\right)} - \\nu_{1}{\\left(t \\right)} \\sin{\\left(\\theta_{0}{\\left(t \\right)} \\right)} + \\nu_{2}{\\left(t \\right)} \\cos{\\left(\\theta_{0}{\\left(t \\right)} \\right)}\\right) \\nu_{2}{\\left(t \\right)} \\cos{\\left(\\theta_{0}{\\left(t \\right)} \\right)}\\right) \\sin{\\left(\\theta_{0}{\\left(t \\right)} \\right)} + r^{2} \\left(d m_{1} \\frac{d}{d t} \\nu_{2}{\\left(t \\right)} - m_{2} \\left(- R \\nu_{3}{\\left(t \\right)} \\sin{\\left(\\beta_{0} - \\theta_{0}{\\left(t \\right)} \\right)} + \\nu_{1}{\\left(t \\right)} \\cos{\\left(\\theta_{0}{\\left(t \\right)} \\right)} + \\nu_{2}{\\left(t \\right)} \\sin{\\left(\\theta_{0}{\\left(t \\right)} \\right)}\\right) \\left(R \\nu_{3}{\\left(t \\right)} \\cos{\\left(\\beta_{0} - \\theta_{0}{\\left(t \\right)} \\right)} + d \\nu_{3}{\\left(t \\right)} - \\nu_{1}{\\left(t \\right)} \\sin{\\left(\\theta_{0}{\\left(t \\right)} \\right)} + \\nu_{2}{\\left(t \\right)} \\cos{\\left(\\theta_{0}{\\left(t \\right)} \\right)}\\right) \\cos{\\left(\\theta_{0}{\\left(t \\right)} \\right)} + m_{2} \\left(- R \\left(R \\nu_{3}{\\left(t \\right)} \\cos{\\left(\\beta_{0} - \\theta_{0}{\\left(t \\right)} \\right)} + d \\nu_{3}{\\left(t \\right)} - \\nu_{1}{\\left(t \\right)} \\sin{\\left(\\theta_{0}{\\left(t \\right)} \\right)} + \\nu_{2}{\\left(t \\right)} \\cos{\\left(\\theta_{0}{\\left(t \\right)} \\right)}\\right) \\nu_{3}{\\left(t \\right)} \\cos{\\left(\\beta_{0} - \\theta_{0}{\\left(t \\right)} \\right)} + d \\left(\\sin{\\left(\\theta_{0}{\\left(t \\right)} \\right)} \\frac{d}{d t} \\nu_{2}{\\left(t \\right)} + \\cos{\\left(\\theta_{0}{\\left(t \\right)} \\right)} \\frac{d}{d t} \\nu_{1}{\\left(t \\right)}\\right) + \\left(R \\nu_{3}{\\left(t \\right)} \\cos{\\left(\\beta_{0} - \\theta_{0}{\\left(t \\right)} \\right)} + d \\nu_{3}{\\left(t \\right)} - \\nu_{1}{\\left(t \\right)} \\sin{\\left(\\theta_{0}{\\left(t \\right)} \\right)} + \\nu_{2}{\\left(t \\right)} \\cos{\\left(\\theta_{0}{\\left(t \\right)} \\right)}\\right) \\nu_{1}{\\left(t \\right)} \\sin{\\left(\\theta_{0}{\\left(t \\right)} \\right)} - \\left(R \\nu_{3}{\\left(t \\right)} \\cos{\\left(\\beta_{0} - \\theta_{0}{\\left(t \\right)} \\right)} + d \\nu_{3}{\\left(t \\right)} - \\nu_{1}{\\left(t \\right)} \\sin{\\left(\\theta_{0}{\\left(t \\right)} \\right)} + \\nu_{2}{\\left(t \\right)} \\cos{\\left(\\theta_{0}{\\left(t \\right)} \\right)}\\right) \\nu_{2}{\\left(t \\right)} \\cos{\\left(\\theta_{0}{\\left(t \\right)} \\right)}\\right) \\sin{\\left(\\theta_{0}{\\left(t \\right)} \\right)}\\right)\\right)}{2 d^{3} r^{2}}\\\\- \\frac{R m_{2} \\nu_{1}{\\left(t \\right)} \\nu_{3}{\\left(t \\right)} \\cos{\\left(\\beta_{0} \\right)}}{2} + \\frac{R m_{2} \\nu_{1}{\\left(t \\right)} \\nu_{3}{\\left(t \\right)} \\cos{\\left(\\beta_{0} - 2 \\theta_{0}{\\left(t \\right)} \\right)}}{2} - \\frac{R m_{2} \\nu_{2}{\\left(t \\right)} \\nu_{3}{\\left(t \\right)} \\sin{\\left(\\beta_{0} \\right)}}{2} - \\frac{R m_{2} \\nu_{2}{\\left(t \\right)} \\nu_{3}{\\left(t \\right)} \\sin{\\left(\\beta_{0} - 2 \\theta_{0}{\\left(t \\right)} \\right)}}{2} - \\frac{m_{2} \\nu_{1}^{2}{\\left(t \\right)} \\sin{\\left(2 \\theta_{0}{\\left(t \\right)} \\right)}}{2} + m_{2} \\nu_{1}{\\left(t \\right)} \\nu_{2}{\\left(t \\right)} \\cos{\\left(2 \\theta_{0}{\\left(t \\right)} \\right)} + \\frac{m_{2} \\nu_{2}^{2}{\\left(t \\right)} \\sin{\\left(2 \\theta_{0}{\\left(t \\right)} \\right)}}{2} - \\frac{- R b r^{2} \\left(R \\nu_{3}{\\left(t \\right)} \\cos{\\left(\\beta_{0} - \\theta_{0}{\\left(t \\right)} \\right)} - \\nu_{1}{\\left(t \\right)} \\sin{\\left(\\theta_{0}{\\left(t \\right)} \\right)} + \\nu_{2}{\\left(t \\right)} \\cos{\\left(\\theta_{0}{\\left(t \\right)} \\right)}\\right) \\left(R \\nu_{3}{\\left(t \\right)} \\cos{\\left(\\beta_{0} - \\theta_{0}{\\left(t \\right)} \\right)} + d \\nu_{3}{\\left(t \\right)} - \\nu_{1}{\\left(t \\right)} \\sin{\\left(\\theta_{0}{\\left(t \\right)} \\right)} + \\nu_{2}{\\left(t \\right)} \\cos{\\left(\\theta_{0}{\\left(t \\right)} \\right)}\\right) \\sin{\\left(\\beta_{0} - \\theta_{0}{\\left(t \\right)} \\right)} + \\frac{R b r^{2} \\left(- R^{2} \\nu_{3}^{2}{\\left(t \\right)} \\sin{\\left(2 \\beta_{0} - 2 \\theta_{0}{\\left(t \\right)} \\right)} - 2 R d \\nu_{3}^{2}{\\left(t \\right)} \\sin{\\left(\\beta_{0} - \\theta_{0}{\\left(t \\right)} \\right)} + 2 R \\nu_{1}{\\left(t \\right)} \\nu_{3}{\\left(t \\right)} \\cos{\\left(\\beta_{0} - 2 \\theta_{0}{\\left(t \\right)} \\right)} - 2 R \\nu_{2}{\\left(t \\right)} \\nu_{3}{\\left(t \\right)} \\sin{\\left(\\beta_{0} - 2 \\theta_{0}{\\left(t \\right)} \\right)} + 2 d \\nu_{1}{\\left(t \\right)} \\nu_{3}{\\left(t \\right)} \\cos{\\left(\\theta_{0}{\\left(t \\right)} \\right)} + 2 d \\nu_{2}{\\left(t \\right)} \\nu_{3}{\\left(t \\right)} \\sin{\\left(\\theta_{0}{\\left(t \\right)} \\right)} - 2 d \\sin{\\left(\\theta_{0}{\\left(t \\right)} \\right)} \\frac{d}{d t} \\nu_{1}{\\left(t \\right)} + 2 d \\cos{\\left(\\theta_{0}{\\left(t \\right)} \\right)} \\frac{d}{d t} \\nu_{2}{\\left(t \\right)} - \\nu_{1}^{2}{\\left(t \\right)} \\sin{\\left(2 \\theta_{0}{\\left(t \\right)} \\right)} + 2 \\nu_{1}{\\left(t \\right)} \\nu_{2}{\\left(t \\right)} \\cos{\\left(2 \\theta_{0}{\\left(t \\right)} \\right)} + \\nu_{2}^{2}{\\left(t \\right)} \\sin{\\left(2 \\theta_{0}{\\left(t \\right)} \\right)}\\right) \\cos{\\left(\\beta_{0} - \\theta_{0}{\\left(t \\right)} \\right)}}{2} + \\frac{d^{2} \\left(- 4 R c \\left(- R \\nu_{3}{\\left(t \\right)} \\sin{\\left(\\beta_{0} - \\theta_{0}{\\left(t \\right)} \\right)} + \\nu_{1}{\\left(t \\right)} \\cos{\\left(\\theta_{0}{\\left(t \\right)} \\right)} + \\nu_{2}{\\left(t \\right)} \\sin{\\left(\\theta_{0}{\\left(t \\right)} \\right)}\\right) \\left(R \\nu_{3}{\\left(t \\right)} \\cos{\\left(\\beta_{0} - \\theta_{0}{\\left(t \\right)} \\right)} + d \\nu_{3}{\\left(t \\right)} - \\nu_{1}{\\left(t \\right)} \\sin{\\left(\\theta_{0}{\\left(t \\right)} \\right)} + \\nu_{2}{\\left(t \\right)} \\cos{\\left(\\theta_{0}{\\left(t \\right)} \\right)}\\right) \\cos{\\left(\\beta_{0} - \\theta_{0}{\\left(t \\right)} \\right)} - 4 R c \\left(- R \\left(R \\nu_{3}{\\left(t \\right)} \\cos{\\left(\\beta_{0} - \\theta_{0}{\\left(t \\right)} \\right)} + d \\nu_{3}{\\left(t \\right)} - \\nu_{1}{\\left(t \\right)} \\sin{\\left(\\theta_{0}{\\left(t \\right)} \\right)} + \\nu_{2}{\\left(t \\right)} \\cos{\\left(\\theta_{0}{\\left(t \\right)} \\right)}\\right) \\nu_{3}{\\left(t \\right)} \\cos{\\left(\\beta_{0} - \\theta_{0}{\\left(t \\right)} \\right)} + d \\left(\\sin{\\left(\\theta_{0}{\\left(t \\right)} \\right)} \\frac{d}{d t} \\nu_{2}{\\left(t \\right)} + \\cos{\\left(\\theta_{0}{\\left(t \\right)} \\right)} \\frac{d}{d t} \\nu_{1}{\\left(t \\right)}\\right) + \\left(R \\nu_{3}{\\left(t \\right)} \\cos{\\left(\\beta_{0} - \\theta_{0}{\\left(t \\right)} \\right)} + d \\nu_{3}{\\left(t \\right)} - \\nu_{1}{\\left(t \\right)} \\sin{\\left(\\theta_{0}{\\left(t \\right)} \\right)} + \\nu_{2}{\\left(t \\right)} \\cos{\\left(\\theta_{0}{\\left(t \\right)} \\right)}\\right) \\nu_{1}{\\left(t \\right)} \\sin{\\left(\\theta_{0}{\\left(t \\right)} \\right)} - \\left(R \\nu_{3}{\\left(t \\right)} \\cos{\\left(\\beta_{0} - \\theta_{0}{\\left(t \\right)} \\right)} + d \\nu_{3}{\\left(t \\right)} - \\nu_{1}{\\left(t \\right)} \\sin{\\left(\\theta_{0}{\\left(t \\right)} \\right)} + \\nu_{2}{\\left(t \\right)} \\cos{\\left(\\theta_{0}{\\left(t \\right)} \\right)}\\right) \\nu_{2}{\\left(t \\right)} \\cos{\\left(\\theta_{0}{\\left(t \\right)} \\right)}\\right) \\sin{\\left(\\beta_{0} - \\theta_{0}{\\left(t \\right)} \\right)} + R m_{2} r^{2} \\left(2 \\left(- d \\nu_{3}{\\left(t \\right)} \\sin{\\left(\\beta_{0} + \\alpha{\\left(t \\right)} \\right)} + \\left(- 2 R \\nu_{3}{\\left(t \\right)} \\cos{\\left(\\beta_{0} - \\theta_{0}{\\left(t \\right)} \\right)} - d \\nu_{3}{\\left(t \\right)} + 2 \\nu_{1}{\\left(t \\right)} \\sin{\\left(\\theta_{0}{\\left(t \\right)} \\right)} - 2 \\nu_{2}{\\left(t \\right)} \\cos{\\left(\\theta_{0}{\\left(t \\right)} \\right)}\\right) \\sin{\\left(- \\beta_{0} + \\alpha{\\left(t \\right)} + 2 \\theta_{0}{\\left(t \\right)} \\right)}\\right) \\left(R \\nu_{3}{\\left(t \\right)} \\cos{\\left(\\beta_{0} + \\alpha{\\left(t \\right)} \\right)} - \\left(R \\nu_{3}{\\left(t \\right)} \\cos{\\left(\\beta_{0} - \\theta_{0}{\\left(t \\right)} \\right)} - \\nu_{1}{\\left(t \\right)} \\sin{\\left(\\theta_{0}{\\left(t \\right)} \\right)} + \\nu_{2}{\\left(t \\right)} \\cos{\\left(\\theta_{0}{\\left(t \\right)} \\right)}\\right) \\cos{\\left(\\alpha{\\left(t \\right)} + \\theta_{0}{\\left(t \\right)} \\right)} + \\nu_{1}{\\left(t \\right)} \\sin{\\left(\\alpha{\\left(t \\right)} \\right)} + \\nu_{2}{\\left(t \\right)} \\cos{\\left(\\alpha{\\left(t \\right)} \\right)}\\right) - 2 \\left(- d \\nu_{3}{\\left(t \\right)} \\cos{\\left(\\beta_{0} + \\alpha{\\left(t \\right)} \\right)} + \\left(- 2 R \\nu_{3}{\\left(t \\right)} \\cos{\\left(\\beta_{0} - \\theta_{0}{\\left(t \\right)} \\right)} - d \\nu_{3}{\\left(t \\right)} + 2 \\nu_{1}{\\left(t \\right)} \\sin{\\left(\\theta_{0}{\\left(t \\right)} \\right)} - 2 \\nu_{2}{\\left(t \\right)} \\cos{\\left(\\theta_{0}{\\left(t \\right)} \\right)}\\right) \\cos{\\left(- \\beta_{0} + \\alpha{\\left(t \\right)} + 2 \\theta_{0}{\\left(t \\right)} \\right)}\\right) \\left(R \\nu_{3}{\\left(t \\right)} \\sin{\\left(\\beta_{0} + \\alpha{\\left(t \\right)} \\right)} - \\left(R \\nu_{3}{\\left(t \\right)} \\cos{\\left(\\beta_{0} - \\theta_{0}{\\left(t \\right)} \\right)} - \\nu_{1}{\\left(t \\right)} \\sin{\\left(\\theta_{0}{\\left(t \\right)} \\right)} + \\nu_{2}{\\left(t \\right)} \\cos{\\left(\\theta_{0}{\\left(t \\right)} \\right)}\\right) \\sin{\\left(\\alpha{\\left(t \\right)} + \\theta_{0}{\\left(t \\right)} \\right)} - \\nu_{1}{\\left(t \\right)} \\cos{\\left(\\alpha{\\left(t \\right)} \\right)} + \\nu_{2}{\\left(t \\right)} \\sin{\\left(\\alpha{\\left(t \\right)} \\right)}\\right) + \\left(\\sin{\\left(\\beta_{0} + \\alpha{\\left(t \\right)} \\right)} - \\sin{\\left(- \\beta_{0} + \\alpha{\\left(t \\right)} + 2 \\theta_{0}{\\left(t \\right)} \\right)}\\right) \\left(2 d \\left(R \\nu_{3}^{2}{\\left(t \\right)} \\cos{\\left(\\beta_{0} + \\alpha{\\left(t \\right)} \\right)} + \\nu_{1}{\\left(t \\right)} \\nu_{3}{\\left(t \\right)} \\sin{\\left(\\alpha{\\left(t \\right)} \\right)} + \\nu_{2}{\\left(t \\right)} \\nu_{3}{\\left(t \\right)} \\cos{\\left(\\alpha{\\left(t \\right)} \\right)} + \\sin{\\left(\\alpha{\\left(t \\right)} \\right)} \\frac{d}{d t} \\nu_{2}{\\left(t \\right)} - \\cos{\\left(\\alpha{\\left(t \\right)} \\right)} \\frac{d}{d t} \\nu_{1}{\\left(t \\right)}\\right) + 2 \\left(R \\nu_{3}{\\left(t \\right)} \\cos{\\left(\\beta_{0} - \\theta_{0}{\\left(t \\right)} \\right)} - \\nu_{1}{\\left(t \\right)} \\sin{\\left(\\theta_{0}{\\left(t \\right)} \\right)} + \\nu_{2}{\\left(t \\right)} \\cos{\\left(\\theta_{0}{\\left(t \\right)} \\right)}\\right)^{2} \\cos{\\left(\\alpha{\\left(t \\right)} + \\theta_{0}{\\left(t \\right)} \\right)} - \\left(- R^{2} \\nu_{3}^{2}{\\left(t \\right)} \\sin{\\left(2 \\beta_{0} - 2 \\theta_{0}{\\left(t \\right)} \\right)} - 2 R d \\nu_{3}^{2}{\\left(t \\right)} \\sin{\\left(\\beta_{0} - \\theta_{0}{\\left(t \\right)} \\right)} + 2 R \\nu_{1}{\\left(t \\right)} \\nu_{3}{\\left(t \\right)} \\cos{\\left(\\beta_{0} - 2 \\theta_{0}{\\left(t \\right)} \\right)} - 2 R \\nu_{2}{\\left(t \\right)} \\nu_{3}{\\left(t \\right)} \\sin{\\left(\\beta_{0} - 2 \\theta_{0}{\\left(t \\right)} \\right)} + 2 d \\nu_{1}{\\left(t \\right)} \\nu_{3}{\\left(t \\right)} \\cos{\\left(\\theta_{0}{\\left(t \\right)} \\right)} + 2 d \\nu_{2}{\\left(t \\right)} \\nu_{3}{\\left(t \\right)} \\sin{\\left(\\theta_{0}{\\left(t \\right)} \\right)} - 2 d \\sin{\\left(\\theta_{0}{\\left(t \\right)} \\right)} \\frac{d}{d t} \\nu_{1}{\\left(t \\right)} + 2 d \\cos{\\left(\\theta_{0}{\\left(t \\right)} \\right)} \\frac{d}{d t} \\nu_{2}{\\left(t \\right)} - \\nu_{1}^{2}{\\left(t \\right)} \\sin{\\left(2 \\theta_{0}{\\left(t \\right)} \\right)} + 2 \\nu_{1}{\\left(t \\right)} \\nu_{2}{\\left(t \\right)} \\cos{\\left(2 \\theta_{0}{\\left(t \\right)} \\right)} + \\nu_{2}^{2}{\\left(t \\right)} \\sin{\\left(2 \\theta_{0}{\\left(t \\right)} \\right)}\\right) \\sin{\\left(\\alpha{\\left(t \\right)} + \\theta_{0}{\\left(t \\right)} \\right)}\\right) + \\left(\\cos{\\left(\\beta_{0} + \\alpha{\\left(t \\right)} \\right)} - \\cos{\\left(- \\beta_{0} + \\alpha{\\left(t \\right)} + 2 \\theta_{0}{\\left(t \\right)} \\right)}\\right) \\left(2 d \\left(- R \\nu_{3}^{2}{\\left(t \\right)} \\sin{\\left(\\beta_{0} + \\alpha{\\left(t \\right)} \\right)} + \\nu_{1}{\\left(t \\right)} \\nu_{3}{\\left(t \\right)} \\cos{\\left(\\alpha{\\left(t \\right)} \\right)} - \\nu_{2}{\\left(t \\right)} \\nu_{3}{\\left(t \\right)} \\sin{\\left(\\alpha{\\left(t \\right)} \\right)} + \\sin{\\left(\\alpha{\\left(t \\right)} \\right)} \\frac{d}{d t} \\nu_{1}{\\left(t \\right)} + \\cos{\\left(\\alpha{\\left(t \\right)} \\right)} \\frac{d}{d t} \\nu_{2}{\\left(t \\right)}\\right) - 2 \\left(R \\nu_{3}{\\left(t \\right)} \\cos{\\left(\\beta_{0} - \\theta_{0}{\\left(t \\right)} \\right)} - \\nu_{1}{\\left(t \\right)} \\sin{\\left(\\theta_{0}{\\left(t \\right)} \\right)} + \\nu_{2}{\\left(t \\right)} \\cos{\\left(\\theta_{0}{\\left(t \\right)} \\right)}\\right)^{2} \\sin{\\left(\\alpha{\\left(t \\right)} + \\theta_{0}{\\left(t \\right)} \\right)} - \\left(- R^{2} \\nu_{3}^{2}{\\left(t \\right)} \\sin{\\left(2 \\beta_{0} - 2 \\theta_{0}{\\left(t \\right)} \\right)} - 2 R d \\nu_{3}^{2}{\\left(t \\right)} \\sin{\\left(\\beta_{0} - \\theta_{0}{\\left(t \\right)} \\right)} + 2 R \\nu_{1}{\\left(t \\right)} \\nu_{3}{\\left(t \\right)} \\cos{\\left(\\beta_{0} - 2 \\theta_{0}{\\left(t \\right)} \\right)} - 2 R \\nu_{2}{\\left(t \\right)} \\nu_{3}{\\left(t \\right)} \\sin{\\left(\\beta_{0} - 2 \\theta_{0}{\\left(t \\right)} \\right)} + 2 d \\nu_{1}{\\left(t \\right)} \\nu_{3}{\\left(t \\right)} \\cos{\\left(\\theta_{0}{\\left(t \\right)} \\right)} + 2 d \\nu_{2}{\\left(t \\right)} \\nu_{3}{\\left(t \\right)} \\sin{\\left(\\theta_{0}{\\left(t \\right)} \\right)} - 2 d \\sin{\\left(\\theta_{0}{\\left(t \\right)} \\right)} \\frac{d}{d t} \\nu_{1}{\\left(t \\right)} + 2 d \\cos{\\left(\\theta_{0}{\\left(t \\right)} \\right)} \\frac{d}{d t} \\nu_{2}{\\left(t \\right)} - \\nu_{1}^{2}{\\left(t \\right)} \\sin{\\left(2 \\theta_{0}{\\left(t \\right)} \\right)} + 2 \\nu_{1}{\\left(t \\right)} \\nu_{2}{\\left(t \\right)} \\cos{\\left(2 \\theta_{0}{\\left(t \\right)} \\right)} + \\nu_{2}^{2}{\\left(t \\right)} \\sin{\\left(2 \\theta_{0}{\\left(t \\right)} \\right)}\\right) \\cos{\\left(\\alpha{\\left(t \\right)} + \\theta_{0}{\\left(t \\right)} \\right)}\\right)\\right)\\right)}{4}}{d^{3} r^{2}}\\end{matrix}\\right]$"
      ],
      "text/plain": [
       "Matrix([\n",
       "[                                                                                                                                                                                                                                                                                                                                                                                                                                                                                                                                                                                                                                                                                                                                                                                                                                                                                                                                                                                                                                                                                                                                                                                                                                                                                                                                                                                                                                                                                                                                                                                                                                                                                                                                                                                                                                                                                                                                                                                                                                                                         -(R*m2*nu3(t)*cos(beta0) - R*m2*nu3(t)*cos(beta0 - 2*theta0(t)) + 2*m1*nu2(t) + m2*nu1(t)*sin(2*theta0(t)) - m2*nu2(t)*cos(2*theta0(t)) + m2*nu2(t))*nu3(t)/2 + (b*r**2*(R*nu3(t)*cos(beta0 - theta0(t)) - nu1(t)*sin(theta0(t)) + nu2(t)*cos(theta0(t)))*(R*nu3(t)*cos(beta0 - theta0(t)) + d*nu3(t) - nu1(t)*sin(theta0(t)) + nu2(t)*cos(theta0(t)))*cos(theta0(t)) - b*r**2*(-R**2*nu3(t)**2*sin(2*beta0 - 2*theta0(t)) - 2*R*d*nu3(t)**2*sin(beta0 - theta0(t)) + 2*R*nu1(t)*nu3(t)*cos(beta0 - 2*theta0(t)) - 2*R*nu2(t)*nu3(t)*sin(beta0 - 2*theta0(t)) + 2*d*nu1(t)*nu3(t)*cos(theta0(t)) + 2*d*nu2(t)*nu3(t)*sin(theta0(t)) - 2*d*sin(theta0(t))*Derivative(nu1(t), t) + 2*d*cos(theta0(t))*Derivative(nu2(t), t) - nu1(t)**2*sin(2*theta0(t)) + 2*nu1(t)*nu2(t)*cos(2*theta0(t)) + nu2(t)**2*sin(2*theta0(t)))*sin(theta0(t))/2 + d**2*(2*c*(-R*nu3(t)*sin(beta0 - theta0(t)) + nu1(t)*cos(theta0(t)) + nu2(t)*sin(theta0(t)))*(R*nu3(t)*cos(beta0 - theta0(t)) + d*nu3(t) - nu1(t)*sin(theta0(t)) + nu2(t)*cos(theta0(t)))*sin(theta0(t)) - 2*c*(R*(R*nu3(t)*cos(beta0 - theta0(t)) + d*nu3(t) - nu1(t)*sin(theta0(t)) + nu2(t)*cos(theta0(t)))*nu3(t)*cos(beta0 - theta0(t)) - d*(sin(theta0(t))*Derivative(nu2(t), t) + cos(theta0(t))*Derivative(nu1(t), t)) - (R*nu3(t)*cos(beta0 - theta0(t)) + d*nu3(t) - nu1(t)*sin(theta0(t)) + nu2(t)*cos(theta0(t)))*nu1(t)*sin(theta0(t)) + (R*nu3(t)*cos(beta0 - theta0(t)) + d*nu3(t) - nu1(t)*sin(theta0(t)) + nu2(t)*cos(theta0(t)))*nu2(t)*cos(theta0(t)))*cos(theta0(t)) + r**2*(2*d*m1*Derivative(nu1(t), t) - m2*(2*R*(R*nu3(t)*cos(beta0 - theta0(t)) + d*nu3(t) - nu1(t)*sin(theta0(t)) + nu2(t)*cos(theta0(t)))*nu3(t)*cos(beta0 - 2*theta0(t)) - d*(sin(2*theta0(t))*Derivative(nu2(t), t) + cos(2*theta0(t))*Derivative(nu1(t), t) + Derivative(nu1(t), t)) - 2*(R*nu3(t)*cos(beta0 - theta0(t)) + d*nu3(t) - nu1(t)*sin(theta0(t)) + nu2(t)*cos(theta0(t)))*nu1(t)*sin(2*theta0(t)) + 2*(R*nu3(t)*cos(beta0 - theta0(t)) + d*nu3(t) - nu1(t)*sin(theta0(t)) + nu2(t)*cos(theta0(t)))*nu2(t)*cos(2*theta0(t)))))/2)/(d**3*r**2)],\n",
       "[                                                                                                                                                                                                                                                                                                                                                                                                                                                                                                                                                                                                                                                                                                                                                                                                                                                                                                                                                                                                                                                                                                                                                                                                                                                                                                                                                                                                                                                                                                                                                                                                                                                                                                                                                                                                                                                                                                (-R*m2*nu3(t)*sin(beta0) - R*m2*nu3(t)*sin(beta0 - 2*theta0(t)) + 2*m1*nu1(t) + m2*nu1(t)*cos(2*theta0(t)) + m2*nu1(t) + m2*nu2(t)*sin(2*theta0(t)))*nu3(t)/2 + (2*b*r**2*(R*nu3(t)*cos(beta0 - theta0(t)) - nu1(t)*sin(theta0(t)) + nu2(t)*cos(theta0(t)))*(R*nu3(t)*cos(beta0 - theta0(t)) + d*nu3(t) - nu1(t)*sin(theta0(t)) + nu2(t)*cos(theta0(t)))*sin(theta0(t)) + b*r**2*(-R**2*nu3(t)**2*sin(2*beta0 - 2*theta0(t)) - 2*R*d*nu3(t)**2*sin(beta0 - theta0(t)) + 2*R*nu1(t)*nu3(t)*cos(beta0 - 2*theta0(t)) - 2*R*nu2(t)*nu3(t)*sin(beta0 - 2*theta0(t)) + 2*d*nu1(t)*nu3(t)*cos(theta0(t)) + 2*d*nu2(t)*nu3(t)*sin(theta0(t)) - 2*d*sin(theta0(t))*Derivative(nu1(t), t) + 2*d*cos(theta0(t))*Derivative(nu2(t), t) - nu1(t)**2*sin(2*theta0(t)) + 2*nu1(t)*nu2(t)*cos(2*theta0(t)) + nu2(t)**2*sin(2*theta0(t)))*cos(theta0(t)) + 2*d**2*(-c*(-R*nu3(t)*sin(beta0 - theta0(t)) + nu1(t)*cos(theta0(t)) + nu2(t)*sin(theta0(t)))*(R*nu3(t)*cos(beta0 - theta0(t)) + d*nu3(t) - nu1(t)*sin(theta0(t)) + nu2(t)*cos(theta0(t)))*cos(theta0(t)) - c*(R*(R*nu3(t)*cos(beta0 - theta0(t)) + d*nu3(t) - nu1(t)*sin(theta0(t)) + nu2(t)*cos(theta0(t)))*nu3(t)*cos(beta0 - theta0(t)) - d*(sin(theta0(t))*Derivative(nu2(t), t) + cos(theta0(t))*Derivative(nu1(t), t)) - (R*nu3(t)*cos(beta0 - theta0(t)) + d*nu3(t) - nu1(t)*sin(theta0(t)) + nu2(t)*cos(theta0(t)))*nu1(t)*sin(theta0(t)) + (R*nu3(t)*cos(beta0 - theta0(t)) + d*nu3(t) - nu1(t)*sin(theta0(t)) + nu2(t)*cos(theta0(t)))*nu2(t)*cos(theta0(t)))*sin(theta0(t)) + r**2*(d*m1*Derivative(nu2(t), t) - m2*(-R*nu3(t)*sin(beta0 - theta0(t)) + nu1(t)*cos(theta0(t)) + nu2(t)*sin(theta0(t)))*(R*nu3(t)*cos(beta0 - theta0(t)) + d*nu3(t) - nu1(t)*sin(theta0(t)) + nu2(t)*cos(theta0(t)))*cos(theta0(t)) + m2*(-R*(R*nu3(t)*cos(beta0 - theta0(t)) + d*nu3(t) - nu1(t)*sin(theta0(t)) + nu2(t)*cos(theta0(t)))*nu3(t)*cos(beta0 - theta0(t)) + d*(sin(theta0(t))*Derivative(nu2(t), t) + cos(theta0(t))*Derivative(nu1(t), t)) + (R*nu3(t)*cos(beta0 - theta0(t)) + d*nu3(t) - nu1(t)*sin(theta0(t)) + nu2(t)*cos(theta0(t)))*nu1(t)*sin(theta0(t)) - (R*nu3(t)*cos(beta0 - theta0(t)) + d*nu3(t) - nu1(t)*sin(theta0(t)) + nu2(t)*cos(theta0(t)))*nu2(t)*cos(theta0(t)))*sin(theta0(t)))))/(2*d**3*r**2)],\n",
       "[-R*m2*nu1(t)*nu3(t)*cos(beta0)/2 + R*m2*nu1(t)*nu3(t)*cos(beta0 - 2*theta0(t))/2 - R*m2*nu2(t)*nu3(t)*sin(beta0)/2 - R*m2*nu2(t)*nu3(t)*sin(beta0 - 2*theta0(t))/2 - m2*nu1(t)**2*sin(2*theta0(t))/2 + m2*nu1(t)*nu2(t)*cos(2*theta0(t)) + m2*nu2(t)**2*sin(2*theta0(t))/2 - (-R*b*r**2*(R*nu3(t)*cos(beta0 - theta0(t)) - nu1(t)*sin(theta0(t)) + nu2(t)*cos(theta0(t)))*(R*nu3(t)*cos(beta0 - theta0(t)) + d*nu3(t) - nu1(t)*sin(theta0(t)) + nu2(t)*cos(theta0(t)))*sin(beta0 - theta0(t)) + R*b*r**2*(-R**2*nu3(t)**2*sin(2*beta0 - 2*theta0(t)) - 2*R*d*nu3(t)**2*sin(beta0 - theta0(t)) + 2*R*nu1(t)*nu3(t)*cos(beta0 - 2*theta0(t)) - 2*R*nu2(t)*nu3(t)*sin(beta0 - 2*theta0(t)) + 2*d*nu1(t)*nu3(t)*cos(theta0(t)) + 2*d*nu2(t)*nu3(t)*sin(theta0(t)) - 2*d*sin(theta0(t))*Derivative(nu1(t), t) + 2*d*cos(theta0(t))*Derivative(nu2(t), t) - nu1(t)**2*sin(2*theta0(t)) + 2*nu1(t)*nu2(t)*cos(2*theta0(t)) + nu2(t)**2*sin(2*theta0(t)))*cos(beta0 - theta0(t))/2 + d**2*(-4*R*c*(-R*nu3(t)*sin(beta0 - theta0(t)) + nu1(t)*cos(theta0(t)) + nu2(t)*sin(theta0(t)))*(R*nu3(t)*cos(beta0 - theta0(t)) + d*nu3(t) - nu1(t)*sin(theta0(t)) + nu2(t)*cos(theta0(t)))*cos(beta0 - theta0(t)) - 4*R*c*(-R*(R*nu3(t)*cos(beta0 - theta0(t)) + d*nu3(t) - nu1(t)*sin(theta0(t)) + nu2(t)*cos(theta0(t)))*nu3(t)*cos(beta0 - theta0(t)) + d*(sin(theta0(t))*Derivative(nu2(t), t) + cos(theta0(t))*Derivative(nu1(t), t)) + (R*nu3(t)*cos(beta0 - theta0(t)) + d*nu3(t) - nu1(t)*sin(theta0(t)) + nu2(t)*cos(theta0(t)))*nu1(t)*sin(theta0(t)) - (R*nu3(t)*cos(beta0 - theta0(t)) + d*nu3(t) - nu1(t)*sin(theta0(t)) + nu2(t)*cos(theta0(t)))*nu2(t)*cos(theta0(t)))*sin(beta0 - theta0(t)) + R*m2*r**2*(2*(-d*nu3(t)*sin(beta0 + alpha(t)) + (-2*R*nu3(t)*cos(beta0 - theta0(t)) - d*nu3(t) + 2*nu1(t)*sin(theta0(t)) - 2*nu2(t)*cos(theta0(t)))*sin(-beta0 + alpha(t) + 2*theta0(t)))*(R*nu3(t)*cos(beta0 + alpha(t)) - (R*nu3(t)*cos(beta0 - theta0(t)) - nu1(t)*sin(theta0(t)) + nu2(t)*cos(theta0(t)))*cos(alpha(t) + theta0(t)) + nu1(t)*sin(alpha(t)) + nu2(t)*cos(alpha(t))) - 2*(-d*nu3(t)*cos(beta0 + alpha(t)) + (-2*R*nu3(t)*cos(beta0 - theta0(t)) - d*nu3(t) + 2*nu1(t)*sin(theta0(t)) - 2*nu2(t)*cos(theta0(t)))*cos(-beta0 + alpha(t) + 2*theta0(t)))*(R*nu3(t)*sin(beta0 + alpha(t)) - (R*nu3(t)*cos(beta0 - theta0(t)) - nu1(t)*sin(theta0(t)) + nu2(t)*cos(theta0(t)))*sin(alpha(t) + theta0(t)) - nu1(t)*cos(alpha(t)) + nu2(t)*sin(alpha(t))) + (sin(beta0 + alpha(t)) - sin(-beta0 + alpha(t) + 2*theta0(t)))*(2*d*(R*nu3(t)**2*cos(beta0 + alpha(t)) + nu1(t)*nu3(t)*sin(alpha(t)) + nu2(t)*nu3(t)*cos(alpha(t)) + sin(alpha(t))*Derivative(nu2(t), t) - cos(alpha(t))*Derivative(nu1(t), t)) + 2*(R*nu3(t)*cos(beta0 - theta0(t)) - nu1(t)*sin(theta0(t)) + nu2(t)*cos(theta0(t)))**2*cos(alpha(t) + theta0(t)) - (-R**2*nu3(t)**2*sin(2*beta0 - 2*theta0(t)) - 2*R*d*nu3(t)**2*sin(beta0 - theta0(t)) + 2*R*nu1(t)*nu3(t)*cos(beta0 - 2*theta0(t)) - 2*R*nu2(t)*nu3(t)*sin(beta0 - 2*theta0(t)) + 2*d*nu1(t)*nu3(t)*cos(theta0(t)) + 2*d*nu2(t)*nu3(t)*sin(theta0(t)) - 2*d*sin(theta0(t))*Derivative(nu1(t), t) + 2*d*cos(theta0(t))*Derivative(nu2(t), t) - nu1(t)**2*sin(2*theta0(t)) + 2*nu1(t)*nu2(t)*cos(2*theta0(t)) + nu2(t)**2*sin(2*theta0(t)))*sin(alpha(t) + theta0(t))) + (cos(beta0 + alpha(t)) - cos(-beta0 + alpha(t) + 2*theta0(t)))*(2*d*(-R*nu3(t)**2*sin(beta0 + alpha(t)) + nu1(t)*nu3(t)*cos(alpha(t)) - nu2(t)*nu3(t)*sin(alpha(t)) + sin(alpha(t))*Derivative(nu1(t), t) + cos(alpha(t))*Derivative(nu2(t), t)) - 2*(R*nu3(t)*cos(beta0 - theta0(t)) - nu1(t)*sin(theta0(t)) + nu2(t)*cos(theta0(t)))**2*sin(alpha(t) + theta0(t)) - (-R**2*nu3(t)**2*sin(2*beta0 - 2*theta0(t)) - 2*R*d*nu3(t)**2*sin(beta0 - theta0(t)) + 2*R*nu1(t)*nu3(t)*cos(beta0 - 2*theta0(t)) - 2*R*nu2(t)*nu3(t)*sin(beta0 - 2*theta0(t)) + 2*d*nu1(t)*nu3(t)*cos(theta0(t)) + 2*d*nu2(t)*nu3(t)*sin(theta0(t)) - 2*d*sin(theta0(t))*Derivative(nu1(t), t) + 2*d*cos(theta0(t))*Derivative(nu2(t), t) - nu1(t)**2*sin(2*theta0(t)) + 2*nu1(t)*nu2(t)*cos(2*theta0(t)) + nu2(t)**2*sin(2*theta0(t)))*cos(alpha(t) + theta0(t)))))/4)/(d**3*r**2)]])"
      ]
     },
     "execution_count": 27,
     "metadata": {},
     "output_type": "execute_result"
    }
   ],
   "source": [
    "mat3 = mat[1]\n",
    "mat3"
   ]
  },
  {
   "cell_type": "code",
   "execution_count": 489,
   "metadata": {},
   "outputs": [
    {
     "data": {
      "text/latex": [
       "$\\displaystyle \\left[\\begin{matrix}- \\nu_{1}{\\left(t \\right)} \\nu_{2}{\\left(t \\right)} - 2 \\nu_{1}{\\left(t \\right)} \\nu_{3}{\\left(t \\right)} - 3 \\nu_{2}{\\left(t \\right)} \\nu_{3}{\\left(t \\right)} + 4 \\frac{d}{d t} \\nu_{1}{\\left(t \\right)}\\\\- \\nu_{1}^{2}{\\left(t \\right)} + 4 \\nu_{1}{\\left(t \\right)} \\nu_{3}{\\left(t \\right)} + 5 \\frac{d}{d t} \\nu_{2}{\\left(t \\right)}\\\\2 \\nu_{1}^{2}{\\left(t \\right)} \\sin^{2}{\\left(\\alpha{\\left(t \\right)} \\right)} + 2 \\nu_{1}^{2}{\\left(t \\right)} \\cos^{2}{\\left(\\alpha{\\left(t \\right)} \\right)} - \\nu_{1}{\\left(t \\right)} \\nu_{2}{\\left(t \\right)} - 2 \\nu_{1}{\\left(t \\right)} \\nu_{3}{\\left(t \\right)} \\sin^{2}{\\left(\\alpha{\\left(t \\right)} \\right)} - 2 \\nu_{1}{\\left(t \\right)} \\nu_{3}{\\left(t \\right)} \\cos^{2}{\\left(\\alpha{\\left(t \\right)} \\right)} - 2 \\nu_{1}{\\left(t \\right)} \\nu_{3}{\\left(t \\right)} - 2 \\sin^{2}{\\left(\\alpha{\\left(t \\right)} \\right)} \\frac{d}{d t} \\nu_{2}{\\left(t \\right)} - 2 \\cos^{2}{\\left(\\alpha{\\left(t \\right)} \\right)} \\frac{d}{d t} \\nu_{2}{\\left(t \\right)} - 2 \\frac{d}{d t} \\nu_{2}{\\left(t \\right)}\\end{matrix}\\right]$"
      ],
      "text/plain": [
       "Matrix([\n",
       "[                                                                                                                                                                                                       -nu1(t)*nu2(t) - 2*nu1(t)*nu3(t) - 3*nu2(t)*nu3(t) + 4*Derivative(nu1(t), t)],\n",
       "[                                                                                                                                                                                                                             -nu1(t)**2 + 4*nu1(t)*nu3(t) + 5*Derivative(nu2(t), t)],\n",
       "[2*nu1(t)**2*sin(alpha(t))**2 + 2*nu1(t)**2*cos(alpha(t))**2 - nu1(t)*nu2(t) - 2*nu1(t)*nu3(t)*sin(alpha(t))**2 - 2*nu1(t)*nu3(t)*cos(alpha(t))**2 - 2*nu1(t)*nu3(t) - 2*sin(alpha(t))**2*Derivative(nu2(t), t) - 2*cos(alpha(t))**2*Derivative(nu2(t), t) - 2*Derivative(nu2(t), t)]])"
      ]
     },
     "execution_count": 489,
     "metadata": {},
     "output_type": "execute_result"
    }
   ],
   "source": [
    "Matrix([par_subs(cancel(_x)) for _x in mat3.subs({beta[0]: 0, theta[0]: pi/2})])"
   ]
  },
  {
   "cell_type": "code",
   "execution_count": null,
   "metadata": {},
   "outputs": [],
   "source": [
    "tmp = mat2.subs({beta[0]: 0})"
   ]
  },
  {
   "cell_type": "code",
   "execution_count": null,
   "metadata": {},
   "outputs": [],
   "source": [
    "display_list([cancel(_x) for _x in mat3], spaces=True)"
   ]
  },
  {
   "cell_type": "code",
   "execution_count": 490,
   "metadata": {
    "scrolled": true
   },
   "outputs": [],
   "source": [
    "def cramers_rule(left, right, det):\n",
    "    deltas = [\n",
    "        Matrix(right, left[:, 1], left[:, 2]),\n",
    "        Matrix(left[:, 1], right, left[:, 2]),\n",
    "        Matrix(left[:, 1], left[:, 2], right)\n",
    "    ]\n",
    "    "
   ]
  },
  {
   "cell_type": "code",
   "execution_count": 500,
   "metadata": {},
   "outputs": [
    {
     "name": "stdout",
     "output_type": "stream",
     "text": [
      "am\n",
      "am\n",
      "am\n"
     ]
    }
   ],
   "source": [
    "%%time\n",
    "mat4 = []\n",
    "for _x in mat3:\n",
    "    mat4 += [simplify(_x)]\n",
    "    print('am')"
   ]
  },
  {
   "cell_type": "code",
   "execution_count": null,
   "metadata": {},
   "outputs": [],
   "source": []
  },
  {
   "cell_type": "code",
   "execution_count": null,
   "metadata": {},
   "outputs": [],
   "source": []
  },
  {
   "cell_type": "code",
   "execution_count": null,
   "metadata": {},
   "outputs": [],
   "source": []
  },
  {
   "cell_type": "code",
   "execution_count": null,
   "metadata": {},
   "outputs": [],
   "source": []
  },
  {
   "cell_type": "code",
   "execution_count": null,
   "metadata": {
    "scrolled": false
   },
   "outputs": [],
   "source": []
  },
  {
   "cell_type": "markdown",
   "metadata": {},
   "source": [
    "### Condition"
   ]
  },
  {
   "cell_type": "code",
   "execution_count": 63,
   "metadata": {},
   "outputs": [],
   "source": [
    "D = simplify(mat2.det().subs({beta[0]: 0}))"
   ]
  },
  {
   "cell_type": "code",
   "execution_count": 64,
   "metadata": {},
   "outputs": [
    {
     "data": {
      "text/latex": [
       "$\\displaystyle \\frac{R b \\cos{\\left(\\theta_{0}{\\left(t \\right)} \\right)} - a d}{d^{2} r} > 0$"
      ],
      "text/plain": [
       "(R*b*cos(theta0(t)) - a*d)/(d**2*r) > 0"
      ]
     },
     "execution_count": 64,
     "metadata": {},
     "output_type": "execute_result"
    }
   ],
   "source": [
    "D > 0"
   ]
  },
  {
   "cell_type": "markdown",
   "metadata": {},
   "source": [
    "##### Test condition for Det Matrix"
   ]
  },
  {
   "cell_type": "code",
   "execution_count": 68,
   "metadata": {},
   "outputs": [],
   "source": [
    "def par_subs(eq): # D > 0 | (...)/(bad)\n",
    "    return eq.subs({\n",
    "        beta[0]: 0,\n",
    "        d: 1,\n",
    "        r: 1,\n",
    "        b: 1,\n",
    "        c: 1,\n",
    "        a: 3,\n",
    "        m['platform']: 3,\n",
    "        m['wheel']: 1,\n",
    "        R: 2\n",
    "    })"
   ]
  },
  {
   "cell_type": "code",
   "execution_count": 66,
   "metadata": {},
   "outputs": [],
   "source": [
    "def par_subs(eq): # D = 0 | (...)/(good)\n",
    "    return eq.subs({\n",
    "        beta[0]: 0,\n",
    "        d: 1,\n",
    "        r: 1,\n",
    "        b: 2,\n",
    "        c: 1,\n",
    "        a: 1,\n",
    "        m['platform']: 3,\n",
    "        m['wheel']: 1,\n",
    "        R: 3\n",
    "    })"
   ]
  },
  {
   "cell_type": "code",
   "execution_count": 69,
   "metadata": {},
   "outputs": [
    {
     "data": {
      "text/latex": [
       "$\\displaystyle \\frac{R b \\cos{\\left(\\theta_{0}{\\left(t \\right)} \\right)} - a d}{d^{2} r} > 0$"
      ],
      "text/plain": [
       "(R*b*cos(theta0(t)) - a*d)/(d**2*r) > 0"
      ]
     },
     "metadata": {},
     "output_type": "display_data"
    },
    {
     "name": "stdout",
     "output_type": "stream",
     "text": [
      "Is correct?\n"
     ]
    },
    {
     "data": {
      "text/latex": [
       "$\\displaystyle \\text{True}$"
      ],
      "text/plain": [
       "True"
      ]
     },
     "metadata": {},
     "output_type": "display_data"
    },
    {
     "name": "stdout",
     "output_type": "stream",
     "text": [
      "and more\n"
     ]
    },
    {
     "data": {
      "text/latex": [
       "$\\displaystyle \\text{True}$"
      ],
      "text/plain": [
       "True"
      ]
     },
     "metadata": {},
     "output_type": "display_data"
    }
   ],
   "source": [
    "display(D > 0)\n",
    "print('Is correct?')\n",
    "display(par_subs(\n",
    "    D.subs({theta[0]: (-pi/2).n()}) * \n",
    "    D.subs({theta[0]: 0}) *\n",
    "    D.subs({theta[0]: (pi/2).n()}) * \n",
    "    D.subs({theta[0]: (pi).n()})\n",
    ") > 0)\n",
    "print('and more')\n",
    "display(par_subs(a*d/R*b) > 1)"
   ]
  },
  {
   "cell_type": "markdown",
   "metadata": {},
   "source": [
    "### Solve by $T, W, \\nu_3$"
   ]
  },
  {
   "cell_type": "code",
   "execution_count": null,
   "metadata": {},
   "outputs": [],
   "source": [
    "display_list(eqs, spaces=True)"
   ]
  },
  {
   "cell_type": "code",
   "execution_count": null,
   "metadata": {},
   "outputs": [],
   "source": [
    "%%time\n",
    "resTWNU3 = linsolve([par_subs(_eq) for _eq in eqs],\n",
    "                    [T[1], W[1], Derivative(nu[3], t)])"
   ]
  },
  {
   "cell_type": "code",
   "execution_count": null,
   "metadata": {},
   "outputs": [],
   "source": [
    "resTWNU3 = [Eq(_var, _eq) for _var, _eq in zip([T[1], W[1], Derivative(nu[3], t)], resTWNU3.args[0])]"
   ]
  },
  {
   "cell_type": "code",
   "execution_count": 345,
   "metadata": {
    "scrolled": true
   },
   "outputs": [
    {
     "data": {
      "text/latex": [
       "$\\displaystyle \\operatorname{T_{1}}{\\left(t \\right)} = \\frac{2 \\left(3 \\cos{\\left(\\theta_{0}{\\left(t \\right)} \\right)} - \\cos{\\left(2 \\theta_{0}{\\left(t \\right)} \\right)} - 1\\right) \\left(\\nu_{1}^{2}{\\left(t \\right)} \\cos^{3}{\\left(\\theta_{0}{\\left(t \\right)} \\right)} - \\nu_{1}^{2}{\\left(t \\right)} \\cos{\\left(\\theta_{0}{\\left(t \\right)} \\right)} - 2 \\nu_{1}{\\left(t \\right)} \\nu_{2}{\\left(t \\right)} \\sin^{3}{\\left(\\theta_{0}{\\left(t \\right)} \\right)} + 2 \\nu_{1}{\\left(t \\right)} \\nu_{2}{\\left(t \\right)} \\sin{\\left(\\theta_{0}{\\left(t \\right)} \\right)} - 4 \\nu_{1}{\\left(t \\right)} \\nu_{3}{\\left(t \\right)} \\sin^{3}{\\left(\\theta_{0}{\\left(t \\right)} \\right)} + 4 \\nu_{1}{\\left(t \\right)} \\nu_{3}{\\left(t \\right)} \\sin{\\left(\\theta_{0}{\\left(t \\right)} \\right)} \\cos{\\left(\\theta_{0}{\\left(t \\right)} \\right)} + 4 \\nu_{1}{\\left(t \\right)} \\nu_{3}{\\left(t \\right)} \\sin{\\left(\\theta_{0}{\\left(t \\right)} \\right)} - \\nu_{2}^{2}{\\left(t \\right)} \\cos^{3}{\\left(\\theta_{0}{\\left(t \\right)} \\right)} - 4 \\nu_{2}{\\left(t \\right)} \\nu_{3}{\\left(t \\right)} \\cos^{3}{\\left(\\theta_{0}{\\left(t \\right)} \\right)} - 4 \\nu_{2}{\\left(t \\right)} \\nu_{3}{\\left(t \\right)} \\cos^{2}{\\left(\\theta_{0}{\\left(t \\right)} \\right)} - 4 \\nu_{3}^{2}{\\left(t \\right)} \\cos^{3}{\\left(\\theta_{0}{\\left(t \\right)} \\right)} - 2 \\nu_{3}^{2}{\\left(t \\right)} \\cos^{2}{\\left(\\theta_{0}{\\left(t \\right)} \\right)} + 5 \\sin{\\left(\\theta_{0}{\\left(t \\right)} \\right)} \\cos{\\left(\\theta_{0}{\\left(t \\right)} \\right)} \\frac{d}{d t} \\nu_{2}{\\left(t \\right)} + 5 \\cos^{2}{\\left(\\theta_{0}{\\left(t \\right)} \\right)} \\frac{d}{d t} \\nu_{1}{\\left(t \\right)}\\right) + 24 \\nu_{1}{\\left(t \\right)} \\nu_{3}{\\left(t \\right)} \\sin{\\left(\\theta_{0}{\\left(t \\right)} \\right)} \\cos{\\left(2 \\theta_{0}{\\left(t \\right)} \\right)} + 24 \\nu_{1}{\\left(t \\right)} \\nu_{3}{\\left(t \\right)} \\sin{\\left(\\theta_{0}{\\left(t \\right)} \\right)} + 6 \\nu_{1}{\\left(t \\right)} \\nu_{3}{\\left(t \\right)} \\sin{\\left(2 \\theta_{0}{\\left(t \\right)} \\right)} + 3 \\nu_{1}{\\left(t \\right)} \\nu_{3}{\\left(t \\right)} \\sin{\\left(4 \\theta_{0}{\\left(t \\right)} \\right)} - 3 \\nu_{2}{\\left(t \\right)} \\nu_{3}{\\left(t \\right)} \\cos{\\left(4 \\theta_{0}{\\left(t \\right)} \\right)} + 3 \\nu_{2}{\\left(t \\right)} \\nu_{3}{\\left(t \\right)} + 24 \\sin{\\left(\\theta_{0}{\\left(t \\right)} \\right)} \\cos{\\left(2 \\theta_{0}{\\left(t \\right)} \\right)} \\frac{d}{d t} \\nu_{2}{\\left(t \\right)} + 24 \\sin{\\left(\\theta_{0}{\\left(t \\right)} \\right)} \\frac{d}{d t} \\nu_{2}{\\left(t \\right)} + 8 \\sin{\\left(2 \\theta_{0}{\\left(t \\right)} \\right)} \\frac{d}{d t} \\nu_{2}{\\left(t \\right)} + 4 \\sin{\\left(4 \\theta_{0}{\\left(t \\right)} \\right)} \\frac{d}{d t} \\nu_{2}{\\left(t \\right)} + 4 \\cos{\\left(4 \\theta_{0}{\\left(t \\right)} \\right)} \\frac{d}{d t} \\nu_{1}{\\left(t \\right)} - 4 \\frac{d}{d t} \\nu_{1}{\\left(t \\right)}}{2 \\left(3 \\cos{\\left(\\theta_{0}{\\left(t \\right)} \\right)} - \\cos{\\left(2 \\theta_{0}{\\left(t \\right)} \\right)} - 1\\right) \\cos{\\left(\\theta_{0}{\\left(t \\right)} \\right)}}$"
      ],
      "text/plain": [
       "Eq(T1(t), (2*(3*cos(theta0(t)) - cos(2*theta0(t)) - 1)*(nu1(t)**2*cos(theta0(t))**3 - nu1(t)**2*cos(theta0(t)) - 2*nu1(t)*nu2(t)*sin(theta0(t))**3 + 2*nu1(t)*nu2(t)*sin(theta0(t)) - 4*nu1(t)*nu3(t)*sin(theta0(t))**3 + 4*nu1(t)*nu3(t)*sin(theta0(t))*cos(theta0(t)) + 4*nu1(t)*nu3(t)*sin(theta0(t)) - nu2(t)**2*cos(theta0(t))**3 - 4*nu2(t)*nu3(t)*cos(theta0(t))**3 - 4*nu2(t)*nu3(t)*cos(theta0(t))**2 - 4*nu3(t)**2*cos(theta0(t))**3 - 2*nu3(t)**2*cos(theta0(t))**2 + 5*sin(theta0(t))*cos(theta0(t))*Derivative(nu2(t), t) + 5*cos(theta0(t))**2*Derivative(nu1(t), t)) + 24*nu1(t)*nu3(t)*sin(theta0(t))*cos(2*theta0(t)) + 24*nu1(t)*nu3(t)*sin(theta0(t)) + 6*nu1(t)*nu3(t)*sin(2*theta0(t)) + 3*nu1(t)*nu3(t)*sin(4*theta0(t)) - 3*nu2(t)*nu3(t)*cos(4*theta0(t)) + 3*nu2(t)*nu3(t) + 24*sin(theta0(t))*cos(2*theta0(t))*Derivative(nu2(t), t) + 24*sin(theta0(t))*Derivative(nu2(t), t) + 8*sin(2*theta0(t))*Derivative(nu2(t), t) + 4*sin(4*theta0(t))*Derivative(nu2(t), t) + 4*cos(4*theta0(t))*Derivative(nu1(t), t) - 4*Derivative(nu1(t), t))/(2*(3*cos(theta0(t)) - cos(2*theta0(t)) - 1)*cos(theta0(t))))"
      ]
     },
     "metadata": {},
     "output_type": "display_data"
    },
    {
     "data": {
      "text/latex": [
       "$\\displaystyle \\operatorname{W_{1}}{\\left(t \\right)} = \\frac{- \\left(3 \\cos{\\left(\\theta_{0}{\\left(t \\right)} \\right)} - \\cos{\\left(2 \\theta_{0}{\\left(t \\right)} \\right)} - 1\\right) \\left(\\nu_{1}^{2}{\\left(t \\right)} \\sin{\\left(2 \\theta_{0}{\\left(t \\right)} \\right)} - 2 \\nu_{1}{\\left(t \\right)} \\nu_{2}{\\left(t \\right)} \\cos{\\left(2 \\theta_{0}{\\left(t \\right)} \\right)} + 6 \\nu_{1}{\\left(t \\right)} \\nu_{3}{\\left(t \\right)} \\cos{\\left(\\theta_{0}{\\left(t \\right)} \\right)} - 4 \\nu_{1}{\\left(t \\right)} \\nu_{3}{\\left(t \\right)} \\cos{\\left(2 \\theta_{0}{\\left(t \\right)} \\right)} - \\nu_{2}^{2}{\\left(t \\right)} \\sin{\\left(2 \\theta_{0}{\\left(t \\right)} \\right)} + 6 \\nu_{2}{\\left(t \\right)} \\nu_{3}{\\left(t \\right)} \\sin{\\left(\\theta_{0}{\\left(t \\right)} \\right)} - 4 \\nu_{2}{\\left(t \\right)} \\nu_{3}{\\left(t \\right)} \\sin{\\left(2 \\theta_{0}{\\left(t \\right)} \\right)} - 4 \\nu_{3}^{2}{\\left(t \\right)} \\sin{\\left(2 \\theta_{0}{\\left(t \\right)} \\right)} - 8 \\sin{\\left(\\theta_{0}{\\left(t \\right)} \\right)} \\frac{d}{d t} \\nu_{1}{\\left(t \\right)} + 8 \\cos{\\left(\\theta_{0}{\\left(t \\right)} \\right)} \\frac{d}{d t} \\nu_{2}{\\left(t \\right)}\\right) - 9 \\nu_{1}{\\left(t \\right)} \\nu_{3}{\\left(t \\right)} \\cos{\\left(\\theta_{0}{\\left(t \\right)} \\right)} - 12 \\nu_{1}{\\left(t \\right)} \\nu_{3}{\\left(t \\right)} \\cos{\\left(2 \\theta_{0}{\\left(t \\right)} \\right)} - 3 \\nu_{1}{\\left(t \\right)} \\nu_{3}{\\left(t \\right)} \\cos{\\left(3 \\theta_{0}{\\left(t \\right)} \\right)} - 12 \\nu_{1}{\\left(t \\right)} \\nu_{3}{\\left(t \\right)} - 3 \\nu_{2}{\\left(t \\right)} \\nu_{3}{\\left(t \\right)} \\sin{\\left(\\theta_{0}{\\left(t \\right)} \\right)} - 3 \\nu_{2}{\\left(t \\right)} \\nu_{3}{\\left(t \\right)} \\sin{\\left(3 \\theta_{0}{\\left(t \\right)} \\right)} + 4 \\sin{\\left(\\theta_{0}{\\left(t \\right)} \\right)} \\frac{d}{d t} \\nu_{1}{\\left(t \\right)} + 4 \\sin{\\left(3 \\theta_{0}{\\left(t \\right)} \\right)} \\frac{d}{d t} \\nu_{1}{\\left(t \\right)} - 12 \\cos{\\left(\\theta_{0}{\\left(t \\right)} \\right)} \\frac{d}{d t} \\nu_{2}{\\left(t \\right)} - 12 \\cos{\\left(2 \\theta_{0}{\\left(t \\right)} \\right)} \\frac{d}{d t} \\nu_{2}{\\left(t \\right)} - 4 \\cos{\\left(3 \\theta_{0}{\\left(t \\right)} \\right)} \\frac{d}{d t} \\nu_{2}{\\left(t \\right)} - 12 \\frac{d}{d t} \\nu_{2}{\\left(t \\right)}}{2 \\left(3 \\cos{\\left(\\theta_{0}{\\left(t \\right)} \\right)} - \\cos{\\left(2 \\theta_{0}{\\left(t \\right)} \\right)} - 1\\right)}$"
      ],
      "text/plain": [
       "Eq(W1(t), (-(3*cos(theta0(t)) - cos(2*theta0(t)) - 1)*(nu1(t)**2*sin(2*theta0(t)) - 2*nu1(t)*nu2(t)*cos(2*theta0(t)) + 6*nu1(t)*nu3(t)*cos(theta0(t)) - 4*nu1(t)*nu3(t)*cos(2*theta0(t)) - nu2(t)**2*sin(2*theta0(t)) + 6*nu2(t)*nu3(t)*sin(theta0(t)) - 4*nu2(t)*nu3(t)*sin(2*theta0(t)) - 4*nu3(t)**2*sin(2*theta0(t)) - 8*sin(theta0(t))*Derivative(nu1(t), t) + 8*cos(theta0(t))*Derivative(nu2(t), t)) - 9*nu1(t)*nu3(t)*cos(theta0(t)) - 12*nu1(t)*nu3(t)*cos(2*theta0(t)) - 3*nu1(t)*nu3(t)*cos(3*theta0(t)) - 12*nu1(t)*nu3(t) - 3*nu2(t)*nu3(t)*sin(theta0(t)) - 3*nu2(t)*nu3(t)*sin(3*theta0(t)) + 4*sin(theta0(t))*Derivative(nu1(t), t) + 4*sin(3*theta0(t))*Derivative(nu1(t), t) - 12*cos(theta0(t))*Derivative(nu2(t), t) - 12*cos(2*theta0(t))*Derivative(nu2(t), t) - 4*cos(3*theta0(t))*Derivative(nu2(t), t) - 12*Derivative(nu2(t), t))/(2*(3*cos(theta0(t)) - cos(2*theta0(t)) - 1)))"
      ]
     },
     "metadata": {},
     "output_type": "display_data"
    },
    {
     "data": {
      "text/latex": [
       "$\\displaystyle \\frac{d}{d t} \\nu_{3}{\\left(t \\right)} = \\frac{- \\nu_{1}^{2}{\\left(t \\right)} \\sin^{3}{\\left(\\theta_{0}{\\left(t \\right)} \\right)} + \\frac{3 \\nu_{1}^{2}{\\left(t \\right)} \\sin{\\left(\\theta_{0}{\\left(t \\right)} \\right)}}{4} - \\frac{\\nu_{1}^{2}{\\left(t \\right)} \\sin{\\left(3 \\theta_{0}{\\left(t \\right)} \\right)}}{4} - 2 \\nu_{1}{\\left(t \\right)} \\nu_{2}{\\left(t \\right)} \\cos^{3}{\\left(\\theta_{0}{\\left(t \\right)} \\right)} + \\frac{3 \\nu_{1}{\\left(t \\right)} \\nu_{2}{\\left(t \\right)} \\cos{\\left(\\theta_{0}{\\left(t \\right)} \\right)}}{2} + \\frac{\\nu_{1}{\\left(t \\right)} \\nu_{2}{\\left(t \\right)} \\cos{\\left(3 \\theta_{0}{\\left(t \\right)} \\right)}}{2} - 4 \\nu_{1}{\\left(t \\right)} \\nu_{3}{\\left(t \\right)} \\cos^{3}{\\left(\\theta_{0}{\\left(t \\right)} \\right)} + 3 \\nu_{1}{\\left(t \\right)} \\nu_{3}{\\left(t \\right)} \\cos^{2}{\\left(\\theta_{0}{\\left(t \\right)} \\right)} + 9 \\nu_{1}{\\left(t \\right)} \\nu_{3}{\\left(t \\right)} \\cos{\\left(\\theta_{0}{\\left(t \\right)} \\right)} + \\nu_{1}{\\left(t \\right)} \\nu_{3}{\\left(t \\right)} \\cos{\\left(3 \\theta_{0}{\\left(t \\right)} \\right)} + \\nu_{2}^{2}{\\left(t \\right)} \\sin^{3}{\\left(\\theta_{0}{\\left(t \\right)} \\right)} - \\frac{3 \\nu_{2}^{2}{\\left(t \\right)} \\sin{\\left(\\theta_{0}{\\left(t \\right)} \\right)}}{4} + \\frac{\\nu_{2}^{2}{\\left(t \\right)} \\sin{\\left(3 \\theta_{0}{\\left(t \\right)} \\right)}}{4} + 4 \\nu_{2}{\\left(t \\right)} \\nu_{3}{\\left(t \\right)} \\sin^{3}{\\left(\\theta_{0}{\\left(t \\right)} \\right)} + 3 \\nu_{2}{\\left(t \\right)} \\nu_{3}{\\left(t \\right)} \\sin{\\left(\\theta_{0}{\\left(t \\right)} \\right)} \\cos{\\left(\\theta_{0}{\\left(t \\right)} \\right)} - 3 \\nu_{2}{\\left(t \\right)} \\nu_{3}{\\left(t \\right)} \\sin{\\left(\\theta_{0}{\\left(t \\right)} \\right)} + \\nu_{2}{\\left(t \\right)} \\nu_{3}{\\left(t \\right)} \\sin{\\left(3 \\theta_{0}{\\left(t \\right)} \\right)} + 4 \\nu_{3}^{2}{\\left(t \\right)} \\sin^{3}{\\left(\\theta_{0}{\\left(t \\right)} \\right)} - 3 \\nu_{3}^{2}{\\left(t \\right)} \\sin{\\left(\\theta_{0}{\\left(t \\right)} \\right)} + \\nu_{3}^{2}{\\left(t \\right)} \\sin{\\left(3 \\theta_{0}{\\left(t \\right)} \\right)} - 4 \\sin{\\left(\\theta_{0}{\\left(t \\right)} \\right)} \\cos{\\left(\\theta_{0}{\\left(t \\right)} \\right)} \\frac{d}{d t} \\nu_{1}{\\left(t \\right)} + 4 \\cos^{2}{\\left(\\theta_{0}{\\left(t \\right)} \\right)} \\frac{d}{d t} \\nu_{2}{\\left(t \\right)} + 6 \\cos{\\left(\\theta_{0}{\\left(t \\right)} \\right)} \\frac{d}{d t} \\nu_{2}{\\left(t \\right)}}{3 \\cos{\\left(\\theta_{0}{\\left(t \\right)} \\right)} - \\cos{\\left(2 \\theta_{0}{\\left(t \\right)} \\right)} - 1}$"
      ],
      "text/plain": [
       "Eq(Derivative(nu3(t), t), (-nu1(t)**2*sin(theta0(t))**3 + 3*nu1(t)**2*sin(theta0(t))/4 - nu1(t)**2*sin(3*theta0(t))/4 - 2*nu1(t)*nu2(t)*cos(theta0(t))**3 + 3*nu1(t)*nu2(t)*cos(theta0(t))/2 + nu1(t)*nu2(t)*cos(3*theta0(t))/2 - 4*nu1(t)*nu3(t)*cos(theta0(t))**3 + 3*nu1(t)*nu3(t)*cos(theta0(t))**2 + 9*nu1(t)*nu3(t)*cos(theta0(t)) + nu1(t)*nu3(t)*cos(3*theta0(t)) + nu2(t)**2*sin(theta0(t))**3 - 3*nu2(t)**2*sin(theta0(t))/4 + nu2(t)**2*sin(3*theta0(t))/4 + 4*nu2(t)*nu3(t)*sin(theta0(t))**3 + 3*nu2(t)*nu3(t)*sin(theta0(t))*cos(theta0(t)) - 3*nu2(t)*nu3(t)*sin(theta0(t)) + nu2(t)*nu3(t)*sin(3*theta0(t)) + 4*nu3(t)**2*sin(theta0(t))**3 - 3*nu3(t)**2*sin(theta0(t)) + nu3(t)**2*sin(3*theta0(t)) - 4*sin(theta0(t))*cos(theta0(t))*Derivative(nu1(t), t) + 4*cos(theta0(t))**2*Derivative(nu2(t), t) + 6*cos(theta0(t))*Derivative(nu2(t), t))/(3*cos(theta0(t)) - cos(2*theta0(t)) - 1))"
      ]
     },
     "metadata": {},
     "output_type": "display_data"
    }
   ],
   "source": [
    "display_list(resTWNU3)"
   ]
  },
  {
   "cell_type": "code",
   "execution_count": 361,
   "metadata": {},
   "outputs": [
    {
     "data": {
      "text/markdown": [
       "---"
      ],
      "text/plain": [
       "<IPython.core.display.Markdown object>"
      ]
     },
     "metadata": {},
     "output_type": "display_data"
    },
    {
     "data": {
      "text/latex": [
       "$\\displaystyle \\operatorname{T_{1}}{\\left(t \\right)} = - 1.0 \\nu_{1}^{2}{\\left(t \\right)} + 4.0 \\nu_{1}{\\left(t \\right)} \\nu_{3}{\\left(t \\right)} - 3.74939945665464 \\cdot 10^{-33} \\nu_{2}^{2}{\\left(t \\right)} - 2.44929359829471 \\cdot 10^{-16} \\nu_{2}{\\left(t \\right)} \\nu_{3}{\\left(t \\right)} - 1.22464679914735 \\cdot 10^{-16} \\nu_{3}^{2}{\\left(t \\right)} + 3.06161699786838 \\cdot 10^{-16} \\frac{d}{d t} \\nu_{1}{\\left(t \\right)} + 5.0 \\frac{d}{d t} \\nu_{2}{\\left(t \\right)}$"
      ],
      "text/plain": [
       "Eq(T1(t), -1.0*nu1(t)**2 + 4.0*nu1(t)*nu3(t) - 3.74939945665464e-33*nu2(t)**2 - 2.44929359829471e-16*nu2(t)*nu3(t) - 1.22464679914735e-16*nu3(t)**2 + 3.06161699786838e-16*Derivative(nu1(t), t) + 5.0*Derivative(nu2(t), t))"
      ]
     },
     "metadata": {},
     "output_type": "display_data"
    },
    {
     "data": {
      "text/markdown": [
       "---"
      ],
      "text/plain": [
       "<IPython.core.display.Markdown object>"
      ]
     },
     "metadata": {},
     "output_type": "display_data"
    },
    {
     "data": {
      "text/latex": [
       "$\\displaystyle \\operatorname{W_{1}}{\\left(t \\right)} = - 6.12323399573677 \\cdot 10^{-17} \\nu_{1}^{2}{\\left(t \\right)} - 1.0 \\nu_{1}{\\left(t \\right)} \\nu_{2}{\\left(t \\right)} - 2.0 \\nu_{1}{\\left(t \\right)} \\nu_{3}{\\left(t \\right)} + 6.12323399573677 \\cdot 10^{-17} \\nu_{2}^{2}{\\left(t \\right)} - 3.0 \\nu_{2}{\\left(t \\right)} \\nu_{3}{\\left(t \\right)} + 2.44929359829471 \\cdot 10^{-16} \\nu_{3}^{2}{\\left(t \\right)} + 4.0 \\frac{d}{d t} \\nu_{1}{\\left(t \\right)} - 2.44929359829471 \\cdot 10^{-16} \\frac{d}{d t} \\nu_{2}{\\left(t \\right)}$"
      ],
      "text/plain": [
       "Eq(W1(t), -6.12323399573677e-17*nu1(t)**2 - 1.0*nu1(t)*nu2(t) - 2.0*nu1(t)*nu3(t) + 6.12323399573677e-17*nu2(t)**2 - 3.0*nu2(t)*nu3(t) + 2.44929359829471e-16*nu3(t)**2 + 4.0*Derivative(nu1(t), t) - 2.44929359829471e-16*Derivative(nu2(t), t))"
      ]
     },
     "metadata": {},
     "output_type": "display_data"
    },
    {
     "data": {
      "text/markdown": [
       "---"
      ],
      "text/plain": [
       "<IPython.core.display.Markdown object>"
      ]
     },
     "metadata": {},
     "output_type": "display_data"
    },
    {
     "data": {
      "text/latex": [
       "$\\displaystyle \\frac{d}{d t} \\nu_{3}{\\left(t \\right)} = 2.0 \\nu_{1}{\\left(t \\right)} \\nu_{3}{\\left(t \\right)} + 1.0 \\nu_{2}{\\left(t \\right)} \\nu_{3}{\\left(t \\right)} - 1.33333333333333 \\frac{d}{d t} \\nu_{1}{\\left(t \\right)} + 2.0 \\frac{d}{d t} \\nu_{2}{\\left(t \\right)}$"
      ],
      "text/plain": [
       "Eq(Derivative(nu3(t), t), 2.0*nu1(t)*nu3(t) + 1.0*nu2(t)*nu3(t) - 1.33333333333333*Derivative(nu1(t), t) + 2.0*Derivative(nu2(t), t))"
      ]
     },
     "metadata": {},
     "output_type": "display_data"
    }
   ],
   "source": [
    "display_list([_eq.subs({theta[0]: (pi/2).n()}) for _eq in resTWNU3], spaces=True)"
   ]
  },
  {
   "cell_type": "code",
   "execution_count": 474,
   "metadata": {},
   "outputs": [
    {
     "data": {
      "text/latex": [
       "$\\displaystyle \\operatorname{T_{1}}{\\left(t \\right)} = - 1.0 \\nu_{1}^{2}{\\left(t \\right)} + 4.0 \\nu_{1}{\\left(t \\right)} \\nu_{3}{\\left(t \\right)} - 3.74939945665464 \\cdot 10^{-33} \\nu_{2}^{2}{\\left(t \\right)} - 2.44929359829471 \\cdot 10^{-16} \\nu_{2}{\\left(t \\right)} \\nu_{3}{\\left(t \\right)} - 1.22464679914735 \\cdot 10^{-16} \\nu_{3}^{2}{\\left(t \\right)} + 3.06161699786838 \\cdot 10^{-16} \\frac{d}{d t} \\nu_{1}{\\left(t \\right)} + 5.0 \\frac{d}{d t} \\nu_{2}{\\left(t \\right)}$"
      ],
      "text/plain": [
       "Eq(T1(t), -1.0*nu1(t)**2 + 4.0*nu1(t)*nu3(t) - 3.74939945665464e-33*nu2(t)**2 - 2.44929359829471e-16*nu2(t)*nu3(t) - 1.22464679914735e-16*nu3(t)**2 + 3.06161699786838e-16*Derivative(nu1(t), t) + 5.0*Derivative(nu2(t), t))"
      ]
     },
     "execution_count": 474,
     "metadata": {},
     "output_type": "execute_result"
    }
   ],
   "source": [
    "[_eq.subs({theta[0]: (pi/2).n()}) for _eq in resTWNU3][0]"
   ]
  },
  {
   "cell_type": "code",
   "execution_count": null,
   "metadata": {},
   "outputs": [],
   "source": []
  },
  {
   "cell_type": "code",
   "execution_count": null,
   "metadata": {},
   "outputs": [],
   "source": []
  },
  {
   "cell_type": "code",
   "execution_count": null,
   "metadata": {},
   "outputs": [],
   "source": []
  },
  {
   "cell_type": "code",
   "execution_count": null,
   "metadata": {},
   "outputs": [],
   "source": [
    "save(resTWNU3, 'data/TWNU3')"
   ]
  },
  {
   "cell_type": "code",
   "execution_count": 357,
   "metadata": {},
   "outputs": [],
   "source": [
    "resTWNU3 = load('data/TWNU3')"
   ]
  },
  {
   "cell_type": "markdown",
   "metadata": {},
   "source": [
    "## Solve by x(t), y(t)"
   ]
  },
  {
   "cell_type": "code",
   "execution_count": 156,
   "metadata": {},
   "outputs": [],
   "source": [
    "def sub_xy(eqs):\n",
    "    _eq = {}\n",
    "    _s_xy = {x: 0.1* sp.Integral(atan(t)).doit(),\n",
    "             y: 0}\n",
    "    _eq['nu1(x,y)'] = eq['nu1(x,y)'].subs(_s_xy)\n",
    "    display(_eq['nu1(x,y)'].doit())\n",
    "    _eq['nu2(x,y)'] = eq['nu2(x,y)'].subs(_s_xy)\n",
    "    display(_eq['nu2(x,y)'].doit())\n",
    "    return [subs_Eqs(_x, _eq.values()) for _x in eqs]"
   ]
  },
  {
   "cell_type": "code",
   "execution_count": null,
   "metadata": {},
   "outputs": [],
   "source": []
  },
  {
   "cell_type": "code",
   "execution_count": null,
   "metadata": {},
   "outputs": [],
   "source": []
  },
  {
   "cell_type": "code",
   "execution_count": null,
   "metadata": {},
   "outputs": [],
   "source": []
  },
  {
   "cell_type": "code",
   "execution_count": 157,
   "metadata": {},
   "outputs": [
    {
     "data": {
      "text/latex": [
       "$\\displaystyle \\nu_{1}{\\left(t \\right)} = 0.1 \\cos{\\left(\\alpha{\\left(t \\right)} \\right)} \\operatorname{atan}{\\left(t \\right)}$"
      ],
      "text/plain": [
       "Eq(nu1(t), 0.1*cos(alpha(t))*atan(t))"
      ]
     },
     "metadata": {},
     "output_type": "display_data"
    },
    {
     "data": {
      "text/latex": [
       "$\\displaystyle \\nu_{2}{\\left(t \\right)} = - 0.1 \\sin{\\left(\\alpha{\\left(t \\right)} \\right)} \\operatorname{atan}{\\left(t \\right)}$"
      ],
      "text/plain": [
       "Eq(nu2(t), -0.1*sin(alpha(t))*atan(t))"
      ]
     },
     "metadata": {},
     "output_type": "display_data"
    }
   ],
   "source": [
    "xy_TW_eqs = sub_xy(resTWNU3)"
   ]
  },
  {
   "cell_type": "code",
   "execution_count": 158,
   "metadata": {},
   "outputs": [
    {
     "name": "stdout",
     "output_type": "stream",
     "text": [
      "CPU times: user 344 ms, sys: 22 µs, total: 344 ms\n",
      "Wall time: 343 ms\n"
     ]
    }
   ],
   "source": [
    "%%time\n",
    "xy_TW_eqs = [_x.doit() for _x in xy_TW_eqs]"
   ]
  },
  {
   "cell_type": "code",
   "execution_count": 159,
   "metadata": {
    "scrolled": true
   },
   "outputs": [
    {
     "data": {
      "text/latex": [
       "$\\displaystyle \\operatorname{T_{1}}{\\left(t \\right)} = \\frac{4 \\left(- 0.1 \\nu_{3}{\\left(t \\right)} \\sin{\\left(\\alpha{\\left(t \\right)} \\right)} \\operatorname{atan}{\\left(t \\right)} + \\frac{0.1 \\cos{\\left(\\alpha{\\left(t \\right)} \\right)}}{t^{2} + 1}\\right) \\cos{\\left(4 \\theta_{0}{\\left(t \\right)} \\right)} + 24 \\left(- 0.1 \\nu_{3}{\\left(t \\right)} \\cos{\\left(\\alpha{\\left(t \\right)} \\right)} \\operatorname{atan}{\\left(t \\right)} - \\frac{0.1 \\sin{\\left(\\alpha{\\left(t \\right)} \\right)}}{t^{2} + 1}\\right) \\sin{\\left(\\theta_{0}{\\left(t \\right)} \\right)} \\cos{\\left(2 \\theta_{0}{\\left(t \\right)} \\right)} + 24 \\left(- 0.1 \\nu_{3}{\\left(t \\right)} \\cos{\\left(\\alpha{\\left(t \\right)} \\right)} \\operatorname{atan}{\\left(t \\right)} - \\frac{0.1 \\sin{\\left(\\alpha{\\left(t \\right)} \\right)}}{t^{2} + 1}\\right) \\sin{\\left(\\theta_{0}{\\left(t \\right)} \\right)} + 8 \\left(- 0.1 \\nu_{3}{\\left(t \\right)} \\cos{\\left(\\alpha{\\left(t \\right)} \\right)} \\operatorname{atan}{\\left(t \\right)} - \\frac{0.1 \\sin{\\left(\\alpha{\\left(t \\right)} \\right)}}{t^{2} + 1}\\right) \\sin{\\left(2 \\theta_{0}{\\left(t \\right)} \\right)} + 4 \\left(- 0.1 \\nu_{3}{\\left(t \\right)} \\cos{\\left(\\alpha{\\left(t \\right)} \\right)} \\operatorname{atan}{\\left(t \\right)} - \\frac{0.1 \\sin{\\left(\\alpha{\\left(t \\right)} \\right)}}{t^{2} + 1}\\right) \\sin{\\left(4 \\theta_{0}{\\left(t \\right)} \\right)} + 2 \\left(3 \\cos{\\left(\\theta_{0}{\\left(t \\right)} \\right)} - \\cos{\\left(2 \\theta_{0}{\\left(t \\right)} \\right)} - 1\\right) \\left(5 \\left(- 0.1 \\nu_{3}{\\left(t \\right)} \\sin{\\left(\\alpha{\\left(t \\right)} \\right)} \\operatorname{atan}{\\left(t \\right)} + \\frac{0.1 \\cos{\\left(\\alpha{\\left(t \\right)} \\right)}}{t^{2} + 1}\\right) \\cos^{2}{\\left(\\theta_{0}{\\left(t \\right)} \\right)} + 5 \\left(- 0.1 \\nu_{3}{\\left(t \\right)} \\cos{\\left(\\alpha{\\left(t \\right)} \\right)} \\operatorname{atan}{\\left(t \\right)} - \\frac{0.1 \\sin{\\left(\\alpha{\\left(t \\right)} \\right)}}{t^{2} + 1}\\right) \\sin{\\left(\\theta_{0}{\\left(t \\right)} \\right)} \\cos{\\left(\\theta_{0}{\\left(t \\right)} \\right)} - 4 \\nu_{3}^{2}{\\left(t \\right)} \\cos^{3}{\\left(\\theta_{0}{\\left(t \\right)} \\right)} - 2 \\nu_{3}^{2}{\\left(t \\right)} \\cos^{2}{\\left(\\theta_{0}{\\left(t \\right)} \\right)} + 0.4 \\nu_{3}{\\left(t \\right)} \\sin{\\left(\\alpha{\\left(t \\right)} \\right)} \\cos^{3}{\\left(\\theta_{0}{\\left(t \\right)} \\right)} \\operatorname{atan}{\\left(t \\right)} + 0.4 \\nu_{3}{\\left(t \\right)} \\sin{\\left(\\alpha{\\left(t \\right)} \\right)} \\cos^{2}{\\left(\\theta_{0}{\\left(t \\right)} \\right)} \\operatorname{atan}{\\left(t \\right)} - 0.4 \\nu_{3}{\\left(t \\right)} \\sin^{3}{\\left(\\theta_{0}{\\left(t \\right)} \\right)} \\cos{\\left(\\alpha{\\left(t \\right)} \\right)} \\operatorname{atan}{\\left(t \\right)} + 0.4 \\nu_{3}{\\left(t \\right)} \\sin{\\left(\\theta_{0}{\\left(t \\right)} \\right)} \\cos{\\left(\\alpha{\\left(t \\right)} \\right)} \\cos{\\left(\\theta_{0}{\\left(t \\right)} \\right)} \\operatorname{atan}{\\left(t \\right)} + 0.4 \\nu_{3}{\\left(t \\right)} \\sin{\\left(\\theta_{0}{\\left(t \\right)} \\right)} \\cos{\\left(\\alpha{\\left(t \\right)} \\right)} \\operatorname{atan}{\\left(t \\right)} - 0.01 \\sin^{2}{\\left(\\alpha{\\left(t \\right)} \\right)} \\cos^{3}{\\left(\\theta_{0}{\\left(t \\right)} \\right)} \\operatorname{atan}^{2}{\\left(t \\right)} + 0.02 \\sin{\\left(\\alpha{\\left(t \\right)} \\right)} \\sin^{3}{\\left(\\theta_{0}{\\left(t \\right)} \\right)} \\cos{\\left(\\alpha{\\left(t \\right)} \\right)} \\operatorname{atan}^{2}{\\left(t \\right)} - 0.02 \\sin{\\left(\\alpha{\\left(t \\right)} \\right)} \\sin{\\left(\\theta_{0}{\\left(t \\right)} \\right)} \\cos{\\left(\\alpha{\\left(t \\right)} \\right)} \\operatorname{atan}^{2}{\\left(t \\right)} + 0.01 \\cos^{2}{\\left(\\alpha{\\left(t \\right)} \\right)} \\cos^{3}{\\left(\\theta_{0}{\\left(t \\right)} \\right)} \\operatorname{atan}^{2}{\\left(t \\right)} - 0.01 \\cos^{2}{\\left(\\alpha{\\left(t \\right)} \\right)} \\cos{\\left(\\theta_{0}{\\left(t \\right)} \\right)} \\operatorname{atan}^{2}{\\left(t \\right)}\\right) + 0.3 \\nu_{3}{\\left(t \\right)} \\sin{\\left(\\alpha{\\left(t \\right)} \\right)} \\cos{\\left(4 \\theta_{0}{\\left(t \\right)} \\right)} \\operatorname{atan}{\\left(t \\right)} + 0.1 \\nu_{3}{\\left(t \\right)} \\sin{\\left(\\alpha{\\left(t \\right)} \\right)} \\operatorname{atan}{\\left(t \\right)} + 2.4 \\nu_{3}{\\left(t \\right)} \\sin{\\left(\\theta_{0}{\\left(t \\right)} \\right)} \\cos{\\left(\\alpha{\\left(t \\right)} \\right)} \\cos{\\left(2 \\theta_{0}{\\left(t \\right)} \\right)} \\operatorname{atan}{\\left(t \\right)} + 2.4 \\nu_{3}{\\left(t \\right)} \\sin{\\left(\\theta_{0}{\\left(t \\right)} \\right)} \\cos{\\left(\\alpha{\\left(t \\right)} \\right)} \\operatorname{atan}{\\left(t \\right)} + 0.6 \\nu_{3}{\\left(t \\right)} \\sin{\\left(2 \\theta_{0}{\\left(t \\right)} \\right)} \\cos{\\left(\\alpha{\\left(t \\right)} \\right)} \\operatorname{atan}{\\left(t \\right)} + 0.3 \\nu_{3}{\\left(t \\right)} \\sin{\\left(4 \\theta_{0}{\\left(t \\right)} \\right)} \\cos{\\left(\\alpha{\\left(t \\right)} \\right)} \\operatorname{atan}{\\left(t \\right)} - \\frac{0.4 \\cos{\\left(\\alpha{\\left(t \\right)} \\right)}}{t^{2} + 1}}{2 \\left(3 \\cos{\\left(\\theta_{0}{\\left(t \\right)} \\right)} - \\cos{\\left(2 \\theta_{0}{\\left(t \\right)} \\right)} - 1\\right) \\cos{\\left(\\theta_{0}{\\left(t \\right)} \\right)}}$"
      ],
      "text/plain": [
       "Eq(T1(t), (4*(-0.1*nu3(t)*sin(alpha(t))*atan(t) + 0.1*cos(alpha(t))/(t**2 + 1))*cos(4*theta0(t)) + 24*(-0.1*nu3(t)*cos(alpha(t))*atan(t) - 0.1*sin(alpha(t))/(t**2 + 1))*sin(theta0(t))*cos(2*theta0(t)) + 24*(-0.1*nu3(t)*cos(alpha(t))*atan(t) - 0.1*sin(alpha(t))/(t**2 + 1))*sin(theta0(t)) + 8*(-0.1*nu3(t)*cos(alpha(t))*atan(t) - 0.1*sin(alpha(t))/(t**2 + 1))*sin(2*theta0(t)) + 4*(-0.1*nu3(t)*cos(alpha(t))*atan(t) - 0.1*sin(alpha(t))/(t**2 + 1))*sin(4*theta0(t)) + 2*(3*cos(theta0(t)) - cos(2*theta0(t)) - 1)*(5*(-0.1*nu3(t)*sin(alpha(t))*atan(t) + 0.1*cos(alpha(t))/(t**2 + 1))*cos(theta0(t))**2 + 5*(-0.1*nu3(t)*cos(alpha(t))*atan(t) - 0.1*sin(alpha(t))/(t**2 + 1))*sin(theta0(t))*cos(theta0(t)) - 4*nu3(t)**2*cos(theta0(t))**3 - 2*nu3(t)**2*cos(theta0(t))**2 + 0.4*nu3(t)*sin(alpha(t))*cos(theta0(t))**3*atan(t) + 0.4*nu3(t)*sin(alpha(t))*cos(theta0(t))**2*atan(t) - 0.4*nu3(t)*sin(theta0(t))**3*cos(alpha(t))*atan(t) + 0.4*nu3(t)*sin(theta0(t))*cos(alpha(t))*cos(theta0(t))*atan(t) + 0.4*nu3(t)*sin(theta0(t))*cos(alpha(t))*atan(t) - 0.01*sin(alpha(t))**2*cos(theta0(t))**3*atan(t)**2 + 0.02*sin(alpha(t))*sin(theta0(t))**3*cos(alpha(t))*atan(t)**2 - 0.02*sin(alpha(t))*sin(theta0(t))*cos(alpha(t))*atan(t)**2 + 0.01*cos(alpha(t))**2*cos(theta0(t))**3*atan(t)**2 - 0.01*cos(alpha(t))**2*cos(theta0(t))*atan(t)**2) + 0.3*nu3(t)*sin(alpha(t))*cos(4*theta0(t))*atan(t) + 0.1*nu3(t)*sin(alpha(t))*atan(t) + 2.4*nu3(t)*sin(theta0(t))*cos(alpha(t))*cos(2*theta0(t))*atan(t) + 2.4*nu3(t)*sin(theta0(t))*cos(alpha(t))*atan(t) + 0.6*nu3(t)*sin(2*theta0(t))*cos(alpha(t))*atan(t) + 0.3*nu3(t)*sin(4*theta0(t))*cos(alpha(t))*atan(t) - 0.4*cos(alpha(t))/(t**2 + 1))/(2*(3*cos(theta0(t)) - cos(2*theta0(t)) - 1)*cos(theta0(t))))"
      ]
     },
     "metadata": {},
     "output_type": "display_data"
    },
    {
     "data": {
      "text/latex": [
       "$\\displaystyle \\operatorname{W_{1}}{\\left(t \\right)} = \\frac{4 \\left(- 0.1 \\nu_{3}{\\left(t \\right)} \\sin{\\left(\\alpha{\\left(t \\right)} \\right)} \\operatorname{atan}{\\left(t \\right)} + \\frac{0.1 \\cos{\\left(\\alpha{\\left(t \\right)} \\right)}}{t^{2} + 1}\\right) \\sin{\\left(\\theta_{0}{\\left(t \\right)} \\right)} + 4 \\left(- 0.1 \\nu_{3}{\\left(t \\right)} \\sin{\\left(\\alpha{\\left(t \\right)} \\right)} \\operatorname{atan}{\\left(t \\right)} + \\frac{0.1 \\cos{\\left(\\alpha{\\left(t \\right)} \\right)}}{t^{2} + 1}\\right) \\sin{\\left(3 \\theta_{0}{\\left(t \\right)} \\right)} - 12 \\left(- 0.1 \\nu_{3}{\\left(t \\right)} \\cos{\\left(\\alpha{\\left(t \\right)} \\right)} \\operatorname{atan}{\\left(t \\right)} - \\frac{0.1 \\sin{\\left(\\alpha{\\left(t \\right)} \\right)}}{t^{2} + 1}\\right) \\cos{\\left(\\theta_{0}{\\left(t \\right)} \\right)} - 12 \\left(- 0.1 \\nu_{3}{\\left(t \\right)} \\cos{\\left(\\alpha{\\left(t \\right)} \\right)} \\operatorname{atan}{\\left(t \\right)} - \\frac{0.1 \\sin{\\left(\\alpha{\\left(t \\right)} \\right)}}{t^{2} + 1}\\right) \\cos{\\left(2 \\theta_{0}{\\left(t \\right)} \\right)} - 4 \\left(- 0.1 \\nu_{3}{\\left(t \\right)} \\cos{\\left(\\alpha{\\left(t \\right)} \\right)} \\operatorname{atan}{\\left(t \\right)} - \\frac{0.1 \\sin{\\left(\\alpha{\\left(t \\right)} \\right)}}{t^{2} + 1}\\right) \\cos{\\left(3 \\theta_{0}{\\left(t \\right)} \\right)} - \\left(3 \\cos{\\left(\\theta_{0}{\\left(t \\right)} \\right)} - \\cos{\\left(2 \\theta_{0}{\\left(t \\right)} \\right)} - 1\\right) \\left(- 8 \\left(- 0.1 \\nu_{3}{\\left(t \\right)} \\sin{\\left(\\alpha{\\left(t \\right)} \\right)} \\operatorname{atan}{\\left(t \\right)} + \\frac{0.1 \\cos{\\left(\\alpha{\\left(t \\right)} \\right)}}{t^{2} + 1}\\right) \\sin{\\left(\\theta_{0}{\\left(t \\right)} \\right)} + 8 \\left(- 0.1 \\nu_{3}{\\left(t \\right)} \\cos{\\left(\\alpha{\\left(t \\right)} \\right)} \\operatorname{atan}{\\left(t \\right)} - \\frac{0.1 \\sin{\\left(\\alpha{\\left(t \\right)} \\right)}}{t^{2} + 1}\\right) \\cos{\\left(\\theta_{0}{\\left(t \\right)} \\right)} - 4 \\nu_{3}^{2}{\\left(t \\right)} \\sin{\\left(2 \\theta_{0}{\\left(t \\right)} \\right)} - 0.6 \\nu_{3}{\\left(t \\right)} \\sin{\\left(\\alpha{\\left(t \\right)} \\right)} \\sin{\\left(\\theta_{0}{\\left(t \\right)} \\right)} \\operatorname{atan}{\\left(t \\right)} + 0.4 \\nu_{3}{\\left(t \\right)} \\sin{\\left(\\alpha{\\left(t \\right)} \\right)} \\sin{\\left(2 \\theta_{0}{\\left(t \\right)} \\right)} \\operatorname{atan}{\\left(t \\right)} + 0.6 \\nu_{3}{\\left(t \\right)} \\cos{\\left(\\alpha{\\left(t \\right)} \\right)} \\cos{\\left(\\theta_{0}{\\left(t \\right)} \\right)} \\operatorname{atan}{\\left(t \\right)} - 0.4 \\nu_{3}{\\left(t \\right)} \\cos{\\left(\\alpha{\\left(t \\right)} \\right)} \\cos{\\left(2 \\theta_{0}{\\left(t \\right)} \\right)} \\operatorname{atan}{\\left(t \\right)} - 0.01 \\sin^{2}{\\left(\\alpha{\\left(t \\right)} \\right)} \\sin{\\left(2 \\theta_{0}{\\left(t \\right)} \\right)} \\operatorname{atan}^{2}{\\left(t \\right)} + 0.02 \\sin{\\left(\\alpha{\\left(t \\right)} \\right)} \\cos{\\left(\\alpha{\\left(t \\right)} \\right)} \\cos{\\left(2 \\theta_{0}{\\left(t \\right)} \\right)} \\operatorname{atan}^{2}{\\left(t \\right)} + 0.01 \\sin{\\left(2 \\theta_{0}{\\left(t \\right)} \\right)} \\cos^{2}{\\left(\\alpha{\\left(t \\right)} \\right)} \\operatorname{atan}^{2}{\\left(t \\right)}\\right) + 0.3 \\nu_{3}{\\left(t \\right)} \\sin{\\left(\\alpha{\\left(t \\right)} \\right)} \\sin{\\left(\\theta_{0}{\\left(t \\right)} \\right)} \\operatorname{atan}{\\left(t \\right)} + 0.3 \\nu_{3}{\\left(t \\right)} \\sin{\\left(\\alpha{\\left(t \\right)} \\right)} \\sin{\\left(3 \\theta_{0}{\\left(t \\right)} \\right)} \\operatorname{atan}{\\left(t \\right)} - 0.9 \\nu_{3}{\\left(t \\right)} \\cos{\\left(\\alpha{\\left(t \\right)} \\right)} \\cos{\\left(\\theta_{0}{\\left(t \\right)} \\right)} \\operatorname{atan}{\\left(t \\right)} - 1.2 \\nu_{3}{\\left(t \\right)} \\cos{\\left(\\alpha{\\left(t \\right)} \\right)} \\cos{\\left(2 \\theta_{0}{\\left(t \\right)} \\right)} \\operatorname{atan}{\\left(t \\right)} - 0.3 \\nu_{3}{\\left(t \\right)} \\cos{\\left(\\alpha{\\left(t \\right)} \\right)} \\cos{\\left(3 \\theta_{0}{\\left(t \\right)} \\right)} \\operatorname{atan}{\\left(t \\right)} + \\frac{1.2 \\sin{\\left(\\alpha{\\left(t \\right)} \\right)}}{t^{2} + 1}}{2 \\left(3 \\cos{\\left(\\theta_{0}{\\left(t \\right)} \\right)} - \\cos{\\left(2 \\theta_{0}{\\left(t \\right)} \\right)} - 1\\right)}$"
      ],
      "text/plain": [
       "Eq(W1(t), (4*(-0.1*nu3(t)*sin(alpha(t))*atan(t) + 0.1*cos(alpha(t))/(t**2 + 1))*sin(theta0(t)) + 4*(-0.1*nu3(t)*sin(alpha(t))*atan(t) + 0.1*cos(alpha(t))/(t**2 + 1))*sin(3*theta0(t)) - 12*(-0.1*nu3(t)*cos(alpha(t))*atan(t) - 0.1*sin(alpha(t))/(t**2 + 1))*cos(theta0(t)) - 12*(-0.1*nu3(t)*cos(alpha(t))*atan(t) - 0.1*sin(alpha(t))/(t**2 + 1))*cos(2*theta0(t)) - 4*(-0.1*nu3(t)*cos(alpha(t))*atan(t) - 0.1*sin(alpha(t))/(t**2 + 1))*cos(3*theta0(t)) - (3*cos(theta0(t)) - cos(2*theta0(t)) - 1)*(-8*(-0.1*nu3(t)*sin(alpha(t))*atan(t) + 0.1*cos(alpha(t))/(t**2 + 1))*sin(theta0(t)) + 8*(-0.1*nu3(t)*cos(alpha(t))*atan(t) - 0.1*sin(alpha(t))/(t**2 + 1))*cos(theta0(t)) - 4*nu3(t)**2*sin(2*theta0(t)) - 0.6*nu3(t)*sin(alpha(t))*sin(theta0(t))*atan(t) + 0.4*nu3(t)*sin(alpha(t))*sin(2*theta0(t))*atan(t) + 0.6*nu3(t)*cos(alpha(t))*cos(theta0(t))*atan(t) - 0.4*nu3(t)*cos(alpha(t))*cos(2*theta0(t))*atan(t) - 0.01*sin(alpha(t))**2*sin(2*theta0(t))*atan(t)**2 + 0.02*sin(alpha(t))*cos(alpha(t))*cos(2*theta0(t))*atan(t)**2 + 0.01*sin(2*theta0(t))*cos(alpha(t))**2*atan(t)**2) + 0.3*nu3(t)*sin(alpha(t))*sin(theta0(t))*atan(t) + 0.3*nu3(t)*sin(alpha(t))*sin(3*theta0(t))*atan(t) - 0.9*nu3(t)*cos(alpha(t))*cos(theta0(t))*atan(t) - 1.2*nu3(t)*cos(alpha(t))*cos(2*theta0(t))*atan(t) - 0.3*nu3(t)*cos(alpha(t))*cos(3*theta0(t))*atan(t) + 1.2*sin(alpha(t))/(t**2 + 1))/(2*(3*cos(theta0(t)) - cos(2*theta0(t)) - 1)))"
      ]
     },
     "metadata": {},
     "output_type": "display_data"
    },
    {
     "data": {
      "text/latex": [
       "$\\displaystyle \\frac{d}{d t} \\nu_{3}{\\left(t \\right)} = \\frac{- 4 \\left(- 0.1 \\nu_{3}{\\left(t \\right)} \\sin{\\left(\\alpha{\\left(t \\right)} \\right)} \\operatorname{atan}{\\left(t \\right)} + \\frac{0.1 \\cos{\\left(\\alpha{\\left(t \\right)} \\right)}}{t^{2} + 1}\\right) \\sin{\\left(\\theta_{0}{\\left(t \\right)} \\right)} \\cos{\\left(\\theta_{0}{\\left(t \\right)} \\right)} + 4 \\left(- 0.1 \\nu_{3}{\\left(t \\right)} \\cos{\\left(\\alpha{\\left(t \\right)} \\right)} \\operatorname{atan}{\\left(t \\right)} - \\frac{0.1 \\sin{\\left(\\alpha{\\left(t \\right)} \\right)}}{t^{2} + 1}\\right) \\cos^{2}{\\left(\\theta_{0}{\\left(t \\right)} \\right)} + 6 \\left(- 0.1 \\nu_{3}{\\left(t \\right)} \\cos{\\left(\\alpha{\\left(t \\right)} \\right)} \\operatorname{atan}{\\left(t \\right)} - \\frac{0.1 \\sin{\\left(\\alpha{\\left(t \\right)} \\right)}}{t^{2} + 1}\\right) \\cos{\\left(\\theta_{0}{\\left(t \\right)} \\right)} + 4 \\nu_{3}^{2}{\\left(t \\right)} \\sin^{3}{\\left(\\theta_{0}{\\left(t \\right)} \\right)} - 3 \\nu_{3}^{2}{\\left(t \\right)} \\sin{\\left(\\theta_{0}{\\left(t \\right)} \\right)} + \\nu_{3}^{2}{\\left(t \\right)} \\sin{\\left(3 \\theta_{0}{\\left(t \\right)} \\right)} - 0.4 \\nu_{3}{\\left(t \\right)} \\sin{\\left(\\alpha{\\left(t \\right)} \\right)} \\sin^{3}{\\left(\\theta_{0}{\\left(t \\right)} \\right)} \\operatorname{atan}{\\left(t \\right)} - 0.3 \\nu_{3}{\\left(t \\right)} \\sin{\\left(\\alpha{\\left(t \\right)} \\right)} \\sin{\\left(\\theta_{0}{\\left(t \\right)} \\right)} \\cos{\\left(\\theta_{0}{\\left(t \\right)} \\right)} \\operatorname{atan}{\\left(t \\right)} + 0.3 \\nu_{3}{\\left(t \\right)} \\sin{\\left(\\alpha{\\left(t \\right)} \\right)} \\sin{\\left(\\theta_{0}{\\left(t \\right)} \\right)} \\operatorname{atan}{\\left(t \\right)} - 0.1 \\nu_{3}{\\left(t \\right)} \\sin{\\left(\\alpha{\\left(t \\right)} \\right)} \\sin{\\left(3 \\theta_{0}{\\left(t \\right)} \\right)} \\operatorname{atan}{\\left(t \\right)} - 0.4 \\nu_{3}{\\left(t \\right)} \\cos{\\left(\\alpha{\\left(t \\right)} \\right)} \\cos^{3}{\\left(\\theta_{0}{\\left(t \\right)} \\right)} \\operatorname{atan}{\\left(t \\right)} + 0.3 \\nu_{3}{\\left(t \\right)} \\cos{\\left(\\alpha{\\left(t \\right)} \\right)} \\cos^{2}{\\left(\\theta_{0}{\\left(t \\right)} \\right)} \\operatorname{atan}{\\left(t \\right)} + 0.9 \\nu_{3}{\\left(t \\right)} \\cos{\\left(\\alpha{\\left(t \\right)} \\right)} \\cos{\\left(\\theta_{0}{\\left(t \\right)} \\right)} \\operatorname{atan}{\\left(t \\right)} + 0.1 \\nu_{3}{\\left(t \\right)} \\cos{\\left(\\alpha{\\left(t \\right)} \\right)} \\cos{\\left(3 \\theta_{0}{\\left(t \\right)} \\right)} \\operatorname{atan}{\\left(t \\right)} + 0.01 \\sin^{2}{\\left(\\alpha{\\left(t \\right)} \\right)} \\sin^{3}{\\left(\\theta_{0}{\\left(t \\right)} \\right)} \\operatorname{atan}^{2}{\\left(t \\right)} - 0.0075 \\sin^{2}{\\left(\\alpha{\\left(t \\right)} \\right)} \\sin{\\left(\\theta_{0}{\\left(t \\right)} \\right)} \\operatorname{atan}^{2}{\\left(t \\right)} + 0.0025 \\sin^{2}{\\left(\\alpha{\\left(t \\right)} \\right)} \\sin{\\left(3 \\theta_{0}{\\left(t \\right)} \\right)} \\operatorname{atan}^{2}{\\left(t \\right)} + 0.02 \\sin{\\left(\\alpha{\\left(t \\right)} \\right)} \\cos{\\left(\\alpha{\\left(t \\right)} \\right)} \\cos^{3}{\\left(\\theta_{0}{\\left(t \\right)} \\right)} \\operatorname{atan}^{2}{\\left(t \\right)} - 0.015 \\sin{\\left(\\alpha{\\left(t \\right)} \\right)} \\cos{\\left(\\alpha{\\left(t \\right)} \\right)} \\cos{\\left(\\theta_{0}{\\left(t \\right)} \\right)} \\operatorname{atan}^{2}{\\left(t \\right)} - 0.005 \\sin{\\left(\\alpha{\\left(t \\right)} \\right)} \\cos{\\left(\\alpha{\\left(t \\right)} \\right)} \\cos{\\left(3 \\theta_{0}{\\left(t \\right)} \\right)} \\operatorname{atan}^{2}{\\left(t \\right)} - 0.01 \\sin^{3}{\\left(\\theta_{0}{\\left(t \\right)} \\right)} \\cos^{2}{\\left(\\alpha{\\left(t \\right)} \\right)} \\operatorname{atan}^{2}{\\left(t \\right)} + 0.0075 \\sin{\\left(\\theta_{0}{\\left(t \\right)} \\right)} \\cos^{2}{\\left(\\alpha{\\left(t \\right)} \\right)} \\operatorname{atan}^{2}{\\left(t \\right)} - 0.0025 \\sin{\\left(3 \\theta_{0}{\\left(t \\right)} \\right)} \\cos^{2}{\\left(\\alpha{\\left(t \\right)} \\right)} \\operatorname{atan}^{2}{\\left(t \\right)}}{3 \\cos{\\left(\\theta_{0}{\\left(t \\right)} \\right)} - \\cos{\\left(2 \\theta_{0}{\\left(t \\right)} \\right)} - 1}$"
      ],
      "text/plain": [
       "Eq(Derivative(nu3(t), t), (-4*(-0.1*nu3(t)*sin(alpha(t))*atan(t) + 0.1*cos(alpha(t))/(t**2 + 1))*sin(theta0(t))*cos(theta0(t)) + 4*(-0.1*nu3(t)*cos(alpha(t))*atan(t) - 0.1*sin(alpha(t))/(t**2 + 1))*cos(theta0(t))**2 + 6*(-0.1*nu3(t)*cos(alpha(t))*atan(t) - 0.1*sin(alpha(t))/(t**2 + 1))*cos(theta0(t)) + 4*nu3(t)**2*sin(theta0(t))**3 - 3*nu3(t)**2*sin(theta0(t)) + nu3(t)**2*sin(3*theta0(t)) - 0.4*nu3(t)*sin(alpha(t))*sin(theta0(t))**3*atan(t) - 0.3*nu3(t)*sin(alpha(t))*sin(theta0(t))*cos(theta0(t))*atan(t) + 0.3*nu3(t)*sin(alpha(t))*sin(theta0(t))*atan(t) - 0.1*nu3(t)*sin(alpha(t))*sin(3*theta0(t))*atan(t) - 0.4*nu3(t)*cos(alpha(t))*cos(theta0(t))**3*atan(t) + 0.3*nu3(t)*cos(alpha(t))*cos(theta0(t))**2*atan(t) + 0.9*nu3(t)*cos(alpha(t))*cos(theta0(t))*atan(t) + 0.1*nu3(t)*cos(alpha(t))*cos(3*theta0(t))*atan(t) + 0.01*sin(alpha(t))**2*sin(theta0(t))**3*atan(t)**2 - 0.0075*sin(alpha(t))**2*sin(theta0(t))*atan(t)**2 + 0.0025*sin(alpha(t))**2*sin(3*theta0(t))*atan(t)**2 + 0.02*sin(alpha(t))*cos(alpha(t))*cos(theta0(t))**3*atan(t)**2 - 0.015*sin(alpha(t))*cos(alpha(t))*cos(theta0(t))*atan(t)**2 - 0.005*sin(alpha(t))*cos(alpha(t))*cos(3*theta0(t))*atan(t)**2 - 0.01*sin(theta0(t))**3*cos(alpha(t))**2*atan(t)**2 + 0.0075*sin(theta0(t))*cos(alpha(t))**2*atan(t)**2 - 0.0025*sin(3*theta0(t))*cos(alpha(t))**2*atan(t)**2)/(3*cos(theta0(t)) - cos(2*theta0(t)) - 1))"
      ]
     },
     "metadata": {},
     "output_type": "display_data"
    }
   ],
   "source": [
    "xy_TW_eqs = [subs_Eqs(_x, [conn3]) for _x in xy_TW_eqs]\n",
    "display_list(xy_TW_eqs)"
   ]
  },
  {
   "cell_type": "code",
   "execution_count": 160,
   "metadata": {},
   "outputs": [
    {
     "data": {
      "text/latex": [
       "$\\displaystyle \\nu_{1}{\\left(t \\right)} = 0.1 \\cos{\\left(\\alpha{\\left(t \\right)} \\right)} \\operatorname{atan}{\\left(t \\right)}$"
      ],
      "text/plain": [
       "Eq(nu1(t), 0.1*cos(alpha(t))*atan(t))"
      ]
     },
     "metadata": {},
     "output_type": "display_data"
    },
    {
     "data": {
      "text/latex": [
       "$\\displaystyle \\nu_{2}{\\left(t \\right)} = - 0.1 \\sin{\\left(\\alpha{\\left(t \\right)} \\right)} \\operatorname{atan}{\\left(t \\right)}$"
      ],
      "text/plain": [
       "Eq(nu2(t), -0.1*sin(alpha(t))*atan(t))"
      ]
     },
     "metadata": {},
     "output_type": "display_data"
    },
    {
     "data": {
      "text/latex": [
       "$\\displaystyle \\nu_{3}{\\left(t \\right)} = \\frac{d}{d t} \\alpha{\\left(t \\right)}$"
      ],
      "text/plain": [
       "Eq(nu3(t), Derivative(alpha(t), t))"
      ]
     },
     "metadata": {},
     "output_type": "display_data"
    },
    {
     "data": {
      "text/latex": [
       "$\\displaystyle \\frac{d}{d t} \\theta_{0}{\\left(t \\right)} = - 2.0 \\nu_{3}{\\left(t \\right)} \\cos{\\left(\\theta_{0}{\\left(t \\right)} \\right)} - 1.0 \\nu_{3}{\\left(t \\right)} + 0.1 \\sin{\\left(\\alpha{\\left(t \\right)} + \\theta_{0}{\\left(t \\right)} \\right)} \\operatorname{atan}{\\left(t \\right)}$"
      ],
      "text/plain": [
       "Eq(Derivative(theta0(t), t), -2.0*nu3(t)*cos(theta0(t)) - 1.0*nu3(t) + 0.1*sin(alpha(t) + theta0(t))*atan(t))"
      ]
     },
     "metadata": {},
     "output_type": "display_data"
    }
   ],
   "source": [
    "TW_constr = sub_xy([par_subs(conn3), par_subs(conn4)])\n",
    "TW_constr = [simplify(_x.doit()) for _x in TW_constr]\n",
    "display_list(TW_constr)"
   ]
  },
  {
   "cell_type": "code",
   "execution_count": 435,
   "metadata": {},
   "outputs": [],
   "source": [
    "# TW_nu = []\n",
    "# TW_nu += [eq['nu1(x,y)'].diff(t).doit()]\n",
    "# TW_nu += [eq['nu2(x,y)'].diff(t).doit()]\n",
    "\n",
    "# display_list(TW_nu)"
   ]
  },
  {
   "cell_type": "code",
   "execution_count": 449,
   "metadata": {},
   "outputs": [
    {
     "name": "stdout",
     "output_type": "stream",
     "text": [
      "Package            Version   \n",
      "------------------ ----------\n",
      "attrs              19.3.0    \n",
      "backcall           0.1.0     \n",
      "bleach             3.1.4     \n",
      "certifi            2020.4.5.1\n",
      "chardet            3.0.4     \n",
      "Click              7.0       \n",
      "cloudpickle        1.3.0     \n",
      "cycler             0.10.0    \n",
      "decorator          4.4.2     \n",
      "defusedxml         0.6.0     \n",
      "entrypoints        0.3       \n",
      "Flask              1.1.1     \n",
      "idna               2.9       \n",
      "importlib-metadata 1.6.0     \n",
      "ipykernel          5.2.0     \n",
      "ipython            7.13.0    \n",
      "ipython-genutils   0.2.0     \n",
      "ipywidgets         7.5.1     \n",
      "itsdangerous       1.1.0     \n",
      "jedi               0.16.0    \n",
      "Jinja2             2.11.1    \n",
      "json5              0.9.4     \n",
      "jsonschema         3.2.0     \n",
      "jupyter            1.0.0     \n",
      "jupyter-client     6.1.2     \n",
      "jupyter-console    6.1.0     \n",
      "jupyter-core       4.6.3     \n",
      "jupyterlab         2.1.0     \n",
      "jupyterlab-server  1.1.0     \n",
      "kiwisolver         1.2.0     \n",
      "MarkupSafe         1.1.1     \n",
      "matplotlib         3.2.1     \n",
      "mistune            0.8.4     \n",
      "mpmath             1.1.0     \n",
      "nbconvert          5.6.1     \n",
      "nbformat           5.0.5     \n",
      "notebook           6.0.3     \n",
      "numpy              1.18.2    \n",
      "pandocfilters      1.4.2     \n",
      "parso              0.6.2     \n",
      "pexpect            4.8.0     \n",
      "pickleshare        0.7.5     \n",
      "pip                19.2.3    \n",
      "prometheus-client  0.7.1     \n",
      "prompt-toolkit     3.0.5     \n",
      "ptyprocess         0.6.0     \n",
      "Pygments           2.6.1     \n",
      "pyparsing          2.4.7     \n",
      "pyrsistent         0.16.0    \n",
      "python-dateutil    2.8.1     \n",
      "pyzmq              19.0.0    \n",
      "qtconsole          4.7.2     \n",
      "QtPy               1.9.0     \n",
      "requests           2.23.0    \n",
      "scipy              1.4.1     \n",
      "Send2Trash         1.5.0     \n",
      "setuptools         41.2.0    \n",
      "six                1.14.0    \n",
      "sympy              1.5.1     \n",
      "termcolor          1.1.0     \n",
      "terminado          0.8.3     \n",
      "testpath           0.4.4     \n",
      "tornado            6.0.4     \n",
      "traitlets          4.3.3     \n",
      "urllib3            1.25.8    \n",
      "wcwidth            0.1.9     \n",
      "webencodings       0.5.1     \n",
      "Werkzeug           1.0.0     \n",
      "widgetsnbextension 3.5.1     \n",
      "zipp               3.1.0     \n",
      "\u001b[33mWARNING: You are using pip version 19.2.3, however version 20.0.2 is available.\n",
      "You should consider upgrading via the 'pip install --upgrade pip' command.\u001b[0m\n"
     ]
    }
   ],
   "source": [
    "!pip list"
   ]
  },
  {
   "cell_type": "code",
   "execution_count": 370,
   "metadata": {
    "scrolled": true
   },
   "outputs": [
    {
     "data": {
      "text/latex": [
       "$\\displaystyle \\frac{d}{d t} \\nu_{3}{\\left(t \\right)} = \\frac{- 4 \\left(- 0.1 \\nu_{3}{\\left(t \\right)} \\sin{\\left(\\alpha{\\left(t \\right)} \\right)} \\operatorname{atan}{\\left(t \\right)} + \\frac{0.1 \\cos{\\left(\\alpha{\\left(t \\right)} \\right)}}{t^{2} + 1}\\right) \\sin{\\left(\\theta_{0}{\\left(t \\right)} \\right)} \\cos{\\left(\\theta_{0}{\\left(t \\right)} \\right)} + 4 \\left(- 0.1 \\nu_{3}{\\left(t \\right)} \\cos{\\left(\\alpha{\\left(t \\right)} \\right)} \\operatorname{atan}{\\left(t \\right)} - \\frac{0.1 \\sin{\\left(\\alpha{\\left(t \\right)} \\right)}}{t^{2} + 1}\\right) \\cos^{2}{\\left(\\theta_{0}{\\left(t \\right)} \\right)} + 6 \\left(- 0.1 \\nu_{3}{\\left(t \\right)} \\cos{\\left(\\alpha{\\left(t \\right)} \\right)} \\operatorname{atan}{\\left(t \\right)} - \\frac{0.1 \\sin{\\left(\\alpha{\\left(t \\right)} \\right)}}{t^{2} + 1}\\right) \\cos{\\left(\\theta_{0}{\\left(t \\right)} \\right)} + 4 \\nu_{3}^{2}{\\left(t \\right)} \\sin^{3}{\\left(\\theta_{0}{\\left(t \\right)} \\right)} - 3 \\nu_{3}^{2}{\\left(t \\right)} \\sin{\\left(\\theta_{0}{\\left(t \\right)} \\right)} + \\nu_{3}^{2}{\\left(t \\right)} \\sin{\\left(3 \\theta_{0}{\\left(t \\right)} \\right)} - 0.4 \\nu_{3}{\\left(t \\right)} \\sin{\\left(\\alpha{\\left(t \\right)} \\right)} \\sin^{3}{\\left(\\theta_{0}{\\left(t \\right)} \\right)} \\operatorname{atan}{\\left(t \\right)} - 0.3 \\nu_{3}{\\left(t \\right)} \\sin{\\left(\\alpha{\\left(t \\right)} \\right)} \\sin{\\left(\\theta_{0}{\\left(t \\right)} \\right)} \\cos{\\left(\\theta_{0}{\\left(t \\right)} \\right)} \\operatorname{atan}{\\left(t \\right)} + 0.3 \\nu_{3}{\\left(t \\right)} \\sin{\\left(\\alpha{\\left(t \\right)} \\right)} \\sin{\\left(\\theta_{0}{\\left(t \\right)} \\right)} \\operatorname{atan}{\\left(t \\right)} - 0.1 \\nu_{3}{\\left(t \\right)} \\sin{\\left(\\alpha{\\left(t \\right)} \\right)} \\sin{\\left(3 \\theta_{0}{\\left(t \\right)} \\right)} \\operatorname{atan}{\\left(t \\right)} - 0.4 \\nu_{3}{\\left(t \\right)} \\cos{\\left(\\alpha{\\left(t \\right)} \\right)} \\cos^{3}{\\left(\\theta_{0}{\\left(t \\right)} \\right)} \\operatorname{atan}{\\left(t \\right)} + 0.3 \\nu_{3}{\\left(t \\right)} \\cos{\\left(\\alpha{\\left(t \\right)} \\right)} \\cos^{2}{\\left(\\theta_{0}{\\left(t \\right)} \\right)} \\operatorname{atan}{\\left(t \\right)} + 0.9 \\nu_{3}{\\left(t \\right)} \\cos{\\left(\\alpha{\\left(t \\right)} \\right)} \\cos{\\left(\\theta_{0}{\\left(t \\right)} \\right)} \\operatorname{atan}{\\left(t \\right)} + 0.1 \\nu_{3}{\\left(t \\right)} \\cos{\\left(\\alpha{\\left(t \\right)} \\right)} \\cos{\\left(3 \\theta_{0}{\\left(t \\right)} \\right)} \\operatorname{atan}{\\left(t \\right)} + 0.01 \\sin^{2}{\\left(\\alpha{\\left(t \\right)} \\right)} \\sin^{3}{\\left(\\theta_{0}{\\left(t \\right)} \\right)} \\operatorname{atan}^{2}{\\left(t \\right)} - 0.0075 \\sin^{2}{\\left(\\alpha{\\left(t \\right)} \\right)} \\sin{\\left(\\theta_{0}{\\left(t \\right)} \\right)} \\operatorname{atan}^{2}{\\left(t \\right)} + 0.0025 \\sin^{2}{\\left(\\alpha{\\left(t \\right)} \\right)} \\sin{\\left(3 \\theta_{0}{\\left(t \\right)} \\right)} \\operatorname{atan}^{2}{\\left(t \\right)} + 0.02 \\sin{\\left(\\alpha{\\left(t \\right)} \\right)} \\cos{\\left(\\alpha{\\left(t \\right)} \\right)} \\cos^{3}{\\left(\\theta_{0}{\\left(t \\right)} \\right)} \\operatorname{atan}^{2}{\\left(t \\right)} - 0.015 \\sin{\\left(\\alpha{\\left(t \\right)} \\right)} \\cos{\\left(\\alpha{\\left(t \\right)} \\right)} \\cos{\\left(\\theta_{0}{\\left(t \\right)} \\right)} \\operatorname{atan}^{2}{\\left(t \\right)} - 0.005 \\sin{\\left(\\alpha{\\left(t \\right)} \\right)} \\cos{\\left(\\alpha{\\left(t \\right)} \\right)} \\cos{\\left(3 \\theta_{0}{\\left(t \\right)} \\right)} \\operatorname{atan}^{2}{\\left(t \\right)} - 0.01 \\sin^{3}{\\left(\\theta_{0}{\\left(t \\right)} \\right)} \\cos^{2}{\\left(\\alpha{\\left(t \\right)} \\right)} \\operatorname{atan}^{2}{\\left(t \\right)} + 0.0075 \\sin{\\left(\\theta_{0}{\\left(t \\right)} \\right)} \\cos^{2}{\\left(\\alpha{\\left(t \\right)} \\right)} \\operatorname{atan}^{2}{\\left(t \\right)} - 0.0025 \\sin{\\left(3 \\theta_{0}{\\left(t \\right)} \\right)} \\cos^{2}{\\left(\\alpha{\\left(t \\right)} \\right)} \\operatorname{atan}^{2}{\\left(t \\right)}}{3 \\cos{\\left(\\theta_{0}{\\left(t \\right)} \\right)} - \\cos{\\left(2 \\theta_{0}{\\left(t \\right)} \\right)} - 1}$"
      ],
      "text/plain": [
       "Eq(Derivative(nu3(t), t), (-4*(-0.1*nu3(t)*sin(alpha(t))*atan(t) + 0.1*cos(alpha(t))/(t**2 + 1))*sin(theta0(t))*cos(theta0(t)) + 4*(-0.1*nu3(t)*cos(alpha(t))*atan(t) - 0.1*sin(alpha(t))/(t**2 + 1))*cos(theta0(t))**2 + 6*(-0.1*nu3(t)*cos(alpha(t))*atan(t) - 0.1*sin(alpha(t))/(t**2 + 1))*cos(theta0(t)) + 4*nu3(t)**2*sin(theta0(t))**3 - 3*nu3(t)**2*sin(theta0(t)) + nu3(t)**2*sin(3*theta0(t)) - 0.4*nu3(t)*sin(alpha(t))*sin(theta0(t))**3*atan(t) - 0.3*nu3(t)*sin(alpha(t))*sin(theta0(t))*cos(theta0(t))*atan(t) + 0.3*nu3(t)*sin(alpha(t))*sin(theta0(t))*atan(t) - 0.1*nu3(t)*sin(alpha(t))*sin(3*theta0(t))*atan(t) - 0.4*nu3(t)*cos(alpha(t))*cos(theta0(t))**3*atan(t) + 0.3*nu3(t)*cos(alpha(t))*cos(theta0(t))**2*atan(t) + 0.9*nu3(t)*cos(alpha(t))*cos(theta0(t))*atan(t) + 0.1*nu3(t)*cos(alpha(t))*cos(3*theta0(t))*atan(t) + 0.01*sin(alpha(t))**2*sin(theta0(t))**3*atan(t)**2 - 0.0075*sin(alpha(t))**2*sin(theta0(t))*atan(t)**2 + 0.0025*sin(alpha(t))**2*sin(3*theta0(t))*atan(t)**2 + 0.02*sin(alpha(t))*cos(alpha(t))*cos(theta0(t))**3*atan(t)**2 - 0.015*sin(alpha(t))*cos(alpha(t))*cos(theta0(t))*atan(t)**2 - 0.005*sin(alpha(t))*cos(alpha(t))*cos(3*theta0(t))*atan(t)**2 - 0.01*sin(theta0(t))**3*cos(alpha(t))**2*atan(t)**2 + 0.0075*sin(theta0(t))*cos(alpha(t))**2*atan(t)**2 - 0.0025*sin(3*theta0(t))*cos(alpha(t))**2*atan(t)**2)/(3*cos(theta0(t)) - cos(2*theta0(t)) - 1))"
      ]
     },
     "metadata": {},
     "output_type": "display_data"
    },
    {
     "data": {
      "text/latex": [
       "$\\displaystyle \\nu_{3}{\\left(t \\right)} = \\frac{d}{d t} \\alpha{\\left(t \\right)}$"
      ],
      "text/plain": [
       "Eq(nu3(t), Derivative(alpha(t), t))"
      ]
     },
     "metadata": {},
     "output_type": "display_data"
    },
    {
     "data": {
      "text/latex": [
       "$\\displaystyle \\frac{d}{d t} \\theta_{0}{\\left(t \\right)} = - 2.0 \\nu_{3}{\\left(t \\right)} \\cos{\\left(\\theta_{0}{\\left(t \\right)} \\right)} - 1.0 \\nu_{3}{\\left(t \\right)} + 0.1 \\sin{\\left(\\alpha{\\left(t \\right)} + \\theta_{0}{\\left(t \\right)} \\right)} \\operatorname{atan}{\\left(t \\right)}$"
      ],
      "text/plain": [
       "Eq(Derivative(theta0(t), t), -2.0*nu3(t)*cos(theta0(t)) - 1.0*nu3(t) + 0.1*sin(alpha(t) + theta0(t))*atan(t))"
      ]
     },
     "metadata": {},
     "output_type": "display_data"
    }
   ],
   "source": [
    "display_list([xy_TW_eqs[2]] + TW_constr)"
   ]
  },
  {
   "cell_type": "code",
   "execution_count": 161,
   "metadata": {},
   "outputs": [],
   "source": [
    "save([xy_TW_eqs[2]] + [Eq(TW_constr[0].args[1], TW_constr[0].args[0])] + [TW_constr[1]], 'data/TW_eqs')"
   ]
  },
  {
   "cell_type": "code",
   "execution_count": null,
   "metadata": {},
   "outputs": [],
   "source": []
  },
  {
   "cell_type": "code",
   "execution_count": null,
   "metadata": {},
   "outputs": [],
   "source": []
  },
  {
   "cell_type": "code",
   "execution_count": null,
   "metadata": {},
   "outputs": [],
   "source": []
  },
  {
   "cell_type": "code",
   "execution_count": null,
   "metadata": {},
   "outputs": [],
   "source": []
  },
  {
   "cell_type": "code",
   "execution_count": 258,
   "metadata": {},
   "outputs": [
    {
     "data": {
      "text/latex": [
       "$\\displaystyle \\frac{d}{d t} \\nu_{3}{\\left(t \\right)} = \\frac{- \\nu_{1}^{2}{\\left(t \\right)} \\sin^{3}{\\left(\\theta_{0}{\\left(t \\right)} \\right)} + \\frac{3 \\nu_{1}^{2}{\\left(t \\right)} \\sin{\\left(\\theta_{0}{\\left(t \\right)} \\right)}}{4} - \\frac{\\nu_{1}^{2}{\\left(t \\right)} \\sin{\\left(3 \\theta_{0}{\\left(t \\right)} \\right)}}{4} - 2 \\nu_{1}{\\left(t \\right)} \\nu_{2}{\\left(t \\right)} \\cos^{3}{\\left(\\theta_{0}{\\left(t \\right)} \\right)} + \\frac{3 \\nu_{1}{\\left(t \\right)} \\nu_{2}{\\left(t \\right)} \\cos{\\left(\\theta_{0}{\\left(t \\right)} \\right)}}{2} + \\frac{\\nu_{1}{\\left(t \\right)} \\nu_{2}{\\left(t \\right)} \\cos{\\left(3 \\theta_{0}{\\left(t \\right)} \\right)}}{2} - 4 \\nu_{1}{\\left(t \\right)} \\nu_{3}{\\left(t \\right)} \\cos^{3}{\\left(\\theta_{0}{\\left(t \\right)} \\right)} + 3 \\nu_{1}{\\left(t \\right)} \\nu_{3}{\\left(t \\right)} \\cos^{2}{\\left(\\theta_{0}{\\left(t \\right)} \\right)} + 9 \\nu_{1}{\\left(t \\right)} \\nu_{3}{\\left(t \\right)} \\cos{\\left(\\theta_{0}{\\left(t \\right)} \\right)} + \\nu_{1}{\\left(t \\right)} \\nu_{3}{\\left(t \\right)} \\cos{\\left(3 \\theta_{0}{\\left(t \\right)} \\right)} + \\nu_{2}^{2}{\\left(t \\right)} \\sin^{3}{\\left(\\theta_{0}{\\left(t \\right)} \\right)} - \\frac{3 \\nu_{2}^{2}{\\left(t \\right)} \\sin{\\left(\\theta_{0}{\\left(t \\right)} \\right)}}{4} + \\frac{\\nu_{2}^{2}{\\left(t \\right)} \\sin{\\left(3 \\theta_{0}{\\left(t \\right)} \\right)}}{4} + 4 \\nu_{2}{\\left(t \\right)} \\nu_{3}{\\left(t \\right)} \\sin^{3}{\\left(\\theta_{0}{\\left(t \\right)} \\right)} + 3 \\nu_{2}{\\left(t \\right)} \\nu_{3}{\\left(t \\right)} \\sin{\\left(\\theta_{0}{\\left(t \\right)} \\right)} \\cos{\\left(\\theta_{0}{\\left(t \\right)} \\right)} - 3 \\nu_{2}{\\left(t \\right)} \\nu_{3}{\\left(t \\right)} \\sin{\\left(\\theta_{0}{\\left(t \\right)} \\right)} + \\nu_{2}{\\left(t \\right)} \\nu_{3}{\\left(t \\right)} \\sin{\\left(3 \\theta_{0}{\\left(t \\right)} \\right)} + 4 \\nu_{3}^{2}{\\left(t \\right)} \\sin^{3}{\\left(\\theta_{0}{\\left(t \\right)} \\right)} - 3 \\nu_{3}^{2}{\\left(t \\right)} \\sin{\\left(\\theta_{0}{\\left(t \\right)} \\right)} + \\nu_{3}^{2}{\\left(t \\right)} \\sin{\\left(3 \\theta_{0}{\\left(t \\right)} \\right)} - 4 \\sin{\\left(\\theta_{0}{\\left(t \\right)} \\right)} \\cos{\\left(\\theta_{0}{\\left(t \\right)} \\right)} \\frac{d}{d t} \\nu_{1}{\\left(t \\right)} + 4 \\cos^{2}{\\left(\\theta_{0}{\\left(t \\right)} \\right)} \\frac{d}{d t} \\nu_{2}{\\left(t \\right)} + 6 \\cos{\\left(\\theta_{0}{\\left(t \\right)} \\right)} \\frac{d}{d t} \\nu_{2}{\\left(t \\right)}}{3 \\cos{\\left(\\theta_{0}{\\left(t \\right)} \\right)} - \\cos{\\left(2 \\theta_{0}{\\left(t \\right)} \\right)} - 1}$"
      ],
      "text/plain": [
       "Eq(Derivative(nu3(t), t), (-nu1(t)**2*sin(theta0(t))**3 + 3*nu1(t)**2*sin(theta0(t))/4 - nu1(t)**2*sin(3*theta0(t))/4 - 2*nu1(t)*nu2(t)*cos(theta0(t))**3 + 3*nu1(t)*nu2(t)*cos(theta0(t))/2 + nu1(t)*nu2(t)*cos(3*theta0(t))/2 - 4*nu1(t)*nu3(t)*cos(theta0(t))**3 + 3*nu1(t)*nu3(t)*cos(theta0(t))**2 + 9*nu1(t)*nu3(t)*cos(theta0(t)) + nu1(t)*nu3(t)*cos(3*theta0(t)) + nu2(t)**2*sin(theta0(t))**3 - 3*nu2(t)**2*sin(theta0(t))/4 + nu2(t)**2*sin(3*theta0(t))/4 + 4*nu2(t)*nu3(t)*sin(theta0(t))**3 + 3*nu2(t)*nu3(t)*sin(theta0(t))*cos(theta0(t)) - 3*nu2(t)*nu3(t)*sin(theta0(t)) + nu2(t)*nu3(t)*sin(3*theta0(t)) + 4*nu3(t)**2*sin(theta0(t))**3 - 3*nu3(t)**2*sin(theta0(t)) + nu3(t)**2*sin(3*theta0(t)) - 4*sin(theta0(t))*cos(theta0(t))*Derivative(nu1(t), t) + 4*cos(theta0(t))**2*Derivative(nu2(t), t) + 6*cos(theta0(t))*Derivative(nu2(t), t))/(3*cos(theta0(t)) - cos(2*theta0(t)) - 1))"
      ]
     },
     "execution_count": 258,
     "metadata": {},
     "output_type": "execute_result"
    }
   ],
   "source": [
    "resTWNU3[2]"
   ]
  },
  {
   "cell_type": "code",
   "execution_count": 262,
   "metadata": {},
   "outputs": [],
   "source": [
    "# def linearize(eq):\n",
    "#     return eq.subs({\n",
    "#         sin(theta[0]): theta[0],\n",
    "#         sin(2*theta[0]): 2*theta[0],\n",
    "#         sin(3*theta[0]): theta[0],\n",
    "#         sin(4*theta[0]): theta[0],\n",
    "#         cos(theta[0]): 1,\n",
    "#         cos(2*theta[0]): 1,\n",
    "#         cos(3*theta[0]): 1,\n",
    "#         cos(4*theta[0]): 1\n",
    "#     })\n",
    "\n",
    "# # def linearize(eq):\n",
    "# #     return eq.subs({\n",
    "# #         sin(theta[0]): -theta[0],\n",
    "# #         sin(2*theta[0]): -theta[0],\n",
    "# #         sin(3*theta[0]): -theta[0],\n",
    "# #         sin(4*theta[0]): -theta[0],\n",
    "# #         cos(theta[0]): -1,\n",
    "# #         cos(2*theta[0]): -1,\n",
    "# #         cos(3*theta[0]): -1,\n",
    "# #         cos(4*theta[0]): -1\n",
    "# #     })\n",
    "\n",
    "def _subs_xy(ineq):\n",
    "    return ineq.subs({\n",
    "        nu[1]: eq['nu1(x,y)'].args[1],\n",
    "        nu[2]: eq['nu2(x,y)'].args[1],\n",
    "        y: 0,\n",
    "        x: V*t\n",
    "    })\n",
    "\n",
    "# display_list([linearize(_subs_xy(_x).doit()).subs({Derivative(alpha, t): nu[3]}) for _x in resTWNU3 + [par_subs(conn4)]])"
   ]
  },
  {
   "cell_type": "code",
   "execution_count": 439,
   "metadata": {},
   "outputs": [
    {
     "data": {
      "text/latex": [
       "$\\displaystyle \\frac{d}{d t} \\nu_{3}{\\left(t \\right)} = \\frac{- \\nu_{1}^{2}{\\left(t \\right)} \\sin^{3}{\\left(\\theta_{0}{\\left(t \\right)} \\right)} + \\frac{3 \\nu_{1}^{2}{\\left(t \\right)} \\sin{\\left(\\theta_{0}{\\left(t \\right)} \\right)}}{4} - \\frac{\\nu_{1}^{2}{\\left(t \\right)} \\sin{\\left(3 \\theta_{0}{\\left(t \\right)} \\right)}}{4} - 2 \\nu_{1}{\\left(t \\right)} \\nu_{2}{\\left(t \\right)} \\cos^{3}{\\left(\\theta_{0}{\\left(t \\right)} \\right)} + \\frac{3 \\nu_{1}{\\left(t \\right)} \\nu_{2}{\\left(t \\right)} \\cos{\\left(\\theta_{0}{\\left(t \\right)} \\right)}}{2} + \\frac{\\nu_{1}{\\left(t \\right)} \\nu_{2}{\\left(t \\right)} \\cos{\\left(3 \\theta_{0}{\\left(t \\right)} \\right)}}{2} - 4 \\nu_{1}{\\left(t \\right)} \\nu_{3}{\\left(t \\right)} \\cos^{3}{\\left(\\theta_{0}{\\left(t \\right)} \\right)} + 3 \\nu_{1}{\\left(t \\right)} \\nu_{3}{\\left(t \\right)} \\cos^{2}{\\left(\\theta_{0}{\\left(t \\right)} \\right)} + 9 \\nu_{1}{\\left(t \\right)} \\nu_{3}{\\left(t \\right)} \\cos{\\left(\\theta_{0}{\\left(t \\right)} \\right)} + \\nu_{1}{\\left(t \\right)} \\nu_{3}{\\left(t \\right)} \\cos{\\left(3 \\theta_{0}{\\left(t \\right)} \\right)} + \\nu_{2}^{2}{\\left(t \\right)} \\sin^{3}{\\left(\\theta_{0}{\\left(t \\right)} \\right)} - \\frac{3 \\nu_{2}^{2}{\\left(t \\right)} \\sin{\\left(\\theta_{0}{\\left(t \\right)} \\right)}}{4} + \\frac{\\nu_{2}^{2}{\\left(t \\right)} \\sin{\\left(3 \\theta_{0}{\\left(t \\right)} \\right)}}{4} + 4 \\nu_{2}{\\left(t \\right)} \\nu_{3}{\\left(t \\right)} \\sin^{3}{\\left(\\theta_{0}{\\left(t \\right)} \\right)} + 3 \\nu_{2}{\\left(t \\right)} \\nu_{3}{\\left(t \\right)} \\sin{\\left(\\theta_{0}{\\left(t \\right)} \\right)} \\cos{\\left(\\theta_{0}{\\left(t \\right)} \\right)} - 3 \\nu_{2}{\\left(t \\right)} \\nu_{3}{\\left(t \\right)} \\sin{\\left(\\theta_{0}{\\left(t \\right)} \\right)} + \\nu_{2}{\\left(t \\right)} \\nu_{3}{\\left(t \\right)} \\sin{\\left(3 \\theta_{0}{\\left(t \\right)} \\right)} + 4 \\nu_{3}^{2}{\\left(t \\right)} \\sin^{3}{\\left(\\theta_{0}{\\left(t \\right)} \\right)} - 3 \\nu_{3}^{2}{\\left(t \\right)} \\sin{\\left(\\theta_{0}{\\left(t \\right)} \\right)} + \\nu_{3}^{2}{\\left(t \\right)} \\sin{\\left(3 \\theta_{0}{\\left(t \\right)} \\right)} - 4 \\sin{\\left(\\theta_{0}{\\left(t \\right)} \\right)} \\cos{\\left(\\theta_{0}{\\left(t \\right)} \\right)} \\frac{d}{d t} \\nu_{1}{\\left(t \\right)} + 4 \\cos^{2}{\\left(\\theta_{0}{\\left(t \\right)} \\right)} \\frac{d}{d t} \\nu_{2}{\\left(t \\right)} + 6 \\cos{\\left(\\theta_{0}{\\left(t \\right)} \\right)} \\frac{d}{d t} \\nu_{2}{\\left(t \\right)}}{3 \\cos{\\left(\\theta_{0}{\\left(t \\right)} \\right)} - \\cos{\\left(2 \\theta_{0}{\\left(t \\right)} \\right)} - 1}$"
      ],
      "text/plain": [
       "Eq(Derivative(nu3(t), t), (-nu1(t)**2*sin(theta0(t))**3 + 3*nu1(t)**2*sin(theta0(t))/4 - nu1(t)**2*sin(3*theta0(t))/4 - 2*nu1(t)*nu2(t)*cos(theta0(t))**3 + 3*nu1(t)*nu2(t)*cos(theta0(t))/2 + nu1(t)*nu2(t)*cos(3*theta0(t))/2 - 4*nu1(t)*nu3(t)*cos(theta0(t))**3 + 3*nu1(t)*nu3(t)*cos(theta0(t))**2 + 9*nu1(t)*nu3(t)*cos(theta0(t)) + nu1(t)*nu3(t)*cos(3*theta0(t)) + nu2(t)**2*sin(theta0(t))**3 - 3*nu2(t)**2*sin(theta0(t))/4 + nu2(t)**2*sin(3*theta0(t))/4 + 4*nu2(t)*nu3(t)*sin(theta0(t))**3 + 3*nu2(t)*nu3(t)*sin(theta0(t))*cos(theta0(t)) - 3*nu2(t)*nu3(t)*sin(theta0(t)) + nu2(t)*nu3(t)*sin(3*theta0(t)) + 4*nu3(t)**2*sin(theta0(t))**3 - 3*nu3(t)**2*sin(theta0(t)) + nu3(t)**2*sin(3*theta0(t)) - 4*sin(theta0(t))*cos(theta0(t))*Derivative(nu1(t), t) + 4*cos(theta0(t))**2*Derivative(nu2(t), t) + 6*cos(theta0(t))*Derivative(nu2(t), t))/(3*cos(theta0(t)) - cos(2*theta0(t)) - 1))"
      ]
     },
     "metadata": {},
     "output_type": "display_data"
    },
    {
     "data": {
      "text/latex": [
       "$\\displaystyle \\frac{d}{d t} \\alpha{\\left(t \\right)} = \\nu_{3}{\\left(t \\right)}$"
      ],
      "text/plain": [
       "Eq(Derivative(alpha(t), t), nu3(t))"
      ]
     },
     "metadata": {},
     "output_type": "display_data"
    },
    {
     "data": {
      "text/latex": [
       "$\\displaystyle \\frac{d}{d t} \\theta_{0}{\\left(t \\right)} = \\frac{- R \\nu_{3}{\\left(t \\right)} \\cos{\\left(\\beta_{0} - \\theta_{0}{\\left(t \\right)} \\right)} - d \\nu_{3}{\\left(t \\right)} + \\nu_{1}{\\left(t \\right)} \\sin{\\left(\\theta_{0}{\\left(t \\right)} \\right)} - \\nu_{2}{\\left(t \\right)} \\cos{\\left(\\theta_{0}{\\left(t \\right)} \\right)}}{d}$"
      ],
      "text/plain": [
       "Eq(Derivative(theta0(t), t), (-R*nu3(t)*cos(beta0 - theta0(t)) - d*nu3(t) + nu1(t)*sin(theta0(t)) - nu2(t)*cos(theta0(t)))/d)"
      ]
     },
     "metadata": {},
     "output_type": "display_data"
    }
   ],
   "source": [
    "display_list([resTWNU3[2], conn3, conn4])\n"
   ]
  },
  {
   "cell_type": "code",
   "execution_count": 436,
   "metadata": {},
   "outputs": [],
   "source": [
    "Mat = Matrix([_subs_xy(_x).args[1] for _x in [resTWNU3[2], conn3, conn4]]).jacobian([nu[3], alpha, theta[0]]).doit()"
   ]
  },
  {
   "cell_type": "code",
   "execution_count": 445,
   "metadata": {},
   "outputs": [],
   "source": [
    "Mat_s = Mat.subs({\n",
    "    Derivative(alpha, t): nu[3]\n",
    "}).subs({\n",
    "    alpha: 0,\n",
    "    nu[3]: 0,\n",
    "})"
   ]
  },
  {
   "cell_type": "code",
   "execution_count": 446,
   "metadata": {},
   "outputs": [
    {
     "data": {
      "text/latex": [
       "$\\displaystyle \\frac{d}{d t} \\nu_{3}{\\left(t \\right)} = \\frac{- \\nu_{1}^{2}{\\left(t \\right)} \\sin^{3}{\\left(\\theta_{0}{\\left(t \\right)} \\right)} + \\frac{3 \\nu_{1}^{2}{\\left(t \\right)} \\sin{\\left(\\theta_{0}{\\left(t \\right)} \\right)}}{4} - \\frac{\\nu_{1}^{2}{\\left(t \\right)} \\sin{\\left(3 \\theta_{0}{\\left(t \\right)} \\right)}}{4} - 2 \\nu_{1}{\\left(t \\right)} \\nu_{2}{\\left(t \\right)} \\cos^{3}{\\left(\\theta_{0}{\\left(t \\right)} \\right)} + \\frac{3 \\nu_{1}{\\left(t \\right)} \\nu_{2}{\\left(t \\right)} \\cos{\\left(\\theta_{0}{\\left(t \\right)} \\right)}}{2} + \\frac{\\nu_{1}{\\left(t \\right)} \\nu_{2}{\\left(t \\right)} \\cos{\\left(3 \\theta_{0}{\\left(t \\right)} \\right)}}{2} - 4 \\nu_{1}{\\left(t \\right)} \\nu_{3}{\\left(t \\right)} \\cos^{3}{\\left(\\theta_{0}{\\left(t \\right)} \\right)} + 3 \\nu_{1}{\\left(t \\right)} \\nu_{3}{\\left(t \\right)} \\cos^{2}{\\left(\\theta_{0}{\\left(t \\right)} \\right)} + 9 \\nu_{1}{\\left(t \\right)} \\nu_{3}{\\left(t \\right)} \\cos{\\left(\\theta_{0}{\\left(t \\right)} \\right)} + \\nu_{1}{\\left(t \\right)} \\nu_{3}{\\left(t \\right)} \\cos{\\left(3 \\theta_{0}{\\left(t \\right)} \\right)} + \\nu_{2}^{2}{\\left(t \\right)} \\sin^{3}{\\left(\\theta_{0}{\\left(t \\right)} \\right)} - \\frac{3 \\nu_{2}^{2}{\\left(t \\right)} \\sin{\\left(\\theta_{0}{\\left(t \\right)} \\right)}}{4} + \\frac{\\nu_{2}^{2}{\\left(t \\right)} \\sin{\\left(3 \\theta_{0}{\\left(t \\right)} \\right)}}{4} + 4 \\nu_{2}{\\left(t \\right)} \\nu_{3}{\\left(t \\right)} \\sin^{3}{\\left(\\theta_{0}{\\left(t \\right)} \\right)} + 3 \\nu_{2}{\\left(t \\right)} \\nu_{3}{\\left(t \\right)} \\sin{\\left(\\theta_{0}{\\left(t \\right)} \\right)} \\cos{\\left(\\theta_{0}{\\left(t \\right)} \\right)} - 3 \\nu_{2}{\\left(t \\right)} \\nu_{3}{\\left(t \\right)} \\sin{\\left(\\theta_{0}{\\left(t \\right)} \\right)} + \\nu_{2}{\\left(t \\right)} \\nu_{3}{\\left(t \\right)} \\sin{\\left(3 \\theta_{0}{\\left(t \\right)} \\right)} + 4 \\nu_{3}^{2}{\\left(t \\right)} \\sin^{3}{\\left(\\theta_{0}{\\left(t \\right)} \\right)} - 3 \\nu_{3}^{2}{\\left(t \\right)} \\sin{\\left(\\theta_{0}{\\left(t \\right)} \\right)} + \\nu_{3}^{2}{\\left(t \\right)} \\sin{\\left(3 \\theta_{0}{\\left(t \\right)} \\right)} - 4 \\sin{\\left(\\theta_{0}{\\left(t \\right)} \\right)} \\cos{\\left(\\theta_{0}{\\left(t \\right)} \\right)} \\frac{d}{d t} \\nu_{1}{\\left(t \\right)} + 4 \\cos^{2}{\\left(\\theta_{0}{\\left(t \\right)} \\right)} \\frac{d}{d t} \\nu_{2}{\\left(t \\right)} + 6 \\cos{\\left(\\theta_{0}{\\left(t \\right)} \\right)} \\frac{d}{d t} \\nu_{2}{\\left(t \\right)}}{3 \\cos{\\left(\\theta_{0}{\\left(t \\right)} \\right)} - \\cos{\\left(2 \\theta_{0}{\\left(t \\right)} \\right)} - 1}$"
      ],
      "text/plain": [
       "Eq(Derivative(nu3(t), t), (-nu1(t)**2*sin(theta0(t))**3 + 3*nu1(t)**2*sin(theta0(t))/4 - nu1(t)**2*sin(3*theta0(t))/4 - 2*nu1(t)*nu2(t)*cos(theta0(t))**3 + 3*nu1(t)*nu2(t)*cos(theta0(t))/2 + nu1(t)*nu2(t)*cos(3*theta0(t))/2 - 4*nu1(t)*nu3(t)*cos(theta0(t))**3 + 3*nu1(t)*nu3(t)*cos(theta0(t))**2 + 9*nu1(t)*nu3(t)*cos(theta0(t)) + nu1(t)*nu3(t)*cos(3*theta0(t)) + nu2(t)**2*sin(theta0(t))**3 - 3*nu2(t)**2*sin(theta0(t))/4 + nu2(t)**2*sin(3*theta0(t))/4 + 4*nu2(t)*nu3(t)*sin(theta0(t))**3 + 3*nu2(t)*nu3(t)*sin(theta0(t))*cos(theta0(t)) - 3*nu2(t)*nu3(t)*sin(theta0(t)) + nu2(t)*nu3(t)*sin(3*theta0(t)) + 4*nu3(t)**2*sin(theta0(t))**3 - 3*nu3(t)**2*sin(theta0(t)) + nu3(t)**2*sin(3*theta0(t)) - 4*sin(theta0(t))*cos(theta0(t))*Derivative(nu1(t), t) + 4*cos(theta0(t))**2*Derivative(nu2(t), t) + 6*cos(theta0(t))*Derivative(nu2(t), t))/(3*cos(theta0(t)) - cos(2*theta0(t)) - 1))"
      ]
     },
     "execution_count": 446,
     "metadata": {},
     "output_type": "execute_result"
    }
   ],
   "source": [
    "resTWNU3[2]"
   ]
  },
  {
   "cell_type": "code",
   "execution_count": 447,
   "metadata": {},
   "outputs": [],
   "source": [
    "# display(resTWNU3[2].subs(\n",
    "# {  \n",
    "#     nu[1]: eq['nu1(x,y)'].args[1],\n",
    "#     nu[2]: eq['nu2(x,y)'].args[1],\n",
    "# }).subs({\n",
    "#     x: V*t,\n",
    "#     y: 0\n",
    "# }).doit())"
   ]
  },
  {
   "cell_type": "code",
   "execution_count": 448,
   "metadata": {},
   "outputs": [
    {
     "data": {
      "text/latex": [
       "$\\displaystyle \\left[\\begin{matrix}9 V & 0 & 0\\\\1 & 0 & 0\\\\\\frac{- R \\cos{\\left(\\beta_{0} \\right)} - d}{d} & \\frac{V}{d} & \\frac{V}{d}\\end{matrix}\\right]$"
      ],
      "text/plain": [
       "Matrix([\n",
       "[                  9*V,   0,   0],\n",
       "[                    1,   0,   0],\n",
       "[(-R*cos(beta0) - d)/d, V/d, V/d]])"
      ]
     },
     "execution_count": 448,
     "metadata": {},
     "output_type": "execute_result"
    }
   ],
   "source": [
    "Mat0 = Mat_s.subs({\n",
    "    theta[0]: 0,\n",
    "}).doit()\n",
    "Mat0"
   ]
  },
  {
   "cell_type": "code",
   "execution_count": 424,
   "metadata": {},
   "outputs": [
    {
     "data": {
      "text/latex": [
       "$\\displaystyle \\left[\\begin{matrix}9 V\\\\0\\\\\\frac{V}{d}\\end{matrix}\\right]$"
      ],
      "text/plain": [
       "Matrix([\n",
       "[9*V],\n",
       "[  0],\n",
       "[V/d]])"
      ]
     },
     "execution_count": 424,
     "metadata": {},
     "output_type": "execute_result"
    }
   ],
   "source": [
    "Matrix(Mat0.eigenvals(multiple=list))"
   ]
  },
  {
   "cell_type": "code",
   "execution_count": 425,
   "metadata": {},
   "outputs": [
    {
     "data": {
      "text/latex": [
       "$\\displaystyle \\left[\\begin{matrix}\\frac{3 V}{5} & 0 & 0\\\\1 & 0 & 0\\\\\\frac{R \\cos{\\left(\\beta_{0} \\right)} - d}{d} & - \\frac{V}{d} & - \\frac{V}{d}\\end{matrix}\\right]$"
      ],
      "text/plain": [
       "Matrix([\n",
       "[               3*V/5,    0,    0],\n",
       "[                   1,    0,    0],\n",
       "[(R*cos(beta0) - d)/d, -V/d, -V/d]])"
      ]
     },
     "execution_count": 425,
     "metadata": {},
     "output_type": "execute_result"
    }
   ],
   "source": [
    "MatPi = Mat_s.subs({\n",
    "    theta[0]: pi\n",
    "}).doit()\n",
    "MatPi"
   ]
  },
  {
   "cell_type": "code",
   "execution_count": 426,
   "metadata": {},
   "outputs": [
    {
     "data": {
      "text/latex": [
       "$\\displaystyle \\left[\\begin{matrix}\\frac{3 V}{5}\\\\0\\\\- \\frac{V}{d}\\end{matrix}\\right]$"
      ],
      "text/plain": [
       "Matrix([\n",
       "[3*V/5],\n",
       "[    0],\n",
       "[ -V/d]])"
      ]
     },
     "execution_count": 426,
     "metadata": {},
     "output_type": "execute_result"
    }
   ],
   "source": [
    "Matrix(MatPi.eigenvals(multiple=list))"
   ]
  },
  {
   "cell_type": "markdown",
   "metadata": {},
   "source": [
    "# ???"
   ]
  },
  {
   "cell_type": "code",
   "execution_count": null,
   "metadata": {},
   "outputs": [],
   "source": [
    "class SolveByTW:\n",
    "    def __init__(self, T, W, x, y, nu1, nu2):\n",
    "        self.T = T\n",
    "        self.W = W\n",
    "        self.x = x\n",
    "        self.y = y\n",
    "        self.nu1 = self._subs_xy(nu1).doit()\n",
    "        self.nu2 = self._subs_xy(nu2).doit()\n",
    "    \n",
    "    def _solve_by_TW(self):\n",
    "        pass\n",
    "    \n",
    "    def set_xy(self, x_eq, y_eq):\n",
    "        pass\n",
    "    \n",
    "    def _subs_xy(self, eq):\n",
    "        return eq.subs({\n",
    "            x: self.x,\n",
    "            y: self.y\n",
    "        })\n",
    "    \n",
    "    def _subs_nu(self, eq):\n",
    "        return eq.subs({\n",
    "            nu[1]: self.nu1,\n",
    "            nu[2]: self.nu2\n",
    "        })\n",
    "    \n",
    "    def _subs_derivative_nu(self, eq):\n",
    "        return eq.subs({\n",
    "            Derivative(nu[1],t): self.nu1.diff(t),\n",
    "            Derivative(nu[2],t): self.nu2.diff(t)\n",
    "        })\n",
    "    \n",
    "    def _subs_all(self, eq):\n",
    "        return self._subs_conn(self._subs_nu(self._subs_derivative_nu(eq)))\n",
    "    \n",
    "    def _subs_conn(self, eq):\n",
    "        return S.sub_constraints(eq)\n",
    "    \n",
    "    def solve(self):\n",
    "        self.res = [\n",
    "            simplify(Eq(T[1], self._subs_all(self.T))),\n",
    "            simplify(Eq(W[1], self._subs_all(self.W)))\n",
    "        ]\n",
    "    \n",
    "    def get_res(self):\n",
    "        return self.res"
   ]
  },
  {
   "cell_type": "code",
   "execution_count": null,
   "metadata": {},
   "outputs": [],
   "source": [
    "%%time\n",
    "STW = SolveByTW(\n",
    "    T=eq['T'],\n",
    "    W=eq['W'],\n",
    "    x=sin(t),\n",
    "    y=cos(t),\n",
    "    nu1=eq['nu1(x,y)'].args[1],\n",
    "    nu2=eq['nu2(x,y)'].args[1],\n",
    ")\n",
    "\n",
    "STW.solve()"
   ]
  },
  {
   "cell_type": "code",
   "execution_count": null,
   "metadata": {},
   "outputs": [],
   "source": [
    "# for _eq in STW.get_res():\n",
    "#     display(_eq)"
   ]
  },
  {
   "cell_type": "code",
   "execution_count": null,
   "metadata": {},
   "outputs": [],
   "source": []
  },
  {
   "cell_type": "code",
   "execution_count": null,
   "metadata": {},
   "outputs": [],
   "source": []
  },
  {
   "cell_type": "code",
   "execution_count": null,
   "metadata": {},
   "outputs": [],
   "source": []
  },
  {
   "cell_type": "markdown",
   "metadata": {},
   "source": [
    "###### *Save*"
   ]
  },
  {
   "cell_type": "code",
   "execution_count": null,
   "metadata": {},
   "outputs": [],
   "source": [
    "save(STW, 'STW')"
   ]
  },
  {
   "cell_type": "markdown",
   "metadata": {},
   "source": [
    "### SolveByNuTheta"
   ]
  },
  {
   "cell_type": "code",
   "execution_count": null,
   "metadata": {},
   "outputs": [],
   "source": [
    "class SolveByNuTheta(SolveByTW):\n",
    "    def __init__(self, *args, **kwargs):\n",
    "        super().__init__(*args, **kwargs)\n",
    "    \n",
    "    def solve(self):\n",
    "        super().solve()\n",
    "        \n",
    "        # nu3' = f(nu3, alpha, theta, t)\n",
    "        nu3_eq = subs_Eqs(eqs[2], self.get_res())\n",
    "        nu3_eq = par_subs(nu3_eq)\n",
    "        nu3_eq = self._subs_all(nu3_eq)\n",
    "        nu3_eq = solve(nu3_eq, Derivative(nu[3], t))\n",
    "        nu3_eq = Eq(Derivative(nu[3], t), nu3_eq[0])\n",
    "\n",
    "        # Theta' = g(nu3, alpha, theta, t)\n",
    "        theta_eq = self._subs_nu(S.constraints[3])\n",
    "        theta_eq = par_subs(theta_eq)\n",
    "        \n",
    "        # alpha' = r(nu3)\n",
    "        alpha_eq = S.constraints[2]\n",
    "        \n",
    "        self.res = [simplify(nu3_eq),\n",
    "                    simplify(theta_eq),\n",
    "                    alpha_eq]"
   ]
  },
  {
   "cell_type": "code",
   "execution_count": null,
   "metadata": {},
   "outputs": [],
   "source": [
    "%%time\n",
    "SNT = SolveByNuTheta(\n",
    "    T=eq['T'],\n",
    "    W=eq['W'],\n",
    "    x=sin(t),\n",
    "    y=cos(t),\n",
    "    nu1=eq['nu1(x,y)'].args[1],\n",
    "    nu2=eq['nu2(x,y)'].args[1],\n",
    ")\n",
    "\n",
    "SNT.solve()"
   ]
  },
  {
   "cell_type": "code",
   "execution_count": null,
   "metadata": {},
   "outputs": [],
   "source": [
    "# TODO: упросчтить и првоверить что не зависит от alpha\n",
    "for _eq in SNT.get_res():\n",
    "    display(_eq)"
   ]
  },
  {
   "cell_type": "code",
   "execution_count": null,
   "metadata": {},
   "outputs": [],
   "source": []
  },
  {
   "cell_type": "code",
   "execution_count": null,
   "metadata": {},
   "outputs": [],
   "source": []
  },
  {
   "cell_type": "code",
   "execution_count": null,
   "metadata": {},
   "outputs": [],
   "source": []
  },
  {
   "cell_type": "markdown",
   "metadata": {},
   "source": [
    "###### *Save*"
   ]
  },
  {
   "cell_type": "code",
   "execution_count": null,
   "metadata": {},
   "outputs": [],
   "source": [
    "save(SNT, 'SNT')"
   ]
  },
  {
   "cell_type": "code",
   "execution_count": null,
   "metadata": {},
   "outputs": [],
   "source": []
  },
  {
   "cell_type": "code",
   "execution_count": null,
   "metadata": {},
   "outputs": [],
   "source": []
  },
  {
   "cell_type": "code",
   "execution_count": null,
   "metadata": {},
   "outputs": [],
   "source": []
  },
  {
   "cell_type": "code",
   "execution_count": 162,
   "metadata": {},
   "outputs": [],
   "source": [
    "TW_eqs = load('data/TW_eqs')"
   ]
  },
  {
   "cell_type": "markdown",
   "metadata": {},
   "source": [
    "### Integrate above system"
   ]
  },
  {
   "cell_type": "code",
   "execution_count": 163,
   "metadata": {},
   "outputs": [],
   "source": [
    "import numpy as np\n",
    "from scipy.integrate import RK45, odeint\n",
    "import matplotlib.pyplot as plt"
   ]
  },
  {
   "cell_type": "code",
   "execution_count": 164,
   "metadata": {},
   "outputs": [
    {
     "data": {
      "text/latex": [
       "$\\displaystyle \\nu_{3}{\\left(t \\right)}$"
      ],
      "text/plain": [
       "nu3(t)"
      ]
     },
     "metadata": {},
     "output_type": "display_data"
    },
    {
     "data": {
      "text/latex": [
       "$\\displaystyle \\alpha{\\left(t \\right)}$"
      ],
      "text/plain": [
       "alpha(t)"
      ]
     },
     "metadata": {},
     "output_type": "display_data"
    },
    {
     "data": {
      "text/latex": [
       "$\\displaystyle \\theta_{0}{\\left(t \\right)}$"
      ],
      "text/plain": [
       "theta0(t)"
      ]
     },
     "metadata": {},
     "output_type": "display_data"
    },
    {
     "data": {
      "text/latex": [
       "$\\displaystyle t$"
      ],
      "text/plain": [
       "t"
      ]
     },
     "metadata": {},
     "output_type": "display_data"
    }
   ],
   "source": [
    "_vars = [nu[3], alpha, theta[0]] + [t]\n",
    "display_list(_vars)"
   ]
  },
  {
   "cell_type": "code",
   "execution_count": 168,
   "metadata": {},
   "outputs": [
    {
     "data": {
      "text/latex": [
       "$\\displaystyle \\frac{d}{d t} \\nu_{3}{\\left(t \\right)} = \\frac{- 4 \\left(- 0.1 \\nu_{3}{\\left(t \\right)} \\sin{\\left(\\alpha{\\left(t \\right)} \\right)} \\operatorname{atan}{\\left(t \\right)} + \\frac{0.1 \\cos{\\left(\\alpha{\\left(t \\right)} \\right)}}{t^{2} + 1}\\right) \\sin{\\left(\\theta_{0}{\\left(t \\right)} \\right)} \\cos{\\left(\\theta_{0}{\\left(t \\right)} \\right)} + 4 \\left(- 0.1 \\nu_{3}{\\left(t \\right)} \\cos{\\left(\\alpha{\\left(t \\right)} \\right)} \\operatorname{atan}{\\left(t \\right)} - \\frac{0.1 \\sin{\\left(\\alpha{\\left(t \\right)} \\right)}}{t^{2} + 1}\\right) \\cos^{2}{\\left(\\theta_{0}{\\left(t \\right)} \\right)} + 6 \\left(- 0.1 \\nu_{3}{\\left(t \\right)} \\cos{\\left(\\alpha{\\left(t \\right)} \\right)} \\operatorname{atan}{\\left(t \\right)} - \\frac{0.1 \\sin{\\left(\\alpha{\\left(t \\right)} \\right)}}{t^{2} + 1}\\right) \\cos{\\left(\\theta_{0}{\\left(t \\right)} \\right)} + 4 \\nu_{3}^{2}{\\left(t \\right)} \\sin^{3}{\\left(\\theta_{0}{\\left(t \\right)} \\right)} - 3 \\nu_{3}^{2}{\\left(t \\right)} \\sin{\\left(\\theta_{0}{\\left(t \\right)} \\right)} + \\nu_{3}^{2}{\\left(t \\right)} \\sin{\\left(3 \\theta_{0}{\\left(t \\right)} \\right)} - 0.4 \\nu_{3}{\\left(t \\right)} \\sin{\\left(\\alpha{\\left(t \\right)} \\right)} \\sin^{3}{\\left(\\theta_{0}{\\left(t \\right)} \\right)} \\operatorname{atan}{\\left(t \\right)} - 0.3 \\nu_{3}{\\left(t \\right)} \\sin{\\left(\\alpha{\\left(t \\right)} \\right)} \\sin{\\left(\\theta_{0}{\\left(t \\right)} \\right)} \\cos{\\left(\\theta_{0}{\\left(t \\right)} \\right)} \\operatorname{atan}{\\left(t \\right)} + 0.3 \\nu_{3}{\\left(t \\right)} \\sin{\\left(\\alpha{\\left(t \\right)} \\right)} \\sin{\\left(\\theta_{0}{\\left(t \\right)} \\right)} \\operatorname{atan}{\\left(t \\right)} - 0.1 \\nu_{3}{\\left(t \\right)} \\sin{\\left(\\alpha{\\left(t \\right)} \\right)} \\sin{\\left(3 \\theta_{0}{\\left(t \\right)} \\right)} \\operatorname{atan}{\\left(t \\right)} - 0.4 \\nu_{3}{\\left(t \\right)} \\cos{\\left(\\alpha{\\left(t \\right)} \\right)} \\cos^{3}{\\left(\\theta_{0}{\\left(t \\right)} \\right)} \\operatorname{atan}{\\left(t \\right)} + 0.3 \\nu_{3}{\\left(t \\right)} \\cos{\\left(\\alpha{\\left(t \\right)} \\right)} \\cos^{2}{\\left(\\theta_{0}{\\left(t \\right)} \\right)} \\operatorname{atan}{\\left(t \\right)} + 0.9 \\nu_{3}{\\left(t \\right)} \\cos{\\left(\\alpha{\\left(t \\right)} \\right)} \\cos{\\left(\\theta_{0}{\\left(t \\right)} \\right)} \\operatorname{atan}{\\left(t \\right)} + 0.1 \\nu_{3}{\\left(t \\right)} \\cos{\\left(\\alpha{\\left(t \\right)} \\right)} \\cos{\\left(3 \\theta_{0}{\\left(t \\right)} \\right)} \\operatorname{atan}{\\left(t \\right)} + 0.01 \\sin^{2}{\\left(\\alpha{\\left(t \\right)} \\right)} \\sin^{3}{\\left(\\theta_{0}{\\left(t \\right)} \\right)} \\operatorname{atan}^{2}{\\left(t \\right)} - 0.0075 \\sin^{2}{\\left(\\alpha{\\left(t \\right)} \\right)} \\sin{\\left(\\theta_{0}{\\left(t \\right)} \\right)} \\operatorname{atan}^{2}{\\left(t \\right)} + 0.0025 \\sin^{2}{\\left(\\alpha{\\left(t \\right)} \\right)} \\sin{\\left(3 \\theta_{0}{\\left(t \\right)} \\right)} \\operatorname{atan}^{2}{\\left(t \\right)} + 0.02 \\sin{\\left(\\alpha{\\left(t \\right)} \\right)} \\cos{\\left(\\alpha{\\left(t \\right)} \\right)} \\cos^{3}{\\left(\\theta_{0}{\\left(t \\right)} \\right)} \\operatorname{atan}^{2}{\\left(t \\right)} - 0.015 \\sin{\\left(\\alpha{\\left(t \\right)} \\right)} \\cos{\\left(\\alpha{\\left(t \\right)} \\right)} \\cos{\\left(\\theta_{0}{\\left(t \\right)} \\right)} \\operatorname{atan}^{2}{\\left(t \\right)} - 0.005 \\sin{\\left(\\alpha{\\left(t \\right)} \\right)} \\cos{\\left(\\alpha{\\left(t \\right)} \\right)} \\cos{\\left(3 \\theta_{0}{\\left(t \\right)} \\right)} \\operatorname{atan}^{2}{\\left(t \\right)} - 0.01 \\sin^{3}{\\left(\\theta_{0}{\\left(t \\right)} \\right)} \\cos^{2}{\\left(\\alpha{\\left(t \\right)} \\right)} \\operatorname{atan}^{2}{\\left(t \\right)} + 0.0075 \\sin{\\left(\\theta_{0}{\\left(t \\right)} \\right)} \\cos^{2}{\\left(\\alpha{\\left(t \\right)} \\right)} \\operatorname{atan}^{2}{\\left(t \\right)} - 0.0025 \\sin{\\left(3 \\theta_{0}{\\left(t \\right)} \\right)} \\cos^{2}{\\left(\\alpha{\\left(t \\right)} \\right)} \\operatorname{atan}^{2}{\\left(t \\right)}}{3 \\cos{\\left(\\theta_{0}{\\left(t \\right)} \\right)} - \\cos{\\left(2 \\theta_{0}{\\left(t \\right)} \\right)} - 1}$"
      ],
      "text/plain": [
       "Eq(Derivative(nu3(t), t), (-4*(-0.1*nu3(t)*sin(alpha(t))*atan(t) + 0.1*cos(alpha(t))/(t**2 + 1))*sin(theta0(t))*cos(theta0(t)) + 4*(-0.1*nu3(t)*cos(alpha(t))*atan(t) - 0.1*sin(alpha(t))/(t**2 + 1))*cos(theta0(t))**2 + 6*(-0.1*nu3(t)*cos(alpha(t))*atan(t) - 0.1*sin(alpha(t))/(t**2 + 1))*cos(theta0(t)) + 4*nu3(t)**2*sin(theta0(t))**3 - 3*nu3(t)**2*sin(theta0(t)) + nu3(t)**2*sin(3*theta0(t)) - 0.4*nu3(t)*sin(alpha(t))*sin(theta0(t))**3*atan(t) - 0.3*nu3(t)*sin(alpha(t))*sin(theta0(t))*cos(theta0(t))*atan(t) + 0.3*nu3(t)*sin(alpha(t))*sin(theta0(t))*atan(t) - 0.1*nu3(t)*sin(alpha(t))*sin(3*theta0(t))*atan(t) - 0.4*nu3(t)*cos(alpha(t))*cos(theta0(t))**3*atan(t) + 0.3*nu3(t)*cos(alpha(t))*cos(theta0(t))**2*atan(t) + 0.9*nu3(t)*cos(alpha(t))*cos(theta0(t))*atan(t) + 0.1*nu3(t)*cos(alpha(t))*cos(3*theta0(t))*atan(t) + 0.01*sin(alpha(t))**2*sin(theta0(t))**3*atan(t)**2 - 0.0075*sin(alpha(t))**2*sin(theta0(t))*atan(t)**2 + 0.0025*sin(alpha(t))**2*sin(3*theta0(t))*atan(t)**2 + 0.02*sin(alpha(t))*cos(alpha(t))*cos(theta0(t))**3*atan(t)**2 - 0.015*sin(alpha(t))*cos(alpha(t))*cos(theta0(t))*atan(t)**2 - 0.005*sin(alpha(t))*cos(alpha(t))*cos(3*theta0(t))*atan(t)**2 - 0.01*sin(theta0(t))**3*cos(alpha(t))**2*atan(t)**2 + 0.0075*sin(theta0(t))*cos(alpha(t))**2*atan(t)**2 - 0.0025*sin(3*theta0(t))*cos(alpha(t))**2*atan(t)**2)/(3*cos(theta0(t)) - cos(2*theta0(t)) - 1))"
      ]
     },
     "metadata": {},
     "output_type": "display_data"
    },
    {
     "data": {
      "text/latex": [
       "$\\displaystyle \\frac{d}{d t} \\alpha{\\left(t \\right)} = \\nu_{3}{\\left(t \\right)}$"
      ],
      "text/plain": [
       "Eq(Derivative(alpha(t), t), nu3(t))"
      ]
     },
     "metadata": {},
     "output_type": "display_data"
    },
    {
     "data": {
      "text/latex": [
       "$\\displaystyle \\frac{d}{d t} \\theta_{0}{\\left(t \\right)} = - 2.0 \\nu_{3}{\\left(t \\right)} \\cos{\\left(\\theta_{0}{\\left(t \\right)} \\right)} - 1.0 \\nu_{3}{\\left(t \\right)} + 0.1 \\sin{\\left(\\alpha{\\left(t \\right)} + \\theta_{0}{\\left(t \\right)} \\right)} \\operatorname{atan}{\\left(t \\right)}$"
      ],
      "text/plain": [
       "Eq(Derivative(theta0(t), t), -2.0*nu3(t)*cos(theta0(t)) - 1.0*nu3(t) + 0.1*sin(alpha(t) + theta0(t))*atan(t))"
      ]
     },
     "metadata": {},
     "output_type": "display_data"
    }
   ],
   "source": [
    "_eqs = TW_eqs\n",
    "display_list(_eqs)\n",
    "_eqs = [_x.args[1] for _x in _eqs] # del left part"
   ]
  },
  {
   "cell_type": "code",
   "execution_count": null,
   "metadata": {},
   "outputs": [],
   "source": []
  },
  {
   "cell_type": "code",
   "execution_count": 169,
   "metadata": {},
   "outputs": [],
   "source": [
    "def f(_vars_values, time):\n",
    "    return [lambdify(_vars, _eq, 'numpy')(*_vars_values, time) for _eq in _eqs]"
   ]
  },
  {
   "cell_type": "code",
   "execution_count": 170,
   "metadata": {},
   "outputs": [],
   "source": [
    "# f([0,0,0.2], 0) # test"
   ]
  },
  {
   "cell_type": "markdown",
   "metadata": {},
   "source": [
    "# Text \n",
    "0. Copy\n",
    "1. Лагрнаж - Татаринов\n",
    "2. Тестирование \n",
    " - Волчок Лагранжа\n",
    " - Тело на плоскости с силой\n",
    "3. Кинематика - ок\n",
    "4. Матрица, определитель, значение параметров\n",
    "5. Примеры траекторий для x(t),y(t)\n",
    " - x = t , y = 0 | \n",
    " - $ x = t^2/2 , y = 0 $ | $ \\theta(0) = 0 $\n",
    " - $ x = \\tan{t}, y = 0 $\n",
    " "
   ]
  },
  {
   "cell_type": "code",
   "execution_count": 199,
   "metadata": {},
   "outputs": [
    {
     "ename": "KeyboardInterrupt",
     "evalue": "",
     "output_type": "error",
     "traceback": [
      "\u001b[0;31m---------------------------------------------------------------------------\u001b[0m",
      "\u001b[0;31mKeyError\u001b[0m                                  Traceback (most recent call last)",
      "\u001b[0;32m~/Documents/Course/venv/lib/python3.7/site-packages/sympy/core/assumptions.py\u001b[0m in \u001b[0;36mgetit\u001b[0;34m(self)\u001b[0m\n\u001b[1;32m    261\u001b[0m         \u001b[0;32mtry\u001b[0m\u001b[0;34m:\u001b[0m\u001b[0;34m\u001b[0m\u001b[0;34m\u001b[0m\u001b[0m\n\u001b[0;32m--> 262\u001b[0;31m             \u001b[0;32mreturn\u001b[0m \u001b[0mself\u001b[0m\u001b[0;34m.\u001b[0m\u001b[0m_assumptions\u001b[0m\u001b[0;34m[\u001b[0m\u001b[0mfact\u001b[0m\u001b[0;34m]\u001b[0m\u001b[0;34m\u001b[0m\u001b[0;34m\u001b[0m\u001b[0m\n\u001b[0m\u001b[1;32m    263\u001b[0m         \u001b[0;32mexcept\u001b[0m \u001b[0mKeyError\u001b[0m\u001b[0;34m:\u001b[0m\u001b[0;34m\u001b[0m\u001b[0;34m\u001b[0m\u001b[0m\n",
      "\u001b[0;31mKeyError\u001b[0m: 'extended_negative'",
      "\nDuring handling of the above exception, another exception occurred:\n",
      "\u001b[0;31mKeyboardInterrupt\u001b[0m                         Traceback (most recent call last)",
      "\u001b[0;32m<timed exec>\u001b[0m in \u001b[0;36m<module>\u001b[0;34m\u001b[0m\n",
      "\u001b[0;32m~/Documents/Course/venv/lib/python3.7/site-packages/scipy/integrate/odepack.py\u001b[0m in \u001b[0;36modeint\u001b[0;34m(func, y0, t, args, Dfun, col_deriv, full_output, ml, mu, rtol, atol, tcrit, h0, hmax, hmin, ixpr, mxstep, mxhnil, mxordn, mxords, printmessg, tfirst)\u001b[0m\n\u001b[1;32m    243\u001b[0m                              \u001b[0mfull_output\u001b[0m\u001b[0;34m,\u001b[0m \u001b[0mrtol\u001b[0m\u001b[0;34m,\u001b[0m \u001b[0matol\u001b[0m\u001b[0;34m,\u001b[0m \u001b[0mtcrit\u001b[0m\u001b[0;34m,\u001b[0m \u001b[0mh0\u001b[0m\u001b[0;34m,\u001b[0m \u001b[0mhmax\u001b[0m\u001b[0;34m,\u001b[0m \u001b[0mhmin\u001b[0m\u001b[0;34m,\u001b[0m\u001b[0;34m\u001b[0m\u001b[0;34m\u001b[0m\u001b[0m\n\u001b[1;32m    244\u001b[0m                              \u001b[0mixpr\u001b[0m\u001b[0;34m,\u001b[0m \u001b[0mmxstep\u001b[0m\u001b[0;34m,\u001b[0m \u001b[0mmxhnil\u001b[0m\u001b[0;34m,\u001b[0m \u001b[0mmxordn\u001b[0m\u001b[0;34m,\u001b[0m \u001b[0mmxords\u001b[0m\u001b[0;34m,\u001b[0m\u001b[0;34m\u001b[0m\u001b[0;34m\u001b[0m\u001b[0m\n\u001b[0;32m--> 245\u001b[0;31m                              int(bool(tfirst)))\n\u001b[0m\u001b[1;32m    246\u001b[0m     \u001b[0;32mif\u001b[0m \u001b[0moutput\u001b[0m\u001b[0;34m[\u001b[0m\u001b[0;34m-\u001b[0m\u001b[0;36m1\u001b[0m\u001b[0;34m]\u001b[0m \u001b[0;34m<\u001b[0m \u001b[0;36m0\u001b[0m\u001b[0;34m:\u001b[0m\u001b[0;34m\u001b[0m\u001b[0;34m\u001b[0m\u001b[0m\n\u001b[1;32m    247\u001b[0m         \u001b[0mwarning_msg\u001b[0m \u001b[0;34m=\u001b[0m \u001b[0m_msgs\u001b[0m\u001b[0;34m[\u001b[0m\u001b[0moutput\u001b[0m\u001b[0;34m[\u001b[0m\u001b[0;34m-\u001b[0m\u001b[0;36m1\u001b[0m\u001b[0;34m]\u001b[0m\u001b[0;34m]\u001b[0m \u001b[0;34m+\u001b[0m \u001b[0;34m\" Run with full_output = 1 to get quantitative information.\"\u001b[0m\u001b[0;34m\u001b[0m\u001b[0;34m\u001b[0m\u001b[0m\n",
      "\u001b[0;32m<ipython-input-169-9792c59f36c0>\u001b[0m in \u001b[0;36mf\u001b[0;34m(_vars_values, time)\u001b[0m\n\u001b[1;32m      1\u001b[0m \u001b[0;32mdef\u001b[0m \u001b[0mf\u001b[0m\u001b[0;34m(\u001b[0m\u001b[0m_vars_values\u001b[0m\u001b[0;34m,\u001b[0m \u001b[0mtime\u001b[0m\u001b[0;34m)\u001b[0m\u001b[0;34m:\u001b[0m\u001b[0;34m\u001b[0m\u001b[0;34m\u001b[0m\u001b[0m\n\u001b[0;32m----> 2\u001b[0;31m     \u001b[0;32mreturn\u001b[0m \u001b[0;34m[\u001b[0m\u001b[0mlambdify\u001b[0m\u001b[0;34m(\u001b[0m\u001b[0m_vars\u001b[0m\u001b[0;34m,\u001b[0m \u001b[0m_eq\u001b[0m\u001b[0;34m,\u001b[0m \u001b[0;34m'numpy'\u001b[0m\u001b[0;34m)\u001b[0m\u001b[0;34m(\u001b[0m\u001b[0;34m*\u001b[0m\u001b[0m_vars_values\u001b[0m\u001b[0;34m,\u001b[0m \u001b[0mtime\u001b[0m\u001b[0;34m)\u001b[0m \u001b[0;32mfor\u001b[0m \u001b[0m_eq\u001b[0m \u001b[0;32min\u001b[0m \u001b[0m_eqs\u001b[0m\u001b[0;34m]\u001b[0m\u001b[0;34m\u001b[0m\u001b[0;34m\u001b[0m\u001b[0m\n\u001b[0m",
      "\u001b[0;32m<ipython-input-169-9792c59f36c0>\u001b[0m in \u001b[0;36m<listcomp>\u001b[0;34m(.0)\u001b[0m\n\u001b[1;32m      1\u001b[0m \u001b[0;32mdef\u001b[0m \u001b[0mf\u001b[0m\u001b[0;34m(\u001b[0m\u001b[0m_vars_values\u001b[0m\u001b[0;34m,\u001b[0m \u001b[0mtime\u001b[0m\u001b[0;34m)\u001b[0m\u001b[0;34m:\u001b[0m\u001b[0;34m\u001b[0m\u001b[0;34m\u001b[0m\u001b[0m\n\u001b[0;32m----> 2\u001b[0;31m     \u001b[0;32mreturn\u001b[0m \u001b[0;34m[\u001b[0m\u001b[0mlambdify\u001b[0m\u001b[0;34m(\u001b[0m\u001b[0m_vars\u001b[0m\u001b[0;34m,\u001b[0m \u001b[0m_eq\u001b[0m\u001b[0;34m,\u001b[0m \u001b[0;34m'numpy'\u001b[0m\u001b[0;34m)\u001b[0m\u001b[0;34m(\u001b[0m\u001b[0;34m*\u001b[0m\u001b[0m_vars_values\u001b[0m\u001b[0;34m,\u001b[0m \u001b[0mtime\u001b[0m\u001b[0;34m)\u001b[0m \u001b[0;32mfor\u001b[0m \u001b[0m_eq\u001b[0m \u001b[0;32min\u001b[0m \u001b[0m_eqs\u001b[0m\u001b[0;34m]\u001b[0m\u001b[0;34m\u001b[0m\u001b[0;34m\u001b[0m\u001b[0m\n\u001b[0m",
      "\u001b[0;32m~/Documents/Course/venv/lib/python3.7/site-packages/sympy/utilities/lambdify.py\u001b[0m in \u001b[0;36mlambdify\u001b[0;34m(args, expr, modules, printer, use_imps, dummify)\u001b[0m\n\u001b[1;32m    775\u001b[0m     \u001b[0;32melse\u001b[0m\u001b[0;34m:\u001b[0m\u001b[0;34m\u001b[0m\u001b[0;34m\u001b[0m\u001b[0m\n\u001b[1;32m    776\u001b[0m         \u001b[0mfuncprinter\u001b[0m \u001b[0;34m=\u001b[0m \u001b[0m_EvaluatorPrinter\u001b[0m\u001b[0;34m(\u001b[0m\u001b[0mprinter\u001b[0m\u001b[0;34m,\u001b[0m \u001b[0mdummify\u001b[0m\u001b[0;34m)\u001b[0m\u001b[0;34m\u001b[0m\u001b[0;34m\u001b[0m\u001b[0m\n\u001b[0;32m--> 777\u001b[0;31m     \u001b[0mfuncstr\u001b[0m \u001b[0;34m=\u001b[0m \u001b[0mfuncprinter\u001b[0m\u001b[0;34m.\u001b[0m\u001b[0mdoprint\u001b[0m\u001b[0;34m(\u001b[0m\u001b[0mfuncname\u001b[0m\u001b[0;34m,\u001b[0m \u001b[0margs\u001b[0m\u001b[0;34m,\u001b[0m \u001b[0mexpr\u001b[0m\u001b[0;34m)\u001b[0m\u001b[0;34m\u001b[0m\u001b[0;34m\u001b[0m\u001b[0m\n\u001b[0m\u001b[1;32m    778\u001b[0m \u001b[0;34m\u001b[0m\u001b[0m\n\u001b[1;32m    779\u001b[0m     \u001b[0;31m# Collect the module imports from the code printers.\u001b[0m\u001b[0;34m\u001b[0m\u001b[0;34m\u001b[0m\u001b[0;34m\u001b[0m\u001b[0m\n",
      "\u001b[0;32m~/Documents/Course/venv/lib/python3.7/site-packages/sympy/utilities/lambdify.py\u001b[0m in \u001b[0;36mdoprint\u001b[0;34m(self, funcname, args, expr)\u001b[0m\n\u001b[1;32m   1024\u001b[0m         \u001b[0mfuncbody\u001b[0m\u001b[0;34m.\u001b[0m\u001b[0mextend\u001b[0m\u001b[0;34m(\u001b[0m\u001b[0munpackings\u001b[0m\u001b[0;34m)\u001b[0m\u001b[0;34m\u001b[0m\u001b[0;34m\u001b[0m\u001b[0m\n\u001b[1;32m   1025\u001b[0m \u001b[0;34m\u001b[0m\u001b[0m\n\u001b[0;32m-> 1026\u001b[0;31m         \u001b[0mfuncbody\u001b[0m\u001b[0;34m.\u001b[0m\u001b[0mappend\u001b[0m\u001b[0;34m(\u001b[0m\u001b[0;34m'return ({})'\u001b[0m\u001b[0;34m.\u001b[0m\u001b[0mformat\u001b[0m\u001b[0;34m(\u001b[0m\u001b[0mself\u001b[0m\u001b[0;34m.\u001b[0m\u001b[0m_exprrepr\u001b[0m\u001b[0;34m(\u001b[0m\u001b[0mexpr\u001b[0m\u001b[0;34m)\u001b[0m\u001b[0;34m)\u001b[0m\u001b[0;34m)\u001b[0m\u001b[0;34m\u001b[0m\u001b[0;34m\u001b[0m\u001b[0m\n\u001b[0m\u001b[1;32m   1027\u001b[0m \u001b[0;34m\u001b[0m\u001b[0m\n\u001b[1;32m   1028\u001b[0m         \u001b[0mfunclines\u001b[0m \u001b[0;34m=\u001b[0m \u001b[0;34m[\u001b[0m\u001b[0mfuncsig\u001b[0m\u001b[0;34m]\u001b[0m\u001b[0;34m\u001b[0m\u001b[0;34m\u001b[0m\u001b[0m\n",
      "\u001b[0;32m~/Documents/Course/venv/lib/python3.7/site-packages/sympy/printing/codeprinter.py\u001b[0m in \u001b[0;36mdoprint\u001b[0;34m(self, expr, assign_to)\u001b[0m\n\u001b[1;32m    106\u001b[0m         \u001b[0mself\u001b[0m\u001b[0;34m.\u001b[0m\u001b[0m_number_symbols\u001b[0m \u001b[0;34m=\u001b[0m \u001b[0mset\u001b[0m\u001b[0;34m(\u001b[0m\u001b[0;34m)\u001b[0m\u001b[0;34m\u001b[0m\u001b[0;34m\u001b[0m\u001b[0m\n\u001b[1;32m    107\u001b[0m \u001b[0;34m\u001b[0m\u001b[0m\n\u001b[0;32m--> 108\u001b[0;31m         \u001b[0mlines\u001b[0m \u001b[0;34m=\u001b[0m \u001b[0mself\u001b[0m\u001b[0;34m.\u001b[0m\u001b[0m_print\u001b[0m\u001b[0;34m(\u001b[0m\u001b[0mexpr\u001b[0m\u001b[0;34m)\u001b[0m\u001b[0;34m.\u001b[0m\u001b[0msplitlines\u001b[0m\u001b[0;34m(\u001b[0m\u001b[0;34m)\u001b[0m\u001b[0;34m\u001b[0m\u001b[0;34m\u001b[0m\u001b[0m\n\u001b[0m\u001b[1;32m    109\u001b[0m \u001b[0;34m\u001b[0m\u001b[0m\n\u001b[1;32m    110\u001b[0m         \u001b[0;31m# format the output\u001b[0m\u001b[0;34m\u001b[0m\u001b[0;34m\u001b[0m\u001b[0;34m\u001b[0m\u001b[0m\n",
      "\u001b[0;32m~/Documents/Course/venv/lib/python3.7/site-packages/sympy/printing/printer.py\u001b[0m in \u001b[0;36m_print\u001b[0;34m(self, expr, **kwargs)\u001b[0m\n\u001b[1;32m    285\u001b[0m                 \u001b[0mprintmethod\u001b[0m \u001b[0;34m=\u001b[0m \u001b[0;34m'_print_'\u001b[0m \u001b[0;34m+\u001b[0m \u001b[0mcls\u001b[0m\u001b[0;34m.\u001b[0m\u001b[0m__name__\u001b[0m\u001b[0;34m\u001b[0m\u001b[0;34m\u001b[0m\u001b[0m\n\u001b[1;32m    286\u001b[0m                 \u001b[0;32mif\u001b[0m \u001b[0mhasattr\u001b[0m\u001b[0;34m(\u001b[0m\u001b[0mself\u001b[0m\u001b[0;34m,\u001b[0m \u001b[0mprintmethod\u001b[0m\u001b[0;34m)\u001b[0m\u001b[0;34m:\u001b[0m\u001b[0;34m\u001b[0m\u001b[0;34m\u001b[0m\u001b[0m\n\u001b[0;32m--> 287\u001b[0;31m                     \u001b[0;32mreturn\u001b[0m \u001b[0mgetattr\u001b[0m\u001b[0;34m(\u001b[0m\u001b[0mself\u001b[0m\u001b[0;34m,\u001b[0m \u001b[0mprintmethod\u001b[0m\u001b[0;34m)\u001b[0m\u001b[0;34m(\u001b[0m\u001b[0mexpr\u001b[0m\u001b[0;34m,\u001b[0m \u001b[0;34m**\u001b[0m\u001b[0mkwargs\u001b[0m\u001b[0;34m)\u001b[0m\u001b[0;34m\u001b[0m\u001b[0;34m\u001b[0m\u001b[0m\n\u001b[0m\u001b[1;32m    288\u001b[0m             \u001b[0;31m# Unknown object, fall back to the emptyPrinter. Checks what type of\u001b[0m\u001b[0;34m\u001b[0m\u001b[0;34m\u001b[0m\u001b[0;34m\u001b[0m\u001b[0m\n\u001b[1;32m    289\u001b[0m             \u001b[0;31m# decimal separator to print.\u001b[0m\u001b[0;34m\u001b[0m\u001b[0;34m\u001b[0m\u001b[0;34m\u001b[0m\u001b[0m\n",
      "\u001b[0;32m~/Documents/Course/venv/lib/python3.7/site-packages/sympy/printing/codeprinter.py\u001b[0m in \u001b[0;36m_print_Mul\u001b[0;34m(self, expr)\u001b[0m\n\u001b[1;32m    485\u001b[0m         \u001b[0ma\u001b[0m \u001b[0;34m=\u001b[0m \u001b[0ma\u001b[0m \u001b[0;32mor\u001b[0m \u001b[0;34m[\u001b[0m\u001b[0mS\u001b[0m\u001b[0;34m.\u001b[0m\u001b[0mOne\u001b[0m\u001b[0;34m]\u001b[0m\u001b[0;34m\u001b[0m\u001b[0;34m\u001b[0m\u001b[0m\n\u001b[1;32m    486\u001b[0m \u001b[0;34m\u001b[0m\u001b[0m\n\u001b[0;32m--> 487\u001b[0;31m         \u001b[0ma_str\u001b[0m \u001b[0;34m=\u001b[0m \u001b[0;34m[\u001b[0m\u001b[0mself\u001b[0m\u001b[0;34m.\u001b[0m\u001b[0mparenthesize\u001b[0m\u001b[0;34m(\u001b[0m\u001b[0mx\u001b[0m\u001b[0;34m,\u001b[0m \u001b[0mprec\u001b[0m\u001b[0;34m)\u001b[0m \u001b[0;32mfor\u001b[0m \u001b[0mx\u001b[0m \u001b[0;32min\u001b[0m \u001b[0ma\u001b[0m\u001b[0;34m]\u001b[0m\u001b[0;34m\u001b[0m\u001b[0;34m\u001b[0m\u001b[0m\n\u001b[0m\u001b[1;32m    488\u001b[0m         \u001b[0mb_str\u001b[0m \u001b[0;34m=\u001b[0m \u001b[0;34m[\u001b[0m\u001b[0mself\u001b[0m\u001b[0;34m.\u001b[0m\u001b[0mparenthesize\u001b[0m\u001b[0;34m(\u001b[0m\u001b[0mx\u001b[0m\u001b[0;34m,\u001b[0m \u001b[0mprec\u001b[0m\u001b[0;34m)\u001b[0m \u001b[0;32mfor\u001b[0m \u001b[0mx\u001b[0m \u001b[0;32min\u001b[0m \u001b[0mb\u001b[0m\u001b[0;34m]\u001b[0m\u001b[0;34m\u001b[0m\u001b[0;34m\u001b[0m\u001b[0m\n\u001b[1;32m    489\u001b[0m \u001b[0;34m\u001b[0m\u001b[0m\n",
      "\u001b[0;32m~/Documents/Course/venv/lib/python3.7/site-packages/sympy/printing/codeprinter.py\u001b[0m in \u001b[0;36m<listcomp>\u001b[0;34m(.0)\u001b[0m\n\u001b[1;32m    485\u001b[0m         \u001b[0ma\u001b[0m \u001b[0;34m=\u001b[0m \u001b[0ma\u001b[0m \u001b[0;32mor\u001b[0m \u001b[0;34m[\u001b[0m\u001b[0mS\u001b[0m\u001b[0;34m.\u001b[0m\u001b[0mOne\u001b[0m\u001b[0;34m]\u001b[0m\u001b[0;34m\u001b[0m\u001b[0;34m\u001b[0m\u001b[0m\n\u001b[1;32m    486\u001b[0m \u001b[0;34m\u001b[0m\u001b[0m\n\u001b[0;32m--> 487\u001b[0;31m         \u001b[0ma_str\u001b[0m \u001b[0;34m=\u001b[0m \u001b[0;34m[\u001b[0m\u001b[0mself\u001b[0m\u001b[0;34m.\u001b[0m\u001b[0mparenthesize\u001b[0m\u001b[0;34m(\u001b[0m\u001b[0mx\u001b[0m\u001b[0;34m,\u001b[0m \u001b[0mprec\u001b[0m\u001b[0;34m)\u001b[0m \u001b[0;32mfor\u001b[0m \u001b[0mx\u001b[0m \u001b[0;32min\u001b[0m \u001b[0ma\u001b[0m\u001b[0;34m]\u001b[0m\u001b[0;34m\u001b[0m\u001b[0;34m\u001b[0m\u001b[0m\n\u001b[0m\u001b[1;32m    488\u001b[0m         \u001b[0mb_str\u001b[0m \u001b[0;34m=\u001b[0m \u001b[0;34m[\u001b[0m\u001b[0mself\u001b[0m\u001b[0;34m.\u001b[0m\u001b[0mparenthesize\u001b[0m\u001b[0;34m(\u001b[0m\u001b[0mx\u001b[0m\u001b[0;34m,\u001b[0m \u001b[0mprec\u001b[0m\u001b[0;34m)\u001b[0m \u001b[0;32mfor\u001b[0m \u001b[0mx\u001b[0m \u001b[0;32min\u001b[0m \u001b[0mb\u001b[0m\u001b[0;34m]\u001b[0m\u001b[0;34m\u001b[0m\u001b[0;34m\u001b[0m\u001b[0m\n\u001b[1;32m    489\u001b[0m \u001b[0;34m\u001b[0m\u001b[0m\n",
      "\u001b[0;32m~/Documents/Course/venv/lib/python3.7/site-packages/sympy/printing/str.py\u001b[0m in \u001b[0;36mparenthesize\u001b[0;34m(self, item, level, strict)\u001b[0m\n\u001b[1;32m     29\u001b[0m     \u001b[0;32mdef\u001b[0m \u001b[0mparenthesize\u001b[0m\u001b[0;34m(\u001b[0m\u001b[0mself\u001b[0m\u001b[0;34m,\u001b[0m \u001b[0mitem\u001b[0m\u001b[0;34m,\u001b[0m \u001b[0mlevel\u001b[0m\u001b[0;34m,\u001b[0m \u001b[0mstrict\u001b[0m\u001b[0;34m=\u001b[0m\u001b[0;32mFalse\u001b[0m\u001b[0;34m)\u001b[0m\u001b[0;34m:\u001b[0m\u001b[0;34m\u001b[0m\u001b[0;34m\u001b[0m\u001b[0m\n\u001b[1;32m     30\u001b[0m         \u001b[0;32mif\u001b[0m \u001b[0;34m(\u001b[0m\u001b[0mprecedence\u001b[0m\u001b[0;34m(\u001b[0m\u001b[0mitem\u001b[0m\u001b[0;34m)\u001b[0m \u001b[0;34m<\u001b[0m \u001b[0mlevel\u001b[0m\u001b[0;34m)\u001b[0m \u001b[0;32mor\u001b[0m \u001b[0;34m(\u001b[0m\u001b[0;34m(\u001b[0m\u001b[0;32mnot\u001b[0m \u001b[0mstrict\u001b[0m\u001b[0;34m)\u001b[0m \u001b[0;32mand\u001b[0m \u001b[0mprecedence\u001b[0m\u001b[0;34m(\u001b[0m\u001b[0mitem\u001b[0m\u001b[0;34m)\u001b[0m \u001b[0;34m<=\u001b[0m \u001b[0mlevel\u001b[0m\u001b[0;34m)\u001b[0m\u001b[0;34m:\u001b[0m\u001b[0;34m\u001b[0m\u001b[0;34m\u001b[0m\u001b[0m\n\u001b[0;32m---> 31\u001b[0;31m             \u001b[0;32mreturn\u001b[0m \u001b[0;34m\"(%s)\"\u001b[0m \u001b[0;34m%\u001b[0m \u001b[0mself\u001b[0m\u001b[0;34m.\u001b[0m\u001b[0m_print\u001b[0m\u001b[0;34m(\u001b[0m\u001b[0mitem\u001b[0m\u001b[0;34m)\u001b[0m\u001b[0;34m\u001b[0m\u001b[0;34m\u001b[0m\u001b[0m\n\u001b[0m\u001b[1;32m     32\u001b[0m         \u001b[0;32melse\u001b[0m\u001b[0;34m:\u001b[0m\u001b[0;34m\u001b[0m\u001b[0;34m\u001b[0m\u001b[0m\n\u001b[1;32m     33\u001b[0m             \u001b[0;32mreturn\u001b[0m \u001b[0mself\u001b[0m\u001b[0;34m.\u001b[0m\u001b[0m_print\u001b[0m\u001b[0;34m(\u001b[0m\u001b[0mitem\u001b[0m\u001b[0;34m)\u001b[0m\u001b[0;34m\u001b[0m\u001b[0;34m\u001b[0m\u001b[0m\n",
      "\u001b[0;32m~/Documents/Course/venv/lib/python3.7/site-packages/sympy/printing/printer.py\u001b[0m in \u001b[0;36m_print\u001b[0;34m(self, expr, **kwargs)\u001b[0m\n\u001b[1;32m    285\u001b[0m                 \u001b[0mprintmethod\u001b[0m \u001b[0;34m=\u001b[0m \u001b[0;34m'_print_'\u001b[0m \u001b[0;34m+\u001b[0m \u001b[0mcls\u001b[0m\u001b[0;34m.\u001b[0m\u001b[0m__name__\u001b[0m\u001b[0;34m\u001b[0m\u001b[0;34m\u001b[0m\u001b[0m\n\u001b[1;32m    286\u001b[0m                 \u001b[0;32mif\u001b[0m \u001b[0mhasattr\u001b[0m\u001b[0;34m(\u001b[0m\u001b[0mself\u001b[0m\u001b[0;34m,\u001b[0m \u001b[0mprintmethod\u001b[0m\u001b[0;34m)\u001b[0m\u001b[0;34m:\u001b[0m\u001b[0;34m\u001b[0m\u001b[0;34m\u001b[0m\u001b[0m\n\u001b[0;32m--> 287\u001b[0;31m                     \u001b[0;32mreturn\u001b[0m \u001b[0mgetattr\u001b[0m\u001b[0;34m(\u001b[0m\u001b[0mself\u001b[0m\u001b[0;34m,\u001b[0m \u001b[0mprintmethod\u001b[0m\u001b[0;34m)\u001b[0m\u001b[0;34m(\u001b[0m\u001b[0mexpr\u001b[0m\u001b[0;34m,\u001b[0m \u001b[0;34m**\u001b[0m\u001b[0mkwargs\u001b[0m\u001b[0;34m)\u001b[0m\u001b[0;34m\u001b[0m\u001b[0;34m\u001b[0m\u001b[0m\n\u001b[0m\u001b[1;32m    288\u001b[0m             \u001b[0;31m# Unknown object, fall back to the emptyPrinter. Checks what type of\u001b[0m\u001b[0;34m\u001b[0m\u001b[0;34m\u001b[0m\u001b[0;34m\u001b[0m\u001b[0m\n\u001b[1;32m    289\u001b[0m             \u001b[0;31m# decimal separator to print.\u001b[0m\u001b[0;34m\u001b[0m\u001b[0;34m\u001b[0m\u001b[0;34m\u001b[0m\u001b[0m\n",
      "\u001b[0;32m~/Documents/Course/venv/lib/python3.7/site-packages/sympy/printing/str.py\u001b[0m in \u001b[0;36m_print_Add\u001b[0;34m(self, expr, order)\u001b[0m\n\u001b[1;32m     53\u001b[0m         \u001b[0ml\u001b[0m \u001b[0;34m=\u001b[0m \u001b[0;34m[\u001b[0m\u001b[0;34m]\u001b[0m\u001b[0;34m\u001b[0m\u001b[0;34m\u001b[0m\u001b[0m\n\u001b[1;32m     54\u001b[0m         \u001b[0;32mfor\u001b[0m \u001b[0mterm\u001b[0m \u001b[0;32min\u001b[0m \u001b[0mterms\u001b[0m\u001b[0;34m:\u001b[0m\u001b[0;34m\u001b[0m\u001b[0;34m\u001b[0m\u001b[0m\n\u001b[0;32m---> 55\u001b[0;31m             \u001b[0mt\u001b[0m \u001b[0;34m=\u001b[0m \u001b[0mself\u001b[0m\u001b[0;34m.\u001b[0m\u001b[0m_print\u001b[0m\u001b[0;34m(\u001b[0m\u001b[0mterm\u001b[0m\u001b[0;34m)\u001b[0m\u001b[0;34m\u001b[0m\u001b[0;34m\u001b[0m\u001b[0m\n\u001b[0m\u001b[1;32m     56\u001b[0m             \u001b[0;32mif\u001b[0m \u001b[0mt\u001b[0m\u001b[0;34m.\u001b[0m\u001b[0mstartswith\u001b[0m\u001b[0;34m(\u001b[0m\u001b[0;34m'-'\u001b[0m\u001b[0;34m)\u001b[0m\u001b[0;34m:\u001b[0m\u001b[0;34m\u001b[0m\u001b[0;34m\u001b[0m\u001b[0m\n\u001b[1;32m     57\u001b[0m                 \u001b[0msign\u001b[0m \u001b[0;34m=\u001b[0m \u001b[0;34m\"-\"\u001b[0m\u001b[0;34m\u001b[0m\u001b[0;34m\u001b[0m\u001b[0m\n",
      "\u001b[0;32m~/Documents/Course/venv/lib/python3.7/site-packages/sympy/printing/printer.py\u001b[0m in \u001b[0;36m_print\u001b[0;34m(self, expr, **kwargs)\u001b[0m\n\u001b[1;32m    285\u001b[0m                 \u001b[0mprintmethod\u001b[0m \u001b[0;34m=\u001b[0m \u001b[0;34m'_print_'\u001b[0m \u001b[0;34m+\u001b[0m \u001b[0mcls\u001b[0m\u001b[0;34m.\u001b[0m\u001b[0m__name__\u001b[0m\u001b[0;34m\u001b[0m\u001b[0;34m\u001b[0m\u001b[0m\n\u001b[1;32m    286\u001b[0m                 \u001b[0;32mif\u001b[0m \u001b[0mhasattr\u001b[0m\u001b[0;34m(\u001b[0m\u001b[0mself\u001b[0m\u001b[0;34m,\u001b[0m \u001b[0mprintmethod\u001b[0m\u001b[0;34m)\u001b[0m\u001b[0;34m:\u001b[0m\u001b[0;34m\u001b[0m\u001b[0;34m\u001b[0m\u001b[0m\n\u001b[0;32m--> 287\u001b[0;31m                     \u001b[0;32mreturn\u001b[0m \u001b[0mgetattr\u001b[0m\u001b[0;34m(\u001b[0m\u001b[0mself\u001b[0m\u001b[0;34m,\u001b[0m \u001b[0mprintmethod\u001b[0m\u001b[0;34m)\u001b[0m\u001b[0;34m(\u001b[0m\u001b[0mexpr\u001b[0m\u001b[0;34m,\u001b[0m \u001b[0;34m**\u001b[0m\u001b[0mkwargs\u001b[0m\u001b[0;34m)\u001b[0m\u001b[0;34m\u001b[0m\u001b[0;34m\u001b[0m\u001b[0m\n\u001b[0m\u001b[1;32m    288\u001b[0m             \u001b[0;31m# Unknown object, fall back to the emptyPrinter. Checks what type of\u001b[0m\u001b[0;34m\u001b[0m\u001b[0;34m\u001b[0m\u001b[0;34m\u001b[0m\u001b[0m\n\u001b[1;32m    289\u001b[0m             \u001b[0;31m# decimal separator to print.\u001b[0m\u001b[0;34m\u001b[0m\u001b[0;34m\u001b[0m\u001b[0;34m\u001b[0m\u001b[0m\n",
      "\u001b[0;32m~/Documents/Course/venv/lib/python3.7/site-packages/sympy/printing/codeprinter.py\u001b[0m in \u001b[0;36m_print_Mul\u001b[0;34m(self, expr)\u001b[0m\n\u001b[1;32m    466\u001b[0m \u001b[0;34m\u001b[0m\u001b[0m\n\u001b[1;32m    467\u001b[0m         \u001b[0;32mif\u001b[0m \u001b[0mself\u001b[0m\u001b[0;34m.\u001b[0m\u001b[0morder\u001b[0m \u001b[0;32mnot\u001b[0m \u001b[0;32min\u001b[0m \u001b[0;34m(\u001b[0m\u001b[0;34m'old'\u001b[0m\u001b[0;34m,\u001b[0m \u001b[0;34m'none'\u001b[0m\u001b[0;34m)\u001b[0m\u001b[0;34m:\u001b[0m\u001b[0;34m\u001b[0m\u001b[0;34m\u001b[0m\u001b[0m\n\u001b[0;32m--> 468\u001b[0;31m             \u001b[0margs\u001b[0m \u001b[0;34m=\u001b[0m \u001b[0mexpr\u001b[0m\u001b[0;34m.\u001b[0m\u001b[0mas_ordered_factors\u001b[0m\u001b[0;34m(\u001b[0m\u001b[0;34m)\u001b[0m\u001b[0;34m\u001b[0m\u001b[0;34m\u001b[0m\u001b[0m\n\u001b[0m\u001b[1;32m    469\u001b[0m         \u001b[0;32melse\u001b[0m\u001b[0;34m:\u001b[0m\u001b[0;34m\u001b[0m\u001b[0;34m\u001b[0m\u001b[0m\n\u001b[1;32m    470\u001b[0m             \u001b[0;31m# use make_args in case expr was something like -x -> x\u001b[0m\u001b[0;34m\u001b[0m\u001b[0;34m\u001b[0m\u001b[0;34m\u001b[0m\u001b[0m\n",
      "\u001b[0;32m~/Documents/Course/venv/lib/python3.7/site-packages/sympy/core/mul.py\u001b[0m in \u001b[0;36mas_ordered_factors\u001b[0;34m(self, order)\u001b[0m\n\u001b[1;32m   1810\u001b[0m \u001b[0;34m\u001b[0m\u001b[0m\n\u001b[1;32m   1811\u001b[0m         \"\"\"\n\u001b[0;32m-> 1812\u001b[0;31m         \u001b[0mcpart\u001b[0m\u001b[0;34m,\u001b[0m \u001b[0mncpart\u001b[0m \u001b[0;34m=\u001b[0m \u001b[0mself\u001b[0m\u001b[0;34m.\u001b[0m\u001b[0margs_cnc\u001b[0m\u001b[0;34m(\u001b[0m\u001b[0;34m)\u001b[0m\u001b[0;34m\u001b[0m\u001b[0;34m\u001b[0m\u001b[0m\n\u001b[0m\u001b[1;32m   1813\u001b[0m         \u001b[0mcpart\u001b[0m\u001b[0;34m.\u001b[0m\u001b[0msort\u001b[0m\u001b[0;34m(\u001b[0m\u001b[0mkey\u001b[0m\u001b[0;34m=\u001b[0m\u001b[0;32mlambda\u001b[0m \u001b[0mexpr\u001b[0m\u001b[0;34m:\u001b[0m \u001b[0mexpr\u001b[0m\u001b[0;34m.\u001b[0m\u001b[0msort_key\u001b[0m\u001b[0;34m(\u001b[0m\u001b[0morder\u001b[0m\u001b[0;34m=\u001b[0m\u001b[0morder\u001b[0m\u001b[0;34m)\u001b[0m\u001b[0;34m)\u001b[0m\u001b[0;34m\u001b[0m\u001b[0;34m\u001b[0m\u001b[0m\n\u001b[1;32m   1814\u001b[0m         \u001b[0;32mreturn\u001b[0m \u001b[0mcpart\u001b[0m \u001b[0;34m+\u001b[0m \u001b[0mncpart\u001b[0m\u001b[0;34m\u001b[0m\u001b[0;34m\u001b[0m\u001b[0m\n",
      "\u001b[0;32m~/Documents/Course/venv/lib/python3.7/site-packages/sympy/core/expr.py\u001b[0m in \u001b[0;36margs_cnc\u001b[0;34m(self, cset, warn, split_1)\u001b[0m\n\u001b[1;32m   1291\u001b[0m         if c and split_1 and (\n\u001b[1;32m   1292\u001b[0m             \u001b[0mc\u001b[0m\u001b[0;34m[\u001b[0m\u001b[0;36m0\u001b[0m\u001b[0;34m]\u001b[0m\u001b[0;34m.\u001b[0m\u001b[0mis_Number\u001b[0m \u001b[0;32mand\u001b[0m\u001b[0;34m\u001b[0m\u001b[0;34m\u001b[0m\u001b[0m\n\u001b[0;32m-> 1293\u001b[0;31m             \u001b[0mc\u001b[0m\u001b[0;34m[\u001b[0m\u001b[0;36m0\u001b[0m\u001b[0;34m]\u001b[0m\u001b[0;34m.\u001b[0m\u001b[0mis_extended_negative\u001b[0m \u001b[0;32mand\u001b[0m\u001b[0;34m\u001b[0m\u001b[0;34m\u001b[0m\u001b[0m\n\u001b[0m\u001b[1;32m   1294\u001b[0m                 c[0] is not S.NegativeOne):\n\u001b[1;32m   1295\u001b[0m             \u001b[0mc\u001b[0m\u001b[0;34m[\u001b[0m\u001b[0;34m:\u001b[0m\u001b[0;36m1\u001b[0m\u001b[0;34m]\u001b[0m \u001b[0;34m=\u001b[0m \u001b[0;34m[\u001b[0m\u001b[0mS\u001b[0m\u001b[0;34m.\u001b[0m\u001b[0mNegativeOne\u001b[0m\u001b[0;34m,\u001b[0m \u001b[0;34m-\u001b[0m\u001b[0mc\u001b[0m\u001b[0;34m[\u001b[0m\u001b[0;36m0\u001b[0m\u001b[0;34m]\u001b[0m\u001b[0;34m]\u001b[0m\u001b[0;34m\u001b[0m\u001b[0;34m\u001b[0m\u001b[0m\n",
      "\u001b[0;32m~/Documents/Course/venv/lib/python3.7/site-packages/sympy/core/assumptions.py\u001b[0m in \u001b[0;36mgetit\u001b[0;34m(self)\u001b[0m\n\u001b[1;32m    264\u001b[0m             \u001b[0;32mif\u001b[0m \u001b[0mself\u001b[0m\u001b[0;34m.\u001b[0m\u001b[0m_assumptions\u001b[0m \u001b[0;32mis\u001b[0m \u001b[0mself\u001b[0m\u001b[0;34m.\u001b[0m\u001b[0mdefault_assumptions\u001b[0m\u001b[0;34m:\u001b[0m\u001b[0;34m\u001b[0m\u001b[0;34m\u001b[0m\u001b[0m\n\u001b[1;32m    265\u001b[0m                 \u001b[0mself\u001b[0m\u001b[0;34m.\u001b[0m\u001b[0m_assumptions\u001b[0m \u001b[0;34m=\u001b[0m \u001b[0mself\u001b[0m\u001b[0;34m.\u001b[0m\u001b[0mdefault_assumptions\u001b[0m\u001b[0;34m.\u001b[0m\u001b[0mcopy\u001b[0m\u001b[0;34m(\u001b[0m\u001b[0;34m)\u001b[0m\u001b[0;34m\u001b[0m\u001b[0;34m\u001b[0m\u001b[0m\n\u001b[0;32m--> 266\u001b[0;31m             \u001b[0;32mreturn\u001b[0m \u001b[0m_ask\u001b[0m\u001b[0;34m(\u001b[0m\u001b[0mfact\u001b[0m\u001b[0;34m,\u001b[0m \u001b[0mself\u001b[0m\u001b[0;34m)\u001b[0m\u001b[0;34m\u001b[0m\u001b[0;34m\u001b[0m\u001b[0m\n\u001b[0m\u001b[1;32m    267\u001b[0m \u001b[0;34m\u001b[0m\u001b[0m\n\u001b[1;32m    268\u001b[0m     \u001b[0mgetit\u001b[0m\u001b[0;34m.\u001b[0m\u001b[0mfunc_name\u001b[0m \u001b[0;34m=\u001b[0m \u001b[0mas_property\u001b[0m\u001b[0;34m(\u001b[0m\u001b[0mfact\u001b[0m\u001b[0;34m)\u001b[0m\u001b[0;34m\u001b[0m\u001b[0;34m\u001b[0m\u001b[0m\n",
      "\u001b[0;32m~/Documents/Course/venv/lib/python3.7/site-packages/sympy/core/assumptions.py\u001b[0m in \u001b[0;36m_ask\u001b[0;34m(fact, obj)\u001b[0m\n\u001b[1;32m    309\u001b[0m         \u001b[0ma\u001b[0m \u001b[0;34m=\u001b[0m \u001b[0mevaluate\u001b[0m\u001b[0;34m(\u001b[0m\u001b[0mobj\u001b[0m\u001b[0;34m)\u001b[0m\u001b[0;34m\u001b[0m\u001b[0;34m\u001b[0m\u001b[0m\n\u001b[1;32m    310\u001b[0m         \u001b[0;32mif\u001b[0m \u001b[0ma\u001b[0m \u001b[0;32mis\u001b[0m \u001b[0;32mnot\u001b[0m \u001b[0;32mNone\u001b[0m\u001b[0;34m:\u001b[0m\u001b[0;34m\u001b[0m\u001b[0;34m\u001b[0m\u001b[0m\n\u001b[0;32m--> 311\u001b[0;31m             \u001b[0massumptions\u001b[0m\u001b[0;34m.\u001b[0m\u001b[0mdeduce_all_facts\u001b[0m\u001b[0;34m(\u001b[0m\u001b[0;34m(\u001b[0m\u001b[0;34m(\u001b[0m\u001b[0mfact\u001b[0m\u001b[0;34m,\u001b[0m \u001b[0ma\u001b[0m\u001b[0;34m)\u001b[0m\u001b[0;34m,\u001b[0m\u001b[0;34m)\u001b[0m\u001b[0;34m)\u001b[0m\u001b[0;34m\u001b[0m\u001b[0;34m\u001b[0m\u001b[0m\n\u001b[0m\u001b[1;32m    312\u001b[0m             \u001b[0;32mreturn\u001b[0m \u001b[0ma\u001b[0m\u001b[0;34m\u001b[0m\u001b[0;34m\u001b[0m\u001b[0m\n\u001b[1;32m    313\u001b[0m \u001b[0;34m\u001b[0m\u001b[0m\n",
      "\u001b[0;32m~/Documents/Course/venv/lib/python3.7/site-packages/sympy/core/facts.py\u001b[0m in \u001b[0;36mdeduce_all_facts\u001b[0;34m(self, facts)\u001b[0m\n\u001b[1;32m    533\u001b[0m             \u001b[0;32mfor\u001b[0m \u001b[0mbidx\u001b[0m \u001b[0;32min\u001b[0m \u001b[0mbeta_maytrigger\u001b[0m\u001b[0;34m:\u001b[0m\u001b[0;34m\u001b[0m\u001b[0;34m\u001b[0m\u001b[0m\n\u001b[1;32m    534\u001b[0m                 \u001b[0mbcond\u001b[0m\u001b[0;34m,\u001b[0m \u001b[0mbimpl\u001b[0m \u001b[0;34m=\u001b[0m \u001b[0mbeta_rules\u001b[0m\u001b[0;34m[\u001b[0m\u001b[0mbidx\u001b[0m\u001b[0;34m]\u001b[0m\u001b[0;34m\u001b[0m\u001b[0;34m\u001b[0m\u001b[0m\n\u001b[0;32m--> 535\u001b[0;31m                 \u001b[0;32mif\u001b[0m \u001b[0mall\u001b[0m\u001b[0;34m(\u001b[0m\u001b[0mself\u001b[0m\u001b[0;34m.\u001b[0m\u001b[0mget\u001b[0m\u001b[0;34m(\u001b[0m\u001b[0mk\u001b[0m\u001b[0;34m)\u001b[0m \u001b[0;32mis\u001b[0m \u001b[0mv\u001b[0m \u001b[0;32mfor\u001b[0m \u001b[0mk\u001b[0m\u001b[0;34m,\u001b[0m \u001b[0mv\u001b[0m \u001b[0;32min\u001b[0m \u001b[0mbcond\u001b[0m\u001b[0;34m)\u001b[0m\u001b[0;34m:\u001b[0m\u001b[0;34m\u001b[0m\u001b[0;34m\u001b[0m\u001b[0m\n\u001b[0m\u001b[1;32m    536\u001b[0m                     \u001b[0mfacts\u001b[0m\u001b[0;34m.\u001b[0m\u001b[0mappend\u001b[0m\u001b[0;34m(\u001b[0m\u001b[0mbimpl\u001b[0m\u001b[0;34m)\u001b[0m\u001b[0;34m\u001b[0m\u001b[0;34m\u001b[0m\u001b[0m\n",
      "\u001b[0;32m~/Documents/Course/venv/lib/python3.7/site-packages/sympy/core/facts.py\u001b[0m in \u001b[0;36m<genexpr>\u001b[0;34m(.0)\u001b[0m\n\u001b[1;32m    533\u001b[0m             \u001b[0;32mfor\u001b[0m \u001b[0mbidx\u001b[0m \u001b[0;32min\u001b[0m \u001b[0mbeta_maytrigger\u001b[0m\u001b[0;34m:\u001b[0m\u001b[0;34m\u001b[0m\u001b[0;34m\u001b[0m\u001b[0m\n\u001b[1;32m    534\u001b[0m                 \u001b[0mbcond\u001b[0m\u001b[0;34m,\u001b[0m \u001b[0mbimpl\u001b[0m \u001b[0;34m=\u001b[0m \u001b[0mbeta_rules\u001b[0m\u001b[0;34m[\u001b[0m\u001b[0mbidx\u001b[0m\u001b[0;34m]\u001b[0m\u001b[0;34m\u001b[0m\u001b[0;34m\u001b[0m\u001b[0m\n\u001b[0;32m--> 535\u001b[0;31m                 \u001b[0;32mif\u001b[0m \u001b[0mall\u001b[0m\u001b[0;34m(\u001b[0m\u001b[0mself\u001b[0m\u001b[0;34m.\u001b[0m\u001b[0mget\u001b[0m\u001b[0;34m(\u001b[0m\u001b[0mk\u001b[0m\u001b[0;34m)\u001b[0m \u001b[0;32mis\u001b[0m \u001b[0mv\u001b[0m \u001b[0;32mfor\u001b[0m \u001b[0mk\u001b[0m\u001b[0;34m,\u001b[0m \u001b[0mv\u001b[0m \u001b[0;32min\u001b[0m \u001b[0mbcond\u001b[0m\u001b[0;34m)\u001b[0m\u001b[0;34m:\u001b[0m\u001b[0;34m\u001b[0m\u001b[0;34m\u001b[0m\u001b[0m\n\u001b[0m\u001b[1;32m    536\u001b[0m                     \u001b[0mfacts\u001b[0m\u001b[0;34m.\u001b[0m\u001b[0mappend\u001b[0m\u001b[0;34m(\u001b[0m\u001b[0mbimpl\u001b[0m\u001b[0;34m)\u001b[0m\u001b[0;34m\u001b[0m\u001b[0;34m\u001b[0m\u001b[0m\n",
      "\u001b[0;31mKeyboardInterrupt\u001b[0m: "
     ]
    }
   ],
   "source": [
    "%%time\n",
    "f0 = [0,0,(pi-0.01).n()]\n",
    "_time = np.linspace(0., 200, 200)\n",
    "_solution = odeint(f, f0, _time, full_output=True, mxstep=100)"
   ]
  },
  {
   "cell_type": "code",
   "execution_count": 191,
   "metadata": {
    "scrolled": true
   },
   "outputs": [],
   "source": [
    "# _solution[0]"
   ]
  },
  {
   "cell_type": "markdown",
   "metadata": {},
   "source": [
    "##### Plot"
   ]
  },
  {
   "cell_type": "code",
   "execution_count": 194,
   "metadata": {},
   "outputs": [
    {
     "name": "stdout",
     "output_type": "stream",
     "text": [
      "nu3(t)\n"
     ]
    },
    {
     "data": {
      "image/png": "[encoded data removed]",
      "text/plain": [
       "<Figure size 432x288 with 1 Axes>"
      ]
     },
     "metadata": {
      "needs_background": "light"
     },
     "output_type": "display_data"
    },
    {
     "name": "stdout",
     "output_type": "stream",
     "text": [
      "alpha(t)\n"
     ]
    },
    {
     "data": {
      "image/png": "[encoded data removed]",
      "text/plain": [
       "<Figure size 432x288 with 1 Axes>"
      ]
     },
     "metadata": {
      "needs_background": "light"
     },
     "output_type": "display_data"
    },
    {
     "name": "stdout",
     "output_type": "stream",
     "text": [
      "theta0(t)\n"
     ]
    },
    {
     "data": {
      "image/png": "[encoded data removed]",
      "text/plain": [
       "<Figure size 432x288 with 1 Axes>"
      ]
     },
     "metadata": {
      "needs_background": "light"
     },
     "output_type": "display_data"
    }
   ],
   "source": [
    "for var, col in zip(_vars, _solution[0].T):\n",
    "    print(var)\n",
    "    fig = plt.plot(_time, col)\n",
    "    plt.show()"
   ]
  },
  {
   "cell_type": "code",
   "execution_count": 210,
   "metadata": {},
   "outputs": [],
   "source": [
    "T_t = lambdify([t, nu[3], alpha, theta[0]], xy_TW_eqs[0].args[1], 'numpy')\n",
    "W_t = lambdify([t, nu[3], alpha, theta[0]], xy_TW_eqs[1].args[1], 'numpy')\n",
    "fff = lambdify([t], 0.1*atan(t), 'numpy')"
   ]
  },
  {
   "cell_type": "code",
   "execution_count": 211,
   "metadata": {},
   "outputs": [],
   "source": [
    "T_res = [T_t(_moment, *_vals) for _moment, _vals in zip(_time, _solution[0])]\n",
    "W_res = [W_t(_moment, *_vals) for _moment, _vals in zip(_time, _solution[0])]\n",
    "fff_res = [fff(_moment) for _moment in _time]"
   ]
  },
  {
   "cell_type": "code",
   "execution_count": 212,
   "metadata": {},
   "outputs": [
    {
     "data": {
      "image/png": "[encoded data removed]",
      "text/plain": [
       "<Figure size 432x288 with 1 Axes>"
      ]
     },
     "metadata": {
      "needs_background": "light"
     },
     "output_type": "display_data"
    },
    {
     "data": {
      "image/png": "[encoded data removed]",
      "text/plain": [
       "<Figure size 432x288 with 1 Axes>"
      ]
     },
     "metadata": {
      "needs_background": "light"
     },
     "output_type": "display_data"
    },
    {
     "data": {
      "image/png": "[encoded data removed]",
      "text/plain": [
       "<Figure size 432x288 with 1 Axes>"
      ]
     },
     "metadata": {
      "needs_background": "light"
     },
     "output_type": "display_data"
    }
   ],
   "source": [
    "fig = plt.plot(_time, T_res)\n",
    "plt.show()\n",
    "fig = plt.plot(_time, W_res)\n",
    "plt.show()\n",
    "fig = plt.plot(_time, fff_res)\n",
    "plt.show()"
   ]
  },
  {
   "cell_type": "code",
   "execution_count": null,
   "metadata": {},
   "outputs": [],
   "source": []
  },
  {
   "cell_type": "code",
   "execution_count": null,
   "metadata": {},
   "outputs": [],
   "source": [
    "def TW_by_xy(x_eq,y_eq):\n",
    "    xy_TW_eqs = sub_xy(resTWNU3)\n",
    "    \n",
    "    \n",
    "    _vars = [nu[3], alpha, theta[0]] + [t]\n",
    "    _eqs = [xy_TW_eqs[2]] + [Eq(TW_constr[0].args[1], TW_constr[0].args[0])] + [TW_constr[1]]\n",
    "    "
   ]
  },
  {
   "cell_type": "code",
   "execution_count": null,
   "metadata": {},
   "outputs": [],
   "source": []
  },
  {
   "cell_type": "code",
   "execution_count": null,
   "metadata": {},
   "outputs": [],
   "source": []
  },
  {
   "cell_type": "code",
   "execution_count": null,
   "metadata": {},
   "outputs": [],
   "source": []
  },
  {
   "cell_type": "code",
   "execution_count": null,
   "metadata": {},
   "outputs": [],
   "source": []
  },
  {
   "cell_type": "code",
   "execution_count": null,
   "metadata": {},
   "outputs": [],
   "source": []
  },
  {
   "cell_type": "code",
   "execution_count": null,
   "metadata": {},
   "outputs": [],
   "source": []
  },
  {
   "cell_type": "code",
   "execution_count": null,
   "metadata": {},
   "outputs": [],
   "source": []
  },
  {
   "cell_type": "code",
   "execution_count": null,
   "metadata": {},
   "outputs": [],
   "source": []
  },
  {
   "cell_type": "code",
   "execution_count": null,
   "metadata": {},
   "outputs": [],
   "source": []
  },
  {
   "cell_type": "code",
   "execution_count": null,
   "metadata": {},
   "outputs": [],
   "source": [
    "_solution = load('_solution')"
   ]
  },
  {
   "cell_type": "markdown",
   "metadata": {},
   "source": [
    "### Solve by $\\dot{\\nu_1}, \\dot{\\nu_2}, \\dot{\\nu_3}$"
   ]
  },
  {
   "cell_type": "code",
   "execution_count": null,
   "metadata": {},
   "outputs": [],
   "source": [
    "%%time\n",
    "res = linsolve([par_subs(eq) for eq in eqs],\n",
    "               [Derivative(x, t) for x in S.right_part_Eqs(S.omega_equations)])\n",
    "# or \n",
    "# res = load('res+TW')"
   ]
  },
  {
   "cell_type": "code",
   "execution_count": null,
   "metadata": {},
   "outputs": [],
   "source": [
    "%%time\n",
    "s_eq1 = simplify(res.args[0][0])"
   ]
  },
  {
   "cell_type": "code",
   "execution_count": null,
   "metadata": {},
   "outputs": [],
   "source": [
    "%%time\n",
    "s_eq2 = simplify(res.args[0][1])"
   ]
  },
  {
   "cell_type": "code",
   "execution_count": null,
   "metadata": {},
   "outputs": [],
   "source": [
    "%%time\n",
    "s_eq3 = simplify(res.args[0][2])"
   ]
  },
  {
   "cell_type": "code",
   "execution_count": null,
   "metadata": {},
   "outputs": [],
   "source": [
    "alpha"
   ]
  },
  {
   "cell_type": "code",
   "execution_count": null,
   "metadata": {},
   "outputs": [],
   "source": [
    "for left_eq, right_eq in zip([s_eq1, s_eq2, s_eq3], [Derivative(x, t) for x in S.right_part_Eqs(S.omega_equations)]):\n",
    "    display(Eq(left_eq, right_eq))"
   ]
  },
  {
   "cell_type": "code",
   "execution_count": null,
   "metadata": {
    "scrolled": false
   },
   "outputs": [],
   "source": [
    "for left_eq, right_eq in zip([s_eq1, s_eq2, s_eq3], [Derivative(x, t) for x in S.right_part_Eqs(S.omega_equations)]):\n",
    "    display(Eq(left_eq, right_eq))"
   ]
  },
  {
   "cell_type": "code",
   "execution_count": null,
   "metadata": {},
   "outputs": [],
   "source": []
  },
  {
   "cell_type": "code",
   "execution_count": null,
   "metadata": {},
   "outputs": [],
   "source": []
  },
  {
   "cell_type": "code",
   "execution_count": null,
   "metadata": {},
   "outputs": [],
   "source": []
  },
  {
   "cell_type": "markdown",
   "metadata": {},
   "source": [
    "## Найдем  $W,T, \\ddot{\\alpha}$  как функции от времени "
   ]
  },
  {
   "cell_type": "code",
   "execution_count": null,
   "metadata": {},
   "outputs": [],
   "source": [
    "from copy import copy\n",
    "\n",
    "for x in S.tatarinov_equations:\n",
    "    display(x)"
   ]
  },
  {
   "cell_type": "markdown",
   "metadata": {},
   "source": [
    "### Зададим $x,y, alpha$ как функции времени"
   ]
  },
  {
   "cell_type": "code",
   "execution_count": null,
   "metadata": {},
   "outputs": [],
   "source": [
    "# Начальные условия и парметры\n",
    "eq_x = 3*t\n",
    "eq_y = t**2\n",
    "\n",
    "params = dict(xi=0, eta=0)\n",
    "\n",
    "t_end = 2*pi.evalf()"
   ]
  },
  {
   "cell_type": "code",
   "execution_count": null,
   "metadata": {},
   "outputs": [],
   "source": [
    "def _ss(eq):\n",
    "    nu1, nu2, nu3 = symbols('nu1, nu2, nu3')\n",
    "    return eq.subs({\n",
    "        nu1: Function('nu1')(t),\n",
    "        nu2: Function('nu2')(t),\n",
    "        nu3: Function('nu3')(t)\n",
    "    })\n",
    "    \n",
    "def subs_funcs(eq):\n",
    "    subs_dict = dict(x=eq_x, y=eq_y, alpha=Function('alpha')(t)) # , alpha=eq_alpha)\n",
    "    if type(eq) == dict:\n",
    "        d = {}\n",
    "        for k,v in eq.items():\n",
    "            d[_ss(k)] = _ss(v.subs(subs_dict))\n",
    "        return d\n",
    "    if type(eq) == list:\n",
    "        l = []\n",
    "        for x in eq:\n",
    "            l += _ss(eq.subs(subs_dict))\n",
    "        return l\n",
    "    if type(eq) == Eq or type(eq) == Add:\n",
    "        return _ss(eq.subs(subs_dict))"
   ]
  },
  {
   "cell_type": "code",
   "execution_count": null,
   "metadata": {},
   "outputs": [],
   "source": [
    "S.constraints"
   ]
  },
  {
   "cell_type": "code",
   "execution_count": null,
   "metadata": {},
   "outputs": [],
   "source": [
    "nus = solve(S.constraints, S.right_part_Eqs(S.omega_equations))\n",
    "for k, v in nus.items():\n",
    "    display(Eq(k, v))"
   ]
  },
  {
   "cell_type": "code",
   "execution_count": null,
   "metadata": {},
   "outputs": [],
   "source": [
    "nust = subs_funcs(nus)\n",
    "nust"
   ]
  },
  {
   "cell_type": "code",
   "execution_count": null,
   "metadata": {},
   "outputs": [],
   "source": [
    "tet = copy(S.tatarinov_equations)\n",
    "for x in tet:\n",
    "    display(x)"
   ]
  },
  {
   "cell_type": "code",
   "execution_count": null,
   "metadata": {},
   "outputs": [],
   "source": [
    "for i in range(3):\n",
    "    tet[i] = tet[i].subs(nust).doit()\n",
    "    display(tet[i])\n",
    "#     display((tet[i].subs(nust)))\n",
    "#     display((tet[i].subs(nust)).doit())\n",
    "    "
   ]
  },
  {
   "cell_type": "code",
   "execution_count": null,
   "metadata": {},
   "outputs": [],
   "source": [
    "sol = solve(tet, [T, W, Derivative(Function('alpha')(t), t, 2)])\n",
    "for k,v in sol.items():\n",
    "    display(Eq(k, v))"
   ]
  },
  {
   "cell_type": "markdown",
   "metadata": {},
   "source": [
    "### Проинтегрируем\n",
    "$$ {\\ddot{\\alpha}, \\dot{\\alpha}} \\rightarrow \\alpha $$"
   ]
  },
  {
   "cell_type": "code",
   "execution_count": null,
   "metadata": {},
   "outputs": [],
   "source": [
    "_vars = [Function('alpha2')(t), Function('alpha')(t)]\n",
    "_vars"
   ]
  },
  {
   "cell_type": "code",
   "execution_count": null,
   "metadata": {},
   "outputs": [],
   "source": [
    "eqs = [Function('alpha2')(t), list(sol.values())[2]]\n",
    "eqs"
   ]
  },
  {
   "cell_type": "code",
   "execution_count": null,
   "metadata": {},
   "outputs": [],
   "source": [
    "_vars = [Symbol('alpha'),  Symbol('alpha2')]\n",
    "eqs =   [Symbol('alpha2'), list(sol.values())[2].subs({Function('alpha')(t): Symbol('alpha')})]\n",
    "\n",
    "print(\"Система уравнений на alpha\")\n",
    "for l, r in zip(_vars, eqs):\n",
    "    display(Eq(l,r))"
   ]
  },
  {
   "cell_type": "code",
   "execution_count": null,
   "metadata": {},
   "outputs": [],
   "source": [
    "# keyword can't be an expression\n",
    "eqs[1] = eqs[1].subs({J[s]: 3})\n",
    "\n",
    "_subs = dict(m=1, eta=2, xi=3)"
   ]
  },
  {
   "cell_type": "code",
   "execution_count": null,
   "metadata": {},
   "outputs": [],
   "source": [
    "def f(_vars_values, time):\n",
    "    return [lambdify(_vars, x.subs(_subs), 'numpy')(*_vars_values) for x in eqs]"
   ]
  },
  {
   "cell_type": "code",
   "execution_count": null,
   "metadata": {},
   "outputs": [],
   "source": [
    "import numpy as np\n",
    "from scipy.integrate import RK45, odeint"
   ]
  },
  {
   "cell_type": "code",
   "execution_count": null,
   "metadata": {},
   "outputs": [],
   "source": [
    "f0 = [1, 0.1] # [alpha', alpha]\n",
    "time = np.linspace(0., 4, 100)\n",
    "\n",
    "_solution = odeint(f, f0, time)"
   ]
  },
  {
   "cell_type": "code",
   "execution_count": null,
   "metadata": {},
   "outputs": [],
   "source": [
    "import matplotlib.pyplot as plt\n",
    "\n",
    "_items = zip(['dot_alpha', 'alpha'], list(range(2)))\n",
    "\n",
    "for name, col in _items:\n",
    "    print(name)\n",
    "    fig = plt.plot(time, _solution[:, col], label=name)\n",
    "    plt.show()"
   ]
  },
  {
   "cell_type": "markdown",
   "metadata": {},
   "source": [
    "## Подставим в $W, T$\n",
    "$$ \\{W(\\alpha, t), T(\\alpha, t)\\} \\rightarrow \\{W(t), T(t)\\}$$"
   ]
  },
  {
   "cell_type": "code",
   "execution_count": null,
   "metadata": {},
   "outputs": [],
   "source": [
    "display(sol[W])\n",
    "display(sol[T])"
   ]
  },
  {
   "cell_type": "code",
   "execution_count": null,
   "metadata": {},
   "outputs": [],
   "source": [
    "W_t = lambdify([t, Function('alpha')(t)], sol[W].subs(_subs), 'numpy')\n",
    "T_t = lambdify([t, Function('alpha')(t)], sol[T].subs(_subs), 'numpy')"
   ]
  },
  {
   "cell_type": "code",
   "execution_count": null,
   "metadata": {},
   "outputs": [],
   "source": [
    "_solution[:,1].size == time.size "
   ]
  },
  {
   "cell_type": "code",
   "execution_count": null,
   "metadata": {},
   "outputs": [],
   "source": [
    "wl, tl = [], []\n",
    "\n",
    "for x,y in zip(time, _solution[:,1]):\n",
    "    wl.append(W_t(x, y))\n",
    "    \n",
    "for x,y in zip(time, _solution[:,1]):\n",
    "    tl.append(T_t(x, y))"
   ]
  },
  {
   "cell_type": "code",
   "execution_count": null,
   "metadata": {},
   "outputs": [],
   "source": [
    "fig = plt.plot(time, wl, label='W')\n",
    "plt.show()"
   ]
  },
  {
   "cell_type": "code",
   "execution_count": null,
   "metadata": {},
   "outputs": [],
   "source": [
    "fig = plt.plot(time, tl, label='T')\n",
    "plt.show()"
   ]
  },
  {
   "cell_type": "code",
   "execution_count": null,
   "metadata": {},
   "outputs": [],
   "source": [
    "al = _solution[:, 1]"
   ]
  },
  {
   "cell_type": "code",
   "execution_count": null,
   "metadata": {},
   "outputs": [],
   "source": [
    "tmp_x = tl*np.sin(al)*(-1) + wl*np.cos(al)\n",
    "tmp_y = tl*np.cos(al) + wl*np.sin(al)"
   ]
  },
  {
   "cell_type": "code",
   "execution_count": null,
   "metadata": {},
   "outputs": [],
   "source": [
    "fig = plt.plot(tmp_x, label='~x\"')\n",
    "fig = plt.plot(tmp_y, label='~y\"')\n",
    "plt.show()"
   ]
  },
  {
   "cell_type": "code",
   "execution_count": null,
   "metadata": {},
   "outputs": [],
   "source": [
    "F"
   ]
  },
  {
   "cell_type": "code",
   "execution_count": null,
   "metadata": {},
   "outputs": [],
   "source": []
  },
  {
   "cell_type": "code",
   "execution_count": null,
   "metadata": {},
   "outputs": [],
   "source": []
  },
  {
   "cell_type": "code",
   "execution_count": null,
   "metadata": {},
   "outputs": [],
   "source": []
  },
  {
   "cell_type": "markdown",
   "metadata": {},
   "source": [
    "## Проинтегрируем численно"
   ]
  },
  {
   "cell_type": "code",
   "execution_count": null,
   "metadata": {},
   "outputs": [],
   "source": [
    "left = []; right = []"
   ]
  },
  {
   "cell_type": "code",
   "execution_count": null,
   "metadata": {},
   "outputs": [],
   "source": [
    "left += S.left_part_Eqs(S.constraints)\n",
    "right += S.right_part_Eqs(S.constraints)"
   ]
  },
  {
   "cell_type": "code",
   "execution_count": null,
   "metadata": {},
   "outputs": [],
   "source": [
    "diff_omegas_t = [Derivative(S.create_fs(x)) for x in S.right_part_Eqs(S.omega_equations)]\n",
    "constr = solve(eqs, diff_omegas_t)\n",
    "constr"
   ]
  },
  {
   "cell_type": "code",
   "execution_count": null,
   "metadata": {},
   "outputs": [],
   "source": [
    "for left_item, right_item in constr.items():\n",
    "    left += [left_item]\n",
    "    right += [right_item]"
   ]
  },
  {
   "cell_type": "code",
   "execution_count": null,
   "metadata": {},
   "outputs": [],
   "source": [
    "_vars = (phi, psi, theta, nu1, nu2, nu3)"
   ]
  },
  {
   "cell_type": "code",
   "execution_count": null,
   "metadata": {},
   "outputs": [],
   "source": [
    "right = [S.create_ss(x) for x in right]"
   ]
  },
  {
   "cell_type": "code",
   "execution_count": null,
   "metadata": {},
   "outputs": [],
   "source": [
    "_subs = {A: 1, C: 2, g: 10, m: 1}"
   ]
  },
  {
   "cell_type": "code",
   "execution_count": null,
   "metadata": {},
   "outputs": [],
   "source": [
    "left"
   ]
  },
  {
   "cell_type": "code",
   "execution_count": null,
   "metadata": {},
   "outputs": [],
   "source": [
    "right"
   ]
  },
  {
   "cell_type": "code",
   "execution_count": null,
   "metadata": {},
   "outputs": [],
   "source": [
    "def f(_vars_values, time):\n",
    "    return [lambdify(_vars, x.subs(_subs), 'numpy')(*_vars_values) for x in right]"
   ]
  },
  {
   "cell_type": "code",
   "execution_count": null,
   "metadata": {},
   "outputs": [],
   "source": [
    "f0 = [3,0.1,0.1,1,2,3]"
   ]
  },
  {
   "cell_type": "code",
   "execution_count": null,
   "metadata": {},
   "outputs": [],
   "source": [
    "import numpy as np\n",
    "from scipy.integrate import RK45, odeint"
   ]
  },
  {
   "cell_type": "code",
   "execution_count": null,
   "metadata": {},
   "outputs": [],
   "source": [
    "_solution = odeint(f, f0, np.linspace(0., 4., 100))"
   ]
  },
  {
   "cell_type": "code",
   "execution_count": null,
   "metadata": {},
   "outputs": [],
   "source": [
    "import matplotlib.pyplot as plt \n",
    "\n",
    "_items = zip(['phi', 'psi', 'theta', 'nu1', 'nu2', 'nu3'], list(range(6)))\n",
    "\n",
    "for name, col in _items:\n",
    "    print(name)\n",
    "    fig = plt.plot(np.linspace(0,4,100), _solution[:, col], label=name)\n",
    "    plt.show()"
   ]
  },
  {
   "cell_type": "markdown",
   "metadata": {},
   "source": [
    "## Посмотрим на энергию"
   ]
  },
  {
   "cell_type": "code",
   "execution_count": null,
   "metadata": {},
   "outputs": [],
   "source": [
    "H = A*(Derivative(theta,t)**2 + Derivative(psi,t)**2*sin(theta)**2)/2 \\\n",
    "    + C*(Derivative(phi, t) + Derivative(psi, t)*cos(theta))**2/2 \\\n",
    "    + m*g*cos(theta)\n",
    "H"
   ]
  },
  {
   "cell_type": "code",
   "execution_count": null,
   "metadata": {},
   "outputs": [],
   "source": [
    "H = S.sub_constraints(H)\n",
    "H"
   ]
  },
  {
   "cell_type": "code",
   "execution_count": null,
   "metadata": {},
   "outputs": [],
   "source": [
    "fH = lambdify(_vars, H.subs(_subs), 'numpy')"
   ]
  },
  {
   "cell_type": "code",
   "execution_count": null,
   "metadata": {},
   "outputs": [],
   "source": [
    "H_values = np.array([fH(*x) for x in _solution])\n",
    "max(H_values) - min(H_values)"
   ]
  },
  {
   "cell_type": "code",
   "execution_count": null,
   "metadata": {},
   "outputs": [],
   "source": [
    "for x in S.constraints:\n",
    "    display(x)"
   ]
  },
  {
   "cell_type": "code",
   "execution_count": null,
   "metadata": {},
   "outputs": [],
   "source": [
    "L"
   ]
  }
 ],
 "metadata": {
  "kernelspec": {
   "display_name": "Python 3",
   "language": "python",
   "name": "python3"
  },
  "language_info": {
   "codemirror_mode": {
    "name": "ipython",
    "version": 3
   },
   "file_extension": ".py",
   "mimetype": "text/x-python",
   "name": "python",
   "nbconvert_exporter": "python",
   "pygments_lexer": "ipython3",
   "version": "3.7.7"
  }
 },
 "nbformat": 4,
 "nbformat_minor": 2
}
