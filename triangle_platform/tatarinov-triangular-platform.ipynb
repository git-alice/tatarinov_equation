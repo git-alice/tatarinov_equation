{
 "cells": [
  {
   "cell_type": "markdown",
   "metadata": {},
   "source": [
    "# Реализация нахождения уравнений движения с помощью Урванений Татаринова для платформы с одним колесом\n"
   ]
  },
  {
   "cell_type": "code",
   "execution_count": 39,
   "metadata": {},
   "outputs": [],
   "source": [
    "import sympy as sp\n",
    "import cloudpickle as pickle\n",
    "\n",
    "from copy import copy\n",
    "from sympy import Derivative, Symbol, IndexedBase, Eq, Idx, Sum, Function, Matrix, Add\n",
    "from sympy import diff, symbols, solve, simplify, poly, pprint, factor, integrate, lambdify\n",
    "from sympy import cos, sin, pi\n",
    "from abc import ABC, abstractmethod"
   ]
  },
  {
   "cell_type": "code",
   "execution_count": 40,
   "metadata": {},
   "outputs": [],
   "source": [
    "def create_fs(self, fs):\n",
    "    \"\"\" not good \"\"\"\n",
    "    # nu1, nu2, nu3 = symbols('nu1, nu2, nu3')\n",
    "    return fs.subs({\n",
    "        _nu1: Function('nu1_')(t),\n",
    "        _nu2: Function('nu2_')(t),\n",
    "        _nu3: Function('nu3_')(t)\n",
    "    })\n",
    "\n",
    "def create_ss(self, fs):\n",
    "    \"\"\" not good \"\"\"\n",
    "    # nu1, nu2, nu3 = symbols('nu1, nu2, nu3')\n",
    "    return fs.subs({\n",
    "        Function('nu1_')(t): _nu1,\n",
    "        Function('nu2_')(t): _nu2,\n",
    "        Function('nu3_')(t): _nu3\n",
    "    })\n",
    "\n",
    "def save(data, name):\n",
    "    with open(f'{name}.pickle', 'wb') as f:\n",
    "        pickle.dump(copy(data), f)\n",
    "        \n",
    "def load(name):\n",
    "    with open(f'{name}.pickle', 'rb') as f:\n",
    "        data = pickle.load(f)\n",
    "    return data\n",
    "\n",
    "def MatrixElDerivative(mat):\n",
    "    return Matrix([x.diff(t) for x in mat])"
   ]
  },
  {
   "cell_type": "markdown",
   "metadata": {},
   "source": [
    "### Уравнения Татаринова\n",
    "$$\n",
    "\\frac{d}{dt} \\frac{\\partial L*}{\\partial \\omega_{\\alpha}} +\n",
    "\\{P_{\\alpha}, L*\\} = \n",
    "\\{P_{\\alpha}, \\sum_{\\mu}{\\omega_{\\mu} P_{\\mu}} \\} +\n",
    "\\sum_{i}{Q_i \\frac{\\partial v_i}{ \\partial \\omega_{\\alpha}}}\n",
    "$$"
   ]
  },
  {
   "cell_type": "markdown",
   "metadata": {},
   "source": [
    "### Скобка Пуассона\n",
    "$$\n",
    "\\{f, g\\} = \\sum_{i=1}^{N} \\left( \\frac{\\partial f}{\\partial q_{i}} \\frac{\\partial g}{\\partial p_{i}} - \\frac{\\partial f}{\\partial p_i} \\frac{\\partial g}{\\partial q_i}\\right).\n",
    "$$"
   ]
  },
  {
   "cell_type": "markdown",
   "metadata": {},
   "source": [
    "### Функции $ P_{\\alpha} $\n",
    "$$\n",
    "\\sum_{\\alpha}{P_{\\alpha} \\omega_{\\alpha}} = \\sum_i{p_iv_i}\n",
    "$$"
   ]
  },
  {
   "cell_type": "markdown",
   "metadata": {},
   "source": [
    "### Функции $v_i$\n",
    "$$\n",
    "v_i = \\dot{q}\n",
    "$$"
   ]
  },
  {
   "cell_type": "code",
   "execution_count": 41,
   "metadata": {},
   "outputs": [],
   "source": [
    "class MechanicalSystem():\n",
    "    \n",
    "    def __init__(self):\n",
    "        pass\n",
    "    \n",
    "    def set_q(self, q):\n",
    "        self.q = q\n",
    "    \n",
    "    def set_p(self, p):\n",
    "        self.p = p\n",
    "    \n",
    "    def poisson_bracket(self, F, G): # надо сделать, чтобы использовалось IndexedBase\n",
    "        \"\"\" To evaluate an unevaluated derivative, use the doit method. \"\"\"\n",
    "        res = 0\n",
    "        for i in range(3):\n",
    "            res += diff(F, self.q[i])*diff(G, self.p[i])\n",
    "            res -= diff(F, self.p[i])*diff(G, self.q[i])\n",
    "        return res\n",
    "    \n",
    "    @staticmethod\n",
    "    def sub_Eq(equation, Eq):\n",
    "        return equation.subs(Eq.args[0], Eq.args[1])\n",
    "    \n",
    "    @classmethod\n",
    "    def sub_Eqs(cls, equation, Eqs):\n",
    "        sub_equation = equation\n",
    "        for Eq in Eqs:\n",
    "            sub_equation = cls.sub_Eq(sub_equation, Eq)\n",
    "        return sub_equation \n",
    "    \n",
    "    @staticmethod\n",
    "    def left_part_Eqs(Eqs):\n",
    "        return [Eq.args[0] for Eq in Eqs]\n",
    "    \n",
    "    @staticmethod\n",
    "    def right_part_Eqs(Eqs):\n",
    "        return [Eq.args[1] for Eq in Eqs]\n",
    "    \n",
    "    def set_constraints(self, constraints):\n",
    "        \"\"\" Setting up constraints \"\"\"\n",
    "        self.constraints = constraints\n",
    "        \n",
    "    def sub_constraints(self, func):\n",
    "        \"\"\" Substitutes constraints in the equation\n",
    "        Private special case:\n",
    "            L -> L* \n",
    "        \"\"\"\n",
    "        sub_dict = {conn.args[0]: conn.args[1] for conn in self.constraints}\n",
    "        return func.subs(sub_dict)\n",
    "    \n",
    "    def sub_constraints_to_list(self, equations):\n",
    "        return [self.sub_constraints(equation) for equation in equations]\n",
    "    \n",
    "    @staticmethod\n",
    "    def diff_hack(equation, by):\n",
    "        \"\"\" eq -> eq.subs(Derivative -> temp_variable) -> eq.diff(temp_variable) ->\n",
    "            -> eq.subs(temp_variable -> Derivative)\n",
    "        \"\"\"\n",
    "        tmp_by = Symbol('tmp_by')\n",
    "        tmp_eq = equation.subs({by: tmp_by})\n",
    "        tmp_eq = tmp_eq.diff(tmp_by)\n",
    "        return tmp_eq.subs({tmp_by: by})\n",
    "        "
   ]
  },
  {
   "cell_type": "code",
   "execution_count": 42,
   "metadata": {},
   "outputs": [],
   "source": [
    "class TatarinovSystem(MechanicalSystem):\n",
    "    \n",
    "    def __init__(self, N=3, debug=True):\n",
    "        super().__init__()\n",
    "        self.N = N\n",
    "        self.tatarinov_equations = [None]*N\n",
    "        self.debug = True\n",
    "        \n",
    "    def set_omega_equations(self, omegas, equations):\n",
    "        omega_equations = [Eq(omega, equation) for omega, equation in zip(omegas, equations)]\n",
    "        self.omega_equations = omega_equations\n",
    "        \n",
    "    def set_v_equations(self, vs, equations): # vs - не лучшее название\n",
    "        v_equations = [Eq(v, equation) for v, equation in zip(vs, equations)]\n",
    "        self.v_equations = v_equations\n",
    "\n",
    "    def set_P(self):\n",
    "        k, mu = symbols('k, mu', cls=Idx)\n",
    "        left = Sum(P[k]*om[k], (k, 1, self.N)).doit()\n",
    "        right = Sum(p[i]*v[i], (k, 1, self.N))\n",
    "        Eq(left, right)\n",
    "    \n",
    "    def set_L(self, L):\n",
    "        self.L = L\n",
    "        \n",
    "    def set_L_star(self, L_star):\n",
    "        self.L_star = simplify(L_star)\n",
    "    \n",
    "    def set_F(self, F):\n",
    "        self.F = F\n",
    "    \n",
    "    def create_r(self):\n",
    "        r = {}\n",
    "        r['s'] = x*e['x'] + y*e['y']\n",
    "        r['p'] = r['s'] + xi*e['xi'] + eta*e['eta']\n",
    "        self.r = r\n",
    "        return self.r\n",
    "\n",
    "    def set_Qs(self, Qs):\n",
    "        self.Qs = Qs\n",
    "    \n",
    "    def create_P(self):\n",
    "        equations_for_P = Eq(\n",
    "            Sum(P[k]*_omega[k], (k, 1, S.N)),\n",
    "            Sum(p[k]*_v[k], (k, 1, S.N)))\n",
    "        print(equations_for_P)\n",
    "        # subs omega_i and v_i\n",
    "        sub_equations_for_P = TatarinovSystem.sub_Eqs(\n",
    "            equations_for_P.doit(), # important\n",
    "            self.omega_equations + self.v_equations) # for Ex: omega[1] -> nu1), v[1] -> x', ....\n",
    "        # subs_constraints\n",
    "        sub_conn_equations_for_P = self.sub_constraints(sub_equations_for_P)\n",
    "        print(sub_conn_equations_for_P)\n",
    "        # to equate the coefficients\n",
    "        left_coeffs = poly(sub_conn_equations_for_P.args[0], TatarinovSystem.right_part_Eqs(self.omega_equations)).coeffs()\n",
    "        right_coeffs = poly(sub_conn_equations_for_P.args[1], TatarinovSystem.right_part_Eqs(self.omega_equations)).coeffs()\n",
    "        final_equations_for_P = [Eq(left, right) for left, right in zip(left_coeffs, right_coeffs)]\n",
    "        self.Ps = final_equations_for_P\n",
    "        return final_equations_for_P\n",
    "    \n",
    "    def create_Q(self, F, r_p):\n",
    "        self.Q = [F.dot(r_p.diff(x)) for x in self.q]\n",
    "        \n",
    "    def set_Q(self, Q):\n",
    "        self.Q = Q\n",
    "    \n",
    "    def Q_dw_by_dv(self, i):\n",
    "        Q_dw_by_dv = lambda i,a: self.Q[i]*Derivative(self.right_part_Eqs(S.sub_constraints_to_list(S.v_equations))[i],\n",
    "                                                      self.right_part_Eqs(self.omega_equations)[a]).doit()\n",
    "        Q_dw_by_dv_sum = lambda a: Q_dw_by_dv(0,a) + Q_dw_by_dv(1,a) + Q_dw_by_dv(2,a) + Q_dw_by_dv(3,a) + Q_dw_by_dv(4,a)\n",
    "        return Q_dw_by_dv_sum(i)\n",
    "    \n",
    "    def tatarinov_equation__depricated(self, i):\n",
    "        left, right = 0, 0;\n",
    "        left += diff(diff(L, omega[k]), t)\n",
    "        left += poisson_bracket(P[k], L)\n",
    "        right += poisson_bracket(P[k], Sum(omega[k]*P[k], (k, 1, self.N)))\n",
    "        right += Sum(Q[l]*diff(v[l], omega[k]), (l, 1, self.N))\n",
    "        Eq(left, right)\n",
    "        \n",
    "    def create_bracket_sum(self):\n",
    "        \"\"\" not good \"\"\"\n",
    "        # return  _nu1*(p[1]*cos(alpha) + p[2]*sin(alpha)) + _nu2*(-p[1]*sin(alpha) + p[2]*cos(alpha)) + _nu3*p[3]\n",
    "        bracket_sum = [x*y for x,y in zip(S.right_part_Eqs(S.Ps), S.right_part_Eqs(S.omega_equations))]\n",
    "        res = 0\n",
    "        for x in range(3):\n",
    "            res += bracket_sum[x]\n",
    "        return res\n",
    "    \n",
    "    def solve_tatarinov_equations(self):\n",
    "        te = [self.tatarinov_equations[i] for x in range(3)]\n",
    "        sol = solve(te, [Derivative(self.create_fs(x), t) for x in S.right_part_Eqs(S.omega_equations)])\n",
    "        return sol\n",
    "\n",
    "    def tatarinov_equation(self, i):\n",
    "        left, right = 0,0\n",
    "        left = self.L_star.args[1]\n",
    "#         left = self.create_fs(left.diff(self.right_part_Eqs(self.omega_equations)[i])).diff(t)\n",
    "        left = left.diff(self.right_part_Eqs(self.omega_equations)[i])\n",
    "        left = simplify(left)\n",
    "        left = left.diff(t)\n",
    "        left = simplify(self.sub_constraints(left))\n",
    "        tmp = self.poisson_bracket(self.Ps[i].args[1], self.L_star.args[1])\n",
    "        left += simplify(self.sub_constraints(tmp))\n",
    "#         left = self.create_fs(left)\n",
    "        if self.debug:\n",
    "            display(left)\n",
    "        \n",
    "        right += self.poisson_bracket(self.Ps[i].args[1], self.create_bracket_sum())\n",
    "        right += simplify(self.Q_dw_by_dv(i))\n",
    "#         right = self.create_fs(right)\n",
    "        if self.debug:\n",
    "            display(right)\n",
    "        \n",
    "        ps = lambda i: self.sub_constraints(self.diff_hack(self.L.args[1], self.right_part_Eqs(self.v_equations)[i]))\n",
    "        self.tatarinov_equations[i] = Eq(left, right).subs({p[1]: ps(0), p[2]: ps(1), p[3]: ps(2)})\n",
    "        \n",
    "#         self.tatarinov_equations[i] = self.create_fs(simplify(self.tatarinov_equations[i]))\n",
    "        self.tatarinov_equations[i] = simplify(self.tatarinov_equations[i])\n",
    "        \n",
    "        return self.tatarinov_equations[i]\n",
    "\n",
    "    def display_tatarinov_equations(self):\n",
    "        for eq in self.tatarinov_equations:\n",
    "            display(eq)"
   ]
  },
  {
   "cell_type": "markdown",
   "metadata": {},
   "source": [
    "##  Импорт платформы"
   ]
  },
  {
   "cell_type": "code",
   "execution_count": 43,
   "metadata": {},
   "outputs": [
    {
     "name": "stdout",
     "output_type": "stream",
     "text": [
      "The autoreload extension is already loaded. To reload it, use:\n",
      "  %reload_ext autoreload\n"
     ]
    }
   ],
   "source": [
    "%load_ext autoreload\n",
    "%autoreload 2\n",
    "\n",
    "from variables import *\n",
    "from structure import *\n",
    "from functions import *\n",
    "\n",
    "from latex import *"
   ]
  },
  {
   "cell_type": "code",
   "execution_count": null,
   "metadata": {},
   "outputs": [],
   "source": []
  },
  {
   "cell_type": "markdown",
   "metadata": {},
   "source": [
    "#### Псевдоскорости $nu_1$, $nu_2$\n",
    "#### Координаты $\\theta_1$, $\\psi_1$, $\\alpha$\n",
    "#### Связи $\\psi_1(\\nu_1,\\nu_2), \\theta_1(\\nu_1,\\nu_2)$"
   ]
  },
  {
   "cell_type": "markdown",
   "metadata": {},
   "source": [
    "#### Скорости"
   ]
  },
  {
   "cell_type": "code",
   "execution_count": 44,
   "metadata": {},
   "outputs": [],
   "source": [
    "omega['platform']= lambda i: Derivative(alpha,t)*e['z']\n",
    "omega['fork']    = lambda i: omega['platform'](i) + Derivative(theta[i],t)*e['z']\n",
    "omega['wheel']   = lambda i: omega['fork'](i) + Derivative(psi[i],t)*n_wheel(i)"
   ]
  },
  {
   "cell_type": "code",
   "execution_count": 45,
   "metadata": {},
   "outputs": [],
   "source": [
    "v['S'] = euler(S, P)\n",
    "v['P'] = euler(P, C)\n",
    "v['C'] = euler(C, D)\n",
    "v['D'] = lambda i: Matrix([0,0,0]) # проскальзывания нет"
   ]
  },
  {
   "cell_type": "code",
   "execution_count": 46,
   "metadata": {},
   "outputs": [
    {
     "data": {
      "text/latex": [
       "$\\displaystyle \\left[\\begin{matrix}- d \\left(\\sin{\\left(\\alpha{\\left(t \\right)} \\right)} \\cos{\\left(\\theta_{0}{\\left(t \\right)} \\right)} + \\sin{\\left(\\theta_{0}{\\left(t \\right)} \\right)} \\cos{\\left(\\alpha{\\left(t \\right)} \\right)}\\right) \\left(\\frac{d}{d t} \\alpha{\\left(t \\right)} + \\frac{d}{d t} \\theta_{0}{\\left(t \\right)}\\right) - r \\left(- \\sin{\\left(\\alpha{\\left(t \\right)} \\right)} \\sin{\\left(\\theta_{0}{\\left(t \\right)} \\right)} + \\cos{\\left(\\alpha{\\left(t \\right)} \\right)} \\cos{\\left(\\theta_{0}{\\left(t \\right)} \\right)}\\right) \\frac{d}{d t} \\psi_{0}{\\left(t \\right)} - \\left(\\sin{\\left(\\beta_{0} \\right)} \\cos{\\left(\\alpha{\\left(t \\right)} \\right)} + \\sin{\\left(\\alpha{\\left(t \\right)} \\right)} \\cos{\\left(\\beta_{0} \\right)}\\right) \\frac{d}{d t} \\alpha{\\left(t \\right)}\\\\d \\left(- \\sin{\\left(\\alpha{\\left(t \\right)} \\right)} \\sin{\\left(\\theta_{0}{\\left(t \\right)} \\right)} + \\cos{\\left(\\alpha{\\left(t \\right)} \\right)} \\cos{\\left(\\theta_{0}{\\left(t \\right)} \\right)}\\right) \\left(\\frac{d}{d t} \\alpha{\\left(t \\right)} + \\frac{d}{d t} \\theta_{0}{\\left(t \\right)}\\right) + r \\left(- \\sin{\\left(\\alpha{\\left(t \\right)} \\right)} \\cos{\\left(\\theta_{0}{\\left(t \\right)} \\right)} - \\sin{\\left(\\theta_{0}{\\left(t \\right)} \\right)} \\cos{\\left(\\alpha{\\left(t \\right)} \\right)}\\right) \\frac{d}{d t} \\psi_{0}{\\left(t \\right)} + \\left(- \\sin{\\left(\\beta_{0} \\right)} \\sin{\\left(\\alpha{\\left(t \\right)} \\right)} + \\cos{\\left(\\beta_{0} \\right)} \\cos{\\left(\\alpha{\\left(t \\right)} \\right)}\\right) \\frac{d}{d t} \\alpha{\\left(t \\right)}\\\\0\\end{matrix}\\right]$"
      ],
      "text/plain": [
       "Matrix([\n",
       "[ -d*(sin(alpha(t))*cos(theta0(t)) + sin(theta0(t))*cos(alpha(t)))*(Derivative(alpha(t), t) + Derivative(theta0(t), t)) - r*(-sin(alpha(t))*sin(theta0(t)) + cos(alpha(t))*cos(theta0(t)))*Derivative(psi0(t), t) - (sin(beta0)*cos(alpha(t)) + sin(alpha(t))*cos(beta0))*Derivative(alpha(t), t)],\n",
       "[d*(-sin(alpha(t))*sin(theta0(t)) + cos(alpha(t))*cos(theta0(t)))*(Derivative(alpha(t), t) + Derivative(theta0(t), t)) + r*(-sin(alpha(t))*cos(theta0(t)) - sin(theta0(t))*cos(alpha(t)))*Derivative(psi0(t), t) + (-sin(beta0)*sin(alpha(t)) + cos(beta0)*cos(alpha(t)))*Derivative(alpha(t), t)],\n",
       "[                                                                                                                                                                                                                                                                                               0]])"
      ]
     },
     "execution_count": 46,
     "metadata": {},
     "output_type": "execute_result"
    }
   ],
   "source": [
    "v['S'](0)"
   ]
  },
  {
   "cell_type": "markdown",
   "metadata": {},
   "source": [
    "#### Угловые скорости"
   ]
  },
  {
   "cell_type": "code",
   "execution_count": 47,
   "metadata": {},
   "outputs": [],
   "source": [
    "omega['platform']= lambda i: Derivative(alpha,t)*e['z']\n",
    "omega['fork']    = lambda i: omega['platform'](i) + Derivative(theta[i],t)*e['z']\n",
    "omega['wheel']   = lambda i: omega['fork'](i) + Derivative(psi[i],t)*n_wheel(i)"
   ]
  },
  {
   "cell_type": "code",
   "execution_count": 48,
   "metadata": {},
   "outputs": [],
   "source": [
    "eq['nu1'] = lambda i: scalar(v['S'](i), e['xi'])\n",
    "eq['nu2'] = lambda i: scalar(v['S'](i), e['eta'])"
   ]
  },
  {
   "cell_type": "markdown",
   "metadata": {},
   "source": [
    "#### Псевдоскорости"
   ]
  },
  {
   "cell_type": "code",
   "execution_count": 49,
   "metadata": {},
   "outputs": [
    {
     "data": {
      "text/latex": [
       "$\\displaystyle \\left[\\begin{matrix}\\nu_{1}{\\left(t \\right)} = - d \\sin{\\left(\\theta_{0}{\\left(t \\right)} \\right)} \\frac{d}{d t} \\alpha{\\left(t \\right)} - d \\sin{\\left(\\theta_{0}{\\left(t \\right)} \\right)} \\frac{d}{d t} \\theta_{0}{\\left(t \\right)} - r \\cos{\\left(\\theta_{0}{\\left(t \\right)} \\right)} \\frac{d}{d t} \\psi_{0}{\\left(t \\right)} - \\sin{\\left(\\beta_{0} \\right)} \\frac{d}{d t} \\alpha{\\left(t \\right)}\\\\\\nu_{2}{\\left(t \\right)} = d \\cos{\\left(\\theta_{0}{\\left(t \\right)} \\right)} \\frac{d}{d t} \\alpha{\\left(t \\right)} + d \\cos{\\left(\\theta_{0}{\\left(t \\right)} \\right)} \\frac{d}{d t} \\theta_{0}{\\left(t \\right)} - r \\sin{\\left(\\theta_{0}{\\left(t \\right)} \\right)} \\frac{d}{d t} \\psi_{0}{\\left(t \\right)} + \\cos{\\left(\\beta_{0} \\right)} \\frac{d}{d t} \\alpha{\\left(t \\right)}\\end{matrix}\\right]$"
      ],
      "text/plain": [
       "Matrix([\n",
       "[Eq(nu1(t), -d*sin(theta0(t))*Derivative(alpha(t), t) - d*sin(theta0(t))*Derivative(theta0(t), t) - r*cos(theta0(t))*Derivative(psi0(t), t) - sin(beta0)*Derivative(alpha(t), t))],\n",
       "[ Eq(nu2(t), d*cos(theta0(t))*Derivative(alpha(t), t) + d*cos(theta0(t))*Derivative(theta0(t), t) - r*sin(theta0(t))*Derivative(psi0(t), t) + cos(beta0)*Derivative(alpha(t), t))]])"
      ]
     },
     "execution_count": 49,
     "metadata": {},
     "output_type": "execute_result"
    }
   ],
   "source": [
    "simplify(Matrix([Eq(nu[1], eq['nu1'](0)),\n",
    "                 Eq(nu[2], eq['nu2'](0))]))"
   ]
  },
  {
   "cell_type": "code",
   "execution_count": 50,
   "metadata": {},
   "outputs": [],
   "source": [
    "eq['f(nu1,nu2)'] = lambda i: solve(\n",
    "                      [Eq(eq['nu1'](i), nu[1]), Eq(eq['nu2'](i), nu[2])],\n",
    "                      [Derivative(psi[i],t), Derivative(theta[i],t)],\n",
    "                      dict=True)[0]; # возвращает словарь с выражениями для diff(psi) и diff(theta)"
   ]
  },
  {
   "cell_type": "code",
   "execution_count": 51,
   "metadata": {},
   "outputs": [
    {
     "data": {
      "text/latex": [
       "$\\displaystyle \\frac{d}{d t} \\alpha{\\left(t \\right)} = \\nu_{3}{\\left(t \\right)}$"
      ],
      "text/plain": [
       "Eq(Derivative(alpha(t), t), nu3(t))"
      ]
     },
     "execution_count": 51,
     "metadata": {},
     "output_type": "execute_result"
    }
   ],
   "source": [
    "Eq(Derivative(alpha), nu[3])"
   ]
  },
  {
   "cell_type": "markdown",
   "metadata": {},
   "source": [
    "####  Связи"
   ]
  },
  {
   "cell_type": "code",
   "execution_count": 52,
   "metadata": {},
   "outputs": [],
   "source": [
    "eq['diff(psi)_nu']   = lambda i: eq['f(nu1,nu2)'](i)[Derivative(psi[i],t)]\n",
    "eq['diff(theta)_nu'] = lambda i: eq['f(nu1,nu2)'](i)[Derivative(theta[i],t)]"
   ]
  },
  {
   "cell_type": "code",
   "execution_count": 53,
   "metadata": {},
   "outputs": [
    {
     "data": {
      "text/latex": [
       "$\\displaystyle \\left[\\begin{matrix}\\frac{d}{d t} \\psi_{0}{\\left(t \\right)} = - \\frac{\\nu_{1}{\\left(t \\right)} \\cos{\\left(\\theta_{0}{\\left(t \\right)} \\right)} + \\nu_{2}{\\left(t \\right)} \\sin{\\left(\\theta_{0}{\\left(t \\right)} \\right)} + \\sin{\\left(\\beta_{0} - \\theta_{0}{\\left(t \\right)} \\right)} \\frac{d}{d t} \\alpha{\\left(t \\right)}}{r}\\\\\\frac{d}{d t} \\theta_{0}{\\left(t \\right)} = \\frac{- d \\frac{d}{d t} \\alpha{\\left(t \\right)} - \\nu_{1}{\\left(t \\right)} \\sin{\\left(\\theta_{0}{\\left(t \\right)} \\right)} + \\nu_{2}{\\left(t \\right)} \\cos{\\left(\\theta_{0}{\\left(t \\right)} \\right)} - \\cos{\\left(\\beta_{0} - \\theta_{0}{\\left(t \\right)} \\right)} \\frac{d}{d t} \\alpha{\\left(t \\right)}}{d}\\end{matrix}\\right]$"
      ],
      "text/plain": [
       "Matrix([\n",
       "[                              Eq(Derivative(psi0(t), t), -(nu1(t)*cos(theta0(t)) + nu2(t)*sin(theta0(t)) + sin(beta0 - theta0(t))*Derivative(alpha(t), t))/r)],\n",
       "[Eq(Derivative(theta0(t), t), (-d*Derivative(alpha(t), t) - nu1(t)*sin(theta0(t)) + nu2(t)*cos(theta0(t)) - cos(beta0 - theta0(t))*Derivative(alpha(t), t))/d)]])"
      ]
     },
     "execution_count": 53,
     "metadata": {},
     "output_type": "execute_result"
    }
   ],
   "source": [
    "Matrix([Eq(Derivative(psi[0], t), eq['diff(psi)_nu'](0)),\n",
    "        Eq(Derivative(theta[0], t), eq['diff(theta)_nu'](0))])"
   ]
  },
  {
   "cell_type": "code",
   "execution_count": null,
   "metadata": {},
   "outputs": [],
   "source": []
  },
  {
   "cell_type": "code",
   "execution_count": 54,
   "metadata": {},
   "outputs": [],
   "source": [
    "# L, m, x, y, t, alpha = symbols('L, m, x, y, t, alpha')\n",
    "# _nu1, _nu2, _nu3, _nu4, _nu5 = symbols('nu1_, nu2_, nu3_, nu4_, nu5_')\n",
    "# W, T = symbols('W, T')\n",
    "# s = symbols('s')\n",
    "P = IndexedBase('P')\n",
    "p = IndexedBase('p')\n",
    "# p = IndexedBase('p')\n",
    "_omega = IndexedBase('omega')\n",
    "_v = IndexedBase('v')\n",
    "# Q = IndexedBase('Q')\n",
    "k = symbols('k', cls=Idx)\n",
    "# J = IndexedBase('J')\n",
    "\n",
    "# xi, eta = symbols('xi, eta')\n",
    "# e = {}\n",
    "# e['x'] = Matrix([1,0])\n",
    "# e['y'] = Matrix([0,1])\n",
    "# e['xi'] = Matrix([cos(alpha), sin(alpha)])\n",
    "# e['eta'] = Matrix([-sin(alpha), cos(alpha)])"
   ]
  },
  {
   "cell_type": "code",
   "execution_count": null,
   "metadata": {},
   "outputs": [],
   "source": []
  },
  {
   "cell_type": "code",
   "execution_count": 55,
   "metadata": {},
   "outputs": [],
   "source": [
    "# A, C, c = symbols('A, C, c')\n",
    "\n",
    "# psi, theta, phi = symbols('psi, theta, phi') # v\n",
    "\n",
    "# g = symbols('g')"
   ]
  },
  {
   "cell_type": "markdown",
   "metadata": {},
   "source": [
    "$$ L = T - V $$\n",
    "$$ T = T_{pl} + T_{fo} + T_{wh} $$"
   ]
  },
  {
   "cell_type": "markdown",
   "metadata": {},
   "source": [
    "$$ T_{pl} = \\frac{m_{pl} v_S^2}{2} + \\frac{J_{pl} \\omega_{pl}^2}{2} $$\n",
    "$$ T_{fo} = 0$$\n",
    "$$ T_{wh} = \\frac{m_{wh} v_S^2}{2} + \\frac{J_{wh} \\omega_{wh}^2}{2} $$"
   ]
  },
  {
   "cell_type": "markdown",
   "metadata": {},
   "source": [
    "#### Platform"
   ]
  },
  {
   "cell_type": "code",
   "execution_count": 56,
   "metadata": {},
   "outputs": [
    {
     "data": {
      "text/latex": [
       "$\\displaystyle m_{1}$"
      ],
      "text/plain": [
       "m1"
      ]
     },
     "execution_count": 56,
     "metadata": {},
     "output_type": "execute_result"
    }
   ],
   "source": [
    "m['platform']"
   ]
  },
  {
   "cell_type": "code",
   "execution_count": 57,
   "metadata": {},
   "outputs": [
    {
     "data": {
      "text/latex": [
       "$\\displaystyle \\left(\\frac{d}{d t} x{\\left(t \\right)}\\right)^{2} + \\left(\\frac{d}{d t} y{\\left(t \\right)}\\right)^{2}$"
      ],
      "text/plain": [
       "Derivative(x(t), t)**2 + Derivative(y(t), t)**2"
      ]
     },
     "execution_count": 57,
     "metadata": {},
     "output_type": "execute_result"
    }
   ],
   "source": [
    "Derivative(x, t)**2 + Derivative(y, t)**2"
   ]
  },
  {
   "cell_type": "code",
   "execution_count": 58,
   "metadata": {},
   "outputs": [],
   "source": [
    "J['platform'] = eye(3,3)*a"
   ]
  },
  {
   "cell_type": "code",
   "execution_count": 59,
   "metadata": {},
   "outputs": [
    {
     "data": {
      "text/latex": [
       "$\\displaystyle \\left[\\begin{matrix}0\\\\0\\\\\\frac{d}{d t} \\alpha{\\left(t \\right)}\\end{matrix}\\right]$"
      ],
      "text/plain": [
       "Matrix([\n",
       "[                      0],\n",
       "[                      0],\n",
       "[Derivative(alpha(t), t)]])"
      ]
     },
     "execution_count": 59,
     "metadata": {},
     "output_type": "execute_result"
    }
   ],
   "source": [
    "omega['platform'](0)"
   ]
  },
  {
   "cell_type": "markdown",
   "metadata": {},
   "source": [
    "#### Wheel"
   ]
  },
  {
   "cell_type": "code",
   "execution_count": 60,
   "metadata": {},
   "outputs": [
    {
     "data": {
      "text/latex": [
       "$\\displaystyle m_{2}$"
      ],
      "text/plain": [
       "m2"
      ]
     },
     "execution_count": 60,
     "metadata": {},
     "output_type": "execute_result"
    }
   ],
   "source": [
    "m['wheel']"
   ]
  },
  {
   "cell_type": "code",
   "execution_count": 61,
   "metadata": {},
   "outputs": [
    {
     "data": {
      "text/latex": [
       "$\\displaystyle \\left[\\begin{matrix}d \\left(- \\sin{\\left(\\alpha{\\left(t \\right)} \\right)} \\sin{\\left(\\theta_{0}{\\left(t \\right)} \\right)} + \\cos{\\left(\\alpha{\\left(t \\right)} \\right)} \\cos{\\left(\\theta_{0}{\\left(t \\right)} \\right)}\\right) + x{\\left(t \\right)}\\\\d \\left(\\sin{\\left(\\alpha{\\left(t \\right)} \\right)} \\cos{\\left(\\theta_{0}{\\left(t \\right)} \\right)} + \\sin{\\left(\\theta_{0}{\\left(t \\right)} \\right)} \\cos{\\left(\\alpha{\\left(t \\right)} \\right)}\\right) + y{\\left(t \\right)}\\\\0\\end{matrix}\\right]$"
      ],
      "text/plain": [
       "Matrix([\n",
       "[d*(-sin(alpha(t))*sin(theta0(t)) + cos(alpha(t))*cos(theta0(t))) + x(t)],\n",
       "[ d*(sin(alpha(t))*cos(theta0(t)) + sin(theta0(t))*cos(alpha(t))) + y(t)],\n",
       "[                                                                      0]])"
      ]
     },
     "execution_count": 61,
     "metadata": {},
     "output_type": "execute_result"
    }
   ],
   "source": [
    "Matrix([x,y,0]) + d*e_wheel(0)"
   ]
  },
  {
   "cell_type": "code",
   "execution_count": 62,
   "metadata": {},
   "outputs": [],
   "source": [
    "J['wheel'] = Matrix([[b,0,0],[0,c,0],[0,0,b]])"
   ]
  },
  {
   "cell_type": "markdown",
   "metadata": {},
   "source": [
    "#### В одинаковых базисах нужно записывать угловую скорость и момент инерции !"
   ]
  },
  {
   "cell_type": "code",
   "execution_count": 63,
   "metadata": {},
   "outputs": [],
   "source": [
    "omega['wheel_in'] = lambda i: psi[i].diff(t)*e['y'] + (theta[i].diff(t) + alpha.diff(t))*e['z']"
   ]
  },
  {
   "cell_type": "code",
   "execution_count": 64,
   "metadata": {},
   "outputs": [
    {
     "data": {
      "text/latex": [
       "$\\displaystyle \\left[\\begin{matrix}0\\\\\\frac{d}{d t} \\psi_{0}{\\left(t \\right)}\\\\\\frac{d}{d t} \\alpha{\\left(t \\right)} + \\frac{d}{d t} \\theta_{0}{\\left(t \\right)}\\end{matrix}\\right]$"
      ],
      "text/plain": [
       "Matrix([\n",
       "[                                                 0],\n",
       "[                            Derivative(psi0(t), t)],\n",
       "[Derivative(alpha(t), t) + Derivative(theta0(t), t)]])"
      ]
     },
     "execution_count": 64,
     "metadata": {},
     "output_type": "execute_result"
    }
   ],
   "source": [
    "omega['wheel_in'](0)"
   ]
  },
  {
   "cell_type": "code",
   "execution_count": null,
   "metadata": {},
   "outputs": [],
   "source": []
  },
  {
   "cell_type": "markdown",
   "metadata": {},
   "source": [
    "### Моменты сил\n",
    "####  (platform) $ \\vec{M} = -W_0*\\vec{e}_z $ \n",
    "####  (fork) $ \\vec{M} = W_0*\\vec{e}_z - T_0*\\vec{n}_0 $ \n",
    "####  (wheel) $ \\vec{M} = T_0*\\vec{n}_0 $ "
   ]
  },
  {
   "cell_type": "code",
   "execution_count": 65,
   "metadata": {},
   "outputs": [],
   "source": [
    "eq['nu1(x,y)'] = Eq(nu[1], Derivative(x,t)*cos(alpha) + Derivative(y,t)*sin(alpha))\n",
    "eq['nu2(x,y)'] = Eq(nu[2], -Derivative(x,t)*sin(alpha) + Derivative(y,t)*cos(alpha))"
   ]
  },
  {
   "cell_type": "code",
   "execution_count": 66,
   "metadata": {},
   "outputs": [],
   "source": [
    "eq['diff_x(nu1,nu2)'], eq['diff_y(nu1,nu2)'] = linsolve([eq['nu1(x,y)'], eq['nu2(x,y)']], (Derivative(x, t), Derivative(y, t))).args[0]"
   ]
  },
  {
   "cell_type": "code",
   "execution_count": 67,
   "metadata": {},
   "outputs": [],
   "source": [
    "def subs_xy(obj):\n",
    "    substed = obj.subs({nu[1]: eq['nu1(x,y)'],\n",
    "                        nu[2]: eq['nu2(x,y)']})\n",
    "    return substed"
   ]
  },
  {
   "cell_type": "markdown",
   "metadata": {},
   "source": [
    "### L"
   ]
  },
  {
   "cell_type": "code",
   "execution_count": 71,
   "metadata": {},
   "outputs": [],
   "source": [
    "L = Symbol('L')"
   ]
  },
  {
   "cell_type": "code",
   "execution_count": 72,
   "metadata": {},
   "outputs": [],
   "source": [
    "pl = m['platform']/2*(Derivative(x, t)**2 + Derivative(y, t)**2)\n",
    "pl += (J['platform']*omega['platform'](0)).dot(omega['platform'](0))/2\n",
    "\n",
    "wh = m['wheel']/2*(MatrixElDerivative(Matrix([x,y,0]) + d*e_wheel(0))).dot(MatrixElDerivative(Matrix([x,y,0]) + d*e_wheel(0)))\n",
    "wh += (J['wheel']*omega['wheel_in'](0)).dot(omega['wheel_in'](0))/2"
   ]
  },
  {
   "cell_type": "code",
   "execution_count": 73,
   "metadata": {},
   "outputs": [
    {
     "data": {
      "text/latex": [
       "$\\displaystyle L = \\frac{a \\left(\\frac{d}{d t} \\alpha{\\left(t \\right)}\\right)^{2}}{2} + \\frac{b \\left(\\frac{d}{d t} \\alpha{\\left(t \\right)} + \\frac{d}{d t} \\theta_{0}{\\left(t \\right)}\\right)^{2}}{2} + \\frac{c \\left(\\frac{d}{d t} \\psi_{0}{\\left(t \\right)}\\right)^{2}}{2} + \\frac{m_{1} \\left(\\left(\\frac{d}{d t} x{\\left(t \\right)}\\right)^{2} + \\left(\\frac{d}{d t} y{\\left(t \\right)}\\right)^{2}\\right)}{2} + \\frac{m_{2} \\left(\\left(d \\left(- \\sin{\\left(\\alpha{\\left(t \\right)} \\right)} \\sin{\\left(\\theta_{0}{\\left(t \\right)} \\right)} \\frac{d}{d t} \\alpha{\\left(t \\right)} - \\sin{\\left(\\alpha{\\left(t \\right)} \\right)} \\sin{\\left(\\theta_{0}{\\left(t \\right)} \\right)} \\frac{d}{d t} \\theta_{0}{\\left(t \\right)} + \\cos{\\left(\\alpha{\\left(t \\right)} \\right)} \\cos{\\left(\\theta_{0}{\\left(t \\right)} \\right)} \\frac{d}{d t} \\alpha{\\left(t \\right)} + \\cos{\\left(\\alpha{\\left(t \\right)} \\right)} \\cos{\\left(\\theta_{0}{\\left(t \\right)} \\right)} \\frac{d}{d t} \\theta_{0}{\\left(t \\right)}\\right) + \\frac{d}{d t} y{\\left(t \\right)}\\right)^{2} + \\left(d \\left(- \\sin{\\left(\\alpha{\\left(t \\right)} \\right)} \\cos{\\left(\\theta_{0}{\\left(t \\right)} \\right)} \\frac{d}{d t} \\alpha{\\left(t \\right)} - \\sin{\\left(\\alpha{\\left(t \\right)} \\right)} \\cos{\\left(\\theta_{0}{\\left(t \\right)} \\right)} \\frac{d}{d t} \\theta_{0}{\\left(t \\right)} - \\sin{\\left(\\theta_{0}{\\left(t \\right)} \\right)} \\cos{\\left(\\alpha{\\left(t \\right)} \\right)} \\frac{d}{d t} \\alpha{\\left(t \\right)} - \\sin{\\left(\\theta_{0}{\\left(t \\right)} \\right)} \\cos{\\left(\\alpha{\\left(t \\right)} \\right)} \\frac{d}{d t} \\theta_{0}{\\left(t \\right)}\\right) + \\frac{d}{d t} x{\\left(t \\right)}\\right)^{2}\\right)}{2}$"
      ],
      "text/plain": [
       "Eq(L, a*Derivative(alpha(t), t)**2/2 + b*(Derivative(alpha(t), t) + Derivative(theta0(t), t))**2/2 + c*Derivative(psi0(t), t)**2/2 + m1*(Derivative(x(t), t)**2 + Derivative(y(t), t)**2)/2 + m2*((d*(-sin(alpha(t))*sin(theta0(t))*Derivative(alpha(t), t) - sin(alpha(t))*sin(theta0(t))*Derivative(theta0(t), t) + cos(alpha(t))*cos(theta0(t))*Derivative(alpha(t), t) + cos(alpha(t))*cos(theta0(t))*Derivative(theta0(t), t)) + Derivative(y(t), t))**2 + (d*(-sin(alpha(t))*cos(theta0(t))*Derivative(alpha(t), t) - sin(alpha(t))*cos(theta0(t))*Derivative(theta0(t), t) - sin(theta0(t))*cos(alpha(t))*Derivative(alpha(t), t) - sin(theta0(t))*cos(alpha(t))*Derivative(theta0(t), t)) + Derivative(x(t), t))**2)/2)"
      ]
     },
     "execution_count": 73,
     "metadata": {},
     "output_type": "execute_result"
    }
   ],
   "source": [
    "L = Eq(L, pl + wh)\n",
    "L"
   ]
  },
  {
   "cell_type": "code",
   "execution_count": 74,
   "metadata": {},
   "outputs": [
    {
     "name": "stdout",
     "output_type": "stream",
     "text": [
      "CPU times: user 7.61 s, sys: 0 ns, total: 7.61 s\n",
      "Wall time: 7.61 s\n"
     ]
    }
   ],
   "source": [
    "%%time\n",
    "sL = simplify(L)"
   ]
  },
  {
   "cell_type": "code",
   "execution_count": 75,
   "metadata": {},
   "outputs": [
    {
     "data": {
      "text/latex": [
       "$\\displaystyle L = \\frac{a \\left(\\frac{d}{d t} \\alpha{\\left(t \\right)}\\right)^{2}}{2} + \\frac{b \\left(\\frac{d}{d t} \\alpha{\\left(t \\right)} + \\frac{d}{d t} \\theta_{0}{\\left(t \\right)}\\right)^{2}}{2} + \\frac{c \\left(\\frac{d}{d t} \\psi_{0}{\\left(t \\right)}\\right)^{2}}{2} + \\frac{m_{1} \\left(\\left(\\frac{d}{d t} x{\\left(t \\right)}\\right)^{2} + \\left(\\frac{d}{d t} y{\\left(t \\right)}\\right)^{2}\\right)}{2} + \\frac{m_{2} \\left(\\left(d \\left(\\frac{d}{d t} \\alpha{\\left(t \\right)} + \\frac{d}{d t} \\theta_{0}{\\left(t \\right)}\\right) \\sin{\\left(\\alpha{\\left(t \\right)} + \\theta_{0}{\\left(t \\right)} \\right)} - \\frac{d}{d t} x{\\left(t \\right)}\\right)^{2} + \\left(d \\left(\\frac{d}{d t} \\alpha{\\left(t \\right)} + \\frac{d}{d t} \\theta_{0}{\\left(t \\right)}\\right) \\cos{\\left(\\alpha{\\left(t \\right)} + \\theta_{0}{\\left(t \\right)} \\right)} + \\frac{d}{d t} y{\\left(t \\right)}\\right)^{2}\\right)}{2}$"
      ],
      "text/plain": [
       "Eq(L, a*Derivative(alpha(t), t)**2/2 + b*(Derivative(alpha(t), t) + Derivative(theta0(t), t))**2/2 + c*Derivative(psi0(t), t)**2/2 + m1*(Derivative(x(t), t)**2 + Derivative(y(t), t)**2)/2 + m2*((d*(Derivative(alpha(t), t) + Derivative(theta0(t), t))*sin(alpha(t) + theta0(t)) - Derivative(x(t), t))**2 + (d*(Derivative(alpha(t), t) + Derivative(theta0(t), t))*cos(alpha(t) + theta0(t)) + Derivative(y(t), t))**2)/2)"
      ]
     },
     "execution_count": 75,
     "metadata": {},
     "output_type": "execute_result"
    }
   ],
   "source": [
    "sL"
   ]
  },
  {
   "cell_type": "markdown",
   "metadata": {},
   "source": [
    "### Определим связи "
   ]
  },
  {
   "cell_type": "code",
   "execution_count": 98,
   "metadata": {},
   "outputs": [],
   "source": [
    "conn1 = Eq(Derivative(x, t), eq['diff_x(nu1,nu2)'])\n",
    "conn2 = Eq(Derivative(y, t), eq['diff_y(nu1,nu2)'])\n",
    "conn3 = Eq(Derivative(alpha, t), nu[3])\n",
    "conn4 = Eq(Derivative(theta[0], t), simplify(eq['diff(theta)_nu'](0))).subs({Derivative(alpha, t): nu[3]})\n",
    "conn5 = Eq(Derivative(psi[0], t), simplify(eq['diff(psi)_nu'](0))).subs({Derivative(alpha, t): nu[3]})"
   ]
  },
  {
   "cell_type": "code",
   "execution_count": 99,
   "metadata": {},
   "outputs": [
    {
     "data": {
      "text/latex": [
       "$\\displaystyle \\frac{d}{d t} x{\\left(t \\right)} = \\nu_{1}{\\left(t \\right)} \\cos{\\left(\\alpha{\\left(t \\right)} \\right)} - \\nu_{2}{\\left(t \\right)} \\sin{\\left(\\alpha{\\left(t \\right)} \\right)}$"
      ],
      "text/plain": [
       "Eq(Derivative(x(t), t), nu1(t)*cos(alpha(t)) - nu2(t)*sin(alpha(t)))"
      ]
     },
     "metadata": {},
     "output_type": "display_data"
    },
    {
     "data": {
      "text/latex": [
       "$\\displaystyle \\frac{d}{d t} y{\\left(t \\right)} = \\nu_{1}{\\left(t \\right)} \\sin{\\left(\\alpha{\\left(t \\right)} \\right)} + \\nu_{2}{\\left(t \\right)} \\cos{\\left(\\alpha{\\left(t \\right)} \\right)}$"
      ],
      "text/plain": [
       "Eq(Derivative(y(t), t), nu1(t)*sin(alpha(t)) + nu2(t)*cos(alpha(t)))"
      ]
     },
     "metadata": {},
     "output_type": "display_data"
    },
    {
     "data": {
      "text/latex": [
       "$\\displaystyle \\frac{d}{d t} \\alpha{\\left(t \\right)} = \\nu_{3}{\\left(t \\right)}$"
      ],
      "text/plain": [
       "Eq(Derivative(alpha(t), t), nu3(t))"
      ]
     },
     "metadata": {},
     "output_type": "display_data"
    },
    {
     "data": {
      "text/latex": [
       "$\\displaystyle \\frac{d}{d t} \\theta_{0}{\\left(t \\right)} = \\frac{- d \\nu_{3}{\\left(t \\right)} - \\nu_{1}{\\left(t \\right)} \\sin{\\left(\\theta_{0}{\\left(t \\right)} \\right)} + \\nu_{2}{\\left(t \\right)} \\cos{\\left(\\theta_{0}{\\left(t \\right)} \\right)} - \\nu_{3}{\\left(t \\right)} \\cos{\\left(\\beta_{0} - \\theta_{0}{\\left(t \\right)} \\right)}}{d}$"
      ],
      "text/plain": [
       "Eq(Derivative(theta0(t), t), (-d*nu3(t) - nu1(t)*sin(theta0(t)) + nu2(t)*cos(theta0(t)) - nu3(t)*cos(beta0 - theta0(t)))/d)"
      ]
     },
     "metadata": {},
     "output_type": "display_data"
    },
    {
     "data": {
      "text/latex": [
       "$\\displaystyle \\frac{d}{d t} \\psi_{0}{\\left(t \\right)} = - \\frac{\\nu_{1}{\\left(t \\right)} \\cos{\\left(\\theta_{0}{\\left(t \\right)} \\right)} + \\nu_{2}{\\left(t \\right)} \\sin{\\left(\\theta_{0}{\\left(t \\right)} \\right)} + \\nu_{3}{\\left(t \\right)} \\sin{\\left(\\beta_{0} - \\theta_{0}{\\left(t \\right)} \\right)}}{r}$"
      ],
      "text/plain": [
       "Eq(Derivative(psi0(t), t), -(nu1(t)*cos(theta0(t)) + nu2(t)*sin(theta0(t)) + nu3(t)*sin(beta0 - theta0(t)))/r)"
      ]
     },
     "metadata": {},
     "output_type": "display_data"
    }
   ],
   "source": [
    "for conn in [conn1, conn2, conn3, conn4, conn5]:\n",
    "    display(conn)"
   ]
  },
  {
   "cell_type": "markdown",
   "metadata": {},
   "source": [
    "## Заполним что нужно (связи, уравнения для $\\omega_i$, $v_i$, $F$)"
   ]
  },
  {
   "cell_type": "markdown",
   "metadata": {},
   "source": [
    "### Создадим объект для механической системы с уравнениями Татаринова "
   ]
  },
  {
   "cell_type": "code",
   "execution_count": 100,
   "metadata": {},
   "outputs": [],
   "source": [
    "S = TatarinovSystem()"
   ]
  },
  {
   "cell_type": "code",
   "execution_count": 101,
   "metadata": {},
   "outputs": [],
   "source": [
    "S.set_L(sL)"
   ]
  },
  {
   "cell_type": "code",
   "execution_count": 103,
   "metadata": {},
   "outputs": [
    {
     "data": {
      "text/plain": [
       "[Eq(Derivative(x(t), t), nu1(t)*cos(alpha(t)) - nu2(t)*sin(alpha(t))),\n",
       " Eq(Derivative(y(t), t), nu1(t)*sin(alpha(t)) + nu2(t)*cos(alpha(t))),\n",
       " Eq(Derivative(alpha(t), t), nu3(t)),\n",
       " Eq(Derivative(theta0(t), t), (-d*nu3(t) - nu1(t)*sin(theta0(t)) + nu2(t)*cos(theta0(t)) - nu3(t)*cos(beta0 - theta0(t)))/d),\n",
       " Eq(Derivative(psi0(t), t), -(nu1(t)*cos(theta0(t)) + nu2(t)*sin(theta0(t)) + nu3(t)*sin(beta0 - theta0(t)))/r)]"
      ]
     },
     "execution_count": 103,
     "metadata": {},
     "output_type": "execute_result"
    }
   ],
   "source": [
    "S.set_constraints([conn1, conn2, conn3, conn4, conn5])\n",
    "S.constraints"
   ]
  },
  {
   "cell_type": "code",
   "execution_count": 104,
   "metadata": {},
   "outputs": [
    {
     "name": "stdout",
     "output_type": "stream",
     "text": [
      "CPU times: user 1min 44s, sys: 15.8 ms, total: 1min 44s\n",
      "Wall time: 1min 44s\n"
     ]
    }
   ],
   "source": [
    "%%time\n",
    "sL_star = S.set_L_star(S.sub_constraints(sL))"
   ]
  },
  {
   "cell_type": "code",
   "execution_count": 105,
   "metadata": {},
   "outputs": [],
   "source": [
    "S.set_p([p[1], p[2], p[3]]) # это скорее внутренняя переменная и её не надо задавать here \n",
    "S.set_q([x, y, alpha, theta[0], psi[0]])"
   ]
  },
  {
   "cell_type": "code",
   "execution_count": 106,
   "metadata": {},
   "outputs": [
    {
     "data": {
      "text/plain": [
       "[Eq(omega[1], nu1(t)), Eq(omega[2], nu2(t)), Eq(omega[3], nu3(t))]"
      ]
     },
     "execution_count": 106,
     "metadata": {},
     "output_type": "execute_result"
    }
   ],
   "source": [
    "S.set_omega_equations(omegas=[_omega[1], _omega[2], _omega[3]],\n",
    "                      equations=[nu[1], nu[2], nu[3]])\n",
    "S.omega_equations"
   ]
  },
  {
   "cell_type": "code",
   "execution_count": 107,
   "metadata": {},
   "outputs": [
    {
     "data": {
      "text/plain": [
       "[Eq(v[1], Derivative(x(t), t)),\n",
       " Eq(v[2], Derivative(y(t), t)),\n",
       " Eq(v[3], Derivative(alpha(t), t)),\n",
       " Eq(v[4], Derivative(theta0(t), t)),\n",
       " Eq(v[5], Derivative(psi0(t), t))]"
      ]
     },
     "execution_count": 107,
     "metadata": {},
     "output_type": "execute_result"
    }
   ],
   "source": [
    "S.set_v_equations(vs=[_v[1], _v[2], _v[3], _v[4], _v[5]],\n",
    "                  equations=[Derivative(x, t), Derivative(y, t), Derivative(alpha, t), Derivative(theta[0], t), Derivative(psi[0], t)])\n",
    "S.v_equations"
   ]
  },
  {
   "cell_type": "markdown",
   "metadata": {},
   "source": [
    "### Создадим $P_{\\alpha}$"
   ]
  },
  {
   "cell_type": "code",
   "execution_count": 108,
   "metadata": {},
   "outputs": [
    {
     "name": "stdout",
     "output_type": "stream",
     "text": [
      "Eq(Sum(P[k]*omega[k], (k, 1, 3)), Sum(p[k]*v[k], (k, 1, 3)))\n",
      "Eq(nu1(t)*P[1] + nu2(t)*P[2] + nu3(t)*P[3], (nu1(t)*sin(alpha(t)) + nu2(t)*cos(alpha(t)))*p[2] + (nu1(t)*cos(alpha(t)) - nu2(t)*sin(alpha(t)))*p[1] + nu3(t)*p[3])\n"
     ]
    },
    {
     "data": {
      "text/plain": [
       "[Eq(P[1], sin(alpha(t))*p[2] + cos(alpha(t))*p[1]),\n",
       " Eq(P[2], -sin(alpha(t))*p[1] + cos(alpha(t))*p[2]),\n",
       " Eq(P[3], p[3])]"
      ]
     },
     "execution_count": 108,
     "metadata": {},
     "output_type": "execute_result"
    }
   ],
   "source": [
    "Ps = S.create_P()\n",
    "Ps"
   ]
  },
  {
   "cell_type": "markdown",
   "metadata": {},
   "source": [
    "### Создадим $Q_i$"
   ]
  },
  {
   "cell_type": "code",
   "execution_count": 109,
   "metadata": {},
   "outputs": [],
   "source": [
    "# F = Matrix([0,0,0])\n",
    "# S.set_F(F)\n",
    "\n",
    "# S.create_Q(S.F, S.create_r()['p'])\n",
    "# S.Q\n",
    "\n",
    "S.set_Q([0,0,0,W[1],T[1]])"
   ]
  },
  {
   "cell_type": "code",
   "execution_count": 115,
   "metadata": {},
   "outputs": [
    {
     "data": {
      "text/latex": [
       "$\\displaystyle - \\frac{\\operatorname{T_{1}}{\\left(t \\right)} \\cos{\\left(\\theta_{0}{\\left(t \\right)} \\right)}}{r} - \\frac{\\operatorname{W_{1}}{\\left(t \\right)} \\sin{\\left(\\theta_{0}{\\left(t \\right)} \\right)}}{d}$"
      ],
      "text/plain": [
       "-T1(t)*cos(theta0(t))/r - W1(t)*sin(theta0(t))/d"
      ]
     },
     "metadata": {},
     "output_type": "display_data"
    },
    {
     "data": {
      "text/latex": [
       "$\\displaystyle - \\frac{\\operatorname{T_{1}}{\\left(t \\right)} \\sin{\\left(\\theta_{0}{\\left(t \\right)} \\right)}}{r} + \\frac{\\operatorname{W_{1}}{\\left(t \\right)} \\cos{\\left(\\theta_{0}{\\left(t \\right)} \\right)}}{d}$"
      ],
      "text/plain": [
       "-T1(t)*sin(theta0(t))/r + W1(t)*cos(theta0(t))/d"
      ]
     },
     "metadata": {},
     "output_type": "display_data"
    },
    {
     "data": {
      "text/latex": [
       "$\\displaystyle - \\frac{\\operatorname{T_{1}}{\\left(t \\right)} \\sin{\\left(\\beta_{0} - \\theta_{0}{\\left(t \\right)} \\right)}}{r} + \\frac{\\left(- d - \\cos{\\left(\\beta_{0} - \\theta_{0}{\\left(t \\right)} \\right)}\\right) \\operatorname{W_{1}}{\\left(t \\right)}}{d}$"
      ],
      "text/plain": [
       "-T1(t)*sin(beta0 - theta0(t))/r + (-d - cos(beta0 - theta0(t)))*W1(t)/d"
      ]
     },
     "metadata": {},
     "output_type": "display_data"
    }
   ],
   "source": [
    "for i in range(3):\n",
    "    display(S.Q_dw_by_dv(i))"
   ]
  },
  {
   "cell_type": "markdown",
   "metadata": {},
   "source": [
    "### Получаем уравнения"
   ]
  },
  {
   "cell_type": "markdown",
   "metadata": {},
   "source": [
    "##### Проверим что функция работает верно"
   ]
  },
  {
   "cell_type": "code",
   "execution_count": null,
   "metadata": {},
   "outputs": [],
   "source": [
    "i = 0"
   ]
  },
  {
   "cell_type": "code",
   "execution_count": null,
   "metadata": {},
   "outputs": [],
   "source": [
    "left, right = 0,0"
   ]
  },
  {
   "cell_type": "code",
   "execution_count": null,
   "metadata": {},
   "outputs": [],
   "source": [
    "left = S.L_star.args[1]"
   ]
  },
  {
   "cell_type": "code",
   "execution_count": 175,
   "metadata": {},
   "outputs": [
    {
     "data": {
      "text/latex": [
       "$\\displaystyle \\nu_{1}{\\left(t \\right)}$"
      ],
      "text/plain": [
       "nu1(t)"
      ]
     },
     "execution_count": 175,
     "metadata": {},
     "output_type": "execute_result"
    }
   ],
   "source": [
    "tmp = S.right_part_Eqs(S.omega_equations)[i]\n",
    "tmp"
   ]
  },
  {
   "cell_type": "code",
   "execution_count": 176,
   "metadata": {},
   "outputs": [
    {
     "data": {
      "text/latex": [
       "$\\displaystyle \\frac{2 b r^{2} \\left(\\nu_{1}{\\left(t \\right)} \\sin{\\left(\\theta_{0}{\\left(t \\right)} \\right)} - \\nu_{2}{\\left(t \\right)} \\cos{\\left(\\theta_{0}{\\left(t \\right)} \\right)} + \\nu_{3}{\\left(t \\right)} \\cos{\\left(\\beta_{0} - \\theta_{0}{\\left(t \\right)} \\right)}\\right) \\sin{\\left(\\theta_{0}{\\left(t \\right)} \\right)} + 2 c d^{2} \\left(\\nu_{1}{\\left(t \\right)} \\cos{\\left(\\theta_{0}{\\left(t \\right)} \\right)} + \\nu_{2}{\\left(t \\right)} \\sin{\\left(\\theta_{0}{\\left(t \\right)} \\right)} + \\nu_{3}{\\left(t \\right)} \\sin{\\left(\\beta_{0} - \\theta_{0}{\\left(t \\right)} \\right)}\\right) \\cos{\\left(\\theta_{0}{\\left(t \\right)} \\right)} + d^{2} r^{2} \\left(2 m_{1} \\nu_{1}{\\left(t \\right)} + m_{2} \\left(\\left(2 \\sin{\\left(\\alpha{\\left(t \\right)} + \\theta_{0}{\\left(t \\right)} \\right)} \\sin{\\left(\\theta_{0}{\\left(t \\right)} \\right)} + 2 \\cos{\\left(\\alpha{\\left(t \\right)} \\right)}\\right) \\left(\\nu_{1}{\\left(t \\right)} \\sin{\\left(\\alpha{\\left(t \\right)} + \\theta_{0}{\\left(t \\right)} \\right)} \\sin{\\left(\\theta_{0}{\\left(t \\right)} \\right)} + \\nu_{1}{\\left(t \\right)} \\cos{\\left(\\alpha{\\left(t \\right)} \\right)} - 2 \\nu_{2}{\\left(t \\right)} \\sin{\\left(\\alpha{\\left(t \\right)} \\right)} - \\nu_{2}{\\left(t \\right)} \\sin{\\left(\\theta_{0}{\\left(t \\right)} \\right)} \\cos{\\left(\\alpha{\\left(t \\right)} + \\theta_{0}{\\left(t \\right)} \\right)} + \\nu_{3}{\\left(t \\right)} \\sin{\\left(\\alpha{\\left(t \\right)} + \\theta_{0}{\\left(t \\right)} \\right)} \\cos{\\left(\\beta_{0} - \\theta_{0}{\\left(t \\right)} \\right)}\\right) + \\left(- 2 \\sin{\\left(\\alpha{\\left(t \\right)} \\right)} + 2 \\sin{\\left(\\theta_{0}{\\left(t \\right)} \\right)} \\cos{\\left(\\alpha{\\left(t \\right)} + \\theta_{0}{\\left(t \\right)} \\right)}\\right) \\left(- \\nu_{1}{\\left(t \\right)} \\sin{\\left(\\alpha{\\left(t \\right)} \\right)} + \\nu_{1}{\\left(t \\right)} \\sin{\\left(\\theta_{0}{\\left(t \\right)} \\right)} \\cos{\\left(\\alpha{\\left(t \\right)} + \\theta_{0}{\\left(t \\right)} \\right)} + \\nu_{2}{\\left(t \\right)} \\sin{\\left(\\alpha{\\left(t \\right)} + \\theta_{0}{\\left(t \\right)} \\right)} \\sin{\\left(\\theta_{0}{\\left(t \\right)} \\right)} - 2 \\nu_{2}{\\left(t \\right)} \\cos{\\left(\\alpha{\\left(t \\right)} \\right)} + \\nu_{3}{\\left(t \\right)} \\cos{\\left(\\beta_{0} - \\theta_{0}{\\left(t \\right)} \\right)} \\cos{\\left(\\alpha{\\left(t \\right)} + \\theta_{0}{\\left(t \\right)} \\right)}\\right)\\right)\\right)}{2 d^{2} r^{2}}$"
      ],
      "text/plain": [
       "(2*b*r**2*(nu1(t)*sin(theta0(t)) - nu2(t)*cos(theta0(t)) + nu3(t)*cos(beta0 - theta0(t)))*sin(theta0(t)) + 2*c*d**2*(nu1(t)*cos(theta0(t)) + nu2(t)*sin(theta0(t)) + nu3(t)*sin(beta0 - theta0(t)))*cos(theta0(t)) + d**2*r**2*(2*m1*nu1(t) + m2*((2*sin(alpha(t) + theta0(t))*sin(theta0(t)) + 2*cos(alpha(t)))*(nu1(t)*sin(alpha(t) + theta0(t))*sin(theta0(t)) + nu1(t)*cos(alpha(t)) - 2*nu2(t)*sin(alpha(t)) - nu2(t)*sin(theta0(t))*cos(alpha(t) + theta0(t)) + nu3(t)*sin(alpha(t) + theta0(t))*cos(beta0 - theta0(t))) + (-2*sin(alpha(t)) + 2*sin(theta0(t))*cos(alpha(t) + theta0(t)))*(-nu1(t)*sin(alpha(t)) + nu1(t)*sin(theta0(t))*cos(alpha(t) + theta0(t)) + nu2(t)*sin(alpha(t) + theta0(t))*sin(theta0(t)) - 2*nu2(t)*cos(alpha(t)) + nu3(t)*cos(beta0 - theta0(t))*cos(alpha(t) + theta0(t))))))/(2*d**2*r**2)"
      ]
     },
     "execution_count": 176,
     "metadata": {},
     "output_type": "execute_result"
    }
   ],
   "source": [
    "tmp = left.diff(tmp)\n",
    "tmp"
   ]
  },
  {
   "cell_type": "code",
   "execution_count": 177,
   "metadata": {},
   "outputs": [
    {
     "name": "stdout",
     "output_type": "stream",
     "text": [
      "CPU times: user 1min 5s, sys: 0 ns, total: 1min 5s\n",
      "Wall time: 1min 5s\n"
     ]
    }
   ],
   "source": [
    "%%time\n",
    "tmp = simplify(tmp.diff(t))"
   ]
  },
  {
   "cell_type": "code",
   "execution_count": 178,
   "metadata": {},
   "outputs": [
    {
     "data": {
      "text/latex": [
       "$\\displaystyle \\frac{b \\nu_{1}{\\left(t \\right)} \\sin{\\left(2 \\theta_{0}{\\left(t \\right)} \\right)} \\frac{d}{d t} \\theta_{0}{\\left(t \\right)}}{d^{2}} - \\frac{b \\nu_{2}{\\left(t \\right)} \\cos{\\left(2 \\theta_{0}{\\left(t \\right)} \\right)} \\frac{d}{d t} \\theta_{0}{\\left(t \\right)}}{d^{2}} + \\frac{b \\nu_{3}{\\left(t \\right)} \\cos{\\left(\\beta_{0} - 2 \\theta_{0}{\\left(t \\right)} \\right)} \\frac{d}{d t} \\theta_{0}{\\left(t \\right)}}{d^{2}} + \\frac{b \\sin{\\left(\\beta_{0} \\right)} \\frac{d}{d t} \\nu_{3}{\\left(t \\right)}}{2 d^{2}} - \\frac{b \\sin{\\left(\\beta_{0} - 2 \\theta_{0}{\\left(t \\right)} \\right)} \\frac{d}{d t} \\nu_{3}{\\left(t \\right)}}{2 d^{2}} - \\frac{b \\sin{\\left(2 \\theta_{0}{\\left(t \\right)} \\right)} \\frac{d}{d t} \\nu_{2}{\\left(t \\right)}}{2 d^{2}} - \\frac{b \\cos{\\left(2 \\theta_{0}{\\left(t \\right)} \\right)} \\frac{d}{d t} \\nu_{1}{\\left(t \\right)}}{2 d^{2}} + \\frac{b \\frac{d}{d t} \\nu_{1}{\\left(t \\right)}}{2 d^{2}} - \\frac{c \\nu_{1}{\\left(t \\right)} \\sin{\\left(2 \\theta_{0}{\\left(t \\right)} \\right)} \\frac{d}{d t} \\theta_{0}{\\left(t \\right)}}{r^{2}} + \\frac{c \\nu_{2}{\\left(t \\right)} \\cos{\\left(2 \\theta_{0}{\\left(t \\right)} \\right)} \\frac{d}{d t} \\theta_{0}{\\left(t \\right)}}{r^{2}} - \\frac{c \\nu_{3}{\\left(t \\right)} \\cos{\\left(\\beta_{0} - 2 \\theta_{0}{\\left(t \\right)} \\right)} \\frac{d}{d t} \\theta_{0}{\\left(t \\right)}}{r^{2}} + \\frac{c \\sin{\\left(\\beta_{0} \\right)} \\frac{d}{d t} \\nu_{3}{\\left(t \\right)}}{2 r^{2}} + \\frac{c \\sin{\\left(\\beta_{0} - 2 \\theta_{0}{\\left(t \\right)} \\right)} \\frac{d}{d t} \\nu_{3}{\\left(t \\right)}}{2 r^{2}} + \\frac{c \\sin{\\left(2 \\theta_{0}{\\left(t \\right)} \\right)} \\frac{d}{d t} \\nu_{2}{\\left(t \\right)}}{2 r^{2}} + \\frac{c \\cos{\\left(2 \\theta_{0}{\\left(t \\right)} \\right)} \\frac{d}{d t} \\nu_{1}{\\left(t \\right)}}{2 r^{2}} + \\frac{c \\frac{d}{d t} \\nu_{1}{\\left(t \\right)}}{2 r^{2}} + m_{1} \\frac{d}{d t} \\nu_{1}{\\left(t \\right)} + 3 m_{2} \\nu_{1}{\\left(t \\right)} \\sin{\\left(2 \\theta_{0}{\\left(t \\right)} \\right)} \\frac{d}{d t} \\theta_{0}{\\left(t \\right)} - 3 m_{2} \\nu_{2}{\\left(t \\right)} \\cos{\\left(2 \\theta_{0}{\\left(t \\right)} \\right)} \\frac{d}{d t} \\theta_{0}{\\left(t \\right)} + 2 m_{2} \\nu_{3}{\\left(t \\right)} \\cos{\\left(\\beta_{0} - 2 \\theta_{0}{\\left(t \\right)} \\right)} \\frac{d}{d t} \\theta_{0}{\\left(t \\right)} + m_{2} \\sin{\\left(\\beta_{0} \\right)} \\frac{d}{d t} \\nu_{3}{\\left(t \\right)} - m_{2} \\sin{\\left(\\beta_{0} - 2 \\theta_{0}{\\left(t \\right)} \\right)} \\frac{d}{d t} \\nu_{3}{\\left(t \\right)} - \\frac{3 m_{2} \\sin{\\left(2 \\theta_{0}{\\left(t \\right)} \\right)} \\frac{d}{d t} \\nu_{2}{\\left(t \\right)}}{2} - \\frac{3 m_{2} \\cos{\\left(2 \\theta_{0}{\\left(t \\right)} \\right)} \\frac{d}{d t} \\nu_{1}{\\left(t \\right)}}{2} + \\frac{5 m_{2} \\frac{d}{d t} \\nu_{1}{\\left(t \\right)}}{2}$"
      ],
      "text/plain": [
       "b*nu1(t)*sin(2*theta0(t))*Derivative(theta0(t), t)/d**2 - b*nu2(t)*cos(2*theta0(t))*Derivative(theta0(t), t)/d**2 + b*nu3(t)*cos(beta0 - 2*theta0(t))*Derivative(theta0(t), t)/d**2 + b*sin(beta0)*Derivative(nu3(t), t)/(2*d**2) - b*sin(beta0 - 2*theta0(t))*Derivative(nu3(t), t)/(2*d**2) - b*sin(2*theta0(t))*Derivative(nu2(t), t)/(2*d**2) - b*cos(2*theta0(t))*Derivative(nu1(t), t)/(2*d**2) + b*Derivative(nu1(t), t)/(2*d**2) - c*nu1(t)*sin(2*theta0(t))*Derivative(theta0(t), t)/r**2 + c*nu2(t)*cos(2*theta0(t))*Derivative(theta0(t), t)/r**2 - c*nu3(t)*cos(beta0 - 2*theta0(t))*Derivative(theta0(t), t)/r**2 + c*sin(beta0)*Derivative(nu3(t), t)/(2*r**2) + c*sin(beta0 - 2*theta0(t))*Derivative(nu3(t), t)/(2*r**2) + c*sin(2*theta0(t))*Derivative(nu2(t), t)/(2*r**2) + c*cos(2*theta0(t))*Derivative(nu1(t), t)/(2*r**2) + c*Derivative(nu1(t), t)/(2*r**2) + m1*Derivative(nu1(t), t) + 3*m2*nu1(t)*sin(2*theta0(t))*Derivative(theta0(t), t) - 3*m2*nu2(t)*cos(2*theta0(t))*Derivative(theta0(t), t) + 2*m2*nu3(t)*cos(beta0 - 2*theta0(t))*Derivative(theta0(t), t) + m2*sin(beta0)*Derivative(nu3(t), t) - m2*sin(beta0 - 2*theta0(t))*Derivative(nu3(t), t) - 3*m2*sin(2*theta0(t))*Derivative(nu2(t), t)/2 - 3*m2*cos(2*theta0(t))*Derivative(nu1(t), t)/2 + 5*m2*Derivative(nu1(t), t)/2"
      ]
     },
     "execution_count": 178,
     "metadata": {},
     "output_type": "execute_result"
    }
   ],
   "source": [
    "tmp"
   ]
  },
  {
   "cell_type": "code",
   "execution_count": 113,
   "metadata": {},
   "outputs": [],
   "source": [
    "left = tmp"
   ]
  },
  {
   "cell_type": "code",
   "execution_count": 144,
   "metadata": {},
   "outputs": [
    {
     "data": {
      "text/latex": [
       "$\\displaystyle L = \\frac{a \\left(\\frac{d}{d t} \\alpha{\\left(t \\right)}\\right)^{2}}{2} + \\frac{b \\left(\\frac{d}{d t} \\alpha{\\left(t \\right)} + \\frac{d}{d t} \\theta_{0}{\\left(t \\right)}\\right)^{2}}{2} + \\frac{c \\left(\\frac{d}{d t} \\psi_{0}{\\left(t \\right)}\\right)^{2}}{2} + \\frac{m_{1} \\left(\\left(\\frac{d}{d t} x{\\left(t \\right)}\\right)^{2} + \\left(\\frac{d}{d t} y{\\left(t \\right)}\\right)^{2}\\right)}{2} + \\frac{m_{2} \\left(\\left(d \\left(\\frac{d}{d t} \\alpha{\\left(t \\right)} + \\frac{d}{d t} \\theta_{0}{\\left(t \\right)}\\right) \\sin{\\left(\\alpha{\\left(t \\right)} + \\theta_{0}{\\left(t \\right)} \\right)} - \\frac{d}{d t} x{\\left(t \\right)}\\right)^{2} + \\left(d \\left(\\frac{d}{d t} \\alpha{\\left(t \\right)} + \\frac{d}{d t} \\theta_{0}{\\left(t \\right)}\\right) \\cos{\\left(\\alpha{\\left(t \\right)} + \\theta_{0}{\\left(t \\right)} \\right)} + \\frac{d}{d t} y{\\left(t \\right)}\\right)^{2}\\right)}{2}$"
      ],
      "text/plain": [
       "Eq(L, a*Derivative(alpha(t), t)**2/2 + b*(Derivative(alpha(t), t) + Derivative(theta0(t), t))**2/2 + c*Derivative(psi0(t), t)**2/2 + m1*(Derivative(x(t), t)**2 + Derivative(y(t), t)**2)/2 + m2*((d*(Derivative(alpha(t), t) + Derivative(theta0(t), t))*sin(alpha(t) + theta0(t)) - Derivative(x(t), t))**2 + (d*(Derivative(alpha(t), t) + Derivative(theta0(t), t))*cos(alpha(t) + theta0(t)) + Derivative(y(t), t))**2)/2)"
      ]
     },
     "execution_count": 144,
     "metadata": {},
     "output_type": "execute_result"
    }
   ],
   "source": [
    "S.L"
   ]
  },
  {
   "cell_type": "code",
   "execution_count": 150,
   "metadata": {},
   "outputs": [
    {
     "data": {
      "text/latex": [
       "$\\displaystyle 0$"
      ],
      "text/plain": [
       "0"
      ]
     },
     "execution_count": 150,
     "metadata": {},
     "output_type": "execute_result"
    }
   ],
   "source": [
    "simplify(S.L_star.args[1].subs({alpha: 8}) - S.L_star.args[1]) # !"
   ]
  },
  {
   "cell_type": "code",
   "execution_count": 151,
   "metadata": {},
   "outputs": [
    {
     "data": {
      "text/latex": [
       "$\\displaystyle \\sin{\\left(\\alpha{\\left(t \\right)} \\right)} {p}_{2} + \\cos{\\left(\\alpha{\\left(t \\right)} \\right)} {p}_{1}$"
      ],
      "text/plain": [
       "sin(alpha(t))*p[2] + cos(alpha(t))*p[1]"
      ]
     },
     "execution_count": 151,
     "metadata": {},
     "output_type": "execute_result"
    }
   ],
   "source": [
    "S.Ps[i].args[1]"
   ]
  },
  {
   "cell_type": "code",
   "execution_count": 153,
   "metadata": {},
   "outputs": [
    {
     "data": {
      "text/latex": [
       "$\\displaystyle \\frac{b r^{2} \\left(\\nu_{1}{\\left(t \\right)} \\sin{\\left(\\theta_{0}{\\left(t \\right)} \\right)} - \\nu_{2}{\\left(t \\right)} \\cos{\\left(\\theta_{0}{\\left(t \\right)} \\right)} + \\nu_{3}{\\left(t \\right)} \\cos{\\left(\\beta_{0} - \\theta_{0}{\\left(t \\right)} \\right)}\\right)^{2} + c d^{2} \\left(\\nu_{1}{\\left(t \\right)} \\cos{\\left(\\theta_{0}{\\left(t \\right)} \\right)} + \\nu_{2}{\\left(t \\right)} \\sin{\\left(\\theta_{0}{\\left(t \\right)} \\right)} + \\nu_{3}{\\left(t \\right)} \\sin{\\left(\\beta_{0} - \\theta_{0}{\\left(t \\right)} \\right)}\\right)^{2} + d^{2} r^{2} \\left(a \\nu_{3}^{2}{\\left(t \\right)} + m_{1} \\left(\\nu_{1}^{2}{\\left(t \\right)} + \\nu_{2}^{2}{\\left(t \\right)}\\right) + m_{2} \\left(\\left(- \\nu_{1}{\\left(t \\right)} \\sin{\\left(\\alpha{\\left(t \\right)} \\right)} + \\nu_{1}{\\left(t \\right)} \\sin{\\left(\\theta_{0}{\\left(t \\right)} \\right)} \\cos{\\left(\\alpha{\\left(t \\right)} + \\theta_{0}{\\left(t \\right)} \\right)} + \\nu_{2}{\\left(t \\right)} \\sin{\\left(\\alpha{\\left(t \\right)} + \\theta_{0}{\\left(t \\right)} \\right)} \\sin{\\left(\\theta_{0}{\\left(t \\right)} \\right)} - 2 \\nu_{2}{\\left(t \\right)} \\cos{\\left(\\alpha{\\left(t \\right)} \\right)} + \\nu_{3}{\\left(t \\right)} \\cos{\\left(\\beta_{0} - \\theta_{0}{\\left(t \\right)} \\right)} \\cos{\\left(\\alpha{\\left(t \\right)} + \\theta_{0}{\\left(t \\right)} \\right)}\\right)^{2} + \\left(\\nu_{1}{\\left(t \\right)} \\sin{\\left(\\alpha{\\left(t \\right)} + \\theta_{0}{\\left(t \\right)} \\right)} \\sin{\\left(\\theta_{0}{\\left(t \\right)} \\right)} + \\nu_{1}{\\left(t \\right)} \\cos{\\left(\\alpha{\\left(t \\right)} \\right)} - 2 \\nu_{2}{\\left(t \\right)} \\sin{\\left(\\alpha{\\left(t \\right)} \\right)} - \\nu_{2}{\\left(t \\right)} \\sin{\\left(\\theta_{0}{\\left(t \\right)} \\right)} \\cos{\\left(\\alpha{\\left(t \\right)} + \\theta_{0}{\\left(t \\right)} \\right)} + \\nu_{3}{\\left(t \\right)} \\sin{\\left(\\alpha{\\left(t \\right)} + \\theta_{0}{\\left(t \\right)} \\right)} \\cos{\\left(\\beta_{0} - \\theta_{0}{\\left(t \\right)} \\right)}\\right)^{2}\\right)\\right)}{2 d^{2} r^{2}}$"
      ],
      "text/plain": [
       "(b*r**2*(nu1(t)*sin(theta0(t)) - nu2(t)*cos(theta0(t)) + nu3(t)*cos(beta0 - theta0(t)))**2 + c*d**2*(nu1(t)*cos(theta0(t)) + nu2(t)*sin(theta0(t)) + nu3(t)*sin(beta0 - theta0(t)))**2 + d**2*r**2*(a*nu3(t)**2 + m1*(nu1(t)**2 + nu2(t)**2) + m2*((-nu1(t)*sin(alpha(t)) + nu1(t)*sin(theta0(t))*cos(alpha(t) + theta0(t)) + nu2(t)*sin(alpha(t) + theta0(t))*sin(theta0(t)) - 2*nu2(t)*cos(alpha(t)) + nu3(t)*cos(beta0 - theta0(t))*cos(alpha(t) + theta0(t)))**2 + (nu1(t)*sin(alpha(t) + theta0(t))*sin(theta0(t)) + nu1(t)*cos(alpha(t)) - 2*nu2(t)*sin(alpha(t)) - nu2(t)*sin(theta0(t))*cos(alpha(t) + theta0(t)) + nu3(t)*sin(alpha(t) + theta0(t))*cos(beta0 - theta0(t)))**2)))/(2*d**2*r**2)"
      ]
     },
     "execution_count": 153,
     "metadata": {},
     "output_type": "execute_result"
    }
   ],
   "source": [
    "simplify(S.L_star.args[1])"
   ]
  },
  {
   "cell_type": "code",
   "execution_count": 114,
   "metadata": {},
   "outputs": [],
   "source": [
    "tmp = S.poisson_bracket(S.Ps[i].args[1], S.L_star.args[1])"
   ]
  },
  {
   "cell_type": "code",
   "execution_count": 115,
   "metadata": {},
   "outputs": [],
   "source": [
    "left += tmp"
   ]
  },
  {
   "cell_type": "code",
   "execution_count": 166,
   "metadata": {},
   "outputs": [
    {
     "data": {
      "text/latex": [
       "$\\displaystyle \\frac{b d r^{2} \\left(\\sin{\\left(\\theta_{0}{\\left(t \\right)} \\right)} \\frac{d}{d t} \\nu_{1}{\\left(t \\right)} + \\cos{\\left(\\beta_{0} - \\theta_{0}{\\left(t \\right)} \\right)} \\frac{d}{d t} \\nu_{3}{\\left(t \\right)} - \\cos{\\left(\\theta_{0}{\\left(t \\right)} \\right)} \\frac{d}{d t} \\nu_{2}{\\left(t \\right)}\\right) \\sin{\\left(\\theta_{0}{\\left(t \\right)} \\right)} + b r^{2} \\left(- \\nu_{1}{\\left(t \\right)} \\sin{\\left(2 \\theta_{0}{\\left(t \\right)} \\right)} + \\nu_{2}{\\left(t \\right)} \\cos{\\left(2 \\theta_{0}{\\left(t \\right)} \\right)} - \\nu_{3}{\\left(t \\right)} \\cos{\\left(\\beta_{0} - 2 \\theta_{0}{\\left(t \\right)} \\right)}\\right) \\left(d \\nu_{3}{\\left(t \\right)} + \\nu_{1}{\\left(t \\right)} \\sin{\\left(\\theta_{0}{\\left(t \\right)} \\right)} - \\nu_{2}{\\left(t \\right)} \\cos{\\left(\\theta_{0}{\\left(t \\right)} \\right)} + \\nu_{3}{\\left(t \\right)} \\cos{\\left(\\beta_{0} - \\theta_{0}{\\left(t \\right)} \\right)}\\right) + \\frac{c d^{3} \\left(\\sin{\\left(\\beta_{0} \\right)} \\frac{d}{d t} \\nu_{3}{\\left(t \\right)} + \\sin{\\left(\\beta_{0} - 2 \\theta_{0}{\\left(t \\right)} \\right)} \\frac{d}{d t} \\nu_{3}{\\left(t \\right)} + \\sin{\\left(2 \\theta_{0}{\\left(t \\right)} \\right)} \\frac{d}{d t} \\nu_{2}{\\left(t \\right)} + \\cos{\\left(2 \\theta_{0}{\\left(t \\right)} \\right)} \\frac{d}{d t} \\nu_{1}{\\left(t \\right)} + \\frac{d}{d t} \\nu_{1}{\\left(t \\right)}\\right)}{2} + c d^{2} \\left(\\nu_{1}{\\left(t \\right)} \\sin{\\left(2 \\theta_{0}{\\left(t \\right)} \\right)} - \\nu_{2}{\\left(t \\right)} \\cos{\\left(2 \\theta_{0}{\\left(t \\right)} \\right)} + \\nu_{3}{\\left(t \\right)} \\cos{\\left(\\beta_{0} - 2 \\theta_{0}{\\left(t \\right)} \\right)}\\right) \\left(d \\nu_{3}{\\left(t \\right)} + \\nu_{1}{\\left(t \\right)} \\sin{\\left(\\theta_{0}{\\left(t \\right)} \\right)} - \\nu_{2}{\\left(t \\right)} \\cos{\\left(\\theta_{0}{\\left(t \\right)} \\right)} + \\nu_{3}{\\left(t \\right)} \\cos{\\left(\\beta_{0} - \\theta_{0}{\\left(t \\right)} \\right)}\\right) + \\frac{d^{3} r^{2} \\left(2 m_{1} \\frac{d}{d t} \\nu_{1}{\\left(t \\right)} + 2 m_{2} \\sin{\\left(\\beta_{0} \\right)} \\frac{d}{d t} \\nu_{3}{\\left(t \\right)} - 2 m_{2} \\sin{\\left(\\beta_{0} - 2 \\theta_{0}{\\left(t \\right)} \\right)} \\frac{d}{d t} \\nu_{3}{\\left(t \\right)} - 3 m_{2} \\sin{\\left(2 \\theta_{0}{\\left(t \\right)} \\right)} \\frac{d}{d t} \\nu_{2}{\\left(t \\right)} - 3 m_{2} \\cos{\\left(2 \\theta_{0}{\\left(t \\right)} \\right)} \\frac{d}{d t} \\nu_{1}{\\left(t \\right)} + 5 m_{2} \\frac{d}{d t} \\nu_{1}{\\left(t \\right)}\\right)}{2} + d^{2} m_{2} r^{2} \\left(- 3 \\nu_{1}{\\left(t \\right)} \\sin{\\left(2 \\theta_{0}{\\left(t \\right)} \\right)} + 3 \\nu_{2}{\\left(t \\right)} \\cos{\\left(2 \\theta_{0}{\\left(t \\right)} \\right)} - 2 \\nu_{3}{\\left(t \\right)} \\cos{\\left(\\beta_{0} - 2 \\theta_{0}{\\left(t \\right)} \\right)}\\right) \\left(d \\nu_{3}{\\left(t \\right)} + \\nu_{1}{\\left(t \\right)} \\sin{\\left(\\theta_{0}{\\left(t \\right)} \\right)} - \\nu_{2}{\\left(t \\right)} \\cos{\\left(\\theta_{0}{\\left(t \\right)} \\right)} + \\nu_{3}{\\left(t \\right)} \\cos{\\left(\\beta_{0} - \\theta_{0}{\\left(t \\right)} \\right)}\\right)}{d^{3} r^{2}}$"
      ],
      "text/plain": [
       "(b*d*r**2*(sin(theta0(t))*Derivative(nu1(t), t) + cos(beta0 - theta0(t))*Derivative(nu3(t), t) - cos(theta0(t))*Derivative(nu2(t), t))*sin(theta0(t)) + b*r**2*(-nu1(t)*sin(2*theta0(t)) + nu2(t)*cos(2*theta0(t)) - nu3(t)*cos(beta0 - 2*theta0(t)))*(d*nu3(t) + nu1(t)*sin(theta0(t)) - nu2(t)*cos(theta0(t)) + nu3(t)*cos(beta0 - theta0(t))) + c*d**3*(sin(beta0)*Derivative(nu3(t), t) + sin(beta0 - 2*theta0(t))*Derivative(nu3(t), t) + sin(2*theta0(t))*Derivative(nu2(t), t) + cos(2*theta0(t))*Derivative(nu1(t), t) + Derivative(nu1(t), t))/2 + c*d**2*(nu1(t)*sin(2*theta0(t)) - nu2(t)*cos(2*theta0(t)) + nu3(t)*cos(beta0 - 2*theta0(t)))*(d*nu3(t) + nu1(t)*sin(theta0(t)) - nu2(t)*cos(theta0(t)) + nu3(t)*cos(beta0 - theta0(t))) + d**3*r**2*(2*m1*Derivative(nu1(t), t) + 2*m2*sin(beta0)*Derivative(nu3(t), t) - 2*m2*sin(beta0 - 2*theta0(t))*Derivative(nu3(t), t) - 3*m2*sin(2*theta0(t))*Derivative(nu2(t), t) - 3*m2*cos(2*theta0(t))*Derivative(nu1(t), t) + 5*m2*Derivative(nu1(t), t))/2 + d**2*m2*r**2*(-3*nu1(t)*sin(2*theta0(t)) + 3*nu2(t)*cos(2*theta0(t)) - 2*nu3(t)*cos(beta0 - 2*theta0(t)))*(d*nu3(t) + nu1(t)*sin(theta0(t)) - nu2(t)*cos(theta0(t)) + nu3(t)*cos(beta0 - theta0(t))))/(d**3*r**2)"
      ]
     },
     "execution_count": 166,
     "metadata": {},
     "output_type": "execute_result"
    }
   ],
   "source": [
    "simplify(S.sub_constraints(left))"
   ]
  },
  {
   "cell_type": "code",
   "execution_count": 50,
   "metadata": {},
   "outputs": [
    {
     "data": {
      "text/plain": [
       "0"
      ]
     },
     "execution_count": 50,
     "metadata": {},
     "output_type": "execute_result"
    }
   ],
   "source": [
    "right"
   ]
  },
  {
   "cell_type": "code",
   "execution_count": 51,
   "metadata": {},
   "outputs": [
    {
     "data": {
      "text/latex": [
       "$\\displaystyle \\sin{\\left(\\alpha{\\left(t \\right)} \\right)} {p}_{2} + \\cos{\\left(\\alpha{\\left(t \\right)} \\right)} {p}_{1}$"
      ],
      "text/plain": [
       "sin(alpha(t))*p[2] + cos(alpha(t))*p[1]"
      ]
     },
     "execution_count": 51,
     "metadata": {},
     "output_type": "execute_result"
    }
   ],
   "source": [
    "S.Ps[i].args[1]"
   ]
  },
  {
   "cell_type": "code",
   "execution_count": 52,
   "metadata": {},
   "outputs": [
    {
     "data": {
      "text/latex": [
       "$\\displaystyle \\left(- \\sin{\\left(\\alpha{\\left(t \\right)} \\right)} {p}_{1} + \\cos{\\left(\\alpha{\\left(t \\right)} \\right)} {p}_{2}\\right) \\nu_{2}{\\left(t \\right)} + \\left(\\sin{\\left(\\alpha{\\left(t \\right)} \\right)} {p}_{2} + \\cos{\\left(\\alpha{\\left(t \\right)} \\right)} {p}_{1}\\right) \\nu_{1}{\\left(t \\right)} + \\nu_{3}{\\left(t \\right)} {p}_{3}$"
      ],
      "text/plain": [
       "(-sin(alpha(t))*p[1] + cos(alpha(t))*p[2])*nu2(t) + (sin(alpha(t))*p[2] + cos(alpha(t))*p[1])*nu1(t) + nu3(t)*p[3]"
      ]
     },
     "execution_count": 52,
     "metadata": {},
     "output_type": "execute_result"
    }
   ],
   "source": [
    "S.create_bracket_sum()"
   ]
  },
  {
   "cell_type": "code",
   "execution_count": 53,
   "metadata": {},
   "outputs": [
    {
     "data": {
      "text/latex": [
       "$\\displaystyle \\left(- \\sin{\\left(\\alpha{\\left(t \\right)} \\right)} {p}_{1} + \\cos{\\left(\\alpha{\\left(t \\right)} \\right)} {p}_{2}\\right) \\nu_{3}{\\left(t \\right)}$"
      ],
      "text/plain": [
       "(-sin(alpha(t))*p[1] + cos(alpha(t))*p[2])*nu3(t)"
      ]
     },
     "execution_count": 53,
     "metadata": {},
     "output_type": "execute_result"
    }
   ],
   "source": [
    "S.poisson_bracket(S.Ps[i].args[1], S.create_bracket_sum())"
   ]
  },
  {
   "cell_type": "code",
   "execution_count": 54,
   "metadata": {},
   "outputs": [],
   "source": [
    "right += S.poisson_bracket(S.Ps[i].args[1], S.create_bracket_sum())"
   ]
  },
  {
   "cell_type": "code",
   "execution_count": 56,
   "metadata": {},
   "outputs": [
    {
     "data": {
      "text/latex": [
       "$\\displaystyle \\left(- \\sin{\\left(\\alpha{\\left(t \\right)} \\right)} {p}_{1} + \\cos{\\left(\\alpha{\\left(t \\right)} \\right)} {p}_{2}\\right) \\nu_{3}{\\left(t \\right)}$"
      ],
      "text/plain": [
       "(-sin(alpha(t))*p[1] + cos(alpha(t))*p[2])*nu3(t)"
      ]
     },
     "execution_count": 56,
     "metadata": {},
     "output_type": "execute_result"
    }
   ],
   "source": [
    "right"
   ]
  },
  {
   "cell_type": "code",
   "execution_count": 122,
   "metadata": {},
   "outputs": [
    {
     "data": {
      "text/latex": [
       "$\\displaystyle 0$"
      ],
      "text/plain": [
       "0"
      ]
     },
     "execution_count": 122,
     "metadata": {},
     "output_type": "execute_result"
    }
   ],
   "source": [
    "S.Q_dw_by_dv(i)"
   ]
  },
  {
   "cell_type": "code",
   "execution_count": 123,
   "metadata": {},
   "outputs": [],
   "source": [
    "right += simplify(S.Q_dw_by_dv(i))"
   ]
  },
  {
   "cell_type": "code",
   "execution_count": 124,
   "metadata": {},
   "outputs": [
    {
     "data": {
      "text/latex": [
       "$\\displaystyle \\frac{a \\left(\\frac{d}{d t} \\alpha{\\left(t \\right)}\\right)^{2}}{2} + \\frac{b \\left(\\frac{d}{d t} \\alpha{\\left(t \\right)} + \\frac{d}{d t} \\theta_{0}{\\left(t \\right)}\\right)^{2}}{2} + \\frac{c \\left(\\frac{d}{d t} \\psi_{0}{\\left(t \\right)}\\right)^{2}}{2} + \\frac{m_{1} \\left(\\left(\\frac{d}{d t} x{\\left(t \\right)}\\right)^{2} + \\left(\\frac{d}{d t} y{\\left(t \\right)}\\right)^{2}\\right)}{2} + \\frac{m_{2} \\left(\\left(d \\left(\\frac{d}{d t} \\alpha{\\left(t \\right)} + \\frac{d}{d t} \\theta_{0}{\\left(t \\right)}\\right) \\sin{\\left(\\alpha{\\left(t \\right)} + \\theta_{0}{\\left(t \\right)} \\right)} - \\frac{d}{d t} x{\\left(t \\right)}\\right)^{2} + \\left(d \\left(\\frac{d}{d t} \\alpha{\\left(t \\right)} + \\frac{d}{d t} \\theta_{0}{\\left(t \\right)}\\right) \\cos{\\left(\\alpha{\\left(t \\right)} + \\theta_{0}{\\left(t \\right)} \\right)} + \\frac{d}{d t} y{\\left(t \\right)}\\right)^{2}\\right)}{2}$"
      ],
      "text/plain": [
       "a*Derivative(alpha(t), t)**2/2 + b*(Derivative(alpha(t), t) + Derivative(theta0(t), t))**2/2 + c*Derivative(psi0(t), t)**2/2 + m1*(Derivative(x(t), t)**2 + Derivative(y(t), t)**2)/2 + m2*((d*(Derivative(alpha(t), t) + Derivative(theta0(t), t))*sin(alpha(t) + theta0(t)) - Derivative(x(t), t))**2 + (d*(Derivative(alpha(t), t) + Derivative(theta0(t), t))*cos(alpha(t) + theta0(t)) + Derivative(y(t), t))**2)/2"
      ]
     },
     "execution_count": 124,
     "metadata": {},
     "output_type": "execute_result"
    }
   ],
   "source": [
    "S.L.args[1]"
   ]
  },
  {
   "cell_type": "code",
   "execution_count": 125,
   "metadata": {},
   "outputs": [
    {
     "data": {
      "text/latex": [
       "$\\displaystyle \\frac{d}{d t} x{\\left(t \\right)}$"
      ],
      "text/plain": [
       "Derivative(x(t), t)"
      ]
     },
     "execution_count": 125,
     "metadata": {},
     "output_type": "execute_result"
    }
   ],
   "source": [
    "S.right_part_Eqs(S.v_equations)[i]"
   ]
  },
  {
   "cell_type": "code",
   "execution_count": 126,
   "metadata": {},
   "outputs": [
    {
     "data": {
      "text/latex": [
       "$\\displaystyle m_{1} \\left(\\nu_{1}{\\left(t \\right)} \\cos{\\left(\\alpha{\\left(t \\right)} \\right)} - \\nu_{2}{\\left(t \\right)} \\sin{\\left(\\alpha{\\left(t \\right)} \\right)}\\right) + \\frac{m_{2} \\left(- 2 d \\left(\\nu_{3}{\\left(t \\right)} + \\frac{- d \\nu_{3}{\\left(t \\right)} - \\nu_{1}{\\left(t \\right)} \\sin{\\left(\\theta_{0}{\\left(t \\right)} \\right)} + \\nu_{2}{\\left(t \\right)} \\cos{\\left(\\theta_{0}{\\left(t \\right)} \\right)} - \\nu_{3}{\\left(t \\right)} \\cos{\\left(\\beta_{0} - \\theta_{0}{\\left(t \\right)} \\right)}}{d}\\right) \\sin{\\left(\\alpha{\\left(t \\right)} + \\theta_{0}{\\left(t \\right)} \\right)} + 2 \\nu_{1}{\\left(t \\right)} \\cos{\\left(\\alpha{\\left(t \\right)} \\right)} - 2 \\nu_{2}{\\left(t \\right)} \\sin{\\left(\\alpha{\\left(t \\right)} \\right)}\\right)}{2}$"
      ],
      "text/plain": [
       "m1*(nu1(t)*cos(alpha(t)) - nu2(t)*sin(alpha(t))) + m2*(-2*d*(nu3(t) + (-d*nu3(t) - nu1(t)*sin(theta0(t)) + nu2(t)*cos(theta0(t)) - nu3(t)*cos(beta0 - theta0(t)))/d)*sin(alpha(t) + theta0(t)) + 2*nu1(t)*cos(alpha(t)) - 2*nu2(t)*sin(alpha(t)))/2"
      ]
     },
     "execution_count": 126,
     "metadata": {},
     "output_type": "execute_result"
    }
   ],
   "source": [
    "S.sub_constraints(S.diff_hack(S.L.args[1], S.right_part_Eqs(S.v_equations)[i]))"
   ]
  },
  {
   "cell_type": "code",
   "execution_count": 127,
   "metadata": {},
   "outputs": [
    {
     "data": {
      "text/latex": [
       "$\\displaystyle m_{1} \\left(\\nu_{1}{\\left(t \\right)} \\cos{\\left(\\alpha{\\left(t \\right)} \\right)} - \\nu_{2}{\\left(t \\right)} \\sin{\\left(\\alpha{\\left(t \\right)} \\right)}\\right) - m_{2} \\left(\\left(- \\nu_{1}{\\left(t \\right)} \\sin{\\left(\\theta_{0}{\\left(t \\right)} \\right)} + \\nu_{2}{\\left(t \\right)} \\cos{\\left(\\theta_{0}{\\left(t \\right)} \\right)} - \\nu_{3}{\\left(t \\right)} \\cos{\\left(\\beta_{0} - \\theta_{0}{\\left(t \\right)} \\right)}\\right) \\sin{\\left(\\alpha{\\left(t \\right)} + \\theta_{0}{\\left(t \\right)} \\right)} - \\nu_{1}{\\left(t \\right)} \\cos{\\left(\\alpha{\\left(t \\right)} \\right)} + \\nu_{2}{\\left(t \\right)} \\sin{\\left(\\alpha{\\left(t \\right)} \\right)}\\right)$"
      ],
      "text/plain": [
       "m1*(nu1(t)*cos(alpha(t)) - nu2(t)*sin(alpha(t))) - m2*((-nu1(t)*sin(theta0(t)) + nu2(t)*cos(theta0(t)) - nu3(t)*cos(beta0 - theta0(t)))*sin(alpha(t) + theta0(t)) - nu1(t)*cos(alpha(t)) + nu2(t)*sin(alpha(t)))"
      ]
     },
     "execution_count": 127,
     "metadata": {},
     "output_type": "execute_result"
    }
   ],
   "source": [
    "simplify(S.sub_constraints(S.diff_hack(S.L.args[1], S.right_part_Eqs(S.v_equations)[i])))"
   ]
  },
  {
   "cell_type": "code",
   "execution_count": 128,
   "metadata": {},
   "outputs": [],
   "source": [
    "ps = lambda i: simplify(S.sub_constraints(S.diff_hack(S.L.args[1], S.right_part_Eqs(S.v_equations)[i])))"
   ]
  },
  {
   "cell_type": "code",
   "execution_count": 129,
   "metadata": {},
   "outputs": [
    {
     "data": {
      "text/latex": [
       "$\\displaystyle m_{1} \\left(\\nu_{1}{\\left(t \\right)} \\cos{\\left(\\alpha{\\left(t \\right)} \\right)} - \\nu_{2}{\\left(t \\right)} \\sin{\\left(\\alpha{\\left(t \\right)} \\right)}\\right) - m_{2} \\left(\\left(- \\nu_{1}{\\left(t \\right)} \\sin{\\left(\\theta_{0}{\\left(t \\right)} \\right)} + \\nu_{2}{\\left(t \\right)} \\cos{\\left(\\theta_{0}{\\left(t \\right)} \\right)} - \\nu_{3}{\\left(t \\right)} \\cos{\\left(\\beta_{0} - \\theta_{0}{\\left(t \\right)} \\right)}\\right) \\sin{\\left(\\alpha{\\left(t \\right)} + \\theta_{0}{\\left(t \\right)} \\right)} - \\nu_{1}{\\left(t \\right)} \\cos{\\left(\\alpha{\\left(t \\right)} \\right)} + \\nu_{2}{\\left(t \\right)} \\sin{\\left(\\alpha{\\left(t \\right)} \\right)}\\right)$"
      ],
      "text/plain": [
       "m1*(nu1(t)*cos(alpha(t)) - nu2(t)*sin(alpha(t))) - m2*((-nu1(t)*sin(theta0(t)) + nu2(t)*cos(theta0(t)) - nu3(t)*cos(beta0 - theta0(t)))*sin(alpha(t) + theta0(t)) - nu1(t)*cos(alpha(t)) + nu2(t)*sin(alpha(t)))"
      ]
     },
     "execution_count": 129,
     "metadata": {},
     "output_type": "execute_result"
    }
   ],
   "source": [
    "ps(0)"
   ]
  },
  {
   "cell_type": "code",
   "execution_count": 130,
   "metadata": {},
   "outputs": [
    {
     "data": {
      "text/latex": [
       "$\\displaystyle m_{1} \\left(\\nu_{1}{\\left(t \\right)} \\sin{\\left(\\alpha{\\left(t \\right)} \\right)} + \\nu_{2}{\\left(t \\right)} \\cos{\\left(\\alpha{\\left(t \\right)} \\right)}\\right) + m_{2} \\left(\\left(- \\nu_{1}{\\left(t \\right)} \\sin{\\left(\\theta_{0}{\\left(t \\right)} \\right)} + \\nu_{2}{\\left(t \\right)} \\cos{\\left(\\theta_{0}{\\left(t \\right)} \\right)} - \\nu_{3}{\\left(t \\right)} \\cos{\\left(\\beta_{0} - \\theta_{0}{\\left(t \\right)} \\right)}\\right) \\cos{\\left(\\alpha{\\left(t \\right)} + \\theta_{0}{\\left(t \\right)} \\right)} + \\nu_{1}{\\left(t \\right)} \\sin{\\left(\\alpha{\\left(t \\right)} \\right)} + \\nu_{2}{\\left(t \\right)} \\cos{\\left(\\alpha{\\left(t \\right)} \\right)}\\right)$"
      ],
      "text/plain": [
       "m1*(nu1(t)*sin(alpha(t)) + nu2(t)*cos(alpha(t))) + m2*((-nu1(t)*sin(theta0(t)) + nu2(t)*cos(theta0(t)) - nu3(t)*cos(beta0 - theta0(t)))*cos(alpha(t) + theta0(t)) + nu1(t)*sin(alpha(t)) + nu2(t)*cos(alpha(t)))"
      ]
     },
     "execution_count": 130,
     "metadata": {},
     "output_type": "execute_result"
    }
   ],
   "source": [
    "ps(1)"
   ]
  },
  {
   "cell_type": "code",
   "execution_count": 131,
   "metadata": {},
   "outputs": [
    {
     "data": {
      "text/latex": [
       "$\\displaystyle \\frac{b \\left(- \\nu_{1}{\\left(t \\right)} \\sin{\\left(\\theta_{0}{\\left(t \\right)} \\right)} + \\nu_{2}{\\left(t \\right)} \\cos{\\left(\\theta_{0}{\\left(t \\right)} \\right)} - \\nu_{3}{\\left(t \\right)} \\cos{\\left(\\beta_{0} - \\theta_{0}{\\left(t \\right)} \\right)}\\right) + d \\left(a \\nu_{3}{\\left(t \\right)} + d m_{2} \\left(- 2 \\nu_{1}{\\left(t \\right)} \\sin{\\left(\\theta_{0}{\\left(t \\right)} \\right)} + 2 \\nu_{2}{\\left(t \\right)} \\cos{\\left(\\theta_{0}{\\left(t \\right)} \\right)} - \\nu_{3}{\\left(t \\right)} \\cos{\\left(\\beta_{0} - \\theta_{0}{\\left(t \\right)} \\right)}\\right)\\right)}{d}$"
      ],
      "text/plain": [
       "(b*(-nu1(t)*sin(theta0(t)) + nu2(t)*cos(theta0(t)) - nu3(t)*cos(beta0 - theta0(t))) + d*(a*nu3(t) + d*m2*(-2*nu1(t)*sin(theta0(t)) + 2*nu2(t)*cos(theta0(t)) - nu3(t)*cos(beta0 - theta0(t)))))/d"
      ]
     },
     "execution_count": 131,
     "metadata": {},
     "output_type": "execute_result"
    }
   ],
   "source": [
    "ps(2)"
   ]
  },
  {
   "cell_type": "code",
   "execution_count": 132,
   "metadata": {},
   "outputs": [
    {
     "data": {
      "text/latex": [
       "$\\displaystyle \\frac{b \\left(- \\nu_{1}{\\left(t \\right)} \\sin{\\left(\\theta_{0}{\\left(t \\right)} \\right)} + \\nu_{2}{\\left(t \\right)} \\cos{\\left(\\theta_{0}{\\left(t \\right)} \\right)} - \\nu_{3}{\\left(t \\right)} \\cos{\\left(\\beta_{0} - \\theta_{0}{\\left(t \\right)} \\right)}\\right) + d^{2} m_{2} \\left(- 2 \\nu_{1}{\\left(t \\right)} \\sin{\\left(\\theta_{0}{\\left(t \\right)} \\right)} + 2 \\nu_{2}{\\left(t \\right)} \\cos{\\left(\\theta_{0}{\\left(t \\right)} \\right)} - \\nu_{3}{\\left(t \\right)} \\cos{\\left(\\beta_{0} - \\theta_{0}{\\left(t \\right)} \\right)}\\right)}{d}$"
      ],
      "text/plain": [
       "(b*(-nu1(t)*sin(theta0(t)) + nu2(t)*cos(theta0(t)) - nu3(t)*cos(beta0 - theta0(t))) + d**2*m2*(-2*nu1(t)*sin(theta0(t)) + 2*nu2(t)*cos(theta0(t)) - nu3(t)*cos(beta0 - theta0(t))))/d"
      ]
     },
     "execution_count": 132,
     "metadata": {},
     "output_type": "execute_result"
    }
   ],
   "source": [
    "ps(3)"
   ]
  },
  {
   "cell_type": "code",
   "execution_count": 133,
   "metadata": {},
   "outputs": [
    {
     "data": {
      "text/plain": [
       "[Eq(v[1], Derivative(x(t), t)),\n",
       " Eq(v[2], Derivative(y(t), t)),\n",
       " Eq(v[3], Derivative(alpha(t), t)),\n",
       " Eq(v[4], Derivative(theta0(t), t)),\n",
       " Eq(v[5], Derivative(psi0(t), t))]"
      ]
     },
     "execution_count": 133,
     "metadata": {},
     "output_type": "execute_result"
    }
   ],
   "source": [
    "S.v_equations"
   ]
  },
  {
   "cell_type": "code",
   "execution_count": 134,
   "metadata": {},
   "outputs": [
    {
     "data": {
      "text/latex": [
       "$\\displaystyle \\frac{b \\nu_{1}{\\left(t \\right)} \\sin{\\left(2 \\theta_{0}{\\left(t \\right)} \\right)} \\frac{d}{d t} \\theta_{0}{\\left(t \\right)}}{d^{2}} - \\frac{b \\nu_{2}{\\left(t \\right)} \\cos{\\left(2 \\theta_{0}{\\left(t \\right)} \\right)} \\frac{d}{d t} \\theta_{0}{\\left(t \\right)}}{d^{2}} + \\frac{b \\nu_{3}{\\left(t \\right)} \\cos{\\left(\\beta_{0} - 2 \\theta_{0}{\\left(t \\right)} \\right)} \\frac{d}{d t} \\theta_{0}{\\left(t \\right)}}{d^{2}} + \\frac{b \\sin{\\left(\\beta_{0} \\right)} \\frac{d}{d t} \\nu_{3}{\\left(t \\right)}}{2 d^{2}} - \\frac{b \\sin{\\left(\\beta_{0} - 2 \\theta_{0}{\\left(t \\right)} \\right)} \\frac{d}{d t} \\nu_{3}{\\left(t \\right)}}{2 d^{2}} - \\frac{b \\sin{\\left(2 \\theta_{0}{\\left(t \\right)} \\right)} \\frac{d}{d t} \\nu_{2}{\\left(t \\right)}}{2 d^{2}} - \\frac{b \\cos{\\left(2 \\theta_{0}{\\left(t \\right)} \\right)} \\frac{d}{d t} \\nu_{1}{\\left(t \\right)}}{2 d^{2}} + \\frac{b \\frac{d}{d t} \\nu_{1}{\\left(t \\right)}}{2 d^{2}} - \\frac{c \\nu_{1}{\\left(t \\right)} \\sin{\\left(2 \\theta_{0}{\\left(t \\right)} \\right)} \\frac{d}{d t} \\theta_{0}{\\left(t \\right)}}{r^{2}} + \\frac{c \\nu_{2}{\\left(t \\right)} \\cos{\\left(2 \\theta_{0}{\\left(t \\right)} \\right)} \\frac{d}{d t} \\theta_{0}{\\left(t \\right)}}{r^{2}} - \\frac{c \\nu_{3}{\\left(t \\right)} \\cos{\\left(\\beta_{0} - 2 \\theta_{0}{\\left(t \\right)} \\right)} \\frac{d}{d t} \\theta_{0}{\\left(t \\right)}}{r^{2}} + \\frac{c \\sin{\\left(\\beta_{0} \\right)} \\frac{d}{d t} \\nu_{3}{\\left(t \\right)}}{2 r^{2}} + \\frac{c \\sin{\\left(\\beta_{0} - 2 \\theta_{0}{\\left(t \\right)} \\right)} \\frac{d}{d t} \\nu_{3}{\\left(t \\right)}}{2 r^{2}} + \\frac{c \\sin{\\left(2 \\theta_{0}{\\left(t \\right)} \\right)} \\frac{d}{d t} \\nu_{2}{\\left(t \\right)}}{2 r^{2}} + \\frac{c \\cos{\\left(2 \\theta_{0}{\\left(t \\right)} \\right)} \\frac{d}{d t} \\nu_{1}{\\left(t \\right)}}{2 r^{2}} + \\frac{c \\frac{d}{d t} \\nu_{1}{\\left(t \\right)}}{2 r^{2}} + m_{1} \\frac{d}{d t} \\nu_{1}{\\left(t \\right)} + 3 m_{2} \\nu_{1}{\\left(t \\right)} \\sin{\\left(2 \\theta_{0}{\\left(t \\right)} \\right)} \\frac{d}{d t} \\theta_{0}{\\left(t \\right)} - 3 m_{2} \\nu_{2}{\\left(t \\right)} \\cos{\\left(2 \\theta_{0}{\\left(t \\right)} \\right)} \\frac{d}{d t} \\theta_{0}{\\left(t \\right)} + 2 m_{2} \\nu_{3}{\\left(t \\right)} \\cos{\\left(\\beta_{0} - 2 \\theta_{0}{\\left(t \\right)} \\right)} \\frac{d}{d t} \\theta_{0}{\\left(t \\right)} + m_{2} \\sin{\\left(\\beta_{0} \\right)} \\frac{d}{d t} \\nu_{3}{\\left(t \\right)} - m_{2} \\sin{\\left(\\beta_{0} - 2 \\theta_{0}{\\left(t \\right)} \\right)} \\frac{d}{d t} \\nu_{3}{\\left(t \\right)} - \\frac{3 m_{2} \\sin{\\left(2 \\theta_{0}{\\left(t \\right)} \\right)} \\frac{d}{d t} \\nu_{2}{\\left(t \\right)}}{2} - \\frac{3 m_{2} \\cos{\\left(2 \\theta_{0}{\\left(t \\right)} \\right)} \\frac{d}{d t} \\nu_{1}{\\left(t \\right)}}{2} + \\frac{5 m_{2} \\frac{d}{d t} \\nu_{1}{\\left(t \\right)}}{2} = \\left(- \\sin{\\left(\\alpha{\\left(t \\right)} \\right)} {p}_{1} + \\cos{\\left(\\alpha{\\left(t \\right)} \\right)} {p}_{2}\\right) \\nu_{3}{\\left(t \\right)}$"
      ],
      "text/plain": [
       "Eq(b*nu1(t)*sin(2*theta0(t))*Derivative(theta0(t), t)/d**2 - b*nu2(t)*cos(2*theta0(t))*Derivative(theta0(t), t)/d**2 + b*nu3(t)*cos(beta0 - 2*theta0(t))*Derivative(theta0(t), t)/d**2 + b*sin(beta0)*Derivative(nu3(t), t)/(2*d**2) - b*sin(beta0 - 2*theta0(t))*Derivative(nu3(t), t)/(2*d**2) - b*sin(2*theta0(t))*Derivative(nu2(t), t)/(2*d**2) - b*cos(2*theta0(t))*Derivative(nu1(t), t)/(2*d**2) + b*Derivative(nu1(t), t)/(2*d**2) - c*nu1(t)*sin(2*theta0(t))*Derivative(theta0(t), t)/r**2 + c*nu2(t)*cos(2*theta0(t))*Derivative(theta0(t), t)/r**2 - c*nu3(t)*cos(beta0 - 2*theta0(t))*Derivative(theta0(t), t)/r**2 + c*sin(beta0)*Derivative(nu3(t), t)/(2*r**2) + c*sin(beta0 - 2*theta0(t))*Derivative(nu3(t), t)/(2*r**2) + c*sin(2*theta0(t))*Derivative(nu2(t), t)/(2*r**2) + c*cos(2*theta0(t))*Derivative(nu1(t), t)/(2*r**2) + c*Derivative(nu1(t), t)/(2*r**2) + m1*Derivative(nu1(t), t) + 3*m2*nu1(t)*sin(2*theta0(t))*Derivative(theta0(t), t) - 3*m2*nu2(t)*cos(2*theta0(t))*Derivative(theta0(t), t) + 2*m2*nu3(t)*cos(beta0 - 2*theta0(t))*Derivative(theta0(t), t) + m2*sin(beta0)*Derivative(nu3(t), t) - m2*sin(beta0 - 2*theta0(t))*Derivative(nu3(t), t) - 3*m2*sin(2*theta0(t))*Derivative(nu2(t), t)/2 - 3*m2*cos(2*theta0(t))*Derivative(nu1(t), t)/2 + 5*m2*Derivative(nu1(t), t)/2, (-sin(alpha(t))*p[1] + cos(alpha(t))*p[2])*nu3(t))"
      ]
     },
     "execution_count": 134,
     "metadata": {},
     "output_type": "execute_result"
    }
   ],
   "source": [
    "Eq(left, right)"
   ]
  },
  {
   "cell_type": "code",
   "execution_count": 88,
   "metadata": {},
   "outputs": [
    {
     "data": {
      "text/latex": [
       "$\\displaystyle 0 = \\left(\\left(m_{1} \\left(\\nu_{1}{\\left(t \\right)} \\sin{\\left(\\alpha{\\left(t \\right)} \\right)} + \\nu_{2}{\\left(t \\right)} \\cos{\\left(\\alpha{\\left(t \\right)} \\right)}\\right) + m_{2} \\left(\\left(d \\nu_{3}{\\left(t \\right)} - d \\frac{d}{d t} \\alpha{\\left(t \\right)} - \\nu_{1}{\\left(t \\right)} \\sin{\\left(\\theta_{0}{\\left(t \\right)} \\right)} + \\nu_{2}{\\left(t \\right)} \\cos{\\left(\\theta_{0}{\\left(t \\right)} \\right)} - \\cos{\\left(\\beta_{0} - \\theta_{0}{\\left(t \\right)} \\right)} \\frac{d}{d t} \\alpha{\\left(t \\right)}\\right) \\cos{\\left(\\alpha{\\left(t \\right)} + \\theta_{0}{\\left(t \\right)} \\right)} + \\nu_{1}{\\left(t \\right)} \\sin{\\left(\\alpha{\\left(t \\right)} \\right)} + \\nu_{2}{\\left(t \\right)} \\cos{\\left(\\alpha{\\left(t \\right)} \\right)}\\right)\\right) \\cos{\\left(\\alpha{\\left(t \\right)} \\right)} - \\left(m_{1} \\left(\\nu_{1}{\\left(t \\right)} \\cos{\\left(\\alpha{\\left(t \\right)} \\right)} - \\nu_{2}{\\left(t \\right)} \\sin{\\left(\\alpha{\\left(t \\right)} \\right)}\\right) - m_{2} \\left(\\left(d \\nu_{3}{\\left(t \\right)} - d \\frac{d}{d t} \\alpha{\\left(t \\right)} - \\nu_{1}{\\left(t \\right)} \\sin{\\left(\\theta_{0}{\\left(t \\right)} \\right)} + \\nu_{2}{\\left(t \\right)} \\cos{\\left(\\theta_{0}{\\left(t \\right)} \\right)} - \\cos{\\left(\\beta_{0} - \\theta_{0}{\\left(t \\right)} \\right)} \\frac{d}{d t} \\alpha{\\left(t \\right)}\\right) \\sin{\\left(\\alpha{\\left(t \\right)} + \\theta_{0}{\\left(t \\right)} \\right)} - \\nu_{1}{\\left(t \\right)} \\cos{\\left(\\alpha{\\left(t \\right)} \\right)} + \\nu_{2}{\\left(t \\right)} \\sin{\\left(\\alpha{\\left(t \\right)} \\right)}\\right)\\right) \\sin{\\left(\\alpha{\\left(t \\right)} \\right)}\\right) \\nu_{3}{\\left(t \\right)}$"
      ],
      "text/plain": [
       "Eq(0, ((m1*(nu1(t)*sin(alpha(t)) + nu2(t)*cos(alpha(t))) + m2*((d*nu3(t) - d*Derivative(alpha(t), t) - nu1(t)*sin(theta0(t)) + nu2(t)*cos(theta0(t)) - cos(beta0 - theta0(t))*Derivative(alpha(t), t))*cos(alpha(t) + theta0(t)) + nu1(t)*sin(alpha(t)) + nu2(t)*cos(alpha(t))))*cos(alpha(t)) - (m1*(nu1(t)*cos(alpha(t)) - nu2(t)*sin(alpha(t))) - m2*((d*nu3(t) - d*Derivative(alpha(t), t) - nu1(t)*sin(theta0(t)) + nu2(t)*cos(theta0(t)) - cos(beta0 - theta0(t))*Derivative(alpha(t), t))*sin(alpha(t) + theta0(t)) - nu1(t)*cos(alpha(t)) + nu2(t)*sin(alpha(t))))*sin(alpha(t)))*nu3(t))"
      ]
     },
     "execution_count": 88,
     "metadata": {},
     "output_type": "execute_result"
    }
   ],
   "source": [
    "Eq(left, right).subs({p[1]: ps(0), p[2]: ps(1), p[3]: ps(2)})"
   ]
  },
  {
   "cell_type": "code",
   "execution_count": null,
   "metadata": {},
   "outputs": [],
   "source": []
  },
  {
   "cell_type": "code",
   "execution_count": null,
   "metadata": {},
   "outputs": [],
   "source": []
  },
  {
   "cell_type": "code",
   "execution_count": null,
   "metadata": {},
   "outputs": [],
   "source": []
  },
  {
   "cell_type": "markdown",
   "metadata": {},
   "source": [
    "# ..."
   ]
  },
  {
   "cell_type": "markdown",
   "metadata": {},
   "source": [
    "## Equations"
   ]
  },
  {
   "cell_type": "code",
   "execution_count": 117,
   "metadata": {},
   "outputs": [
    {
     "data": {
      "text/latex": [
       "$\\displaystyle \\frac{- b r^{2} \\left(\\nu_{1}{\\left(t \\right)} \\sin{\\left(\\theta_{0}{\\left(t \\right)} \\right)} - \\nu_{2}{\\left(t \\right)} \\cos{\\left(\\theta_{0}{\\left(t \\right)} \\right)} + \\nu_{3}{\\left(t \\right)} \\cos{\\left(\\beta_{0} - \\theta_{0}{\\left(t \\right)} \\right)}\\right) \\left(d \\nu_{3}{\\left(t \\right)} + \\nu_{1}{\\left(t \\right)} \\sin{\\left(\\theta_{0}{\\left(t \\right)} \\right)} - \\nu_{2}{\\left(t \\right)} \\cos{\\left(\\theta_{0}{\\left(t \\right)} \\right)} + \\nu_{3}{\\left(t \\right)} \\cos{\\left(\\beta_{0} - \\theta_{0}{\\left(t \\right)} \\right)}\\right) \\cos{\\left(\\theta_{0}{\\left(t \\right)} \\right)} - b r^{2} \\left(d \\nu_{1}{\\left(t \\right)} \\nu_{3}{\\left(t \\right)} \\cos{\\left(\\theta_{0}{\\left(t \\right)} \\right)} + d \\nu_{2}{\\left(t \\right)} \\nu_{3}{\\left(t \\right)} \\sin{\\left(\\theta_{0}{\\left(t \\right)} \\right)} + d \\nu_{3}^{2}{\\left(t \\right)} \\sin{\\left(\\beta_{0} - \\theta_{0}{\\left(t \\right)} \\right)} - d \\sin{\\left(\\theta_{0}{\\left(t \\right)} \\right)} \\frac{d}{d t} \\nu_{1}{\\left(t \\right)} - d \\cos{\\left(\\beta_{0} - \\theta_{0}{\\left(t \\right)} \\right)} \\frac{d}{d t} \\nu_{3}{\\left(t \\right)} + d \\cos{\\left(\\theta_{0}{\\left(t \\right)} \\right)} \\frac{d}{d t} \\nu_{2}{\\left(t \\right)} + \\frac{\\nu_{1}^{2}{\\left(t \\right)} \\sin{\\left(2 \\theta_{0}{\\left(t \\right)} \\right)}}{2} - \\nu_{1}{\\left(t \\right)} \\nu_{2}{\\left(t \\right)} \\cos{\\left(2 \\theta_{0}{\\left(t \\right)} \\right)} + \\nu_{1}{\\left(t \\right)} \\nu_{3}{\\left(t \\right)} \\cos{\\left(\\beta_{0} - 2 \\theta_{0}{\\left(t \\right)} \\right)} - \\frac{\\nu_{2}^{2}{\\left(t \\right)} \\sin{\\left(2 \\theta_{0}{\\left(t \\right)} \\right)}}{2} - \\nu_{2}{\\left(t \\right)} \\nu_{3}{\\left(t \\right)} \\sin{\\left(\\beta_{0} - 2 \\theta_{0}{\\left(t \\right)} \\right)} + \\frac{\\nu_{3}^{2}{\\left(t \\right)} \\sin{\\left(2 \\beta_{0} - 2 \\theta_{0}{\\left(t \\right)} \\right)}}{2}\\right) \\sin{\\left(\\theta_{0}{\\left(t \\right)} \\right)} + \\frac{d^{2} \\left(2 c \\left(\\nu_{1}{\\left(t \\right)} \\cos{\\left(\\theta_{0}{\\left(t \\right)} \\right)} + \\nu_{2}{\\left(t \\right)} \\sin{\\left(\\theta_{0}{\\left(t \\right)} \\right)} + \\nu_{3}{\\left(t \\right)} \\sin{\\left(\\beta_{0} - \\theta_{0}{\\left(t \\right)} \\right)}\\right) \\left(d \\nu_{3}{\\left(t \\right)} + \\nu_{1}{\\left(t \\right)} \\sin{\\left(\\theta_{0}{\\left(t \\right)} \\right)} - \\nu_{2}{\\left(t \\right)} \\cos{\\left(\\theta_{0}{\\left(t \\right)} \\right)} + \\nu_{3}{\\left(t \\right)} \\cos{\\left(\\beta_{0} - \\theta_{0}{\\left(t \\right)} \\right)}\\right) \\sin{\\left(\\theta_{0}{\\left(t \\right)} \\right)} + 2 c \\left(d \\left(\\sin{\\left(\\beta_{0} - \\theta_{0}{\\left(t \\right)} \\right)} \\frac{d}{d t} \\nu_{3}{\\left(t \\right)} + \\sin{\\left(\\theta_{0}{\\left(t \\right)} \\right)} \\frac{d}{d t} \\nu_{2}{\\left(t \\right)} + \\cos{\\left(\\theta_{0}{\\left(t \\right)} \\right)} \\frac{d}{d t} \\nu_{1}{\\left(t \\right)}\\right) + \\left(d \\nu_{3}{\\left(t \\right)} + \\nu_{1}{\\left(t \\right)} \\sin{\\left(\\theta_{0}{\\left(t \\right)} \\right)} - \\nu_{2}{\\left(t \\right)} \\cos{\\left(\\theta_{0}{\\left(t \\right)} \\right)} + \\nu_{3}{\\left(t \\right)} \\cos{\\left(\\beta_{0} - \\theta_{0}{\\left(t \\right)} \\right)}\\right) \\nu_{1}{\\left(t \\right)} \\sin{\\left(\\theta_{0}{\\left(t \\right)} \\right)} - \\left(d \\nu_{3}{\\left(t \\right)} + \\nu_{1}{\\left(t \\right)} \\sin{\\left(\\theta_{0}{\\left(t \\right)} \\right)} - \\nu_{2}{\\left(t \\right)} \\cos{\\left(\\theta_{0}{\\left(t \\right)} \\right)} + \\nu_{3}{\\left(t \\right)} \\cos{\\left(\\beta_{0} - \\theta_{0}{\\left(t \\right)} \\right)}\\right) \\nu_{2}{\\left(t \\right)} \\cos{\\left(\\theta_{0}{\\left(t \\right)} \\right)} + \\left(d \\nu_{3}{\\left(t \\right)} + \\nu_{1}{\\left(t \\right)} \\sin{\\left(\\theta_{0}{\\left(t \\right)} \\right)} - \\nu_{2}{\\left(t \\right)} \\cos{\\left(\\theta_{0}{\\left(t \\right)} \\right)} + \\nu_{3}{\\left(t \\right)} \\cos{\\left(\\beta_{0} - \\theta_{0}{\\left(t \\right)} \\right)}\\right) \\nu_{3}{\\left(t \\right)} \\cos{\\left(\\beta_{0} - \\theta_{0}{\\left(t \\right)} \\right)}\\right) \\cos{\\left(\\theta_{0}{\\left(t \\right)} \\right)} + r^{2} \\left(2 d m_{1} \\frac{d}{d t} \\nu_{1}{\\left(t \\right)} + m_{2} \\left(d \\left(2 \\sin{\\left(\\beta_{0} \\right)} \\frac{d}{d t} \\nu_{3}{\\left(t \\right)} - 2 \\sin{\\left(\\beta_{0} - 2 \\theta_{0}{\\left(t \\right)} \\right)} \\frac{d}{d t} \\nu_{3}{\\left(t \\right)} - 3 \\sin{\\left(2 \\theta_{0}{\\left(t \\right)} \\right)} \\frac{d}{d t} \\nu_{2}{\\left(t \\right)} - 3 \\cos{\\left(2 \\theta_{0}{\\left(t \\right)} \\right)} \\frac{d}{d t} \\nu_{1}{\\left(t \\right)} + 5 \\frac{d}{d t} \\nu_{1}{\\left(t \\right)}\\right) - 6 \\left(d \\nu_{3}{\\left(t \\right)} + \\nu_{1}{\\left(t \\right)} \\sin{\\left(\\theta_{0}{\\left(t \\right)} \\right)} - \\nu_{2}{\\left(t \\right)} \\cos{\\left(\\theta_{0}{\\left(t \\right)} \\right)} + \\nu_{3}{\\left(t \\right)} \\cos{\\left(\\beta_{0} - \\theta_{0}{\\left(t \\right)} \\right)}\\right) \\nu_{1}{\\left(t \\right)} \\sin{\\left(2 \\theta_{0}{\\left(t \\right)} \\right)} + 6 \\left(d \\nu_{3}{\\left(t \\right)} + \\nu_{1}{\\left(t \\right)} \\sin{\\left(\\theta_{0}{\\left(t \\right)} \\right)} - \\nu_{2}{\\left(t \\right)} \\cos{\\left(\\theta_{0}{\\left(t \\right)} \\right)} + \\nu_{3}{\\left(t \\right)} \\cos{\\left(\\beta_{0} - \\theta_{0}{\\left(t \\right)} \\right)}\\right) \\nu_{2}{\\left(t \\right)} \\cos{\\left(2 \\theta_{0}{\\left(t \\right)} \\right)} - 4 \\left(d \\nu_{3}{\\left(t \\right)} + \\nu_{1}{\\left(t \\right)} \\sin{\\left(\\theta_{0}{\\left(t \\right)} \\right)} - \\nu_{2}{\\left(t \\right)} \\cos{\\left(\\theta_{0}{\\left(t \\right)} \\right)} + \\nu_{3}{\\left(t \\right)} \\cos{\\left(\\beta_{0} - \\theta_{0}{\\left(t \\right)} \\right)}\\right) \\nu_{3}{\\left(t \\right)} \\cos{\\left(\\beta_{0} - 2 \\theta_{0}{\\left(t \\right)} \\right)}\\right)\\right)\\right)}{2}}{d^{3} r^{2}}$"
      ],
      "text/plain": [
       "(-b*r**2*(nu1(t)*sin(theta0(t)) - nu2(t)*cos(theta0(t)) + nu3(t)*cos(beta0 - theta0(t)))*(d*nu3(t) + nu1(t)*sin(theta0(t)) - nu2(t)*cos(theta0(t)) + nu3(t)*cos(beta0 - theta0(t)))*cos(theta0(t)) - b*r**2*(d*nu1(t)*nu3(t)*cos(theta0(t)) + d*nu2(t)*nu3(t)*sin(theta0(t)) + d*nu3(t)**2*sin(beta0 - theta0(t)) - d*sin(theta0(t))*Derivative(nu1(t), t) - d*cos(beta0 - theta0(t))*Derivative(nu3(t), t) + d*cos(theta0(t))*Derivative(nu2(t), t) + nu1(t)**2*sin(2*theta0(t))/2 - nu1(t)*nu2(t)*cos(2*theta0(t)) + nu1(t)*nu3(t)*cos(beta0 - 2*theta0(t)) - nu2(t)**2*sin(2*theta0(t))/2 - nu2(t)*nu3(t)*sin(beta0 - 2*theta0(t)) + nu3(t)**2*sin(2*beta0 - 2*theta0(t))/2)*sin(theta0(t)) + d**2*(2*c*(nu1(t)*cos(theta0(t)) + nu2(t)*sin(theta0(t)) + nu3(t)*sin(beta0 - theta0(t)))*(d*nu3(t) + nu1(t)*sin(theta0(t)) - nu2(t)*cos(theta0(t)) + nu3(t)*cos(beta0 - theta0(t)))*sin(theta0(t)) + 2*c*(d*(sin(beta0 - theta0(t))*Derivative(nu3(t), t) + sin(theta0(t))*Derivative(nu2(t), t) + cos(theta0(t))*Derivative(nu1(t), t)) + (d*nu3(t) + nu1(t)*sin(theta0(t)) - nu2(t)*cos(theta0(t)) + nu3(t)*cos(beta0 - theta0(t)))*nu1(t)*sin(theta0(t)) - (d*nu3(t) + nu1(t)*sin(theta0(t)) - nu2(t)*cos(theta0(t)) + nu3(t)*cos(beta0 - theta0(t)))*nu2(t)*cos(theta0(t)) + (d*nu3(t) + nu1(t)*sin(theta0(t)) - nu2(t)*cos(theta0(t)) + nu3(t)*cos(beta0 - theta0(t)))*nu3(t)*cos(beta0 - theta0(t)))*cos(theta0(t)) + r**2*(2*d*m1*Derivative(nu1(t), t) + m2*(d*(2*sin(beta0)*Derivative(nu3(t), t) - 2*sin(beta0 - 2*theta0(t))*Derivative(nu3(t), t) - 3*sin(2*theta0(t))*Derivative(nu2(t), t) - 3*cos(2*theta0(t))*Derivative(nu1(t), t) + 5*Derivative(nu1(t), t)) - 6*(d*nu3(t) + nu1(t)*sin(theta0(t)) - nu2(t)*cos(theta0(t)) + nu3(t)*cos(beta0 - theta0(t)))*nu1(t)*sin(2*theta0(t)) + 6*(d*nu3(t) + nu1(t)*sin(theta0(t)) - nu2(t)*cos(theta0(t)) + nu3(t)*cos(beta0 - theta0(t)))*nu2(t)*cos(2*theta0(t)) - 4*(d*nu3(t) + nu1(t)*sin(theta0(t)) - nu2(t)*cos(theta0(t)) + nu3(t)*cos(beta0 - theta0(t)))*nu3(t)*cos(beta0 - 2*theta0(t)))))/2)/(d**3*r**2)"
      ]
     },
     "metadata": {},
     "output_type": "display_data"
    },
    {
     "data": {
      "text/latex": [
       "$\\displaystyle \\left(- \\sin{\\left(\\alpha{\\left(t \\right)} \\right)} {p}_{1} + \\cos{\\left(\\alpha{\\left(t \\right)} \\right)} {p}_{2}\\right) \\nu_{3}{\\left(t \\right)} - \\frac{\\operatorname{T_{1}}{\\left(t \\right)} \\cos{\\left(\\theta_{0}{\\left(t \\right)} \\right)}}{r} - \\frac{\\operatorname{W_{1}}{\\left(t \\right)} \\sin{\\left(\\theta_{0}{\\left(t \\right)} \\right)}}{d}$"
      ],
      "text/plain": [
       "(-sin(alpha(t))*p[1] + cos(alpha(t))*p[2])*nu3(t) - T1(t)*cos(theta0(t))/r - W1(t)*sin(theta0(t))/d"
      ]
     },
     "metadata": {},
     "output_type": "display_data"
    },
    {
     "name": "stdout",
     "output_type": "stream",
     "text": [
      "CPU times: user 7min 6s, sys: 47.9 ms, total: 7min 6s\n",
      "Wall time: 7min 6s\n"
     ]
    },
    {
     "data": {
      "text/latex": [
       "$\\displaystyle \\frac{\\frac{d r \\left(2 m_{1} \\nu_{2}{\\left(t \\right)} - m_{2} \\nu_{1}{\\left(t \\right)} \\sin{\\left(2 \\theta_{0}{\\left(t \\right)} \\right)} + m_{2} \\nu_{2}{\\left(t \\right)} \\cos{\\left(2 \\theta_{0}{\\left(t \\right)} \\right)} + 3 m_{2} \\nu_{2}{\\left(t \\right)} - m_{2} \\nu_{3}{\\left(t \\right)} \\cos{\\left(\\beta_{0} \\right)} - m_{2} \\nu_{3}{\\left(t \\right)} \\cos{\\left(\\beta_{0} - 2 \\theta_{0}{\\left(t \\right)} \\right)}\\right) \\nu_{3}{\\left(t \\right)}}{2} - d \\operatorname{T_{1}}{\\left(t \\right)} \\cos{\\left(\\theta_{0}{\\left(t \\right)} \\right)} - r \\operatorname{W_{1}}{\\left(t \\right)} \\sin{\\left(\\theta_{0}{\\left(t \\right)} \\right)}}{d r} = \\frac{- b r^{2} \\left(\\nu_{1}{\\left(t \\right)} \\sin{\\left(\\theta_{0}{\\left(t \\right)} \\right)} - \\nu_{2}{\\left(t \\right)} \\cos{\\left(\\theta_{0}{\\left(t \\right)} \\right)} + \\nu_{3}{\\left(t \\right)} \\cos{\\left(\\beta_{0} - \\theta_{0}{\\left(t \\right)} \\right)}\\right) \\left(d \\nu_{3}{\\left(t \\right)} + \\nu_{1}{\\left(t \\right)} \\sin{\\left(\\theta_{0}{\\left(t \\right)} \\right)} - \\nu_{2}{\\left(t \\right)} \\cos{\\left(\\theta_{0}{\\left(t \\right)} \\right)} + \\nu_{3}{\\left(t \\right)} \\cos{\\left(\\beta_{0} - \\theta_{0}{\\left(t \\right)} \\right)}\\right) \\cos{\\left(\\theta_{0}{\\left(t \\right)} \\right)} - \\frac{b r^{2} \\left(2 d \\nu_{1}{\\left(t \\right)} \\nu_{3}{\\left(t \\right)} \\cos{\\left(\\theta_{0}{\\left(t \\right)} \\right)} + 2 d \\nu_{2}{\\left(t \\right)} \\nu_{3}{\\left(t \\right)} \\sin{\\left(\\theta_{0}{\\left(t \\right)} \\right)} + 2 d \\nu_{3}^{2}{\\left(t \\right)} \\sin{\\left(\\beta_{0} - \\theta_{0}{\\left(t \\right)} \\right)} - 2 d \\sin{\\left(\\theta_{0}{\\left(t \\right)} \\right)} \\frac{d}{d t} \\nu_{1}{\\left(t \\right)} - 2 d \\cos{\\left(\\beta_{0} - \\theta_{0}{\\left(t \\right)} \\right)} \\frac{d}{d t} \\nu_{3}{\\left(t \\right)} + 2 d \\cos{\\left(\\theta_{0}{\\left(t \\right)} \\right)} \\frac{d}{d t} \\nu_{2}{\\left(t \\right)} + \\nu_{1}^{2}{\\left(t \\right)} \\sin{\\left(2 \\theta_{0}{\\left(t \\right)} \\right)} - 2 \\nu_{1}{\\left(t \\right)} \\nu_{2}{\\left(t \\right)} \\cos{\\left(2 \\theta_{0}{\\left(t \\right)} \\right)} + 2 \\nu_{1}{\\left(t \\right)} \\nu_{3}{\\left(t \\right)} \\cos{\\left(\\beta_{0} - 2 \\theta_{0}{\\left(t \\right)} \\right)} - \\nu_{2}^{2}{\\left(t \\right)} \\sin{\\left(2 \\theta_{0}{\\left(t \\right)} \\right)} - 2 \\nu_{2}{\\left(t \\right)} \\nu_{3}{\\left(t \\right)} \\sin{\\left(\\beta_{0} - 2 \\theta_{0}{\\left(t \\right)} \\right)} + \\nu_{3}^{2}{\\left(t \\right)} \\sin{\\left(2 \\beta_{0} - 2 \\theta_{0}{\\left(t \\right)} \\right)}\\right) \\sin{\\left(\\theta_{0}{\\left(t \\right)} \\right)}}{2} + \\frac{d^{2} \\left(2 c \\left(\\nu_{1}{\\left(t \\right)} \\cos{\\left(\\theta_{0}{\\left(t \\right)} \\right)} + \\nu_{2}{\\left(t \\right)} \\sin{\\left(\\theta_{0}{\\left(t \\right)} \\right)} + \\nu_{3}{\\left(t \\right)} \\sin{\\left(\\beta_{0} - \\theta_{0}{\\left(t \\right)} \\right)}\\right) \\left(d \\nu_{3}{\\left(t \\right)} + \\nu_{1}{\\left(t \\right)} \\sin{\\left(\\theta_{0}{\\left(t \\right)} \\right)} - \\nu_{2}{\\left(t \\right)} \\cos{\\left(\\theta_{0}{\\left(t \\right)} \\right)} + \\nu_{3}{\\left(t \\right)} \\cos{\\left(\\beta_{0} - \\theta_{0}{\\left(t \\right)} \\right)}\\right) \\sin{\\left(\\theta_{0}{\\left(t \\right)} \\right)} + 2 c \\left(d \\left(\\sin{\\left(\\beta_{0} - \\theta_{0}{\\left(t \\right)} \\right)} \\frac{d}{d t} \\nu_{3}{\\left(t \\right)} + \\sin{\\left(\\theta_{0}{\\left(t \\right)} \\right)} \\frac{d}{d t} \\nu_{2}{\\left(t \\right)} + \\cos{\\left(\\theta_{0}{\\left(t \\right)} \\right)} \\frac{d}{d t} \\nu_{1}{\\left(t \\right)}\\right) + \\left(d \\nu_{3}{\\left(t \\right)} + \\nu_{1}{\\left(t \\right)} \\sin{\\left(\\theta_{0}{\\left(t \\right)} \\right)} - \\nu_{2}{\\left(t \\right)} \\cos{\\left(\\theta_{0}{\\left(t \\right)} \\right)} + \\nu_{3}{\\left(t \\right)} \\cos{\\left(\\beta_{0} - \\theta_{0}{\\left(t \\right)} \\right)}\\right) \\nu_{1}{\\left(t \\right)} \\sin{\\left(\\theta_{0}{\\left(t \\right)} \\right)} - \\left(d \\nu_{3}{\\left(t \\right)} + \\nu_{1}{\\left(t \\right)} \\sin{\\left(\\theta_{0}{\\left(t \\right)} \\right)} - \\nu_{2}{\\left(t \\right)} \\cos{\\left(\\theta_{0}{\\left(t \\right)} \\right)} + \\nu_{3}{\\left(t \\right)} \\cos{\\left(\\beta_{0} - \\theta_{0}{\\left(t \\right)} \\right)}\\right) \\nu_{2}{\\left(t \\right)} \\cos{\\left(\\theta_{0}{\\left(t \\right)} \\right)} + \\left(d \\nu_{3}{\\left(t \\right)} + \\nu_{1}{\\left(t \\right)} \\sin{\\left(\\theta_{0}{\\left(t \\right)} \\right)} - \\nu_{2}{\\left(t \\right)} \\cos{\\left(\\theta_{0}{\\left(t \\right)} \\right)} + \\nu_{3}{\\left(t \\right)} \\cos{\\left(\\beta_{0} - \\theta_{0}{\\left(t \\right)} \\right)}\\right) \\nu_{3}{\\left(t \\right)} \\cos{\\left(\\beta_{0} - \\theta_{0}{\\left(t \\right)} \\right)}\\right) \\cos{\\left(\\theta_{0}{\\left(t \\right)} \\right)} + r^{2} \\left(2 d m_{1} \\frac{d}{d t} \\nu_{1}{\\left(t \\right)} + m_{2} \\left(- d \\left(- 2 \\sin{\\left(\\beta_{0} \\right)} \\frac{d}{d t} \\nu_{3}{\\left(t \\right)} + 2 \\sin{\\left(\\beta_{0} - 2 \\theta_{0}{\\left(t \\right)} \\right)} \\frac{d}{d t} \\nu_{3}{\\left(t \\right)} + 3 \\sin{\\left(2 \\theta_{0}{\\left(t \\right)} \\right)} \\frac{d}{d t} \\nu_{2}{\\left(t \\right)} + 3 \\cos{\\left(2 \\theta_{0}{\\left(t \\right)} \\right)} \\frac{d}{d t} \\nu_{1}{\\left(t \\right)} - 5 \\frac{d}{d t} \\nu_{1}{\\left(t \\right)}\\right) - 6 \\left(d \\nu_{3}{\\left(t \\right)} + \\nu_{1}{\\left(t \\right)} \\sin{\\left(\\theta_{0}{\\left(t \\right)} \\right)} - \\nu_{2}{\\left(t \\right)} \\cos{\\left(\\theta_{0}{\\left(t \\right)} \\right)} + \\nu_{3}{\\left(t \\right)} \\cos{\\left(\\beta_{0} - \\theta_{0}{\\left(t \\right)} \\right)}\\right) \\nu_{1}{\\left(t \\right)} \\sin{\\left(2 \\theta_{0}{\\left(t \\right)} \\right)} + 6 \\left(d \\nu_{3}{\\left(t \\right)} + \\nu_{1}{\\left(t \\right)} \\sin{\\left(\\theta_{0}{\\left(t \\right)} \\right)} - \\nu_{2}{\\left(t \\right)} \\cos{\\left(\\theta_{0}{\\left(t \\right)} \\right)} + \\nu_{3}{\\left(t \\right)} \\cos{\\left(\\beta_{0} - \\theta_{0}{\\left(t \\right)} \\right)}\\right) \\nu_{2}{\\left(t \\right)} \\cos{\\left(2 \\theta_{0}{\\left(t \\right)} \\right)} - 4 \\left(d \\nu_{3}{\\left(t \\right)} + \\nu_{1}{\\left(t \\right)} \\sin{\\left(\\theta_{0}{\\left(t \\right)} \\right)} - \\nu_{2}{\\left(t \\right)} \\cos{\\left(\\theta_{0}{\\left(t \\right)} \\right)} + \\nu_{3}{\\left(t \\right)} \\cos{\\left(\\beta_{0} - \\theta_{0}{\\left(t \\right)} \\right)}\\right) \\nu_{3}{\\left(t \\right)} \\cos{\\left(\\beta_{0} - 2 \\theta_{0}{\\left(t \\right)} \\right)}\\right)\\right)\\right)}{2}}{d^{3} r^{2}}$"
      ],
      "text/plain": [
       "Eq((d*r*(2*m1*nu2(t) - m2*nu1(t)*sin(2*theta0(t)) + m2*nu2(t)*cos(2*theta0(t)) + 3*m2*nu2(t) - m2*nu3(t)*cos(beta0) - m2*nu3(t)*cos(beta0 - 2*theta0(t)))*nu3(t)/2 - d*T1(t)*cos(theta0(t)) - r*W1(t)*sin(theta0(t)))/(d*r), (-b*r**2*(nu1(t)*sin(theta0(t)) - nu2(t)*cos(theta0(t)) + nu3(t)*cos(beta0 - theta0(t)))*(d*nu3(t) + nu1(t)*sin(theta0(t)) - nu2(t)*cos(theta0(t)) + nu3(t)*cos(beta0 - theta0(t)))*cos(theta0(t)) - b*r**2*(2*d*nu1(t)*nu3(t)*cos(theta0(t)) + 2*d*nu2(t)*nu3(t)*sin(theta0(t)) + 2*d*nu3(t)**2*sin(beta0 - theta0(t)) - 2*d*sin(theta0(t))*Derivative(nu1(t), t) - 2*d*cos(beta0 - theta0(t))*Derivative(nu3(t), t) + 2*d*cos(theta0(t))*Derivative(nu2(t), t) + nu1(t)**2*sin(2*theta0(t)) - 2*nu1(t)*nu2(t)*cos(2*theta0(t)) + 2*nu1(t)*nu3(t)*cos(beta0 - 2*theta0(t)) - nu2(t)**2*sin(2*theta0(t)) - 2*nu2(t)*nu3(t)*sin(beta0 - 2*theta0(t)) + nu3(t)**2*sin(2*beta0 - 2*theta0(t)))*sin(theta0(t))/2 + d**2*(2*c*(nu1(t)*cos(theta0(t)) + nu2(t)*sin(theta0(t)) + nu3(t)*sin(beta0 - theta0(t)))*(d*nu3(t) + nu1(t)*sin(theta0(t)) - nu2(t)*cos(theta0(t)) + nu3(t)*cos(beta0 - theta0(t)))*sin(theta0(t)) + 2*c*(d*(sin(beta0 - theta0(t))*Derivative(nu3(t), t) + sin(theta0(t))*Derivative(nu2(t), t) + cos(theta0(t))*Derivative(nu1(t), t)) + (d*nu3(t) + nu1(t)*sin(theta0(t)) - nu2(t)*cos(theta0(t)) + nu3(t)*cos(beta0 - theta0(t)))*nu1(t)*sin(theta0(t)) - (d*nu3(t) + nu1(t)*sin(theta0(t)) - nu2(t)*cos(theta0(t)) + nu3(t)*cos(beta0 - theta0(t)))*nu2(t)*cos(theta0(t)) + (d*nu3(t) + nu1(t)*sin(theta0(t)) - nu2(t)*cos(theta0(t)) + nu3(t)*cos(beta0 - theta0(t)))*nu3(t)*cos(beta0 - theta0(t)))*cos(theta0(t)) + r**2*(2*d*m1*Derivative(nu1(t), t) + m2*(-d*(-2*sin(beta0)*Derivative(nu3(t), t) + 2*sin(beta0 - 2*theta0(t))*Derivative(nu3(t), t) + 3*sin(2*theta0(t))*Derivative(nu2(t), t) + 3*cos(2*theta0(t))*Derivative(nu1(t), t) - 5*Derivative(nu1(t), t)) - 6*(d*nu3(t) + nu1(t)*sin(theta0(t)) - nu2(t)*cos(theta0(t)) + nu3(t)*cos(beta0 - theta0(t)))*nu1(t)*sin(2*theta0(t)) + 6*(d*nu3(t) + nu1(t)*sin(theta0(t)) - nu2(t)*cos(theta0(t)) + nu3(t)*cos(beta0 - theta0(t)))*nu2(t)*cos(2*theta0(t)) - 4*(d*nu3(t) + nu1(t)*sin(theta0(t)) - nu2(t)*cos(theta0(t)) + nu3(t)*cos(beta0 - theta0(t)))*nu3(t)*cos(beta0 - 2*theta0(t)))))/2)/(d**3*r**2))"
      ]
     },
     "execution_count": 117,
     "metadata": {},
     "output_type": "execute_result"
    }
   ],
   "source": [
    "%%time \n",
    "S.tatarinov_equation(0)"
   ]
  },
  {
   "cell_type": "code",
   "execution_count": 118,
   "metadata": {
    "scrolled": false
   },
   "outputs": [
    {
     "data": {
      "text/latex": [
       "$\\displaystyle \\frac{- b r^{2} \\left(\\nu_{1}{\\left(t \\right)} \\sin{\\left(\\theta_{0}{\\left(t \\right)} \\right)} - \\nu_{2}{\\left(t \\right)} \\cos{\\left(\\theta_{0}{\\left(t \\right)} \\right)} + \\nu_{3}{\\left(t \\right)} \\cos{\\left(\\beta_{0} - \\theta_{0}{\\left(t \\right)} \\right)}\\right) \\left(d \\nu_{3}{\\left(t \\right)} + \\nu_{1}{\\left(t \\right)} \\sin{\\left(\\theta_{0}{\\left(t \\right)} \\right)} - \\nu_{2}{\\left(t \\right)} \\cos{\\left(\\theta_{0}{\\left(t \\right)} \\right)} + \\nu_{3}{\\left(t \\right)} \\cos{\\left(\\beta_{0} - \\theta_{0}{\\left(t \\right)} \\right)}\\right) \\sin{\\left(\\theta_{0}{\\left(t \\right)} \\right)} - b r^{2} \\left(- d \\nu_{1}{\\left(t \\right)} \\nu_{3}{\\left(t \\right)} \\cos{\\left(\\theta_{0}{\\left(t \\right)} \\right)} - d \\nu_{2}{\\left(t \\right)} \\nu_{3}{\\left(t \\right)} \\sin{\\left(\\theta_{0}{\\left(t \\right)} \\right)} - d \\nu_{3}^{2}{\\left(t \\right)} \\sin{\\left(\\beta_{0} - \\theta_{0}{\\left(t \\right)} \\right)} + d \\sin{\\left(\\theta_{0}{\\left(t \\right)} \\right)} \\frac{d}{d t} \\nu_{1}{\\left(t \\right)} + d \\cos{\\left(\\beta_{0} - \\theta_{0}{\\left(t \\right)} \\right)} \\frac{d}{d t} \\nu_{3}{\\left(t \\right)} - d \\cos{\\left(\\theta_{0}{\\left(t \\right)} \\right)} \\frac{d}{d t} \\nu_{2}{\\left(t \\right)} - \\frac{\\nu_{1}^{2}{\\left(t \\right)} \\sin{\\left(2 \\theta_{0}{\\left(t \\right)} \\right)}}{2} + \\nu_{1}{\\left(t \\right)} \\nu_{2}{\\left(t \\right)} \\cos{\\left(2 \\theta_{0}{\\left(t \\right)} \\right)} - \\nu_{1}{\\left(t \\right)} \\nu_{3}{\\left(t \\right)} \\cos{\\left(\\beta_{0} - 2 \\theta_{0}{\\left(t \\right)} \\right)} + \\frac{\\nu_{2}^{2}{\\left(t \\right)} \\sin{\\left(2 \\theta_{0}{\\left(t \\right)} \\right)}}{2} + \\nu_{2}{\\left(t \\right)} \\nu_{3}{\\left(t \\right)} \\sin{\\left(\\beta_{0} - 2 \\theta_{0}{\\left(t \\right)} \\right)} - \\frac{\\nu_{3}^{2}{\\left(t \\right)} \\sin{\\left(2 \\beta_{0} - 2 \\theta_{0}{\\left(t \\right)} \\right)}}{2}\\right) \\cos{\\left(\\theta_{0}{\\left(t \\right)} \\right)} + \\frac{d^{2} \\left(- 2 c \\left(\\nu_{1}{\\left(t \\right)} \\cos{\\left(\\theta_{0}{\\left(t \\right)} \\right)} + \\nu_{2}{\\left(t \\right)} \\sin{\\left(\\theta_{0}{\\left(t \\right)} \\right)} + \\nu_{3}{\\left(t \\right)} \\sin{\\left(\\beta_{0} - \\theta_{0}{\\left(t \\right)} \\right)}\\right) \\left(d \\nu_{3}{\\left(t \\right)} + \\nu_{1}{\\left(t \\right)} \\sin{\\left(\\theta_{0}{\\left(t \\right)} \\right)} - \\nu_{2}{\\left(t \\right)} \\cos{\\left(\\theta_{0}{\\left(t \\right)} \\right)} + \\nu_{3}{\\left(t \\right)} \\cos{\\left(\\beta_{0} - \\theta_{0}{\\left(t \\right)} \\right)}\\right) \\cos{\\left(\\theta_{0}{\\left(t \\right)} \\right)} + 2 c \\left(d \\left(\\sin{\\left(\\beta_{0} - \\theta_{0}{\\left(t \\right)} \\right)} \\frac{d}{d t} \\nu_{3}{\\left(t \\right)} + \\sin{\\left(\\theta_{0}{\\left(t \\right)} \\right)} \\frac{d}{d t} \\nu_{2}{\\left(t \\right)} + \\cos{\\left(\\theta_{0}{\\left(t \\right)} \\right)} \\frac{d}{d t} \\nu_{1}{\\left(t \\right)}\\right) + \\left(d \\nu_{3}{\\left(t \\right)} + \\nu_{1}{\\left(t \\right)} \\sin{\\left(\\theta_{0}{\\left(t \\right)} \\right)} - \\nu_{2}{\\left(t \\right)} \\cos{\\left(\\theta_{0}{\\left(t \\right)} \\right)} + \\nu_{3}{\\left(t \\right)} \\cos{\\left(\\beta_{0} - \\theta_{0}{\\left(t \\right)} \\right)}\\right) \\nu_{1}{\\left(t \\right)} \\sin{\\left(\\theta_{0}{\\left(t \\right)} \\right)} - \\left(d \\nu_{3}{\\left(t \\right)} + \\nu_{1}{\\left(t \\right)} \\sin{\\left(\\theta_{0}{\\left(t \\right)} \\right)} - \\nu_{2}{\\left(t \\right)} \\cos{\\left(\\theta_{0}{\\left(t \\right)} \\right)} + \\nu_{3}{\\left(t \\right)} \\cos{\\left(\\beta_{0} - \\theta_{0}{\\left(t \\right)} \\right)}\\right) \\nu_{2}{\\left(t \\right)} \\cos{\\left(\\theta_{0}{\\left(t \\right)} \\right)} + \\left(d \\nu_{3}{\\left(t \\right)} + \\nu_{1}{\\left(t \\right)} \\sin{\\left(\\theta_{0}{\\left(t \\right)} \\right)} - \\nu_{2}{\\left(t \\right)} \\cos{\\left(\\theta_{0}{\\left(t \\right)} \\right)} + \\nu_{3}{\\left(t \\right)} \\cos{\\left(\\beta_{0} - \\theta_{0}{\\left(t \\right)} \\right)}\\right) \\nu_{3}{\\left(t \\right)} \\cos{\\left(\\beta_{0} - \\theta_{0}{\\left(t \\right)} \\right)}\\right) \\sin{\\left(\\theta_{0}{\\left(t \\right)} \\right)} + r^{2} \\left(2 d m_{1} \\frac{d}{d t} \\nu_{2}{\\left(t \\right)} - m_{2} \\left(d \\left(3 \\sin{\\left(2 \\theta_{0}{\\left(t \\right)} \\right)} \\frac{d}{d t} \\nu_{1}{\\left(t \\right)} + 2 \\cos{\\left(\\beta_{0} \\right)} \\frac{d}{d t} \\nu_{3}{\\left(t \\right)} + 2 \\cos{\\left(\\beta_{0} - 2 \\theta_{0}{\\left(t \\right)} \\right)} \\frac{d}{d t} \\nu_{3}{\\left(t \\right)} - 3 \\cos{\\left(2 \\theta_{0}{\\left(t \\right)} \\right)} \\frac{d}{d t} \\nu_{2}{\\left(t \\right)} - 5 \\frac{d}{d t} \\nu_{2}{\\left(t \\right)}\\right) + 6 \\left(- d \\nu_{3}{\\left(t \\right)} - \\nu_{1}{\\left(t \\right)} \\sin{\\left(\\theta_{0}{\\left(t \\right)} \\right)} + \\nu_{2}{\\left(t \\right)} \\cos{\\left(\\theta_{0}{\\left(t \\right)} \\right)} - \\nu_{3}{\\left(t \\right)} \\cos{\\left(\\beta_{0} - \\theta_{0}{\\left(t \\right)} \\right)}\\right) \\nu_{1}{\\left(t \\right)} \\cos{\\left(2 \\theta_{0}{\\left(t \\right)} \\right)} + 6 \\left(- d \\nu_{3}{\\left(t \\right)} - \\nu_{1}{\\left(t \\right)} \\sin{\\left(\\theta_{0}{\\left(t \\right)} \\right)} + \\nu_{2}{\\left(t \\right)} \\cos{\\left(\\theta_{0}{\\left(t \\right)} \\right)} - \\nu_{3}{\\left(t \\right)} \\cos{\\left(\\beta_{0} - \\theta_{0}{\\left(t \\right)} \\right)}\\right) \\nu_{2}{\\left(t \\right)} \\sin{\\left(2 \\theta_{0}{\\left(t \\right)} \\right)} + 4 \\left(- d \\nu_{3}{\\left(t \\right)} - \\nu_{1}{\\left(t \\right)} \\sin{\\left(\\theta_{0}{\\left(t \\right)} \\right)} + \\nu_{2}{\\left(t \\right)} \\cos{\\left(\\theta_{0}{\\left(t \\right)} \\right)} - \\nu_{3}{\\left(t \\right)} \\cos{\\left(\\beta_{0} - \\theta_{0}{\\left(t \\right)} \\right)}\\right) \\nu_{3}{\\left(t \\right)} \\sin{\\left(\\beta_{0} - 2 \\theta_{0}{\\left(t \\right)} \\right)}\\right)\\right)\\right)}{2}}{d^{3} r^{2}}$"
      ],
      "text/plain": [
       "(-b*r**2*(nu1(t)*sin(theta0(t)) - nu2(t)*cos(theta0(t)) + nu3(t)*cos(beta0 - theta0(t)))*(d*nu3(t) + nu1(t)*sin(theta0(t)) - nu2(t)*cos(theta0(t)) + nu3(t)*cos(beta0 - theta0(t)))*sin(theta0(t)) - b*r**2*(-d*nu1(t)*nu3(t)*cos(theta0(t)) - d*nu2(t)*nu3(t)*sin(theta0(t)) - d*nu3(t)**2*sin(beta0 - theta0(t)) + d*sin(theta0(t))*Derivative(nu1(t), t) + d*cos(beta0 - theta0(t))*Derivative(nu3(t), t) - d*cos(theta0(t))*Derivative(nu2(t), t) - nu1(t)**2*sin(2*theta0(t))/2 + nu1(t)*nu2(t)*cos(2*theta0(t)) - nu1(t)*nu3(t)*cos(beta0 - 2*theta0(t)) + nu2(t)**2*sin(2*theta0(t))/2 + nu2(t)*nu3(t)*sin(beta0 - 2*theta0(t)) - nu3(t)**2*sin(2*beta0 - 2*theta0(t))/2)*cos(theta0(t)) + d**2*(-2*c*(nu1(t)*cos(theta0(t)) + nu2(t)*sin(theta0(t)) + nu3(t)*sin(beta0 - theta0(t)))*(d*nu3(t) + nu1(t)*sin(theta0(t)) - nu2(t)*cos(theta0(t)) + nu3(t)*cos(beta0 - theta0(t)))*cos(theta0(t)) + 2*c*(d*(sin(beta0 - theta0(t))*Derivative(nu3(t), t) + sin(theta0(t))*Derivative(nu2(t), t) + cos(theta0(t))*Derivative(nu1(t), t)) + (d*nu3(t) + nu1(t)*sin(theta0(t)) - nu2(t)*cos(theta0(t)) + nu3(t)*cos(beta0 - theta0(t)))*nu1(t)*sin(theta0(t)) - (d*nu3(t) + nu1(t)*sin(theta0(t)) - nu2(t)*cos(theta0(t)) + nu3(t)*cos(beta0 - theta0(t)))*nu2(t)*cos(theta0(t)) + (d*nu3(t) + nu1(t)*sin(theta0(t)) - nu2(t)*cos(theta0(t)) + nu3(t)*cos(beta0 - theta0(t)))*nu3(t)*cos(beta0 - theta0(t)))*sin(theta0(t)) + r**2*(2*d*m1*Derivative(nu2(t), t) - m2*(d*(3*sin(2*theta0(t))*Derivative(nu1(t), t) + 2*cos(beta0)*Derivative(nu3(t), t) + 2*cos(beta0 - 2*theta0(t))*Derivative(nu3(t), t) - 3*cos(2*theta0(t))*Derivative(nu2(t), t) - 5*Derivative(nu2(t), t)) + 6*(-d*nu3(t) - nu1(t)*sin(theta0(t)) + nu2(t)*cos(theta0(t)) - nu3(t)*cos(beta0 - theta0(t)))*nu1(t)*cos(2*theta0(t)) + 6*(-d*nu3(t) - nu1(t)*sin(theta0(t)) + nu2(t)*cos(theta0(t)) - nu3(t)*cos(beta0 - theta0(t)))*nu2(t)*sin(2*theta0(t)) + 4*(-d*nu3(t) - nu1(t)*sin(theta0(t)) + nu2(t)*cos(theta0(t)) - nu3(t)*cos(beta0 - theta0(t)))*nu3(t)*sin(beta0 - 2*theta0(t)))))/2)/(d**3*r**2)"
      ]
     },
     "metadata": {},
     "output_type": "display_data"
    },
    {
     "data": {
      "text/latex": [
       "$\\displaystyle \\left(- \\sin{\\left(\\alpha{\\left(t \\right)} \\right)} {p}_{2} - \\cos{\\left(\\alpha{\\left(t \\right)} \\right)} {p}_{1}\\right) \\nu_{3}{\\left(t \\right)} - \\frac{\\operatorname{T_{1}}{\\left(t \\right)} \\sin{\\left(\\theta_{0}{\\left(t \\right)} \\right)}}{r} + \\frac{\\operatorname{W_{1}}{\\left(t \\right)} \\cos{\\left(\\theta_{0}{\\left(t \\right)} \\right)}}{d}$"
      ],
      "text/plain": [
       "(-sin(alpha(t))*p[2] - cos(alpha(t))*p[1])*nu3(t) - T1(t)*sin(theta0(t))/r + W1(t)*cos(theta0(t))/d"
      ]
     },
     "metadata": {},
     "output_type": "display_data"
    },
    {
     "name": "stdout",
     "output_type": "stream",
     "text": [
      "CPU times: user 5min 58s, sys: 52 ms, total: 5min 58s\n",
      "Wall time: 5min 58s\n"
     ]
    },
    {
     "data": {
      "text/latex": [
       "$\\displaystyle \\frac{- \\frac{d r \\left(2 m_{1} \\nu_{1}{\\left(t \\right)} - m_{2} \\nu_{1}{\\left(t \\right)} \\cos{\\left(2 \\theta_{0}{\\left(t \\right)} \\right)} + 3 m_{2} \\nu_{1}{\\left(t \\right)} - m_{2} \\nu_{2}{\\left(t \\right)} \\sin{\\left(2 \\theta_{0}{\\left(t \\right)} \\right)} + m_{2} \\nu_{3}{\\left(t \\right)} \\sin{\\left(\\beta_{0} \\right)} - m_{2} \\nu_{3}{\\left(t \\right)} \\sin{\\left(\\beta_{0} - 2 \\theta_{0}{\\left(t \\right)} \\right)}\\right) \\nu_{3}{\\left(t \\right)}}{2} - d \\operatorname{T_{1}}{\\left(t \\right)} \\sin{\\left(\\theta_{0}{\\left(t \\right)} \\right)} + r \\operatorname{W_{1}}{\\left(t \\right)} \\cos{\\left(\\theta_{0}{\\left(t \\right)} \\right)}}{d r} = \\frac{- b r^{2} \\left(\\nu_{1}{\\left(t \\right)} \\sin{\\left(\\theta_{0}{\\left(t \\right)} \\right)} - \\nu_{2}{\\left(t \\right)} \\cos{\\left(\\theta_{0}{\\left(t \\right)} \\right)} + \\nu_{3}{\\left(t \\right)} \\cos{\\left(\\beta_{0} - \\theta_{0}{\\left(t \\right)} \\right)}\\right) \\left(d \\nu_{3}{\\left(t \\right)} + \\nu_{1}{\\left(t \\right)} \\sin{\\left(\\theta_{0}{\\left(t \\right)} \\right)} - \\nu_{2}{\\left(t \\right)} \\cos{\\left(\\theta_{0}{\\left(t \\right)} \\right)} + \\nu_{3}{\\left(t \\right)} \\cos{\\left(\\beta_{0} - \\theta_{0}{\\left(t \\right)} \\right)}\\right) \\sin{\\left(\\theta_{0}{\\left(t \\right)} \\right)} + \\frac{b r^{2} \\left(2 d \\nu_{1}{\\left(t \\right)} \\nu_{3}{\\left(t \\right)} \\cos{\\left(\\theta_{0}{\\left(t \\right)} \\right)} + 2 d \\nu_{2}{\\left(t \\right)} \\nu_{3}{\\left(t \\right)} \\sin{\\left(\\theta_{0}{\\left(t \\right)} \\right)} + 2 d \\nu_{3}^{2}{\\left(t \\right)} \\sin{\\left(\\beta_{0} - \\theta_{0}{\\left(t \\right)} \\right)} - 2 d \\sin{\\left(\\theta_{0}{\\left(t \\right)} \\right)} \\frac{d}{d t} \\nu_{1}{\\left(t \\right)} - 2 d \\cos{\\left(\\beta_{0} - \\theta_{0}{\\left(t \\right)} \\right)} \\frac{d}{d t} \\nu_{3}{\\left(t \\right)} + 2 d \\cos{\\left(\\theta_{0}{\\left(t \\right)} \\right)} \\frac{d}{d t} \\nu_{2}{\\left(t \\right)} + \\nu_{1}^{2}{\\left(t \\right)} \\sin{\\left(2 \\theta_{0}{\\left(t \\right)} \\right)} - 2 \\nu_{1}{\\left(t \\right)} \\nu_{2}{\\left(t \\right)} \\cos{\\left(2 \\theta_{0}{\\left(t \\right)} \\right)} + 2 \\nu_{1}{\\left(t \\right)} \\nu_{3}{\\left(t \\right)} \\cos{\\left(\\beta_{0} - 2 \\theta_{0}{\\left(t \\right)} \\right)} - \\nu_{2}^{2}{\\left(t \\right)} \\sin{\\left(2 \\theta_{0}{\\left(t \\right)} \\right)} - 2 \\nu_{2}{\\left(t \\right)} \\nu_{3}{\\left(t \\right)} \\sin{\\left(\\beta_{0} - 2 \\theta_{0}{\\left(t \\right)} \\right)} + \\nu_{3}^{2}{\\left(t \\right)} \\sin{\\left(2 \\beta_{0} - 2 \\theta_{0}{\\left(t \\right)} \\right)}\\right) \\cos{\\left(\\theta_{0}{\\left(t \\right)} \\right)}}{2} + \\frac{d^{2} \\left(- 2 c \\left(\\nu_{1}{\\left(t \\right)} \\cos{\\left(\\theta_{0}{\\left(t \\right)} \\right)} + \\nu_{2}{\\left(t \\right)} \\sin{\\left(\\theta_{0}{\\left(t \\right)} \\right)} + \\nu_{3}{\\left(t \\right)} \\sin{\\left(\\beta_{0} - \\theta_{0}{\\left(t \\right)} \\right)}\\right) \\left(d \\nu_{3}{\\left(t \\right)} + \\nu_{1}{\\left(t \\right)} \\sin{\\left(\\theta_{0}{\\left(t \\right)} \\right)} - \\nu_{2}{\\left(t \\right)} \\cos{\\left(\\theta_{0}{\\left(t \\right)} \\right)} + \\nu_{3}{\\left(t \\right)} \\cos{\\left(\\beta_{0} - \\theta_{0}{\\left(t \\right)} \\right)}\\right) \\cos{\\left(\\theta_{0}{\\left(t \\right)} \\right)} + 2 c \\left(d \\left(\\sin{\\left(\\beta_{0} - \\theta_{0}{\\left(t \\right)} \\right)} \\frac{d}{d t} \\nu_{3}{\\left(t \\right)} + \\sin{\\left(\\theta_{0}{\\left(t \\right)} \\right)} \\frac{d}{d t} \\nu_{2}{\\left(t \\right)} + \\cos{\\left(\\theta_{0}{\\left(t \\right)} \\right)} \\frac{d}{d t} \\nu_{1}{\\left(t \\right)}\\right) + \\left(d \\nu_{3}{\\left(t \\right)} + \\nu_{1}{\\left(t \\right)} \\sin{\\left(\\theta_{0}{\\left(t \\right)} \\right)} - \\nu_{2}{\\left(t \\right)} \\cos{\\left(\\theta_{0}{\\left(t \\right)} \\right)} + \\nu_{3}{\\left(t \\right)} \\cos{\\left(\\beta_{0} - \\theta_{0}{\\left(t \\right)} \\right)}\\right) \\nu_{1}{\\left(t \\right)} \\sin{\\left(\\theta_{0}{\\left(t \\right)} \\right)} - \\left(d \\nu_{3}{\\left(t \\right)} + \\nu_{1}{\\left(t \\right)} \\sin{\\left(\\theta_{0}{\\left(t \\right)} \\right)} - \\nu_{2}{\\left(t \\right)} \\cos{\\left(\\theta_{0}{\\left(t \\right)} \\right)} + \\nu_{3}{\\left(t \\right)} \\cos{\\left(\\beta_{0} - \\theta_{0}{\\left(t \\right)} \\right)}\\right) \\nu_{2}{\\left(t \\right)} \\cos{\\left(\\theta_{0}{\\left(t \\right)} \\right)} + \\left(d \\nu_{3}{\\left(t \\right)} + \\nu_{1}{\\left(t \\right)} \\sin{\\left(\\theta_{0}{\\left(t \\right)} \\right)} - \\nu_{2}{\\left(t \\right)} \\cos{\\left(\\theta_{0}{\\left(t \\right)} \\right)} + \\nu_{3}{\\left(t \\right)} \\cos{\\left(\\beta_{0} - \\theta_{0}{\\left(t \\right)} \\right)}\\right) \\nu_{3}{\\left(t \\right)} \\cos{\\left(\\beta_{0} - \\theta_{0}{\\left(t \\right)} \\right)}\\right) \\sin{\\left(\\theta_{0}{\\left(t \\right)} \\right)} + r^{2} \\left(2 d m_{1} \\frac{d}{d t} \\nu_{2}{\\left(t \\right)} - m_{2} \\left(d \\left(3 \\sin{\\left(2 \\theta_{0}{\\left(t \\right)} \\right)} \\frac{d}{d t} \\nu_{1}{\\left(t \\right)} + 2 \\cos{\\left(\\beta_{0} \\right)} \\frac{d}{d t} \\nu_{3}{\\left(t \\right)} + 2 \\cos{\\left(\\beta_{0} - 2 \\theta_{0}{\\left(t \\right)} \\right)} \\frac{d}{d t} \\nu_{3}{\\left(t \\right)} - 3 \\cos{\\left(2 \\theta_{0}{\\left(t \\right)} \\right)} \\frac{d}{d t} \\nu_{2}{\\left(t \\right)} - 5 \\frac{d}{d t} \\nu_{2}{\\left(t \\right)}\\right) - 6 \\left(d \\nu_{3}{\\left(t \\right)} + \\nu_{1}{\\left(t \\right)} \\sin{\\left(\\theta_{0}{\\left(t \\right)} \\right)} - \\nu_{2}{\\left(t \\right)} \\cos{\\left(\\theta_{0}{\\left(t \\right)} \\right)} + \\nu_{3}{\\left(t \\right)} \\cos{\\left(\\beta_{0} - \\theta_{0}{\\left(t \\right)} \\right)}\\right) \\nu_{1}{\\left(t \\right)} \\cos{\\left(2 \\theta_{0}{\\left(t \\right)} \\right)} - 6 \\left(d \\nu_{3}{\\left(t \\right)} + \\nu_{1}{\\left(t \\right)} \\sin{\\left(\\theta_{0}{\\left(t \\right)} \\right)} - \\nu_{2}{\\left(t \\right)} \\cos{\\left(\\theta_{0}{\\left(t \\right)} \\right)} + \\nu_{3}{\\left(t \\right)} \\cos{\\left(\\beta_{0} - \\theta_{0}{\\left(t \\right)} \\right)}\\right) \\nu_{2}{\\left(t \\right)} \\sin{\\left(2 \\theta_{0}{\\left(t \\right)} \\right)} - 4 \\left(d \\nu_{3}{\\left(t \\right)} + \\nu_{1}{\\left(t \\right)} \\sin{\\left(\\theta_{0}{\\left(t \\right)} \\right)} - \\nu_{2}{\\left(t \\right)} \\cos{\\left(\\theta_{0}{\\left(t \\right)} \\right)} + \\nu_{3}{\\left(t \\right)} \\cos{\\left(\\beta_{0} - \\theta_{0}{\\left(t \\right)} \\right)}\\right) \\nu_{3}{\\left(t \\right)} \\sin{\\left(\\beta_{0} - 2 \\theta_{0}{\\left(t \\right)} \\right)}\\right)\\right)\\right)}{2}}{d^{3} r^{2}}$"
      ],
      "text/plain": [
       "Eq((-d*r*(2*m1*nu1(t) - m2*nu1(t)*cos(2*theta0(t)) + 3*m2*nu1(t) - m2*nu2(t)*sin(2*theta0(t)) + m2*nu3(t)*sin(beta0) - m2*nu3(t)*sin(beta0 - 2*theta0(t)))*nu3(t)/2 - d*T1(t)*sin(theta0(t)) + r*W1(t)*cos(theta0(t)))/(d*r), (-b*r**2*(nu1(t)*sin(theta0(t)) - nu2(t)*cos(theta0(t)) + nu3(t)*cos(beta0 - theta0(t)))*(d*nu3(t) + nu1(t)*sin(theta0(t)) - nu2(t)*cos(theta0(t)) + nu3(t)*cos(beta0 - theta0(t)))*sin(theta0(t)) + b*r**2*(2*d*nu1(t)*nu3(t)*cos(theta0(t)) + 2*d*nu2(t)*nu3(t)*sin(theta0(t)) + 2*d*nu3(t)**2*sin(beta0 - theta0(t)) - 2*d*sin(theta0(t))*Derivative(nu1(t), t) - 2*d*cos(beta0 - theta0(t))*Derivative(nu3(t), t) + 2*d*cos(theta0(t))*Derivative(nu2(t), t) + nu1(t)**2*sin(2*theta0(t)) - 2*nu1(t)*nu2(t)*cos(2*theta0(t)) + 2*nu1(t)*nu3(t)*cos(beta0 - 2*theta0(t)) - nu2(t)**2*sin(2*theta0(t)) - 2*nu2(t)*nu3(t)*sin(beta0 - 2*theta0(t)) + nu3(t)**2*sin(2*beta0 - 2*theta0(t)))*cos(theta0(t))/2 + d**2*(-2*c*(nu1(t)*cos(theta0(t)) + nu2(t)*sin(theta0(t)) + nu3(t)*sin(beta0 - theta0(t)))*(d*nu3(t) + nu1(t)*sin(theta0(t)) - nu2(t)*cos(theta0(t)) + nu3(t)*cos(beta0 - theta0(t)))*cos(theta0(t)) + 2*c*(d*(sin(beta0 - theta0(t))*Derivative(nu3(t), t) + sin(theta0(t))*Derivative(nu2(t), t) + cos(theta0(t))*Derivative(nu1(t), t)) + (d*nu3(t) + nu1(t)*sin(theta0(t)) - nu2(t)*cos(theta0(t)) + nu3(t)*cos(beta0 - theta0(t)))*nu1(t)*sin(theta0(t)) - (d*nu3(t) + nu1(t)*sin(theta0(t)) - nu2(t)*cos(theta0(t)) + nu3(t)*cos(beta0 - theta0(t)))*nu2(t)*cos(theta0(t)) + (d*nu3(t) + nu1(t)*sin(theta0(t)) - nu2(t)*cos(theta0(t)) + nu3(t)*cos(beta0 - theta0(t)))*nu3(t)*cos(beta0 - theta0(t)))*sin(theta0(t)) + r**2*(2*d*m1*Derivative(nu2(t), t) - m2*(d*(3*sin(2*theta0(t))*Derivative(nu1(t), t) + 2*cos(beta0)*Derivative(nu3(t), t) + 2*cos(beta0 - 2*theta0(t))*Derivative(nu3(t), t) - 3*cos(2*theta0(t))*Derivative(nu2(t), t) - 5*Derivative(nu2(t), t)) - 6*(d*nu3(t) + nu1(t)*sin(theta0(t)) - nu2(t)*cos(theta0(t)) + nu3(t)*cos(beta0 - theta0(t)))*nu1(t)*cos(2*theta0(t)) - 6*(d*nu3(t) + nu1(t)*sin(theta0(t)) - nu2(t)*cos(theta0(t)) + nu3(t)*cos(beta0 - theta0(t)))*nu2(t)*sin(2*theta0(t)) - 4*(d*nu3(t) + nu1(t)*sin(theta0(t)) - nu2(t)*cos(theta0(t)) + nu3(t)*cos(beta0 - theta0(t)))*nu3(t)*sin(beta0 - 2*theta0(t)))))/2)/(d**3*r**2))"
      ]
     },
     "execution_count": 118,
     "metadata": {},
     "output_type": "execute_result"
    }
   ],
   "source": [
    "%%time\n",
    "S.tatarinov_equation(1)"
   ]
  },
  {
   "cell_type": "code",
   "execution_count": 119,
   "metadata": {},
   "outputs": [
    {
     "data": {
      "text/latex": [
       "$\\displaystyle \\frac{- b r^{2} \\left(\\nu_{1}{\\left(t \\right)} \\sin{\\left(\\theta_{0}{\\left(t \\right)} \\right)} - \\nu_{2}{\\left(t \\right)} \\cos{\\left(\\theta_{0}{\\left(t \\right)} \\right)} + \\nu_{3}{\\left(t \\right)} \\cos{\\left(\\beta_{0} - \\theta_{0}{\\left(t \\right)} \\right)}\\right) \\left(d \\nu_{3}{\\left(t \\right)} + \\nu_{1}{\\left(t \\right)} \\sin{\\left(\\theta_{0}{\\left(t \\right)} \\right)} - \\nu_{2}{\\left(t \\right)} \\cos{\\left(\\theta_{0}{\\left(t \\right)} \\right)} + \\nu_{3}{\\left(t \\right)} \\cos{\\left(\\beta_{0} - \\theta_{0}{\\left(t \\right)} \\right)}\\right) \\sin{\\left(\\beta_{0} - \\theta_{0}{\\left(t \\right)} \\right)} - b r^{2} \\left(d \\nu_{1}{\\left(t \\right)} \\nu_{3}{\\left(t \\right)} \\cos{\\left(\\theta_{0}{\\left(t \\right)} \\right)} + d \\nu_{2}{\\left(t \\right)} \\nu_{3}{\\left(t \\right)} \\sin{\\left(\\theta_{0}{\\left(t \\right)} \\right)} + d \\nu_{3}^{2}{\\left(t \\right)} \\sin{\\left(\\beta_{0} - \\theta_{0}{\\left(t \\right)} \\right)} - d \\sin{\\left(\\theta_{0}{\\left(t \\right)} \\right)} \\frac{d}{d t} \\nu_{1}{\\left(t \\right)} - d \\cos{\\left(\\beta_{0} - \\theta_{0}{\\left(t \\right)} \\right)} \\frac{d}{d t} \\nu_{3}{\\left(t \\right)} + d \\cos{\\left(\\theta_{0}{\\left(t \\right)} \\right)} \\frac{d}{d t} \\nu_{2}{\\left(t \\right)} + \\frac{\\nu_{1}^{2}{\\left(t \\right)} \\sin{\\left(2 \\theta_{0}{\\left(t \\right)} \\right)}}{2} - \\nu_{1}{\\left(t \\right)} \\nu_{2}{\\left(t \\right)} \\cos{\\left(2 \\theta_{0}{\\left(t \\right)} \\right)} + \\nu_{1}{\\left(t \\right)} \\nu_{3}{\\left(t \\right)} \\cos{\\left(\\beta_{0} - 2 \\theta_{0}{\\left(t \\right)} \\right)} - \\frac{\\nu_{2}^{2}{\\left(t \\right)} \\sin{\\left(2 \\theta_{0}{\\left(t \\right)} \\right)}}{2} - \\nu_{2}{\\left(t \\right)} \\nu_{3}{\\left(t \\right)} \\sin{\\left(\\beta_{0} - 2 \\theta_{0}{\\left(t \\right)} \\right)} + \\frac{\\nu_{3}^{2}{\\left(t \\right)} \\sin{\\left(2 \\beta_{0} - 2 \\theta_{0}{\\left(t \\right)} \\right)}}{2}\\right) \\cos{\\left(\\beta_{0} - \\theta_{0}{\\left(t \\right)} \\right)} + d^{2} \\left(c \\left(\\nu_{1}{\\left(t \\right)} \\cos{\\left(\\theta_{0}{\\left(t \\right)} \\right)} + \\nu_{2}{\\left(t \\right)} \\sin{\\left(\\theta_{0}{\\left(t \\right)} \\right)} + \\nu_{3}{\\left(t \\right)} \\sin{\\left(\\beta_{0} - \\theta_{0}{\\left(t \\right)} \\right)}\\right) \\left(d \\nu_{3}{\\left(t \\right)} + \\nu_{1}{\\left(t \\right)} \\sin{\\left(\\theta_{0}{\\left(t \\right)} \\right)} - \\nu_{2}{\\left(t \\right)} \\cos{\\left(\\theta_{0}{\\left(t \\right)} \\right)} + \\nu_{3}{\\left(t \\right)} \\cos{\\left(\\beta_{0} - \\theta_{0}{\\left(t \\right)} \\right)}\\right) \\cos{\\left(\\beta_{0} - \\theta_{0}{\\left(t \\right)} \\right)} + c \\left(d \\left(\\sin{\\left(\\beta_{0} - \\theta_{0}{\\left(t \\right)} \\right)} \\frac{d}{d t} \\nu_{3}{\\left(t \\right)} + \\sin{\\left(\\theta_{0}{\\left(t \\right)} \\right)} \\frac{d}{d t} \\nu_{2}{\\left(t \\right)} + \\cos{\\left(\\theta_{0}{\\left(t \\right)} \\right)} \\frac{d}{d t} \\nu_{1}{\\left(t \\right)}\\right) + \\left(d \\nu_{3}{\\left(t \\right)} + \\nu_{1}{\\left(t \\right)} \\sin{\\left(\\theta_{0}{\\left(t \\right)} \\right)} - \\nu_{2}{\\left(t \\right)} \\cos{\\left(\\theta_{0}{\\left(t \\right)} \\right)} + \\nu_{3}{\\left(t \\right)} \\cos{\\left(\\beta_{0} - \\theta_{0}{\\left(t \\right)} \\right)}\\right) \\nu_{1}{\\left(t \\right)} \\sin{\\left(\\theta_{0}{\\left(t \\right)} \\right)} - \\left(d \\nu_{3}{\\left(t \\right)} + \\nu_{1}{\\left(t \\right)} \\sin{\\left(\\theta_{0}{\\left(t \\right)} \\right)} - \\nu_{2}{\\left(t \\right)} \\cos{\\left(\\theta_{0}{\\left(t \\right)} \\right)} + \\nu_{3}{\\left(t \\right)} \\cos{\\left(\\beta_{0} - \\theta_{0}{\\left(t \\right)} \\right)}\\right) \\nu_{2}{\\left(t \\right)} \\cos{\\left(\\theta_{0}{\\left(t \\right)} \\right)} + \\left(d \\nu_{3}{\\left(t \\right)} + \\nu_{1}{\\left(t \\right)} \\sin{\\left(\\theta_{0}{\\left(t \\right)} \\right)} - \\nu_{2}{\\left(t \\right)} \\cos{\\left(\\theta_{0}{\\left(t \\right)} \\right)} + \\nu_{3}{\\left(t \\right)} \\cos{\\left(\\beta_{0} - \\theta_{0}{\\left(t \\right)} \\right)}\\right) \\nu_{3}{\\left(t \\right)} \\cos{\\left(\\beta_{0} - \\theta_{0}{\\left(t \\right)} \\right)}\\right) \\sin{\\left(\\beta_{0} - \\theta_{0}{\\left(t \\right)} \\right)} + r^{2} \\left(a d \\frac{d}{d t} \\nu_{3}{\\left(t \\right)} - m_{2} \\left(2 \\nu_{1}{\\left(t \\right)} \\sin{\\left(\\theta_{0}{\\left(t \\right)} \\right)} - 2 \\nu_{2}{\\left(t \\right)} \\cos{\\left(\\theta_{0}{\\left(t \\right)} \\right)} + \\nu_{3}{\\left(t \\right)} \\cos{\\left(\\beta_{0} - \\theta_{0}{\\left(t \\right)} \\right)}\\right) \\left(d \\nu_{3}{\\left(t \\right)} + \\nu_{1}{\\left(t \\right)} \\sin{\\left(\\theta_{0}{\\left(t \\right)} \\right)} - \\nu_{2}{\\left(t \\right)} \\cos{\\left(\\theta_{0}{\\left(t \\right)} \\right)} + \\nu_{3}{\\left(t \\right)} \\cos{\\left(\\beta_{0} - \\theta_{0}{\\left(t \\right)} \\right)}\\right) \\sin{\\left(\\beta_{0} - \\theta_{0}{\\left(t \\right)} \\right)} + m_{2} \\left(- 2 d \\nu_{1}{\\left(t \\right)} \\nu_{3}{\\left(t \\right)} \\cos{\\left(\\theta_{0}{\\left(t \\right)} \\right)} - 2 d \\nu_{2}{\\left(t \\right)} \\nu_{3}{\\left(t \\right)} \\sin{\\left(\\theta_{0}{\\left(t \\right)} \\right)} - d \\nu_{3}^{2}{\\left(t \\right)} \\sin{\\left(\\beta_{0} - \\theta_{0}{\\left(t \\right)} \\right)} + 2 d \\sin{\\left(\\theta_{0}{\\left(t \\right)} \\right)} \\frac{d}{d t} \\nu_{1}{\\left(t \\right)} + d \\cos{\\left(\\beta_{0} - \\theta_{0}{\\left(t \\right)} \\right)} \\frac{d}{d t} \\nu_{3}{\\left(t \\right)} - 2 d \\cos{\\left(\\theta_{0}{\\left(t \\right)} \\right)} \\frac{d}{d t} \\nu_{2}{\\left(t \\right)} - \\nu_{1}^{2}{\\left(t \\right)} \\sin{\\left(2 \\theta_{0}{\\left(t \\right)} \\right)} + 2 \\nu_{1}{\\left(t \\right)} \\nu_{2}{\\left(t \\right)} \\cos{\\left(2 \\theta_{0}{\\left(t \\right)} \\right)} - \\frac{\\nu_{1}{\\left(t \\right)} \\nu_{3}{\\left(t \\right)} \\cos{\\left(\\beta_{0} \\right)}}{2} - \\frac{3 \\nu_{1}{\\left(t \\right)} \\nu_{3}{\\left(t \\right)} \\cos{\\left(\\beta_{0} - 2 \\theta_{0}{\\left(t \\right)} \\right)}}{2} + \\nu_{2}^{2}{\\left(t \\right)} \\sin{\\left(2 \\theta_{0}{\\left(t \\right)} \\right)} - \\frac{\\nu_{2}{\\left(t \\right)} \\nu_{3}{\\left(t \\right)} \\sin{\\left(\\beta_{0} \\right)}}{2} + \\frac{3 \\nu_{2}{\\left(t \\right)} \\nu_{3}{\\left(t \\right)} \\sin{\\left(\\beta_{0} - 2 \\theta_{0}{\\left(t \\right)} \\right)}}{2} - \\frac{\\nu_{3}^{2}{\\left(t \\right)} \\sin{\\left(2 \\beta_{0} - 2 \\theta_{0}{\\left(t \\right)} \\right)}}{2}\\right) \\cos{\\left(\\beta_{0} - \\theta_{0}{\\left(t \\right)} \\right)}\\right)\\right)}{d^{3} r^{2}}$"
      ],
      "text/plain": [
       "(-b*r**2*(nu1(t)*sin(theta0(t)) - nu2(t)*cos(theta0(t)) + nu3(t)*cos(beta0 - theta0(t)))*(d*nu3(t) + nu1(t)*sin(theta0(t)) - nu2(t)*cos(theta0(t)) + nu3(t)*cos(beta0 - theta0(t)))*sin(beta0 - theta0(t)) - b*r**2*(d*nu1(t)*nu3(t)*cos(theta0(t)) + d*nu2(t)*nu3(t)*sin(theta0(t)) + d*nu3(t)**2*sin(beta0 - theta0(t)) - d*sin(theta0(t))*Derivative(nu1(t), t) - d*cos(beta0 - theta0(t))*Derivative(nu3(t), t) + d*cos(theta0(t))*Derivative(nu2(t), t) + nu1(t)**2*sin(2*theta0(t))/2 - nu1(t)*nu2(t)*cos(2*theta0(t)) + nu1(t)*nu3(t)*cos(beta0 - 2*theta0(t)) - nu2(t)**2*sin(2*theta0(t))/2 - nu2(t)*nu3(t)*sin(beta0 - 2*theta0(t)) + nu3(t)**2*sin(2*beta0 - 2*theta0(t))/2)*cos(beta0 - theta0(t)) + d**2*(c*(nu1(t)*cos(theta0(t)) + nu2(t)*sin(theta0(t)) + nu3(t)*sin(beta0 - theta0(t)))*(d*nu3(t) + nu1(t)*sin(theta0(t)) - nu2(t)*cos(theta0(t)) + nu3(t)*cos(beta0 - theta0(t)))*cos(beta0 - theta0(t)) + c*(d*(sin(beta0 - theta0(t))*Derivative(nu3(t), t) + sin(theta0(t))*Derivative(nu2(t), t) + cos(theta0(t))*Derivative(nu1(t), t)) + (d*nu3(t) + nu1(t)*sin(theta0(t)) - nu2(t)*cos(theta0(t)) + nu3(t)*cos(beta0 - theta0(t)))*nu1(t)*sin(theta0(t)) - (d*nu3(t) + nu1(t)*sin(theta0(t)) - nu2(t)*cos(theta0(t)) + nu3(t)*cos(beta0 - theta0(t)))*nu2(t)*cos(theta0(t)) + (d*nu3(t) + nu1(t)*sin(theta0(t)) - nu2(t)*cos(theta0(t)) + nu3(t)*cos(beta0 - theta0(t)))*nu3(t)*cos(beta0 - theta0(t)))*sin(beta0 - theta0(t)) + r**2*(a*d*Derivative(nu3(t), t) - m2*(2*nu1(t)*sin(theta0(t)) - 2*nu2(t)*cos(theta0(t)) + nu3(t)*cos(beta0 - theta0(t)))*(d*nu3(t) + nu1(t)*sin(theta0(t)) - nu2(t)*cos(theta0(t)) + nu3(t)*cos(beta0 - theta0(t)))*sin(beta0 - theta0(t)) + m2*(-2*d*nu1(t)*nu3(t)*cos(theta0(t)) - 2*d*nu2(t)*nu3(t)*sin(theta0(t)) - d*nu3(t)**2*sin(beta0 - theta0(t)) + 2*d*sin(theta0(t))*Derivative(nu1(t), t) + d*cos(beta0 - theta0(t))*Derivative(nu3(t), t) - 2*d*cos(theta0(t))*Derivative(nu2(t), t) - nu1(t)**2*sin(2*theta0(t)) + 2*nu1(t)*nu2(t)*cos(2*theta0(t)) - nu1(t)*nu3(t)*cos(beta0)/2 - 3*nu1(t)*nu3(t)*cos(beta0 - 2*theta0(t))/2 + nu2(t)**2*sin(2*theta0(t)) - nu2(t)*nu3(t)*sin(beta0)/2 + 3*nu2(t)*nu3(t)*sin(beta0 - 2*theta0(t))/2 - nu3(t)**2*sin(2*beta0 - 2*theta0(t))/2)*cos(beta0 - theta0(t)))))/(d**3*r**2)"
      ]
     },
     "metadata": {},
     "output_type": "display_data"
    },
    {
     "data": {
      "text/latex": [
       "$\\displaystyle - \\left(- \\sin{\\left(\\alpha{\\left(t \\right)} \\right)} {p}_{1} + \\cos{\\left(\\alpha{\\left(t \\right)} \\right)} {p}_{2}\\right) \\nu_{1}{\\left(t \\right)} - \\left(- \\sin{\\left(\\alpha{\\left(t \\right)} \\right)} {p}_{2} - \\cos{\\left(\\alpha{\\left(t \\right)} \\right)} {p}_{1}\\right) \\nu_{2}{\\left(t \\right)} - \\operatorname{W_{1}}{\\left(t \\right)} - \\frac{\\operatorname{T_{1}}{\\left(t \\right)} \\sin{\\left(\\beta_{0} - \\theta_{0}{\\left(t \\right)} \\right)}}{r} - \\frac{\\operatorname{W_{1}}{\\left(t \\right)} \\cos{\\left(\\beta_{0} - \\theta_{0}{\\left(t \\right)} \\right)}}{d}$"
      ],
      "text/plain": [
       "-(-sin(alpha(t))*p[1] + cos(alpha(t))*p[2])*nu1(t) - (-sin(alpha(t))*p[2] - cos(alpha(t))*p[1])*nu2(t) - W1(t) - T1(t)*sin(beta0 - theta0(t))/r - W1(t)*cos(beta0 - theta0(t))/d"
      ]
     },
     "metadata": {},
     "output_type": "display_data"
    },
    {
     "name": "stdout",
     "output_type": "stream",
     "text": [
      "CPU times: user 7min 2s, sys: 164 ms, total: 7min 3s\n",
      "Wall time: 7min 3s\n"
     ]
    },
    {
     "data": {
      "text/latex": [
       "$\\displaystyle - \\frac{m_{2} \\nu_{1}^{2}{\\left(t \\right)} \\sin{\\left(2 \\theta_{0}{\\left(t \\right)} \\right)}}{2} + m_{2} \\nu_{1}{\\left(t \\right)} \\nu_{2}{\\left(t \\right)} \\cos{\\left(2 \\theta_{0}{\\left(t \\right)} \\right)} - \\frac{m_{2} \\nu_{1}{\\left(t \\right)} \\nu_{3}{\\left(t \\right)} \\cos{\\left(\\beta_{0} \\right)}}{2} - \\frac{m_{2} \\nu_{1}{\\left(t \\right)} \\nu_{3}{\\left(t \\right)} \\cos{\\left(\\beta_{0} - 2 \\theta_{0}{\\left(t \\right)} \\right)}}{2} + \\frac{m_{2} \\nu_{2}^{2}{\\left(t \\right)} \\sin{\\left(2 \\theta_{0}{\\left(t \\right)} \\right)}}{2} - \\frac{m_{2} \\nu_{2}{\\left(t \\right)} \\nu_{3}{\\left(t \\right)} \\sin{\\left(\\beta_{0} \\right)}}{2} + \\frac{m_{2} \\nu_{2}{\\left(t \\right)} \\nu_{3}{\\left(t \\right)} \\sin{\\left(\\beta_{0} - 2 \\theta_{0}{\\left(t \\right)} \\right)}}{2} + \\operatorname{W_{1}}{\\left(t \\right)} + \\frac{\\operatorname{T_{1}}{\\left(t \\right)} \\sin{\\left(\\beta_{0} - \\theta_{0}{\\left(t \\right)} \\right)}}{r} + \\frac{\\operatorname{W_{1}}{\\left(t \\right)} \\cos{\\left(\\beta_{0} - \\theta_{0}{\\left(t \\right)} \\right)}}{d} = - \\frac{- b r^{2} \\left(\\nu_{1}{\\left(t \\right)} \\sin{\\left(\\theta_{0}{\\left(t \\right)} \\right)} - \\nu_{2}{\\left(t \\right)} \\cos{\\left(\\theta_{0}{\\left(t \\right)} \\right)} + \\nu_{3}{\\left(t \\right)} \\cos{\\left(\\beta_{0} - \\theta_{0}{\\left(t \\right)} \\right)}\\right) \\left(d \\nu_{3}{\\left(t \\right)} + \\nu_{1}{\\left(t \\right)} \\sin{\\left(\\theta_{0}{\\left(t \\right)} \\right)} - \\nu_{2}{\\left(t \\right)} \\cos{\\left(\\theta_{0}{\\left(t \\right)} \\right)} + \\nu_{3}{\\left(t \\right)} \\cos{\\left(\\beta_{0} - \\theta_{0}{\\left(t \\right)} \\right)}\\right) \\sin{\\left(\\beta_{0} - \\theta_{0}{\\left(t \\right)} \\right)} - \\frac{b r^{2} \\left(2 d \\nu_{1}{\\left(t \\right)} \\nu_{3}{\\left(t \\right)} \\cos{\\left(\\theta_{0}{\\left(t \\right)} \\right)} + 2 d \\nu_{2}{\\left(t \\right)} \\nu_{3}{\\left(t \\right)} \\sin{\\left(\\theta_{0}{\\left(t \\right)} \\right)} + 2 d \\nu_{3}^{2}{\\left(t \\right)} \\sin{\\left(\\beta_{0} - \\theta_{0}{\\left(t \\right)} \\right)} - 2 d \\sin{\\left(\\theta_{0}{\\left(t \\right)} \\right)} \\frac{d}{d t} \\nu_{1}{\\left(t \\right)} - 2 d \\cos{\\left(\\beta_{0} - \\theta_{0}{\\left(t \\right)} \\right)} \\frac{d}{d t} \\nu_{3}{\\left(t \\right)} + 2 d \\cos{\\left(\\theta_{0}{\\left(t \\right)} \\right)} \\frac{d}{d t} \\nu_{2}{\\left(t \\right)} + \\nu_{1}^{2}{\\left(t \\right)} \\sin{\\left(2 \\theta_{0}{\\left(t \\right)} \\right)} - 2 \\nu_{1}{\\left(t \\right)} \\nu_{2}{\\left(t \\right)} \\cos{\\left(2 \\theta_{0}{\\left(t \\right)} \\right)} + 2 \\nu_{1}{\\left(t \\right)} \\nu_{3}{\\left(t \\right)} \\cos{\\left(\\beta_{0} - 2 \\theta_{0}{\\left(t \\right)} \\right)} - \\nu_{2}^{2}{\\left(t \\right)} \\sin{\\left(2 \\theta_{0}{\\left(t \\right)} \\right)} - 2 \\nu_{2}{\\left(t \\right)} \\nu_{3}{\\left(t \\right)} \\sin{\\left(\\beta_{0} - 2 \\theta_{0}{\\left(t \\right)} \\right)} + \\nu_{3}^{2}{\\left(t \\right)} \\sin{\\left(2 \\beta_{0} - 2 \\theta_{0}{\\left(t \\right)} \\right)}\\right) \\cos{\\left(\\beta_{0} - \\theta_{0}{\\left(t \\right)} \\right)}}{2} + \\frac{d^{2} \\left(2 c \\left(\\nu_{1}{\\left(t \\right)} \\cos{\\left(\\theta_{0}{\\left(t \\right)} \\right)} + \\nu_{2}{\\left(t \\right)} \\sin{\\left(\\theta_{0}{\\left(t \\right)} \\right)} + \\nu_{3}{\\left(t \\right)} \\sin{\\left(\\beta_{0} - \\theta_{0}{\\left(t \\right)} \\right)}\\right) \\left(d \\nu_{3}{\\left(t \\right)} + \\nu_{1}{\\left(t \\right)} \\sin{\\left(\\theta_{0}{\\left(t \\right)} \\right)} - \\nu_{2}{\\left(t \\right)} \\cos{\\left(\\theta_{0}{\\left(t \\right)} \\right)} + \\nu_{3}{\\left(t \\right)} \\cos{\\left(\\beta_{0} - \\theta_{0}{\\left(t \\right)} \\right)}\\right) \\cos{\\left(\\beta_{0} - \\theta_{0}{\\left(t \\right)} \\right)} + 2 c \\left(d \\left(\\sin{\\left(\\beta_{0} - \\theta_{0}{\\left(t \\right)} \\right)} \\frac{d}{d t} \\nu_{3}{\\left(t \\right)} + \\sin{\\left(\\theta_{0}{\\left(t \\right)} \\right)} \\frac{d}{d t} \\nu_{2}{\\left(t \\right)} + \\cos{\\left(\\theta_{0}{\\left(t \\right)} \\right)} \\frac{d}{d t} \\nu_{1}{\\left(t \\right)}\\right) + \\left(d \\nu_{3}{\\left(t \\right)} + \\nu_{1}{\\left(t \\right)} \\sin{\\left(\\theta_{0}{\\left(t \\right)} \\right)} - \\nu_{2}{\\left(t \\right)} \\cos{\\left(\\theta_{0}{\\left(t \\right)} \\right)} + \\nu_{3}{\\left(t \\right)} \\cos{\\left(\\beta_{0} - \\theta_{0}{\\left(t \\right)} \\right)}\\right) \\nu_{1}{\\left(t \\right)} \\sin{\\left(\\theta_{0}{\\left(t \\right)} \\right)} - \\left(d \\nu_{3}{\\left(t \\right)} + \\nu_{1}{\\left(t \\right)} \\sin{\\left(\\theta_{0}{\\left(t \\right)} \\right)} - \\nu_{2}{\\left(t \\right)} \\cos{\\left(\\theta_{0}{\\left(t \\right)} \\right)} + \\nu_{3}{\\left(t \\right)} \\cos{\\left(\\beta_{0} - \\theta_{0}{\\left(t \\right)} \\right)}\\right) \\nu_{2}{\\left(t \\right)} \\cos{\\left(\\theta_{0}{\\left(t \\right)} \\right)} + \\left(d \\nu_{3}{\\left(t \\right)} + \\nu_{1}{\\left(t \\right)} \\sin{\\left(\\theta_{0}{\\left(t \\right)} \\right)} - \\nu_{2}{\\left(t \\right)} \\cos{\\left(\\theta_{0}{\\left(t \\right)} \\right)} + \\nu_{3}{\\left(t \\right)} \\cos{\\left(\\beta_{0} - \\theta_{0}{\\left(t \\right)} \\right)}\\right) \\nu_{3}{\\left(t \\right)} \\cos{\\left(\\beta_{0} - \\theta_{0}{\\left(t \\right)} \\right)}\\right) \\sin{\\left(\\beta_{0} - \\theta_{0}{\\left(t \\right)} \\right)} + r^{2} \\left(2 a d \\frac{d}{d t} \\nu_{3}{\\left(t \\right)} - 2 m_{2} \\left(2 \\nu_{1}{\\left(t \\right)} \\sin{\\left(\\theta_{0}{\\left(t \\right)} \\right)} - 2 \\nu_{2}{\\left(t \\right)} \\cos{\\left(\\theta_{0}{\\left(t \\right)} \\right)} + \\nu_{3}{\\left(t \\right)} \\cos{\\left(\\beta_{0} - \\theta_{0}{\\left(t \\right)} \\right)}\\right) \\left(d \\nu_{3}{\\left(t \\right)} + \\nu_{1}{\\left(t \\right)} \\sin{\\left(\\theta_{0}{\\left(t \\right)} \\right)} - \\nu_{2}{\\left(t \\right)} \\cos{\\left(\\theta_{0}{\\left(t \\right)} \\right)} + \\nu_{3}{\\left(t \\right)} \\cos{\\left(\\beta_{0} - \\theta_{0}{\\left(t \\right)} \\right)}\\right) \\sin{\\left(\\beta_{0} - \\theta_{0}{\\left(t \\right)} \\right)} - m_{2} \\left(4 d \\nu_{1}{\\left(t \\right)} \\nu_{3}{\\left(t \\right)} \\cos{\\left(\\theta_{0}{\\left(t \\right)} \\right)} + 4 d \\nu_{2}{\\left(t \\right)} \\nu_{3}{\\left(t \\right)} \\sin{\\left(\\theta_{0}{\\left(t \\right)} \\right)} + 2 d \\nu_{3}^{2}{\\left(t \\right)} \\sin{\\left(\\beta_{0} - \\theta_{0}{\\left(t \\right)} \\right)} - 4 d \\sin{\\left(\\theta_{0}{\\left(t \\right)} \\right)} \\frac{d}{d t} \\nu_{1}{\\left(t \\right)} - 2 d \\cos{\\left(\\beta_{0} - \\theta_{0}{\\left(t \\right)} \\right)} \\frac{d}{d t} \\nu_{3}{\\left(t \\right)} + 4 d \\cos{\\left(\\theta_{0}{\\left(t \\right)} \\right)} \\frac{d}{d t} \\nu_{2}{\\left(t \\right)} + 2 \\nu_{1}^{2}{\\left(t \\right)} \\sin{\\left(2 \\theta_{0}{\\left(t \\right)} \\right)} - 4 \\nu_{1}{\\left(t \\right)} \\nu_{2}{\\left(t \\right)} \\cos{\\left(2 \\theta_{0}{\\left(t \\right)} \\right)} + \\nu_{1}{\\left(t \\right)} \\nu_{3}{\\left(t \\right)} \\cos{\\left(\\beta_{0} \\right)} + 3 \\nu_{1}{\\left(t \\right)} \\nu_{3}{\\left(t \\right)} \\cos{\\left(\\beta_{0} - 2 \\theta_{0}{\\left(t \\right)} \\right)} - 2 \\nu_{2}^{2}{\\left(t \\right)} \\sin{\\left(2 \\theta_{0}{\\left(t \\right)} \\right)} + \\nu_{2}{\\left(t \\right)} \\nu_{3}{\\left(t \\right)} \\sin{\\left(\\beta_{0} \\right)} - 3 \\nu_{2}{\\left(t \\right)} \\nu_{3}{\\left(t \\right)} \\sin{\\left(\\beta_{0} - 2 \\theta_{0}{\\left(t \\right)} \\right)} + \\nu_{3}^{2}{\\left(t \\right)} \\sin{\\left(2 \\beta_{0} - 2 \\theta_{0}{\\left(t \\right)} \\right)}\\right) \\cos{\\left(\\beta_{0} - \\theta_{0}{\\left(t \\right)} \\right)}\\right)\\right)}{2}}{d^{3} r^{2}}$"
      ],
      "text/plain": [
       "Eq(-m2*nu1(t)**2*sin(2*theta0(t))/2 + m2*nu1(t)*nu2(t)*cos(2*theta0(t)) - m2*nu1(t)*nu3(t)*cos(beta0)/2 - m2*nu1(t)*nu3(t)*cos(beta0 - 2*theta0(t))/2 + m2*nu2(t)**2*sin(2*theta0(t))/2 - m2*nu2(t)*nu3(t)*sin(beta0)/2 + m2*nu2(t)*nu3(t)*sin(beta0 - 2*theta0(t))/2 + W1(t) + T1(t)*sin(beta0 - theta0(t))/r + W1(t)*cos(beta0 - theta0(t))/d, -(-b*r**2*(nu1(t)*sin(theta0(t)) - nu2(t)*cos(theta0(t)) + nu3(t)*cos(beta0 - theta0(t)))*(d*nu3(t) + nu1(t)*sin(theta0(t)) - nu2(t)*cos(theta0(t)) + nu3(t)*cos(beta0 - theta0(t)))*sin(beta0 - theta0(t)) - b*r**2*(2*d*nu1(t)*nu3(t)*cos(theta0(t)) + 2*d*nu2(t)*nu3(t)*sin(theta0(t)) + 2*d*nu3(t)**2*sin(beta0 - theta0(t)) - 2*d*sin(theta0(t))*Derivative(nu1(t), t) - 2*d*cos(beta0 - theta0(t))*Derivative(nu3(t), t) + 2*d*cos(theta0(t))*Derivative(nu2(t), t) + nu1(t)**2*sin(2*theta0(t)) - 2*nu1(t)*nu2(t)*cos(2*theta0(t)) + 2*nu1(t)*nu3(t)*cos(beta0 - 2*theta0(t)) - nu2(t)**2*sin(2*theta0(t)) - 2*nu2(t)*nu3(t)*sin(beta0 - 2*theta0(t)) + nu3(t)**2*sin(2*beta0 - 2*theta0(t)))*cos(beta0 - theta0(t))/2 + d**2*(2*c*(nu1(t)*cos(theta0(t)) + nu2(t)*sin(theta0(t)) + nu3(t)*sin(beta0 - theta0(t)))*(d*nu3(t) + nu1(t)*sin(theta0(t)) - nu2(t)*cos(theta0(t)) + nu3(t)*cos(beta0 - theta0(t)))*cos(beta0 - theta0(t)) + 2*c*(d*(sin(beta0 - theta0(t))*Derivative(nu3(t), t) + sin(theta0(t))*Derivative(nu2(t), t) + cos(theta0(t))*Derivative(nu1(t), t)) + (d*nu3(t) + nu1(t)*sin(theta0(t)) - nu2(t)*cos(theta0(t)) + nu3(t)*cos(beta0 - theta0(t)))*nu1(t)*sin(theta0(t)) - (d*nu3(t) + nu1(t)*sin(theta0(t)) - nu2(t)*cos(theta0(t)) + nu3(t)*cos(beta0 - theta0(t)))*nu2(t)*cos(theta0(t)) + (d*nu3(t) + nu1(t)*sin(theta0(t)) - nu2(t)*cos(theta0(t)) + nu3(t)*cos(beta0 - theta0(t)))*nu3(t)*cos(beta0 - theta0(t)))*sin(beta0 - theta0(t)) + r**2*(2*a*d*Derivative(nu3(t), t) - 2*m2*(2*nu1(t)*sin(theta0(t)) - 2*nu2(t)*cos(theta0(t)) + nu3(t)*cos(beta0 - theta0(t)))*(d*nu3(t) + nu1(t)*sin(theta0(t)) - nu2(t)*cos(theta0(t)) + nu3(t)*cos(beta0 - theta0(t)))*sin(beta0 - theta0(t)) - m2*(4*d*nu1(t)*nu3(t)*cos(theta0(t)) + 4*d*nu2(t)*nu3(t)*sin(theta0(t)) + 2*d*nu3(t)**2*sin(beta0 - theta0(t)) - 4*d*sin(theta0(t))*Derivative(nu1(t), t) - 2*d*cos(beta0 - theta0(t))*Derivative(nu3(t), t) + 4*d*cos(theta0(t))*Derivative(nu2(t), t) + 2*nu1(t)**2*sin(2*theta0(t)) - 4*nu1(t)*nu2(t)*cos(2*theta0(t)) + nu1(t)*nu3(t)*cos(beta0) + 3*nu1(t)*nu3(t)*cos(beta0 - 2*theta0(t)) - 2*nu2(t)**2*sin(2*theta0(t)) + nu2(t)*nu3(t)*sin(beta0) - 3*nu2(t)*nu3(t)*sin(beta0 - 2*theta0(t)) + nu3(t)**2*sin(2*beta0 - 2*theta0(t)))*cos(beta0 - theta0(t))))/2)/(d**3*r**2))"
      ]
     },
     "execution_count": 119,
     "metadata": {},
     "output_type": "execute_result"
    }
   ],
   "source": [
    "%%time\n",
    "S.tatarinov_equation(2)"
   ]
  },
  {
   "cell_type": "code",
   "execution_count": 122,
   "metadata": {},
   "outputs": [],
   "source": [
    "save(S.tatarinov_equations, 'eqs+TW')"
   ]
  },
  {
   "cell_type": "markdown",
   "metadata": {},
   "source": [
    "## Solve & Load"
   ]
  },
  {
   "cell_type": "code",
   "execution_count": 123,
   "metadata": {},
   "outputs": [],
   "source": [
    "# eqs = load('eqs')\n",
    "eqs = load('eqs+TW')"
   ]
  },
  {
   "cell_type": "code",
   "execution_count": 134,
   "metadata": {},
   "outputs": [],
   "source": [
    "def par_subs(eq):\n",
    "    return eq.subs({\n",
    "        beta[0]: 0,\n",
    "#         d: 2,\n",
    "        r: 1,\n",
    "        b: 2,\n",
    "        c: 1,\n",
    "        m['platform']: 3,\n",
    "        m['wheel']: 1\n",
    "    })"
   ]
  },
  {
   "cell_type": "code",
   "execution_count": 120,
   "metadata": {},
   "outputs": [],
   "source": [
    "# simplify(par_subs(eqs[0]).subs(\n",
    "#     {Derivative(x, t):0 for x in S.right_part_Eqs(S.omega_equations)}\n",
    "# ))\n",
    "\n",
    "# par_subs(eqs[0])"
   ]
  },
  {
   "cell_type": "code",
   "execution_count": null,
   "metadata": {},
   "outputs": [],
   "source": []
  },
  {
   "cell_type": "code",
   "execution_count": null,
   "metadata": {},
   "outputs": [],
   "source": []
  },
  {
   "cell_type": "code",
   "execution_count": null,
   "metadata": {},
   "outputs": [],
   "source": []
  },
  {
   "cell_type": "markdown",
   "metadata": {},
   "source": [
    "### Display equations "
   ]
  },
  {
   "cell_type": "code",
   "execution_count": null,
   "metadata": {},
   "outputs": [],
   "source": [
    "# %%time\n",
    "# for eq in S.tatarinov_equations:\n",
    "#     display(simplify(eq))"
   ]
  },
  {
   "cell_type": "code",
   "execution_count": null,
   "metadata": {},
   "outputs": [],
   "source": [
    "%%time\n",
    "res = linsolve([par_subs(eq) for eq in eqs],\n",
    "               [Derivative(x, t) for x in S.right_part_Eqs(S.omega_equations)])"
   ]
  },
  {
   "cell_type": "code",
   "execution_count": 127,
   "metadata": {},
   "outputs": [],
   "source": [
    "# save(res, 'res+TW')"
   ]
  },
  {
   "cell_type": "code",
   "execution_count": 128,
   "metadata": {},
   "outputs": [],
   "source": [
    "# res = load('res')\n",
    "res = load('res+TW')"
   ]
  },
  {
   "cell_type": "code",
   "execution_count": 129,
   "metadata": {},
   "outputs": [
    {
     "name": "stdout",
     "output_type": "stream",
     "text": [
      "CPU times: user 38 s, sys: 28 ms, total: 38 s\n",
      "Wall time: 38 s\n"
     ]
    }
   ],
   "source": [
    "%%time\n",
    "s_eq1 = simplify(res.args[0][0])"
   ]
  },
  {
   "cell_type": "code",
   "execution_count": 130,
   "metadata": {},
   "outputs": [
    {
     "name": "stdout",
     "output_type": "stream",
     "text": [
      "CPU times: user 25.5 s, sys: 44 ms, total: 25.6 s\n",
      "Wall time: 25.6 s\n"
     ]
    }
   ],
   "source": [
    "%%time\n",
    "s_eq2 = simplify(res.args[0][1])"
   ]
  },
  {
   "cell_type": "code",
   "execution_count": 131,
   "metadata": {},
   "outputs": [
    {
     "name": "stdout",
     "output_type": "stream",
     "text": [
      "CPU times: user 6.91 s, sys: 20 ms, total: 6.93 s\n",
      "Wall time: 6.93 s\n"
     ]
    }
   ],
   "source": [
    "%%time\n",
    "s_eq3 = simplify(res.args[0][2])"
   ]
  },
  {
   "cell_type": "code",
   "execution_count": 133,
   "metadata": {},
   "outputs": [
    {
     "data": {
      "text/latex": [
       "$\\displaystyle \\alpha{\\left(t \\right)}$"
      ],
      "text/plain": [
       "alpha(t)"
      ]
     },
     "execution_count": 133,
     "metadata": {},
     "output_type": "execute_result"
    }
   ],
   "source": [
    "alpha"
   ]
  },
  {
   "cell_type": "code",
   "execution_count": 132,
   "metadata": {},
   "outputs": [
    {
     "data": {
      "text/latex": [
       "$\\displaystyle \\frac{- \\left(10 \\sin{\\left(2 \\theta_{0}{\\left(t \\right)} \\right)} - \\sin{\\left(4 \\theta_{0}{\\left(t \\right)} \\right)}\\right) \\left(24 \\operatorname{T_{1}}{\\left(t \\right)} \\sin^{3}{\\left(\\theta_{0}{\\left(t \\right)} \\right)} + 48 \\operatorname{T_{1}}{\\left(t \\right)} \\sin{\\left(\\theta_{0}{\\left(t \\right)} \\right)} - 30 \\operatorname{W_{1}}{\\left(t \\right)} \\sin^{2}{\\left(\\theta_{0}{\\left(t \\right)} \\right)} + 10 \\operatorname{W_{1}}{\\left(t \\right)} \\cos^{3}{\\left(\\theta_{0}{\\left(t \\right)} \\right)} - 30 \\operatorname{W_{1}}{\\left(t \\right)} \\cos{\\left(\\theta_{0}{\\left(t \\right)} \\right)} - 60 \\operatorname{W_{1}}{\\left(t \\right)} - 25 \\nu_{1}^{2}{\\left(t \\right)} \\sin^{5}{\\left(\\theta_{0}{\\left(t \\right)} \\right)} - 40 \\nu_{1}^{2}{\\left(t \\right)} \\sin^{3}{\\left(\\theta_{0}{\\left(t \\right)} \\right)} - 30 \\nu_{1}^{2}{\\left(t \\right)} \\sin{\\left(\\theta_{0}{\\left(t \\right)} \\right)} \\cos^{3}{\\left(\\theta_{0}{\\left(t \\right)} \\right)} + 20 \\nu_{1}^{2}{\\left(t \\right)} \\sin{\\left(\\theta_{0}{\\left(t \\right)} \\right)} + 45 \\nu_{1}^{2}{\\left(t \\right)} \\sin{\\left(2 \\theta_{0}{\\left(t \\right)} \\right)} - 20 \\nu_{1}{\\left(t \\right)} \\nu_{2}{\\left(t \\right)} \\sin^{6}{\\left(\\theta_{0}{\\left(t \\right)} \\right)} \\cos{\\left(\\theta_{0}{\\left(t \\right)} \\right)} - 40 \\nu_{1}{\\left(t \\right)} \\nu_{2}{\\left(t \\right)} \\sin^{4}{\\left(\\theta_{0}{\\left(t \\right)} \\right)} \\cos{\\left(\\theta_{0}{\\left(t \\right)} \\right)} + 60 \\nu_{1}{\\left(t \\right)} \\nu_{2}{\\left(t \\right)} \\sin^{4}{\\left(\\theta_{0}{\\left(t \\right)} \\right)} + 90 \\nu_{1}{\\left(t \\right)} \\nu_{2}{\\left(t \\right)} \\sin^{2}{\\left(\\theta_{0}{\\left(t \\right)} \\right)} - 20 \\nu_{1}{\\left(t \\right)} \\nu_{2}{\\left(t \\right)} \\cos^{7}{\\left(\\theta_{0}{\\left(t \\right)} \\right)} + 150 \\nu_{1}{\\left(t \\right)} \\nu_{2}{\\left(t \\right)} \\cos^{5}{\\left(\\theta_{0}{\\left(t \\right)} \\right)} - 330 \\nu_{1}{\\left(t \\right)} \\nu_{2}{\\left(t \\right)} \\cos^{3}{\\left(\\theta_{0}{\\left(t \\right)} \\right)} + 180 \\nu_{1}{\\left(t \\right)} \\nu_{2}{\\left(t \\right)} \\cos{\\left(\\theta_{0}{\\left(t \\right)} \\right)} - 60 \\nu_{1}{\\left(t \\right)} \\nu_{2}{\\left(t \\right)} + 16 \\nu_{1}{\\left(t \\right)} \\nu_{3}{\\left(t \\right)} \\sin^{6}{\\left(\\theta_{0}{\\left(t \\right)} \\right)} \\cos{\\left(\\theta_{0}{\\left(t \\right)} \\right)} + 32 \\nu_{1}{\\left(t \\right)} \\nu_{3}{\\left(t \\right)} \\sin^{4}{\\left(\\theta_{0}{\\left(t \\right)} \\right)} \\cos{\\left(\\theta_{0}{\\left(t \\right)} \\right)} - 70 \\nu_{1}{\\left(t \\right)} \\nu_{3}{\\left(t \\right)} \\sin^{4}{\\left(\\theta_{0}{\\left(t \\right)} \\right)} - 130 \\nu_{1}{\\left(t \\right)} \\nu_{3}{\\left(t \\right)} \\sin^{2}{\\left(\\theta_{0}{\\left(t \\right)} \\right)} + 16 \\nu_{1}{\\left(t \\right)} \\nu_{3}{\\left(t \\right)} \\cos^{7}{\\left(\\theta_{0}{\\left(t \\right)} \\right)} - 108 \\nu_{1}{\\left(t \\right)} \\nu_{3}{\\left(t \\right)} \\cos^{5}{\\left(\\theta_{0}{\\left(t \\right)} \\right)} + 214 \\nu_{1}{\\left(t \\right)} \\nu_{3}{\\left(t \\right)} \\cos^{3}{\\left(\\theta_{0}{\\left(t \\right)} \\right)} - 102 \\nu_{1}{\\left(t \\right)} \\nu_{3}{\\left(t \\right)} \\cos{\\left(\\theta_{0}{\\left(t \\right)} \\right)} + 20 \\nu_{1}{\\left(t \\right)} \\nu_{3}{\\left(t \\right)} + 25 \\nu_{2}^{2}{\\left(t \\right)} \\sin^{5}{\\left(\\theta_{0}{\\left(t \\right)} \\right)} + 25 \\nu_{2}^{2}{\\left(t \\right)} \\sin^{3}{\\left(\\theta_{0}{\\left(t \\right)} \\right)} + 30 \\nu_{2}^{2}{\\left(t \\right)} \\sin{\\left(\\theta_{0}{\\left(t \\right)} \\right)} \\cos^{3}{\\left(\\theta_{0}{\\left(t \\right)} \\right)} - 50 \\nu_{2}^{2}{\\left(t \\right)} \\sin{\\left(\\theta_{0}{\\left(t \\right)} \\right)} - 45 \\nu_{2}^{2}{\\left(t \\right)} \\sin{\\left(2 \\theta_{0}{\\left(t \\right)} \\right)} - 16 \\nu_{2}{\\left(t \\right)} \\nu_{3}{\\left(t \\right)} \\sin^{5}{\\left(\\theta_{0}{\\left(t \\right)} \\right)} \\cos{\\left(\\theta_{0}{\\left(t \\right)} \\right)} - 28 \\nu_{2}{\\left(t \\right)} \\nu_{3}{\\left(t \\right)} \\sin^{5}{\\left(\\theta_{0}{\\left(t \\right)} \\right)} - 16 \\nu_{2}{\\left(t \\right)} \\nu_{3}{\\left(t \\right)} \\sin^{3}{\\left(\\theta_{0}{\\left(t \\right)} \\right)} \\cos^{3}{\\left(\\theta_{0}{\\left(t \\right)} \\right)} + 6 \\nu_{2}{\\left(t \\right)} \\nu_{3}{\\left(t \\right)} \\sin^{3}{\\left(\\theta_{0}{\\left(t \\right)} \\right)} \\cos{\\left(\\theta_{0}{\\left(t \\right)} \\right)} - 28 \\nu_{2}{\\left(t \\right)} \\nu_{3}{\\left(t \\right)} \\sin^{3}{\\left(\\theta_{0}{\\left(t \\right)} \\right)} - 80 \\nu_{2}{\\left(t \\right)} \\nu_{3}{\\left(t \\right)} \\sin{\\left(\\theta_{0}{\\left(t \\right)} \\right)} \\cos^{3}{\\left(\\theta_{0}{\\left(t \\right)} \\right)} + 56 \\nu_{2}{\\left(t \\right)} \\nu_{3}{\\left(t \\right)} \\sin{\\left(\\theta_{0}{\\left(t \\right)} \\right)} + 110 \\nu_{2}{\\left(t \\right)} \\nu_{3}{\\left(t \\right)} \\sin{\\left(2 \\theta_{0}{\\left(t \\right)} \\right)} + 8 \\nu_{3}^{2}{\\left(t \\right)} \\sin^{5}{\\left(\\theta_{0}{\\left(t \\right)} \\right)} \\cos{\\left(\\theta_{0}{\\left(t \\right)} \\right)} + 3 \\nu_{3}^{2}{\\left(t \\right)} \\sin^{5}{\\left(\\theta_{0}{\\left(t \\right)} \\right)} + 8 \\nu_{3}^{2}{\\left(t \\right)} \\sin^{3}{\\left(\\theta_{0}{\\left(t \\right)} \\right)} \\cos^{3}{\\left(\\theta_{0}{\\left(t \\right)} \\right)} - 10 \\nu_{3}^{2}{\\left(t \\right)} \\sin^{3}{\\left(\\theta_{0}{\\left(t \\right)} \\right)} \\cos{\\left(\\theta_{0}{\\left(t \\right)} \\right)} + 3 \\nu_{3}^{2}{\\left(t \\right)} \\sin^{3}{\\left(\\theta_{0}{\\left(t \\right)} \\right)} + 10 \\nu_{3}^{2}{\\left(t \\right)} \\sin{\\left(\\theta_{0}{\\left(t \\right)} \\right)} \\cos^{3}{\\left(\\theta_{0}{\\left(t \\right)} \\right)} - 6 \\nu_{3}^{2}{\\left(t \\right)} \\sin{\\left(\\theta_{0}{\\left(t \\right)} \\right)} - 17 \\nu_{3}^{2}{\\left(t \\right)} \\sin{\\left(2 \\theta_{0}{\\left(t \\right)} \\right)}\\right) + 2 \\left(- 15 a \\cos^{2}{\\left(\\theta_{0}{\\left(t \\right)} \\right)} + 45 a + 2 \\cos^{4}{\\left(\\theta_{0}{\\left(t \\right)} \\right)} - 18 \\cos^{2}{\\left(\\theta_{0}{\\left(t \\right)} \\right)} + 36\\right) \\left(12 \\operatorname{T_{1}}{\\left(t \\right)} \\cos^{3}{\\left(\\theta_{0}{\\left(t \\right)} \\right)} - 36 \\operatorname{T_{1}}{\\left(t \\right)} \\cos{\\left(\\theta_{0}{\\left(t \\right)} \\right)} - 4 \\operatorname{W_{1}}{\\left(t \\right)} \\sin^{3}{\\left(\\theta_{0}{\\left(t \\right)} \\right)} - 8 \\operatorname{W_{1}}{\\left(t \\right)} \\sin{\\left(\\theta_{0}{\\left(t \\right)} \\right)} + 25 \\nu_{1}^{2}{\\left(t \\right)} \\sin^{4}{\\left(\\theta_{0}{\\left(t \\right)} \\right)} \\cos{\\left(\\theta_{0}{\\left(t \\right)} \\right)} - 50 \\nu_{1}^{2}{\\left(t \\right)} \\cos^{3}{\\left(\\theta_{0}{\\left(t \\right)} \\right)} + 50 \\nu_{1}^{2}{\\left(t \\right)} \\cos{\\left(\\theta_{0}{\\left(t \\right)} \\right)} - 20 \\nu_{1}{\\left(t \\right)} \\nu_{2}{\\left(t \\right)} \\sin^{7}{\\left(\\theta_{0}{\\left(t \\right)} \\right)} + 110 \\nu_{1}{\\left(t \\right)} \\nu_{2}{\\left(t \\right)} \\sin^{5}{\\left(\\theta_{0}{\\left(t \\right)} \\right)} - 20 \\nu_{1}{\\left(t \\right)} \\nu_{2}{\\left(t \\right)} \\sin{\\left(\\theta_{0}{\\left(t \\right)} \\right)} \\cos^{6}{\\left(\\theta_{0}{\\left(t \\right)} \\right)} - 60 \\nu_{1}{\\left(t \\right)} \\nu_{2}{\\left(t \\right)} \\sin{\\left(\\theta_{0}{\\left(t \\right)} \\right)} + 16 \\nu_{1}{\\left(t \\right)} \\nu_{3}{\\left(t \\right)} \\sin^{7}{\\left(\\theta_{0}{\\left(t \\right)} \\right)} - 88 \\nu_{1}{\\left(t \\right)} \\nu_{3}{\\left(t \\right)} \\sin^{5}{\\left(\\theta_{0}{\\left(t \\right)} \\right)} + 22 \\nu_{1}{\\left(t \\right)} \\nu_{3}{\\left(t \\right)} \\sin^{3}{\\left(\\theta_{0}{\\left(t \\right)} \\right)} \\cos{\\left(\\theta_{0}{\\left(t \\right)} \\right)} + 2 \\nu_{1}{\\left(t \\right)} \\nu_{3}{\\left(t \\right)} \\sin^{3}{\\left(\\theta_{0}{\\left(t \\right)} \\right)} + 16 \\nu_{1}{\\left(t \\right)} \\nu_{3}{\\left(t \\right)} \\sin{\\left(\\theta_{0}{\\left(t \\right)} \\right)} \\cos^{6}{\\left(\\theta_{0}{\\left(t \\right)} \\right)} + 52 \\nu_{1}{\\left(t \\right)} \\nu_{3}{\\left(t \\right)} \\sin{\\left(\\theta_{0}{\\left(t \\right)} \\right)} + 22 \\nu_{1}{\\left(t \\right)} \\nu_{3}{\\left(t \\right)} \\sin{\\left(2 \\theta_{0}{\\left(t \\right)} \\right)} - 25 \\nu_{2}^{2}{\\left(t \\right)} \\sin^{4}{\\left(\\theta_{0}{\\left(t \\right)} \\right)} \\cos{\\left(\\theta_{0}{\\left(t \\right)} \\right)} + 35 \\nu_{2}^{2}{\\left(t \\right)} \\cos^{3}{\\left(\\theta_{0}{\\left(t \\right)} \\right)} - 5 \\nu_{2}^{2}{\\left(t \\right)} \\cos{\\left(\\theta_{0}{\\left(t \\right)} \\right)} + 40 \\nu_{2}{\\left(t \\right)} \\nu_{3}{\\left(t \\right)} \\sin^{4}{\\left(\\theta_{0}{\\left(t \\right)} \\right)} \\cos{\\left(\\theta_{0}{\\left(t \\right)} \\right)} + 22 \\nu_{2}{\\left(t \\right)} \\nu_{3}{\\left(t \\right)} \\sin^{4}{\\left(\\theta_{0}{\\left(t \\right)} \\right)} + 74 \\nu_{2}{\\left(t \\right)} \\nu_{3}{\\left(t \\right)} \\sin^{2}{\\left(\\theta_{0}{\\left(t \\right)} \\right)} - 56 \\nu_{2}{\\left(t \\right)} \\nu_{3}{\\left(t \\right)} \\cos^{3}{\\left(\\theta_{0}{\\left(t \\right)} \\right)} + 8 \\nu_{2}{\\left(t \\right)} \\nu_{3}{\\left(t \\right)} \\cos{\\left(\\theta_{0}{\\left(t \\right)} \\right)} + 60 \\nu_{2}{\\left(t \\right)} \\nu_{3}{\\left(t \\right)} - 15 \\nu_{3}^{2}{\\left(t \\right)} \\sin^{4}{\\left(\\theta_{0}{\\left(t \\right)} \\right)} \\cos{\\left(\\theta_{0}{\\left(t \\right)} \\right)} - 18 \\nu_{3}^{2}{\\left(t \\right)} \\sin^{4}{\\left(\\theta_{0}{\\left(t \\right)} \\right)} - 30 \\nu_{3}^{2}{\\left(t \\right)} \\sin^{2}{\\left(\\theta_{0}{\\left(t \\right)} \\right)} + 21 \\nu_{3}^{2}{\\left(t \\right)} \\cos^{3}{\\left(\\theta_{0}{\\left(t \\right)} \\right)} - 3 \\nu_{3}^{2}{\\left(t \\right)} \\cos{\\left(\\theta_{0}{\\left(t \\right)} \\right)} + 12 \\nu_{3}^{2}{\\left(t \\right)}\\right)}{120 \\left(\\sin^{2}{\\left(\\theta_{0}{\\left(t \\right)} \\right)} + 2\\right) \\left(- 15 a \\cos^{2}{\\left(\\theta_{0}{\\left(t \\right)} \\right)} + 45 a + 2 \\cos^{4}{\\left(\\theta_{0}{\\left(t \\right)} \\right)} - 18 \\cos^{2}{\\left(\\theta_{0}{\\left(t \\right)} \\right)} + 36\\right)} = \\frac{d}{d t} \\nu_{1}{\\left(t \\right)}$"
      ],
      "text/plain": [
       "Eq((-(10*sin(2*theta0(t)) - sin(4*theta0(t)))*(24*T1(t)*sin(theta0(t))**3 + 48*T1(t)*sin(theta0(t)) - 30*W1(t)*sin(theta0(t))**2 + 10*W1(t)*cos(theta0(t))**3 - 30*W1(t)*cos(theta0(t)) - 60*W1(t) - 25*nu1(t)**2*sin(theta0(t))**5 - 40*nu1(t)**2*sin(theta0(t))**3 - 30*nu1(t)**2*sin(theta0(t))*cos(theta0(t))**3 + 20*nu1(t)**2*sin(theta0(t)) + 45*nu1(t)**2*sin(2*theta0(t)) - 20*nu1(t)*nu2(t)*sin(theta0(t))**6*cos(theta0(t)) - 40*nu1(t)*nu2(t)*sin(theta0(t))**4*cos(theta0(t)) + 60*nu1(t)*nu2(t)*sin(theta0(t))**4 + 90*nu1(t)*nu2(t)*sin(theta0(t))**2 - 20*nu1(t)*nu2(t)*cos(theta0(t))**7 + 150*nu1(t)*nu2(t)*cos(theta0(t))**5 - 330*nu1(t)*nu2(t)*cos(theta0(t))**3 + 180*nu1(t)*nu2(t)*cos(theta0(t)) - 60*nu1(t)*nu2(t) + 16*nu1(t)*nu3(t)*sin(theta0(t))**6*cos(theta0(t)) + 32*nu1(t)*nu3(t)*sin(theta0(t))**4*cos(theta0(t)) - 70*nu1(t)*nu3(t)*sin(theta0(t))**4 - 130*nu1(t)*nu3(t)*sin(theta0(t))**2 + 16*nu1(t)*nu3(t)*cos(theta0(t))**7 - 108*nu1(t)*nu3(t)*cos(theta0(t))**5 + 214*nu1(t)*nu3(t)*cos(theta0(t))**3 - 102*nu1(t)*nu3(t)*cos(theta0(t)) + 20*nu1(t)*nu3(t) + 25*nu2(t)**2*sin(theta0(t))**5 + 25*nu2(t)**2*sin(theta0(t))**3 + 30*nu2(t)**2*sin(theta0(t))*cos(theta0(t))**3 - 50*nu2(t)**2*sin(theta0(t)) - 45*nu2(t)**2*sin(2*theta0(t)) - 16*nu2(t)*nu3(t)*sin(theta0(t))**5*cos(theta0(t)) - 28*nu2(t)*nu3(t)*sin(theta0(t))**5 - 16*nu2(t)*nu3(t)*sin(theta0(t))**3*cos(theta0(t))**3 + 6*nu2(t)*nu3(t)*sin(theta0(t))**3*cos(theta0(t)) - 28*nu2(t)*nu3(t)*sin(theta0(t))**3 - 80*nu2(t)*nu3(t)*sin(theta0(t))*cos(theta0(t))**3 + 56*nu2(t)*nu3(t)*sin(theta0(t)) + 110*nu2(t)*nu3(t)*sin(2*theta0(t)) + 8*nu3(t)**2*sin(theta0(t))**5*cos(theta0(t)) + 3*nu3(t)**2*sin(theta0(t))**5 + 8*nu3(t)**2*sin(theta0(t))**3*cos(theta0(t))**3 - 10*nu3(t)**2*sin(theta0(t))**3*cos(theta0(t)) + 3*nu3(t)**2*sin(theta0(t))**3 + 10*nu3(t)**2*sin(theta0(t))*cos(theta0(t))**3 - 6*nu3(t)**2*sin(theta0(t)) - 17*nu3(t)**2*sin(2*theta0(t))) + 2*(-15*a*cos(theta0(t))**2 + 45*a + 2*cos(theta0(t))**4 - 18*cos(theta0(t))**2 + 36)*(12*T1(t)*cos(theta0(t))**3 - 36*T1(t)*cos(theta0(t)) - 4*W1(t)*sin(theta0(t))**3 - 8*W1(t)*sin(theta0(t)) + 25*nu1(t)**2*sin(theta0(t))**4*cos(theta0(t)) - 50*nu1(t)**2*cos(theta0(t))**3 + 50*nu1(t)**2*cos(theta0(t)) - 20*nu1(t)*nu2(t)*sin(theta0(t))**7 + 110*nu1(t)*nu2(t)*sin(theta0(t))**5 - 20*nu1(t)*nu2(t)*sin(theta0(t))*cos(theta0(t))**6 - 60*nu1(t)*nu2(t)*sin(theta0(t)) + 16*nu1(t)*nu3(t)*sin(theta0(t))**7 - 88*nu1(t)*nu3(t)*sin(theta0(t))**5 + 22*nu1(t)*nu3(t)*sin(theta0(t))**3*cos(theta0(t)) + 2*nu1(t)*nu3(t)*sin(theta0(t))**3 + 16*nu1(t)*nu3(t)*sin(theta0(t))*cos(theta0(t))**6 + 52*nu1(t)*nu3(t)*sin(theta0(t)) + 22*nu1(t)*nu3(t)*sin(2*theta0(t)) - 25*nu2(t)**2*sin(theta0(t))**4*cos(theta0(t)) + 35*nu2(t)**2*cos(theta0(t))**3 - 5*nu2(t)**2*cos(theta0(t)) + 40*nu2(t)*nu3(t)*sin(theta0(t))**4*cos(theta0(t)) + 22*nu2(t)*nu3(t)*sin(theta0(t))**4 + 74*nu2(t)*nu3(t)*sin(theta0(t))**2 - 56*nu2(t)*nu3(t)*cos(theta0(t))**3 + 8*nu2(t)*nu3(t)*cos(theta0(t)) + 60*nu2(t)*nu3(t) - 15*nu3(t)**2*sin(theta0(t))**4*cos(theta0(t)) - 18*nu3(t)**2*sin(theta0(t))**4 - 30*nu3(t)**2*sin(theta0(t))**2 + 21*nu3(t)**2*cos(theta0(t))**3 - 3*nu3(t)**2*cos(theta0(t)) + 12*nu3(t)**2))/(120*(sin(theta0(t))**2 + 2)*(-15*a*cos(theta0(t))**2 + 45*a + 2*cos(theta0(t))**4 - 18*cos(theta0(t))**2 + 36)), Derivative(nu1(t), t))"
      ]
     },
     "metadata": {},
     "output_type": "display_data"
    },
    {
     "data": {
      "text/latex": [
       "$\\displaystyle - \\frac{2 \\left(2 \\sin^{2}{\\left(\\theta_{0}{\\left(t \\right)} \\right)} - 5\\right) \\left(24 \\operatorname{T_{1}}{\\left(t \\right)} \\sin^{3}{\\left(\\theta_{0}{\\left(t \\right)} \\right)} + 48 \\operatorname{T_{1}}{\\left(t \\right)} \\sin{\\left(\\theta_{0}{\\left(t \\right)} \\right)} - 30 \\operatorname{W_{1}}{\\left(t \\right)} \\sin^{2}{\\left(\\theta_{0}{\\left(t \\right)} \\right)} + 10 \\operatorname{W_{1}}{\\left(t \\right)} \\cos^{3}{\\left(\\theta_{0}{\\left(t \\right)} \\right)} - 30 \\operatorname{W_{1}}{\\left(t \\right)} \\cos{\\left(\\theta_{0}{\\left(t \\right)} \\right)} - 60 \\operatorname{W_{1}}{\\left(t \\right)} - 25 \\nu_{1}^{2}{\\left(t \\right)} \\sin^{5}{\\left(\\theta_{0}{\\left(t \\right)} \\right)} - 40 \\nu_{1}^{2}{\\left(t \\right)} \\sin^{3}{\\left(\\theta_{0}{\\left(t \\right)} \\right)} - 30 \\nu_{1}^{2}{\\left(t \\right)} \\sin{\\left(\\theta_{0}{\\left(t \\right)} \\right)} \\cos^{3}{\\left(\\theta_{0}{\\left(t \\right)} \\right)} + 20 \\nu_{1}^{2}{\\left(t \\right)} \\sin{\\left(\\theta_{0}{\\left(t \\right)} \\right)} + 45 \\nu_{1}^{2}{\\left(t \\right)} \\sin{\\left(2 \\theta_{0}{\\left(t \\right)} \\right)} - 20 \\nu_{1}{\\left(t \\right)} \\nu_{2}{\\left(t \\right)} \\sin^{6}{\\left(\\theta_{0}{\\left(t \\right)} \\right)} \\cos{\\left(\\theta_{0}{\\left(t \\right)} \\right)} - 40 \\nu_{1}{\\left(t \\right)} \\nu_{2}{\\left(t \\right)} \\sin^{4}{\\left(\\theta_{0}{\\left(t \\right)} \\right)} \\cos{\\left(\\theta_{0}{\\left(t \\right)} \\right)} + 60 \\nu_{1}{\\left(t \\right)} \\nu_{2}{\\left(t \\right)} \\sin^{4}{\\left(\\theta_{0}{\\left(t \\right)} \\right)} + 90 \\nu_{1}{\\left(t \\right)} \\nu_{2}{\\left(t \\right)} \\sin^{2}{\\left(\\theta_{0}{\\left(t \\right)} \\right)} - 20 \\nu_{1}{\\left(t \\right)} \\nu_{2}{\\left(t \\right)} \\cos^{7}{\\left(\\theta_{0}{\\left(t \\right)} \\right)} + 150 \\nu_{1}{\\left(t \\right)} \\nu_{2}{\\left(t \\right)} \\cos^{5}{\\left(\\theta_{0}{\\left(t \\right)} \\right)} - 330 \\nu_{1}{\\left(t \\right)} \\nu_{2}{\\left(t \\right)} \\cos^{3}{\\left(\\theta_{0}{\\left(t \\right)} \\right)} + 180 \\nu_{1}{\\left(t \\right)} \\nu_{2}{\\left(t \\right)} \\cos{\\left(\\theta_{0}{\\left(t \\right)} \\right)} - 60 \\nu_{1}{\\left(t \\right)} \\nu_{2}{\\left(t \\right)} + 16 \\nu_{1}{\\left(t \\right)} \\nu_{3}{\\left(t \\right)} \\sin^{6}{\\left(\\theta_{0}{\\left(t \\right)} \\right)} \\cos{\\left(\\theta_{0}{\\left(t \\right)} \\right)} + 32 \\nu_{1}{\\left(t \\right)} \\nu_{3}{\\left(t \\right)} \\sin^{4}{\\left(\\theta_{0}{\\left(t \\right)} \\right)} \\cos{\\left(\\theta_{0}{\\left(t \\right)} \\right)} - 70 \\nu_{1}{\\left(t \\right)} \\nu_{3}{\\left(t \\right)} \\sin^{4}{\\left(\\theta_{0}{\\left(t \\right)} \\right)} - 130 \\nu_{1}{\\left(t \\right)} \\nu_{3}{\\left(t \\right)} \\sin^{2}{\\left(\\theta_{0}{\\left(t \\right)} \\right)} + 16 \\nu_{1}{\\left(t \\right)} \\nu_{3}{\\left(t \\right)} \\cos^{7}{\\left(\\theta_{0}{\\left(t \\right)} \\right)} - 108 \\nu_{1}{\\left(t \\right)} \\nu_{3}{\\left(t \\right)} \\cos^{5}{\\left(\\theta_{0}{\\left(t \\right)} \\right)} + 214 \\nu_{1}{\\left(t \\right)} \\nu_{3}{\\left(t \\right)} \\cos^{3}{\\left(\\theta_{0}{\\left(t \\right)} \\right)} - 102 \\nu_{1}{\\left(t \\right)} \\nu_{3}{\\left(t \\right)} \\cos{\\left(\\theta_{0}{\\left(t \\right)} \\right)} + 20 \\nu_{1}{\\left(t \\right)} \\nu_{3}{\\left(t \\right)} + 25 \\nu_{2}^{2}{\\left(t \\right)} \\sin^{5}{\\left(\\theta_{0}{\\left(t \\right)} \\right)} + 25 \\nu_{2}^{2}{\\left(t \\right)} \\sin^{3}{\\left(\\theta_{0}{\\left(t \\right)} \\right)} + 30 \\nu_{2}^{2}{\\left(t \\right)} \\sin{\\left(\\theta_{0}{\\left(t \\right)} \\right)} \\cos^{3}{\\left(\\theta_{0}{\\left(t \\right)} \\right)} - 50 \\nu_{2}^{2}{\\left(t \\right)} \\sin{\\left(\\theta_{0}{\\left(t \\right)} \\right)} - 45 \\nu_{2}^{2}{\\left(t \\right)} \\sin{\\left(2 \\theta_{0}{\\left(t \\right)} \\right)} - 16 \\nu_{2}{\\left(t \\right)} \\nu_{3}{\\left(t \\right)} \\sin^{5}{\\left(\\theta_{0}{\\left(t \\right)} \\right)} \\cos{\\left(\\theta_{0}{\\left(t \\right)} \\right)} - 28 \\nu_{2}{\\left(t \\right)} \\nu_{3}{\\left(t \\right)} \\sin^{5}{\\left(\\theta_{0}{\\left(t \\right)} \\right)} - 16 \\nu_{2}{\\left(t \\right)} \\nu_{3}{\\left(t \\right)} \\sin^{3}{\\left(\\theta_{0}{\\left(t \\right)} \\right)} \\cos^{3}{\\left(\\theta_{0}{\\left(t \\right)} \\right)} + 6 \\nu_{2}{\\left(t \\right)} \\nu_{3}{\\left(t \\right)} \\sin^{3}{\\left(\\theta_{0}{\\left(t \\right)} \\right)} \\cos{\\left(\\theta_{0}{\\left(t \\right)} \\right)} - 28 \\nu_{2}{\\left(t \\right)} \\nu_{3}{\\left(t \\right)} \\sin^{3}{\\left(\\theta_{0}{\\left(t \\right)} \\right)} - 80 \\nu_{2}{\\left(t \\right)} \\nu_{3}{\\left(t \\right)} \\sin{\\left(\\theta_{0}{\\left(t \\right)} \\right)} \\cos^{3}{\\left(\\theta_{0}{\\left(t \\right)} \\right)} + 56 \\nu_{2}{\\left(t \\right)} \\nu_{3}{\\left(t \\right)} \\sin{\\left(\\theta_{0}{\\left(t \\right)} \\right)} + 110 \\nu_{2}{\\left(t \\right)} \\nu_{3}{\\left(t \\right)} \\sin{\\left(2 \\theta_{0}{\\left(t \\right)} \\right)} + 8 \\nu_{3}^{2}{\\left(t \\right)} \\sin^{5}{\\left(\\theta_{0}{\\left(t \\right)} \\right)} \\cos{\\left(\\theta_{0}{\\left(t \\right)} \\right)} + 3 \\nu_{3}^{2}{\\left(t \\right)} \\sin^{5}{\\left(\\theta_{0}{\\left(t \\right)} \\right)} + 8 \\nu_{3}^{2}{\\left(t \\right)} \\sin^{3}{\\left(\\theta_{0}{\\left(t \\right)} \\right)} \\cos^{3}{\\left(\\theta_{0}{\\left(t \\right)} \\right)} - 10 \\nu_{3}^{2}{\\left(t \\right)} \\sin^{3}{\\left(\\theta_{0}{\\left(t \\right)} \\right)} \\cos{\\left(\\theta_{0}{\\left(t \\right)} \\right)} + 3 \\nu_{3}^{2}{\\left(t \\right)} \\sin^{3}{\\left(\\theta_{0}{\\left(t \\right)} \\right)} + 10 \\nu_{3}^{2}{\\left(t \\right)} \\sin{\\left(\\theta_{0}{\\left(t \\right)} \\right)} \\cos^{3}{\\left(\\theta_{0}{\\left(t \\right)} \\right)} - 6 \\nu_{3}^{2}{\\left(t \\right)} \\sin{\\left(\\theta_{0}{\\left(t \\right)} \\right)} - 17 \\nu_{3}^{2}{\\left(t \\right)} \\sin{\\left(2 \\theta_{0}{\\left(t \\right)} \\right)}\\right) + \\left(- 15 a \\cos^{2}{\\left(\\theta_{0}{\\left(t \\right)} \\right)} + 45 a + 2 \\cos^{4}{\\left(\\theta_{0}{\\left(t \\right)} \\right)} - 18 \\cos^{2}{\\left(\\theta_{0}{\\left(t \\right)} \\right)} + 36\\right) \\left(12 \\operatorname{T_{1}}{\\left(t \\right)} \\sin{\\left(\\theta_{0}{\\left(t \\right)} \\right)} - 4 \\operatorname{W_{1}}{\\left(t \\right)} \\cos{\\left(\\theta_{0}{\\left(t \\right)} \\right)} - 25 \\nu_{1}^{2}{\\left(t \\right)} \\sin^{3}{\\left(\\theta_{0}{\\left(t \\right)} \\right)} + 10 \\nu_{1}^{2}{\\left(t \\right)} \\sin{\\left(\\theta_{0}{\\left(t \\right)} \\right)} - 20 \\nu_{1}{\\left(t \\right)} \\nu_{2}{\\left(t \\right)} \\sin^{4}{\\left(\\theta_{0}{\\left(t \\right)} \\right)} \\cos{\\left(\\theta_{0}{\\left(t \\right)} \\right)} + 20 \\nu_{1}{\\left(t \\right)} \\nu_{2}{\\left(t \\right)} \\cos^{5}{\\left(\\theta_{0}{\\left(t \\right)} \\right)} - 90 \\nu_{1}{\\left(t \\right)} \\nu_{2}{\\left(t \\right)} \\cos^{3}{\\left(\\theta_{0}{\\left(t \\right)} \\right)} + 60 \\nu_{1}{\\left(t \\right)} \\nu_{2}{\\left(t \\right)} \\cos{\\left(\\theta_{0}{\\left(t \\right)} \\right)} + 16 \\nu_{1}{\\left(t \\right)} \\nu_{3}{\\left(t \\right)} \\sin^{4}{\\left(\\theta_{0}{\\left(t \\right)} \\right)} \\cos{\\left(\\theta_{0}{\\left(t \\right)} \\right)} - 22 \\nu_{1}{\\left(t \\right)} \\nu_{3}{\\left(t \\right)} \\sin^{2}{\\left(\\theta_{0}{\\left(t \\right)} \\right)} - 16 \\nu_{1}{\\left(t \\right)} \\nu_{3}{\\left(t \\right)} \\cos^{5}{\\left(\\theta_{0}{\\left(t \\right)} \\right)} + 72 \\nu_{1}{\\left(t \\right)} \\nu_{3}{\\left(t \\right)} \\cos^{3}{\\left(\\theta_{0}{\\left(t \\right)} \\right)} - 46 \\nu_{1}{\\left(t \\right)} \\nu_{3}{\\left(t \\right)} \\cos{\\left(\\theta_{0}{\\left(t \\right)} \\right)} + 52 \\nu_{1}{\\left(t \\right)} \\nu_{3}{\\left(t \\right)} + 25 \\nu_{2}^{2}{\\left(t \\right)} \\sin^{3}{\\left(\\theta_{0}{\\left(t \\right)} \\right)} - 25 \\nu_{2}^{2}{\\left(t \\right)} \\sin{\\left(\\theta_{0}{\\left(t \\right)} \\right)} - 16 \\nu_{2}{\\left(t \\right)} \\nu_{3}{\\left(t \\right)} \\sin^{3}{\\left(\\theta_{0}{\\left(t \\right)} \\right)} \\cos{\\left(\\theta_{0}{\\left(t \\right)} \\right)} - 40 \\nu_{2}{\\left(t \\right)} \\nu_{3}{\\left(t \\right)} \\sin^{3}{\\left(\\theta_{0}{\\left(t \\right)} \\right)} - 16 \\nu_{2}{\\left(t \\right)} \\nu_{3}{\\left(t \\right)} \\sin{\\left(\\theta_{0}{\\left(t \\right)} \\right)} \\cos^{3}{\\left(\\theta_{0}{\\left(t \\right)} \\right)} + 40 \\nu_{2}{\\left(t \\right)} \\nu_{3}{\\left(t \\right)} \\sin{\\left(\\theta_{0}{\\left(t \\right)} \\right)} + 19 \\nu_{2}{\\left(t \\right)} \\nu_{3}{\\left(t \\right)} \\sin{\\left(2 \\theta_{0}{\\left(t \\right)} \\right)} + 8 \\nu_{3}^{2}{\\left(t \\right)} \\sin^{3}{\\left(\\theta_{0}{\\left(t \\right)} \\right)} \\cos{\\left(\\theta_{0}{\\left(t \\right)} \\right)} + 15 \\nu_{3}^{2}{\\left(t \\right)} \\sin^{3}{\\left(\\theta_{0}{\\left(t \\right)} \\right)} + 8 \\nu_{3}^{2}{\\left(t \\right)} \\sin{\\left(\\theta_{0}{\\left(t \\right)} \\right)} \\cos^{3}{\\left(\\theta_{0}{\\left(t \\right)} \\right)} - 15 \\nu_{3}^{2}{\\left(t \\right)} \\sin{\\left(\\theta_{0}{\\left(t \\right)} \\right)} - 13 \\nu_{3}^{2}{\\left(t \\right)} \\sin{\\left(2 \\theta_{0}{\\left(t \\right)} \\right)}\\right)}{- 900 a \\cos^{2}{\\left(\\theta_{0}{\\left(t \\right)} \\right)} + 2700 a + 120 \\cos^{4}{\\left(\\theta_{0}{\\left(t \\right)} \\right)} - 1080 \\cos^{2}{\\left(\\theta_{0}{\\left(t \\right)} \\right)} + 2160} = \\frac{d}{d t} \\nu_{2}{\\left(t \\right)}$"
      ],
      "text/plain": [
       "Eq(-(2*(2*sin(theta0(t))**2 - 5)*(24*T1(t)*sin(theta0(t))**3 + 48*T1(t)*sin(theta0(t)) - 30*W1(t)*sin(theta0(t))**2 + 10*W1(t)*cos(theta0(t))**3 - 30*W1(t)*cos(theta0(t)) - 60*W1(t) - 25*nu1(t)**2*sin(theta0(t))**5 - 40*nu1(t)**2*sin(theta0(t))**3 - 30*nu1(t)**2*sin(theta0(t))*cos(theta0(t))**3 + 20*nu1(t)**2*sin(theta0(t)) + 45*nu1(t)**2*sin(2*theta0(t)) - 20*nu1(t)*nu2(t)*sin(theta0(t))**6*cos(theta0(t)) - 40*nu1(t)*nu2(t)*sin(theta0(t))**4*cos(theta0(t)) + 60*nu1(t)*nu2(t)*sin(theta0(t))**4 + 90*nu1(t)*nu2(t)*sin(theta0(t))**2 - 20*nu1(t)*nu2(t)*cos(theta0(t))**7 + 150*nu1(t)*nu2(t)*cos(theta0(t))**5 - 330*nu1(t)*nu2(t)*cos(theta0(t))**3 + 180*nu1(t)*nu2(t)*cos(theta0(t)) - 60*nu1(t)*nu2(t) + 16*nu1(t)*nu3(t)*sin(theta0(t))**6*cos(theta0(t)) + 32*nu1(t)*nu3(t)*sin(theta0(t))**4*cos(theta0(t)) - 70*nu1(t)*nu3(t)*sin(theta0(t))**4 - 130*nu1(t)*nu3(t)*sin(theta0(t))**2 + 16*nu1(t)*nu3(t)*cos(theta0(t))**7 - 108*nu1(t)*nu3(t)*cos(theta0(t))**5 + 214*nu1(t)*nu3(t)*cos(theta0(t))**3 - 102*nu1(t)*nu3(t)*cos(theta0(t)) + 20*nu1(t)*nu3(t) + 25*nu2(t)**2*sin(theta0(t))**5 + 25*nu2(t)**2*sin(theta0(t))**3 + 30*nu2(t)**2*sin(theta0(t))*cos(theta0(t))**3 - 50*nu2(t)**2*sin(theta0(t)) - 45*nu2(t)**2*sin(2*theta0(t)) - 16*nu2(t)*nu3(t)*sin(theta0(t))**5*cos(theta0(t)) - 28*nu2(t)*nu3(t)*sin(theta0(t))**5 - 16*nu2(t)*nu3(t)*sin(theta0(t))**3*cos(theta0(t))**3 + 6*nu2(t)*nu3(t)*sin(theta0(t))**3*cos(theta0(t)) - 28*nu2(t)*nu3(t)*sin(theta0(t))**3 - 80*nu2(t)*nu3(t)*sin(theta0(t))*cos(theta0(t))**3 + 56*nu2(t)*nu3(t)*sin(theta0(t)) + 110*nu2(t)*nu3(t)*sin(2*theta0(t)) + 8*nu3(t)**2*sin(theta0(t))**5*cos(theta0(t)) + 3*nu3(t)**2*sin(theta0(t))**5 + 8*nu3(t)**2*sin(theta0(t))**3*cos(theta0(t))**3 - 10*nu3(t)**2*sin(theta0(t))**3*cos(theta0(t)) + 3*nu3(t)**2*sin(theta0(t))**3 + 10*nu3(t)**2*sin(theta0(t))*cos(theta0(t))**3 - 6*nu3(t)**2*sin(theta0(t)) - 17*nu3(t)**2*sin(2*theta0(t))) + (-15*a*cos(theta0(t))**2 + 45*a + 2*cos(theta0(t))**4 - 18*cos(theta0(t))**2 + 36)*(12*T1(t)*sin(theta0(t)) - 4*W1(t)*cos(theta0(t)) - 25*nu1(t)**2*sin(theta0(t))**3 + 10*nu1(t)**2*sin(theta0(t)) - 20*nu1(t)*nu2(t)*sin(theta0(t))**4*cos(theta0(t)) + 20*nu1(t)*nu2(t)*cos(theta0(t))**5 - 90*nu1(t)*nu2(t)*cos(theta0(t))**3 + 60*nu1(t)*nu2(t)*cos(theta0(t)) + 16*nu1(t)*nu3(t)*sin(theta0(t))**4*cos(theta0(t)) - 22*nu1(t)*nu3(t)*sin(theta0(t))**2 - 16*nu1(t)*nu3(t)*cos(theta0(t))**5 + 72*nu1(t)*nu3(t)*cos(theta0(t))**3 - 46*nu1(t)*nu3(t)*cos(theta0(t)) + 52*nu1(t)*nu3(t) + 25*nu2(t)**2*sin(theta0(t))**3 - 25*nu2(t)**2*sin(theta0(t)) - 16*nu2(t)*nu3(t)*sin(theta0(t))**3*cos(theta0(t)) - 40*nu2(t)*nu3(t)*sin(theta0(t))**3 - 16*nu2(t)*nu3(t)*sin(theta0(t))*cos(theta0(t))**3 + 40*nu2(t)*nu3(t)*sin(theta0(t)) + 19*nu2(t)*nu3(t)*sin(2*theta0(t)) + 8*nu3(t)**2*sin(theta0(t))**3*cos(theta0(t)) + 15*nu3(t)**2*sin(theta0(t))**3 + 8*nu3(t)**2*sin(theta0(t))*cos(theta0(t))**3 - 15*nu3(t)**2*sin(theta0(t)) - 13*nu3(t)**2*sin(2*theta0(t))))/(-900*a*cos(theta0(t))**2 + 2700*a + 120*cos(theta0(t))**4 - 1080*cos(theta0(t))**2 + 2160), Derivative(nu2(t), t))"
      ]
     },
     "metadata": {},
     "output_type": "display_data"
    },
    {
     "data": {
      "text/latex": [
       "$\\displaystyle \\frac{- 25 \\left(1 - \\cos{\\left(2 \\theta_{0}{\\left(t \\right)} \\right)}\\right)^{2} \\nu_{1}^{2}{\\left(t \\right)} \\sin{\\left(\\theta_{0}{\\left(t \\right)} \\right)} + 50 \\left(1 - \\cos{\\left(2 \\theta_{0}{\\left(t \\right)} \\right)}\\right)^{2} \\nu_{1}{\\left(t \\right)} \\nu_{2}{\\left(t \\right)} \\cos{\\left(\\theta_{0}{\\left(t \\right)} \\right)} + 60 \\left(1 - \\cos{\\left(2 \\theta_{0}{\\left(t \\right)} \\right)}\\right)^{2} \\nu_{1}{\\left(t \\right)} \\nu_{2}{\\left(t \\right)} - 28 \\left(1 - \\cos{\\left(2 \\theta_{0}{\\left(t \\right)} \\right)}\\right)^{2} \\nu_{1}{\\left(t \\right)} \\nu_{3}{\\left(t \\right)} \\cos{\\left(\\theta_{0}{\\left(t \\right)} \\right)} - 70 \\left(1 - \\cos{\\left(2 \\theta_{0}{\\left(t \\right)} \\right)}\\right)^{2} \\nu_{1}{\\left(t \\right)} \\nu_{3}{\\left(t \\right)} + 25 \\left(1 - \\cos{\\left(2 \\theta_{0}{\\left(t \\right)} \\right)}\\right)^{2} \\nu_{2}^{2}{\\left(t \\right)} \\sin{\\left(\\theta_{0}{\\left(t \\right)} \\right)} - 28 \\left(1 - \\cos{\\left(2 \\theta_{0}{\\left(t \\right)} \\right)}\\right)^{2} \\nu_{2}{\\left(t \\right)} \\nu_{3}{\\left(t \\right)} \\sin{\\left(\\theta_{0}{\\left(t \\right)} \\right)} - 8 \\left(1 - \\cos{\\left(2 \\theta_{0}{\\left(t \\right)} \\right)}\\right)^{2} \\nu_{2}{\\left(t \\right)} \\nu_{3}{\\left(t \\right)} \\sin{\\left(2 \\theta_{0}{\\left(t \\right)} \\right)} + 3 \\left(1 - \\cos{\\left(2 \\theta_{0}{\\left(t \\right)} \\right)}\\right)^{2} \\nu_{3}^{2}{\\left(t \\right)} \\sin{\\left(\\theta_{0}{\\left(t \\right)} \\right)} + 4 \\left(1 - \\cos{\\left(2 \\theta_{0}{\\left(t \\right)} \\right)}\\right)^{2} \\nu_{3}^{2}{\\left(t \\right)} \\sin{\\left(2 \\theta_{0}{\\left(t \\right)} \\right)} + 264 \\operatorname{T_{1}}{\\left(t \\right)} \\sin{\\left(\\theta_{0}{\\left(t \\right)} \\right)} - 24 \\operatorname{T_{1}}{\\left(t \\right)} \\sin{\\left(3 \\theta_{0}{\\left(t \\right)} \\right)} - 90 \\operatorname{W_{1}}{\\left(t \\right)} \\cos{\\left(\\theta_{0}{\\left(t \\right)} \\right)} + 60 \\operatorname{W_{1}}{\\left(t \\right)} \\cos{\\left(2 \\theta_{0}{\\left(t \\right)} \\right)} + 10 \\operatorname{W_{1}}{\\left(t \\right)} \\cos{\\left(3 \\theta_{0}{\\left(t \\right)} \\right)} - 300 \\operatorname{W_{1}}{\\left(t \\right)} - 40 \\nu_{1}^{2}{\\left(t \\right)} \\sin{\\left(\\theta_{0}{\\left(t \\right)} \\right)} + 150 \\nu_{1}^{2}{\\left(t \\right)} \\sin{\\left(2 \\theta_{0}{\\left(t \\right)} \\right)} + 40 \\nu_{1}^{2}{\\left(t \\right)} \\sin{\\left(3 \\theta_{0}{\\left(t \\right)} \\right)} - 15 \\nu_{1}^{2}{\\left(t \\right)} \\sin{\\left(4 \\theta_{0}{\\left(t \\right)} \\right)} + 10 \\nu_{1}{\\left(t \\right)} \\nu_{2}{\\left(t \\right)} \\cos{\\left(\\theta_{0}{\\left(t \\right)} \\right)} - 180 \\nu_{1}{\\left(t \\right)} \\nu_{2}{\\left(t \\right)} \\cos{\\left(2 \\theta_{0}{\\left(t \\right)} \\right)} - 90 \\nu_{1}{\\left(t \\right)} \\nu_{2}{\\left(t \\right)} \\cos{\\left(3 \\theta_{0}{\\left(t \\right)} \\right)} - 60 \\nu_{1}{\\left(t \\right)} \\nu_{2}{\\left(t \\right)} + 34 \\nu_{1}{\\left(t \\right)} \\nu_{3}{\\left(t \\right)} \\cos{\\left(\\theta_{0}{\\left(t \\right)} \\right)} + 260 \\nu_{1}{\\left(t \\right)} \\nu_{3}{\\left(t \\right)} \\cos{\\left(2 \\theta_{0}{\\left(t \\right)} \\right)} + 46 \\nu_{1}{\\left(t \\right)} \\nu_{3}{\\left(t \\right)} \\cos{\\left(3 \\theta_{0}{\\left(t \\right)} \\right)} - 180 \\nu_{1}{\\left(t \\right)} \\nu_{3}{\\left(t \\right)} - 125 \\nu_{2}^{2}{\\left(t \\right)} \\sin{\\left(\\theta_{0}{\\left(t \\right)} \\right)} - 150 \\nu_{2}^{2}{\\left(t \\right)} \\sin{\\left(2 \\theta_{0}{\\left(t \\right)} \\right)} - 25 \\nu_{2}^{2}{\\left(t \\right)} \\sin{\\left(3 \\theta_{0}{\\left(t \\right)} \\right)} + 15 \\nu_{2}^{2}{\\left(t \\right)} \\sin{\\left(4 \\theta_{0}{\\left(t \\right)} \\right)} + 140 \\nu_{2}{\\left(t \\right)} \\nu_{3}{\\left(t \\right)} \\sin{\\left(\\theta_{0}{\\left(t \\right)} \\right)} + 360 \\nu_{2}{\\left(t \\right)} \\nu_{3}{\\left(t \\right)} \\sin{\\left(2 \\theta_{0}{\\left(t \\right)} \\right)} + 28 \\nu_{2}{\\left(t \\right)} \\nu_{3}{\\left(t \\right)} \\sin{\\left(3 \\theta_{0}{\\left(t \\right)} \\right)} - 43 \\nu_{2}{\\left(t \\right)} \\nu_{3}{\\left(t \\right)} \\sin{\\left(4 \\theta_{0}{\\left(t \\right)} \\right)} + 2 \\nu_{2}{\\left(t \\right)} \\nu_{3}{\\left(t \\right)} \\sin{\\left(6 \\theta_{0}{\\left(t \\right)} \\right)} - 15 \\nu_{3}^{2}{\\left(t \\right)} \\sin{\\left(\\theta_{0}{\\left(t \\right)} \\right)} - 65 \\nu_{3}^{2}{\\left(t \\right)} \\sin{\\left(2 \\theta_{0}{\\left(t \\right)} \\right)} - 3 \\nu_{3}^{2}{\\left(t \\right)} \\sin{\\left(3 \\theta_{0}{\\left(t \\right)} \\right)} + 10 \\nu_{3}^{2}{\\left(t \\right)} \\sin{\\left(4 \\theta_{0}{\\left(t \\right)} \\right)} - \\nu_{3}^{2}{\\left(t \\right)} \\sin{\\left(6 \\theta_{0}{\\left(t \\right)} \\right)}}{2 \\left(- 30 a \\cos{\\left(2 \\theta_{0}{\\left(t \\right)} \\right)} + 150 a - 32 \\cos{\\left(2 \\theta_{0}{\\left(t \\right)} \\right)} + \\cos{\\left(4 \\theta_{0}{\\left(t \\right)} \\right)} + 111\\right)} = \\frac{d}{d t} \\nu_{3}{\\left(t \\right)}$"
      ],
      "text/plain": [
       "Eq((-25*(1 - cos(2*theta0(t)))**2*nu1(t)**2*sin(theta0(t)) + 50*(1 - cos(2*theta0(t)))**2*nu1(t)*nu2(t)*cos(theta0(t)) + 60*(1 - cos(2*theta0(t)))**2*nu1(t)*nu2(t) - 28*(1 - cos(2*theta0(t)))**2*nu1(t)*nu3(t)*cos(theta0(t)) - 70*(1 - cos(2*theta0(t)))**2*nu1(t)*nu3(t) + 25*(1 - cos(2*theta0(t)))**2*nu2(t)**2*sin(theta0(t)) - 28*(1 - cos(2*theta0(t)))**2*nu2(t)*nu3(t)*sin(theta0(t)) - 8*(1 - cos(2*theta0(t)))**2*nu2(t)*nu3(t)*sin(2*theta0(t)) + 3*(1 - cos(2*theta0(t)))**2*nu3(t)**2*sin(theta0(t)) + 4*(1 - cos(2*theta0(t)))**2*nu3(t)**2*sin(2*theta0(t)) + 264*T1(t)*sin(theta0(t)) - 24*T1(t)*sin(3*theta0(t)) - 90*W1(t)*cos(theta0(t)) + 60*W1(t)*cos(2*theta0(t)) + 10*W1(t)*cos(3*theta0(t)) - 300*W1(t) - 40*nu1(t)**2*sin(theta0(t)) + 150*nu1(t)**2*sin(2*theta0(t)) + 40*nu1(t)**2*sin(3*theta0(t)) - 15*nu1(t)**2*sin(4*theta0(t)) + 10*nu1(t)*nu2(t)*cos(theta0(t)) - 180*nu1(t)*nu2(t)*cos(2*theta0(t)) - 90*nu1(t)*nu2(t)*cos(3*theta0(t)) - 60*nu1(t)*nu2(t) + 34*nu1(t)*nu3(t)*cos(theta0(t)) + 260*nu1(t)*nu3(t)*cos(2*theta0(t)) + 46*nu1(t)*nu3(t)*cos(3*theta0(t)) - 180*nu1(t)*nu3(t) - 125*nu2(t)**2*sin(theta0(t)) - 150*nu2(t)**2*sin(2*theta0(t)) - 25*nu2(t)**2*sin(3*theta0(t)) + 15*nu2(t)**2*sin(4*theta0(t)) + 140*nu2(t)*nu3(t)*sin(theta0(t)) + 360*nu2(t)*nu3(t)*sin(2*theta0(t)) + 28*nu2(t)*nu3(t)*sin(3*theta0(t)) - 43*nu2(t)*nu3(t)*sin(4*theta0(t)) + 2*nu2(t)*nu3(t)*sin(6*theta0(t)) - 15*nu3(t)**2*sin(theta0(t)) - 65*nu3(t)**2*sin(2*theta0(t)) - 3*nu3(t)**2*sin(3*theta0(t)) + 10*nu3(t)**2*sin(4*theta0(t)) - nu3(t)**2*sin(6*theta0(t)))/(2*(-30*a*cos(2*theta0(t)) + 150*a - 32*cos(2*theta0(t)) + cos(4*theta0(t)) + 111)), Derivative(nu3(t), t))"
      ]
     },
     "metadata": {},
     "output_type": "display_data"
    }
   ],
   "source": [
    "for left_eq, right_eq in zip([s_eq1, s_eq2, s_eq3], [Derivative(x, t) for x in S.right_part_Eqs(S.omega_equations)]):\n",
    "    display(Eq(left_eq, right_eq))"
   ]
  },
  {
   "cell_type": "code",
   "execution_count": 116,
   "metadata": {
    "scrolled": false
   },
   "outputs": [
    {
     "data": {
      "text/latex": [
       "$\\displaystyle \\frac{\\left(10 \\sin{\\left(2 \\theta_{0}{\\left(t \\right)} \\right)} - \\sin{\\left(4 \\theta_{0}{\\left(t \\right)} \\right)}\\right) \\left(25 \\nu_{1}^{2}{\\left(t \\right)} \\sin^{5}{\\left(\\theta_{0}{\\left(t \\right)} \\right)} + 40 \\nu_{1}^{2}{\\left(t \\right)} \\sin^{3}{\\left(\\theta_{0}{\\left(t \\right)} \\right)} + 30 \\nu_{1}^{2}{\\left(t \\right)} \\sin{\\left(\\theta_{0}{\\left(t \\right)} \\right)} \\cos^{3}{\\left(\\theta_{0}{\\left(t \\right)} \\right)} - 20 \\nu_{1}^{2}{\\left(t \\right)} \\sin{\\left(\\theta_{0}{\\left(t \\right)} \\right)} - 45 \\nu_{1}^{2}{\\left(t \\right)} \\sin{\\left(2 \\theta_{0}{\\left(t \\right)} \\right)} + 20 \\nu_{1}{\\left(t \\right)} \\nu_{2}{\\left(t \\right)} \\sin^{6}{\\left(\\theta_{0}{\\left(t \\right)} \\right)} \\cos{\\left(\\theta_{0}{\\left(t \\right)} \\right)} + 40 \\nu_{1}{\\left(t \\right)} \\nu_{2}{\\left(t \\right)} \\sin^{4}{\\left(\\theta_{0}{\\left(t \\right)} \\right)} \\cos{\\left(\\theta_{0}{\\left(t \\right)} \\right)} - 60 \\nu_{1}{\\left(t \\right)} \\nu_{2}{\\left(t \\right)} \\sin^{4}{\\left(\\theta_{0}{\\left(t \\right)} \\right)} - 90 \\nu_{1}{\\left(t \\right)} \\nu_{2}{\\left(t \\right)} \\sin^{2}{\\left(\\theta_{0}{\\left(t \\right)} \\right)} + 20 \\nu_{1}{\\left(t \\right)} \\nu_{2}{\\left(t \\right)} \\cos^{7}{\\left(\\theta_{0}{\\left(t \\right)} \\right)} - 150 \\nu_{1}{\\left(t \\right)} \\nu_{2}{\\left(t \\right)} \\cos^{5}{\\left(\\theta_{0}{\\left(t \\right)} \\right)} + 330 \\nu_{1}{\\left(t \\right)} \\nu_{2}{\\left(t \\right)} \\cos^{3}{\\left(\\theta_{0}{\\left(t \\right)} \\right)} - 180 \\nu_{1}{\\left(t \\right)} \\nu_{2}{\\left(t \\right)} \\cos{\\left(\\theta_{0}{\\left(t \\right)} \\right)} + 60 \\nu_{1}{\\left(t \\right)} \\nu_{2}{\\left(t \\right)} - 16 \\nu_{1}{\\left(t \\right)} \\nu_{3}{\\left(t \\right)} \\sin^{6}{\\left(\\theta_{0}{\\left(t \\right)} \\right)} \\cos{\\left(\\theta_{0}{\\left(t \\right)} \\right)} - 32 \\nu_{1}{\\left(t \\right)} \\nu_{3}{\\left(t \\right)} \\sin^{4}{\\left(\\theta_{0}{\\left(t \\right)} \\right)} \\cos{\\left(\\theta_{0}{\\left(t \\right)} \\right)} + 70 \\nu_{1}{\\left(t \\right)} \\nu_{3}{\\left(t \\right)} \\sin^{4}{\\left(\\theta_{0}{\\left(t \\right)} \\right)} + 130 \\nu_{1}{\\left(t \\right)} \\nu_{3}{\\left(t \\right)} \\sin^{2}{\\left(\\theta_{0}{\\left(t \\right)} \\right)} - 16 \\nu_{1}{\\left(t \\right)} \\nu_{3}{\\left(t \\right)} \\cos^{7}{\\left(\\theta_{0}{\\left(t \\right)} \\right)} + 108 \\nu_{1}{\\left(t \\right)} \\nu_{3}{\\left(t \\right)} \\cos^{5}{\\left(\\theta_{0}{\\left(t \\right)} \\right)} - 214 \\nu_{1}{\\left(t \\right)} \\nu_{3}{\\left(t \\right)} \\cos^{3}{\\left(\\theta_{0}{\\left(t \\right)} \\right)} + 102 \\nu_{1}{\\left(t \\right)} \\nu_{3}{\\left(t \\right)} \\cos{\\left(\\theta_{0}{\\left(t \\right)} \\right)} - 20 \\nu_{1}{\\left(t \\right)} \\nu_{3}{\\left(t \\right)} - 25 \\nu_{2}^{2}{\\left(t \\right)} \\sin^{5}{\\left(\\theta_{0}{\\left(t \\right)} \\right)} - 25 \\nu_{2}^{2}{\\left(t \\right)} \\sin^{3}{\\left(\\theta_{0}{\\left(t \\right)} \\right)} - 30 \\nu_{2}^{2}{\\left(t \\right)} \\sin{\\left(\\theta_{0}{\\left(t \\right)} \\right)} \\cos^{3}{\\left(\\theta_{0}{\\left(t \\right)} \\right)} + 50 \\nu_{2}^{2}{\\left(t \\right)} \\sin{\\left(\\theta_{0}{\\left(t \\right)} \\right)} + 45 \\nu_{2}^{2}{\\left(t \\right)} \\sin{\\left(2 \\theta_{0}{\\left(t \\right)} \\right)} + 16 \\nu_{2}{\\left(t \\right)} \\nu_{3}{\\left(t \\right)} \\sin^{5}{\\left(\\theta_{0}{\\left(t \\right)} \\right)} \\cos{\\left(\\theta_{0}{\\left(t \\right)} \\right)} + 28 \\nu_{2}{\\left(t \\right)} \\nu_{3}{\\left(t \\right)} \\sin^{5}{\\left(\\theta_{0}{\\left(t \\right)} \\right)} + 16 \\nu_{2}{\\left(t \\right)} \\nu_{3}{\\left(t \\right)} \\sin^{3}{\\left(\\theta_{0}{\\left(t \\right)} \\right)} \\cos^{3}{\\left(\\theta_{0}{\\left(t \\right)} \\right)} - 6 \\nu_{2}{\\left(t \\right)} \\nu_{3}{\\left(t \\right)} \\sin^{3}{\\left(\\theta_{0}{\\left(t \\right)} \\right)} \\cos{\\left(\\theta_{0}{\\left(t \\right)} \\right)} + 28 \\nu_{2}{\\left(t \\right)} \\nu_{3}{\\left(t \\right)} \\sin^{3}{\\left(\\theta_{0}{\\left(t \\right)} \\right)} + 80 \\nu_{2}{\\left(t \\right)} \\nu_{3}{\\left(t \\right)} \\sin{\\left(\\theta_{0}{\\left(t \\right)} \\right)} \\cos^{3}{\\left(\\theta_{0}{\\left(t \\right)} \\right)} - 56 \\nu_{2}{\\left(t \\right)} \\nu_{3}{\\left(t \\right)} \\sin{\\left(\\theta_{0}{\\left(t \\right)} \\right)} - 110 \\nu_{2}{\\left(t \\right)} \\nu_{3}{\\left(t \\right)} \\sin{\\left(2 \\theta_{0}{\\left(t \\right)} \\right)} - 8 \\nu_{3}^{2}{\\left(t \\right)} \\sin^{5}{\\left(\\theta_{0}{\\left(t \\right)} \\right)} \\cos{\\left(\\theta_{0}{\\left(t \\right)} \\right)} - 3 \\nu_{3}^{2}{\\left(t \\right)} \\sin^{5}{\\left(\\theta_{0}{\\left(t \\right)} \\right)} - 8 \\nu_{3}^{2}{\\left(t \\right)} \\sin^{3}{\\left(\\theta_{0}{\\left(t \\right)} \\right)} \\cos^{3}{\\left(\\theta_{0}{\\left(t \\right)} \\right)} + 10 \\nu_{3}^{2}{\\left(t \\right)} \\sin^{3}{\\left(\\theta_{0}{\\left(t \\right)} \\right)} \\cos{\\left(\\theta_{0}{\\left(t \\right)} \\right)} - 3 \\nu_{3}^{2}{\\left(t \\right)} \\sin^{3}{\\left(\\theta_{0}{\\left(t \\right)} \\right)} - 10 \\nu_{3}^{2}{\\left(t \\right)} \\sin{\\left(\\theta_{0}{\\left(t \\right)} \\right)} \\cos^{3}{\\left(\\theta_{0}{\\left(t \\right)} \\right)} + 6 \\nu_{3}^{2}{\\left(t \\right)} \\sin{\\left(\\theta_{0}{\\left(t \\right)} \\right)} + 17 \\nu_{3}^{2}{\\left(t \\right)} \\sin{\\left(2 \\theta_{0}{\\left(t \\right)} \\right)}\\right) + 2 \\left(- 15 a \\cos^{2}{\\left(\\theta_{0}{\\left(t \\right)} \\right)} + 45 a + 2 \\cos^{4}{\\left(\\theta_{0}{\\left(t \\right)} \\right)} - 18 \\cos^{2}{\\left(\\theta_{0}{\\left(t \\right)} \\right)} + 36\\right) \\left(25 \\nu_{1}^{2}{\\left(t \\right)} \\sin^{4}{\\left(\\theta_{0}{\\left(t \\right)} \\right)} \\cos{\\left(\\theta_{0}{\\left(t \\right)} \\right)} - 50 \\nu_{1}^{2}{\\left(t \\right)} \\cos^{3}{\\left(\\theta_{0}{\\left(t \\right)} \\right)} + 50 \\nu_{1}^{2}{\\left(t \\right)} \\cos{\\left(\\theta_{0}{\\left(t \\right)} \\right)} - 20 \\nu_{1}{\\left(t \\right)} \\nu_{2}{\\left(t \\right)} \\sin^{7}{\\left(\\theta_{0}{\\left(t \\right)} \\right)} + 110 \\nu_{1}{\\left(t \\right)} \\nu_{2}{\\left(t \\right)} \\sin^{5}{\\left(\\theta_{0}{\\left(t \\right)} \\right)} - 20 \\nu_{1}{\\left(t \\right)} \\nu_{2}{\\left(t \\right)} \\sin{\\left(\\theta_{0}{\\left(t \\right)} \\right)} \\cos^{6}{\\left(\\theta_{0}{\\left(t \\right)} \\right)} - 60 \\nu_{1}{\\left(t \\right)} \\nu_{2}{\\left(t \\right)} \\sin{\\left(\\theta_{0}{\\left(t \\right)} \\right)} + 16 \\nu_{1}{\\left(t \\right)} \\nu_{3}{\\left(t \\right)} \\sin^{7}{\\left(\\theta_{0}{\\left(t \\right)} \\right)} - 88 \\nu_{1}{\\left(t \\right)} \\nu_{3}{\\left(t \\right)} \\sin^{5}{\\left(\\theta_{0}{\\left(t \\right)} \\right)} + 22 \\nu_{1}{\\left(t \\right)} \\nu_{3}{\\left(t \\right)} \\sin^{3}{\\left(\\theta_{0}{\\left(t \\right)} \\right)} \\cos{\\left(\\theta_{0}{\\left(t \\right)} \\right)} + 2 \\nu_{1}{\\left(t \\right)} \\nu_{3}{\\left(t \\right)} \\sin^{3}{\\left(\\theta_{0}{\\left(t \\right)} \\right)} + 16 \\nu_{1}{\\left(t \\right)} \\nu_{3}{\\left(t \\right)} \\sin{\\left(\\theta_{0}{\\left(t \\right)} \\right)} \\cos^{6}{\\left(\\theta_{0}{\\left(t \\right)} \\right)} + 52 \\nu_{1}{\\left(t \\right)} \\nu_{3}{\\left(t \\right)} \\sin{\\left(\\theta_{0}{\\left(t \\right)} \\right)} + 22 \\nu_{1}{\\left(t \\right)} \\nu_{3}{\\left(t \\right)} \\sin{\\left(2 \\theta_{0}{\\left(t \\right)} \\right)} - 25 \\nu_{2}^{2}{\\left(t \\right)} \\sin^{4}{\\left(\\theta_{0}{\\left(t \\right)} \\right)} \\cos{\\left(\\theta_{0}{\\left(t \\right)} \\right)} + 35 \\nu_{2}^{2}{\\left(t \\right)} \\cos^{3}{\\left(\\theta_{0}{\\left(t \\right)} \\right)} - 5 \\nu_{2}^{2}{\\left(t \\right)} \\cos{\\left(\\theta_{0}{\\left(t \\right)} \\right)} + 40 \\nu_{2}{\\left(t \\right)} \\nu_{3}{\\left(t \\right)} \\sin^{4}{\\left(\\theta_{0}{\\left(t \\right)} \\right)} \\cos{\\left(\\theta_{0}{\\left(t \\right)} \\right)} + 22 \\nu_{2}{\\left(t \\right)} \\nu_{3}{\\left(t \\right)} \\sin^{4}{\\left(\\theta_{0}{\\left(t \\right)} \\right)} + 74 \\nu_{2}{\\left(t \\right)} \\nu_{3}{\\left(t \\right)} \\sin^{2}{\\left(\\theta_{0}{\\left(t \\right)} \\right)} - 56 \\nu_{2}{\\left(t \\right)} \\nu_{3}{\\left(t \\right)} \\cos^{3}{\\left(\\theta_{0}{\\left(t \\right)} \\right)} + 8 \\nu_{2}{\\left(t \\right)} \\nu_{3}{\\left(t \\right)} \\cos{\\left(\\theta_{0}{\\left(t \\right)} \\right)} + 60 \\nu_{2}{\\left(t \\right)} \\nu_{3}{\\left(t \\right)} - 15 \\nu_{3}^{2}{\\left(t \\right)} \\sin^{4}{\\left(\\theta_{0}{\\left(t \\right)} \\right)} \\cos{\\left(\\theta_{0}{\\left(t \\right)} \\right)} - 18 \\nu_{3}^{2}{\\left(t \\right)} \\sin^{4}{\\left(\\theta_{0}{\\left(t \\right)} \\right)} - 30 \\nu_{3}^{2}{\\left(t \\right)} \\sin^{2}{\\left(\\theta_{0}{\\left(t \\right)} \\right)} + 21 \\nu_{3}^{2}{\\left(t \\right)} \\cos^{3}{\\left(\\theta_{0}{\\left(t \\right)} \\right)} - 3 \\nu_{3}^{2}{\\left(t \\right)} \\cos{\\left(\\theta_{0}{\\left(t \\right)} \\right)} + 12 \\nu_{3}^{2}{\\left(t \\right)}\\right)}{120 \\left(\\sin^{2}{\\left(\\theta_{0}{\\left(t \\right)} \\right)} + 2\\right) \\left(- 15 a \\cos^{2}{\\left(\\theta_{0}{\\left(t \\right)} \\right)} + 45 a + 2 \\cos^{4}{\\left(\\theta_{0}{\\left(t \\right)} \\right)} - 18 \\cos^{2}{\\left(\\theta_{0}{\\left(t \\right)} \\right)} + 36\\right)} = \\frac{d}{d t} \\nu_{1}{\\left(t \\right)}$"
      ],
      "text/plain": [
       "Eq(((10*sin(2*theta0(t)) - sin(4*theta0(t)))*(25*nu1(t)**2*sin(theta0(t))**5 + 40*nu1(t)**2*sin(theta0(t))**3 + 30*nu1(t)**2*sin(theta0(t))*cos(theta0(t))**3 - 20*nu1(t)**2*sin(theta0(t)) - 45*nu1(t)**2*sin(2*theta0(t)) + 20*nu1(t)*nu2(t)*sin(theta0(t))**6*cos(theta0(t)) + 40*nu1(t)*nu2(t)*sin(theta0(t))**4*cos(theta0(t)) - 60*nu1(t)*nu2(t)*sin(theta0(t))**4 - 90*nu1(t)*nu2(t)*sin(theta0(t))**2 + 20*nu1(t)*nu2(t)*cos(theta0(t))**7 - 150*nu1(t)*nu2(t)*cos(theta0(t))**5 + 330*nu1(t)*nu2(t)*cos(theta0(t))**3 - 180*nu1(t)*nu2(t)*cos(theta0(t)) + 60*nu1(t)*nu2(t) - 16*nu1(t)*nu3(t)*sin(theta0(t))**6*cos(theta0(t)) - 32*nu1(t)*nu3(t)*sin(theta0(t))**4*cos(theta0(t)) + 70*nu1(t)*nu3(t)*sin(theta0(t))**4 + 130*nu1(t)*nu3(t)*sin(theta0(t))**2 - 16*nu1(t)*nu3(t)*cos(theta0(t))**7 + 108*nu1(t)*nu3(t)*cos(theta0(t))**5 - 214*nu1(t)*nu3(t)*cos(theta0(t))**3 + 102*nu1(t)*nu3(t)*cos(theta0(t)) - 20*nu1(t)*nu3(t) - 25*nu2(t)**2*sin(theta0(t))**5 - 25*nu2(t)**2*sin(theta0(t))**3 - 30*nu2(t)**2*sin(theta0(t))*cos(theta0(t))**3 + 50*nu2(t)**2*sin(theta0(t)) + 45*nu2(t)**2*sin(2*theta0(t)) + 16*nu2(t)*nu3(t)*sin(theta0(t))**5*cos(theta0(t)) + 28*nu2(t)*nu3(t)*sin(theta0(t))**5 + 16*nu2(t)*nu3(t)*sin(theta0(t))**3*cos(theta0(t))**3 - 6*nu2(t)*nu3(t)*sin(theta0(t))**3*cos(theta0(t)) + 28*nu2(t)*nu3(t)*sin(theta0(t))**3 + 80*nu2(t)*nu3(t)*sin(theta0(t))*cos(theta0(t))**3 - 56*nu2(t)*nu3(t)*sin(theta0(t)) - 110*nu2(t)*nu3(t)*sin(2*theta0(t)) - 8*nu3(t)**2*sin(theta0(t))**5*cos(theta0(t)) - 3*nu3(t)**2*sin(theta0(t))**5 - 8*nu3(t)**2*sin(theta0(t))**3*cos(theta0(t))**3 + 10*nu3(t)**2*sin(theta0(t))**3*cos(theta0(t)) - 3*nu3(t)**2*sin(theta0(t))**3 - 10*nu3(t)**2*sin(theta0(t))*cos(theta0(t))**3 + 6*nu3(t)**2*sin(theta0(t)) + 17*nu3(t)**2*sin(2*theta0(t))) + 2*(-15*a*cos(theta0(t))**2 + 45*a + 2*cos(theta0(t))**4 - 18*cos(theta0(t))**2 + 36)*(25*nu1(t)**2*sin(theta0(t))**4*cos(theta0(t)) - 50*nu1(t)**2*cos(theta0(t))**3 + 50*nu1(t)**2*cos(theta0(t)) - 20*nu1(t)*nu2(t)*sin(theta0(t))**7 + 110*nu1(t)*nu2(t)*sin(theta0(t))**5 - 20*nu1(t)*nu2(t)*sin(theta0(t))*cos(theta0(t))**6 - 60*nu1(t)*nu2(t)*sin(theta0(t)) + 16*nu1(t)*nu3(t)*sin(theta0(t))**7 - 88*nu1(t)*nu3(t)*sin(theta0(t))**5 + 22*nu1(t)*nu3(t)*sin(theta0(t))**3*cos(theta0(t)) + 2*nu1(t)*nu3(t)*sin(theta0(t))**3 + 16*nu1(t)*nu3(t)*sin(theta0(t))*cos(theta0(t))**6 + 52*nu1(t)*nu3(t)*sin(theta0(t)) + 22*nu1(t)*nu3(t)*sin(2*theta0(t)) - 25*nu2(t)**2*sin(theta0(t))**4*cos(theta0(t)) + 35*nu2(t)**2*cos(theta0(t))**3 - 5*nu2(t)**2*cos(theta0(t)) + 40*nu2(t)*nu3(t)*sin(theta0(t))**4*cos(theta0(t)) + 22*nu2(t)*nu3(t)*sin(theta0(t))**4 + 74*nu2(t)*nu3(t)*sin(theta0(t))**2 - 56*nu2(t)*nu3(t)*cos(theta0(t))**3 + 8*nu2(t)*nu3(t)*cos(theta0(t)) + 60*nu2(t)*nu3(t) - 15*nu3(t)**2*sin(theta0(t))**4*cos(theta0(t)) - 18*nu3(t)**2*sin(theta0(t))**4 - 30*nu3(t)**2*sin(theta0(t))**2 + 21*nu3(t)**2*cos(theta0(t))**3 - 3*nu3(t)**2*cos(theta0(t)) + 12*nu3(t)**2))/(120*(sin(theta0(t))**2 + 2)*(-15*a*cos(theta0(t))**2 + 45*a + 2*cos(theta0(t))**4 - 18*cos(theta0(t))**2 + 36)), Derivative(nu1(t), t))"
      ]
     },
     "metadata": {},
     "output_type": "display_data"
    },
    {
     "data": {
      "text/latex": [
       "$\\displaystyle \\frac{2 \\left(2 \\sin^{2}{\\left(\\theta_{0}{\\left(t \\right)} \\right)} - 5\\right) \\left(25 \\nu_{1}^{2}{\\left(t \\right)} \\sin^{5}{\\left(\\theta_{0}{\\left(t \\right)} \\right)} + 40 \\nu_{1}^{2}{\\left(t \\right)} \\sin^{3}{\\left(\\theta_{0}{\\left(t \\right)} \\right)} + 30 \\nu_{1}^{2}{\\left(t \\right)} \\sin{\\left(\\theta_{0}{\\left(t \\right)} \\right)} \\cos^{3}{\\left(\\theta_{0}{\\left(t \\right)} \\right)} - 20 \\nu_{1}^{2}{\\left(t \\right)} \\sin{\\left(\\theta_{0}{\\left(t \\right)} \\right)} - 45 \\nu_{1}^{2}{\\left(t \\right)} \\sin{\\left(2 \\theta_{0}{\\left(t \\right)} \\right)} + 20 \\nu_{1}{\\left(t \\right)} \\nu_{2}{\\left(t \\right)} \\sin^{6}{\\left(\\theta_{0}{\\left(t \\right)} \\right)} \\cos{\\left(\\theta_{0}{\\left(t \\right)} \\right)} + 40 \\nu_{1}{\\left(t \\right)} \\nu_{2}{\\left(t \\right)} \\sin^{4}{\\left(\\theta_{0}{\\left(t \\right)} \\right)} \\cos{\\left(\\theta_{0}{\\left(t \\right)} \\right)} - 60 \\nu_{1}{\\left(t \\right)} \\nu_{2}{\\left(t \\right)} \\sin^{4}{\\left(\\theta_{0}{\\left(t \\right)} \\right)} - 90 \\nu_{1}{\\left(t \\right)} \\nu_{2}{\\left(t \\right)} \\sin^{2}{\\left(\\theta_{0}{\\left(t \\right)} \\right)} + 20 \\nu_{1}{\\left(t \\right)} \\nu_{2}{\\left(t \\right)} \\cos^{7}{\\left(\\theta_{0}{\\left(t \\right)} \\right)} - 150 \\nu_{1}{\\left(t \\right)} \\nu_{2}{\\left(t \\right)} \\cos^{5}{\\left(\\theta_{0}{\\left(t \\right)} \\right)} + 330 \\nu_{1}{\\left(t \\right)} \\nu_{2}{\\left(t \\right)} \\cos^{3}{\\left(\\theta_{0}{\\left(t \\right)} \\right)} - 180 \\nu_{1}{\\left(t \\right)} \\nu_{2}{\\left(t \\right)} \\cos{\\left(\\theta_{0}{\\left(t \\right)} \\right)} + 60 \\nu_{1}{\\left(t \\right)} \\nu_{2}{\\left(t \\right)} - 16 \\nu_{1}{\\left(t \\right)} \\nu_{3}{\\left(t \\right)} \\sin^{6}{\\left(\\theta_{0}{\\left(t \\right)} \\right)} \\cos{\\left(\\theta_{0}{\\left(t \\right)} \\right)} - 32 \\nu_{1}{\\left(t \\right)} \\nu_{3}{\\left(t \\right)} \\sin^{4}{\\left(\\theta_{0}{\\left(t \\right)} \\right)} \\cos{\\left(\\theta_{0}{\\left(t \\right)} \\right)} + 70 \\nu_{1}{\\left(t \\right)} \\nu_{3}{\\left(t \\right)} \\sin^{4}{\\left(\\theta_{0}{\\left(t \\right)} \\right)} + 130 \\nu_{1}{\\left(t \\right)} \\nu_{3}{\\left(t \\right)} \\sin^{2}{\\left(\\theta_{0}{\\left(t \\right)} \\right)} - 16 \\nu_{1}{\\left(t \\right)} \\nu_{3}{\\left(t \\right)} \\cos^{7}{\\left(\\theta_{0}{\\left(t \\right)} \\right)} + 108 \\nu_{1}{\\left(t \\right)} \\nu_{3}{\\left(t \\right)} \\cos^{5}{\\left(\\theta_{0}{\\left(t \\right)} \\right)} - 214 \\nu_{1}{\\left(t \\right)} \\nu_{3}{\\left(t \\right)} \\cos^{3}{\\left(\\theta_{0}{\\left(t \\right)} \\right)} + 102 \\nu_{1}{\\left(t \\right)} \\nu_{3}{\\left(t \\right)} \\cos{\\left(\\theta_{0}{\\left(t \\right)} \\right)} - 20 \\nu_{1}{\\left(t \\right)} \\nu_{3}{\\left(t \\right)} - 25 \\nu_{2}^{2}{\\left(t \\right)} \\sin^{5}{\\left(\\theta_{0}{\\left(t \\right)} \\right)} - 25 \\nu_{2}^{2}{\\left(t \\right)} \\sin^{3}{\\left(\\theta_{0}{\\left(t \\right)} \\right)} - 30 \\nu_{2}^{2}{\\left(t \\right)} \\sin{\\left(\\theta_{0}{\\left(t \\right)} \\right)} \\cos^{3}{\\left(\\theta_{0}{\\left(t \\right)} \\right)} + 50 \\nu_{2}^{2}{\\left(t \\right)} \\sin{\\left(\\theta_{0}{\\left(t \\right)} \\right)} + 45 \\nu_{2}^{2}{\\left(t \\right)} \\sin{\\left(2 \\theta_{0}{\\left(t \\right)} \\right)} + 16 \\nu_{2}{\\left(t \\right)} \\nu_{3}{\\left(t \\right)} \\sin^{5}{\\left(\\theta_{0}{\\left(t \\right)} \\right)} \\cos{\\left(\\theta_{0}{\\left(t \\right)} \\right)} + 28 \\nu_{2}{\\left(t \\right)} \\nu_{3}{\\left(t \\right)} \\sin^{5}{\\left(\\theta_{0}{\\left(t \\right)} \\right)} + 16 \\nu_{2}{\\left(t \\right)} \\nu_{3}{\\left(t \\right)} \\sin^{3}{\\left(\\theta_{0}{\\left(t \\right)} \\right)} \\cos^{3}{\\left(\\theta_{0}{\\left(t \\right)} \\right)} - 6 \\nu_{2}{\\left(t \\right)} \\nu_{3}{\\left(t \\right)} \\sin^{3}{\\left(\\theta_{0}{\\left(t \\right)} \\right)} \\cos{\\left(\\theta_{0}{\\left(t \\right)} \\right)} + 28 \\nu_{2}{\\left(t \\right)} \\nu_{3}{\\left(t \\right)} \\sin^{3}{\\left(\\theta_{0}{\\left(t \\right)} \\right)} + 80 \\nu_{2}{\\left(t \\right)} \\nu_{3}{\\left(t \\right)} \\sin{\\left(\\theta_{0}{\\left(t \\right)} \\right)} \\cos^{3}{\\left(\\theta_{0}{\\left(t \\right)} \\right)} - 56 \\nu_{2}{\\left(t \\right)} \\nu_{3}{\\left(t \\right)} \\sin{\\left(\\theta_{0}{\\left(t \\right)} \\right)} - 110 \\nu_{2}{\\left(t \\right)} \\nu_{3}{\\left(t \\right)} \\sin{\\left(2 \\theta_{0}{\\left(t \\right)} \\right)} - 8 \\nu_{3}^{2}{\\left(t \\right)} \\sin^{5}{\\left(\\theta_{0}{\\left(t \\right)} \\right)} \\cos{\\left(\\theta_{0}{\\left(t \\right)} \\right)} - 3 \\nu_{3}^{2}{\\left(t \\right)} \\sin^{5}{\\left(\\theta_{0}{\\left(t \\right)} \\right)} - 8 \\nu_{3}^{2}{\\left(t \\right)} \\sin^{3}{\\left(\\theta_{0}{\\left(t \\right)} \\right)} \\cos^{3}{\\left(\\theta_{0}{\\left(t \\right)} \\right)} + 10 \\nu_{3}^{2}{\\left(t \\right)} \\sin^{3}{\\left(\\theta_{0}{\\left(t \\right)} \\right)} \\cos{\\left(\\theta_{0}{\\left(t \\right)} \\right)} - 3 \\nu_{3}^{2}{\\left(t \\right)} \\sin^{3}{\\left(\\theta_{0}{\\left(t \\right)} \\right)} - 10 \\nu_{3}^{2}{\\left(t \\right)} \\sin{\\left(\\theta_{0}{\\left(t \\right)} \\right)} \\cos^{3}{\\left(\\theta_{0}{\\left(t \\right)} \\right)} + 6 \\nu_{3}^{2}{\\left(t \\right)} \\sin{\\left(\\theta_{0}{\\left(t \\right)} \\right)} + 17 \\nu_{3}^{2}{\\left(t \\right)} \\sin{\\left(2 \\theta_{0}{\\left(t \\right)} \\right)}\\right) + \\left(- 15 a \\cos^{2}{\\left(\\theta_{0}{\\left(t \\right)} \\right)} + 45 a + 2 \\cos^{4}{\\left(\\theta_{0}{\\left(t \\right)} \\right)} - 18 \\cos^{2}{\\left(\\theta_{0}{\\left(t \\right)} \\right)} + 36\\right) \\left(25 \\nu_{1}^{2}{\\left(t \\right)} \\sin^{3}{\\left(\\theta_{0}{\\left(t \\right)} \\right)} - 10 \\nu_{1}^{2}{\\left(t \\right)} \\sin{\\left(\\theta_{0}{\\left(t \\right)} \\right)} + 20 \\nu_{1}{\\left(t \\right)} \\nu_{2}{\\left(t \\right)} \\sin^{4}{\\left(\\theta_{0}{\\left(t \\right)} \\right)} \\cos{\\left(\\theta_{0}{\\left(t \\right)} \\right)} - 20 \\nu_{1}{\\left(t \\right)} \\nu_{2}{\\left(t \\right)} \\cos^{5}{\\left(\\theta_{0}{\\left(t \\right)} \\right)} + 90 \\nu_{1}{\\left(t \\right)} \\nu_{2}{\\left(t \\right)} \\cos^{3}{\\left(\\theta_{0}{\\left(t \\right)} \\right)} - 60 \\nu_{1}{\\left(t \\right)} \\nu_{2}{\\left(t \\right)} \\cos{\\left(\\theta_{0}{\\left(t \\right)} \\right)} - 16 \\nu_{1}{\\left(t \\right)} \\nu_{3}{\\left(t \\right)} \\sin^{4}{\\left(\\theta_{0}{\\left(t \\right)} \\right)} \\cos{\\left(\\theta_{0}{\\left(t \\right)} \\right)} + 22 \\nu_{1}{\\left(t \\right)} \\nu_{3}{\\left(t \\right)} \\sin^{2}{\\left(\\theta_{0}{\\left(t \\right)} \\right)} + 16 \\nu_{1}{\\left(t \\right)} \\nu_{3}{\\left(t \\right)} \\cos^{5}{\\left(\\theta_{0}{\\left(t \\right)} \\right)} - 72 \\nu_{1}{\\left(t \\right)} \\nu_{3}{\\left(t \\right)} \\cos^{3}{\\left(\\theta_{0}{\\left(t \\right)} \\right)} + 46 \\nu_{1}{\\left(t \\right)} \\nu_{3}{\\left(t \\right)} \\cos{\\left(\\theta_{0}{\\left(t \\right)} \\right)} - 52 \\nu_{1}{\\left(t \\right)} \\nu_{3}{\\left(t \\right)} - 25 \\nu_{2}^{2}{\\left(t \\right)} \\sin^{3}{\\left(\\theta_{0}{\\left(t \\right)} \\right)} + 25 \\nu_{2}^{2}{\\left(t \\right)} \\sin{\\left(\\theta_{0}{\\left(t \\right)} \\right)} + 16 \\nu_{2}{\\left(t \\right)} \\nu_{3}{\\left(t \\right)} \\sin^{3}{\\left(\\theta_{0}{\\left(t \\right)} \\right)} \\cos{\\left(\\theta_{0}{\\left(t \\right)} \\right)} + 40 \\nu_{2}{\\left(t \\right)} \\nu_{3}{\\left(t \\right)} \\sin^{3}{\\left(\\theta_{0}{\\left(t \\right)} \\right)} + 16 \\nu_{2}{\\left(t \\right)} \\nu_{3}{\\left(t \\right)} \\sin{\\left(\\theta_{0}{\\left(t \\right)} \\right)} \\cos^{3}{\\left(\\theta_{0}{\\left(t \\right)} \\right)} - 40 \\nu_{2}{\\left(t \\right)} \\nu_{3}{\\left(t \\right)} \\sin{\\left(\\theta_{0}{\\left(t \\right)} \\right)} - 19 \\nu_{2}{\\left(t \\right)} \\nu_{3}{\\left(t \\right)} \\sin{\\left(2 \\theta_{0}{\\left(t \\right)} \\right)} - 8 \\nu_{3}^{2}{\\left(t \\right)} \\sin^{3}{\\left(\\theta_{0}{\\left(t \\right)} \\right)} \\cos{\\left(\\theta_{0}{\\left(t \\right)} \\right)} - 15 \\nu_{3}^{2}{\\left(t \\right)} \\sin^{3}{\\left(\\theta_{0}{\\left(t \\right)} \\right)} - 8 \\nu_{3}^{2}{\\left(t \\right)} \\sin{\\left(\\theta_{0}{\\left(t \\right)} \\right)} \\cos^{3}{\\left(\\theta_{0}{\\left(t \\right)} \\right)} + 15 \\nu_{3}^{2}{\\left(t \\right)} \\sin{\\left(\\theta_{0}{\\left(t \\right)} \\right)} + 13 \\nu_{3}^{2}{\\left(t \\right)} \\sin{\\left(2 \\theta_{0}{\\left(t \\right)} \\right)}\\right)}{60 \\left(- 15 a \\cos^{2}{\\left(\\theta_{0}{\\left(t \\right)} \\right)} + 45 a + 2 \\cos^{4}{\\left(\\theta_{0}{\\left(t \\right)} \\right)} - 18 \\cos^{2}{\\left(\\theta_{0}{\\left(t \\right)} \\right)} + 36\\right)} = \\frac{d}{d t} \\nu_{2}{\\left(t \\right)}$"
      ],
      "text/plain": [
       "Eq((2*(2*sin(theta0(t))**2 - 5)*(25*nu1(t)**2*sin(theta0(t))**5 + 40*nu1(t)**2*sin(theta0(t))**3 + 30*nu1(t)**2*sin(theta0(t))*cos(theta0(t))**3 - 20*nu1(t)**2*sin(theta0(t)) - 45*nu1(t)**2*sin(2*theta0(t)) + 20*nu1(t)*nu2(t)*sin(theta0(t))**6*cos(theta0(t)) + 40*nu1(t)*nu2(t)*sin(theta0(t))**4*cos(theta0(t)) - 60*nu1(t)*nu2(t)*sin(theta0(t))**4 - 90*nu1(t)*nu2(t)*sin(theta0(t))**2 + 20*nu1(t)*nu2(t)*cos(theta0(t))**7 - 150*nu1(t)*nu2(t)*cos(theta0(t))**5 + 330*nu1(t)*nu2(t)*cos(theta0(t))**3 - 180*nu1(t)*nu2(t)*cos(theta0(t)) + 60*nu1(t)*nu2(t) - 16*nu1(t)*nu3(t)*sin(theta0(t))**6*cos(theta0(t)) - 32*nu1(t)*nu3(t)*sin(theta0(t))**4*cos(theta0(t)) + 70*nu1(t)*nu3(t)*sin(theta0(t))**4 + 130*nu1(t)*nu3(t)*sin(theta0(t))**2 - 16*nu1(t)*nu3(t)*cos(theta0(t))**7 + 108*nu1(t)*nu3(t)*cos(theta0(t))**5 - 214*nu1(t)*nu3(t)*cos(theta0(t))**3 + 102*nu1(t)*nu3(t)*cos(theta0(t)) - 20*nu1(t)*nu3(t) - 25*nu2(t)**2*sin(theta0(t))**5 - 25*nu2(t)**2*sin(theta0(t))**3 - 30*nu2(t)**2*sin(theta0(t))*cos(theta0(t))**3 + 50*nu2(t)**2*sin(theta0(t)) + 45*nu2(t)**2*sin(2*theta0(t)) + 16*nu2(t)*nu3(t)*sin(theta0(t))**5*cos(theta0(t)) + 28*nu2(t)*nu3(t)*sin(theta0(t))**5 + 16*nu2(t)*nu3(t)*sin(theta0(t))**3*cos(theta0(t))**3 - 6*nu2(t)*nu3(t)*sin(theta0(t))**3*cos(theta0(t)) + 28*nu2(t)*nu3(t)*sin(theta0(t))**3 + 80*nu2(t)*nu3(t)*sin(theta0(t))*cos(theta0(t))**3 - 56*nu2(t)*nu3(t)*sin(theta0(t)) - 110*nu2(t)*nu3(t)*sin(2*theta0(t)) - 8*nu3(t)**2*sin(theta0(t))**5*cos(theta0(t)) - 3*nu3(t)**2*sin(theta0(t))**5 - 8*nu3(t)**2*sin(theta0(t))**3*cos(theta0(t))**3 + 10*nu3(t)**2*sin(theta0(t))**3*cos(theta0(t)) - 3*nu3(t)**2*sin(theta0(t))**3 - 10*nu3(t)**2*sin(theta0(t))*cos(theta0(t))**3 + 6*nu3(t)**2*sin(theta0(t)) + 17*nu3(t)**2*sin(2*theta0(t))) + (-15*a*cos(theta0(t))**2 + 45*a + 2*cos(theta0(t))**4 - 18*cos(theta0(t))**2 + 36)*(25*nu1(t)**2*sin(theta0(t))**3 - 10*nu1(t)**2*sin(theta0(t)) + 20*nu1(t)*nu2(t)*sin(theta0(t))**4*cos(theta0(t)) - 20*nu1(t)*nu2(t)*cos(theta0(t))**5 + 90*nu1(t)*nu2(t)*cos(theta0(t))**3 - 60*nu1(t)*nu2(t)*cos(theta0(t)) - 16*nu1(t)*nu3(t)*sin(theta0(t))**4*cos(theta0(t)) + 22*nu1(t)*nu3(t)*sin(theta0(t))**2 + 16*nu1(t)*nu3(t)*cos(theta0(t))**5 - 72*nu1(t)*nu3(t)*cos(theta0(t))**3 + 46*nu1(t)*nu3(t)*cos(theta0(t)) - 52*nu1(t)*nu3(t) - 25*nu2(t)**2*sin(theta0(t))**3 + 25*nu2(t)**2*sin(theta0(t)) + 16*nu2(t)*nu3(t)*sin(theta0(t))**3*cos(theta0(t)) + 40*nu2(t)*nu3(t)*sin(theta0(t))**3 + 16*nu2(t)*nu3(t)*sin(theta0(t))*cos(theta0(t))**3 - 40*nu2(t)*nu3(t)*sin(theta0(t)) - 19*nu2(t)*nu3(t)*sin(2*theta0(t)) - 8*nu3(t)**2*sin(theta0(t))**3*cos(theta0(t)) - 15*nu3(t)**2*sin(theta0(t))**3 - 8*nu3(t)**2*sin(theta0(t))*cos(theta0(t))**3 + 15*nu3(t)**2*sin(theta0(t)) + 13*nu3(t)**2*sin(2*theta0(t))))/(60*(-15*a*cos(theta0(t))**2 + 45*a + 2*cos(theta0(t))**4 - 18*cos(theta0(t))**2 + 36)), Derivative(nu2(t), t))"
      ]
     },
     "metadata": {},
     "output_type": "display_data"
    },
    {
     "data": {
      "text/latex": [
       "$\\displaystyle \\frac{- 25 \\left(1 - \\cos{\\left(2 \\theta_{0}{\\left(t \\right)} \\right)}\\right)^{2} \\nu_{1}^{2}{\\left(t \\right)} \\sin{\\left(\\theta_{0}{\\left(t \\right)} \\right)} + 50 \\left(1 - \\cos{\\left(2 \\theta_{0}{\\left(t \\right)} \\right)}\\right)^{2} \\nu_{1}{\\left(t \\right)} \\nu_{2}{\\left(t \\right)} \\cos{\\left(\\theta_{0}{\\left(t \\right)} \\right)} + 60 \\left(1 - \\cos{\\left(2 \\theta_{0}{\\left(t \\right)} \\right)}\\right)^{2} \\nu_{1}{\\left(t \\right)} \\nu_{2}{\\left(t \\right)} - 28 \\left(1 - \\cos{\\left(2 \\theta_{0}{\\left(t \\right)} \\right)}\\right)^{2} \\nu_{1}{\\left(t \\right)} \\nu_{3}{\\left(t \\right)} \\cos{\\left(\\theta_{0}{\\left(t \\right)} \\right)} - 70 \\left(1 - \\cos{\\left(2 \\theta_{0}{\\left(t \\right)} \\right)}\\right)^{2} \\nu_{1}{\\left(t \\right)} \\nu_{3}{\\left(t \\right)} + 25 \\left(1 - \\cos{\\left(2 \\theta_{0}{\\left(t \\right)} \\right)}\\right)^{2} \\nu_{2}^{2}{\\left(t \\right)} \\sin{\\left(\\theta_{0}{\\left(t \\right)} \\right)} - 28 \\left(1 - \\cos{\\left(2 \\theta_{0}{\\left(t \\right)} \\right)}\\right)^{2} \\nu_{2}{\\left(t \\right)} \\nu_{3}{\\left(t \\right)} \\sin{\\left(\\theta_{0}{\\left(t \\right)} \\right)} - 8 \\left(1 - \\cos{\\left(2 \\theta_{0}{\\left(t \\right)} \\right)}\\right)^{2} \\nu_{2}{\\left(t \\right)} \\nu_{3}{\\left(t \\right)} \\sin{\\left(2 \\theta_{0}{\\left(t \\right)} \\right)} + 3 \\left(1 - \\cos{\\left(2 \\theta_{0}{\\left(t \\right)} \\right)}\\right)^{2} \\nu_{3}^{2}{\\left(t \\right)} \\sin{\\left(\\theta_{0}{\\left(t \\right)} \\right)} + 4 \\left(1 - \\cos{\\left(2 \\theta_{0}{\\left(t \\right)} \\right)}\\right)^{2} \\nu_{3}^{2}{\\left(t \\right)} \\sin{\\left(2 \\theta_{0}{\\left(t \\right)} \\right)} - 40 \\nu_{1}^{2}{\\left(t \\right)} \\sin{\\left(\\theta_{0}{\\left(t \\right)} \\right)} + 150 \\nu_{1}^{2}{\\left(t \\right)} \\sin{\\left(2 \\theta_{0}{\\left(t \\right)} \\right)} + 40 \\nu_{1}^{2}{\\left(t \\right)} \\sin{\\left(3 \\theta_{0}{\\left(t \\right)} \\right)} - 15 \\nu_{1}^{2}{\\left(t \\right)} \\sin{\\left(4 \\theta_{0}{\\left(t \\right)} \\right)} + 10 \\nu_{1}{\\left(t \\right)} \\nu_{2}{\\left(t \\right)} \\cos{\\left(\\theta_{0}{\\left(t \\right)} \\right)} - 180 \\nu_{1}{\\left(t \\right)} \\nu_{2}{\\left(t \\right)} \\cos{\\left(2 \\theta_{0}{\\left(t \\right)} \\right)} - 90 \\nu_{1}{\\left(t \\right)} \\nu_{2}{\\left(t \\right)} \\cos{\\left(3 \\theta_{0}{\\left(t \\right)} \\right)} - 60 \\nu_{1}{\\left(t \\right)} \\nu_{2}{\\left(t \\right)} + 34 \\nu_{1}{\\left(t \\right)} \\nu_{3}{\\left(t \\right)} \\cos{\\left(\\theta_{0}{\\left(t \\right)} \\right)} + 260 \\nu_{1}{\\left(t \\right)} \\nu_{3}{\\left(t \\right)} \\cos{\\left(2 \\theta_{0}{\\left(t \\right)} \\right)} + 46 \\nu_{1}{\\left(t \\right)} \\nu_{3}{\\left(t \\right)} \\cos{\\left(3 \\theta_{0}{\\left(t \\right)} \\right)} - 180 \\nu_{1}{\\left(t \\right)} \\nu_{3}{\\left(t \\right)} - 125 \\nu_{2}^{2}{\\left(t \\right)} \\sin{\\left(\\theta_{0}{\\left(t \\right)} \\right)} - 150 \\nu_{2}^{2}{\\left(t \\right)} \\sin{\\left(2 \\theta_{0}{\\left(t \\right)} \\right)} - 25 \\nu_{2}^{2}{\\left(t \\right)} \\sin{\\left(3 \\theta_{0}{\\left(t \\right)} \\right)} + 15 \\nu_{2}^{2}{\\left(t \\right)} \\sin{\\left(4 \\theta_{0}{\\left(t \\right)} \\right)} + 140 \\nu_{2}{\\left(t \\right)} \\nu_{3}{\\left(t \\right)} \\sin{\\left(\\theta_{0}{\\left(t \\right)} \\right)} + 360 \\nu_{2}{\\left(t \\right)} \\nu_{3}{\\left(t \\right)} \\sin{\\left(2 \\theta_{0}{\\left(t \\right)} \\right)} + 28 \\nu_{2}{\\left(t \\right)} \\nu_{3}{\\left(t \\right)} \\sin{\\left(3 \\theta_{0}{\\left(t \\right)} \\right)} - 43 \\nu_{2}{\\left(t \\right)} \\nu_{3}{\\left(t \\right)} \\sin{\\left(4 \\theta_{0}{\\left(t \\right)} \\right)} + 2 \\nu_{2}{\\left(t \\right)} \\nu_{3}{\\left(t \\right)} \\sin{\\left(6 \\theta_{0}{\\left(t \\right)} \\right)} - 15 \\nu_{3}^{2}{\\left(t \\right)} \\sin{\\left(\\theta_{0}{\\left(t \\right)} \\right)} - 65 \\nu_{3}^{2}{\\left(t \\right)} \\sin{\\left(2 \\theta_{0}{\\left(t \\right)} \\right)} - 3 \\nu_{3}^{2}{\\left(t \\right)} \\sin{\\left(3 \\theta_{0}{\\left(t \\right)} \\right)} + 10 \\nu_{3}^{2}{\\left(t \\right)} \\sin{\\left(4 \\theta_{0}{\\left(t \\right)} \\right)} - \\nu_{3}^{2}{\\left(t \\right)} \\sin{\\left(6 \\theta_{0}{\\left(t \\right)} \\right)}}{2 \\left(- 30 a \\cos{\\left(2 \\theta_{0}{\\left(t \\right)} \\right)} + 150 a - 32 \\cos{\\left(2 \\theta_{0}{\\left(t \\right)} \\right)} + \\cos{\\left(4 \\theta_{0}{\\left(t \\right)} \\right)} + 111\\right)} = \\frac{d}{d t} \\nu_{3}{\\left(t \\right)}$"
      ],
      "text/plain": [
       "Eq((-25*(1 - cos(2*theta0(t)))**2*nu1(t)**2*sin(theta0(t)) + 50*(1 - cos(2*theta0(t)))**2*nu1(t)*nu2(t)*cos(theta0(t)) + 60*(1 - cos(2*theta0(t)))**2*nu1(t)*nu2(t) - 28*(1 - cos(2*theta0(t)))**2*nu1(t)*nu3(t)*cos(theta0(t)) - 70*(1 - cos(2*theta0(t)))**2*nu1(t)*nu3(t) + 25*(1 - cos(2*theta0(t)))**2*nu2(t)**2*sin(theta0(t)) - 28*(1 - cos(2*theta0(t)))**2*nu2(t)*nu3(t)*sin(theta0(t)) - 8*(1 - cos(2*theta0(t)))**2*nu2(t)*nu3(t)*sin(2*theta0(t)) + 3*(1 - cos(2*theta0(t)))**2*nu3(t)**2*sin(theta0(t)) + 4*(1 - cos(2*theta0(t)))**2*nu3(t)**2*sin(2*theta0(t)) - 40*nu1(t)**2*sin(theta0(t)) + 150*nu1(t)**2*sin(2*theta0(t)) + 40*nu1(t)**2*sin(3*theta0(t)) - 15*nu1(t)**2*sin(4*theta0(t)) + 10*nu1(t)*nu2(t)*cos(theta0(t)) - 180*nu1(t)*nu2(t)*cos(2*theta0(t)) - 90*nu1(t)*nu2(t)*cos(3*theta0(t)) - 60*nu1(t)*nu2(t) + 34*nu1(t)*nu3(t)*cos(theta0(t)) + 260*nu1(t)*nu3(t)*cos(2*theta0(t)) + 46*nu1(t)*nu3(t)*cos(3*theta0(t)) - 180*nu1(t)*nu3(t) - 125*nu2(t)**2*sin(theta0(t)) - 150*nu2(t)**2*sin(2*theta0(t)) - 25*nu2(t)**2*sin(3*theta0(t)) + 15*nu2(t)**2*sin(4*theta0(t)) + 140*nu2(t)*nu3(t)*sin(theta0(t)) + 360*nu2(t)*nu3(t)*sin(2*theta0(t)) + 28*nu2(t)*nu3(t)*sin(3*theta0(t)) - 43*nu2(t)*nu3(t)*sin(4*theta0(t)) + 2*nu2(t)*nu3(t)*sin(6*theta0(t)) - 15*nu3(t)**2*sin(theta0(t)) - 65*nu3(t)**2*sin(2*theta0(t)) - 3*nu3(t)**2*sin(3*theta0(t)) + 10*nu3(t)**2*sin(4*theta0(t)) - nu3(t)**2*sin(6*theta0(t)))/(2*(-30*a*cos(2*theta0(t)) + 150*a - 32*cos(2*theta0(t)) + cos(4*theta0(t)) + 111)), Derivative(nu3(t), t))"
      ]
     },
     "metadata": {},
     "output_type": "display_data"
    }
   ],
   "source": [
    "for left_eq, right_eq in zip([s_eq1, s_eq2, s_eq3], [Derivative(x, t) for x in S.right_part_Eqs(S.omega_equations)]):\n",
    "    display(Eq(left_eq, right_eq))"
   ]
  },
  {
   "cell_type": "code",
   "execution_count": null,
   "metadata": {},
   "outputs": [],
   "source": [
    "\n"
   ]
  },
  {
   "cell_type": "code",
   "execution_count": null,
   "metadata": {},
   "outputs": [],
   "source": []
  },
  {
   "cell_type": "code",
   "execution_count": null,
   "metadata": {},
   "outputs": [],
   "source": []
  },
  {
   "cell_type": "code",
   "execution_count": null,
   "metadata": {},
   "outputs": [],
   "source": []
  },
  {
   "cell_type": "code",
   "execution_count": null,
   "metadata": {},
   "outputs": [],
   "source": []
  },
  {
   "cell_type": "code",
   "execution_count": null,
   "metadata": {},
   "outputs": [],
   "source": []
  },
  {
   "cell_type": "code",
   "execution_count": null,
   "metadata": {},
   "outputs": [],
   "source": []
  },
  {
   "cell_type": "markdown",
   "metadata": {},
   "source": [
    "## Найдем  $W,T, \\ddot{\\alpha}$  как функции от времени "
   ]
  },
  {
   "cell_type": "code",
   "execution_count": null,
   "metadata": {},
   "outputs": [],
   "source": [
    "from copy import copy\n",
    "\n",
    "for x in S.tatarinov_equations:\n",
    "    display(x)"
   ]
  },
  {
   "cell_type": "markdown",
   "metadata": {},
   "source": [
    "### Зададим $x,y, alpha$ как функции времени"
   ]
  },
  {
   "cell_type": "code",
   "execution_count": null,
   "metadata": {},
   "outputs": [],
   "source": [
    "# Начальные условия и парметры\n",
    "eq_x = 3*t\n",
    "eq_y = t**2\n",
    "\n",
    "params = dict(xi=0, eta=0)\n",
    "\n",
    "t_end = 2*pi.evalf()"
   ]
  },
  {
   "cell_type": "code",
   "execution_count": null,
   "metadata": {},
   "outputs": [],
   "source": [
    "def _ss(eq):\n",
    "    nu1, nu2, nu3 = symbols('nu1, nu2, nu3')\n",
    "    return eq.subs({\n",
    "        nu1: Function('nu1')(t),\n",
    "        nu2: Function('nu2')(t),\n",
    "        nu3: Function('nu3')(t)\n",
    "    })\n",
    "    \n",
    "def subs_funcs(eq):\n",
    "    subs_dict = dict(x=eq_x, y=eq_y, alpha=Function('alpha')(t)) # , alpha=eq_alpha)\n",
    "    if type(eq) == dict:\n",
    "        d = {}\n",
    "        for k,v in eq.items():\n",
    "            d[_ss(k)] = _ss(v.subs(subs_dict))\n",
    "        return d\n",
    "    if type(eq) == list:\n",
    "        l = []\n",
    "        for x in eq:\n",
    "            l += _ss(eq.subs(subs_dict))\n",
    "        return l\n",
    "    if type(eq) == Eq or type(eq) == Add:\n",
    "        return _ss(eq.subs(subs_dict))"
   ]
  },
  {
   "cell_type": "code",
   "execution_count": null,
   "metadata": {},
   "outputs": [],
   "source": [
    "S.constraints"
   ]
  },
  {
   "cell_type": "code",
   "execution_count": null,
   "metadata": {},
   "outputs": [],
   "source": [
    "nus = solve(S.constraints, S.right_part_Eqs(S.omega_equations))\n",
    "for k, v in nus.items():\n",
    "    display(Eq(k, v))"
   ]
  },
  {
   "cell_type": "code",
   "execution_count": null,
   "metadata": {},
   "outputs": [],
   "source": [
    "nust = subs_funcs(nus)\n",
    "nust"
   ]
  },
  {
   "cell_type": "code",
   "execution_count": null,
   "metadata": {},
   "outputs": [],
   "source": [
    "tet = copy(S.tatarinov_equations)\n",
    "for x in tet:\n",
    "    display(x)"
   ]
  },
  {
   "cell_type": "code",
   "execution_count": null,
   "metadata": {},
   "outputs": [],
   "source": [
    "for i in range(3):\n",
    "    tet[i] = tet[i].subs(nust).doit()\n",
    "    display(tet[i])\n",
    "#     display((tet[i].subs(nust)))\n",
    "#     display((tet[i].subs(nust)).doit())\n",
    "    "
   ]
  },
  {
   "cell_type": "code",
   "execution_count": null,
   "metadata": {},
   "outputs": [],
   "source": [
    "sol = solve(tet, [T, W, Derivative(Function('alpha')(t), t, 2)])\n",
    "for k,v in sol.items():\n",
    "    display(Eq(k, v))"
   ]
  },
  {
   "cell_type": "markdown",
   "metadata": {},
   "source": [
    "### Проинтегрируем\n",
    "$$ {\\ddot{\\alpha}, \\dot{\\alpha}} \\rightarrow \\alpha $$"
   ]
  },
  {
   "cell_type": "code",
   "execution_count": null,
   "metadata": {},
   "outputs": [],
   "source": [
    "_vars = [Function('alpha2')(t), Function('alpha')(t)]\n",
    "_vars"
   ]
  },
  {
   "cell_type": "code",
   "execution_count": null,
   "metadata": {},
   "outputs": [],
   "source": [
    "eqs = [Function('alpha2')(t), list(sol.values())[2]]\n",
    "eqs"
   ]
  },
  {
   "cell_type": "code",
   "execution_count": null,
   "metadata": {},
   "outputs": [],
   "source": [
    "_vars = [Symbol('alpha'),  Symbol('alpha2')]\n",
    "eqs =   [Symbol('alpha2'), list(sol.values())[2].subs({Function('alpha')(t): Symbol('alpha')})]\n",
    "\n",
    "print(\"Система уравнений на alpha\")\n",
    "for l, r in zip(_vars, eqs):\n",
    "    display(Eq(l,r))"
   ]
  },
  {
   "cell_type": "code",
   "execution_count": null,
   "metadata": {},
   "outputs": [],
   "source": [
    "# keyword can't be an expression\n",
    "eqs[1] = eqs[1].subs({J[s]: 3})\n",
    "\n",
    "_subs = dict(m=1, eta=2, xi=3)"
   ]
  },
  {
   "cell_type": "code",
   "execution_count": null,
   "metadata": {},
   "outputs": [],
   "source": [
    "def f(_vars_values, time):\n",
    "    return [lambdify(_vars, x.subs(_subs), 'numpy')(*_vars_values) for x in eqs]"
   ]
  },
  {
   "cell_type": "code",
   "execution_count": null,
   "metadata": {},
   "outputs": [],
   "source": [
    "import numpy as np\n",
    "from scipy.integrate import RK45, odeint"
   ]
  },
  {
   "cell_type": "code",
   "execution_count": null,
   "metadata": {},
   "outputs": [],
   "source": [
    "f0 = [1, 0.1] # [alpha', alpha]\n",
    "time = np.linspace(0., 4, 100)\n",
    "\n",
    "_solution = odeint(f, f0, time)"
   ]
  },
  {
   "cell_type": "code",
   "execution_count": null,
   "metadata": {},
   "outputs": [],
   "source": [
    "import matplotlib.pyplot as plt\n",
    "\n",
    "_items = zip(['dot_alpha', 'alpha'], list(range(2)))\n",
    "\n",
    "for name, col in _items:\n",
    "    print(name)\n",
    "    fig = plt.plot(time, _solution[:, col], label=name)\n",
    "    plt.show()"
   ]
  },
  {
   "cell_type": "markdown",
   "metadata": {},
   "source": [
    "## Подставим в $W, T$\n",
    "$$ \\{W(\\alpha, t), T(\\alpha, t)\\} \\rightarrow \\{W(t), T(t)\\}$$"
   ]
  },
  {
   "cell_type": "code",
   "execution_count": null,
   "metadata": {},
   "outputs": [],
   "source": [
    "display(sol[W])\n",
    "display(sol[T])"
   ]
  },
  {
   "cell_type": "code",
   "execution_count": null,
   "metadata": {},
   "outputs": [],
   "source": [
    "W_t = lambdify([t, Function('alpha')(t)], sol[W].subs(_subs), 'numpy')\n",
    "T_t = lambdify([t, Function('alpha')(t)], sol[T].subs(_subs), 'numpy')"
   ]
  },
  {
   "cell_type": "code",
   "execution_count": null,
   "metadata": {},
   "outputs": [],
   "source": [
    "_solution[:,1].size == time.size "
   ]
  },
  {
   "cell_type": "code",
   "execution_count": null,
   "metadata": {},
   "outputs": [],
   "source": [
    "wl, tl = [], []\n",
    "\n",
    "for x,y in zip(time, _solution[:,1]):\n",
    "    wl.append(W_t(x, y))\n",
    "    \n",
    "for x,y in zip(time, _solution[:,1]):\n",
    "    tl.append(T_t(x, y))"
   ]
  },
  {
   "cell_type": "code",
   "execution_count": null,
   "metadata": {},
   "outputs": [],
   "source": [
    "fig = plt.plot(time, wl, label='W')\n",
    "plt.show()"
   ]
  },
  {
   "cell_type": "code",
   "execution_count": null,
   "metadata": {},
   "outputs": [],
   "source": [
    "fig = plt.plot(time, tl, label='T')\n",
    "plt.show()"
   ]
  },
  {
   "cell_type": "code",
   "execution_count": null,
   "metadata": {},
   "outputs": [],
   "source": [
    "al = _solution[:, 1]"
   ]
  },
  {
   "cell_type": "code",
   "execution_count": null,
   "metadata": {},
   "outputs": [],
   "source": [
    "tmp_x = tl*np.sin(al)*(-1) + wl*np.cos(al)\n",
    "tmp_y = tl*np.cos(al) + wl*np.sin(al)"
   ]
  },
  {
   "cell_type": "code",
   "execution_count": null,
   "metadata": {},
   "outputs": [],
   "source": [
    "fig = plt.plot(tmp_x, label='~x\"')\n",
    "fig = plt.plot(tmp_y, label='~y\"')\n",
    "plt.show()"
   ]
  },
  {
   "cell_type": "code",
   "execution_count": null,
   "metadata": {},
   "outputs": [],
   "source": [
    "F"
   ]
  },
  {
   "cell_type": "code",
   "execution_count": null,
   "metadata": {},
   "outputs": [],
   "source": []
  },
  {
   "cell_type": "code",
   "execution_count": null,
   "metadata": {},
   "outputs": [],
   "source": []
  },
  {
   "cell_type": "code",
   "execution_count": null,
   "metadata": {},
   "outputs": [],
   "source": []
  },
  {
   "cell_type": "markdown",
   "metadata": {},
   "source": [
    "## Проинтегрируем численно"
   ]
  },
  {
   "cell_type": "code",
   "execution_count": null,
   "metadata": {},
   "outputs": [],
   "source": [
    "left = []; right = []"
   ]
  },
  {
   "cell_type": "code",
   "execution_count": null,
   "metadata": {},
   "outputs": [],
   "source": [
    "left += S.left_part_Eqs(S.constraints)\n",
    "right += S.right_part_Eqs(S.constraints)"
   ]
  },
  {
   "cell_type": "code",
   "execution_count": null,
   "metadata": {},
   "outputs": [],
   "source": [
    "diff_omegas_t = [Derivative(S.create_fs(x)) for x in S.right_part_Eqs(S.omega_equations)]\n",
    "constr = solve(eqs, diff_omegas_t)\n",
    "constr"
   ]
  },
  {
   "cell_type": "code",
   "execution_count": null,
   "metadata": {},
   "outputs": [],
   "source": [
    "for left_item, right_item in constr.items():\n",
    "    left += [left_item]\n",
    "    right += [right_item]"
   ]
  },
  {
   "cell_type": "code",
   "execution_count": null,
   "metadata": {},
   "outputs": [],
   "source": [
    "_vars = (phi, psi, theta, nu1, nu2, nu3)"
   ]
  },
  {
   "cell_type": "code",
   "execution_count": null,
   "metadata": {},
   "outputs": [],
   "source": [
    "right = [S.create_ss(x) for x in right]"
   ]
  },
  {
   "cell_type": "code",
   "execution_count": null,
   "metadata": {},
   "outputs": [],
   "source": [
    "_subs = {A: 1, C: 2, g: 10, m: 1}"
   ]
  },
  {
   "cell_type": "code",
   "execution_count": null,
   "metadata": {},
   "outputs": [],
   "source": [
    "left"
   ]
  },
  {
   "cell_type": "code",
   "execution_count": null,
   "metadata": {},
   "outputs": [],
   "source": [
    "right"
   ]
  },
  {
   "cell_type": "code",
   "execution_count": null,
   "metadata": {},
   "outputs": [],
   "source": [
    "def f(_vars_values, time):\n",
    "    return [lambdify(_vars, x.subs(_subs), 'numpy')(*_vars_values) for x in right]"
   ]
  },
  {
   "cell_type": "code",
   "execution_count": null,
   "metadata": {},
   "outputs": [],
   "source": [
    "f0 = [3,0.1,0.1,1,2,3]"
   ]
  },
  {
   "cell_type": "code",
   "execution_count": null,
   "metadata": {},
   "outputs": [],
   "source": [
    "import numpy as np\n",
    "from scipy.integrate import RK45, odeint"
   ]
  },
  {
   "cell_type": "code",
   "execution_count": null,
   "metadata": {},
   "outputs": [],
   "source": [
    "_solution = odeint(f, f0, np.linspace(0., 4., 100))"
   ]
  },
  {
   "cell_type": "code",
   "execution_count": null,
   "metadata": {},
   "outputs": [],
   "source": [
    "import matplotlib.pyplot as plt \n",
    "\n",
    "_items = zip(['phi', 'psi', 'theta', 'nu1', 'nu2', 'nu3'], list(range(6)))\n",
    "\n",
    "for name, col in _items:\n",
    "    print(name)\n",
    "    fig = plt.plot(np.linspace(0,4,100), _solution[:, col], label=name)\n",
    "    plt.show()"
   ]
  },
  {
   "cell_type": "markdown",
   "metadata": {},
   "source": [
    "## Посмотрим на энергию"
   ]
  },
  {
   "cell_type": "code",
   "execution_count": null,
   "metadata": {},
   "outputs": [],
   "source": [
    "H = A*(Derivative(theta,t)**2 + Derivative(psi,t)**2*sin(theta)**2)/2 \\\n",
    "    + C*(Derivative(phi, t) + Derivative(psi, t)*cos(theta))**2/2 \\\n",
    "    + m*g*cos(theta)\n",
    "H"
   ]
  },
  {
   "cell_type": "code",
   "execution_count": null,
   "metadata": {},
   "outputs": [],
   "source": [
    "H = S.sub_constraints(H)\n",
    "H"
   ]
  },
  {
   "cell_type": "code",
   "execution_count": null,
   "metadata": {},
   "outputs": [],
   "source": [
    "fH = lambdify(_vars, H.subs(_subs), 'numpy')"
   ]
  },
  {
   "cell_type": "code",
   "execution_count": null,
   "metadata": {},
   "outputs": [],
   "source": [
    "H_values = np.array([fH(*x) for x in _solution])\n",
    "max(H_values) - min(H_values)"
   ]
  },
  {
   "cell_type": "code",
   "execution_count": null,
   "metadata": {},
   "outputs": [],
   "source": [
    "for x in S.constraints:\n",
    "    display(x)"
   ]
  },
  {
   "cell_type": "code",
   "execution_count": null,
   "metadata": {},
   "outputs": [],
   "source": [
    "L"
   ]
  },
  {
   "cell_type": "markdown",
   "metadata": {},
   "source": [
    "# $$ x(t), y(t), \\alpha(t)$$"
   ]
  },
  {
   "cell_type": "markdown",
   "metadata": {},
   "source": [
    "1. зададим $x(t), y(t), \\alpha(t)$\n",
    "2. "
   ]
  },
  {
   "cell_type": "code",
   "execution_count": null,
   "metadata": {},
   "outputs": [],
   "source": [
    "S."
   ]
  },
  {
   "cell_type": "code",
   "execution_count": null,
   "metadata": {},
   "outputs": [],
   "source": []
  }
 ],
 "metadata": {
  "kernelspec": {
   "display_name": "Python 3",
   "language": "python",
   "name": "python3"
  },
  "language_info": {
   "codemirror_mode": {
    "name": "ipython",
    "version": 3
   },
   "file_extension": ".py",
   "mimetype": "text/x-python",
   "name": "python",
   "nbconvert_exporter": "python",
   "pygments_lexer": "ipython3",
   "version": "3.7.5"
  }
 },
 "nbformat": 4,
 "nbformat_minor": 2
}
