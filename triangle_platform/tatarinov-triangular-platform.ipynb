{
 "cells": [
  {
   "cell_type": "markdown",
   "metadata": {},
   "source": [
    "# Реализация нахождения уравнений движения с помощью Урванений Татаринова для платформы с одним колесом\n"
   ]
  },
  {
   "cell_type": "code",
   "execution_count": 1,
   "metadata": {},
   "outputs": [],
   "source": [
    "import sympy as sp\n",
    "import cloudpickle as pickle\n",
    "\n",
    "from copy import copy\n",
    "from sympy import Derivative, Symbol, IndexedBase, Eq, Idx, Sum, Function, Matrix, Add, N\n",
    "from sympy import diff, symbols, solve, simplify, poly, pprint, factor, integrate, lambdify, linear_eq_to_matrix\n",
    "from sympy import cos, sin, pi\n",
    "from abc import ABC, abstractmethod\n",
    "\n",
    "from IPython.display import display, Markdown"
   ]
  },
  {
   "cell_type": "code",
   "execution_count": 2,
   "metadata": {},
   "outputs": [],
   "source": [
    "def create_fs(self, fs):\n",
    "    \"\"\" not good \"\"\"\n",
    "    # nu1, nu2, nu3 = symbols('nu1, nu2, nu3')\n",
    "    return fs.subs({\n",
    "        _nu1: Function('nu1_')(t),\n",
    "        _nu2: Function('nu2_')(t),\n",
    "        _nu3: Function('nu3_')(t)\n",
    "    })\n",
    "\n",
    "def create_ss(self, fs):\n",
    "    \"\"\" not good \"\"\"\n",
    "    # nu1, nu2, nu3 = symbols('nu1, nu2, nu3')\n",
    "    return fs.subs({\n",
    "        Function('nu1_')(t): _nu1,\n",
    "        Function('nu2_')(t): _nu2,\n",
    "        Function('nu3_')(t): _nu3\n",
    "    })\n",
    "\n",
    "def save(data, name):\n",
    "    with open(f'{name}.pickle', 'wb') as f:\n",
    "        pickle.dump(copy(data), f)\n",
    "        \n",
    "def load(name):\n",
    "    with open(f'{name}.pickle', 'rb') as f:\n",
    "        data = pickle.load(f)\n",
    "    return data\n",
    "\n",
    "def MatrixElDerivative(mat):\n",
    "    return Matrix([x.diff(t) for x in mat])\n",
    "\n",
    "def subs_Eqs(eq, Eqs):\n",
    "    \"\"\" \n",
    "        Например: x = z+2*y\n",
    "        Это eq.subs({x: z+2*y})\n",
    "    \"\"\"\n",
    "    for Eq in Eqs:\n",
    "        left, right = Eq.args[0], Eq.args[1]\n",
    "        eq = eq.subs({left: right})\n",
    "    return eq\n",
    "\n",
    "def subs_xy(obj):\n",
    "    substed = obj.subs({nu[1]: eq['nu1(x,y)'],\n",
    "                        nu[2]: eq['nu2(x,y)']})\n",
    "    return substed\n",
    "\n",
    "def display_list(l, spaces=False):\n",
    "    for x in l:\n",
    "        if spaces:\n",
    "            display(Markdown('---'))\n",
    "        display(x)"
   ]
  },
  {
   "cell_type": "markdown",
   "metadata": {},
   "source": [
    "### Уравнения Татаринова\n",
    "$$\n",
    "\\frac{d}{dt} \\frac{\\partial L*}{\\partial \\omega_{\\alpha}} +\n",
    "\\{P_{\\alpha}, L*\\} = \n",
    "\\{P_{\\alpha}, \\sum_{\\mu}{\\omega_{\\mu} P_{\\mu}} \\} +\n",
    "\\sum_{i}{Q_i \\frac{\\partial v_i}{ \\partial \\omega_{\\alpha}}}\n",
    "$$"
   ]
  },
  {
   "cell_type": "markdown",
   "metadata": {},
   "source": [
    "### Скобка Пуассона\n",
    "$$\n",
    "\\{f, g\\} = \\sum_{i=1}^{N} \\left( \\frac{\\partial f}{\\partial q_{i}} \\frac{\\partial g}{\\partial p_{i}} - \\frac{\\partial f}{\\partial p_i} \\frac{\\partial g}{\\partial q_i}\\right).\n",
    "$$"
   ]
  },
  {
   "cell_type": "markdown",
   "metadata": {},
   "source": [
    "### Функции $ P_{\\alpha} $\n",
    "$$\n",
    "\\sum_{\\alpha}{P_{\\alpha} \\omega_{\\alpha}} = \\sum_i{p_iv_i}\n",
    "$$"
   ]
  },
  {
   "cell_type": "markdown",
   "metadata": {},
   "source": [
    "### Функции $v_i$\n",
    "$$\n",
    "v_i = \\dot{q}\n",
    "$$"
   ]
  },
  {
   "cell_type": "code",
   "execution_count": 3,
   "metadata": {},
   "outputs": [],
   "source": [
    "class MechanicalSystem():\n",
    "    \n",
    "    def __init__(self):\n",
    "        pass\n",
    "    \n",
    "    def set_q(self, q):\n",
    "        self.q = q\n",
    "    \n",
    "    def set_p(self, p):\n",
    "        self.p = p\n",
    "    \n",
    "    def poisson_bracket(self, F, G): # надо сделать, чтобы использовалось IndexedBase\n",
    "        \"\"\" To evaluate an unevaluated derivative, use the doit method. \"\"\"\n",
    "        res = 0\n",
    "        for i in range(3):\n",
    "            res += diff(F, self.q[i])*diff(G, self.p[i])\n",
    "            res -= diff(F, self.p[i])*diff(G, self.q[i])\n",
    "        return res\n",
    "    \n",
    "    @staticmethod\n",
    "    def sub_Eq(equation, Eq):\n",
    "        return equation.subs(Eq.args[0], Eq.args[1])\n",
    "    \n",
    "    @classmethod\n",
    "    def sub_Eqs(cls, equation, Eqs):\n",
    "        sub_equation = equation\n",
    "        for Eq in Eqs:\n",
    "            sub_equation = cls.sub_Eq(sub_equation, Eq)\n",
    "        return sub_equation \n",
    "    \n",
    "    @staticmethod\n",
    "    def left_part_Eqs(Eqs):\n",
    "        return [Eq.args[0] for Eq in Eqs]\n",
    "    \n",
    "    @staticmethod\n",
    "    def right_part_Eqs(Eqs):\n",
    "        return [Eq.args[1] for Eq in Eqs]\n",
    "    \n",
    "    def set_constraints(self, constraints):\n",
    "        \"\"\" Setting up constraints \"\"\"\n",
    "        self.constraints = constraints\n",
    "        \n",
    "    def sub_constraints(self, func):\n",
    "        \"\"\" Substitutes constraints in the equation\n",
    "        Private special case:\n",
    "            L -> L* \n",
    "        \"\"\"\n",
    "        sub_dict = {conn.args[0]: conn.args[1] for conn in self.constraints}\n",
    "        return func.subs(sub_dict)\n",
    "    \n",
    "    def sub_constraints_to_list(self, equations):\n",
    "        return [self.sub_constraints(equation) for equation in equations]\n",
    "    \n",
    "    @staticmethod\n",
    "    def diff_hack(equation, by):\n",
    "        \"\"\" eq -> eq.subs(Derivative -> temp_variable) -> eq.diff(temp_variable) ->\n",
    "            -> eq.subs(temp_variable -> Derivative)\n",
    "        \"\"\"\n",
    "        tmp_by = Symbol('tmp_by')\n",
    "        tmp_eq = equation.subs({by: tmp_by})\n",
    "        tmp_eq = tmp_eq.diff(tmp_by)\n",
    "        return tmp_eq.subs({tmp_by: by})\n",
    "        "
   ]
  },
  {
   "cell_type": "code",
   "execution_count": 4,
   "metadata": {},
   "outputs": [],
   "source": [
    "class TatarinovSystem(MechanicalSystem):\n",
    "    \n",
    "    def __init__(self, N=3, debug=True):\n",
    "        super().__init__()\n",
    "        self.N = N\n",
    "        self.tatarinov_equations = [None]*N\n",
    "        self.debug = True\n",
    "        \n",
    "    def set_omega_equations(self, omegas, equations):\n",
    "        omega_equations = [Eq(omega, equation) for omega, equation in zip(omegas, equations)]\n",
    "        self.omega_equations = omega_equations\n",
    "        \n",
    "    def set_v_equations(self, vs, equations): # vs - не лучшее название\n",
    "        v_equations = [Eq(v, equation) for v, equation in zip(vs, equations)]\n",
    "        self.v_equations = v_equations\n",
    "\n",
    "    def set_P(self):\n",
    "        k, mu = symbols('k, mu', cls=Idx)\n",
    "        left = Sum(P[k]*om[k], (k, 1, self.N)).doit()\n",
    "        right = Sum(p[i]*v[i], (k, 1, self.N))\n",
    "        Eq(left, right)\n",
    "    \n",
    "    def set_L(self, L):\n",
    "        self.L = L\n",
    "        \n",
    "    def set_L_star(self, L_star):\n",
    "        self.L_star = simplify(L_star)\n",
    "    \n",
    "    def set_F(self, F):\n",
    "        self.F = F\n",
    "    \n",
    "    def create_r(self):\n",
    "        r = {}\n",
    "        r['s'] = x*e['x'] + y*e['y']\n",
    "        r['p'] = r['s'] + xi*e['xi'] + eta*e['eta']\n",
    "        self.r = r\n",
    "        return self.r\n",
    "\n",
    "    def set_Qs(self, Qs):\n",
    "        self.Qs = Qs\n",
    "    \n",
    "    def create_P(self):\n",
    "        equations_for_P = Eq(\n",
    "            Sum(P[k]*_omega[k], (k, 1, S.N)),\n",
    "            Sum(p[k]*_v[k], (k, 1, S.N)))\n",
    "        print(equations_for_P)\n",
    "        # subs omega_i and v_i\n",
    "        sub_equations_for_P = TatarinovSystem.sub_Eqs(\n",
    "            equations_for_P.doit(), # important\n",
    "            self.omega_equations + self.v_equations) # for Ex: omega[1] -> nu1), v[1] -> x', ....\n",
    "        # subs_constraints\n",
    "        sub_conn_equations_for_P = self.sub_constraints(sub_equations_for_P)\n",
    "        print(sub_conn_equations_for_P)\n",
    "        # to equate the coefficients\n",
    "        left_coeffs = poly(sub_conn_equations_for_P.args[0], TatarinovSystem.right_part_Eqs(self.omega_equations)).coeffs()\n",
    "        right_coeffs = poly(sub_conn_equations_for_P.args[1], TatarinovSystem.right_part_Eqs(self.omega_equations)).coeffs()\n",
    "        final_equations_for_P = [Eq(left, right) for left, right in zip(left_coeffs, right_coeffs)]\n",
    "        self.Ps = final_equations_for_P\n",
    "        return final_equations_for_P\n",
    "    \n",
    "    def create_Q(self, F, r_p):\n",
    "        self.Q = [F.dot(r_p.diff(x)) for x in self.q]\n",
    "        \n",
    "    def set_Q(self, Q):\n",
    "        self.Q = Q\n",
    "    \n",
    "    def Q_dw_by_dv(self, i):\n",
    "        Q_dw_by_dv = lambda i,a: self.Q[i]*Derivative(self.right_part_Eqs(S.sub_constraints_to_list(S.v_equations))[i],\n",
    "                                                      self.right_part_Eqs(self.omega_equations)[a]).doit()\n",
    "        Q_dw_by_dv_sum = lambda a: Q_dw_by_dv(0,a) + Q_dw_by_dv(1,a) + Q_dw_by_dv(2,a) + Q_dw_by_dv(3,a) + Q_dw_by_dv(4,a)\n",
    "        return Q_dw_by_dv_sum(i)\n",
    "    \n",
    "    def tatarinov_equation__depricated(self, i):\n",
    "        left, right = 0, 0;\n",
    "        left += diff(diff(L, omega[k]), t)\n",
    "        left += poisson_bracket(P[k], L)\n",
    "        right += poisson_bracket(P[k], Sum(omega[k]*P[k], (k, 1, self.N)))\n",
    "        right += Sum(Q[l]*diff(v[l], omega[k]), (l, 1, self.N))\n",
    "        Eq(left, right)\n",
    "        \n",
    "    def create_bracket_sum(self):\n",
    "        \"\"\" not good \"\"\"\n",
    "        # return  _nu1*(p[1]*cos(alpha) + p[2]*sin(alpha)) + _nu2*(-p[1]*sin(alpha) + p[2]*cos(alpha)) + _nu3*p[3]\n",
    "        bracket_sum = [x*y for x,y in zip(S.right_part_Eqs(S.Ps), S.right_part_Eqs(S.omega_equations))]\n",
    "        res = 0\n",
    "        for x in range(3):\n",
    "            res += bracket_sum[x]\n",
    "        return res\n",
    "    \n",
    "    def solve_tatarinov_equations(self):\n",
    "        te = [self.tatarinov_equations[i] for x in range(3)]\n",
    "        sol = solve(te, [Derivative(self.create_fs(x), t) for x in S.right_part_Eqs(S.omega_equations)])\n",
    "        return sol\n",
    "\n",
    "    def tatarinov_equation(self, i):\n",
    "        left, right = 0,0\n",
    "        left = self.L_star.args[1]\n",
    "#         left = self.create_fs(left.diff(self.right_part_Eqs(self.omega_equations)[i])).diff(t)\n",
    "        left = left.diff(self.right_part_Eqs(self.omega_equations)[i])\n",
    "        left = simplify(left)\n",
    "        left = left.diff(t)\n",
    "        left = simplify(self.sub_constraints(left))\n",
    "        tmp = self.poisson_bracket(self.Ps[i].args[1], self.L_star.args[1])\n",
    "        left += simplify(self.sub_constraints(tmp))\n",
    "#         left = self.create_fs(left)\n",
    "        if self.debug:\n",
    "            display(left)\n",
    "        \n",
    "        right += self.poisson_bracket(self.Ps[i].args[1], self.create_bracket_sum())\n",
    "        right += simplify(self.Q_dw_by_dv(i))\n",
    "#         right = self.create_fs(right)\n",
    "        if self.debug:\n",
    "            display(right)\n",
    "        \n",
    "        ps = lambda i: self.sub_constraints(self.diff_hack(self.L.args[1], self.right_part_Eqs(self.v_equations)[i]))\n",
    "        self.tatarinov_equations[i] = Eq(left, right).subs({p[1]: ps(0), p[2]: ps(1), p[3]: ps(2)})\n",
    "        \n",
    "#         self.tatarinov_equations[i] = self.create_fs(simplify(self.tatarinov_equations[i]))\n",
    "        print('Flag')\n",
    "        self.tatarinov_equations[i] = simplify(self.tatarinov_equations[i])\n",
    "        \n",
    "        return self.tatarinov_equations[i]\n",
    "\n",
    "    def display_tatarinov_equations(self):\n",
    "        for eq in self.tatarinov_equations:\n",
    "            display(eq)"
   ]
  },
  {
   "cell_type": "markdown",
   "metadata": {},
   "source": [
    "##  Импорт платформы"
   ]
  },
  {
   "cell_type": "code",
   "execution_count": 72,
   "metadata": {},
   "outputs": [
    {
     "name": "stdout",
     "output_type": "stream",
     "text": [
      "The autoreload extension is already loaded. To reload it, use:\n",
      "  %reload_ext autoreload\n"
     ]
    }
   ],
   "source": [
    "%load_ext autoreload\n",
    "%autoreload 2\n",
    "\n",
    "from variables import *\n",
    "from structure import *\n",
    "from functions import *\n",
    "\n",
    "from latex import *"
   ]
  },
  {
   "cell_type": "markdown",
   "metadata": {},
   "source": [
    "#### Псевдоскорости $nu_1$, $nu_2$\n",
    "#### Координаты $\\theta_1$, $\\psi_1$, $\\alpha$\n",
    "#### Связи $\\psi_1(\\nu_1,\\nu_2), \\theta_1(\\nu_1,\\nu_2)$"
   ]
  },
  {
   "cell_type": "markdown",
   "metadata": {},
   "source": [
    "#### Скорости"
   ]
  },
  {
   "cell_type": "code",
   "execution_count": 6,
   "metadata": {},
   "outputs": [],
   "source": [
    "omega['platform']= lambda i: Derivative(alpha,t)*e['z']\n",
    "omega['fork']    = lambda i: omega['platform'](i) + Derivative(theta[i],t)*e['z']\n",
    "omega['wheel']   = lambda i: omega['fork'](i) + Derivative(psi[i],t)*n_wheel(i)"
   ]
  },
  {
   "cell_type": "code",
   "execution_count": 7,
   "metadata": {},
   "outputs": [],
   "source": [
    "v['S'] = euler(S, P)\n",
    "v['P'] = euler(P, C)\n",
    "v['C'] = euler(C, D)\n",
    "v['D'] = lambda i: Matrix([0,0,0]) # проскальзывания нет"
   ]
  },
  {
   "cell_type": "code",
   "execution_count": 8,
   "metadata": {},
   "outputs": [],
   "source": [
    "# tmp = v['C'](0).subs(\n",
    "# {\n",
    "#     Derivative(theta[0],t): eq['f(nu1,nu2)'](0)[Derivative(theta[0],t)],\n",
    "#     Derivative(psi[0],t): eq['f(nu1,nu2)'](0)[Derivative(psi[0],t)],\n",
    "# }\n",
    "# )\n",
    "# tmp"
   ]
  },
  {
   "cell_type": "code",
   "execution_count": 9,
   "metadata": {},
   "outputs": [],
   "source": [
    "# simplify(simplify(tmp).dot(simplify(tmp)))"
   ]
  },
  {
   "cell_type": "markdown",
   "metadata": {},
   "source": [
    "#### Угловые скорости"
   ]
  },
  {
   "cell_type": "code",
   "execution_count": 10,
   "metadata": {},
   "outputs": [],
   "source": [
    "omega['platform']= lambda i: Derivative(alpha,t)*e['z']\n",
    "omega['fork']    = lambda i: omega['platform'](i) + Derivative(theta[i],t)*e['z']\n",
    "omega['wheel']   = lambda i: omega['fork'](i) + Derivative(psi[i],t)*n_wheel(i)"
   ]
  },
  {
   "cell_type": "code",
   "execution_count": 73,
   "metadata": {},
   "outputs": [],
   "source": [
    "eq['nu1'] = lambda i: scalar(v['S'](i), e['xi'])\n",
    "eq['nu2'] = lambda i: scalar(v['S'](i), e['eta'])"
   ]
  },
  {
   "cell_type": "markdown",
   "metadata": {},
   "source": [
    "#### Псевдоскорости"
   ]
  },
  {
   "cell_type": "code",
   "execution_count": 12,
   "metadata": {},
   "outputs": [
    {
     "data": {
      "text/latex": [
       "$\\displaystyle \\left[\\begin{matrix}\\nu_{1}{\\left(t \\right)} = R \\sin{\\left(\\beta_{0} \\right)} \\frac{d}{d t} \\alpha{\\left(t \\right)} + d \\sin{\\left(\\theta_{0}{\\left(t \\right)} \\right)} \\frac{d}{d t} \\alpha{\\left(t \\right)} + d \\sin{\\left(\\theta_{0}{\\left(t \\right)} \\right)} \\frac{d}{d t} \\theta_{0}{\\left(t \\right)} + r \\cos{\\left(\\theta_{0}{\\left(t \\right)} \\right)} \\frac{d}{d t} \\psi_{0}{\\left(t \\right)}\\\\\\nu_{2}{\\left(t \\right)} = - R \\cos{\\left(\\beta_{0} \\right)} \\frac{d}{d t} \\alpha{\\left(t \\right)} - d \\cos{\\left(\\theta_{0}{\\left(t \\right)} \\right)} \\frac{d}{d t} \\alpha{\\left(t \\right)} - d \\cos{\\left(\\theta_{0}{\\left(t \\right)} \\right)} \\frac{d}{d t} \\theta_{0}{\\left(t \\right)} + r \\sin{\\left(\\theta_{0}{\\left(t \\right)} \\right)} \\frac{d}{d t} \\psi_{0}{\\left(t \\right)}\\end{matrix}\\right]$"
      ],
      "text/plain": [
       "Matrix([\n",
       "[ Eq(nu1(t), R*sin(beta0)*Derivative(alpha(t), t) + d*sin(theta0(t))*Derivative(alpha(t), t) + d*sin(theta0(t))*Derivative(theta0(t), t) + r*cos(theta0(t))*Derivative(psi0(t), t))],\n",
       "[Eq(nu2(t), -R*cos(beta0)*Derivative(alpha(t), t) - d*cos(theta0(t))*Derivative(alpha(t), t) - d*cos(theta0(t))*Derivative(theta0(t), t) + r*sin(theta0(t))*Derivative(psi0(t), t))]])"
      ]
     },
     "execution_count": 12,
     "metadata": {},
     "output_type": "execute_result"
    }
   ],
   "source": [
    "simplify(Matrix([Eq(nu[1], eq['nu1'](0)),\n",
    "                 Eq(nu[2], eq['nu2'](0))]))"
   ]
  },
  {
   "cell_type": "code",
   "execution_count": 74,
   "metadata": {},
   "outputs": [],
   "source": [
    "eq['f(nu1,nu2)'] = lambda i: solve(\n",
    "                      [Eq(eq['nu1'](i), nu[1]), Eq(eq['nu2'](i), nu[2])],\n",
    "                      [Derivative(psi[i],t), Derivative(theta[i],t)],\n",
    "                      dict=True)[0]; # возвращает словарь с выражениями для diff(psi) и diff(theta)"
   ]
  },
  {
   "cell_type": "code",
   "execution_count": 14,
   "metadata": {},
   "outputs": [
    {
     "data": {
      "text/latex": [
       "$\\displaystyle \\frac{d}{d t} \\alpha{\\left(t \\right)} = \\nu_{3}{\\left(t \\right)}$"
      ],
      "text/plain": [
       "Eq(Derivative(alpha(t), t), nu3(t))"
      ]
     },
     "execution_count": 14,
     "metadata": {},
     "output_type": "execute_result"
    }
   ],
   "source": [
    "Eq(Derivative(alpha), nu[3])"
   ]
  },
  {
   "cell_type": "markdown",
   "metadata": {},
   "source": [
    "####  Связи"
   ]
  },
  {
   "cell_type": "code",
   "execution_count": 15,
   "metadata": {},
   "outputs": [],
   "source": [
    "eq['diff(psi)_nu']   = lambda i: eq['f(nu1,nu2)'](i)[Derivative(psi[i],t)]\n",
    "eq['diff(theta)_nu'] = lambda i: eq['f(nu1,nu2)'](i)[Derivative(theta[i],t)]"
   ]
  },
  {
   "cell_type": "code",
   "execution_count": 16,
   "metadata": {},
   "outputs": [
    {
     "data": {
      "text/latex": [
       "$\\displaystyle \\left[\\begin{matrix}\\frac{d}{d t} \\psi_{0}{\\left(t \\right)} = \\frac{- R \\sin{\\left(\\beta_{0} - \\theta_{0}{\\left(t \\right)} \\right)} \\frac{d}{d t} \\alpha{\\left(t \\right)} + \\nu_{1}{\\left(t \\right)} \\cos{\\left(\\theta_{0}{\\left(t \\right)} \\right)} + \\nu_{2}{\\left(t \\right)} \\sin{\\left(\\theta_{0}{\\left(t \\right)} \\right)}}{r}\\\\\\frac{d}{d t} \\theta_{0}{\\left(t \\right)} = \\frac{- R \\cos{\\left(\\beta_{0} - \\theta_{0}{\\left(t \\right)} \\right)} \\frac{d}{d t} \\alpha{\\left(t \\right)} - d \\frac{d}{d t} \\alpha{\\left(t \\right)} + \\nu_{1}{\\left(t \\right)} \\sin{\\left(\\theta_{0}{\\left(t \\right)} \\right)} - \\nu_{2}{\\left(t \\right)} \\cos{\\left(\\theta_{0}{\\left(t \\right)} \\right)}}{d}\\end{matrix}\\right]$"
      ],
      "text/plain": [
       "Matrix([\n",
       "[                              Eq(Derivative(psi0(t), t), (-R*sin(beta0 - theta0(t))*Derivative(alpha(t), t) + nu1(t)*cos(theta0(t)) + nu2(t)*sin(theta0(t)))/r)],\n",
       "[Eq(Derivative(theta0(t), t), (-R*cos(beta0 - theta0(t))*Derivative(alpha(t), t) - d*Derivative(alpha(t), t) + nu1(t)*sin(theta0(t)) - nu2(t)*cos(theta0(t)))/d)]])"
      ]
     },
     "execution_count": 16,
     "metadata": {},
     "output_type": "execute_result"
    }
   ],
   "source": [
    "Matrix([Eq(Derivative(psi[0], t), eq['diff(psi)_nu'](0)),\n",
    "        Eq(Derivative(theta[0], t), eq['diff(theta)_nu'](0))])"
   ]
  },
  {
   "cell_type": "code",
   "execution_count": 17,
   "metadata": {},
   "outputs": [],
   "source": [
    "# L, m, x, y, t, alpha = symbols('L, m, x, y, t, alpha')\n",
    "# _nu1, _nu2, _nu3, _nu4, _nu5 = symbols('nu1_, nu2_, nu3_, nu4_, nu5_')\n",
    "# W, T = symbols('W, T')\n",
    "# s = symbols('s')\n",
    "P = IndexedBase('P')\n",
    "p = IndexedBase('p')\n",
    "# p = IndexedBase('p')\n",
    "_omega = IndexedBase('omega')\n",
    "_v = IndexedBase('v')\n",
    "# Q = IndexedBase('Q')\n",
    "k = symbols('k', cls=Idx)\n",
    "# J = IndexedBase('J')\n",
    "\n",
    "# xi, eta = symbols('xi, eta')\n",
    "# e = {}\n",
    "# e['x'] = Matrix([1,0])\n",
    "# e['y'] = Matrix([0,1])\n",
    "# e['xi'] = Matrix([cos(alpha), sin(alpha)])\n",
    "# e['eta'] = Matrix([-sin(alpha), cos(alpha)])"
   ]
  },
  {
   "cell_type": "code",
   "execution_count": 18,
   "metadata": {},
   "outputs": [],
   "source": [
    "# A, C, c = symbols('A, C, c')\n",
    "\n",
    "# psi, theta, phi = symbols('psi, theta, phi') # v\n",
    "\n",
    "# g = symbols('g')"
   ]
  },
  {
   "cell_type": "markdown",
   "metadata": {},
   "source": [
    "$$ L = T - V $$\n",
    "$$ T = T_{pl} + T_{fo} + T_{wh} $$"
   ]
  },
  {
   "cell_type": "markdown",
   "metadata": {},
   "source": [
    "$$ T_{pl} = \\frac{m_{pl} v_S^2}{2} + \\frac{(J_{pl} \\omega_{pl}, \\omega_{pl})}{2} $$\n",
    "$$ T_{fo} = 0$$\n",
    "$$ T_{wh} = \\frac{m_{wh} v_S^2}{2} + \\frac{(J_{wh} \\omega_{wh}, \\omega_{wh})}{2} $$"
   ]
  },
  {
   "cell_type": "markdown",
   "metadata": {},
   "source": [
    "#### Platform"
   ]
  },
  {
   "cell_type": "code",
   "execution_count": 19,
   "metadata": {},
   "outputs": [
    {
     "data": {
      "text/latex": [
       "$\\displaystyle m_{1}$"
      ],
      "text/plain": [
       "m1"
      ]
     },
     "execution_count": 19,
     "metadata": {},
     "output_type": "execute_result"
    }
   ],
   "source": [
    "m['platform']"
   ]
  },
  {
   "cell_type": "code",
   "execution_count": 20,
   "metadata": {},
   "outputs": [
    {
     "data": {
      "text/latex": [
       "$\\displaystyle \\left(\\frac{d}{d t} x{\\left(t \\right)}\\right)^{2} + \\left(\\frac{d}{d t} y{\\left(t \\right)}\\right)^{2}$"
      ],
      "text/plain": [
       "Derivative(x(t), t)**2 + Derivative(y(t), t)**2"
      ]
     },
     "execution_count": 20,
     "metadata": {},
     "output_type": "execute_result"
    }
   ],
   "source": [
    "Derivative(x, t)**2 + Derivative(y, t)**2"
   ]
  },
  {
   "cell_type": "code",
   "execution_count": 21,
   "metadata": {},
   "outputs": [],
   "source": [
    "J['platform'] = eye(3,3)*a"
   ]
  },
  {
   "cell_type": "code",
   "execution_count": 22,
   "metadata": {},
   "outputs": [
    {
     "data": {
      "text/latex": [
       "$\\displaystyle \\left[\\begin{matrix}0\\\\0\\\\\\frac{d}{d t} \\alpha{\\left(t \\right)}\\end{matrix}\\right]$"
      ],
      "text/plain": [
       "Matrix([\n",
       "[                      0],\n",
       "[                      0],\n",
       "[Derivative(alpha(t), t)]])"
      ]
     },
     "execution_count": 22,
     "metadata": {},
     "output_type": "execute_result"
    }
   ],
   "source": [
    "omega['platform'](0)"
   ]
  },
  {
   "cell_type": "markdown",
   "metadata": {},
   "source": [
    "#### Wheel"
   ]
  },
  {
   "cell_type": "code",
   "execution_count": 23,
   "metadata": {},
   "outputs": [
    {
     "data": {
      "text/latex": [
       "$\\displaystyle m_{2}$"
      ],
      "text/plain": [
       "m2"
      ]
     },
     "execution_count": 23,
     "metadata": {},
     "output_type": "execute_result"
    }
   ],
   "source": [
    "m['wheel']"
   ]
  },
  {
   "cell_type": "code",
   "execution_count": 24,
   "metadata": {},
   "outputs": [
    {
     "data": {
      "text/latex": [
       "$\\displaystyle \\left[\\begin{matrix}d \\left(- \\sin{\\left(\\alpha{\\left(t \\right)} \\right)} \\sin{\\left(\\theta_{0}{\\left(t \\right)} \\right)} + \\cos{\\left(\\alpha{\\left(t \\right)} \\right)} \\cos{\\left(\\theta_{0}{\\left(t \\right)} \\right)}\\right) + x{\\left(t \\right)}\\\\d \\left(\\sin{\\left(\\alpha{\\left(t \\right)} \\right)} \\cos{\\left(\\theta_{0}{\\left(t \\right)} \\right)} + \\sin{\\left(\\theta_{0}{\\left(t \\right)} \\right)} \\cos{\\left(\\alpha{\\left(t \\right)} \\right)}\\right) + y{\\left(t \\right)}\\\\0\\end{matrix}\\right]$"
      ],
      "text/plain": [
       "Matrix([\n",
       "[d*(-sin(alpha(t))*sin(theta0(t)) + cos(alpha(t))*cos(theta0(t))) + x(t)],\n",
       "[ d*(sin(alpha(t))*cos(theta0(t)) + sin(theta0(t))*cos(alpha(t))) + y(t)],\n",
       "[                                                                      0]])"
      ]
     },
     "execution_count": 24,
     "metadata": {},
     "output_type": "execute_result"
    }
   ],
   "source": [
    "Matrix([x,y,0]) + d*e_wheel(0)"
   ]
  },
  {
   "cell_type": "code",
   "execution_count": 25,
   "metadata": {},
   "outputs": [],
   "source": [
    "J['wheel'] = Matrix([[b,0,0],[0,c,0],[0,0,b]])"
   ]
  },
  {
   "cell_type": "markdown",
   "metadata": {},
   "source": [
    "#### В одинаковых базисах нужно записывать угловую скорость и момент инерции !"
   ]
  },
  {
   "cell_type": "code",
   "execution_count": 26,
   "metadata": {},
   "outputs": [],
   "source": [
    "omega['wheel_in'] = lambda i: psi[i].diff(t)*e['y'] + (theta[i].diff(t) + alpha.diff(t))*e['z']"
   ]
  },
  {
   "cell_type": "code",
   "execution_count": 27,
   "metadata": {},
   "outputs": [
    {
     "data": {
      "text/latex": [
       "$\\displaystyle \\left[\\begin{matrix}0\\\\\\frac{d}{d t} \\psi_{0}{\\left(t \\right)}\\\\\\frac{d}{d t} \\alpha{\\left(t \\right)} + \\frac{d}{d t} \\theta_{0}{\\left(t \\right)}\\end{matrix}\\right]$"
      ],
      "text/plain": [
       "Matrix([\n",
       "[                                                 0],\n",
       "[                            Derivative(psi0(t), t)],\n",
       "[Derivative(alpha(t), t) + Derivative(theta0(t), t)]])"
      ]
     },
     "execution_count": 27,
     "metadata": {},
     "output_type": "execute_result"
    }
   ],
   "source": [
    "omega['wheel_in'](0)"
   ]
  },
  {
   "cell_type": "markdown",
   "metadata": {},
   "source": [
    "### Моменты сил\n",
    "####  (platform) $ \\vec{M} = -W_0*\\vec{e}_z $ \n",
    "####  (fork) $ \\vec{M} = W_0*\\vec{e}_z - T_0*\\vec{n}_0 $ \n",
    "####  (wheel) $ \\vec{M} = T_0*\\vec{n}_0 $ "
   ]
  },
  {
   "cell_type": "code",
   "execution_count": 75,
   "metadata": {},
   "outputs": [],
   "source": [
    "eq['nu1(x,y)'] = Eq(nu[1], Derivative(x,t)*cos(alpha) + Derivative(y,t)*sin(alpha))\n",
    "eq['nu2(x,y)'] = Eq(nu[2], -Derivative(x,t)*sin(alpha) + Derivative(y,t)*cos(alpha))"
   ]
  },
  {
   "cell_type": "code",
   "execution_count": 76,
   "metadata": {},
   "outputs": [],
   "source": [
    "eq['diff_x(nu1,nu2)'], eq['diff_y(nu1,nu2)'] = linsolve([eq['nu1(x,y)'], eq['nu2(x,y)']], (Derivative(x, t), Derivative(y, t))).args[0]"
   ]
  },
  {
   "cell_type": "markdown",
   "metadata": {},
   "source": [
    "### L"
   ]
  },
  {
   "cell_type": "code",
   "execution_count": 30,
   "metadata": {},
   "outputs": [],
   "source": [
    "L = Symbol('L')"
   ]
  },
  {
   "cell_type": "code",
   "execution_count": 31,
   "metadata": {},
   "outputs": [],
   "source": [
    "i = 0\n",
    "\n",
    "pl = m['platform']/2*(Derivative(x, t)**2 + Derivative(y, t)**2)\n",
    "pl += (J['platform']*omega['platform'](0)).dot(omega['platform'](0))/2\n",
    "\n",
    "wh = m['wheel']/2*(MatrixElDerivative(Matrix([x,y,0]) + SP(i) + PC(i))).dot(MatrixElDerivative(Matrix([x,y,0]) + SP(i) + PC(i)))\n",
    "wh += (J['wheel']*omega['wheel_in'](0)).dot(omega['wheel_in'](0))/2\n",
    "\n"
   ]
  },
  {
   "cell_type": "code",
   "execution_count": 32,
   "metadata": {},
   "outputs": [
    {
     "data": {
      "text/latex": [
       "$\\displaystyle L = \\frac{a \\left(\\frac{d}{d t} \\alpha{\\left(t \\right)}\\right)^{2}}{2} + \\frac{b \\left(\\frac{d}{d t} \\alpha{\\left(t \\right)} + \\frac{d}{d t} \\theta_{0}{\\left(t \\right)}\\right)^{2}}{2} + \\frac{c \\left(\\frac{d}{d t} \\psi_{0}{\\left(t \\right)}\\right)^{2}}{2} + \\frac{m_{1} \\left(\\left(\\frac{d}{d t} x{\\left(t \\right)}\\right)^{2} + \\left(\\frac{d}{d t} y{\\left(t \\right)}\\right)^{2}\\right)}{2} + \\frac{m_{2} \\left(\\left(R \\left(- \\sin{\\left(\\beta_{0} \\right)} \\sin{\\left(\\alpha{\\left(t \\right)} \\right)} \\frac{d}{d t} \\alpha{\\left(t \\right)} + \\cos{\\left(\\beta_{0} \\right)} \\cos{\\left(\\alpha{\\left(t \\right)} \\right)} \\frac{d}{d t} \\alpha{\\left(t \\right)}\\right) + d \\left(- \\sin{\\left(\\alpha{\\left(t \\right)} \\right)} \\sin{\\left(\\theta_{0}{\\left(t \\right)} \\right)} \\frac{d}{d t} \\alpha{\\left(t \\right)} - \\sin{\\left(\\alpha{\\left(t \\right)} \\right)} \\sin{\\left(\\theta_{0}{\\left(t \\right)} \\right)} \\frac{d}{d t} \\theta_{0}{\\left(t \\right)} + \\cos{\\left(\\alpha{\\left(t \\right)} \\right)} \\cos{\\left(\\theta_{0}{\\left(t \\right)} \\right)} \\frac{d}{d t} \\alpha{\\left(t \\right)} + \\cos{\\left(\\alpha{\\left(t \\right)} \\right)} \\cos{\\left(\\theta_{0}{\\left(t \\right)} \\right)} \\frac{d}{d t} \\theta_{0}{\\left(t \\right)}\\right) + \\frac{d}{d t} y{\\left(t \\right)}\\right)^{2} + \\left(R \\left(- \\sin{\\left(\\beta_{0} \\right)} \\cos{\\left(\\alpha{\\left(t \\right)} \\right)} \\frac{d}{d t} \\alpha{\\left(t \\right)} - \\sin{\\left(\\alpha{\\left(t \\right)} \\right)} \\cos{\\left(\\beta_{0} \\right)} \\frac{d}{d t} \\alpha{\\left(t \\right)}\\right) + d \\left(- \\sin{\\left(\\alpha{\\left(t \\right)} \\right)} \\cos{\\left(\\theta_{0}{\\left(t \\right)} \\right)} \\frac{d}{d t} \\alpha{\\left(t \\right)} - \\sin{\\left(\\alpha{\\left(t \\right)} \\right)} \\cos{\\left(\\theta_{0}{\\left(t \\right)} \\right)} \\frac{d}{d t} \\theta_{0}{\\left(t \\right)} - \\sin{\\left(\\theta_{0}{\\left(t \\right)} \\right)} \\cos{\\left(\\alpha{\\left(t \\right)} \\right)} \\frac{d}{d t} \\alpha{\\left(t \\right)} - \\sin{\\left(\\theta_{0}{\\left(t \\right)} \\right)} \\cos{\\left(\\alpha{\\left(t \\right)} \\right)} \\frac{d}{d t} \\theta_{0}{\\left(t \\right)}\\right) + \\frac{d}{d t} x{\\left(t \\right)}\\right)^{2}\\right)}{2}$"
      ],
      "text/plain": [
       "Eq(L, a*Derivative(alpha(t), t)**2/2 + b*(Derivative(alpha(t), t) + Derivative(theta0(t), t))**2/2 + c*Derivative(psi0(t), t)**2/2 + m1*(Derivative(x(t), t)**2 + Derivative(y(t), t)**2)/2 + m2*((R*(-sin(beta0)*sin(alpha(t))*Derivative(alpha(t), t) + cos(beta0)*cos(alpha(t))*Derivative(alpha(t), t)) + d*(-sin(alpha(t))*sin(theta0(t))*Derivative(alpha(t), t) - sin(alpha(t))*sin(theta0(t))*Derivative(theta0(t), t) + cos(alpha(t))*cos(theta0(t))*Derivative(alpha(t), t) + cos(alpha(t))*cos(theta0(t))*Derivative(theta0(t), t)) + Derivative(y(t), t))**2 + (R*(-sin(beta0)*cos(alpha(t))*Derivative(alpha(t), t) - sin(alpha(t))*cos(beta0)*Derivative(alpha(t), t)) + d*(-sin(alpha(t))*cos(theta0(t))*Derivative(alpha(t), t) - sin(alpha(t))*cos(theta0(t))*Derivative(theta0(t), t) - sin(theta0(t))*cos(alpha(t))*Derivative(alpha(t), t) - sin(theta0(t))*cos(alpha(t))*Derivative(theta0(t), t)) + Derivative(x(t), t))**2)/2)"
      ]
     },
     "execution_count": 32,
     "metadata": {},
     "output_type": "execute_result"
    }
   ],
   "source": [
    "L = Eq(L, pl + wh)\n",
    "L"
   ]
  },
  {
   "cell_type": "code",
   "execution_count": 33,
   "metadata": {},
   "outputs": [
    {
     "name": "stdout",
     "output_type": "stream",
     "text": [
      "CPU times: user 21.2 s, sys: 15.2 ms, total: 21.3 s\n",
      "Wall time: 21.4 s\n"
     ]
    }
   ],
   "source": [
    "%%time\n",
    "sL = simplify(L)"
   ]
  },
  {
   "cell_type": "code",
   "execution_count": 34,
   "metadata": {},
   "outputs": [
    {
     "data": {
      "text/latex": [
       "$\\displaystyle L = \\frac{a \\left(\\frac{d}{d t} \\alpha{\\left(t \\right)}\\right)^{2}}{2} + \\frac{b \\left(\\frac{d}{d t} \\alpha{\\left(t \\right)} + \\frac{d}{d t} \\theta_{0}{\\left(t \\right)}\\right)^{2}}{2} + \\frac{c \\left(\\frac{d}{d t} \\psi_{0}{\\left(t \\right)}\\right)^{2}}{2} + \\frac{m_{1} \\left(\\left(\\frac{d}{d t} x{\\left(t \\right)}\\right)^{2} + \\left(\\frac{d}{d t} y{\\left(t \\right)}\\right)^{2}\\right)}{2} + \\frac{m_{2} \\left(\\left(R \\sin{\\left(\\beta_{0} + \\alpha{\\left(t \\right)} \\right)} \\frac{d}{d t} \\alpha{\\left(t \\right)} + d \\left(\\frac{d}{d t} \\alpha{\\left(t \\right)} + \\frac{d}{d t} \\theta_{0}{\\left(t \\right)}\\right) \\sin{\\left(\\alpha{\\left(t \\right)} + \\theta_{0}{\\left(t \\right)} \\right)} - \\frac{d}{d t} x{\\left(t \\right)}\\right)^{2} + \\left(R \\cos{\\left(\\beta_{0} + \\alpha{\\left(t \\right)} \\right)} \\frac{d}{d t} \\alpha{\\left(t \\right)} + d \\left(\\frac{d}{d t} \\alpha{\\left(t \\right)} + \\frac{d}{d t} \\theta_{0}{\\left(t \\right)}\\right) \\cos{\\left(\\alpha{\\left(t \\right)} + \\theta_{0}{\\left(t \\right)} \\right)} + \\frac{d}{d t} y{\\left(t \\right)}\\right)^{2}\\right)}{2}$"
      ],
      "text/plain": [
       "Eq(L, a*Derivative(alpha(t), t)**2/2 + b*(Derivative(alpha(t), t) + Derivative(theta0(t), t))**2/2 + c*Derivative(psi0(t), t)**2/2 + m1*(Derivative(x(t), t)**2 + Derivative(y(t), t)**2)/2 + m2*((R*sin(beta0 + alpha(t))*Derivative(alpha(t), t) + d*(Derivative(alpha(t), t) + Derivative(theta0(t), t))*sin(alpha(t) + theta0(t)) - Derivative(x(t), t))**2 + (R*cos(beta0 + alpha(t))*Derivative(alpha(t), t) + d*(Derivative(alpha(t), t) + Derivative(theta0(t), t))*cos(alpha(t) + theta0(t)) + Derivative(y(t), t))**2)/2)"
      ]
     },
     "execution_count": 34,
     "metadata": {},
     "output_type": "execute_result"
    }
   ],
   "source": [
    "sL"
   ]
  },
  {
   "cell_type": "markdown",
   "metadata": {},
   "source": [
    "### Определим связи "
   ]
  },
  {
   "cell_type": "code",
   "execution_count": 35,
   "metadata": {},
   "outputs": [],
   "source": [
    "conn1 = Eq(Derivative(x, t), eq['diff_x(nu1,nu2)'])\n",
    "conn2 = Eq(Derivative(y, t), eq['diff_y(nu1,nu2)'])\n",
    "conn3 = Eq(Derivative(alpha, t), nu[3])\n",
    "conn4 = Eq(Derivative(theta[0], t), simplify(eq['diff(theta)_nu'](0))).subs({Derivative(alpha, t): nu[3]})\n",
    "conn5 = Eq(Derivative(psi[0], t), simplify(eq['diff(psi)_nu'](0))).subs({Derivative(alpha, t): nu[3]})"
   ]
  },
  {
   "cell_type": "code",
   "execution_count": 36,
   "metadata": {},
   "outputs": [
    {
     "data": {
      "text/latex": [
       "$\\displaystyle \\frac{d}{d t} x{\\left(t \\right)} = \\nu_{1}{\\left(t \\right)} \\cos{\\left(\\alpha{\\left(t \\right)} \\right)} - \\nu_{2}{\\left(t \\right)} \\sin{\\left(\\alpha{\\left(t \\right)} \\right)}$"
      ],
      "text/plain": [
       "Eq(Derivative(x(t), t), nu1(t)*cos(alpha(t)) - nu2(t)*sin(alpha(t)))"
      ]
     },
     "metadata": {},
     "output_type": "display_data"
    },
    {
     "data": {
      "text/latex": [
       "$\\displaystyle \\frac{d}{d t} y{\\left(t \\right)} = \\nu_{1}{\\left(t \\right)} \\sin{\\left(\\alpha{\\left(t \\right)} \\right)} + \\nu_{2}{\\left(t \\right)} \\cos{\\left(\\alpha{\\left(t \\right)} \\right)}$"
      ],
      "text/plain": [
       "Eq(Derivative(y(t), t), nu1(t)*sin(alpha(t)) + nu2(t)*cos(alpha(t)))"
      ]
     },
     "metadata": {},
     "output_type": "display_data"
    },
    {
     "data": {
      "text/latex": [
       "$\\displaystyle \\frac{d}{d t} \\alpha{\\left(t \\right)} = \\nu_{3}{\\left(t \\right)}$"
      ],
      "text/plain": [
       "Eq(Derivative(alpha(t), t), nu3(t))"
      ]
     },
     "metadata": {},
     "output_type": "display_data"
    },
    {
     "data": {
      "text/latex": [
       "$\\displaystyle \\frac{d}{d t} \\theta_{0}{\\left(t \\right)} = \\frac{- R \\nu_{3}{\\left(t \\right)} \\cos{\\left(\\beta_{0} - \\theta_{0}{\\left(t \\right)} \\right)} - d \\nu_{3}{\\left(t \\right)} + \\nu_{1}{\\left(t \\right)} \\sin{\\left(\\theta_{0}{\\left(t \\right)} \\right)} - \\nu_{2}{\\left(t \\right)} \\cos{\\left(\\theta_{0}{\\left(t \\right)} \\right)}}{d}$"
      ],
      "text/plain": [
       "Eq(Derivative(theta0(t), t), (-R*nu3(t)*cos(beta0 - theta0(t)) - d*nu3(t) + nu1(t)*sin(theta0(t)) - nu2(t)*cos(theta0(t)))/d)"
      ]
     },
     "metadata": {},
     "output_type": "display_data"
    },
    {
     "data": {
      "text/latex": [
       "$\\displaystyle \\frac{d}{d t} \\psi_{0}{\\left(t \\right)} = \\frac{- R \\nu_{3}{\\left(t \\right)} \\sin{\\left(\\beta_{0} - \\theta_{0}{\\left(t \\right)} \\right)} + \\nu_{1}{\\left(t \\right)} \\cos{\\left(\\theta_{0}{\\left(t \\right)} \\right)} + \\nu_{2}{\\left(t \\right)} \\sin{\\left(\\theta_{0}{\\left(t \\right)} \\right)}}{r}$"
      ],
      "text/plain": [
       "Eq(Derivative(psi0(t), t), (-R*nu3(t)*sin(beta0 - theta0(t)) + nu1(t)*cos(theta0(t)) + nu2(t)*sin(theta0(t)))/r)"
      ]
     },
     "metadata": {},
     "output_type": "display_data"
    }
   ],
   "source": [
    "for conn in [conn1, conn2, conn3, conn4, conn5]:\n",
    "    display(conn)"
   ]
  },
  {
   "cell_type": "markdown",
   "metadata": {},
   "source": [
    "## Заполним что нужно (связи, уравнения для $\\omega_i$, $v_i$, $F$)"
   ]
  },
  {
   "cell_type": "markdown",
   "metadata": {},
   "source": [
    "### Создадим объект для механической системы с уравнениями Татаринова "
   ]
  },
  {
   "cell_type": "code",
   "execution_count": 37,
   "metadata": {},
   "outputs": [],
   "source": [
    "S = TatarinovSystem()"
   ]
  },
  {
   "cell_type": "code",
   "execution_count": 38,
   "metadata": {},
   "outputs": [],
   "source": [
    "S.set_L(sL)"
   ]
  },
  {
   "cell_type": "code",
   "execution_count": 39,
   "metadata": {},
   "outputs": [
    {
     "data": {
      "text/plain": [
       "[Eq(Derivative(x(t), t), nu1(t)*cos(alpha(t)) - nu2(t)*sin(alpha(t))),\n",
       " Eq(Derivative(y(t), t), nu1(t)*sin(alpha(t)) + nu2(t)*cos(alpha(t))),\n",
       " Eq(Derivative(alpha(t), t), nu3(t)),\n",
       " Eq(Derivative(theta0(t), t), (-R*nu3(t)*cos(beta0 - theta0(t)) - d*nu3(t) + nu1(t)*sin(theta0(t)) - nu2(t)*cos(theta0(t)))/d),\n",
       " Eq(Derivative(psi0(t), t), (-R*nu3(t)*sin(beta0 - theta0(t)) + nu1(t)*cos(theta0(t)) + nu2(t)*sin(theta0(t)))/r)]"
      ]
     },
     "execution_count": 39,
     "metadata": {},
     "output_type": "execute_result"
    }
   ],
   "source": [
    "S.set_constraints([conn1, conn2, conn3, conn4, conn5])\n",
    "S.constraints"
   ]
  },
  {
   "cell_type": "code",
   "execution_count": 40,
   "metadata": {},
   "outputs": [
    {
     "name": "stdout",
     "output_type": "stream",
     "text": [
      "CPU times: user 2min 49s, sys: 43.7 ms, total: 2min 49s\n",
      "Wall time: 2min 49s\n"
     ]
    }
   ],
   "source": [
    "%%time\n",
    "sL_star = S.set_L_star(S.sub_constraints(sL))"
   ]
  },
  {
   "cell_type": "code",
   "execution_count": 41,
   "metadata": {},
   "outputs": [],
   "source": [
    "S.set_p([p[1], p[2], p[3]]) # это скорее внутренняя переменная и её не надо задавать here \n",
    "S.set_q([x, y, alpha, theta[0], psi[0]])"
   ]
  },
  {
   "cell_type": "code",
   "execution_count": 42,
   "metadata": {},
   "outputs": [
    {
     "data": {
      "text/plain": [
       "[Eq(omega[1], nu1(t)), Eq(omega[2], nu2(t)), Eq(omega[3], nu3(t))]"
      ]
     },
     "execution_count": 42,
     "metadata": {},
     "output_type": "execute_result"
    }
   ],
   "source": [
    "S.set_omega_equations(omegas=[_omega[1], _omega[2], _omega[3]],\n",
    "                      equations=[nu[1], nu[2], nu[3]])\n",
    "S.omega_equations"
   ]
  },
  {
   "cell_type": "code",
   "execution_count": 43,
   "metadata": {},
   "outputs": [
    {
     "data": {
      "text/plain": [
       "[Eq(v[1], Derivative(x(t), t)),\n",
       " Eq(v[2], Derivative(y(t), t)),\n",
       " Eq(v[3], Derivative(alpha(t), t)),\n",
       " Eq(v[4], Derivative(theta0(t), t)),\n",
       " Eq(v[5], Derivative(psi0(t), t))]"
      ]
     },
     "execution_count": 43,
     "metadata": {},
     "output_type": "execute_result"
    }
   ],
   "source": [
    "S.set_v_equations(vs=[_v[1], _v[2], _v[3], _v[4], _v[5]],\n",
    "                  equations=[Derivative(x, t), Derivative(y, t), Derivative(alpha, t), Derivative(theta[0], t), Derivative(psi[0], t)])\n",
    "S.v_equations"
   ]
  },
  {
   "cell_type": "markdown",
   "metadata": {},
   "source": [
    "### Создадим $P_{\\alpha}$"
   ]
  },
  {
   "cell_type": "code",
   "execution_count": 44,
   "metadata": {},
   "outputs": [
    {
     "name": "stdout",
     "output_type": "stream",
     "text": [
      "Eq(Sum(P[k]*omega[k], (k, 1, 3)), Sum(p[k]*v[k], (k, 1, 3)))\n",
      "Eq(nu1(t)*P[1] + nu2(t)*P[2] + nu3(t)*P[3], (nu1(t)*sin(alpha(t)) + nu2(t)*cos(alpha(t)))*p[2] + (nu1(t)*cos(alpha(t)) - nu2(t)*sin(alpha(t)))*p[1] + nu3(t)*p[3])\n"
     ]
    },
    {
     "data": {
      "text/plain": [
       "[Eq(P[1], sin(alpha(t))*p[2] + cos(alpha(t))*p[1]),\n",
       " Eq(P[2], -sin(alpha(t))*p[1] + cos(alpha(t))*p[2]),\n",
       " Eq(P[3], p[3])]"
      ]
     },
     "execution_count": 44,
     "metadata": {},
     "output_type": "execute_result"
    }
   ],
   "source": [
    "Ps = S.create_P()\n",
    "Ps"
   ]
  },
  {
   "cell_type": "markdown",
   "metadata": {},
   "source": [
    "### Создадим $Q_i$"
   ]
  },
  {
   "cell_type": "code",
   "execution_count": 45,
   "metadata": {},
   "outputs": [],
   "source": [
    "# F = Matrix([0,0,0])\n",
    "# S.set_F(F)\n",
    "\n",
    "# S.create_Q(S.F, S.create_r()['p'])\n",
    "# S.Q\n",
    "\n",
    "S.set_Q([0,0,0,W[1],T[1]])"
   ]
  },
  {
   "cell_type": "code",
   "execution_count": 46,
   "metadata": {},
   "outputs": [
    {
     "data": {
      "text/latex": [
       "$\\displaystyle \\frac{\\operatorname{T_{1}}{\\left(t \\right)} \\cos{\\left(\\theta_{0}{\\left(t \\right)} \\right)}}{r} + \\frac{\\operatorname{W_{1}}{\\left(t \\right)} \\sin{\\left(\\theta_{0}{\\left(t \\right)} \\right)}}{d}$"
      ],
      "text/plain": [
       "T1(t)*cos(theta0(t))/r + W1(t)*sin(theta0(t))/d"
      ]
     },
     "metadata": {},
     "output_type": "display_data"
    },
    {
     "data": {
      "text/latex": [
       "$\\displaystyle \\frac{\\operatorname{T_{1}}{\\left(t \\right)} \\sin{\\left(\\theta_{0}{\\left(t \\right)} \\right)}}{r} - \\frac{\\operatorname{W_{1}}{\\left(t \\right)} \\cos{\\left(\\theta_{0}{\\left(t \\right)} \\right)}}{d}$"
      ],
      "text/plain": [
       "T1(t)*sin(theta0(t))/r - W1(t)*cos(theta0(t))/d"
      ]
     },
     "metadata": {},
     "output_type": "display_data"
    },
    {
     "data": {
      "text/latex": [
       "$\\displaystyle - \\frac{R \\operatorname{T_{1}}{\\left(t \\right)} \\sin{\\left(\\beta_{0} - \\theta_{0}{\\left(t \\right)} \\right)}}{r} + \\frac{\\left(- R \\cos{\\left(\\beta_{0} - \\theta_{0}{\\left(t \\right)} \\right)} - d\\right) \\operatorname{W_{1}}{\\left(t \\right)}}{d}$"
      ],
      "text/plain": [
       "-R*T1(t)*sin(beta0 - theta0(t))/r + (-R*cos(beta0 - theta0(t)) - d)*W1(t)/d"
      ]
     },
     "metadata": {},
     "output_type": "display_data"
    }
   ],
   "source": [
    "for i in range(3):\n",
    "    display(S.Q_dw_by_dv(i))"
   ]
  },
  {
   "cell_type": "markdown",
   "metadata": {},
   "source": [
    "### Получаем уравнения"
   ]
  },
  {
   "cell_type": "markdown",
   "metadata": {},
   "source": [
    "## Equations"
   ]
  },
  {
   "cell_type": "code",
   "execution_count": 175,
   "metadata": {
    "scrolled": true
   },
   "outputs": [
    {
     "data": {
      "text/latex": [
       "$\\displaystyle \\frac{b r^{2} \\left(R \\nu_{3}{\\left(t \\right)} \\cos{\\left(\\beta_{0} - \\theta_{0}{\\left(t \\right)} \\right)} - \\nu_{1}{\\left(t \\right)} \\sin{\\left(\\theta_{0}{\\left(t \\right)} \\right)} + \\nu_{2}{\\left(t \\right)} \\cos{\\left(\\theta_{0}{\\left(t \\right)} \\right)}\\right) \\left(R \\nu_{3}{\\left(t \\right)} \\cos{\\left(\\beta_{0} - \\theta_{0}{\\left(t \\right)} \\right)} + d \\nu_{3}{\\left(t \\right)} - \\nu_{1}{\\left(t \\right)} \\sin{\\left(\\theta_{0}{\\left(t \\right)} \\right)} + \\nu_{2}{\\left(t \\right)} \\cos{\\left(\\theta_{0}{\\left(t \\right)} \\right)}\\right) \\cos{\\left(\\theta_{0}{\\left(t \\right)} \\right)} - b r^{2} \\left(- \\frac{R^{2} \\nu_{3}^{2}{\\left(t \\right)} \\sin{\\left(2 \\beta_{0} - 2 \\theta_{0}{\\left(t \\right)} \\right)}}{2} - R d \\nu_{3}^{2}{\\left(t \\right)} \\sin{\\left(\\beta_{0} - \\theta_{0}{\\left(t \\right)} \\right)} + R d \\cos{\\left(\\beta_{0} - \\theta_{0}{\\left(t \\right)} \\right)} \\frac{d}{d t} \\nu_{3}{\\left(t \\right)} + R \\nu_{1}{\\left(t \\right)} \\nu_{3}{\\left(t \\right)} \\cos{\\left(\\beta_{0} - 2 \\theta_{0}{\\left(t \\right)} \\right)} - R \\nu_{2}{\\left(t \\right)} \\nu_{3}{\\left(t \\right)} \\sin{\\left(\\beta_{0} - 2 \\theta_{0}{\\left(t \\right)} \\right)} + d \\nu_{1}{\\left(t \\right)} \\nu_{3}{\\left(t \\right)} \\cos{\\left(\\theta_{0}{\\left(t \\right)} \\right)} + d \\nu_{2}{\\left(t \\right)} \\nu_{3}{\\left(t \\right)} \\sin{\\left(\\theta_{0}{\\left(t \\right)} \\right)} - d \\sin{\\left(\\theta_{0}{\\left(t \\right)} \\right)} \\frac{d}{d t} \\nu_{1}{\\left(t \\right)} + d \\cos{\\left(\\theta_{0}{\\left(t \\right)} \\right)} \\frac{d}{d t} \\nu_{2}{\\left(t \\right)} - \\frac{\\nu_{1}^{2}{\\left(t \\right)} \\sin{\\left(2 \\theta_{0}{\\left(t \\right)} \\right)}}{2} + \\nu_{1}{\\left(t \\right)} \\nu_{2}{\\left(t \\right)} \\cos{\\left(2 \\theta_{0}{\\left(t \\right)} \\right)} + \\frac{\\nu_{2}^{2}{\\left(t \\right)} \\sin{\\left(2 \\theta_{0}{\\left(t \\right)} \\right)}}{2}\\right) \\sin{\\left(\\theta_{0}{\\left(t \\right)} \\right)} + \\frac{d^{2} \\left(2 c \\left(- R \\nu_{3}{\\left(t \\right)} \\sin{\\left(\\beta_{0} - \\theta_{0}{\\left(t \\right)} \\right)} + \\nu_{1}{\\left(t \\right)} \\cos{\\left(\\theta_{0}{\\left(t \\right)} \\right)} + \\nu_{2}{\\left(t \\right)} \\sin{\\left(\\theta_{0}{\\left(t \\right)} \\right)}\\right) \\left(R \\nu_{3}{\\left(t \\right)} \\cos{\\left(\\beta_{0} - \\theta_{0}{\\left(t \\right)} \\right)} + d \\nu_{3}{\\left(t \\right)} - \\nu_{1}{\\left(t \\right)} \\sin{\\left(\\theta_{0}{\\left(t \\right)} \\right)} + \\nu_{2}{\\left(t \\right)} \\cos{\\left(\\theta_{0}{\\left(t \\right)} \\right)}\\right) \\sin{\\left(\\theta_{0}{\\left(t \\right)} \\right)} + 2 c \\left(- R \\left(R \\nu_{3}{\\left(t \\right)} \\cos{\\left(\\beta_{0} - \\theta_{0}{\\left(t \\right)} \\right)} + d \\nu_{3}{\\left(t \\right)} - \\nu_{1}{\\left(t \\right)} \\sin{\\left(\\theta_{0}{\\left(t \\right)} \\right)} + \\nu_{2}{\\left(t \\right)} \\cos{\\left(\\theta_{0}{\\left(t \\right)} \\right)}\\right) \\nu_{3}{\\left(t \\right)} \\cos{\\left(\\beta_{0} - \\theta_{0}{\\left(t \\right)} \\right)} + d \\left(- R \\sin{\\left(\\beta_{0} - \\theta_{0}{\\left(t \\right)} \\right)} \\frac{d}{d t} \\nu_{3}{\\left(t \\right)} + \\sin{\\left(\\theta_{0}{\\left(t \\right)} \\right)} \\frac{d}{d t} \\nu_{2}{\\left(t \\right)} + \\cos{\\left(\\theta_{0}{\\left(t \\right)} \\right)} \\frac{d}{d t} \\nu_{1}{\\left(t \\right)}\\right) + \\left(R \\nu_{3}{\\left(t \\right)} \\cos{\\left(\\beta_{0} - \\theta_{0}{\\left(t \\right)} \\right)} + d \\nu_{3}{\\left(t \\right)} - \\nu_{1}{\\left(t \\right)} \\sin{\\left(\\theta_{0}{\\left(t \\right)} \\right)} + \\nu_{2}{\\left(t \\right)} \\cos{\\left(\\theta_{0}{\\left(t \\right)} \\right)}\\right) \\nu_{1}{\\left(t \\right)} \\sin{\\left(\\theta_{0}{\\left(t \\right)} \\right)} - \\left(R \\nu_{3}{\\left(t \\right)} \\cos{\\left(\\beta_{0} - \\theta_{0}{\\left(t \\right)} \\right)} + d \\nu_{3}{\\left(t \\right)} - \\nu_{1}{\\left(t \\right)} \\sin{\\left(\\theta_{0}{\\left(t \\right)} \\right)} + \\nu_{2}{\\left(t \\right)} \\cos{\\left(\\theta_{0}{\\left(t \\right)} \\right)}\\right) \\nu_{2}{\\left(t \\right)} \\cos{\\left(\\theta_{0}{\\left(t \\right)} \\right)}\\right) \\cos{\\left(\\theta_{0}{\\left(t \\right)} \\right)} + r^{2} \\left(2 d m_{1} \\frac{d}{d t} \\nu_{1}{\\left(t \\right)} + m_{2} \\left(- 2 R \\left(R \\nu_{3}{\\left(t \\right)} \\cos{\\left(\\beta_{0} - \\theta_{0}{\\left(t \\right)} \\right)} + d \\nu_{3}{\\left(t \\right)} - \\nu_{1}{\\left(t \\right)} \\sin{\\left(\\theta_{0}{\\left(t \\right)} \\right)} + \\nu_{2}{\\left(t \\right)} \\cos{\\left(\\theta_{0}{\\left(t \\right)} \\right)}\\right) \\nu_{3}{\\left(t \\right)} \\cos{\\left(\\beta_{0} - 2 \\theta_{0}{\\left(t \\right)} \\right)} + d \\left(- R \\sin{\\left(\\beta_{0} \\right)} \\frac{d}{d t} \\nu_{3}{\\left(t \\right)} - R \\sin{\\left(\\beta_{0} - 2 \\theta_{0}{\\left(t \\right)} \\right)} \\frac{d}{d t} \\nu_{3}{\\left(t \\right)} + \\sin{\\left(2 \\theta_{0}{\\left(t \\right)} \\right)} \\frac{d}{d t} \\nu_{2}{\\left(t \\right)} + \\cos{\\left(2 \\theta_{0}{\\left(t \\right)} \\right)} \\frac{d}{d t} \\nu_{1}{\\left(t \\right)} + \\frac{d}{d t} \\nu_{1}{\\left(t \\right)}\\right) + 2 \\left(R \\nu_{3}{\\left(t \\right)} \\cos{\\left(\\beta_{0} - \\theta_{0}{\\left(t \\right)} \\right)} + d \\nu_{3}{\\left(t \\right)} - \\nu_{1}{\\left(t \\right)} \\sin{\\left(\\theta_{0}{\\left(t \\right)} \\right)} + \\nu_{2}{\\left(t \\right)} \\cos{\\left(\\theta_{0}{\\left(t \\right)} \\right)}\\right) \\nu_{1}{\\left(t \\right)} \\sin{\\left(2 \\theta_{0}{\\left(t \\right)} \\right)} - 2 \\left(R \\nu_{3}{\\left(t \\right)} \\cos{\\left(\\beta_{0} - \\theta_{0}{\\left(t \\right)} \\right)} + d \\nu_{3}{\\left(t \\right)} - \\nu_{1}{\\left(t \\right)} \\sin{\\left(\\theta_{0}{\\left(t \\right)} \\right)} + \\nu_{2}{\\left(t \\right)} \\cos{\\left(\\theta_{0}{\\left(t \\right)} \\right)}\\right) \\nu_{2}{\\left(t \\right)} \\cos{\\left(2 \\theta_{0}{\\left(t \\right)} \\right)}\\right)\\right)\\right)}{2}}{d^{3} r^{2}}$"
      ],
      "text/plain": [
       "(b*r**2*(R*nu3(t)*cos(beta0 - theta0(t)) - nu1(t)*sin(theta0(t)) + nu2(t)*cos(theta0(t)))*(R*nu3(t)*cos(beta0 - theta0(t)) + d*nu3(t) - nu1(t)*sin(theta0(t)) + nu2(t)*cos(theta0(t)))*cos(theta0(t)) - b*r**2*(-R**2*nu3(t)**2*sin(2*beta0 - 2*theta0(t))/2 - R*d*nu3(t)**2*sin(beta0 - theta0(t)) + R*d*cos(beta0 - theta0(t))*Derivative(nu3(t), t) + R*nu1(t)*nu3(t)*cos(beta0 - 2*theta0(t)) - R*nu2(t)*nu3(t)*sin(beta0 - 2*theta0(t)) + d*nu1(t)*nu3(t)*cos(theta0(t)) + d*nu2(t)*nu3(t)*sin(theta0(t)) - d*sin(theta0(t))*Derivative(nu1(t), t) + d*cos(theta0(t))*Derivative(nu2(t), t) - nu1(t)**2*sin(2*theta0(t))/2 + nu1(t)*nu2(t)*cos(2*theta0(t)) + nu2(t)**2*sin(2*theta0(t))/2)*sin(theta0(t)) + d**2*(2*c*(-R*nu3(t)*sin(beta0 - theta0(t)) + nu1(t)*cos(theta0(t)) + nu2(t)*sin(theta0(t)))*(R*nu3(t)*cos(beta0 - theta0(t)) + d*nu3(t) - nu1(t)*sin(theta0(t)) + nu2(t)*cos(theta0(t)))*sin(theta0(t)) + 2*c*(-R*(R*nu3(t)*cos(beta0 - theta0(t)) + d*nu3(t) - nu1(t)*sin(theta0(t)) + nu2(t)*cos(theta0(t)))*nu3(t)*cos(beta0 - theta0(t)) + d*(-R*sin(beta0 - theta0(t))*Derivative(nu3(t), t) + sin(theta0(t))*Derivative(nu2(t), t) + cos(theta0(t))*Derivative(nu1(t), t)) + (R*nu3(t)*cos(beta0 - theta0(t)) + d*nu3(t) - nu1(t)*sin(theta0(t)) + nu2(t)*cos(theta0(t)))*nu1(t)*sin(theta0(t)) - (R*nu3(t)*cos(beta0 - theta0(t)) + d*nu3(t) - nu1(t)*sin(theta0(t)) + nu2(t)*cos(theta0(t)))*nu2(t)*cos(theta0(t)))*cos(theta0(t)) + r**2*(2*d*m1*Derivative(nu1(t), t) + m2*(-2*R*(R*nu3(t)*cos(beta0 - theta0(t)) + d*nu3(t) - nu1(t)*sin(theta0(t)) + nu2(t)*cos(theta0(t)))*nu3(t)*cos(beta0 - 2*theta0(t)) + d*(-R*sin(beta0)*Derivative(nu3(t), t) - R*sin(beta0 - 2*theta0(t))*Derivative(nu3(t), t) + sin(2*theta0(t))*Derivative(nu2(t), t) + cos(2*theta0(t))*Derivative(nu1(t), t) + Derivative(nu1(t), t)) + 2*(R*nu3(t)*cos(beta0 - theta0(t)) + d*nu3(t) - nu1(t)*sin(theta0(t)) + nu2(t)*cos(theta0(t)))*nu1(t)*sin(2*theta0(t)) - 2*(R*nu3(t)*cos(beta0 - theta0(t)) + d*nu3(t) - nu1(t)*sin(theta0(t)) + nu2(t)*cos(theta0(t)))*nu2(t)*cos(2*theta0(t)))))/2)/(d**3*r**2)"
      ]
     },
     "metadata": {},
     "output_type": "display_data"
    },
    {
     "data": {
      "text/latex": [
       "$\\displaystyle \\left(- \\sin{\\left(\\alpha{\\left(t \\right)} \\right)} {p}_{1} + \\cos{\\left(\\alpha{\\left(t \\right)} \\right)} {p}_{2}\\right) \\nu_{3}{\\left(t \\right)} + \\frac{\\operatorname{T_{1}}{\\left(t \\right)} \\cos{\\left(\\theta_{0}{\\left(t \\right)} \\right)}}{r} + \\frac{\\operatorname{W_{1}}{\\left(t \\right)} \\sin{\\left(\\theta_{0}{\\left(t \\right)} \\right)}}{d}$"
      ],
      "text/plain": [
       "(-sin(alpha(t))*p[1] + cos(alpha(t))*p[2])*nu3(t) + T1(t)*cos(theta0(t))/r + W1(t)*sin(theta0(t))/d"
      ]
     },
     "metadata": {},
     "output_type": "display_data"
    },
    {
     "name": "stdout",
     "output_type": "stream",
     "text": [
      "CPU times: user 12min, sys: 5.82 s, total: 12min 6s\n",
      "Wall time: 12min 30s\n"
     ]
    },
    {
     "data": {
      "text/latex": [
       "$\\displaystyle \\frac{\\frac{d r \\left(R m_{2} \\nu_{3}{\\left(t \\right)} \\cos{\\left(\\beta_{0} \\right)} - R m_{2} \\nu_{3}{\\left(t \\right)} \\cos{\\left(\\beta_{0} - 2 \\theta_{0}{\\left(t \\right)} \\right)} + 2 m_{1} \\nu_{2}{\\left(t \\right)} + m_{2} \\nu_{1}{\\left(t \\right)} \\sin{\\left(2 \\theta_{0}{\\left(t \\right)} \\right)} - m_{2} \\nu_{2}{\\left(t \\right)} \\cos{\\left(2 \\theta_{0}{\\left(t \\right)} \\right)} + m_{2} \\nu_{2}{\\left(t \\right)}\\right) \\nu_{3}{\\left(t \\right)}}{2} + d \\operatorname{T_{1}}{\\left(t \\right)} \\cos{\\left(\\theta_{0}{\\left(t \\right)} \\right)} + r \\operatorname{W_{1}}{\\left(t \\right)} \\sin{\\left(\\theta_{0}{\\left(t \\right)} \\right)}}{d r} = \\frac{b r^{2} \\left(R \\nu_{3}{\\left(t \\right)} \\cos{\\left(\\beta_{0} - \\theta_{0}{\\left(t \\right)} \\right)} - \\nu_{1}{\\left(t \\right)} \\sin{\\left(\\theta_{0}{\\left(t \\right)} \\right)} + \\nu_{2}{\\left(t \\right)} \\cos{\\left(\\theta_{0}{\\left(t \\right)} \\right)}\\right) \\left(R \\nu_{3}{\\left(t \\right)} \\cos{\\left(\\beta_{0} - \\theta_{0}{\\left(t \\right)} \\right)} + d \\nu_{3}{\\left(t \\right)} - \\nu_{1}{\\left(t \\right)} \\sin{\\left(\\theta_{0}{\\left(t \\right)} \\right)} + \\nu_{2}{\\left(t \\right)} \\cos{\\left(\\theta_{0}{\\left(t \\right)} \\right)}\\right) \\cos{\\left(\\theta_{0}{\\left(t \\right)} \\right)} - \\frac{b r^{2} \\left(- R^{2} \\nu_{3}^{2}{\\left(t \\right)} \\sin{\\left(2 \\beta_{0} - 2 \\theta_{0}{\\left(t \\right)} \\right)} - 2 R d \\nu_{3}^{2}{\\left(t \\right)} \\sin{\\left(\\beta_{0} - \\theta_{0}{\\left(t \\right)} \\right)} + 2 R d \\cos{\\left(\\beta_{0} - \\theta_{0}{\\left(t \\right)} \\right)} \\frac{d}{d t} \\nu_{3}{\\left(t \\right)} + 2 R \\nu_{1}{\\left(t \\right)} \\nu_{3}{\\left(t \\right)} \\cos{\\left(\\beta_{0} - 2 \\theta_{0}{\\left(t \\right)} \\right)} - 2 R \\nu_{2}{\\left(t \\right)} \\nu_{3}{\\left(t \\right)} \\sin{\\left(\\beta_{0} - 2 \\theta_{0}{\\left(t \\right)} \\right)} + 2 d \\nu_{1}{\\left(t \\right)} \\nu_{3}{\\left(t \\right)} \\cos{\\left(\\theta_{0}{\\left(t \\right)} \\right)} + 2 d \\nu_{2}{\\left(t \\right)} \\nu_{3}{\\left(t \\right)} \\sin{\\left(\\theta_{0}{\\left(t \\right)} \\right)} - 2 d \\sin{\\left(\\theta_{0}{\\left(t \\right)} \\right)} \\frac{d}{d t} \\nu_{1}{\\left(t \\right)} + 2 d \\cos{\\left(\\theta_{0}{\\left(t \\right)} \\right)} \\frac{d}{d t} \\nu_{2}{\\left(t \\right)} - \\nu_{1}^{2}{\\left(t \\right)} \\sin{\\left(2 \\theta_{0}{\\left(t \\right)} \\right)} + 2 \\nu_{1}{\\left(t \\right)} \\nu_{2}{\\left(t \\right)} \\cos{\\left(2 \\theta_{0}{\\left(t \\right)} \\right)} + \\nu_{2}^{2}{\\left(t \\right)} \\sin{\\left(2 \\theta_{0}{\\left(t \\right)} \\right)}\\right) \\sin{\\left(\\theta_{0}{\\left(t \\right)} \\right)}}{2} + \\frac{d^{2} \\left(2 c \\left(- R \\nu_{3}{\\left(t \\right)} \\sin{\\left(\\beta_{0} - \\theta_{0}{\\left(t \\right)} \\right)} + \\nu_{1}{\\left(t \\right)} \\cos{\\left(\\theta_{0}{\\left(t \\right)} \\right)} + \\nu_{2}{\\left(t \\right)} \\sin{\\left(\\theta_{0}{\\left(t \\right)} \\right)}\\right) \\left(R \\nu_{3}{\\left(t \\right)} \\cos{\\left(\\beta_{0} - \\theta_{0}{\\left(t \\right)} \\right)} + d \\nu_{3}{\\left(t \\right)} - \\nu_{1}{\\left(t \\right)} \\sin{\\left(\\theta_{0}{\\left(t \\right)} \\right)} + \\nu_{2}{\\left(t \\right)} \\cos{\\left(\\theta_{0}{\\left(t \\right)} \\right)}\\right) \\sin{\\left(\\theta_{0}{\\left(t \\right)} \\right)} - 2 c \\left(R \\left(R \\nu_{3}{\\left(t \\right)} \\cos{\\left(\\beta_{0} - \\theta_{0}{\\left(t \\right)} \\right)} + d \\nu_{3}{\\left(t \\right)} - \\nu_{1}{\\left(t \\right)} \\sin{\\left(\\theta_{0}{\\left(t \\right)} \\right)} + \\nu_{2}{\\left(t \\right)} \\cos{\\left(\\theta_{0}{\\left(t \\right)} \\right)}\\right) \\nu_{3}{\\left(t \\right)} \\cos{\\left(\\beta_{0} - \\theta_{0}{\\left(t \\right)} \\right)} - d \\left(- R \\sin{\\left(\\beta_{0} - \\theta_{0}{\\left(t \\right)} \\right)} \\frac{d}{d t} \\nu_{3}{\\left(t \\right)} + \\sin{\\left(\\theta_{0}{\\left(t \\right)} \\right)} \\frac{d}{d t} \\nu_{2}{\\left(t \\right)} + \\cos{\\left(\\theta_{0}{\\left(t \\right)} \\right)} \\frac{d}{d t} \\nu_{1}{\\left(t \\right)}\\right) - \\left(R \\nu_{3}{\\left(t \\right)} \\cos{\\left(\\beta_{0} - \\theta_{0}{\\left(t \\right)} \\right)} + d \\nu_{3}{\\left(t \\right)} - \\nu_{1}{\\left(t \\right)} \\sin{\\left(\\theta_{0}{\\left(t \\right)} \\right)} + \\nu_{2}{\\left(t \\right)} \\cos{\\left(\\theta_{0}{\\left(t \\right)} \\right)}\\right) \\nu_{1}{\\left(t \\right)} \\sin{\\left(\\theta_{0}{\\left(t \\right)} \\right)} + \\left(R \\nu_{3}{\\left(t \\right)} \\cos{\\left(\\beta_{0} - \\theta_{0}{\\left(t \\right)} \\right)} + d \\nu_{3}{\\left(t \\right)} - \\nu_{1}{\\left(t \\right)} \\sin{\\left(\\theta_{0}{\\left(t \\right)} \\right)} + \\nu_{2}{\\left(t \\right)} \\cos{\\left(\\theta_{0}{\\left(t \\right)} \\right)}\\right) \\nu_{2}{\\left(t \\right)} \\cos{\\left(\\theta_{0}{\\left(t \\right)} \\right)}\\right) \\cos{\\left(\\theta_{0}{\\left(t \\right)} \\right)} + r^{2} \\left(2 d m_{1} \\frac{d}{d t} \\nu_{1}{\\left(t \\right)} - m_{2} \\left(2 R \\left(R \\nu_{3}{\\left(t \\right)} \\cos{\\left(\\beta_{0} - \\theta_{0}{\\left(t \\right)} \\right)} + d \\nu_{3}{\\left(t \\right)} - \\nu_{1}{\\left(t \\right)} \\sin{\\left(\\theta_{0}{\\left(t \\right)} \\right)} + \\nu_{2}{\\left(t \\right)} \\cos{\\left(\\theta_{0}{\\left(t \\right)} \\right)}\\right) \\nu_{3}{\\left(t \\right)} \\cos{\\left(\\beta_{0} - 2 \\theta_{0}{\\left(t \\right)} \\right)} - d \\left(- R \\sin{\\left(\\beta_{0} \\right)} \\frac{d}{d t} \\nu_{3}{\\left(t \\right)} - R \\sin{\\left(\\beta_{0} - 2 \\theta_{0}{\\left(t \\right)} \\right)} \\frac{d}{d t} \\nu_{3}{\\left(t \\right)} + \\sin{\\left(2 \\theta_{0}{\\left(t \\right)} \\right)} \\frac{d}{d t} \\nu_{2}{\\left(t \\right)} + \\cos{\\left(2 \\theta_{0}{\\left(t \\right)} \\right)} \\frac{d}{d t} \\nu_{1}{\\left(t \\right)} + \\frac{d}{d t} \\nu_{1}{\\left(t \\right)}\\right) - 2 \\left(R \\nu_{3}{\\left(t \\right)} \\cos{\\left(\\beta_{0} - \\theta_{0}{\\left(t \\right)} \\right)} + d \\nu_{3}{\\left(t \\right)} - \\nu_{1}{\\left(t \\right)} \\sin{\\left(\\theta_{0}{\\left(t \\right)} \\right)} + \\nu_{2}{\\left(t \\right)} \\cos{\\left(\\theta_{0}{\\left(t \\right)} \\right)}\\right) \\nu_{1}{\\left(t \\right)} \\sin{\\left(2 \\theta_{0}{\\left(t \\right)} \\right)} + 2 \\left(R \\nu_{3}{\\left(t \\right)} \\cos{\\left(\\beta_{0} - \\theta_{0}{\\left(t \\right)} \\right)} + d \\nu_{3}{\\left(t \\right)} - \\nu_{1}{\\left(t \\right)} \\sin{\\left(\\theta_{0}{\\left(t \\right)} \\right)} + \\nu_{2}{\\left(t \\right)} \\cos{\\left(\\theta_{0}{\\left(t \\right)} \\right)}\\right) \\nu_{2}{\\left(t \\right)} \\cos{\\left(2 \\theta_{0}{\\left(t \\right)} \\right)}\\right)\\right)\\right)}{2}}{d^{3} r^{2}}$"
      ],
      "text/plain": [
       "Eq((d*r*(R*m2*nu3(t)*cos(beta0) - R*m2*nu3(t)*cos(beta0 - 2*theta0(t)) + 2*m1*nu2(t) + m2*nu1(t)*sin(2*theta0(t)) - m2*nu2(t)*cos(2*theta0(t)) + m2*nu2(t))*nu3(t)/2 + d*T1(t)*cos(theta0(t)) + r*W1(t)*sin(theta0(t)))/(d*r), (b*r**2*(R*nu3(t)*cos(beta0 - theta0(t)) - nu1(t)*sin(theta0(t)) + nu2(t)*cos(theta0(t)))*(R*nu3(t)*cos(beta0 - theta0(t)) + d*nu3(t) - nu1(t)*sin(theta0(t)) + nu2(t)*cos(theta0(t)))*cos(theta0(t)) - b*r**2*(-R**2*nu3(t)**2*sin(2*beta0 - 2*theta0(t)) - 2*R*d*nu3(t)**2*sin(beta0 - theta0(t)) + 2*R*d*cos(beta0 - theta0(t))*Derivative(nu3(t), t) + 2*R*nu1(t)*nu3(t)*cos(beta0 - 2*theta0(t)) - 2*R*nu2(t)*nu3(t)*sin(beta0 - 2*theta0(t)) + 2*d*nu1(t)*nu3(t)*cos(theta0(t)) + 2*d*nu2(t)*nu3(t)*sin(theta0(t)) - 2*d*sin(theta0(t))*Derivative(nu1(t), t) + 2*d*cos(theta0(t))*Derivative(nu2(t), t) - nu1(t)**2*sin(2*theta0(t)) + 2*nu1(t)*nu2(t)*cos(2*theta0(t)) + nu2(t)**2*sin(2*theta0(t)))*sin(theta0(t))/2 + d**2*(2*c*(-R*nu3(t)*sin(beta0 - theta0(t)) + nu1(t)*cos(theta0(t)) + nu2(t)*sin(theta0(t)))*(R*nu3(t)*cos(beta0 - theta0(t)) + d*nu3(t) - nu1(t)*sin(theta0(t)) + nu2(t)*cos(theta0(t)))*sin(theta0(t)) - 2*c*(R*(R*nu3(t)*cos(beta0 - theta0(t)) + d*nu3(t) - nu1(t)*sin(theta0(t)) + nu2(t)*cos(theta0(t)))*nu3(t)*cos(beta0 - theta0(t)) - d*(-R*sin(beta0 - theta0(t))*Derivative(nu3(t), t) + sin(theta0(t))*Derivative(nu2(t), t) + cos(theta0(t))*Derivative(nu1(t), t)) - (R*nu3(t)*cos(beta0 - theta0(t)) + d*nu3(t) - nu1(t)*sin(theta0(t)) + nu2(t)*cos(theta0(t)))*nu1(t)*sin(theta0(t)) + (R*nu3(t)*cos(beta0 - theta0(t)) + d*nu3(t) - nu1(t)*sin(theta0(t)) + nu2(t)*cos(theta0(t)))*nu2(t)*cos(theta0(t)))*cos(theta0(t)) + r**2*(2*d*m1*Derivative(nu1(t), t) - m2*(2*R*(R*nu3(t)*cos(beta0 - theta0(t)) + d*nu3(t) - nu1(t)*sin(theta0(t)) + nu2(t)*cos(theta0(t)))*nu3(t)*cos(beta0 - 2*theta0(t)) - d*(-R*sin(beta0)*Derivative(nu3(t), t) - R*sin(beta0 - 2*theta0(t))*Derivative(nu3(t), t) + sin(2*theta0(t))*Derivative(nu2(t), t) + cos(2*theta0(t))*Derivative(nu1(t), t) + Derivative(nu1(t), t)) - 2*(R*nu3(t)*cos(beta0 - theta0(t)) + d*nu3(t) - nu1(t)*sin(theta0(t)) + nu2(t)*cos(theta0(t)))*nu1(t)*sin(2*theta0(t)) + 2*(R*nu3(t)*cos(beta0 - theta0(t)) + d*nu3(t) - nu1(t)*sin(theta0(t)) + nu2(t)*cos(theta0(t)))*nu2(t)*cos(2*theta0(t)))))/2)/(d**3*r**2))"
      ]
     },
     "execution_count": 175,
     "metadata": {},
     "output_type": "execute_result"
    }
   ],
   "source": [
    "%%time \n",
    "S.tatarinov_equation(0)"
   ]
  },
  {
   "cell_type": "code",
   "execution_count": 176,
   "metadata": {
    "scrolled": true
   },
   "outputs": [
    {
     "data": {
      "text/latex": [
       "$\\displaystyle \\frac{b r^{2} \\left(R \\nu_{3}{\\left(t \\right)} \\cos{\\left(\\beta_{0} - \\theta_{0}{\\left(t \\right)} \\right)} - \\nu_{1}{\\left(t \\right)} \\sin{\\left(\\theta_{0}{\\left(t \\right)} \\right)} + \\nu_{2}{\\left(t \\right)} \\cos{\\left(\\theta_{0}{\\left(t \\right)} \\right)}\\right) \\left(R \\nu_{3}{\\left(t \\right)} \\cos{\\left(\\beta_{0} - \\theta_{0}{\\left(t \\right)} \\right)} + d \\nu_{3}{\\left(t \\right)} - \\nu_{1}{\\left(t \\right)} \\sin{\\left(\\theta_{0}{\\left(t \\right)} \\right)} + \\nu_{2}{\\left(t \\right)} \\cos{\\left(\\theta_{0}{\\left(t \\right)} \\right)}\\right) \\sin{\\left(\\theta_{0}{\\left(t \\right)} \\right)} + b r^{2} \\left(- \\frac{R^{2} \\nu_{3}^{2}{\\left(t \\right)} \\sin{\\left(2 \\beta_{0} - 2 \\theta_{0}{\\left(t \\right)} \\right)}}{2} - R d \\nu_{3}^{2}{\\left(t \\right)} \\sin{\\left(\\beta_{0} - \\theta_{0}{\\left(t \\right)} \\right)} + R d \\cos{\\left(\\beta_{0} - \\theta_{0}{\\left(t \\right)} \\right)} \\frac{d}{d t} \\nu_{3}{\\left(t \\right)} + R \\nu_{1}{\\left(t \\right)} \\nu_{3}{\\left(t \\right)} \\cos{\\left(\\beta_{0} - 2 \\theta_{0}{\\left(t \\right)} \\right)} - R \\nu_{2}{\\left(t \\right)} \\nu_{3}{\\left(t \\right)} \\sin{\\left(\\beta_{0} - 2 \\theta_{0}{\\left(t \\right)} \\right)} + d \\nu_{1}{\\left(t \\right)} \\nu_{3}{\\left(t \\right)} \\cos{\\left(\\theta_{0}{\\left(t \\right)} \\right)} + d \\nu_{2}{\\left(t \\right)} \\nu_{3}{\\left(t \\right)} \\sin{\\left(\\theta_{0}{\\left(t \\right)} \\right)} - d \\sin{\\left(\\theta_{0}{\\left(t \\right)} \\right)} \\frac{d}{d t} \\nu_{1}{\\left(t \\right)} + d \\cos{\\left(\\theta_{0}{\\left(t \\right)} \\right)} \\frac{d}{d t} \\nu_{2}{\\left(t \\right)} - \\frac{\\nu_{1}^{2}{\\left(t \\right)} \\sin{\\left(2 \\theta_{0}{\\left(t \\right)} \\right)}}{2} + \\nu_{1}{\\left(t \\right)} \\nu_{2}{\\left(t \\right)} \\cos{\\left(2 \\theta_{0}{\\left(t \\right)} \\right)} + \\frac{\\nu_{2}^{2}{\\left(t \\right)} \\sin{\\left(2 \\theta_{0}{\\left(t \\right)} \\right)}}{2}\\right) \\cos{\\left(\\theta_{0}{\\left(t \\right)} \\right)} + d^{2} \\left(- c \\left(- R \\nu_{3}{\\left(t \\right)} \\sin{\\left(\\beta_{0} - \\theta_{0}{\\left(t \\right)} \\right)} + \\nu_{1}{\\left(t \\right)} \\cos{\\left(\\theta_{0}{\\left(t \\right)} \\right)} + \\nu_{2}{\\left(t \\right)} \\sin{\\left(\\theta_{0}{\\left(t \\right)} \\right)}\\right) \\left(R \\nu_{3}{\\left(t \\right)} \\cos{\\left(\\beta_{0} - \\theta_{0}{\\left(t \\right)} \\right)} + d \\nu_{3}{\\left(t \\right)} - \\nu_{1}{\\left(t \\right)} \\sin{\\left(\\theta_{0}{\\left(t \\right)} \\right)} + \\nu_{2}{\\left(t \\right)} \\cos{\\left(\\theta_{0}{\\left(t \\right)} \\right)}\\right) \\cos{\\left(\\theta_{0}{\\left(t \\right)} \\right)} - c \\left(R \\left(R \\nu_{3}{\\left(t \\right)} \\cos{\\left(\\beta_{0} - \\theta_{0}{\\left(t \\right)} \\right)} + d \\nu_{3}{\\left(t \\right)} - \\nu_{1}{\\left(t \\right)} \\sin{\\left(\\theta_{0}{\\left(t \\right)} \\right)} + \\nu_{2}{\\left(t \\right)} \\cos{\\left(\\theta_{0}{\\left(t \\right)} \\right)}\\right) \\nu_{3}{\\left(t \\right)} \\cos{\\left(\\beta_{0} - \\theta_{0}{\\left(t \\right)} \\right)} + d \\left(R \\sin{\\left(\\beta_{0} - \\theta_{0}{\\left(t \\right)} \\right)} \\frac{d}{d t} \\nu_{3}{\\left(t \\right)} - \\sin{\\left(\\theta_{0}{\\left(t \\right)} \\right)} \\frac{d}{d t} \\nu_{2}{\\left(t \\right)} - \\cos{\\left(\\theta_{0}{\\left(t \\right)} \\right)} \\frac{d}{d t} \\nu_{1}{\\left(t \\right)}\\right) - \\left(R \\nu_{3}{\\left(t \\right)} \\cos{\\left(\\beta_{0} - \\theta_{0}{\\left(t \\right)} \\right)} + d \\nu_{3}{\\left(t \\right)} - \\nu_{1}{\\left(t \\right)} \\sin{\\left(\\theta_{0}{\\left(t \\right)} \\right)} + \\nu_{2}{\\left(t \\right)} \\cos{\\left(\\theta_{0}{\\left(t \\right)} \\right)}\\right) \\nu_{1}{\\left(t \\right)} \\sin{\\left(\\theta_{0}{\\left(t \\right)} \\right)} + \\left(R \\nu_{3}{\\left(t \\right)} \\cos{\\left(\\beta_{0} - \\theta_{0}{\\left(t \\right)} \\right)} + d \\nu_{3}{\\left(t \\right)} - \\nu_{1}{\\left(t \\right)} \\sin{\\left(\\theta_{0}{\\left(t \\right)} \\right)} + \\nu_{2}{\\left(t \\right)} \\cos{\\left(\\theta_{0}{\\left(t \\right)} \\right)}\\right) \\nu_{2}{\\left(t \\right)} \\cos{\\left(\\theta_{0}{\\left(t \\right)} \\right)}\\right) \\sin{\\left(\\theta_{0}{\\left(t \\right)} \\right)} + r^{2} \\left(d m_{1} \\frac{d}{d t} \\nu_{2}{\\left(t \\right)} - m_{2} \\left(- R \\nu_{3}{\\left(t \\right)} \\sin{\\left(\\beta_{0} - \\theta_{0}{\\left(t \\right)} \\right)} + \\nu_{1}{\\left(t \\right)} \\cos{\\left(\\theta_{0}{\\left(t \\right)} \\right)} + \\nu_{2}{\\left(t \\right)} \\sin{\\left(\\theta_{0}{\\left(t \\right)} \\right)}\\right) \\left(R \\nu_{3}{\\left(t \\right)} \\cos{\\left(\\beta_{0} - \\theta_{0}{\\left(t \\right)} \\right)} + d \\nu_{3}{\\left(t \\right)} - \\nu_{1}{\\left(t \\right)} \\sin{\\left(\\theta_{0}{\\left(t \\right)} \\right)} + \\nu_{2}{\\left(t \\right)} \\cos{\\left(\\theta_{0}{\\left(t \\right)} \\right)}\\right) \\cos{\\left(\\theta_{0}{\\left(t \\right)} \\right)} + m_{2} \\left(R \\left(- R \\nu_{3}{\\left(t \\right)} \\cos{\\left(\\beta_{0} - \\theta_{0}{\\left(t \\right)} \\right)} - d \\nu_{3}{\\left(t \\right)} + \\nu_{1}{\\left(t \\right)} \\sin{\\left(\\theta_{0}{\\left(t \\right)} \\right)} - \\nu_{2}{\\left(t \\right)} \\cos{\\left(\\theta_{0}{\\left(t \\right)} \\right)}\\right) \\nu_{3}{\\left(t \\right)} \\cos{\\left(\\beta_{0} - \\theta_{0}{\\left(t \\right)} \\right)} + d \\left(- R \\sin{\\left(\\beta_{0} - \\theta_{0}{\\left(t \\right)} \\right)} \\frac{d}{d t} \\nu_{3}{\\left(t \\right)} + \\sin{\\left(\\theta_{0}{\\left(t \\right)} \\right)} \\frac{d}{d t} \\nu_{2}{\\left(t \\right)} + \\cos{\\left(\\theta_{0}{\\left(t \\right)} \\right)} \\frac{d}{d t} \\nu_{1}{\\left(t \\right)}\\right) - \\left(- R \\nu_{3}{\\left(t \\right)} \\cos{\\left(\\beta_{0} - \\theta_{0}{\\left(t \\right)} \\right)} - d \\nu_{3}{\\left(t \\right)} + \\nu_{1}{\\left(t \\right)} \\sin{\\left(\\theta_{0}{\\left(t \\right)} \\right)} - \\nu_{2}{\\left(t \\right)} \\cos{\\left(\\theta_{0}{\\left(t \\right)} \\right)}\\right) \\nu_{1}{\\left(t \\right)} \\sin{\\left(\\theta_{0}{\\left(t \\right)} \\right)} + \\left(- R \\nu_{3}{\\left(t \\right)} \\cos{\\left(\\beta_{0} - \\theta_{0}{\\left(t \\right)} \\right)} - d \\nu_{3}{\\left(t \\right)} + \\nu_{1}{\\left(t \\right)} \\sin{\\left(\\theta_{0}{\\left(t \\right)} \\right)} - \\nu_{2}{\\left(t \\right)} \\cos{\\left(\\theta_{0}{\\left(t \\right)} \\right)}\\right) \\nu_{2}{\\left(t \\right)} \\cos{\\left(\\theta_{0}{\\left(t \\right)} \\right)}\\right) \\sin{\\left(\\theta_{0}{\\left(t \\right)} \\right)}\\right)\\right)}{d^{3} r^{2}}$"
      ],
      "text/plain": [
       "(b*r**2*(R*nu3(t)*cos(beta0 - theta0(t)) - nu1(t)*sin(theta0(t)) + nu2(t)*cos(theta0(t)))*(R*nu3(t)*cos(beta0 - theta0(t)) + d*nu3(t) - nu1(t)*sin(theta0(t)) + nu2(t)*cos(theta0(t)))*sin(theta0(t)) + b*r**2*(-R**2*nu3(t)**2*sin(2*beta0 - 2*theta0(t))/2 - R*d*nu3(t)**2*sin(beta0 - theta0(t)) + R*d*cos(beta0 - theta0(t))*Derivative(nu3(t), t) + R*nu1(t)*nu3(t)*cos(beta0 - 2*theta0(t)) - R*nu2(t)*nu3(t)*sin(beta0 - 2*theta0(t)) + d*nu1(t)*nu3(t)*cos(theta0(t)) + d*nu2(t)*nu3(t)*sin(theta0(t)) - d*sin(theta0(t))*Derivative(nu1(t), t) + d*cos(theta0(t))*Derivative(nu2(t), t) - nu1(t)**2*sin(2*theta0(t))/2 + nu1(t)*nu2(t)*cos(2*theta0(t)) + nu2(t)**2*sin(2*theta0(t))/2)*cos(theta0(t)) + d**2*(-c*(-R*nu3(t)*sin(beta0 - theta0(t)) + nu1(t)*cos(theta0(t)) + nu2(t)*sin(theta0(t)))*(R*nu3(t)*cos(beta0 - theta0(t)) + d*nu3(t) - nu1(t)*sin(theta0(t)) + nu2(t)*cos(theta0(t)))*cos(theta0(t)) - c*(R*(R*nu3(t)*cos(beta0 - theta0(t)) + d*nu3(t) - nu1(t)*sin(theta0(t)) + nu2(t)*cos(theta0(t)))*nu3(t)*cos(beta0 - theta0(t)) + d*(R*sin(beta0 - theta0(t))*Derivative(nu3(t), t) - sin(theta0(t))*Derivative(nu2(t), t) - cos(theta0(t))*Derivative(nu1(t), t)) - (R*nu3(t)*cos(beta0 - theta0(t)) + d*nu3(t) - nu1(t)*sin(theta0(t)) + nu2(t)*cos(theta0(t)))*nu1(t)*sin(theta0(t)) + (R*nu3(t)*cos(beta0 - theta0(t)) + d*nu3(t) - nu1(t)*sin(theta0(t)) + nu2(t)*cos(theta0(t)))*nu2(t)*cos(theta0(t)))*sin(theta0(t)) + r**2*(d*m1*Derivative(nu2(t), t) - m2*(-R*nu3(t)*sin(beta0 - theta0(t)) + nu1(t)*cos(theta0(t)) + nu2(t)*sin(theta0(t)))*(R*nu3(t)*cos(beta0 - theta0(t)) + d*nu3(t) - nu1(t)*sin(theta0(t)) + nu2(t)*cos(theta0(t)))*cos(theta0(t)) + m2*(R*(-R*nu3(t)*cos(beta0 - theta0(t)) - d*nu3(t) + nu1(t)*sin(theta0(t)) - nu2(t)*cos(theta0(t)))*nu3(t)*cos(beta0 - theta0(t)) + d*(-R*sin(beta0 - theta0(t))*Derivative(nu3(t), t) + sin(theta0(t))*Derivative(nu2(t), t) + cos(theta0(t))*Derivative(nu1(t), t)) - (-R*nu3(t)*cos(beta0 - theta0(t)) - d*nu3(t) + nu1(t)*sin(theta0(t)) - nu2(t)*cos(theta0(t)))*nu1(t)*sin(theta0(t)) + (-R*nu3(t)*cos(beta0 - theta0(t)) - d*nu3(t) + nu1(t)*sin(theta0(t)) - nu2(t)*cos(theta0(t)))*nu2(t)*cos(theta0(t)))*sin(theta0(t)))))/(d**3*r**2)"
      ]
     },
     "metadata": {},
     "output_type": "display_data"
    },
    {
     "data": {
      "text/latex": [
       "$\\displaystyle \\left(- \\sin{\\left(\\alpha{\\left(t \\right)} \\right)} {p}_{2} - \\cos{\\left(\\alpha{\\left(t \\right)} \\right)} {p}_{1}\\right) \\nu_{3}{\\left(t \\right)} + \\frac{\\operatorname{T_{1}}{\\left(t \\right)} \\sin{\\left(\\theta_{0}{\\left(t \\right)} \\right)}}{r} - \\frac{\\operatorname{W_{1}}{\\left(t \\right)} \\cos{\\left(\\theta_{0}{\\left(t \\right)} \\right)}}{d}$"
      ],
      "text/plain": [
       "(-sin(alpha(t))*p[2] - cos(alpha(t))*p[1])*nu3(t) + T1(t)*sin(theta0(t))/r - W1(t)*cos(theta0(t))/d"
      ]
     },
     "metadata": {},
     "output_type": "display_data"
    },
    {
     "name": "stdout",
     "output_type": "stream",
     "text": [
      "CPU times: user 11min 18s, sys: 10 s, total: 11min 28s\n",
      "Wall time: 12min 34s\n"
     ]
    },
    {
     "data": {
      "text/latex": [
       "$\\displaystyle \\frac{- \\frac{d r \\left(- R m_{2} \\nu_{3}{\\left(t \\right)} \\sin{\\left(\\beta_{0} \\right)} - R m_{2} \\nu_{3}{\\left(t \\right)} \\sin{\\left(\\beta_{0} - 2 \\theta_{0}{\\left(t \\right)} \\right)} + 2 m_{1} \\nu_{1}{\\left(t \\right)} + m_{2} \\nu_{1}{\\left(t \\right)} \\cos{\\left(2 \\theta_{0}{\\left(t \\right)} \\right)} + m_{2} \\nu_{1}{\\left(t \\right)} + m_{2} \\nu_{2}{\\left(t \\right)} \\sin{\\left(2 \\theta_{0}{\\left(t \\right)} \\right)}\\right) \\nu_{3}{\\left(t \\right)}}{2} + d \\operatorname{T_{1}}{\\left(t \\right)} \\sin{\\left(\\theta_{0}{\\left(t \\right)} \\right)} - r \\operatorname{W_{1}}{\\left(t \\right)} \\cos{\\left(\\theta_{0}{\\left(t \\right)} \\right)}}{d r} = \\frac{2 b r^{2} \\left(R \\nu_{3}{\\left(t \\right)} \\cos{\\left(\\beta_{0} - \\theta_{0}{\\left(t \\right)} \\right)} - \\nu_{1}{\\left(t \\right)} \\sin{\\left(\\theta_{0}{\\left(t \\right)} \\right)} + \\nu_{2}{\\left(t \\right)} \\cos{\\left(\\theta_{0}{\\left(t \\right)} \\right)}\\right) \\left(R \\nu_{3}{\\left(t \\right)} \\cos{\\left(\\beta_{0} - \\theta_{0}{\\left(t \\right)} \\right)} + d \\nu_{3}{\\left(t \\right)} - \\nu_{1}{\\left(t \\right)} \\sin{\\left(\\theta_{0}{\\left(t \\right)} \\right)} + \\nu_{2}{\\left(t \\right)} \\cos{\\left(\\theta_{0}{\\left(t \\right)} \\right)}\\right) \\sin{\\left(\\theta_{0}{\\left(t \\right)} \\right)} + b r^{2} \\left(- R^{2} \\nu_{3}^{2}{\\left(t \\right)} \\sin{\\left(2 \\beta_{0} - 2 \\theta_{0}{\\left(t \\right)} \\right)} - 2 R d \\nu_{3}^{2}{\\left(t \\right)} \\sin{\\left(\\beta_{0} - \\theta_{0}{\\left(t \\right)} \\right)} + 2 R d \\cos{\\left(\\beta_{0} - \\theta_{0}{\\left(t \\right)} \\right)} \\frac{d}{d t} \\nu_{3}{\\left(t \\right)} + 2 R \\nu_{1}{\\left(t \\right)} \\nu_{3}{\\left(t \\right)} \\cos{\\left(\\beta_{0} - 2 \\theta_{0}{\\left(t \\right)} \\right)} - 2 R \\nu_{2}{\\left(t \\right)} \\nu_{3}{\\left(t \\right)} \\sin{\\left(\\beta_{0} - 2 \\theta_{0}{\\left(t \\right)} \\right)} + 2 d \\nu_{1}{\\left(t \\right)} \\nu_{3}{\\left(t \\right)} \\cos{\\left(\\theta_{0}{\\left(t \\right)} \\right)} + 2 d \\nu_{2}{\\left(t \\right)} \\nu_{3}{\\left(t \\right)} \\sin{\\left(\\theta_{0}{\\left(t \\right)} \\right)} - 2 d \\sin{\\left(\\theta_{0}{\\left(t \\right)} \\right)} \\frac{d}{d t} \\nu_{1}{\\left(t \\right)} + 2 d \\cos{\\left(\\theta_{0}{\\left(t \\right)} \\right)} \\frac{d}{d t} \\nu_{2}{\\left(t \\right)} - \\nu_{1}^{2}{\\left(t \\right)} \\sin{\\left(2 \\theta_{0}{\\left(t \\right)} \\right)} + 2 \\nu_{1}{\\left(t \\right)} \\nu_{2}{\\left(t \\right)} \\cos{\\left(2 \\theta_{0}{\\left(t \\right)} \\right)} + \\nu_{2}^{2}{\\left(t \\right)} \\sin{\\left(2 \\theta_{0}{\\left(t \\right)} \\right)}\\right) \\cos{\\left(\\theta_{0}{\\left(t \\right)} \\right)} + 2 d^{2} \\left(- c \\left(- R \\nu_{3}{\\left(t \\right)} \\sin{\\left(\\beta_{0} - \\theta_{0}{\\left(t \\right)} \\right)} + \\nu_{1}{\\left(t \\right)} \\cos{\\left(\\theta_{0}{\\left(t \\right)} \\right)} + \\nu_{2}{\\left(t \\right)} \\sin{\\left(\\theta_{0}{\\left(t \\right)} \\right)}\\right) \\left(R \\nu_{3}{\\left(t \\right)} \\cos{\\left(\\beta_{0} - \\theta_{0}{\\left(t \\right)} \\right)} + d \\nu_{3}{\\left(t \\right)} - \\nu_{1}{\\left(t \\right)} \\sin{\\left(\\theta_{0}{\\left(t \\right)} \\right)} + \\nu_{2}{\\left(t \\right)} \\cos{\\left(\\theta_{0}{\\left(t \\right)} \\right)}\\right) \\cos{\\left(\\theta_{0}{\\left(t \\right)} \\right)} - c \\left(R \\left(R \\nu_{3}{\\left(t \\right)} \\cos{\\left(\\beta_{0} - \\theta_{0}{\\left(t \\right)} \\right)} + d \\nu_{3}{\\left(t \\right)} - \\nu_{1}{\\left(t \\right)} \\sin{\\left(\\theta_{0}{\\left(t \\right)} \\right)} + \\nu_{2}{\\left(t \\right)} \\cos{\\left(\\theta_{0}{\\left(t \\right)} \\right)}\\right) \\nu_{3}{\\left(t \\right)} \\cos{\\left(\\beta_{0} - \\theta_{0}{\\left(t \\right)} \\right)} - d \\left(- R \\sin{\\left(\\beta_{0} - \\theta_{0}{\\left(t \\right)} \\right)} \\frac{d}{d t} \\nu_{3}{\\left(t \\right)} + \\sin{\\left(\\theta_{0}{\\left(t \\right)} \\right)} \\frac{d}{d t} \\nu_{2}{\\left(t \\right)} + \\cos{\\left(\\theta_{0}{\\left(t \\right)} \\right)} \\frac{d}{d t} \\nu_{1}{\\left(t \\right)}\\right) - \\left(R \\nu_{3}{\\left(t \\right)} \\cos{\\left(\\beta_{0} - \\theta_{0}{\\left(t \\right)} \\right)} + d \\nu_{3}{\\left(t \\right)} - \\nu_{1}{\\left(t \\right)} \\sin{\\left(\\theta_{0}{\\left(t \\right)} \\right)} + \\nu_{2}{\\left(t \\right)} \\cos{\\left(\\theta_{0}{\\left(t \\right)} \\right)}\\right) \\nu_{1}{\\left(t \\right)} \\sin{\\left(\\theta_{0}{\\left(t \\right)} \\right)} + \\left(R \\nu_{3}{\\left(t \\right)} \\cos{\\left(\\beta_{0} - \\theta_{0}{\\left(t \\right)} \\right)} + d \\nu_{3}{\\left(t \\right)} - \\nu_{1}{\\left(t \\right)} \\sin{\\left(\\theta_{0}{\\left(t \\right)} \\right)} + \\nu_{2}{\\left(t \\right)} \\cos{\\left(\\theta_{0}{\\left(t \\right)} \\right)}\\right) \\nu_{2}{\\left(t \\right)} \\cos{\\left(\\theta_{0}{\\left(t \\right)} \\right)}\\right) \\sin{\\left(\\theta_{0}{\\left(t \\right)} \\right)} + r^{2} \\left(d m_{1} \\frac{d}{d t} \\nu_{2}{\\left(t \\right)} - m_{2} \\left(- R \\nu_{3}{\\left(t \\right)} \\sin{\\left(\\beta_{0} - \\theta_{0}{\\left(t \\right)} \\right)} + \\nu_{1}{\\left(t \\right)} \\cos{\\left(\\theta_{0}{\\left(t \\right)} \\right)} + \\nu_{2}{\\left(t \\right)} \\sin{\\left(\\theta_{0}{\\left(t \\right)} \\right)}\\right) \\left(R \\nu_{3}{\\left(t \\right)} \\cos{\\left(\\beta_{0} - \\theta_{0}{\\left(t \\right)} \\right)} + d \\nu_{3}{\\left(t \\right)} - \\nu_{1}{\\left(t \\right)} \\sin{\\left(\\theta_{0}{\\left(t \\right)} \\right)} + \\nu_{2}{\\left(t \\right)} \\cos{\\left(\\theta_{0}{\\left(t \\right)} \\right)}\\right) \\cos{\\left(\\theta_{0}{\\left(t \\right)} \\right)} + m_{2} \\left(- R \\left(R \\nu_{3}{\\left(t \\right)} \\cos{\\left(\\beta_{0} - \\theta_{0}{\\left(t \\right)} \\right)} + d \\nu_{3}{\\left(t \\right)} - \\nu_{1}{\\left(t \\right)} \\sin{\\left(\\theta_{0}{\\left(t \\right)} \\right)} + \\nu_{2}{\\left(t \\right)} \\cos{\\left(\\theta_{0}{\\left(t \\right)} \\right)}\\right) \\nu_{3}{\\left(t \\right)} \\cos{\\left(\\beta_{0} - \\theta_{0}{\\left(t \\right)} \\right)} + d \\left(- R \\sin{\\left(\\beta_{0} - \\theta_{0}{\\left(t \\right)} \\right)} \\frac{d}{d t} \\nu_{3}{\\left(t \\right)} + \\sin{\\left(\\theta_{0}{\\left(t \\right)} \\right)} \\frac{d}{d t} \\nu_{2}{\\left(t \\right)} + \\cos{\\left(\\theta_{0}{\\left(t \\right)} \\right)} \\frac{d}{d t} \\nu_{1}{\\left(t \\right)}\\right) + \\left(R \\nu_{3}{\\left(t \\right)} \\cos{\\left(\\beta_{0} - \\theta_{0}{\\left(t \\right)} \\right)} + d \\nu_{3}{\\left(t \\right)} - \\nu_{1}{\\left(t \\right)} \\sin{\\left(\\theta_{0}{\\left(t \\right)} \\right)} + \\nu_{2}{\\left(t \\right)} \\cos{\\left(\\theta_{0}{\\left(t \\right)} \\right)}\\right) \\nu_{1}{\\left(t \\right)} \\sin{\\left(\\theta_{0}{\\left(t \\right)} \\right)} - \\left(R \\nu_{3}{\\left(t \\right)} \\cos{\\left(\\beta_{0} - \\theta_{0}{\\left(t \\right)} \\right)} + d \\nu_{3}{\\left(t \\right)} - \\nu_{1}{\\left(t \\right)} \\sin{\\left(\\theta_{0}{\\left(t \\right)} \\right)} + \\nu_{2}{\\left(t \\right)} \\cos{\\left(\\theta_{0}{\\left(t \\right)} \\right)}\\right) \\nu_{2}{\\left(t \\right)} \\cos{\\left(\\theta_{0}{\\left(t \\right)} \\right)}\\right) \\sin{\\left(\\theta_{0}{\\left(t \\right)} \\right)}\\right)\\right)}{2 d^{3} r^{2}}$"
      ],
      "text/plain": [
       "Eq((-d*r*(-R*m2*nu3(t)*sin(beta0) - R*m2*nu3(t)*sin(beta0 - 2*theta0(t)) + 2*m1*nu1(t) + m2*nu1(t)*cos(2*theta0(t)) + m2*nu1(t) + m2*nu2(t)*sin(2*theta0(t)))*nu3(t)/2 + d*T1(t)*sin(theta0(t)) - r*W1(t)*cos(theta0(t)))/(d*r), (2*b*r**2*(R*nu3(t)*cos(beta0 - theta0(t)) - nu1(t)*sin(theta0(t)) + nu2(t)*cos(theta0(t)))*(R*nu3(t)*cos(beta0 - theta0(t)) + d*nu3(t) - nu1(t)*sin(theta0(t)) + nu2(t)*cos(theta0(t)))*sin(theta0(t)) + b*r**2*(-R**2*nu3(t)**2*sin(2*beta0 - 2*theta0(t)) - 2*R*d*nu3(t)**2*sin(beta0 - theta0(t)) + 2*R*d*cos(beta0 - theta0(t))*Derivative(nu3(t), t) + 2*R*nu1(t)*nu3(t)*cos(beta0 - 2*theta0(t)) - 2*R*nu2(t)*nu3(t)*sin(beta0 - 2*theta0(t)) + 2*d*nu1(t)*nu3(t)*cos(theta0(t)) + 2*d*nu2(t)*nu3(t)*sin(theta0(t)) - 2*d*sin(theta0(t))*Derivative(nu1(t), t) + 2*d*cos(theta0(t))*Derivative(nu2(t), t) - nu1(t)**2*sin(2*theta0(t)) + 2*nu1(t)*nu2(t)*cos(2*theta0(t)) + nu2(t)**2*sin(2*theta0(t)))*cos(theta0(t)) + 2*d**2*(-c*(-R*nu3(t)*sin(beta0 - theta0(t)) + nu1(t)*cos(theta0(t)) + nu2(t)*sin(theta0(t)))*(R*nu3(t)*cos(beta0 - theta0(t)) + d*nu3(t) - nu1(t)*sin(theta0(t)) + nu2(t)*cos(theta0(t)))*cos(theta0(t)) - c*(R*(R*nu3(t)*cos(beta0 - theta0(t)) + d*nu3(t) - nu1(t)*sin(theta0(t)) + nu2(t)*cos(theta0(t)))*nu3(t)*cos(beta0 - theta0(t)) - d*(-R*sin(beta0 - theta0(t))*Derivative(nu3(t), t) + sin(theta0(t))*Derivative(nu2(t), t) + cos(theta0(t))*Derivative(nu1(t), t)) - (R*nu3(t)*cos(beta0 - theta0(t)) + d*nu3(t) - nu1(t)*sin(theta0(t)) + nu2(t)*cos(theta0(t)))*nu1(t)*sin(theta0(t)) + (R*nu3(t)*cos(beta0 - theta0(t)) + d*nu3(t) - nu1(t)*sin(theta0(t)) + nu2(t)*cos(theta0(t)))*nu2(t)*cos(theta0(t)))*sin(theta0(t)) + r**2*(d*m1*Derivative(nu2(t), t) - m2*(-R*nu3(t)*sin(beta0 - theta0(t)) + nu1(t)*cos(theta0(t)) + nu2(t)*sin(theta0(t)))*(R*nu3(t)*cos(beta0 - theta0(t)) + d*nu3(t) - nu1(t)*sin(theta0(t)) + nu2(t)*cos(theta0(t)))*cos(theta0(t)) + m2*(-R*(R*nu3(t)*cos(beta0 - theta0(t)) + d*nu3(t) - nu1(t)*sin(theta0(t)) + nu2(t)*cos(theta0(t)))*nu3(t)*cos(beta0 - theta0(t)) + d*(-R*sin(beta0 - theta0(t))*Derivative(nu3(t), t) + sin(theta0(t))*Derivative(nu2(t), t) + cos(theta0(t))*Derivative(nu1(t), t)) + (R*nu3(t)*cos(beta0 - theta0(t)) + d*nu3(t) - nu1(t)*sin(theta0(t)) + nu2(t)*cos(theta0(t)))*nu1(t)*sin(theta0(t)) - (R*nu3(t)*cos(beta0 - theta0(t)) + d*nu3(t) - nu1(t)*sin(theta0(t)) + nu2(t)*cos(theta0(t)))*nu2(t)*cos(theta0(t)))*sin(theta0(t)))))/(2*d**3*r**2))"
      ]
     },
     "execution_count": 176,
     "metadata": {},
     "output_type": "execute_result"
    }
   ],
   "source": [
    "%%time\n",
    "S.tatarinov_equation(1)"
   ]
  },
  {
   "cell_type": "code",
   "execution_count": 177,
   "metadata": {
    "scrolled": true
   },
   "outputs": [
    {
     "data": {
      "text/latex": [
       "$\\displaystyle \\frac{- R b r^{2} \\left(R \\nu_{3}{\\left(t \\right)} \\cos{\\left(\\beta_{0} - \\theta_{0}{\\left(t \\right)} \\right)} - \\nu_{1}{\\left(t \\right)} \\sin{\\left(\\theta_{0}{\\left(t \\right)} \\right)} + \\nu_{2}{\\left(t \\right)} \\cos{\\left(\\theta_{0}{\\left(t \\right)} \\right)}\\right) \\left(R \\nu_{3}{\\left(t \\right)} \\cos{\\left(\\beta_{0} - \\theta_{0}{\\left(t \\right)} \\right)} + d \\nu_{3}{\\left(t \\right)} - \\nu_{1}{\\left(t \\right)} \\sin{\\left(\\theta_{0}{\\left(t \\right)} \\right)} + \\nu_{2}{\\left(t \\right)} \\cos{\\left(\\theta_{0}{\\left(t \\right)} \\right)}\\right) \\sin{\\left(\\beta_{0} - \\theta_{0}{\\left(t \\right)} \\right)} + R b r^{2} \\left(- \\frac{R^{2} \\nu_{3}^{2}{\\left(t \\right)} \\sin{\\left(2 \\beta_{0} - 2 \\theta_{0}{\\left(t \\right)} \\right)}}{2} - R d \\nu_{3}^{2}{\\left(t \\right)} \\sin{\\left(\\beta_{0} - \\theta_{0}{\\left(t \\right)} \\right)} + R d \\cos{\\left(\\beta_{0} - \\theta_{0}{\\left(t \\right)} \\right)} \\frac{d}{d t} \\nu_{3}{\\left(t \\right)} + R \\nu_{1}{\\left(t \\right)} \\nu_{3}{\\left(t \\right)} \\cos{\\left(\\beta_{0} - 2 \\theta_{0}{\\left(t \\right)} \\right)} - R \\nu_{2}{\\left(t \\right)} \\nu_{3}{\\left(t \\right)} \\sin{\\left(\\beta_{0} - 2 \\theta_{0}{\\left(t \\right)} \\right)} + d \\nu_{1}{\\left(t \\right)} \\nu_{3}{\\left(t \\right)} \\cos{\\left(\\theta_{0}{\\left(t \\right)} \\right)} + d \\nu_{2}{\\left(t \\right)} \\nu_{3}{\\left(t \\right)} \\sin{\\left(\\theta_{0}{\\left(t \\right)} \\right)} - d \\sin{\\left(\\theta_{0}{\\left(t \\right)} \\right)} \\frac{d}{d t} \\nu_{1}{\\left(t \\right)} + d \\cos{\\left(\\theta_{0}{\\left(t \\right)} \\right)} \\frac{d}{d t} \\nu_{2}{\\left(t \\right)} - \\frac{\\nu_{1}^{2}{\\left(t \\right)} \\sin{\\left(2 \\theta_{0}{\\left(t \\right)} \\right)}}{2} + \\nu_{1}{\\left(t \\right)} \\nu_{2}{\\left(t \\right)} \\cos{\\left(2 \\theta_{0}{\\left(t \\right)} \\right)} + \\frac{\\nu_{2}^{2}{\\left(t \\right)} \\sin{\\left(2 \\theta_{0}{\\left(t \\right)} \\right)}}{2}\\right) \\cos{\\left(\\beta_{0} - \\theta_{0}{\\left(t \\right)} \\right)} + \\frac{d^{2} \\left(- 2 R c \\left(- R \\nu_{3}{\\left(t \\right)} \\sin{\\left(\\beta_{0} - \\theta_{0}{\\left(t \\right)} \\right)} + \\nu_{1}{\\left(t \\right)} \\cos{\\left(\\theta_{0}{\\left(t \\right)} \\right)} + \\nu_{2}{\\left(t \\right)} \\sin{\\left(\\theta_{0}{\\left(t \\right)} \\right)}\\right) \\left(R \\nu_{3}{\\left(t \\right)} \\cos{\\left(\\beta_{0} - \\theta_{0}{\\left(t \\right)} \\right)} + d \\nu_{3}{\\left(t \\right)} - \\nu_{1}{\\left(t \\right)} \\sin{\\left(\\theta_{0}{\\left(t \\right)} \\right)} + \\nu_{2}{\\left(t \\right)} \\cos{\\left(\\theta_{0}{\\left(t \\right)} \\right)}\\right) \\cos{\\left(\\beta_{0} - \\theta_{0}{\\left(t \\right)} \\right)} - 2 R c \\left(- R \\left(R \\nu_{3}{\\left(t \\right)} \\cos{\\left(\\beta_{0} - \\theta_{0}{\\left(t \\right)} \\right)} + d \\nu_{3}{\\left(t \\right)} - \\nu_{1}{\\left(t \\right)} \\sin{\\left(\\theta_{0}{\\left(t \\right)} \\right)} + \\nu_{2}{\\left(t \\right)} \\cos{\\left(\\theta_{0}{\\left(t \\right)} \\right)}\\right) \\nu_{3}{\\left(t \\right)} \\cos{\\left(\\beta_{0} - \\theta_{0}{\\left(t \\right)} \\right)} + d \\left(- R \\sin{\\left(\\beta_{0} - \\theta_{0}{\\left(t \\right)} \\right)} \\frac{d}{d t} \\nu_{3}{\\left(t \\right)} + \\sin{\\left(\\theta_{0}{\\left(t \\right)} \\right)} \\frac{d}{d t} \\nu_{2}{\\left(t \\right)} + \\cos{\\left(\\theta_{0}{\\left(t \\right)} \\right)} \\frac{d}{d t} \\nu_{1}{\\left(t \\right)}\\right) + \\left(R \\nu_{3}{\\left(t \\right)} \\cos{\\left(\\beta_{0} - \\theta_{0}{\\left(t \\right)} \\right)} + d \\nu_{3}{\\left(t \\right)} - \\nu_{1}{\\left(t \\right)} \\sin{\\left(\\theta_{0}{\\left(t \\right)} \\right)} + \\nu_{2}{\\left(t \\right)} \\cos{\\left(\\theta_{0}{\\left(t \\right)} \\right)}\\right) \\nu_{1}{\\left(t \\right)} \\sin{\\left(\\theta_{0}{\\left(t \\right)} \\right)} - \\left(R \\nu_{3}{\\left(t \\right)} \\cos{\\left(\\beta_{0} - \\theta_{0}{\\left(t \\right)} \\right)} + d \\nu_{3}{\\left(t \\right)} - \\nu_{1}{\\left(t \\right)} \\sin{\\left(\\theta_{0}{\\left(t \\right)} \\right)} + \\nu_{2}{\\left(t \\right)} \\cos{\\left(\\theta_{0}{\\left(t \\right)} \\right)}\\right) \\nu_{2}{\\left(t \\right)} \\cos{\\left(\\theta_{0}{\\left(t \\right)} \\right)}\\right) \\sin{\\left(\\beta_{0} - \\theta_{0}{\\left(t \\right)} \\right)} + r^{2} \\left(R m_{2} \\left(\\left(- d \\nu_{3}{\\left(t \\right)} \\sin{\\left(\\beta_{0} + \\alpha{\\left(t \\right)} \\right)} + \\left(- 2 R \\nu_{3}{\\left(t \\right)} \\cos{\\left(\\beta_{0} - \\theta_{0}{\\left(t \\right)} \\right)} - d \\nu_{3}{\\left(t \\right)} + 2 \\nu_{1}{\\left(t \\right)} \\sin{\\left(\\theta_{0}{\\left(t \\right)} \\right)} - 2 \\nu_{2}{\\left(t \\right)} \\cos{\\left(\\theta_{0}{\\left(t \\right)} \\right)}\\right) \\sin{\\left(- \\beta_{0} + \\alpha{\\left(t \\right)} + 2 \\theta_{0}{\\left(t \\right)} \\right)}\\right) \\left(R \\nu_{3}{\\left(t \\right)} \\cos{\\left(\\beta_{0} + \\alpha{\\left(t \\right)} \\right)} - \\left(R \\nu_{3}{\\left(t \\right)} \\cos{\\left(\\beta_{0} - \\theta_{0}{\\left(t \\right)} \\right)} - \\nu_{1}{\\left(t \\right)} \\sin{\\left(\\theta_{0}{\\left(t \\right)} \\right)} + \\nu_{2}{\\left(t \\right)} \\cos{\\left(\\theta_{0}{\\left(t \\right)} \\right)}\\right) \\cos{\\left(\\alpha{\\left(t \\right)} + \\theta_{0}{\\left(t \\right)} \\right)} + \\nu_{1}{\\left(t \\right)} \\sin{\\left(\\alpha{\\left(t \\right)} \\right)} + \\nu_{2}{\\left(t \\right)} \\cos{\\left(\\alpha{\\left(t \\right)} \\right)}\\right) - \\left(- d \\nu_{3}{\\left(t \\right)} \\cos{\\left(\\beta_{0} + \\alpha{\\left(t \\right)} \\right)} + \\left(- 2 R \\nu_{3}{\\left(t \\right)} \\cos{\\left(\\beta_{0} - \\theta_{0}{\\left(t \\right)} \\right)} - d \\nu_{3}{\\left(t \\right)} + 2 \\nu_{1}{\\left(t \\right)} \\sin{\\left(\\theta_{0}{\\left(t \\right)} \\right)} - 2 \\nu_{2}{\\left(t \\right)} \\cos{\\left(\\theta_{0}{\\left(t \\right)} \\right)}\\right) \\cos{\\left(- \\beta_{0} + \\alpha{\\left(t \\right)} + 2 \\theta_{0}{\\left(t \\right)} \\right)}\\right) \\left(R \\nu_{3}{\\left(t \\right)} \\sin{\\left(\\beta_{0} + \\alpha{\\left(t \\right)} \\right)} - \\left(R \\nu_{3}{\\left(t \\right)} \\cos{\\left(\\beta_{0} - \\theta_{0}{\\left(t \\right)} \\right)} - \\nu_{1}{\\left(t \\right)} \\sin{\\left(\\theta_{0}{\\left(t \\right)} \\right)} + \\nu_{2}{\\left(t \\right)} \\cos{\\left(\\theta_{0}{\\left(t \\right)} \\right)}\\right) \\sin{\\left(\\alpha{\\left(t \\right)} + \\theta_{0}{\\left(t \\right)} \\right)} - \\nu_{1}{\\left(t \\right)} \\cos{\\left(\\alpha{\\left(t \\right)} \\right)} + \\nu_{2}{\\left(t \\right)} \\sin{\\left(\\alpha{\\left(t \\right)} \\right)}\\right) + \\left(\\sin{\\left(\\beta_{0} + \\alpha{\\left(t \\right)} \\right)} - \\sin{\\left(- \\beta_{0} + \\alpha{\\left(t \\right)} + 2 \\theta_{0}{\\left(t \\right)} \\right)}\\right) \\left(d \\left(R \\nu_{3}^{2}{\\left(t \\right)} \\cos{\\left(\\beta_{0} + \\alpha{\\left(t \\right)} \\right)} + R \\sin{\\left(\\beta_{0} + \\alpha{\\left(t \\right)} \\right)} \\frac{d}{d t} \\nu_{3}{\\left(t \\right)} + \\nu_{1}{\\left(t \\right)} \\nu_{3}{\\left(t \\right)} \\sin{\\left(\\alpha{\\left(t \\right)} \\right)} + \\nu_{2}{\\left(t \\right)} \\nu_{3}{\\left(t \\right)} \\cos{\\left(\\alpha{\\left(t \\right)} \\right)} + \\sin{\\left(\\alpha{\\left(t \\right)} \\right)} \\frac{d}{d t} \\nu_{2}{\\left(t \\right)} - \\cos{\\left(\\alpha{\\left(t \\right)} \\right)} \\frac{d}{d t} \\nu_{1}{\\left(t \\right)}\\right) + \\left(R \\nu_{3}{\\left(t \\right)} \\cos{\\left(\\beta_{0} - \\theta_{0}{\\left(t \\right)} \\right)} - \\nu_{1}{\\left(t \\right)} \\sin{\\left(\\theta_{0}{\\left(t \\right)} \\right)} + \\nu_{2}{\\left(t \\right)} \\cos{\\left(\\theta_{0}{\\left(t \\right)} \\right)}\\right)^{2} \\cos{\\left(\\alpha{\\left(t \\right)} + \\theta_{0}{\\left(t \\right)} \\right)} - \\left(- \\frac{R^{2} \\nu_{3}^{2}{\\left(t \\right)} \\sin{\\left(2 \\beta_{0} - 2 \\theta_{0}{\\left(t \\right)} \\right)}}{2} - R d \\nu_{3}^{2}{\\left(t \\right)} \\sin{\\left(\\beta_{0} - \\theta_{0}{\\left(t \\right)} \\right)} + R d \\cos{\\left(\\beta_{0} - \\theta_{0}{\\left(t \\right)} \\right)} \\frac{d}{d t} \\nu_{3}{\\left(t \\right)} + R \\nu_{1}{\\left(t \\right)} \\nu_{3}{\\left(t \\right)} \\cos{\\left(\\beta_{0} - 2 \\theta_{0}{\\left(t \\right)} \\right)} - R \\nu_{2}{\\left(t \\right)} \\nu_{3}{\\left(t \\right)} \\sin{\\left(\\beta_{0} - 2 \\theta_{0}{\\left(t \\right)} \\right)} + d \\nu_{1}{\\left(t \\right)} \\nu_{3}{\\left(t \\right)} \\cos{\\left(\\theta_{0}{\\left(t \\right)} \\right)} + d \\nu_{2}{\\left(t \\right)} \\nu_{3}{\\left(t \\right)} \\sin{\\left(\\theta_{0}{\\left(t \\right)} \\right)} - d \\sin{\\left(\\theta_{0}{\\left(t \\right)} \\right)} \\frac{d}{d t} \\nu_{1}{\\left(t \\right)} + d \\cos{\\left(\\theta_{0}{\\left(t \\right)} \\right)} \\frac{d}{d t} \\nu_{2}{\\left(t \\right)} - \\frac{\\nu_{1}^{2}{\\left(t \\right)} \\sin{\\left(2 \\theta_{0}{\\left(t \\right)} \\right)}}{2} + \\nu_{1}{\\left(t \\right)} \\nu_{2}{\\left(t \\right)} \\cos{\\left(2 \\theta_{0}{\\left(t \\right)} \\right)} + \\frac{\\nu_{2}^{2}{\\left(t \\right)} \\sin{\\left(2 \\theta_{0}{\\left(t \\right)} \\right)}}{2}\\right) \\sin{\\left(\\alpha{\\left(t \\right)} + \\theta_{0}{\\left(t \\right)} \\right)}\\right) + \\left(\\cos{\\left(\\beta_{0} + \\alpha{\\left(t \\right)} \\right)} - \\cos{\\left(- \\beta_{0} + \\alpha{\\left(t \\right)} + 2 \\theta_{0}{\\left(t \\right)} \\right)}\\right) \\left(d \\left(- R \\nu_{3}^{2}{\\left(t \\right)} \\sin{\\left(\\beta_{0} + \\alpha{\\left(t \\right)} \\right)} + R \\cos{\\left(\\beta_{0} + \\alpha{\\left(t \\right)} \\right)} \\frac{d}{d t} \\nu_{3}{\\left(t \\right)} + \\nu_{1}{\\left(t \\right)} \\nu_{3}{\\left(t \\right)} \\cos{\\left(\\alpha{\\left(t \\right)} \\right)} - \\nu_{2}{\\left(t \\right)} \\nu_{3}{\\left(t \\right)} \\sin{\\left(\\alpha{\\left(t \\right)} \\right)} + \\sin{\\left(\\alpha{\\left(t \\right)} \\right)} \\frac{d}{d t} \\nu_{1}{\\left(t \\right)} + \\cos{\\left(\\alpha{\\left(t \\right)} \\right)} \\frac{d}{d t} \\nu_{2}{\\left(t \\right)}\\right) - \\left(R \\nu_{3}{\\left(t \\right)} \\cos{\\left(\\beta_{0} - \\theta_{0}{\\left(t \\right)} \\right)} - \\nu_{1}{\\left(t \\right)} \\sin{\\left(\\theta_{0}{\\left(t \\right)} \\right)} + \\nu_{2}{\\left(t \\right)} \\cos{\\left(\\theta_{0}{\\left(t \\right)} \\right)}\\right)^{2} \\sin{\\left(\\alpha{\\left(t \\right)} + \\theta_{0}{\\left(t \\right)} \\right)} - \\left(- \\frac{R^{2} \\nu_{3}^{2}{\\left(t \\right)} \\sin{\\left(2 \\beta_{0} - 2 \\theta_{0}{\\left(t \\right)} \\right)}}{2} - R d \\nu_{3}^{2}{\\left(t \\right)} \\sin{\\left(\\beta_{0} - \\theta_{0}{\\left(t \\right)} \\right)} + R d \\cos{\\left(\\beta_{0} - \\theta_{0}{\\left(t \\right)} \\right)} \\frac{d}{d t} \\nu_{3}{\\left(t \\right)} + R \\nu_{1}{\\left(t \\right)} \\nu_{3}{\\left(t \\right)} \\cos{\\left(\\beta_{0} - 2 \\theta_{0}{\\left(t \\right)} \\right)} - R \\nu_{2}{\\left(t \\right)} \\nu_{3}{\\left(t \\right)} \\sin{\\left(\\beta_{0} - 2 \\theta_{0}{\\left(t \\right)} \\right)} + d \\nu_{1}{\\left(t \\right)} \\nu_{3}{\\left(t \\right)} \\cos{\\left(\\theta_{0}{\\left(t \\right)} \\right)} + d \\nu_{2}{\\left(t \\right)} \\nu_{3}{\\left(t \\right)} \\sin{\\left(\\theta_{0}{\\left(t \\right)} \\right)} - d \\sin{\\left(\\theta_{0}{\\left(t \\right)} \\right)} \\frac{d}{d t} \\nu_{1}{\\left(t \\right)} + d \\cos{\\left(\\theta_{0}{\\left(t \\right)} \\right)} \\frac{d}{d t} \\nu_{2}{\\left(t \\right)} - \\frac{\\nu_{1}^{2}{\\left(t \\right)} \\sin{\\left(2 \\theta_{0}{\\left(t \\right)} \\right)}}{2} + \\nu_{1}{\\left(t \\right)} \\nu_{2}{\\left(t \\right)} \\cos{\\left(2 \\theta_{0}{\\left(t \\right)} \\right)} + \\frac{\\nu_{2}^{2}{\\left(t \\right)} \\sin{\\left(2 \\theta_{0}{\\left(t \\right)} \\right)}}{2}\\right) \\cos{\\left(\\alpha{\\left(t \\right)} + \\theta_{0}{\\left(t \\right)} \\right)}\\right)\\right) + 2 a d \\frac{d}{d t} \\nu_{3}{\\left(t \\right)}\\right)\\right)}{2}}{d^{3} r^{2}}$"
      ],
      "text/plain": [
       "(-R*b*r**2*(R*nu3(t)*cos(beta0 - theta0(t)) - nu1(t)*sin(theta0(t)) + nu2(t)*cos(theta0(t)))*(R*nu3(t)*cos(beta0 - theta0(t)) + d*nu3(t) - nu1(t)*sin(theta0(t)) + nu2(t)*cos(theta0(t)))*sin(beta0 - theta0(t)) + R*b*r**2*(-R**2*nu3(t)**2*sin(2*beta0 - 2*theta0(t))/2 - R*d*nu3(t)**2*sin(beta0 - theta0(t)) + R*d*cos(beta0 - theta0(t))*Derivative(nu3(t), t) + R*nu1(t)*nu3(t)*cos(beta0 - 2*theta0(t)) - R*nu2(t)*nu3(t)*sin(beta0 - 2*theta0(t)) + d*nu1(t)*nu3(t)*cos(theta0(t)) + d*nu2(t)*nu3(t)*sin(theta0(t)) - d*sin(theta0(t))*Derivative(nu1(t), t) + d*cos(theta0(t))*Derivative(nu2(t), t) - nu1(t)**2*sin(2*theta0(t))/2 + nu1(t)*nu2(t)*cos(2*theta0(t)) + nu2(t)**2*sin(2*theta0(t))/2)*cos(beta0 - theta0(t)) + d**2*(-2*R*c*(-R*nu3(t)*sin(beta0 - theta0(t)) + nu1(t)*cos(theta0(t)) + nu2(t)*sin(theta0(t)))*(R*nu3(t)*cos(beta0 - theta0(t)) + d*nu3(t) - nu1(t)*sin(theta0(t)) + nu2(t)*cos(theta0(t)))*cos(beta0 - theta0(t)) - 2*R*c*(-R*(R*nu3(t)*cos(beta0 - theta0(t)) + d*nu3(t) - nu1(t)*sin(theta0(t)) + nu2(t)*cos(theta0(t)))*nu3(t)*cos(beta0 - theta0(t)) + d*(-R*sin(beta0 - theta0(t))*Derivative(nu3(t), t) + sin(theta0(t))*Derivative(nu2(t), t) + cos(theta0(t))*Derivative(nu1(t), t)) + (R*nu3(t)*cos(beta0 - theta0(t)) + d*nu3(t) - nu1(t)*sin(theta0(t)) + nu2(t)*cos(theta0(t)))*nu1(t)*sin(theta0(t)) - (R*nu3(t)*cos(beta0 - theta0(t)) + d*nu3(t) - nu1(t)*sin(theta0(t)) + nu2(t)*cos(theta0(t)))*nu2(t)*cos(theta0(t)))*sin(beta0 - theta0(t)) + r**2*(R*m2*((-d*nu3(t)*sin(beta0 + alpha(t)) + (-2*R*nu3(t)*cos(beta0 - theta0(t)) - d*nu3(t) + 2*nu1(t)*sin(theta0(t)) - 2*nu2(t)*cos(theta0(t)))*sin(-beta0 + alpha(t) + 2*theta0(t)))*(R*nu3(t)*cos(beta0 + alpha(t)) - (R*nu3(t)*cos(beta0 - theta0(t)) - nu1(t)*sin(theta0(t)) + nu2(t)*cos(theta0(t)))*cos(alpha(t) + theta0(t)) + nu1(t)*sin(alpha(t)) + nu2(t)*cos(alpha(t))) - (-d*nu3(t)*cos(beta0 + alpha(t)) + (-2*R*nu3(t)*cos(beta0 - theta0(t)) - d*nu3(t) + 2*nu1(t)*sin(theta0(t)) - 2*nu2(t)*cos(theta0(t)))*cos(-beta0 + alpha(t) + 2*theta0(t)))*(R*nu3(t)*sin(beta0 + alpha(t)) - (R*nu3(t)*cos(beta0 - theta0(t)) - nu1(t)*sin(theta0(t)) + nu2(t)*cos(theta0(t)))*sin(alpha(t) + theta0(t)) - nu1(t)*cos(alpha(t)) + nu2(t)*sin(alpha(t))) + (sin(beta0 + alpha(t)) - sin(-beta0 + alpha(t) + 2*theta0(t)))*(d*(R*nu3(t)**2*cos(beta0 + alpha(t)) + R*sin(beta0 + alpha(t))*Derivative(nu3(t), t) + nu1(t)*nu3(t)*sin(alpha(t)) + nu2(t)*nu3(t)*cos(alpha(t)) + sin(alpha(t))*Derivative(nu2(t), t) - cos(alpha(t))*Derivative(nu1(t), t)) + (R*nu3(t)*cos(beta0 - theta0(t)) - nu1(t)*sin(theta0(t)) + nu2(t)*cos(theta0(t)))**2*cos(alpha(t) + theta0(t)) - (-R**2*nu3(t)**2*sin(2*beta0 - 2*theta0(t))/2 - R*d*nu3(t)**2*sin(beta0 - theta0(t)) + R*d*cos(beta0 - theta0(t))*Derivative(nu3(t), t) + R*nu1(t)*nu3(t)*cos(beta0 - 2*theta0(t)) - R*nu2(t)*nu3(t)*sin(beta0 - 2*theta0(t)) + d*nu1(t)*nu3(t)*cos(theta0(t)) + d*nu2(t)*nu3(t)*sin(theta0(t)) - d*sin(theta0(t))*Derivative(nu1(t), t) + d*cos(theta0(t))*Derivative(nu2(t), t) - nu1(t)**2*sin(2*theta0(t))/2 + nu1(t)*nu2(t)*cos(2*theta0(t)) + nu2(t)**2*sin(2*theta0(t))/2)*sin(alpha(t) + theta0(t))) + (cos(beta0 + alpha(t)) - cos(-beta0 + alpha(t) + 2*theta0(t)))*(d*(-R*nu3(t)**2*sin(beta0 + alpha(t)) + R*cos(beta0 + alpha(t))*Derivative(nu3(t), t) + nu1(t)*nu3(t)*cos(alpha(t)) - nu2(t)*nu3(t)*sin(alpha(t)) + sin(alpha(t))*Derivative(nu1(t), t) + cos(alpha(t))*Derivative(nu2(t), t)) - (R*nu3(t)*cos(beta0 - theta0(t)) - nu1(t)*sin(theta0(t)) + nu2(t)*cos(theta0(t)))**2*sin(alpha(t) + theta0(t)) - (-R**2*nu3(t)**2*sin(2*beta0 - 2*theta0(t))/2 - R*d*nu3(t)**2*sin(beta0 - theta0(t)) + R*d*cos(beta0 - theta0(t))*Derivative(nu3(t), t) + R*nu1(t)*nu3(t)*cos(beta0 - 2*theta0(t)) - R*nu2(t)*nu3(t)*sin(beta0 - 2*theta0(t)) + d*nu1(t)*nu3(t)*cos(theta0(t)) + d*nu2(t)*nu3(t)*sin(theta0(t)) - d*sin(theta0(t))*Derivative(nu1(t), t) + d*cos(theta0(t))*Derivative(nu2(t), t) - nu1(t)**2*sin(2*theta0(t))/2 + nu1(t)*nu2(t)*cos(2*theta0(t)) + nu2(t)**2*sin(2*theta0(t))/2)*cos(alpha(t) + theta0(t)))) + 2*a*d*Derivative(nu3(t), t)))/2)/(d**3*r**2)"
      ]
     },
     "metadata": {},
     "output_type": "display_data"
    },
    {
     "data": {
      "text/latex": [
       "$\\displaystyle - \\frac{R \\operatorname{T_{1}}{\\left(t \\right)} \\sin{\\left(\\beta_{0} - \\theta_{0}{\\left(t \\right)} \\right)}}{r} - \\frac{R \\operatorname{W_{1}}{\\left(t \\right)} \\cos{\\left(\\beta_{0} - \\theta_{0}{\\left(t \\right)} \\right)}}{d} - \\left(- \\sin{\\left(\\alpha{\\left(t \\right)} \\right)} {p}_{1} + \\cos{\\left(\\alpha{\\left(t \\right)} \\right)} {p}_{2}\\right) \\nu_{1}{\\left(t \\right)} - \\left(- \\sin{\\left(\\alpha{\\left(t \\right)} \\right)} {p}_{2} - \\cos{\\left(\\alpha{\\left(t \\right)} \\right)} {p}_{1}\\right) \\nu_{2}{\\left(t \\right)} - \\operatorname{W_{1}}{\\left(t \\right)}$"
      ],
      "text/plain": [
       "-R*T1(t)*sin(beta0 - theta0(t))/r - R*W1(t)*cos(beta0 - theta0(t))/d - (-sin(alpha(t))*p[1] + cos(alpha(t))*p[2])*nu1(t) - (-sin(alpha(t))*p[2] - cos(alpha(t))*p[1])*nu2(t) - W1(t)"
      ]
     },
     "metadata": {},
     "output_type": "display_data"
    },
    {
     "name": "stdout",
     "output_type": "stream",
     "text": [
      "CPU times: user 1h 45min 28s, sys: 45.4 s, total: 1h 46min 14s\n",
      "Wall time: 1h 49min 26s\n"
     ]
    },
    {
     "data": {
      "text/latex": [
       "$\\displaystyle \\frac{R m_{2} \\nu_{1}{\\left(t \\right)} \\nu_{3}{\\left(t \\right)} \\cos{\\left(\\beta_{0} \\right)}}{2} - \\frac{R m_{2} \\nu_{1}{\\left(t \\right)} \\nu_{3}{\\left(t \\right)} \\cos{\\left(\\beta_{0} - 2 \\theta_{0}{\\left(t \\right)} \\right)}}{2} + \\frac{R m_{2} \\nu_{2}{\\left(t \\right)} \\nu_{3}{\\left(t \\right)} \\sin{\\left(\\beta_{0} \\right)}}{2} + \\frac{R m_{2} \\nu_{2}{\\left(t \\right)} \\nu_{3}{\\left(t \\right)} \\sin{\\left(\\beta_{0} - 2 \\theta_{0}{\\left(t \\right)} \\right)}}{2} + \\frac{R \\operatorname{T_{1}}{\\left(t \\right)} \\sin{\\left(\\beta_{0} - \\theta_{0}{\\left(t \\right)} \\right)}}{r} + \\frac{R \\operatorname{W_{1}}{\\left(t \\right)} \\cos{\\left(\\beta_{0} - \\theta_{0}{\\left(t \\right)} \\right)}}{d} + \\frac{m_{2} \\nu_{1}^{2}{\\left(t \\right)} \\sin{\\left(2 \\theta_{0}{\\left(t \\right)} \\right)}}{2} - m_{2} \\nu_{1}{\\left(t \\right)} \\nu_{2}{\\left(t \\right)} \\cos{\\left(2 \\theta_{0}{\\left(t \\right)} \\right)} - \\frac{m_{2} \\nu_{2}^{2}{\\left(t \\right)} \\sin{\\left(2 \\theta_{0}{\\left(t \\right)} \\right)}}{2} + \\operatorname{W_{1}}{\\left(t \\right)} = - \\frac{- R b r^{2} \\left(R \\nu_{3}{\\left(t \\right)} \\cos{\\left(\\beta_{0} - \\theta_{0}{\\left(t \\right)} \\right)} - \\nu_{1}{\\left(t \\right)} \\sin{\\left(\\theta_{0}{\\left(t \\right)} \\right)} + \\nu_{2}{\\left(t \\right)} \\cos{\\left(\\theta_{0}{\\left(t \\right)} \\right)}\\right) \\left(R \\nu_{3}{\\left(t \\right)} \\cos{\\left(\\beta_{0} - \\theta_{0}{\\left(t \\right)} \\right)} + d \\nu_{3}{\\left(t \\right)} - \\nu_{1}{\\left(t \\right)} \\sin{\\left(\\theta_{0}{\\left(t \\right)} \\right)} + \\nu_{2}{\\left(t \\right)} \\cos{\\left(\\theta_{0}{\\left(t \\right)} \\right)}\\right) \\sin{\\left(\\beta_{0} - \\theta_{0}{\\left(t \\right)} \\right)} + \\frac{R b r^{2} \\left(- R^{2} \\nu_{3}^{2}{\\left(t \\right)} \\sin{\\left(2 \\beta_{0} - 2 \\theta_{0}{\\left(t \\right)} \\right)} - 2 R d \\nu_{3}^{2}{\\left(t \\right)} \\sin{\\left(\\beta_{0} - \\theta_{0}{\\left(t \\right)} \\right)} + 2 R d \\cos{\\left(\\beta_{0} - \\theta_{0}{\\left(t \\right)} \\right)} \\frac{d}{d t} \\nu_{3}{\\left(t \\right)} + 2 R \\nu_{1}{\\left(t \\right)} \\nu_{3}{\\left(t \\right)} \\cos{\\left(\\beta_{0} - 2 \\theta_{0}{\\left(t \\right)} \\right)} - 2 R \\nu_{2}{\\left(t \\right)} \\nu_{3}{\\left(t \\right)} \\sin{\\left(\\beta_{0} - 2 \\theta_{0}{\\left(t \\right)} \\right)} + 2 d \\nu_{1}{\\left(t \\right)} \\nu_{3}{\\left(t \\right)} \\cos{\\left(\\theta_{0}{\\left(t \\right)} \\right)} + 2 d \\nu_{2}{\\left(t \\right)} \\nu_{3}{\\left(t \\right)} \\sin{\\left(\\theta_{0}{\\left(t \\right)} \\right)} - 2 d \\sin{\\left(\\theta_{0}{\\left(t \\right)} \\right)} \\frac{d}{d t} \\nu_{1}{\\left(t \\right)} + 2 d \\cos{\\left(\\theta_{0}{\\left(t \\right)} \\right)} \\frac{d}{d t} \\nu_{2}{\\left(t \\right)} - \\nu_{1}^{2}{\\left(t \\right)} \\sin{\\left(2 \\theta_{0}{\\left(t \\right)} \\right)} + 2 \\nu_{1}{\\left(t \\right)} \\nu_{2}{\\left(t \\right)} \\cos{\\left(2 \\theta_{0}{\\left(t \\right)} \\right)} + \\nu_{2}^{2}{\\left(t \\right)} \\sin{\\left(2 \\theta_{0}{\\left(t \\right)} \\right)}\\right) \\cos{\\left(\\beta_{0} - \\theta_{0}{\\left(t \\right)} \\right)}}{2} + \\frac{d^{2} \\left(- 4 R c \\left(- R \\nu_{3}{\\left(t \\right)} \\sin{\\left(\\beta_{0} - \\theta_{0}{\\left(t \\right)} \\right)} + \\nu_{1}{\\left(t \\right)} \\cos{\\left(\\theta_{0}{\\left(t \\right)} \\right)} + \\nu_{2}{\\left(t \\right)} \\sin{\\left(\\theta_{0}{\\left(t \\right)} \\right)}\\right) \\left(R \\nu_{3}{\\left(t \\right)} \\cos{\\left(\\beta_{0} - \\theta_{0}{\\left(t \\right)} \\right)} + d \\nu_{3}{\\left(t \\right)} - \\nu_{1}{\\left(t \\right)} \\sin{\\left(\\theta_{0}{\\left(t \\right)} \\right)} + \\nu_{2}{\\left(t \\right)} \\cos{\\left(\\theta_{0}{\\left(t \\right)} \\right)}\\right) \\cos{\\left(\\beta_{0} - \\theta_{0}{\\left(t \\right)} \\right)} - 4 R c \\left(- R \\left(R \\nu_{3}{\\left(t \\right)} \\cos{\\left(\\beta_{0} - \\theta_{0}{\\left(t \\right)} \\right)} + d \\nu_{3}{\\left(t \\right)} - \\nu_{1}{\\left(t \\right)} \\sin{\\left(\\theta_{0}{\\left(t \\right)} \\right)} + \\nu_{2}{\\left(t \\right)} \\cos{\\left(\\theta_{0}{\\left(t \\right)} \\right)}\\right) \\nu_{3}{\\left(t \\right)} \\cos{\\left(\\beta_{0} - \\theta_{0}{\\left(t \\right)} \\right)} + d \\left(- R \\sin{\\left(\\beta_{0} - \\theta_{0}{\\left(t \\right)} \\right)} \\frac{d}{d t} \\nu_{3}{\\left(t \\right)} + \\sin{\\left(\\theta_{0}{\\left(t \\right)} \\right)} \\frac{d}{d t} \\nu_{2}{\\left(t \\right)} + \\cos{\\left(\\theta_{0}{\\left(t \\right)} \\right)} \\frac{d}{d t} \\nu_{1}{\\left(t \\right)}\\right) + \\left(R \\nu_{3}{\\left(t \\right)} \\cos{\\left(\\beta_{0} - \\theta_{0}{\\left(t \\right)} \\right)} + d \\nu_{3}{\\left(t \\right)} - \\nu_{1}{\\left(t \\right)} \\sin{\\left(\\theta_{0}{\\left(t \\right)} \\right)} + \\nu_{2}{\\left(t \\right)} \\cos{\\left(\\theta_{0}{\\left(t \\right)} \\right)}\\right) \\nu_{1}{\\left(t \\right)} \\sin{\\left(\\theta_{0}{\\left(t \\right)} \\right)} - \\left(R \\nu_{3}{\\left(t \\right)} \\cos{\\left(\\beta_{0} - \\theta_{0}{\\left(t \\right)} \\right)} + d \\nu_{3}{\\left(t \\right)} - \\nu_{1}{\\left(t \\right)} \\sin{\\left(\\theta_{0}{\\left(t \\right)} \\right)} + \\nu_{2}{\\left(t \\right)} \\cos{\\left(\\theta_{0}{\\left(t \\right)} \\right)}\\right) \\nu_{2}{\\left(t \\right)} \\cos{\\left(\\theta_{0}{\\left(t \\right)} \\right)}\\right) \\sin{\\left(\\beta_{0} - \\theta_{0}{\\left(t \\right)} \\right)} + r^{2} \\left(R m_{2} \\left(2 \\left(- d \\nu_{3}{\\left(t \\right)} \\sin{\\left(\\beta_{0} + \\alpha{\\left(t \\right)} \\right)} + \\left(- 2 R \\nu_{3}{\\left(t \\right)} \\cos{\\left(\\beta_{0} - \\theta_{0}{\\left(t \\right)} \\right)} - d \\nu_{3}{\\left(t \\right)} + 2 \\nu_{1}{\\left(t \\right)} \\sin{\\left(\\theta_{0}{\\left(t \\right)} \\right)} - 2 \\nu_{2}{\\left(t \\right)} \\cos{\\left(\\theta_{0}{\\left(t \\right)} \\right)}\\right) \\sin{\\left(- \\beta_{0} + \\alpha{\\left(t \\right)} + 2 \\theta_{0}{\\left(t \\right)} \\right)}\\right) \\left(R \\nu_{3}{\\left(t \\right)} \\cos{\\left(\\beta_{0} + \\alpha{\\left(t \\right)} \\right)} - \\left(R \\nu_{3}{\\left(t \\right)} \\cos{\\left(\\beta_{0} - \\theta_{0}{\\left(t \\right)} \\right)} - \\nu_{1}{\\left(t \\right)} \\sin{\\left(\\theta_{0}{\\left(t \\right)} \\right)} + \\nu_{2}{\\left(t \\right)} \\cos{\\left(\\theta_{0}{\\left(t \\right)} \\right)}\\right) \\cos{\\left(\\alpha{\\left(t \\right)} + \\theta_{0}{\\left(t \\right)} \\right)} + \\nu_{1}{\\left(t \\right)} \\sin{\\left(\\alpha{\\left(t \\right)} \\right)} + \\nu_{2}{\\left(t \\right)} \\cos{\\left(\\alpha{\\left(t \\right)} \\right)}\\right) - 2 \\left(- d \\nu_{3}{\\left(t \\right)} \\cos{\\left(\\beta_{0} + \\alpha{\\left(t \\right)} \\right)} + \\left(- 2 R \\nu_{3}{\\left(t \\right)} \\cos{\\left(\\beta_{0} - \\theta_{0}{\\left(t \\right)} \\right)} - d \\nu_{3}{\\left(t \\right)} + 2 \\nu_{1}{\\left(t \\right)} \\sin{\\left(\\theta_{0}{\\left(t \\right)} \\right)} - 2 \\nu_{2}{\\left(t \\right)} \\cos{\\left(\\theta_{0}{\\left(t \\right)} \\right)}\\right) \\cos{\\left(- \\beta_{0} + \\alpha{\\left(t \\right)} + 2 \\theta_{0}{\\left(t \\right)} \\right)}\\right) \\left(R \\nu_{3}{\\left(t \\right)} \\sin{\\left(\\beta_{0} + \\alpha{\\left(t \\right)} \\right)} - \\left(R \\nu_{3}{\\left(t \\right)} \\cos{\\left(\\beta_{0} - \\theta_{0}{\\left(t \\right)} \\right)} - \\nu_{1}{\\left(t \\right)} \\sin{\\left(\\theta_{0}{\\left(t \\right)} \\right)} + \\nu_{2}{\\left(t \\right)} \\cos{\\left(\\theta_{0}{\\left(t \\right)} \\right)}\\right) \\sin{\\left(\\alpha{\\left(t \\right)} + \\theta_{0}{\\left(t \\right)} \\right)} - \\nu_{1}{\\left(t \\right)} \\cos{\\left(\\alpha{\\left(t \\right)} \\right)} + \\nu_{2}{\\left(t \\right)} \\sin{\\left(\\alpha{\\left(t \\right)} \\right)}\\right) + \\left(\\sin{\\left(\\beta_{0} + \\alpha{\\left(t \\right)} \\right)} - \\sin{\\left(- \\beta_{0} + \\alpha{\\left(t \\right)} + 2 \\theta_{0}{\\left(t \\right)} \\right)}\\right) \\left(2 d \\left(R \\nu_{3}^{2}{\\left(t \\right)} \\cos{\\left(\\beta_{0} + \\alpha{\\left(t \\right)} \\right)} + R \\sin{\\left(\\beta_{0} + \\alpha{\\left(t \\right)} \\right)} \\frac{d}{d t} \\nu_{3}{\\left(t \\right)} + \\nu_{1}{\\left(t \\right)} \\nu_{3}{\\left(t \\right)} \\sin{\\left(\\alpha{\\left(t \\right)} \\right)} + \\nu_{2}{\\left(t \\right)} \\nu_{3}{\\left(t \\right)} \\cos{\\left(\\alpha{\\left(t \\right)} \\right)} + \\sin{\\left(\\alpha{\\left(t \\right)} \\right)} \\frac{d}{d t} \\nu_{2}{\\left(t \\right)} - \\cos{\\left(\\alpha{\\left(t \\right)} \\right)} \\frac{d}{d t} \\nu_{1}{\\left(t \\right)}\\right) + 2 \\left(R \\nu_{3}{\\left(t \\right)} \\cos{\\left(\\beta_{0} - \\theta_{0}{\\left(t \\right)} \\right)} - \\nu_{1}{\\left(t \\right)} \\sin{\\left(\\theta_{0}{\\left(t \\right)} \\right)} + \\nu_{2}{\\left(t \\right)} \\cos{\\left(\\theta_{0}{\\left(t \\right)} \\right)}\\right)^{2} \\cos{\\left(\\alpha{\\left(t \\right)} + \\theta_{0}{\\left(t \\right)} \\right)} - \\left(- R^{2} \\nu_{3}^{2}{\\left(t \\right)} \\sin{\\left(2 \\beta_{0} - 2 \\theta_{0}{\\left(t \\right)} \\right)} - 2 R d \\nu_{3}^{2}{\\left(t \\right)} \\sin{\\left(\\beta_{0} - \\theta_{0}{\\left(t \\right)} \\right)} + 2 R d \\cos{\\left(\\beta_{0} - \\theta_{0}{\\left(t \\right)} \\right)} \\frac{d}{d t} \\nu_{3}{\\left(t \\right)} + 2 R \\nu_{1}{\\left(t \\right)} \\nu_{3}{\\left(t \\right)} \\cos{\\left(\\beta_{0} - 2 \\theta_{0}{\\left(t \\right)} \\right)} - 2 R \\nu_{2}{\\left(t \\right)} \\nu_{3}{\\left(t \\right)} \\sin{\\left(\\beta_{0} - 2 \\theta_{0}{\\left(t \\right)} \\right)} + 2 d \\nu_{1}{\\left(t \\right)} \\nu_{3}{\\left(t \\right)} \\cos{\\left(\\theta_{0}{\\left(t \\right)} \\right)} + 2 d \\nu_{2}{\\left(t \\right)} \\nu_{3}{\\left(t \\right)} \\sin{\\left(\\theta_{0}{\\left(t \\right)} \\right)} - 2 d \\sin{\\left(\\theta_{0}{\\left(t \\right)} \\right)} \\frac{d}{d t} \\nu_{1}{\\left(t \\right)} + 2 d \\cos{\\left(\\theta_{0}{\\left(t \\right)} \\right)} \\frac{d}{d t} \\nu_{2}{\\left(t \\right)} - \\nu_{1}^{2}{\\left(t \\right)} \\sin{\\left(2 \\theta_{0}{\\left(t \\right)} \\right)} + 2 \\nu_{1}{\\left(t \\right)} \\nu_{2}{\\left(t \\right)} \\cos{\\left(2 \\theta_{0}{\\left(t \\right)} \\right)} + \\nu_{2}^{2}{\\left(t \\right)} \\sin{\\left(2 \\theta_{0}{\\left(t \\right)} \\right)}\\right) \\sin{\\left(\\alpha{\\left(t \\right)} + \\theta_{0}{\\left(t \\right)} \\right)}\\right) + \\left(\\cos{\\left(\\beta_{0} + \\alpha{\\left(t \\right)} \\right)} - \\cos{\\left(- \\beta_{0} + \\alpha{\\left(t \\right)} + 2 \\theta_{0}{\\left(t \\right)} \\right)}\\right) \\left(2 d \\left(- R \\nu_{3}^{2}{\\left(t \\right)} \\sin{\\left(\\beta_{0} + \\alpha{\\left(t \\right)} \\right)} + R \\cos{\\left(\\beta_{0} + \\alpha{\\left(t \\right)} \\right)} \\frac{d}{d t} \\nu_{3}{\\left(t \\right)} + \\nu_{1}{\\left(t \\right)} \\nu_{3}{\\left(t \\right)} \\cos{\\left(\\alpha{\\left(t \\right)} \\right)} - \\nu_{2}{\\left(t \\right)} \\nu_{3}{\\left(t \\right)} \\sin{\\left(\\alpha{\\left(t \\right)} \\right)} + \\sin{\\left(\\alpha{\\left(t \\right)} \\right)} \\frac{d}{d t} \\nu_{1}{\\left(t \\right)} + \\cos{\\left(\\alpha{\\left(t \\right)} \\right)} \\frac{d}{d t} \\nu_{2}{\\left(t \\right)}\\right) - 2 \\left(R \\nu_{3}{\\left(t \\right)} \\cos{\\left(\\beta_{0} - \\theta_{0}{\\left(t \\right)} \\right)} - \\nu_{1}{\\left(t \\right)} \\sin{\\left(\\theta_{0}{\\left(t \\right)} \\right)} + \\nu_{2}{\\left(t \\right)} \\cos{\\left(\\theta_{0}{\\left(t \\right)} \\right)}\\right)^{2} \\sin{\\left(\\alpha{\\left(t \\right)} + \\theta_{0}{\\left(t \\right)} \\right)} - \\left(- R^{2} \\nu_{3}^{2}{\\left(t \\right)} \\sin{\\left(2 \\beta_{0} - 2 \\theta_{0}{\\left(t \\right)} \\right)} - 2 R d \\nu_{3}^{2}{\\left(t \\right)} \\sin{\\left(\\beta_{0} - \\theta_{0}{\\left(t \\right)} \\right)} + 2 R d \\cos{\\left(\\beta_{0} - \\theta_{0}{\\left(t \\right)} \\right)} \\frac{d}{d t} \\nu_{3}{\\left(t \\right)} + 2 R \\nu_{1}{\\left(t \\right)} \\nu_{3}{\\left(t \\right)} \\cos{\\left(\\beta_{0} - 2 \\theta_{0}{\\left(t \\right)} \\right)} - 2 R \\nu_{2}{\\left(t \\right)} \\nu_{3}{\\left(t \\right)} \\sin{\\left(\\beta_{0} - 2 \\theta_{0}{\\left(t \\right)} \\right)} + 2 d \\nu_{1}{\\left(t \\right)} \\nu_{3}{\\left(t \\right)} \\cos{\\left(\\theta_{0}{\\left(t \\right)} \\right)} + 2 d \\nu_{2}{\\left(t \\right)} \\nu_{3}{\\left(t \\right)} \\sin{\\left(\\theta_{0}{\\left(t \\right)} \\right)} - 2 d \\sin{\\left(\\theta_{0}{\\left(t \\right)} \\right)} \\frac{d}{d t} \\nu_{1}{\\left(t \\right)} + 2 d \\cos{\\left(\\theta_{0}{\\left(t \\right)} \\right)} \\frac{d}{d t} \\nu_{2}{\\left(t \\right)} - \\nu_{1}^{2}{\\left(t \\right)} \\sin{\\left(2 \\theta_{0}{\\left(t \\right)} \\right)} + 2 \\nu_{1}{\\left(t \\right)} \\nu_{2}{\\left(t \\right)} \\cos{\\left(2 \\theta_{0}{\\left(t \\right)} \\right)} + \\nu_{2}^{2}{\\left(t \\right)} \\sin{\\left(2 \\theta_{0}{\\left(t \\right)} \\right)}\\right) \\cos{\\left(\\alpha{\\left(t \\right)} + \\theta_{0}{\\left(t \\right)} \\right)}\\right)\\right) + 4 a d \\frac{d}{d t} \\nu_{3}{\\left(t \\right)}\\right)\\right)}{4}}{d^{3} r^{2}}$"
      ],
      "text/plain": [
       "Eq(R*m2*nu1(t)*nu3(t)*cos(beta0)/2 - R*m2*nu1(t)*nu3(t)*cos(beta0 - 2*theta0(t))/2 + R*m2*nu2(t)*nu3(t)*sin(beta0)/2 + R*m2*nu2(t)*nu3(t)*sin(beta0 - 2*theta0(t))/2 + R*T1(t)*sin(beta0 - theta0(t))/r + R*W1(t)*cos(beta0 - theta0(t))/d + m2*nu1(t)**2*sin(2*theta0(t))/2 - m2*nu1(t)*nu2(t)*cos(2*theta0(t)) - m2*nu2(t)**2*sin(2*theta0(t))/2 + W1(t), -(-R*b*r**2*(R*nu3(t)*cos(beta0 - theta0(t)) - nu1(t)*sin(theta0(t)) + nu2(t)*cos(theta0(t)))*(R*nu3(t)*cos(beta0 - theta0(t)) + d*nu3(t) - nu1(t)*sin(theta0(t)) + nu2(t)*cos(theta0(t)))*sin(beta0 - theta0(t)) + R*b*r**2*(-R**2*nu3(t)**2*sin(2*beta0 - 2*theta0(t)) - 2*R*d*nu3(t)**2*sin(beta0 - theta0(t)) + 2*R*d*cos(beta0 - theta0(t))*Derivative(nu3(t), t) + 2*R*nu1(t)*nu3(t)*cos(beta0 - 2*theta0(t)) - 2*R*nu2(t)*nu3(t)*sin(beta0 - 2*theta0(t)) + 2*d*nu1(t)*nu3(t)*cos(theta0(t)) + 2*d*nu2(t)*nu3(t)*sin(theta0(t)) - 2*d*sin(theta0(t))*Derivative(nu1(t), t) + 2*d*cos(theta0(t))*Derivative(nu2(t), t) - nu1(t)**2*sin(2*theta0(t)) + 2*nu1(t)*nu2(t)*cos(2*theta0(t)) + nu2(t)**2*sin(2*theta0(t)))*cos(beta0 - theta0(t))/2 + d**2*(-4*R*c*(-R*nu3(t)*sin(beta0 - theta0(t)) + nu1(t)*cos(theta0(t)) + nu2(t)*sin(theta0(t)))*(R*nu3(t)*cos(beta0 - theta0(t)) + d*nu3(t) - nu1(t)*sin(theta0(t)) + nu2(t)*cos(theta0(t)))*cos(beta0 - theta0(t)) - 4*R*c*(-R*(R*nu3(t)*cos(beta0 - theta0(t)) + d*nu3(t) - nu1(t)*sin(theta0(t)) + nu2(t)*cos(theta0(t)))*nu3(t)*cos(beta0 - theta0(t)) + d*(-R*sin(beta0 - theta0(t))*Derivative(nu3(t), t) + sin(theta0(t))*Derivative(nu2(t), t) + cos(theta0(t))*Derivative(nu1(t), t)) + (R*nu3(t)*cos(beta0 - theta0(t)) + d*nu3(t) - nu1(t)*sin(theta0(t)) + nu2(t)*cos(theta0(t)))*nu1(t)*sin(theta0(t)) - (R*nu3(t)*cos(beta0 - theta0(t)) + d*nu3(t) - nu1(t)*sin(theta0(t)) + nu2(t)*cos(theta0(t)))*nu2(t)*cos(theta0(t)))*sin(beta0 - theta0(t)) + r**2*(R*m2*(2*(-d*nu3(t)*sin(beta0 + alpha(t)) + (-2*R*nu3(t)*cos(beta0 - theta0(t)) - d*nu3(t) + 2*nu1(t)*sin(theta0(t)) - 2*nu2(t)*cos(theta0(t)))*sin(-beta0 + alpha(t) + 2*theta0(t)))*(R*nu3(t)*cos(beta0 + alpha(t)) - (R*nu3(t)*cos(beta0 - theta0(t)) - nu1(t)*sin(theta0(t)) + nu2(t)*cos(theta0(t)))*cos(alpha(t) + theta0(t)) + nu1(t)*sin(alpha(t)) + nu2(t)*cos(alpha(t))) - 2*(-d*nu3(t)*cos(beta0 + alpha(t)) + (-2*R*nu3(t)*cos(beta0 - theta0(t)) - d*nu3(t) + 2*nu1(t)*sin(theta0(t)) - 2*nu2(t)*cos(theta0(t)))*cos(-beta0 + alpha(t) + 2*theta0(t)))*(R*nu3(t)*sin(beta0 + alpha(t)) - (R*nu3(t)*cos(beta0 - theta0(t)) - nu1(t)*sin(theta0(t)) + nu2(t)*cos(theta0(t)))*sin(alpha(t) + theta0(t)) - nu1(t)*cos(alpha(t)) + nu2(t)*sin(alpha(t))) + (sin(beta0 + alpha(t)) - sin(-beta0 + alpha(t) + 2*theta0(t)))*(2*d*(R*nu3(t)**2*cos(beta0 + alpha(t)) + R*sin(beta0 + alpha(t))*Derivative(nu3(t), t) + nu1(t)*nu3(t)*sin(alpha(t)) + nu2(t)*nu3(t)*cos(alpha(t)) + sin(alpha(t))*Derivative(nu2(t), t) - cos(alpha(t))*Derivative(nu1(t), t)) + 2*(R*nu3(t)*cos(beta0 - theta0(t)) - nu1(t)*sin(theta0(t)) + nu2(t)*cos(theta0(t)))**2*cos(alpha(t) + theta0(t)) - (-R**2*nu3(t)**2*sin(2*beta0 - 2*theta0(t)) - 2*R*d*nu3(t)**2*sin(beta0 - theta0(t)) + 2*R*d*cos(beta0 - theta0(t))*Derivative(nu3(t), t) + 2*R*nu1(t)*nu3(t)*cos(beta0 - 2*theta0(t)) - 2*R*nu2(t)*nu3(t)*sin(beta0 - 2*theta0(t)) + 2*d*nu1(t)*nu3(t)*cos(theta0(t)) + 2*d*nu2(t)*nu3(t)*sin(theta0(t)) - 2*d*sin(theta0(t))*Derivative(nu1(t), t) + 2*d*cos(theta0(t))*Derivative(nu2(t), t) - nu1(t)**2*sin(2*theta0(t)) + 2*nu1(t)*nu2(t)*cos(2*theta0(t)) + nu2(t)**2*sin(2*theta0(t)))*sin(alpha(t) + theta0(t))) + (cos(beta0 + alpha(t)) - cos(-beta0 + alpha(t) + 2*theta0(t)))*(2*d*(-R*nu3(t)**2*sin(beta0 + alpha(t)) + R*cos(beta0 + alpha(t))*Derivative(nu3(t), t) + nu1(t)*nu3(t)*cos(alpha(t)) - nu2(t)*nu3(t)*sin(alpha(t)) + sin(alpha(t))*Derivative(nu1(t), t) + cos(alpha(t))*Derivative(nu2(t), t)) - 2*(R*nu3(t)*cos(beta0 - theta0(t)) - nu1(t)*sin(theta0(t)) + nu2(t)*cos(theta0(t)))**2*sin(alpha(t) + theta0(t)) - (-R**2*nu3(t)**2*sin(2*beta0 - 2*theta0(t)) - 2*R*d*nu3(t)**2*sin(beta0 - theta0(t)) + 2*R*d*cos(beta0 - theta0(t))*Derivative(nu3(t), t) + 2*R*nu1(t)*nu3(t)*cos(beta0 - 2*theta0(t)) - 2*R*nu2(t)*nu3(t)*sin(beta0 - 2*theta0(t)) + 2*d*nu1(t)*nu3(t)*cos(theta0(t)) + 2*d*nu2(t)*nu3(t)*sin(theta0(t)) - 2*d*sin(theta0(t))*Derivative(nu1(t), t) + 2*d*cos(theta0(t))*Derivative(nu2(t), t) - nu1(t)**2*sin(2*theta0(t)) + 2*nu1(t)*nu2(t)*cos(2*theta0(t)) + nu2(t)**2*sin(2*theta0(t)))*cos(alpha(t) + theta0(t)))) + 4*a*d*Derivative(nu3(t), t)))/4)/(d**3*r**2))"
      ]
     },
     "execution_count": 177,
     "metadata": {},
     "output_type": "execute_result"
    }
   ],
   "source": [
    "%%time\n",
    "S.tatarinov_equation(2)"
   ]
  },
  {
   "cell_type": "code",
   "execution_count": 178,
   "metadata": {},
   "outputs": [],
   "source": [
    "save(S.tatarinov_equations, 'data/eqs+TW')"
   ]
  },
  {
   "cell_type": "code",
   "execution_count": null,
   "metadata": {},
   "outputs": [],
   "source": []
  },
  {
   "cell_type": "code",
   "execution_count": 178,
   "metadata": {},
   "outputs": [
    {
     "data": {
      "text/latex": [
       "$\\displaystyle \\frac{R m_{2} \\nu_{1}{\\left(t \\right)} \\nu_{3}{\\left(t \\right)} \\cos{\\left(\\beta_{0} \\right)}}{2} - \\frac{R m_{2} \\nu_{1}{\\left(t \\right)} \\nu_{3}{\\left(t \\right)} \\cos{\\left(\\beta_{0} - 2 \\theta_{0}{\\left(t \\right)} \\right)}}{2} + \\frac{R m_{2} \\nu_{2}{\\left(t \\right)} \\nu_{3}{\\left(t \\right)} \\sin{\\left(\\beta_{0} \\right)}}{2} + \\frac{R m_{2} \\nu_{2}{\\left(t \\right)} \\nu_{3}{\\left(t \\right)} \\sin{\\left(\\beta_{0} - 2 \\theta_{0}{\\left(t \\right)} \\right)}}{2} + \\frac{R \\operatorname{T_{1}}{\\left(t \\right)} \\sin{\\left(\\beta_{0} - \\theta_{0}{\\left(t \\right)} \\right)}}{r} + \\frac{R \\operatorname{W_{1}}{\\left(t \\right)} \\cos{\\left(\\beta_{0} - \\theta_{0}{\\left(t \\right)} \\right)}}{d} + \\frac{m_{2} \\nu_{1}^{2}{\\left(t \\right)} \\sin{\\left(2 \\theta_{0}{\\left(t \\right)} \\right)}}{2} - m_{2} \\nu_{1}{\\left(t \\right)} \\nu_{2}{\\left(t \\right)} \\cos{\\left(2 \\theta_{0}{\\left(t \\right)} \\right)} - \\frac{m_{2} \\nu_{2}^{2}{\\left(t \\right)} \\sin{\\left(2 \\theta_{0}{\\left(t \\right)} \\right)}}{2} + \\operatorname{W_{1}}{\\left(t \\right)} = - \\frac{- R b r^{2} \\left(R \\nu_{3}{\\left(t \\right)} \\cos{\\left(\\beta_{0} - \\theta_{0}{\\left(t \\right)} \\right)} - \\nu_{1}{\\left(t \\right)} \\sin{\\left(\\theta_{0}{\\left(t \\right)} \\right)} + \\nu_{2}{\\left(t \\right)} \\cos{\\left(\\theta_{0}{\\left(t \\right)} \\right)}\\right) \\left(R \\nu_{3}{\\left(t \\right)} \\cos{\\left(\\beta_{0} - \\theta_{0}{\\left(t \\right)} \\right)} + d \\nu_{3}{\\left(t \\right)} - \\nu_{1}{\\left(t \\right)} \\sin{\\left(\\theta_{0}{\\left(t \\right)} \\right)} + \\nu_{2}{\\left(t \\right)} \\cos{\\left(\\theta_{0}{\\left(t \\right)} \\right)}\\right) \\sin{\\left(\\beta_{0} - \\theta_{0}{\\left(t \\right)} \\right)} + \\frac{R b r^{2} \\left(- R^{2} \\nu_{3}^{2}{\\left(t \\right)} \\sin{\\left(2 \\beta_{0} - 2 \\theta_{0}{\\left(t \\right)} \\right)} - 2 R d \\nu_{3}^{2}{\\left(t \\right)} \\sin{\\left(\\beta_{0} - \\theta_{0}{\\left(t \\right)} \\right)} + 2 R d \\cos{\\left(\\beta_{0} - \\theta_{0}{\\left(t \\right)} \\right)} \\frac{d}{d t} \\nu_{3}{\\left(t \\right)} + 2 R \\nu_{1}{\\left(t \\right)} \\nu_{3}{\\left(t \\right)} \\cos{\\left(\\beta_{0} - 2 \\theta_{0}{\\left(t \\right)} \\right)} - 2 R \\nu_{2}{\\left(t \\right)} \\nu_{3}{\\left(t \\right)} \\sin{\\left(\\beta_{0} - 2 \\theta_{0}{\\left(t \\right)} \\right)} + 2 d \\nu_{1}{\\left(t \\right)} \\nu_{3}{\\left(t \\right)} \\cos{\\left(\\theta_{0}{\\left(t \\right)} \\right)} + 2 d \\nu_{2}{\\left(t \\right)} \\nu_{3}{\\left(t \\right)} \\sin{\\left(\\theta_{0}{\\left(t \\right)} \\right)} - 2 d \\sin{\\left(\\theta_{0}{\\left(t \\right)} \\right)} \\frac{d}{d t} \\nu_{1}{\\left(t \\right)} + 2 d \\cos{\\left(\\theta_{0}{\\left(t \\right)} \\right)} \\frac{d}{d t} \\nu_{2}{\\left(t \\right)} - \\nu_{1}^{2}{\\left(t \\right)} \\sin{\\left(2 \\theta_{0}{\\left(t \\right)} \\right)} + 2 \\nu_{1}{\\left(t \\right)} \\nu_{2}{\\left(t \\right)} \\cos{\\left(2 \\theta_{0}{\\left(t \\right)} \\right)} + \\nu_{2}^{2}{\\left(t \\right)} \\sin{\\left(2 \\theta_{0}{\\left(t \\right)} \\right)}\\right) \\cos{\\left(\\beta_{0} - \\theta_{0}{\\left(t \\right)} \\right)}}{2} + \\frac{d^{2} \\left(- 4 R c \\left(- R \\nu_{3}{\\left(t \\right)} \\sin{\\left(\\beta_{0} - \\theta_{0}{\\left(t \\right)} \\right)} + \\nu_{1}{\\left(t \\right)} \\cos{\\left(\\theta_{0}{\\left(t \\right)} \\right)} + \\nu_{2}{\\left(t \\right)} \\sin{\\left(\\theta_{0}{\\left(t \\right)} \\right)}\\right) \\left(R \\nu_{3}{\\left(t \\right)} \\cos{\\left(\\beta_{0} - \\theta_{0}{\\left(t \\right)} \\right)} + d \\nu_{3}{\\left(t \\right)} - \\nu_{1}{\\left(t \\right)} \\sin{\\left(\\theta_{0}{\\left(t \\right)} \\right)} + \\nu_{2}{\\left(t \\right)} \\cos{\\left(\\theta_{0}{\\left(t \\right)} \\right)}\\right) \\cos{\\left(\\beta_{0} - \\theta_{0}{\\left(t \\right)} \\right)} - 4 R c \\left(- R \\left(R \\nu_{3}{\\left(t \\right)} \\cos{\\left(\\beta_{0} - \\theta_{0}{\\left(t \\right)} \\right)} + d \\nu_{3}{\\left(t \\right)} - \\nu_{1}{\\left(t \\right)} \\sin{\\left(\\theta_{0}{\\left(t \\right)} \\right)} + \\nu_{2}{\\left(t \\right)} \\cos{\\left(\\theta_{0}{\\left(t \\right)} \\right)}\\right) \\nu_{3}{\\left(t \\right)} \\cos{\\left(\\beta_{0} - \\theta_{0}{\\left(t \\right)} \\right)} + d \\left(- R \\sin{\\left(\\beta_{0} - \\theta_{0}{\\left(t \\right)} \\right)} \\frac{d}{d t} \\nu_{3}{\\left(t \\right)} + \\sin{\\left(\\theta_{0}{\\left(t \\right)} \\right)} \\frac{d}{d t} \\nu_{2}{\\left(t \\right)} + \\cos{\\left(\\theta_{0}{\\left(t \\right)} \\right)} \\frac{d}{d t} \\nu_{1}{\\left(t \\right)}\\right) + \\left(R \\nu_{3}{\\left(t \\right)} \\cos{\\left(\\beta_{0} - \\theta_{0}{\\left(t \\right)} \\right)} + d \\nu_{3}{\\left(t \\right)} - \\nu_{1}{\\left(t \\right)} \\sin{\\left(\\theta_{0}{\\left(t \\right)} \\right)} + \\nu_{2}{\\left(t \\right)} \\cos{\\left(\\theta_{0}{\\left(t \\right)} \\right)}\\right) \\nu_{1}{\\left(t \\right)} \\sin{\\left(\\theta_{0}{\\left(t \\right)} \\right)} - \\left(R \\nu_{3}{\\left(t \\right)} \\cos{\\left(\\beta_{0} - \\theta_{0}{\\left(t \\right)} \\right)} + d \\nu_{3}{\\left(t \\right)} - \\nu_{1}{\\left(t \\right)} \\sin{\\left(\\theta_{0}{\\left(t \\right)} \\right)} + \\nu_{2}{\\left(t \\right)} \\cos{\\left(\\theta_{0}{\\left(t \\right)} \\right)}\\right) \\nu_{2}{\\left(t \\right)} \\cos{\\left(\\theta_{0}{\\left(t \\right)} \\right)}\\right) \\sin{\\left(\\beta_{0} - \\theta_{0}{\\left(t \\right)} \\right)} + r^{2} \\left(R m_{2} \\left(2 \\left(- d \\nu_{3}{\\left(t \\right)} \\sin{\\left(\\beta_{0} + \\alpha{\\left(t \\right)} \\right)} + \\left(- 2 R \\nu_{3}{\\left(t \\right)} \\cos{\\left(\\beta_{0} - \\theta_{0}{\\left(t \\right)} \\right)} - d \\nu_{3}{\\left(t \\right)} + 2 \\nu_{1}{\\left(t \\right)} \\sin{\\left(\\theta_{0}{\\left(t \\right)} \\right)} - 2 \\nu_{2}{\\left(t \\right)} \\cos{\\left(\\theta_{0}{\\left(t \\right)} \\right)}\\right) \\sin{\\left(- \\beta_{0} + \\alpha{\\left(t \\right)} + 2 \\theta_{0}{\\left(t \\right)} \\right)}\\right) \\left(R \\nu_{3}{\\left(t \\right)} \\cos{\\left(\\beta_{0} + \\alpha{\\left(t \\right)} \\right)} - \\left(R \\nu_{3}{\\left(t \\right)} \\cos{\\left(\\beta_{0} - \\theta_{0}{\\left(t \\right)} \\right)} - \\nu_{1}{\\left(t \\right)} \\sin{\\left(\\theta_{0}{\\left(t \\right)} \\right)} + \\nu_{2}{\\left(t \\right)} \\cos{\\left(\\theta_{0}{\\left(t \\right)} \\right)}\\right) \\cos{\\left(\\alpha{\\left(t \\right)} + \\theta_{0}{\\left(t \\right)} \\right)} + \\nu_{1}{\\left(t \\right)} \\sin{\\left(\\alpha{\\left(t \\right)} \\right)} + \\nu_{2}{\\left(t \\right)} \\cos{\\left(\\alpha{\\left(t \\right)} \\right)}\\right) - 2 \\left(- d \\nu_{3}{\\left(t \\right)} \\cos{\\left(\\beta_{0} + \\alpha{\\left(t \\right)} \\right)} + \\left(- 2 R \\nu_{3}{\\left(t \\right)} \\cos{\\left(\\beta_{0} - \\theta_{0}{\\left(t \\right)} \\right)} - d \\nu_{3}{\\left(t \\right)} + 2 \\nu_{1}{\\left(t \\right)} \\sin{\\left(\\theta_{0}{\\left(t \\right)} \\right)} - 2 \\nu_{2}{\\left(t \\right)} \\cos{\\left(\\theta_{0}{\\left(t \\right)} \\right)}\\right) \\cos{\\left(- \\beta_{0} + \\alpha{\\left(t \\right)} + 2 \\theta_{0}{\\left(t \\right)} \\right)}\\right) \\left(R \\nu_{3}{\\left(t \\right)} \\sin{\\left(\\beta_{0} + \\alpha{\\left(t \\right)} \\right)} - \\left(R \\nu_{3}{\\left(t \\right)} \\cos{\\left(\\beta_{0} - \\theta_{0}{\\left(t \\right)} \\right)} - \\nu_{1}{\\left(t \\right)} \\sin{\\left(\\theta_{0}{\\left(t \\right)} \\right)} + \\nu_{2}{\\left(t \\right)} \\cos{\\left(\\theta_{0}{\\left(t \\right)} \\right)}\\right) \\sin{\\left(\\alpha{\\left(t \\right)} + \\theta_{0}{\\left(t \\right)} \\right)} - \\nu_{1}{\\left(t \\right)} \\cos{\\left(\\alpha{\\left(t \\right)} \\right)} + \\nu_{2}{\\left(t \\right)} \\sin{\\left(\\alpha{\\left(t \\right)} \\right)}\\right) + \\left(\\sin{\\left(\\beta_{0} + \\alpha{\\left(t \\right)} \\right)} - \\sin{\\left(- \\beta_{0} + \\alpha{\\left(t \\right)} + 2 \\theta_{0}{\\left(t \\right)} \\right)}\\right) \\left(2 d \\left(R \\nu_{3}^{2}{\\left(t \\right)} \\cos{\\left(\\beta_{0} + \\alpha{\\left(t \\right)} \\right)} + R \\sin{\\left(\\beta_{0} + \\alpha{\\left(t \\right)} \\right)} \\frac{d}{d t} \\nu_{3}{\\left(t \\right)} + \\nu_{1}{\\left(t \\right)} \\nu_{3}{\\left(t \\right)} \\sin{\\left(\\alpha{\\left(t \\right)} \\right)} + \\nu_{2}{\\left(t \\right)} \\nu_{3}{\\left(t \\right)} \\cos{\\left(\\alpha{\\left(t \\right)} \\right)} + \\sin{\\left(\\alpha{\\left(t \\right)} \\right)} \\frac{d}{d t} \\nu_{2}{\\left(t \\right)} - \\cos{\\left(\\alpha{\\left(t \\right)} \\right)} \\frac{d}{d t} \\nu_{1}{\\left(t \\right)}\\right) + 2 \\left(R \\nu_{3}{\\left(t \\right)} \\cos{\\left(\\beta_{0} - \\theta_{0}{\\left(t \\right)} \\right)} - \\nu_{1}{\\left(t \\right)} \\sin{\\left(\\theta_{0}{\\left(t \\right)} \\right)} + \\nu_{2}{\\left(t \\right)} \\cos{\\left(\\theta_{0}{\\left(t \\right)} \\right)}\\right)^{2} \\cos{\\left(\\alpha{\\left(t \\right)} + \\theta_{0}{\\left(t \\right)} \\right)} - \\left(- R^{2} \\nu_{3}^{2}{\\left(t \\right)} \\sin{\\left(2 \\beta_{0} - 2 \\theta_{0}{\\left(t \\right)} \\right)} - 2 R d \\nu_{3}^{2}{\\left(t \\right)} \\sin{\\left(\\beta_{0} - \\theta_{0}{\\left(t \\right)} \\right)} + 2 R d \\cos{\\left(\\beta_{0} - \\theta_{0}{\\left(t \\right)} \\right)} \\frac{d}{d t} \\nu_{3}{\\left(t \\right)} + 2 R \\nu_{1}{\\left(t \\right)} \\nu_{3}{\\left(t \\right)} \\cos{\\left(\\beta_{0} - 2 \\theta_{0}{\\left(t \\right)} \\right)} - 2 R \\nu_{2}{\\left(t \\right)} \\nu_{3}{\\left(t \\right)} \\sin{\\left(\\beta_{0} - 2 \\theta_{0}{\\left(t \\right)} \\right)} + 2 d \\nu_{1}{\\left(t \\right)} \\nu_{3}{\\left(t \\right)} \\cos{\\left(\\theta_{0}{\\left(t \\right)} \\right)} + 2 d \\nu_{2}{\\left(t \\right)} \\nu_{3}{\\left(t \\right)} \\sin{\\left(\\theta_{0}{\\left(t \\right)} \\right)} - 2 d \\sin{\\left(\\theta_{0}{\\left(t \\right)} \\right)} \\frac{d}{d t} \\nu_{1}{\\left(t \\right)} + 2 d \\cos{\\left(\\theta_{0}{\\left(t \\right)} \\right)} \\frac{d}{d t} \\nu_{2}{\\left(t \\right)} - \\nu_{1}^{2}{\\left(t \\right)} \\sin{\\left(2 \\theta_{0}{\\left(t \\right)} \\right)} + 2 \\nu_{1}{\\left(t \\right)} \\nu_{2}{\\left(t \\right)} \\cos{\\left(2 \\theta_{0}{\\left(t \\right)} \\right)} + \\nu_{2}^{2}{\\left(t \\right)} \\sin{\\left(2 \\theta_{0}{\\left(t \\right)} \\right)}\\right) \\sin{\\left(\\alpha{\\left(t \\right)} + \\theta_{0}{\\left(t \\right)} \\right)}\\right) + \\left(\\cos{\\left(\\beta_{0} + \\alpha{\\left(t \\right)} \\right)} - \\cos{\\left(- \\beta_{0} + \\alpha{\\left(t \\right)} + 2 \\theta_{0}{\\left(t \\right)} \\right)}\\right) \\left(2 d \\left(- R \\nu_{3}^{2}{\\left(t \\right)} \\sin{\\left(\\beta_{0} + \\alpha{\\left(t \\right)} \\right)} + R \\cos{\\left(\\beta_{0} + \\alpha{\\left(t \\right)} \\right)} \\frac{d}{d t} \\nu_{3}{\\left(t \\right)} + \\nu_{1}{\\left(t \\right)} \\nu_{3}{\\left(t \\right)} \\cos{\\left(\\alpha{\\left(t \\right)} \\right)} - \\nu_{2}{\\left(t \\right)} \\nu_{3}{\\left(t \\right)} \\sin{\\left(\\alpha{\\left(t \\right)} \\right)} + \\sin{\\left(\\alpha{\\left(t \\right)} \\right)} \\frac{d}{d t} \\nu_{1}{\\left(t \\right)} + \\cos{\\left(\\alpha{\\left(t \\right)} \\right)} \\frac{d}{d t} \\nu_{2}{\\left(t \\right)}\\right) - 2 \\left(R \\nu_{3}{\\left(t \\right)} \\cos{\\left(\\beta_{0} - \\theta_{0}{\\left(t \\right)} \\right)} - \\nu_{1}{\\left(t \\right)} \\sin{\\left(\\theta_{0}{\\left(t \\right)} \\right)} + \\nu_{2}{\\left(t \\right)} \\cos{\\left(\\theta_{0}{\\left(t \\right)} \\right)}\\right)^{2} \\sin{\\left(\\alpha{\\left(t \\right)} + \\theta_{0}{\\left(t \\right)} \\right)} - \\left(- R^{2} \\nu_{3}^{2}{\\left(t \\right)} \\sin{\\left(2 \\beta_{0} - 2 \\theta_{0}{\\left(t \\right)} \\right)} - 2 R d \\nu_{3}^{2}{\\left(t \\right)} \\sin{\\left(\\beta_{0} - \\theta_{0}{\\left(t \\right)} \\right)} + 2 R d \\cos{\\left(\\beta_{0} - \\theta_{0}{\\left(t \\right)} \\right)} \\frac{d}{d t} \\nu_{3}{\\left(t \\right)} + 2 R \\nu_{1}{\\left(t \\right)} \\nu_{3}{\\left(t \\right)} \\cos{\\left(\\beta_{0} - 2 \\theta_{0}{\\left(t \\right)} \\right)} - 2 R \\nu_{2}{\\left(t \\right)} \\nu_{3}{\\left(t \\right)} \\sin{\\left(\\beta_{0} - 2 \\theta_{0}{\\left(t \\right)} \\right)} + 2 d \\nu_{1}{\\left(t \\right)} \\nu_{3}{\\left(t \\right)} \\cos{\\left(\\theta_{0}{\\left(t \\right)} \\right)} + 2 d \\nu_{2}{\\left(t \\right)} \\nu_{3}{\\left(t \\right)} \\sin{\\left(\\theta_{0}{\\left(t \\right)} \\right)} - 2 d \\sin{\\left(\\theta_{0}{\\left(t \\right)} \\right)} \\frac{d}{d t} \\nu_{1}{\\left(t \\right)} + 2 d \\cos{\\left(\\theta_{0}{\\left(t \\right)} \\right)} \\frac{d}{d t} \\nu_{2}{\\left(t \\right)} - \\nu_{1}^{2}{\\left(t \\right)} \\sin{\\left(2 \\theta_{0}{\\left(t \\right)} \\right)} + 2 \\nu_{1}{\\left(t \\right)} \\nu_{2}{\\left(t \\right)} \\cos{\\left(2 \\theta_{0}{\\left(t \\right)} \\right)} + \\nu_{2}^{2}{\\left(t \\right)} \\sin{\\left(2 \\theta_{0}{\\left(t \\right)} \\right)}\\right) \\cos{\\left(\\alpha{\\left(t \\right)} + \\theta_{0}{\\left(t \\right)} \\right)}\\right)\\right) + 4 a d \\frac{d}{d t} \\nu_{3}{\\left(t \\right)}\\right)\\right)}{4}}{d^{3} r^{2}}$"
      ],
      "text/plain": [
       "Eq(R*m2*nu1(t)*nu3(t)*cos(beta0)/2 - R*m2*nu1(t)*nu3(t)*cos(beta0 - 2*theta0(t))/2 + R*m2*nu2(t)*nu3(t)*sin(beta0)/2 + R*m2*nu2(t)*nu3(t)*sin(beta0 - 2*theta0(t))/2 + R*T1(t)*sin(beta0 - theta0(t))/r + R*W1(t)*cos(beta0 - theta0(t))/d + m2*nu1(t)**2*sin(2*theta0(t))/2 - m2*nu1(t)*nu2(t)*cos(2*theta0(t)) - m2*nu2(t)**2*sin(2*theta0(t))/2 + W1(t), -(-R*b*r**2*(R*nu3(t)*cos(beta0 - theta0(t)) - nu1(t)*sin(theta0(t)) + nu2(t)*cos(theta0(t)))*(R*nu3(t)*cos(beta0 - theta0(t)) + d*nu3(t) - nu1(t)*sin(theta0(t)) + nu2(t)*cos(theta0(t)))*sin(beta0 - theta0(t)) + R*b*r**2*(-R**2*nu3(t)**2*sin(2*beta0 - 2*theta0(t)) - 2*R*d*nu3(t)**2*sin(beta0 - theta0(t)) + 2*R*d*cos(beta0 - theta0(t))*Derivative(nu3(t), t) + 2*R*nu1(t)*nu3(t)*cos(beta0 - 2*theta0(t)) - 2*R*nu2(t)*nu3(t)*sin(beta0 - 2*theta0(t)) + 2*d*nu1(t)*nu3(t)*cos(theta0(t)) + 2*d*nu2(t)*nu3(t)*sin(theta0(t)) - 2*d*sin(theta0(t))*Derivative(nu1(t), t) + 2*d*cos(theta0(t))*Derivative(nu2(t), t) - nu1(t)**2*sin(2*theta0(t)) + 2*nu1(t)*nu2(t)*cos(2*theta0(t)) + nu2(t)**2*sin(2*theta0(t)))*cos(beta0 - theta0(t))/2 + d**2*(-4*R*c*(-R*nu3(t)*sin(beta0 - theta0(t)) + nu1(t)*cos(theta0(t)) + nu2(t)*sin(theta0(t)))*(R*nu3(t)*cos(beta0 - theta0(t)) + d*nu3(t) - nu1(t)*sin(theta0(t)) + nu2(t)*cos(theta0(t)))*cos(beta0 - theta0(t)) - 4*R*c*(-R*(R*nu3(t)*cos(beta0 - theta0(t)) + d*nu3(t) - nu1(t)*sin(theta0(t)) + nu2(t)*cos(theta0(t)))*nu3(t)*cos(beta0 - theta0(t)) + d*(-R*sin(beta0 - theta0(t))*Derivative(nu3(t), t) + sin(theta0(t))*Derivative(nu2(t), t) + cos(theta0(t))*Derivative(nu1(t), t)) + (R*nu3(t)*cos(beta0 - theta0(t)) + d*nu3(t) - nu1(t)*sin(theta0(t)) + nu2(t)*cos(theta0(t)))*nu1(t)*sin(theta0(t)) - (R*nu3(t)*cos(beta0 - theta0(t)) + d*nu3(t) - nu1(t)*sin(theta0(t)) + nu2(t)*cos(theta0(t)))*nu2(t)*cos(theta0(t)))*sin(beta0 - theta0(t)) + r**2*(R*m2*(2*(-d*nu3(t)*sin(beta0 + alpha(t)) + (-2*R*nu3(t)*cos(beta0 - theta0(t)) - d*nu3(t) + 2*nu1(t)*sin(theta0(t)) - 2*nu2(t)*cos(theta0(t)))*sin(-beta0 + alpha(t) + 2*theta0(t)))*(R*nu3(t)*cos(beta0 + alpha(t)) - (R*nu3(t)*cos(beta0 - theta0(t)) - nu1(t)*sin(theta0(t)) + nu2(t)*cos(theta0(t)))*cos(alpha(t) + theta0(t)) + nu1(t)*sin(alpha(t)) + nu2(t)*cos(alpha(t))) - 2*(-d*nu3(t)*cos(beta0 + alpha(t)) + (-2*R*nu3(t)*cos(beta0 - theta0(t)) - d*nu3(t) + 2*nu1(t)*sin(theta0(t)) - 2*nu2(t)*cos(theta0(t)))*cos(-beta0 + alpha(t) + 2*theta0(t)))*(R*nu3(t)*sin(beta0 + alpha(t)) - (R*nu3(t)*cos(beta0 - theta0(t)) - nu1(t)*sin(theta0(t)) + nu2(t)*cos(theta0(t)))*sin(alpha(t) + theta0(t)) - nu1(t)*cos(alpha(t)) + nu2(t)*sin(alpha(t))) + (sin(beta0 + alpha(t)) - sin(-beta0 + alpha(t) + 2*theta0(t)))*(2*d*(R*nu3(t)**2*cos(beta0 + alpha(t)) + R*sin(beta0 + alpha(t))*Derivative(nu3(t), t) + nu1(t)*nu3(t)*sin(alpha(t)) + nu2(t)*nu3(t)*cos(alpha(t)) + sin(alpha(t))*Derivative(nu2(t), t) - cos(alpha(t))*Derivative(nu1(t), t)) + 2*(R*nu3(t)*cos(beta0 - theta0(t)) - nu1(t)*sin(theta0(t)) + nu2(t)*cos(theta0(t)))**2*cos(alpha(t) + theta0(t)) - (-R**2*nu3(t)**2*sin(2*beta0 - 2*theta0(t)) - 2*R*d*nu3(t)**2*sin(beta0 - theta0(t)) + 2*R*d*cos(beta0 - theta0(t))*Derivative(nu3(t), t) + 2*R*nu1(t)*nu3(t)*cos(beta0 - 2*theta0(t)) - 2*R*nu2(t)*nu3(t)*sin(beta0 - 2*theta0(t)) + 2*d*nu1(t)*nu3(t)*cos(theta0(t)) + 2*d*nu2(t)*nu3(t)*sin(theta0(t)) - 2*d*sin(theta0(t))*Derivative(nu1(t), t) + 2*d*cos(theta0(t))*Derivative(nu2(t), t) - nu1(t)**2*sin(2*theta0(t)) + 2*nu1(t)*nu2(t)*cos(2*theta0(t)) + nu2(t)**2*sin(2*theta0(t)))*sin(alpha(t) + theta0(t))) + (cos(beta0 + alpha(t)) - cos(-beta0 + alpha(t) + 2*theta0(t)))*(2*d*(-R*nu3(t)**2*sin(beta0 + alpha(t)) + R*cos(beta0 + alpha(t))*Derivative(nu3(t), t) + nu1(t)*nu3(t)*cos(alpha(t)) - nu2(t)*nu3(t)*sin(alpha(t)) + sin(alpha(t))*Derivative(nu1(t), t) + cos(alpha(t))*Derivative(nu2(t), t)) - 2*(R*nu3(t)*cos(beta0 - theta0(t)) - nu1(t)*sin(theta0(t)) + nu2(t)*cos(theta0(t)))**2*sin(alpha(t) + theta0(t)) - (-R**2*nu3(t)**2*sin(2*beta0 - 2*theta0(t)) - 2*R*d*nu3(t)**2*sin(beta0 - theta0(t)) + 2*R*d*cos(beta0 - theta0(t))*Derivative(nu3(t), t) + 2*R*nu1(t)*nu3(t)*cos(beta0 - 2*theta0(t)) - 2*R*nu2(t)*nu3(t)*sin(beta0 - 2*theta0(t)) + 2*d*nu1(t)*nu3(t)*cos(theta0(t)) + 2*d*nu2(t)*nu3(t)*sin(theta0(t)) - 2*d*sin(theta0(t))*Derivative(nu1(t), t) + 2*d*cos(theta0(t))*Derivative(nu2(t), t) - nu1(t)**2*sin(2*theta0(t)) + 2*nu1(t)*nu2(t)*cos(2*theta0(t)) + nu2(t)**2*sin(2*theta0(t)))*cos(alpha(t) + theta0(t)))) + 4*a*d*Derivative(nu3(t), t)))/4)/(d**3*r**2))"
      ]
     },
     "execution_count": 178,
     "metadata": {},
     "output_type": "execute_result"
    }
   ],
   "source": [
    "solve(eqs[0], )"
   ]
  },
  {
   "cell_type": "code",
   "execution_count": null,
   "metadata": {},
   "outputs": [],
   "source": []
  },
  {
   "cell_type": "markdown",
   "metadata": {},
   "source": [
    "## Subs params & Load"
   ]
  },
  {
   "cell_type": "code",
   "execution_count": 48,
   "metadata": {},
   "outputs": [],
   "source": [
    "eqs = load('data/eqs+TW')"
   ]
  },
  {
   "cell_type": "markdown",
   "metadata": {},
   "source": [
    "### Matrix for $T, W, \\dot{nu_3}$ "
   ]
  },
  {
   "cell_type": "code",
   "execution_count": 49,
   "metadata": {},
   "outputs": [],
   "source": [
    "# mat = linear_eq_to_matrix(eqs, [T[1], W[1], Derivative(nu[3], t)])\n",
    "\n",
    "_T1, _W1, _DNU_3 = symbols('_T1, _W1, _DNU_3')\n",
    "\n",
    "tmp = copy(eqs)\n",
    "\n",
    "for i, eq in enumerate(tmp):\n",
    "    tmp[i] = eq.subs({\n",
    "        T[1]: _T1,\n",
    "        W[1]: _W1,\n",
    "        Derivative(nu[3], t): _DNU_3\n",
    "    })\n",
    "    \n",
    "mat = linear_eq_to_matrix(tmp, [_T1, _W1, _DNU_3])"
   ]
  },
  {
   "cell_type": "code",
   "execution_count": 50,
   "metadata": {},
   "outputs": [
    {
     "name": "stdout",
     "output_type": "stream",
     "text": [
      "CPU times: user 5.75 s, sys: 1 µs, total: 5.75 s\n",
      "Wall time: 5.75 s\n"
     ]
    }
   ],
   "source": [
    "%%time\n",
    "mat2 = simplify(mat[0])"
   ]
  },
  {
   "cell_type": "code",
   "execution_count": 51,
   "metadata": {},
   "outputs": [],
   "source": [
    "tmp = mat2.subs({beta[0]: 0})"
   ]
  },
  {
   "cell_type": "code",
   "execution_count": 52,
   "metadata": {
    "scrolled": true
   },
   "outputs": [
    {
     "data": {
      "text/latex": [
       "$\\displaystyle \\left[\\begin{matrix}\\frac{\\cos{\\left(\\theta_{0}{\\left(t \\right)} \\right)}}{r} & \\frac{\\sin{\\left(\\theta_{0}{\\left(t \\right)} \\right)}}{d} & \\frac{R b \\sin{\\left(\\theta_{0}{\\left(t \\right)} \\right)} \\cos{\\left(\\theta_{0}{\\left(t \\right)} \\right)}}{d^{2}} - \\frac{R c \\sin{\\left(\\theta_{0}{\\left(t \\right)} \\right)} \\cos{\\left(\\theta_{0}{\\left(t \\right)} \\right)}}{r^{2}} - \\frac{R m_{2} \\sin{\\left(2 \\theta_{0}{\\left(t \\right)} \\right)}}{2}\\\\\\frac{\\sin{\\left(\\theta_{0}{\\left(t \\right)} \\right)}}{r} & - \\frac{\\cos{\\left(\\theta_{0}{\\left(t \\right)} \\right)}}{d} & \\frac{R \\left(- b r^{2} \\cos^{2}{\\left(\\theta_{0}{\\left(t \\right)} \\right)} - d^{2} \\left(c + m_{2} r^{2}\\right) \\sin^{2}{\\left(\\theta_{0}{\\left(t \\right)} \\right)}\\right)}{d^{2} r^{2}}\\\\- \\frac{R \\sin{\\left(\\theta_{0}{\\left(t \\right)} \\right)}}{r} & \\frac{R \\cos{\\left(\\theta_{0}{\\left(t \\right)} \\right)} + d}{d} & \\frac{R^{2} b \\cos^{2}{\\left(\\theta_{0}{\\left(t \\right)} \\right)}}{d^{2}} + \\frac{R^{2} c \\sin^{2}{\\left(\\theta_{0}{\\left(t \\right)} \\right)}}{r^{2}} - \\frac{R^{2} m_{2} \\cos{\\left(2 \\theta_{0}{\\left(t \\right)} \\right)}}{2} + \\frac{R^{2} m_{2}}{2} + a\\end{matrix}\\right]$"
      ],
      "text/plain": [
       "Matrix([\n",
       "[   cos(theta0(t))/r,         sin(theta0(t))/d,  R*b*sin(theta0(t))*cos(theta0(t))/d**2 - R*c*sin(theta0(t))*cos(theta0(t))/r**2 - R*m2*sin(2*theta0(t))/2],\n",
       "[   sin(theta0(t))/r,        -cos(theta0(t))/d,                           R*(-b*r**2*cos(theta0(t))**2 - d**2*(c + m2*r**2)*sin(theta0(t))**2)/(d**2*r**2)],\n",
       "[-R*sin(theta0(t))/r, (R*cos(theta0(t)) + d)/d, R**2*b*cos(theta0(t))**2/d**2 + R**2*c*sin(theta0(t))**2/r**2 - R**2*m2*cos(2*theta0(t))/2 + R**2*m2/2 + a]])"
      ]
     },
     "execution_count": 52,
     "metadata": {},
     "output_type": "execute_result"
    }
   ],
   "source": [
    "tmp"
   ]
  },
  {
   "cell_type": "markdown",
   "metadata": {},
   "source": [
    "### Condition"
   ]
  },
  {
   "cell_type": "code",
   "execution_count": 129,
   "metadata": {},
   "outputs": [],
   "source": [
    "D = simplify(mat2.det().subs({beta[0]: 0}))"
   ]
  },
  {
   "cell_type": "code",
   "execution_count": 130,
   "metadata": {},
   "outputs": [
    {
     "data": {
      "text/latex": [
       "$\\displaystyle \\frac{R b \\cos{\\left(\\theta_{0}{\\left(t \\right)} \\right)} - a d}{d^{2} r} > 0$"
      ],
      "text/plain": [
       "(R*b*cos(theta0(t)) - a*d)/(d**2*r) > 0"
      ]
     },
     "execution_count": 130,
     "metadata": {},
     "output_type": "execute_result"
    }
   ],
   "source": [
    "D > 0"
   ]
  },
  {
   "cell_type": "markdown",
   "metadata": {},
   "source": [
    "##### Test condition for Det Matrix"
   ]
  },
  {
   "cell_type": "code",
   "execution_count": 184,
   "metadata": {},
   "outputs": [],
   "source": [
    "def par_subs(eq):\n",
    "    return eq.subs({\n",
    "        beta[0]: 0,\n",
    "        d: 1,\n",
    "        r: 1,\n",
    "        b: 1,\n",
    "        c: 1,\n",
    "        a: 3,\n",
    "        m['platform']: 3,\n",
    "        m['wheel']: 1,\n",
    "        R: 2\n",
    "    })"
   ]
  },
  {
   "cell_type": "code",
   "execution_count": 204,
   "metadata": {},
   "outputs": [
    {
     "data": {
      "text/latex": [
       "$\\displaystyle \\frac{R b \\cos{\\left(\\theta_{0}{\\left(t \\right)} \\right)} - a d}{d^{2} r} > 0$"
      ],
      "text/plain": [
       "(R*b*cos(theta0(t)) - a*d)/(d**2*r) > 0"
      ]
     },
     "metadata": {},
     "output_type": "display_data"
    },
    {
     "name": "stdout",
     "output_type": "stream",
     "text": [
      "Is correct?\n"
     ]
    },
    {
     "data": {
      "text/latex": [
       "$\\displaystyle \\text{True}$"
      ],
      "text/plain": [
       "True"
      ]
     },
     "metadata": {},
     "output_type": "display_data"
    },
    {
     "name": "stdout",
     "output_type": "stream",
     "text": [
      "and more\n"
     ]
    },
    {
     "data": {
      "text/latex": [
       "$\\displaystyle \\text{True}$"
      ],
      "text/plain": [
       "True"
      ]
     },
     "metadata": {},
     "output_type": "display_data"
    }
   ],
   "source": [
    "display(D > 0)\n",
    "print('Is correct?')\n",
    "display(par_subs(\n",
    "    D.subs({theta[0]: (-pi/2).n()}) * \n",
    "    D.subs({theta[0]: 0}) *\n",
    "    D.subs({theta[0]: (pi/2).n()}) * \n",
    "    D.subs({theta[0]: (pi).n()})\n",
    ") > 0)\n",
    "print('and more')\n",
    "display(par_subs(a*d/R*b) > 0)"
   ]
  },
  {
   "cell_type": "code",
   "execution_count": null,
   "metadata": {},
   "outputs": [],
   "source": []
  },
  {
   "cell_type": "markdown",
   "metadata": {},
   "source": [
    "### Solve by $T, W, \\nu_3$"
   ]
  },
  {
   "cell_type": "code",
   "execution_count": 187,
   "metadata": {},
   "outputs": [
    {
     "name": "stdout",
     "output_type": "stream",
     "text": [
      "CPU times: user 2min 41s, sys: 3.64 ms, total: 2min 41s\n",
      "Wall time: 2min 41s\n"
     ]
    }
   ],
   "source": [
    "%%time\n",
    "resTWNU3 = linsolve([par_subs(_eq) for _eq in eqs],\n",
    "                    [T[1], W[1], Derivative(nu[3], t)])"
   ]
  },
  {
   "cell_type": "code",
   "execution_count": 188,
   "metadata": {},
   "outputs": [],
   "source": [
    "resTWNU3 = [Eq(_var, _eq) for _var, _eq in zip([T[1], W[1], Derivative(nu[3], t)], resTWNU3.args[0])]"
   ]
  },
  {
   "cell_type": "code",
   "execution_count": 189,
   "metadata": {
    "scrolled": false
   },
   "outputs": [
    {
     "data": {
      "text/latex": [
       "$\\displaystyle \\operatorname{T_{1}}{\\left(t \\right)} = \\frac{2 \\left(3 \\cos{\\left(\\theta_{0}{\\left(t \\right)} \\right)} - \\cos{\\left(2 \\theta_{0}{\\left(t \\right)} \\right)} - 1\\right) \\left(\\nu_{1}^{2}{\\left(t \\right)} \\cos^{3}{\\left(\\theta_{0}{\\left(t \\right)} \\right)} - \\nu_{1}^{2}{\\left(t \\right)} \\cos{\\left(\\theta_{0}{\\left(t \\right)} \\right)} - 2 \\nu_{1}{\\left(t \\right)} \\nu_{2}{\\left(t \\right)} \\sin^{3}{\\left(\\theta_{0}{\\left(t \\right)} \\right)} + 2 \\nu_{1}{\\left(t \\right)} \\nu_{2}{\\left(t \\right)} \\sin{\\left(\\theta_{0}{\\left(t \\right)} \\right)} - 4 \\nu_{1}{\\left(t \\right)} \\nu_{3}{\\left(t \\right)} \\sin^{3}{\\left(\\theta_{0}{\\left(t \\right)} \\right)} + 4 \\nu_{1}{\\left(t \\right)} \\nu_{3}{\\left(t \\right)} \\sin{\\left(\\theta_{0}{\\left(t \\right)} \\right)} \\cos{\\left(\\theta_{0}{\\left(t \\right)} \\right)} + 4 \\nu_{1}{\\left(t \\right)} \\nu_{3}{\\left(t \\right)} \\sin{\\left(\\theta_{0}{\\left(t \\right)} \\right)} - \\nu_{2}^{2}{\\left(t \\right)} \\cos^{3}{\\left(\\theta_{0}{\\left(t \\right)} \\right)} - 4 \\nu_{2}{\\left(t \\right)} \\nu_{3}{\\left(t \\right)} \\cos^{3}{\\left(\\theta_{0}{\\left(t \\right)} \\right)} - 4 \\nu_{2}{\\left(t \\right)} \\nu_{3}{\\left(t \\right)} \\cos^{2}{\\left(\\theta_{0}{\\left(t \\right)} \\right)} - 4 \\nu_{3}^{2}{\\left(t \\right)} \\cos^{3}{\\left(\\theta_{0}{\\left(t \\right)} \\right)} - 2 \\nu_{3}^{2}{\\left(t \\right)} \\cos^{2}{\\left(\\theta_{0}{\\left(t \\right)} \\right)} + 5 \\sin{\\left(\\theta_{0}{\\left(t \\right)} \\right)} \\cos{\\left(\\theta_{0}{\\left(t \\right)} \\right)} \\frac{d}{d t} \\nu_{2}{\\left(t \\right)} + 5 \\cos^{2}{\\left(\\theta_{0}{\\left(t \\right)} \\right)} \\frac{d}{d t} \\nu_{1}{\\left(t \\right)}\\right) + 24 \\nu_{1}{\\left(t \\right)} \\nu_{3}{\\left(t \\right)} \\sin{\\left(\\theta_{0}{\\left(t \\right)} \\right)} \\cos{\\left(2 \\theta_{0}{\\left(t \\right)} \\right)} + 24 \\nu_{1}{\\left(t \\right)} \\nu_{3}{\\left(t \\right)} \\sin{\\left(\\theta_{0}{\\left(t \\right)} \\right)} + 6 \\nu_{1}{\\left(t \\right)} \\nu_{3}{\\left(t \\right)} \\sin{\\left(2 \\theta_{0}{\\left(t \\right)} \\right)} + 3 \\nu_{1}{\\left(t \\right)} \\nu_{3}{\\left(t \\right)} \\sin{\\left(4 \\theta_{0}{\\left(t \\right)} \\right)} - 3 \\nu_{2}{\\left(t \\right)} \\nu_{3}{\\left(t \\right)} \\cos{\\left(4 \\theta_{0}{\\left(t \\right)} \\right)} + 3 \\nu_{2}{\\left(t \\right)} \\nu_{3}{\\left(t \\right)} + 24 \\sin{\\left(\\theta_{0}{\\left(t \\right)} \\right)} \\cos{\\left(2 \\theta_{0}{\\left(t \\right)} \\right)} \\frac{d}{d t} \\nu_{2}{\\left(t \\right)} + 24 \\sin{\\left(\\theta_{0}{\\left(t \\right)} \\right)} \\frac{d}{d t} \\nu_{2}{\\left(t \\right)} + 8 \\sin{\\left(2 \\theta_{0}{\\left(t \\right)} \\right)} \\frac{d}{d t} \\nu_{2}{\\left(t \\right)} + 4 \\sin{\\left(4 \\theta_{0}{\\left(t \\right)} \\right)} \\frac{d}{d t} \\nu_{2}{\\left(t \\right)} + 4 \\cos{\\left(4 \\theta_{0}{\\left(t \\right)} \\right)} \\frac{d}{d t} \\nu_{1}{\\left(t \\right)} - 4 \\frac{d}{d t} \\nu_{1}{\\left(t \\right)}}{2 \\left(3 \\cos{\\left(\\theta_{0}{\\left(t \\right)} \\right)} - \\cos{\\left(2 \\theta_{0}{\\left(t \\right)} \\right)} - 1\\right) \\cos{\\left(\\theta_{0}{\\left(t \\right)} \\right)}}$"
      ],
      "text/plain": [
       "Eq(T1(t), (2*(3*cos(theta0(t)) - cos(2*theta0(t)) - 1)*(nu1(t)**2*cos(theta0(t))**3 - nu1(t)**2*cos(theta0(t)) - 2*nu1(t)*nu2(t)*sin(theta0(t))**3 + 2*nu1(t)*nu2(t)*sin(theta0(t)) - 4*nu1(t)*nu3(t)*sin(theta0(t))**3 + 4*nu1(t)*nu3(t)*sin(theta0(t))*cos(theta0(t)) + 4*nu1(t)*nu3(t)*sin(theta0(t)) - nu2(t)**2*cos(theta0(t))**3 - 4*nu2(t)*nu3(t)*cos(theta0(t))**3 - 4*nu2(t)*nu3(t)*cos(theta0(t))**2 - 4*nu3(t)**2*cos(theta0(t))**3 - 2*nu3(t)**2*cos(theta0(t))**2 + 5*sin(theta0(t))*cos(theta0(t))*Derivative(nu2(t), t) + 5*cos(theta0(t))**2*Derivative(nu1(t), t)) + 24*nu1(t)*nu3(t)*sin(theta0(t))*cos(2*theta0(t)) + 24*nu1(t)*nu3(t)*sin(theta0(t)) + 6*nu1(t)*nu3(t)*sin(2*theta0(t)) + 3*nu1(t)*nu3(t)*sin(4*theta0(t)) - 3*nu2(t)*nu3(t)*cos(4*theta0(t)) + 3*nu2(t)*nu3(t) + 24*sin(theta0(t))*cos(2*theta0(t))*Derivative(nu2(t), t) + 24*sin(theta0(t))*Derivative(nu2(t), t) + 8*sin(2*theta0(t))*Derivative(nu2(t), t) + 4*sin(4*theta0(t))*Derivative(nu2(t), t) + 4*cos(4*theta0(t))*Derivative(nu1(t), t) - 4*Derivative(nu1(t), t))/(2*(3*cos(theta0(t)) - cos(2*theta0(t)) - 1)*cos(theta0(t))))"
      ]
     },
     "metadata": {},
     "output_type": "display_data"
    },
    {
     "data": {
      "text/latex": [
       "$\\displaystyle \\operatorname{W_{1}}{\\left(t \\right)} = \\frac{- \\left(3 \\cos{\\left(\\theta_{0}{\\left(t \\right)} \\right)} - \\cos{\\left(2 \\theta_{0}{\\left(t \\right)} \\right)} - 1\\right) \\left(\\nu_{1}^{2}{\\left(t \\right)} \\sin{\\left(2 \\theta_{0}{\\left(t \\right)} \\right)} - 2 \\nu_{1}{\\left(t \\right)} \\nu_{2}{\\left(t \\right)} \\cos{\\left(2 \\theta_{0}{\\left(t \\right)} \\right)} + 6 \\nu_{1}{\\left(t \\right)} \\nu_{3}{\\left(t \\right)} \\cos{\\left(\\theta_{0}{\\left(t \\right)} \\right)} - 4 \\nu_{1}{\\left(t \\right)} \\nu_{3}{\\left(t \\right)} \\cos{\\left(2 \\theta_{0}{\\left(t \\right)} \\right)} - \\nu_{2}^{2}{\\left(t \\right)} \\sin{\\left(2 \\theta_{0}{\\left(t \\right)} \\right)} + 6 \\nu_{2}{\\left(t \\right)} \\nu_{3}{\\left(t \\right)} \\sin{\\left(\\theta_{0}{\\left(t \\right)} \\right)} - 4 \\nu_{2}{\\left(t \\right)} \\nu_{3}{\\left(t \\right)} \\sin{\\left(2 \\theta_{0}{\\left(t \\right)} \\right)} - 4 \\nu_{3}^{2}{\\left(t \\right)} \\sin{\\left(2 \\theta_{0}{\\left(t \\right)} \\right)} - 8 \\sin{\\left(\\theta_{0}{\\left(t \\right)} \\right)} \\frac{d}{d t} \\nu_{1}{\\left(t \\right)} + 8 \\cos{\\left(\\theta_{0}{\\left(t \\right)} \\right)} \\frac{d}{d t} \\nu_{2}{\\left(t \\right)}\\right) - 9 \\nu_{1}{\\left(t \\right)} \\nu_{3}{\\left(t \\right)} \\cos{\\left(\\theta_{0}{\\left(t \\right)} \\right)} - 12 \\nu_{1}{\\left(t \\right)} \\nu_{3}{\\left(t \\right)} \\cos{\\left(2 \\theta_{0}{\\left(t \\right)} \\right)} - 3 \\nu_{1}{\\left(t \\right)} \\nu_{3}{\\left(t \\right)} \\cos{\\left(3 \\theta_{0}{\\left(t \\right)} \\right)} - 12 \\nu_{1}{\\left(t \\right)} \\nu_{3}{\\left(t \\right)} - 3 \\nu_{2}{\\left(t \\right)} \\nu_{3}{\\left(t \\right)} \\sin{\\left(\\theta_{0}{\\left(t \\right)} \\right)} - 3 \\nu_{2}{\\left(t \\right)} \\nu_{3}{\\left(t \\right)} \\sin{\\left(3 \\theta_{0}{\\left(t \\right)} \\right)} + 4 \\sin{\\left(\\theta_{0}{\\left(t \\right)} \\right)} \\frac{d}{d t} \\nu_{1}{\\left(t \\right)} + 4 \\sin{\\left(3 \\theta_{0}{\\left(t \\right)} \\right)} \\frac{d}{d t} \\nu_{1}{\\left(t \\right)} - 12 \\cos{\\left(\\theta_{0}{\\left(t \\right)} \\right)} \\frac{d}{d t} \\nu_{2}{\\left(t \\right)} - 12 \\cos{\\left(2 \\theta_{0}{\\left(t \\right)} \\right)} \\frac{d}{d t} \\nu_{2}{\\left(t \\right)} - 4 \\cos{\\left(3 \\theta_{0}{\\left(t \\right)} \\right)} \\frac{d}{d t} \\nu_{2}{\\left(t \\right)} - 12 \\frac{d}{d t} \\nu_{2}{\\left(t \\right)}}{2 \\left(3 \\cos{\\left(\\theta_{0}{\\left(t \\right)} \\right)} - \\cos{\\left(2 \\theta_{0}{\\left(t \\right)} \\right)} - 1\\right)}$"
      ],
      "text/plain": [
       "Eq(W1(t), (-(3*cos(theta0(t)) - cos(2*theta0(t)) - 1)*(nu1(t)**2*sin(2*theta0(t)) - 2*nu1(t)*nu2(t)*cos(2*theta0(t)) + 6*nu1(t)*nu3(t)*cos(theta0(t)) - 4*nu1(t)*nu3(t)*cos(2*theta0(t)) - nu2(t)**2*sin(2*theta0(t)) + 6*nu2(t)*nu3(t)*sin(theta0(t)) - 4*nu2(t)*nu3(t)*sin(2*theta0(t)) - 4*nu3(t)**2*sin(2*theta0(t)) - 8*sin(theta0(t))*Derivative(nu1(t), t) + 8*cos(theta0(t))*Derivative(nu2(t), t)) - 9*nu1(t)*nu3(t)*cos(theta0(t)) - 12*nu1(t)*nu3(t)*cos(2*theta0(t)) - 3*nu1(t)*nu3(t)*cos(3*theta0(t)) - 12*nu1(t)*nu3(t) - 3*nu2(t)*nu3(t)*sin(theta0(t)) - 3*nu2(t)*nu3(t)*sin(3*theta0(t)) + 4*sin(theta0(t))*Derivative(nu1(t), t) + 4*sin(3*theta0(t))*Derivative(nu1(t), t) - 12*cos(theta0(t))*Derivative(nu2(t), t) - 12*cos(2*theta0(t))*Derivative(nu2(t), t) - 4*cos(3*theta0(t))*Derivative(nu2(t), t) - 12*Derivative(nu2(t), t))/(2*(3*cos(theta0(t)) - cos(2*theta0(t)) - 1)))"
      ]
     },
     "metadata": {},
     "output_type": "display_data"
    },
    {
     "data": {
      "text/latex": [
       "$\\displaystyle \\frac{d}{d t} \\nu_{3}{\\left(t \\right)} = \\frac{- \\nu_{1}^{2}{\\left(t \\right)} \\sin^{3}{\\left(\\theta_{0}{\\left(t \\right)} \\right)} + \\frac{3 \\nu_{1}^{2}{\\left(t \\right)} \\sin{\\left(\\theta_{0}{\\left(t \\right)} \\right)}}{4} - \\frac{\\nu_{1}^{2}{\\left(t \\right)} \\sin{\\left(3 \\theta_{0}{\\left(t \\right)} \\right)}}{4} - 2 \\nu_{1}{\\left(t \\right)} \\nu_{2}{\\left(t \\right)} \\cos^{3}{\\left(\\theta_{0}{\\left(t \\right)} \\right)} + \\frac{3 \\nu_{1}{\\left(t \\right)} \\nu_{2}{\\left(t \\right)} \\cos{\\left(\\theta_{0}{\\left(t \\right)} \\right)}}{2} + \\frac{\\nu_{1}{\\left(t \\right)} \\nu_{2}{\\left(t \\right)} \\cos{\\left(3 \\theta_{0}{\\left(t \\right)} \\right)}}{2} - 4 \\nu_{1}{\\left(t \\right)} \\nu_{3}{\\left(t \\right)} \\cos^{3}{\\left(\\theta_{0}{\\left(t \\right)} \\right)} + 3 \\nu_{1}{\\left(t \\right)} \\nu_{3}{\\left(t \\right)} \\cos^{2}{\\left(\\theta_{0}{\\left(t \\right)} \\right)} + 9 \\nu_{1}{\\left(t \\right)} \\nu_{3}{\\left(t \\right)} \\cos{\\left(\\theta_{0}{\\left(t \\right)} \\right)} + \\nu_{1}{\\left(t \\right)} \\nu_{3}{\\left(t \\right)} \\cos{\\left(3 \\theta_{0}{\\left(t \\right)} \\right)} + \\nu_{2}^{2}{\\left(t \\right)} \\sin^{3}{\\left(\\theta_{0}{\\left(t \\right)} \\right)} - \\frac{3 \\nu_{2}^{2}{\\left(t \\right)} \\sin{\\left(\\theta_{0}{\\left(t \\right)} \\right)}}{4} + \\frac{\\nu_{2}^{2}{\\left(t \\right)} \\sin{\\left(3 \\theta_{0}{\\left(t \\right)} \\right)}}{4} + 4 \\nu_{2}{\\left(t \\right)} \\nu_{3}{\\left(t \\right)} \\sin^{3}{\\left(\\theta_{0}{\\left(t \\right)} \\right)} + 3 \\nu_{2}{\\left(t \\right)} \\nu_{3}{\\left(t \\right)} \\sin{\\left(\\theta_{0}{\\left(t \\right)} \\right)} \\cos{\\left(\\theta_{0}{\\left(t \\right)} \\right)} - 3 \\nu_{2}{\\left(t \\right)} \\nu_{3}{\\left(t \\right)} \\sin{\\left(\\theta_{0}{\\left(t \\right)} \\right)} + \\nu_{2}{\\left(t \\right)} \\nu_{3}{\\left(t \\right)} \\sin{\\left(3 \\theta_{0}{\\left(t \\right)} \\right)} + 4 \\nu_{3}^{2}{\\left(t \\right)} \\sin^{3}{\\left(\\theta_{0}{\\left(t \\right)} \\right)} - 3 \\nu_{3}^{2}{\\left(t \\right)} \\sin{\\left(\\theta_{0}{\\left(t \\right)} \\right)} + \\nu_{3}^{2}{\\left(t \\right)} \\sin{\\left(3 \\theta_{0}{\\left(t \\right)} \\right)} - 4 \\sin{\\left(\\theta_{0}{\\left(t \\right)} \\right)} \\cos{\\left(\\theta_{0}{\\left(t \\right)} \\right)} \\frac{d}{d t} \\nu_{1}{\\left(t \\right)} + 4 \\cos^{2}{\\left(\\theta_{0}{\\left(t \\right)} \\right)} \\frac{d}{d t} \\nu_{2}{\\left(t \\right)} + 6 \\cos{\\left(\\theta_{0}{\\left(t \\right)} \\right)} \\frac{d}{d t} \\nu_{2}{\\left(t \\right)}}{3 \\cos{\\left(\\theta_{0}{\\left(t \\right)} \\right)} - \\cos{\\left(2 \\theta_{0}{\\left(t \\right)} \\right)} - 1}$"
      ],
      "text/plain": [
       "Eq(Derivative(nu3(t), t), (-nu1(t)**2*sin(theta0(t))**3 + 3*nu1(t)**2*sin(theta0(t))/4 - nu1(t)**2*sin(3*theta0(t))/4 - 2*nu1(t)*nu2(t)*cos(theta0(t))**3 + 3*nu1(t)*nu2(t)*cos(theta0(t))/2 + nu1(t)*nu2(t)*cos(3*theta0(t))/2 - 4*nu1(t)*nu3(t)*cos(theta0(t))**3 + 3*nu1(t)*nu3(t)*cos(theta0(t))**2 + 9*nu1(t)*nu3(t)*cos(theta0(t)) + nu1(t)*nu3(t)*cos(3*theta0(t)) + nu2(t)**2*sin(theta0(t))**3 - 3*nu2(t)**2*sin(theta0(t))/4 + nu2(t)**2*sin(3*theta0(t))/4 + 4*nu2(t)*nu3(t)*sin(theta0(t))**3 + 3*nu2(t)*nu3(t)*sin(theta0(t))*cos(theta0(t)) - 3*nu2(t)*nu3(t)*sin(theta0(t)) + nu2(t)*nu3(t)*sin(3*theta0(t)) + 4*nu3(t)**2*sin(theta0(t))**3 - 3*nu3(t)**2*sin(theta0(t)) + nu3(t)**2*sin(3*theta0(t)) - 4*sin(theta0(t))*cos(theta0(t))*Derivative(nu1(t), t) + 4*cos(theta0(t))**2*Derivative(nu2(t), t) + 6*cos(theta0(t))*Derivative(nu2(t), t))/(3*cos(theta0(t)) - cos(2*theta0(t)) - 1))"
      ]
     },
     "metadata": {},
     "output_type": "display_data"
    }
   ],
   "source": [
    "display_list(resTWNU3)"
   ]
  },
  {
   "cell_type": "code",
   "execution_count": 190,
   "metadata": {},
   "outputs": [],
   "source": [
    "save(resTWNU3, 'data/TWNU3')"
   ]
  },
  {
   "cell_type": "code",
   "execution_count": 191,
   "metadata": {},
   "outputs": [],
   "source": [
    "resTWNU3 = load('data/TWNU3')"
   ]
  },
  {
   "cell_type": "markdown",
   "metadata": {},
   "source": [
    "## Solve by x(t), y(t)"
   ]
  },
  {
   "cell_type": "code",
   "execution_count": 192,
   "metadata": {},
   "outputs": [],
   "source": [
    "def sub_xy(eqs):\n",
    "    _eq = {}\n",
    "    _s_xy = {x: sin(t), y: cos(t)}\n",
    "    _eq['nu1(x,y)'] = eq['nu1(x,y)'].subs(_s_xy)\n",
    "    _eq['nu2(x,y)'] = eq['nu2(x,y)'].subs(_s_xy)\n",
    "    return [subs_Eqs(_x, _eq.values()) for _x in eqs]"
   ]
  },
  {
   "cell_type": "code",
   "execution_count": 193,
   "metadata": {},
   "outputs": [],
   "source": [
    "xy_TW_eqs = sub_xy(resTWNU3)"
   ]
  },
  {
   "cell_type": "code",
   "execution_count": 194,
   "metadata": {},
   "outputs": [
    {
     "name": "stdout",
     "output_type": "stream",
     "text": [
      "CPU times: user 5min 21s, sys: 140 ms, total: 5min 21s\n",
      "Wall time: 5min 21s\n"
     ]
    }
   ],
   "source": [
    "%%time\n",
    "xy_TW_eqs = [simplify(_x.doit()) for _x in xy_TW_eqs]"
   ]
  },
  {
   "cell_type": "code",
   "execution_count": 195,
   "metadata": {},
   "outputs": [
    {
     "data": {
      "text/latex": [
       "$\\displaystyle \\operatorname{T_{1}}{\\left(t \\right)} = - \\frac{4 \\nu_{3}^{2}{\\left(t \\right)} \\cos{\\left(\\theta_{0}{\\left(t \\right)} \\right)} + 8 \\nu_{3}^{2}{\\left(t \\right)} \\cos^{2}{\\left(2 \\theta_{0}{\\left(t \\right)} \\right)} - 32 \\nu_{3}^{2}{\\left(t \\right)} \\cos{\\left(2 \\theta_{0}{\\left(t \\right)} \\right)} + 8 \\nu_{3}^{2}{\\left(t \\right)} \\cos{\\left(3 \\theta_{0}{\\left(t \\right)} \\right)} - 12 \\nu_{3}^{2}{\\left(t \\right)} \\cos{\\left(4 \\theta_{0}{\\left(t \\right)} \\right)} + 4 \\nu_{3}^{2}{\\left(t \\right)} \\cos{\\left(5 \\theta_{0}{\\left(t \\right)} \\right)} - 28 \\nu_{3}^{2}{\\left(t \\right)} + 46 \\nu_{3}{\\left(t \\right)} \\sin{\\left(t + \\alpha{\\left(t \\right)} \\right)} - 4 \\nu_{3}{\\left(t \\right)} \\sin{\\left(t + \\alpha{\\left(t \\right)} - 3 \\theta_{0}{\\left(t \\right)} \\right)} + 18 \\nu_{3}{\\left(t \\right)} \\sin{\\left(t + \\alpha{\\left(t \\right)} - 2 \\theta_{0}{\\left(t \\right)} \\right)} - 22 \\nu_{3}{\\left(t \\right)} \\sin{\\left(t + \\alpha{\\left(t \\right)} - \\theta_{0}{\\left(t \\right)} \\right)} - 36 \\nu_{3}{\\left(t \\right)} \\sin{\\left(t + \\alpha{\\left(t \\right)} + \\theta_{0}{\\left(t \\right)} \\right)} + 38 \\nu_{3}{\\left(t \\right)} \\sin{\\left(t + \\alpha{\\left(t \\right)} + 2 \\theta_{0}{\\left(t \\right)} \\right)} - 22 \\nu_{3}{\\left(t \\right)} \\sin{\\left(t + \\alpha{\\left(t \\right)} + 3 \\theta_{0}{\\left(t \\right)} \\right)} + 10 \\nu_{3}{\\left(t \\right)} \\sin{\\left(t + \\alpha{\\left(t \\right)} + 4 \\theta_{0}{\\left(t \\right)} \\right)} - 4 \\nu_{3}{\\left(t \\right)} \\sin{\\left(t + \\alpha{\\left(t \\right)} + 5 \\theta_{0}{\\left(t \\right)} \\right)} + 46 \\sin{\\left(t + \\alpha{\\left(t \\right)} \\right)} + 24 \\sin{\\left(t + \\alpha{\\left(t \\right)} - 3 \\theta_{0}{\\left(t \\right)} \\right)} + 26 \\sin{\\left(t + \\alpha{\\left(t \\right)} - 2 \\theta_{0}{\\left(t \\right)} \\right)} - 6 \\sin{\\left(t + \\alpha{\\left(t \\right)} - \\theta_{0}{\\left(t \\right)} \\right)} - 84 \\sin{\\left(t + \\alpha{\\left(t \\right)} + \\theta_{0}{\\left(t \\right)} \\right)} + 14 \\sin{\\left(t + \\alpha{\\left(t \\right)} + 2 \\theta_{0}{\\left(t \\right)} \\right)} - 54 \\sin{\\left(t + \\alpha{\\left(t \\right)} + 3 \\theta_{0}{\\left(t \\right)} \\right)} - 6 \\sin{\\left(t + \\alpha{\\left(t \\right)} + 4 \\theta_{0}{\\left(t \\right)} \\right)} + 3 \\cos{\\left(2 t + 2 \\alpha{\\left(t \\right)} \\right)} - \\cos{\\left(2 t + 2 \\alpha{\\left(t \\right)} - \\theta_{0}{\\left(t \\right)} \\right)} - 3 \\cos{\\left(2 t + 2 \\alpha{\\left(t \\right)} + \\theta_{0}{\\left(t \\right)} \\right)} + 6 \\cos{\\left(2 t + 2 \\alpha{\\left(t \\right)} + 2 \\theta_{0}{\\left(t \\right)} \\right)} - 3 \\cos{\\left(2 t + 2 \\alpha{\\left(t \\right)} + 3 \\theta_{0}{\\left(t \\right)} \\right)} + 3 \\cos{\\left(2 t + 2 \\alpha{\\left(t \\right)} + 4 \\theta_{0}{\\left(t \\right)} \\right)} - \\cos{\\left(2 t + 2 \\alpha{\\left(t \\right)} + 5 \\theta_{0}{\\left(t \\right)} \\right)} + 6 \\cos{\\left(\\theta_{0}{\\left(t \\right)} \\right)} - 6 \\cos{\\left(2 \\theta_{0}{\\left(t \\right)} \\right)} + 2 \\cos{\\left(3 \\theta_{0}{\\left(t \\right)} \\right)} - 6}{8 \\left(- 3 \\cos{\\left(\\theta_{0}{\\left(t \\right)} \\right)} + \\cos{\\left(2 \\theta_{0}{\\left(t \\right)} \\right)} + 1\\right) \\cos{\\left(\\theta_{0}{\\left(t \\right)} \\right)}}$"
      ],
      "text/plain": [
       "Eq(T1(t), -(4*nu3(t)**2*cos(theta0(t)) + 8*nu3(t)**2*cos(2*theta0(t))**2 - 32*nu3(t)**2*cos(2*theta0(t)) + 8*nu3(t)**2*cos(3*theta0(t)) - 12*nu3(t)**2*cos(4*theta0(t)) + 4*nu3(t)**2*cos(5*theta0(t)) - 28*nu3(t)**2 + 46*nu3(t)*sin(t + alpha(t)) - 4*nu3(t)*sin(t + alpha(t) - 3*theta0(t)) + 18*nu3(t)*sin(t + alpha(t) - 2*theta0(t)) - 22*nu3(t)*sin(t + alpha(t) - theta0(t)) - 36*nu3(t)*sin(t + alpha(t) + theta0(t)) + 38*nu3(t)*sin(t + alpha(t) + 2*theta0(t)) - 22*nu3(t)*sin(t + alpha(t) + 3*theta0(t)) + 10*nu3(t)*sin(t + alpha(t) + 4*theta0(t)) - 4*nu3(t)*sin(t + alpha(t) + 5*theta0(t)) + 46*sin(t + alpha(t)) + 24*sin(t + alpha(t) - 3*theta0(t)) + 26*sin(t + alpha(t) - 2*theta0(t)) - 6*sin(t + alpha(t) - theta0(t)) - 84*sin(t + alpha(t) + theta0(t)) + 14*sin(t + alpha(t) + 2*theta0(t)) - 54*sin(t + alpha(t) + 3*theta0(t)) - 6*sin(t + alpha(t) + 4*theta0(t)) + 3*cos(2*t + 2*alpha(t)) - cos(2*t + 2*alpha(t) - theta0(t)) - 3*cos(2*t + 2*alpha(t) + theta0(t)) + 6*cos(2*t + 2*alpha(t) + 2*theta0(t)) - 3*cos(2*t + 2*alpha(t) + 3*theta0(t)) + 3*cos(2*t + 2*alpha(t) + 4*theta0(t)) - cos(2*t + 2*alpha(t) + 5*theta0(t)) + 6*cos(theta0(t)) - 6*cos(2*theta0(t)) + 2*cos(3*theta0(t)) - 6)/(8*(-3*cos(theta0(t)) + cos(2*theta0(t)) + 1)*cos(theta0(t))))"
      ]
     },
     "metadata": {},
     "output_type": "display_data"
    },
    {
     "data": {
      "text/latex": [
       "$\\displaystyle \\operatorname{W_{1}}{\\left(t \\right)} = \\frac{- 3 \\nu_{3}^{2}{\\left(t \\right)} \\sin{\\left(\\theta_{0}{\\left(t \\right)} \\right)} + 2 \\nu_{3}^{2}{\\left(t \\right)} \\sin{\\left(2 \\theta_{0}{\\left(t \\right)} \\right)} - 3 \\nu_{3}^{2}{\\left(t \\right)} \\sin{\\left(3 \\theta_{0}{\\left(t \\right)} \\right)} + \\nu_{3}^{2}{\\left(t \\right)} \\sin{\\left(4 \\theta_{0}{\\left(t \\right)} \\right)} - \\frac{\\nu_{3}{\\left(t \\right)} \\cos{\\left(t + \\alpha{\\left(t \\right)} \\right)}}{2} - 3 \\nu_{3}{\\left(t \\right)} \\cos{\\left(t + \\alpha{\\left(t \\right)} + \\theta_{0}{\\left(t \\right)} \\right)} + \\frac{\\nu_{3}{\\left(t \\right)} \\cos{\\left(t + \\alpha{\\left(t \\right)} + 2 \\theta_{0}{\\left(t \\right)} \\right)}}{2} - 3 \\nu_{3}{\\left(t \\right)} \\cos{\\left(t + \\alpha{\\left(t \\right)} + 3 \\theta_{0}{\\left(t \\right)} \\right)} + \\nu_{3}{\\left(t \\right)} \\cos{\\left(t + \\alpha{\\left(t \\right)} + 4 \\theta_{0}{\\left(t \\right)} \\right)} - \\frac{\\sin{\\left(2 t + 2 \\alpha{\\left(t \\right)} \\right)}}{4} + \\frac{3 \\sin{\\left(2 t + 2 \\alpha{\\left(t \\right)} + \\theta_{0}{\\left(t \\right)} \\right)}}{4} - \\frac{\\sin{\\left(2 t + 2 \\alpha{\\left(t \\right)} + 2 \\theta_{0}{\\left(t \\right)} \\right)}}{2} + \\frac{3 \\sin{\\left(2 t + 2 \\alpha{\\left(t \\right)} + 3 \\theta_{0}{\\left(t \\right)} \\right)}}{4} - \\frac{\\sin{\\left(2 t + 2 \\alpha{\\left(t \\right)} + 4 \\theta_{0}{\\left(t \\right)} \\right)}}{4} - 12 \\cos{\\left(t + \\alpha{\\left(t \\right)} \\right)} - 3 \\cos{\\left(t + \\alpha{\\left(t \\right)} - 2 \\theta_{0}{\\left(t \\right)} \\right)} - 9 \\cos{\\left(t + \\alpha{\\left(t \\right)} + 2 \\theta_{0}{\\left(t \\right)} \\right)}}{- 3 \\cos{\\left(\\theta_{0}{\\left(t \\right)} \\right)} + \\cos{\\left(2 \\theta_{0}{\\left(t \\right)} \\right)} + 1}$"
      ],
      "text/plain": [
       "Eq(W1(t), (-3*nu3(t)**2*sin(theta0(t)) + 2*nu3(t)**2*sin(2*theta0(t)) - 3*nu3(t)**2*sin(3*theta0(t)) + nu3(t)**2*sin(4*theta0(t)) - nu3(t)*cos(t + alpha(t))/2 - 3*nu3(t)*cos(t + alpha(t) + theta0(t)) + nu3(t)*cos(t + alpha(t) + 2*theta0(t))/2 - 3*nu3(t)*cos(t + alpha(t) + 3*theta0(t)) + nu3(t)*cos(t + alpha(t) + 4*theta0(t)) - sin(2*t + 2*alpha(t))/4 + 3*sin(2*t + 2*alpha(t) + theta0(t))/4 - sin(2*t + 2*alpha(t) + 2*theta0(t))/2 + 3*sin(2*t + 2*alpha(t) + 3*theta0(t))/4 - sin(2*t + 2*alpha(t) + 4*theta0(t))/4 - 12*cos(t + alpha(t)) - 3*cos(t + alpha(t) - 2*theta0(t)) - 9*cos(t + alpha(t) + 2*theta0(t)))/(-3*cos(theta0(t)) + cos(2*theta0(t)) + 1))"
      ]
     },
     "metadata": {},
     "output_type": "display_data"
    },
    {
     "data": {
      "text/latex": [
       "$\\displaystyle \\frac{d}{d t} \\nu_{3}{\\left(t \\right)} = \\frac{2 \\nu_{3}{\\left(t \\right)} \\cos{\\left(t + \\alpha{\\left(t \\right)} \\right)} + 2 \\nu_{3}{\\left(t \\right)} \\cos{\\left(t + \\alpha{\\left(t \\right)} + 2 \\theta_{0}{\\left(t \\right)} \\right)} + 8 \\cos{\\left(t + \\alpha{\\left(t \\right)} \\right)} + 12 \\cos{\\left(t + \\alpha{\\left(t \\right)} - \\theta_{0}{\\left(t \\right)} \\right)} + 12 \\cos{\\left(t + \\alpha{\\left(t \\right)} + \\theta_{0}{\\left(t \\right)} \\right)} + 8 \\cos{\\left(t + \\alpha{\\left(t \\right)} + 2 \\theta_{0}{\\left(t \\right)} \\right)}}{4 \\left(- 3 \\cos{\\left(\\theta_{0}{\\left(t \\right)} \\right)} + \\cos{\\left(2 \\theta_{0}{\\left(t \\right)} \\right)} + 1\\right)}$"
      ],
      "text/plain": [
       "Eq(Derivative(nu3(t), t), (2*nu3(t)*cos(t + alpha(t)) + 2*nu3(t)*cos(t + alpha(t) + 2*theta0(t)) + 8*cos(t + alpha(t)) + 12*cos(t + alpha(t) - theta0(t)) + 12*cos(t + alpha(t) + theta0(t)) + 8*cos(t + alpha(t) + 2*theta0(t)))/(4*(-3*cos(theta0(t)) + cos(2*theta0(t)) + 1)))"
      ]
     },
     "metadata": {},
     "output_type": "display_data"
    }
   ],
   "source": [
    "xy_TW_eqs = [subs_Eqs(_x, [conn3]) for _x in xy_TW_eqs]\n",
    "display_list(xy_TW_eqs)"
   ]
  },
  {
   "cell_type": "code",
   "execution_count": 196,
   "metadata": {},
   "outputs": [
    {
     "data": {
      "text/latex": [
       "$\\displaystyle \\nu_{3}{\\left(t \\right)} = \\frac{d}{d t} \\alpha{\\left(t \\right)}$"
      ],
      "text/plain": [
       "Eq(nu3(t), Derivative(alpha(t), t))"
      ]
     },
     "metadata": {},
     "output_type": "display_data"
    },
    {
     "data": {
      "text/latex": [
       "$\\displaystyle \\frac{d}{d t} \\theta_{0}{\\left(t \\right)} = - 2 \\nu_{3}{\\left(t \\right)} \\cos{\\left(\\theta_{0}{\\left(t \\right)} \\right)} - \\nu_{3}{\\left(t \\right)} + \\sin{\\left(t + \\alpha{\\left(t \\right)} + \\theta_{0}{\\left(t \\right)} \\right)}$"
      ],
      "text/plain": [
       "Eq(Derivative(theta0(t), t), -2*nu3(t)*cos(theta0(t)) - nu3(t) + sin(t + alpha(t) + theta0(t)))"
      ]
     },
     "metadata": {},
     "output_type": "display_data"
    }
   ],
   "source": [
    "TW_constr = sub_xy([par_subs(conn3), par_subs(conn4)])\n",
    "TW_constr = [simplify(_x.doit()) for _x in TW_constr]\n",
    "display_list(TW_constr)"
   ]
  },
  {
   "cell_type": "code",
   "execution_count": 82,
   "metadata": {},
   "outputs": [],
   "source": [
    "# TW_nu = []\n",
    "# TW_nu += [eq['nu1(x,y)'].diff(t).doit()]\n",
    "# TW_nu += [eq['nu2(x,y)'].diff(t).doit()]\n",
    "\n",
    "# display_list(TW_nu)"
   ]
  },
  {
   "cell_type": "code",
   "execution_count": 205,
   "metadata": {},
   "outputs": [
    {
     "data": {
      "text/latex": [
       "$\\displaystyle \\operatorname{T_{1}}{\\left(t \\right)} = - \\frac{4 \\nu_{3}^{2}{\\left(t \\right)} \\cos{\\left(\\theta_{0}{\\left(t \\right)} \\right)} + 8 \\nu_{3}^{2}{\\left(t \\right)} \\cos^{2}{\\left(2 \\theta_{0}{\\left(t \\right)} \\right)} - 32 \\nu_{3}^{2}{\\left(t \\right)} \\cos{\\left(2 \\theta_{0}{\\left(t \\right)} \\right)} + 8 \\nu_{3}^{2}{\\left(t \\right)} \\cos{\\left(3 \\theta_{0}{\\left(t \\right)} \\right)} - 12 \\nu_{3}^{2}{\\left(t \\right)} \\cos{\\left(4 \\theta_{0}{\\left(t \\right)} \\right)} + 4 \\nu_{3}^{2}{\\left(t \\right)} \\cos{\\left(5 \\theta_{0}{\\left(t \\right)} \\right)} - 28 \\nu_{3}^{2}{\\left(t \\right)} + 46 \\nu_{3}{\\left(t \\right)} \\sin{\\left(t + \\alpha{\\left(t \\right)} \\right)} - 4 \\nu_{3}{\\left(t \\right)} \\sin{\\left(t + \\alpha{\\left(t \\right)} - 3 \\theta_{0}{\\left(t \\right)} \\right)} + 18 \\nu_{3}{\\left(t \\right)} \\sin{\\left(t + \\alpha{\\left(t \\right)} - 2 \\theta_{0}{\\left(t \\right)} \\right)} - 22 \\nu_{3}{\\left(t \\right)} \\sin{\\left(t + \\alpha{\\left(t \\right)} - \\theta_{0}{\\left(t \\right)} \\right)} - 36 \\nu_{3}{\\left(t \\right)} \\sin{\\left(t + \\alpha{\\left(t \\right)} + \\theta_{0}{\\left(t \\right)} \\right)} + 38 \\nu_{3}{\\left(t \\right)} \\sin{\\left(t + \\alpha{\\left(t \\right)} + 2 \\theta_{0}{\\left(t \\right)} \\right)} - 22 \\nu_{3}{\\left(t \\right)} \\sin{\\left(t + \\alpha{\\left(t \\right)} + 3 \\theta_{0}{\\left(t \\right)} \\right)} + 10 \\nu_{3}{\\left(t \\right)} \\sin{\\left(t + \\alpha{\\left(t \\right)} + 4 \\theta_{0}{\\left(t \\right)} \\right)} - 4 \\nu_{3}{\\left(t \\right)} \\sin{\\left(t + \\alpha{\\left(t \\right)} + 5 \\theta_{0}{\\left(t \\right)} \\right)} + 46 \\sin{\\left(t + \\alpha{\\left(t \\right)} \\right)} + 24 \\sin{\\left(t + \\alpha{\\left(t \\right)} - 3 \\theta_{0}{\\left(t \\right)} \\right)} + 26 \\sin{\\left(t + \\alpha{\\left(t \\right)} - 2 \\theta_{0}{\\left(t \\right)} \\right)} - 6 \\sin{\\left(t + \\alpha{\\left(t \\right)} - \\theta_{0}{\\left(t \\right)} \\right)} - 84 \\sin{\\left(t + \\alpha{\\left(t \\right)} + \\theta_{0}{\\left(t \\right)} \\right)} + 14 \\sin{\\left(t + \\alpha{\\left(t \\right)} + 2 \\theta_{0}{\\left(t \\right)} \\right)} - 54 \\sin{\\left(t + \\alpha{\\left(t \\right)} + 3 \\theta_{0}{\\left(t \\right)} \\right)} - 6 \\sin{\\left(t + \\alpha{\\left(t \\right)} + 4 \\theta_{0}{\\left(t \\right)} \\right)} + 3 \\cos{\\left(2 t + 2 \\alpha{\\left(t \\right)} \\right)} - \\cos{\\left(2 t + 2 \\alpha{\\left(t \\right)} - \\theta_{0}{\\left(t \\right)} \\right)} - 3 \\cos{\\left(2 t + 2 \\alpha{\\left(t \\right)} + \\theta_{0}{\\left(t \\right)} \\right)} + 6 \\cos{\\left(2 t + 2 \\alpha{\\left(t \\right)} + 2 \\theta_{0}{\\left(t \\right)} \\right)} - 3 \\cos{\\left(2 t + 2 \\alpha{\\left(t \\right)} + 3 \\theta_{0}{\\left(t \\right)} \\right)} + 3 \\cos{\\left(2 t + 2 \\alpha{\\left(t \\right)} + 4 \\theta_{0}{\\left(t \\right)} \\right)} - \\cos{\\left(2 t + 2 \\alpha{\\left(t \\right)} + 5 \\theta_{0}{\\left(t \\right)} \\right)} + 6 \\cos{\\left(\\theta_{0}{\\left(t \\right)} \\right)} - 6 \\cos{\\left(2 \\theta_{0}{\\left(t \\right)} \\right)} + 2 \\cos{\\left(3 \\theta_{0}{\\left(t \\right)} \\right)} - 6}{8 \\left(- 3 \\cos{\\left(\\theta_{0}{\\left(t \\right)} \\right)} + \\cos{\\left(2 \\theta_{0}{\\left(t \\right)} \\right)} + 1\\right) \\cos{\\left(\\theta_{0}{\\left(t \\right)} \\right)}}$"
      ],
      "text/plain": [
       "Eq(T1(t), -(4*nu3(t)**2*cos(theta0(t)) + 8*nu3(t)**2*cos(2*theta0(t))**2 - 32*nu3(t)**2*cos(2*theta0(t)) + 8*nu3(t)**2*cos(3*theta0(t)) - 12*nu3(t)**2*cos(4*theta0(t)) + 4*nu3(t)**2*cos(5*theta0(t)) - 28*nu3(t)**2 + 46*nu3(t)*sin(t + alpha(t)) - 4*nu3(t)*sin(t + alpha(t) - 3*theta0(t)) + 18*nu3(t)*sin(t + alpha(t) - 2*theta0(t)) - 22*nu3(t)*sin(t + alpha(t) - theta0(t)) - 36*nu3(t)*sin(t + alpha(t) + theta0(t)) + 38*nu3(t)*sin(t + alpha(t) + 2*theta0(t)) - 22*nu3(t)*sin(t + alpha(t) + 3*theta0(t)) + 10*nu3(t)*sin(t + alpha(t) + 4*theta0(t)) - 4*nu3(t)*sin(t + alpha(t) + 5*theta0(t)) + 46*sin(t + alpha(t)) + 24*sin(t + alpha(t) - 3*theta0(t)) + 26*sin(t + alpha(t) - 2*theta0(t)) - 6*sin(t + alpha(t) - theta0(t)) - 84*sin(t + alpha(t) + theta0(t)) + 14*sin(t + alpha(t) + 2*theta0(t)) - 54*sin(t + alpha(t) + 3*theta0(t)) - 6*sin(t + alpha(t) + 4*theta0(t)) + 3*cos(2*t + 2*alpha(t)) - cos(2*t + 2*alpha(t) - theta0(t)) - 3*cos(2*t + 2*alpha(t) + theta0(t)) + 6*cos(2*t + 2*alpha(t) + 2*theta0(t)) - 3*cos(2*t + 2*alpha(t) + 3*theta0(t)) + 3*cos(2*t + 2*alpha(t) + 4*theta0(t)) - cos(2*t + 2*alpha(t) + 5*theta0(t)) + 6*cos(theta0(t)) - 6*cos(2*theta0(t)) + 2*cos(3*theta0(t)) - 6)/(8*(-3*cos(theta0(t)) + cos(2*theta0(t)) + 1)*cos(theta0(t))))"
      ]
     },
     "metadata": {},
     "output_type": "display_data"
    },
    {
     "data": {
      "text/latex": [
       "$\\displaystyle \\operatorname{W_{1}}{\\left(t \\right)} = \\frac{- 3 \\nu_{3}^{2}{\\left(t \\right)} \\sin{\\left(\\theta_{0}{\\left(t \\right)} \\right)} + 2 \\nu_{3}^{2}{\\left(t \\right)} \\sin{\\left(2 \\theta_{0}{\\left(t \\right)} \\right)} - 3 \\nu_{3}^{2}{\\left(t \\right)} \\sin{\\left(3 \\theta_{0}{\\left(t \\right)} \\right)} + \\nu_{3}^{2}{\\left(t \\right)} \\sin{\\left(4 \\theta_{0}{\\left(t \\right)} \\right)} - \\frac{\\nu_{3}{\\left(t \\right)} \\cos{\\left(t + \\alpha{\\left(t \\right)} \\right)}}{2} - 3 \\nu_{3}{\\left(t \\right)} \\cos{\\left(t + \\alpha{\\left(t \\right)} + \\theta_{0}{\\left(t \\right)} \\right)} + \\frac{\\nu_{3}{\\left(t \\right)} \\cos{\\left(t + \\alpha{\\left(t \\right)} + 2 \\theta_{0}{\\left(t \\right)} \\right)}}{2} - 3 \\nu_{3}{\\left(t \\right)} \\cos{\\left(t + \\alpha{\\left(t \\right)} + 3 \\theta_{0}{\\left(t \\right)} \\right)} + \\nu_{3}{\\left(t \\right)} \\cos{\\left(t + \\alpha{\\left(t \\right)} + 4 \\theta_{0}{\\left(t \\right)} \\right)} - \\frac{\\sin{\\left(2 t + 2 \\alpha{\\left(t \\right)} \\right)}}{4} + \\frac{3 \\sin{\\left(2 t + 2 \\alpha{\\left(t \\right)} + \\theta_{0}{\\left(t \\right)} \\right)}}{4} - \\frac{\\sin{\\left(2 t + 2 \\alpha{\\left(t \\right)} + 2 \\theta_{0}{\\left(t \\right)} \\right)}}{2} + \\frac{3 \\sin{\\left(2 t + 2 \\alpha{\\left(t \\right)} + 3 \\theta_{0}{\\left(t \\right)} \\right)}}{4} - \\frac{\\sin{\\left(2 t + 2 \\alpha{\\left(t \\right)} + 4 \\theta_{0}{\\left(t \\right)} \\right)}}{4} - 12 \\cos{\\left(t + \\alpha{\\left(t \\right)} \\right)} - 3 \\cos{\\left(t + \\alpha{\\left(t \\right)} - 2 \\theta_{0}{\\left(t \\right)} \\right)} - 9 \\cos{\\left(t + \\alpha{\\left(t \\right)} + 2 \\theta_{0}{\\left(t \\right)} \\right)}}{- 3 \\cos{\\left(\\theta_{0}{\\left(t \\right)} \\right)} + \\cos{\\left(2 \\theta_{0}{\\left(t \\right)} \\right)} + 1}$"
      ],
      "text/plain": [
       "Eq(W1(t), (-3*nu3(t)**2*sin(theta0(t)) + 2*nu3(t)**2*sin(2*theta0(t)) - 3*nu3(t)**2*sin(3*theta0(t)) + nu3(t)**2*sin(4*theta0(t)) - nu3(t)*cos(t + alpha(t))/2 - 3*nu3(t)*cos(t + alpha(t) + theta0(t)) + nu3(t)*cos(t + alpha(t) + 2*theta0(t))/2 - 3*nu3(t)*cos(t + alpha(t) + 3*theta0(t)) + nu3(t)*cos(t + alpha(t) + 4*theta0(t)) - sin(2*t + 2*alpha(t))/4 + 3*sin(2*t + 2*alpha(t) + theta0(t))/4 - sin(2*t + 2*alpha(t) + 2*theta0(t))/2 + 3*sin(2*t + 2*alpha(t) + 3*theta0(t))/4 - sin(2*t + 2*alpha(t) + 4*theta0(t))/4 - 12*cos(t + alpha(t)) - 3*cos(t + alpha(t) - 2*theta0(t)) - 9*cos(t + alpha(t) + 2*theta0(t)))/(-3*cos(theta0(t)) + cos(2*theta0(t)) + 1))"
      ]
     },
     "metadata": {},
     "output_type": "display_data"
    },
    {
     "data": {
      "text/latex": [
       "$\\displaystyle \\frac{d}{d t} \\nu_{3}{\\left(t \\right)} = \\frac{2 \\nu_{3}{\\left(t \\right)} \\cos{\\left(t + \\alpha{\\left(t \\right)} \\right)} + 2 \\nu_{3}{\\left(t \\right)} \\cos{\\left(t + \\alpha{\\left(t \\right)} + 2 \\theta_{0}{\\left(t \\right)} \\right)} + 8 \\cos{\\left(t + \\alpha{\\left(t \\right)} \\right)} + 12 \\cos{\\left(t + \\alpha{\\left(t \\right)} - \\theta_{0}{\\left(t \\right)} \\right)} + 12 \\cos{\\left(t + \\alpha{\\left(t \\right)} + \\theta_{0}{\\left(t \\right)} \\right)} + 8 \\cos{\\left(t + \\alpha{\\left(t \\right)} + 2 \\theta_{0}{\\left(t \\right)} \\right)}}{4 \\left(- 3 \\cos{\\left(\\theta_{0}{\\left(t \\right)} \\right)} + \\cos{\\left(2 \\theta_{0}{\\left(t \\right)} \\right)} + 1\\right)}$"
      ],
      "text/plain": [
       "Eq(Derivative(nu3(t), t), (2*nu3(t)*cos(t + alpha(t)) + 2*nu3(t)*cos(t + alpha(t) + 2*theta0(t)) + 8*cos(t + alpha(t)) + 12*cos(t + alpha(t) - theta0(t)) + 12*cos(t + alpha(t) + theta0(t)) + 8*cos(t + alpha(t) + 2*theta0(t)))/(4*(-3*cos(theta0(t)) + cos(2*theta0(t)) + 1)))"
      ]
     },
     "metadata": {},
     "output_type": "display_data"
    },
    {
     "data": {
      "text/latex": [
       "$\\displaystyle \\nu_{3}{\\left(t \\right)} = \\frac{d}{d t} \\alpha{\\left(t \\right)}$"
      ],
      "text/plain": [
       "Eq(nu3(t), Derivative(alpha(t), t))"
      ]
     },
     "metadata": {},
     "output_type": "display_data"
    },
    {
     "data": {
      "text/latex": [
       "$\\displaystyle \\frac{d}{d t} \\theta_{0}{\\left(t \\right)} = - 2 \\nu_{3}{\\left(t \\right)} \\cos{\\left(\\theta_{0}{\\left(t \\right)} \\right)} - \\nu_{3}{\\left(t \\right)} + \\sin{\\left(t + \\alpha{\\left(t \\right)} + \\theta_{0}{\\left(t \\right)} \\right)}$"
      ],
      "text/plain": [
       "Eq(Derivative(theta0(t), t), -2*nu3(t)*cos(theta0(t)) - nu3(t) + sin(t + alpha(t) + theta0(t)))"
      ]
     },
     "metadata": {},
     "output_type": "display_data"
    }
   ],
   "source": [
    "display_list(xy_TW_eqs + TW_constr)"
   ]
  },
  {
   "cell_type": "code",
   "execution_count": 206,
   "metadata": {},
   "outputs": [],
   "source": [
    "save(xy_TW_eqs + TW_constr, 'data/TW_eqs')"
   ]
  },
  {
   "cell_type": "code",
   "execution_count": null,
   "metadata": {},
   "outputs": [],
   "source": []
  },
  {
   "cell_type": "code",
   "execution_count": null,
   "metadata": {},
   "outputs": [],
   "source": []
  },
  {
   "cell_type": "markdown",
   "metadata": {},
   "source": [
    "# ???"
   ]
  },
  {
   "cell_type": "code",
   "execution_count": null,
   "metadata": {},
   "outputs": [],
   "source": [
    "class SolveByTW:\n",
    "    def __init__(self, T, W, x, y, nu1, nu2):\n",
    "        self.T = T\n",
    "        self.W = W\n",
    "        self.x = x\n",
    "        self.y = y\n",
    "        self.nu1 = self._subs_xy(nu1).doit()\n",
    "        self.nu2 = self._subs_xy(nu2).doit()\n",
    "    \n",
    "    def _solve_by_TW(self):\n",
    "        pass\n",
    "    \n",
    "    def set_xy(self, x_eq, y_eq):\n",
    "        pass\n",
    "    \n",
    "    def _subs_xy(self, eq):\n",
    "        return eq.subs({\n",
    "            x: self.x,\n",
    "            y: self.y\n",
    "        })\n",
    "    \n",
    "    def _subs_nu(self, eq):\n",
    "        return eq.subs({\n",
    "            nu[1]: self.nu1,\n",
    "            nu[2]: self.nu2\n",
    "        })\n",
    "    \n",
    "    def _subs_derivative_nu(self, eq):\n",
    "        return eq.subs({\n",
    "            Derivative(nu[1],t): self.nu1.diff(t),\n",
    "            Derivative(nu[2],t): self.nu2.diff(t)\n",
    "        })\n",
    "    \n",
    "    def _subs_all(self, eq):\n",
    "        return self._subs_conn(self._subs_nu(self._subs_derivative_nu(eq)))\n",
    "    \n",
    "    def _subs_conn(self, eq):\n",
    "        return S.sub_constraints(eq)\n",
    "    \n",
    "    def solve(self):\n",
    "        self.res = [\n",
    "            simplify(Eq(T[1], self._subs_all(self.T))),\n",
    "            simplify(Eq(W[1], self._subs_all(self.W)))\n",
    "        ]\n",
    "    \n",
    "    def get_res(self):\n",
    "        return self.res"
   ]
  },
  {
   "cell_type": "code",
   "execution_count": null,
   "metadata": {},
   "outputs": [],
   "source": [
    "%%time\n",
    "STW = SolveByTW(\n",
    "    T=eq['T'],\n",
    "    W=eq['W'],\n",
    "    x=sin(t),\n",
    "    y=cos(t),\n",
    "    nu1=eq['nu1(x,y)'].args[1],\n",
    "    nu2=eq['nu2(x,y)'].args[1],\n",
    ")\n",
    "\n",
    "STW.solve()"
   ]
  },
  {
   "cell_type": "code",
   "execution_count": null,
   "metadata": {},
   "outputs": [],
   "source": [
    "# for _eq in STW.get_res():\n",
    "#     display(_eq)"
   ]
  },
  {
   "cell_type": "code",
   "execution_count": null,
   "metadata": {},
   "outputs": [],
   "source": []
  },
  {
   "cell_type": "code",
   "execution_count": null,
   "metadata": {},
   "outputs": [],
   "source": []
  },
  {
   "cell_type": "code",
   "execution_count": null,
   "metadata": {},
   "outputs": [],
   "source": []
  },
  {
   "cell_type": "markdown",
   "metadata": {},
   "source": [
    "###### *Save*"
   ]
  },
  {
   "cell_type": "code",
   "execution_count": null,
   "metadata": {},
   "outputs": [],
   "source": [
    "save(STW, 'STW')"
   ]
  },
  {
   "cell_type": "markdown",
   "metadata": {},
   "source": [
    "### SolveByNuTheta"
   ]
  },
  {
   "cell_type": "code",
   "execution_count": null,
   "metadata": {},
   "outputs": [],
   "source": [
    "class SolveByNuTheta(SolveByTW):\n",
    "    def __init__(self, *args, **kwargs):\n",
    "        super().__init__(*args, **kwargs)\n",
    "    \n",
    "    def solve(self):\n",
    "        super().solve()\n",
    "        \n",
    "        # nu3' = f(nu3, alpha, theta, t)\n",
    "        nu3_eq = subs_Eqs(eqs[2], self.get_res())\n",
    "        nu3_eq = par_subs(nu3_eq)\n",
    "        nu3_eq = self._subs_all(nu3_eq)\n",
    "        nu3_eq = solve(nu3_eq, Derivative(nu[3], t))\n",
    "        nu3_eq = Eq(Derivative(nu[3], t), nu3_eq[0])\n",
    "\n",
    "        # Theta' = g(nu3, alpha, theta, t)\n",
    "        theta_eq = self._subs_nu(S.constraints[3])\n",
    "        theta_eq = par_subs(theta_eq)\n",
    "        \n",
    "        # alpha' = r(nu3)\n",
    "        alpha_eq = S.constraints[2]\n",
    "        \n",
    "        self.res = [simplify(nu3_eq),\n",
    "                    simplify(theta_eq),\n",
    "                    alpha_eq]"
   ]
  },
  {
   "cell_type": "code",
   "execution_count": null,
   "metadata": {},
   "outputs": [],
   "source": [
    "%%time\n",
    "SNT = SolveByNuTheta(\n",
    "    T=eq['T'],\n",
    "    W=eq['W'],\n",
    "    x=sin(t),\n",
    "    y=cos(t),\n",
    "    nu1=eq['nu1(x,y)'].args[1],\n",
    "    nu2=eq['nu2(x,y)'].args[1],\n",
    ")\n",
    "\n",
    "SNT.solve()"
   ]
  },
  {
   "cell_type": "code",
   "execution_count": null,
   "metadata": {},
   "outputs": [],
   "source": [
    "# TODO: упросчтить и првоверить что не зависит от alpha\n",
    "for _eq in SNT.get_res():\n",
    "    display(_eq)"
   ]
  },
  {
   "cell_type": "code",
   "execution_count": null,
   "metadata": {},
   "outputs": [],
   "source": []
  },
  {
   "cell_type": "code",
   "execution_count": null,
   "metadata": {},
   "outputs": [],
   "source": []
  },
  {
   "cell_type": "code",
   "execution_count": null,
   "metadata": {},
   "outputs": [],
   "source": []
  },
  {
   "cell_type": "markdown",
   "metadata": {},
   "source": [
    "###### *Save*"
   ]
  },
  {
   "cell_type": "code",
   "execution_count": null,
   "metadata": {},
   "outputs": [],
   "source": [
    "save(SNT, 'SNT')"
   ]
  },
  {
   "cell_type": "code",
   "execution_count": null,
   "metadata": {},
   "outputs": [],
   "source": []
  },
  {
   "cell_type": "code",
   "execution_count": null,
   "metadata": {},
   "outputs": [],
   "source": []
  },
  {
   "cell_type": "code",
   "execution_count": null,
   "metadata": {},
   "outputs": [],
   "source": []
  },
  {
   "cell_type": "code",
   "execution_count": null,
   "metadata": {},
   "outputs": [],
   "source": []
  },
  {
   "cell_type": "markdown",
   "metadata": {},
   "source": [
    "### Integrate above system"
   ]
  },
  {
   "cell_type": "code",
   "execution_count": 207,
   "metadata": {},
   "outputs": [],
   "source": [
    "import numpy as np\n",
    "from scipy.integrate import RK45, odeint\n",
    "import matplotlib.pyplot as plt"
   ]
  },
  {
   "cell_type": "code",
   "execution_count": 208,
   "metadata": {},
   "outputs": [
    {
     "data": {
      "text/latex": [
       "$\\displaystyle \\nu_{3}{\\left(t \\right)}$"
      ],
      "text/plain": [
       "nu3(t)"
      ]
     },
     "metadata": {},
     "output_type": "display_data"
    },
    {
     "data": {
      "text/latex": [
       "$\\displaystyle \\alpha{\\left(t \\right)}$"
      ],
      "text/plain": [
       "alpha(t)"
      ]
     },
     "metadata": {},
     "output_type": "display_data"
    },
    {
     "data": {
      "text/latex": [
       "$\\displaystyle \\theta_{0}{\\left(t \\right)}$"
      ],
      "text/plain": [
       "theta0(t)"
      ]
     },
     "metadata": {},
     "output_type": "display_data"
    },
    {
     "data": {
      "text/latex": [
       "$\\displaystyle t$"
      ],
      "text/plain": [
       "t"
      ]
     },
     "metadata": {},
     "output_type": "display_data"
    }
   ],
   "source": [
    "_vars = [nu[3], alpha, theta[0]] + [t]\n",
    "display_list(_vars)"
   ]
  },
  {
   "cell_type": "code",
   "execution_count": 209,
   "metadata": {},
   "outputs": [
    {
     "data": {
      "text/latex": [
       "$\\displaystyle \\frac{d}{d t} \\nu_{3}{\\left(t \\right)} = \\frac{2 \\nu_{3}{\\left(t \\right)} \\cos{\\left(t + \\alpha{\\left(t \\right)} \\right)} + 2 \\nu_{3}{\\left(t \\right)} \\cos{\\left(t + \\alpha{\\left(t \\right)} + 2 \\theta_{0}{\\left(t \\right)} \\right)} + 8 \\cos{\\left(t + \\alpha{\\left(t \\right)} \\right)} + 12 \\cos{\\left(t + \\alpha{\\left(t \\right)} - \\theta_{0}{\\left(t \\right)} \\right)} + 12 \\cos{\\left(t + \\alpha{\\left(t \\right)} + \\theta_{0}{\\left(t \\right)} \\right)} + 8 \\cos{\\left(t + \\alpha{\\left(t \\right)} + 2 \\theta_{0}{\\left(t \\right)} \\right)}}{4 \\left(- 3 \\cos{\\left(\\theta_{0}{\\left(t \\right)} \\right)} + \\cos{\\left(2 \\theta_{0}{\\left(t \\right)} \\right)} + 1\\right)}$"
      ],
      "text/plain": [
       "Eq(Derivative(nu3(t), t), (2*nu3(t)*cos(t + alpha(t)) + 2*nu3(t)*cos(t + alpha(t) + 2*theta0(t)) + 8*cos(t + alpha(t)) + 12*cos(t + alpha(t) - theta0(t)) + 12*cos(t + alpha(t) + theta0(t)) + 8*cos(t + alpha(t) + 2*theta0(t)))/(4*(-3*cos(theta0(t)) + cos(2*theta0(t)) + 1)))"
      ]
     },
     "metadata": {},
     "output_type": "display_data"
    },
    {
     "data": {
      "text/latex": [
       "$\\displaystyle \\frac{d}{d t} \\alpha{\\left(t \\right)} = \\nu_{3}{\\left(t \\right)}$"
      ],
      "text/plain": [
       "Eq(Derivative(alpha(t), t), nu3(t))"
      ]
     },
     "metadata": {},
     "output_type": "display_data"
    },
    {
     "data": {
      "text/latex": [
       "$\\displaystyle \\frac{d}{d t} \\theta_{0}{\\left(t \\right)} = - 2 \\nu_{3}{\\left(t \\right)} \\cos{\\left(\\theta_{0}{\\left(t \\right)} \\right)} - \\nu_{3}{\\left(t \\right)} + \\sin{\\left(t + \\alpha{\\left(t \\right)} + \\theta_{0}{\\left(t \\right)} \\right)}$"
      ],
      "text/plain": [
       "Eq(Derivative(theta0(t), t), -2*nu3(t)*cos(theta0(t)) - nu3(t) + sin(t + alpha(t) + theta0(t)))"
      ]
     },
     "metadata": {},
     "output_type": "display_data"
    }
   ],
   "source": [
    "_eqs = [xy_TW_eqs[2]] + [Eq(TW_constr[0].args[1], TW_constr[0].args[0])] + [TW_constr[1]]\n",
    "display_list(_eqs)\n",
    "_eqs = [_x.args[1] for _x in _eqs] # del left part"
   ]
  },
  {
   "cell_type": "code",
   "execution_count": null,
   "metadata": {},
   "outputs": [],
   "source": []
  },
  {
   "cell_type": "code",
   "execution_count": 210,
   "metadata": {},
   "outputs": [],
   "source": [
    "def f(_vars_values, time):\n",
    "    return [lambdify(_vars, _eq, 'numpy')(*_vars_values, time) for _eq in _eqs]"
   ]
  },
  {
   "cell_type": "code",
   "execution_count": 211,
   "metadata": {},
   "outputs": [
    {
     "data": {
      "text/plain": [
       "[-10.0, 0, 0.0]"
      ]
     },
     "execution_count": 211,
     "metadata": {},
     "output_type": "execute_result"
    }
   ],
   "source": [
    "f([0,0,0], 0) # test"
   ]
  },
  {
   "cell_type": "code",
   "execution_count": 238,
   "metadata": {},
   "outputs": [
    {
     "name": "stdout",
     "output_type": "stream",
     "text": [
      "CPU times: user 50.8 s, sys: 76 ms, total: 50.8 s\n",
      "Wall time: 50.8 s\n"
     ]
    }
   ],
   "source": [
    "%%time\n",
    "f0 = [0,0,0]\n",
    "_time = np.linspace(0., 20, 300)\n",
    "_solution = odeint(f, f0, _time, full_output=True, mxstep=100)"
   ]
  },
  {
   "cell_type": "code",
   "execution_count": 239,
   "metadata": {
    "scrolled": true
   },
   "outputs": [],
   "source": [
    "# _solution[0]"
   ]
  },
  {
   "cell_type": "markdown",
   "metadata": {},
   "source": [
    "##### Plot"
   ]
  },
  {
   "cell_type": "code",
   "execution_count": 240,
   "metadata": {},
   "outputs": [
    {
     "data": {
      "image/png": "[encoded data removed]",
      "text/plain": [
       "<Figure size 432x288 with 1 Axes>"
      ]
     },
     "metadata": {
      "needs_background": "light"
     },
     "output_type": "display_data"
    },
    {
     "data": {
      "image/png": "[encoded data removed]",
      "text/plain": [
       "<Figure size 432x288 with 1 Axes>"
      ]
     },
     "metadata": {
      "needs_background": "light"
     },
     "output_type": "display_data"
    },
    {
     "data": {
      "image/png": "[encoded data removed]",
      "text/plain": [
       "<Figure size 432x288 with 1 Axes>"
      ]
     },
     "metadata": {
      "needs_background": "light"
     },
     "output_type": "display_data"
    }
   ],
   "source": [
    "for var, col in zip(_vars, _solution[0].T):\n",
    "    fig = plt.plot(_time, col)\n",
    "    plt.show()"
   ]
  },
  {
   "cell_type": "code",
   "execution_count": 241,
   "metadata": {},
   "outputs": [],
   "source": [
    "T_t = lambdify([t, nu[3], alpha, theta[0]], xy_TW_eqs[0].args[1], 'numpy')\n",
    "W_t = lambdify([t, nu[3], alpha, theta[0]], xy_TW_eqs[1].args[1], 'numpy')"
   ]
  },
  {
   "cell_type": "code",
   "execution_count": 242,
   "metadata": {},
   "outputs": [],
   "source": [
    "T_res = [T_t(_moment, *_vals) for _moment, _vals in zip(_time, _solution[0])]\n",
    "W_res = [W_t(_moment, *_vals) for _moment, _vals in zip(_time, _solution[0])]"
   ]
  },
  {
   "cell_type": "code",
   "execution_count": 243,
   "metadata": {},
   "outputs": [
    {
     "data": {
      "image/png": "[encoded data removed]",
      "text/plain": [
       "<Figure size 432x288 with 1 Axes>"
      ]
     },
     "metadata": {
      "needs_background": "light"
     },
     "output_type": "display_data"
    }
   ],
   "source": [
    "fig = plt.plot(_time, T_res)\n",
    "fig = plt.plot(_time, W_res)\n",
    "plt.show()"
   ]
  },
  {
   "cell_type": "code",
   "execution_count": null,
   "metadata": {},
   "outputs": [],
   "source": []
  },
  {
   "cell_type": "code",
   "execution_count": null,
   "metadata": {},
   "outputs": [],
   "source": []
  },
  {
   "cell_type": "code",
   "execution_count": null,
   "metadata": {},
   "outputs": [],
   "source": []
  },
  {
   "cell_type": "code",
   "execution_count": null,
   "metadata": {},
   "outputs": [],
   "source": []
  },
  {
   "cell_type": "code",
   "execution_count": null,
   "metadata": {},
   "outputs": [],
   "source": []
  },
  {
   "cell_type": "code",
   "execution_count": null,
   "metadata": {},
   "outputs": [],
   "source": []
  },
  {
   "cell_type": "code",
   "execution_count": null,
   "metadata": {},
   "outputs": [],
   "source": []
  },
  {
   "cell_type": "code",
   "execution_count": null,
   "metadata": {},
   "outputs": [],
   "source": []
  },
  {
   "cell_type": "code",
   "execution_count": null,
   "metadata": {},
   "outputs": [],
   "source": []
  },
  {
   "cell_type": "code",
   "execution_count": null,
   "metadata": {},
   "outputs": [],
   "source": []
  },
  {
   "cell_type": "code",
   "execution_count": null,
   "metadata": {},
   "outputs": [],
   "source": [
    "_solution = load('_solution')"
   ]
  },
  {
   "cell_type": "markdown",
   "metadata": {},
   "source": [
    "### Solve by $\\dot{\\nu_1}, \\dot{\\nu_2}, \\dot{\\nu_3}$"
   ]
  },
  {
   "cell_type": "code",
   "execution_count": null,
   "metadata": {},
   "outputs": [],
   "source": [
    "%%time\n",
    "res = linsolve([par_subs(eq) for eq in eqs],\n",
    "               [Derivative(x, t) for x in S.right_part_Eqs(S.omega_equations)])\n",
    "# or \n",
    "# res = load('res+TW')"
   ]
  },
  {
   "cell_type": "code",
   "execution_count": null,
   "metadata": {},
   "outputs": [],
   "source": [
    "%%time\n",
    "s_eq1 = simplify(res.args[0][0])"
   ]
  },
  {
   "cell_type": "code",
   "execution_count": null,
   "metadata": {},
   "outputs": [],
   "source": [
    "%%time\n",
    "s_eq2 = simplify(res.args[0][1])"
   ]
  },
  {
   "cell_type": "code",
   "execution_count": null,
   "metadata": {},
   "outputs": [],
   "source": [
    "%%time\n",
    "s_eq3 = simplify(res.args[0][2])"
   ]
  },
  {
   "cell_type": "code",
   "execution_count": null,
   "metadata": {},
   "outputs": [],
   "source": [
    "alpha"
   ]
  },
  {
   "cell_type": "code",
   "execution_count": null,
   "metadata": {},
   "outputs": [],
   "source": [
    "for left_eq, right_eq in zip([s_eq1, s_eq2, s_eq3], [Derivative(x, t) for x in S.right_part_Eqs(S.omega_equations)]):\n",
    "    display(Eq(left_eq, right_eq))"
   ]
  },
  {
   "cell_type": "code",
   "execution_count": null,
   "metadata": {
    "scrolled": false
   },
   "outputs": [],
   "source": [
    "for left_eq, right_eq in zip([s_eq1, s_eq2, s_eq3], [Derivative(x, t) for x in S.right_part_Eqs(S.omega_equations)]):\n",
    "    display(Eq(left_eq, right_eq))"
   ]
  },
  {
   "cell_type": "code",
   "execution_count": null,
   "metadata": {},
   "outputs": [],
   "source": []
  },
  {
   "cell_type": "code",
   "execution_count": null,
   "metadata": {},
   "outputs": [],
   "source": []
  },
  {
   "cell_type": "code",
   "execution_count": null,
   "metadata": {},
   "outputs": [],
   "source": []
  },
  {
   "cell_type": "markdown",
   "metadata": {},
   "source": [
    "## Найдем  $W,T, \\ddot{\\alpha}$  как функции от времени "
   ]
  },
  {
   "cell_type": "code",
   "execution_count": null,
   "metadata": {},
   "outputs": [],
   "source": [
    "from copy import copy\n",
    "\n",
    "for x in S.tatarinov_equations:\n",
    "    display(x)"
   ]
  },
  {
   "cell_type": "markdown",
   "metadata": {},
   "source": [
    "### Зададим $x,y, alpha$ как функции времени"
   ]
  },
  {
   "cell_type": "code",
   "execution_count": null,
   "metadata": {},
   "outputs": [],
   "source": [
    "# Начальные условия и парметры\n",
    "eq_x = 3*t\n",
    "eq_y = t**2\n",
    "\n",
    "params = dict(xi=0, eta=0)\n",
    "\n",
    "t_end = 2*pi.evalf()"
   ]
  },
  {
   "cell_type": "code",
   "execution_count": null,
   "metadata": {},
   "outputs": [],
   "source": [
    "def _ss(eq):\n",
    "    nu1, nu2, nu3 = symbols('nu1, nu2, nu3')\n",
    "    return eq.subs({\n",
    "        nu1: Function('nu1')(t),\n",
    "        nu2: Function('nu2')(t),\n",
    "        nu3: Function('nu3')(t)\n",
    "    })\n",
    "    \n",
    "def subs_funcs(eq):\n",
    "    subs_dict = dict(x=eq_x, y=eq_y, alpha=Function('alpha')(t)) # , alpha=eq_alpha)\n",
    "    if type(eq) == dict:\n",
    "        d = {}\n",
    "        for k,v in eq.items():\n",
    "            d[_ss(k)] = _ss(v.subs(subs_dict))\n",
    "        return d\n",
    "    if type(eq) == list:\n",
    "        l = []\n",
    "        for x in eq:\n",
    "            l += _ss(eq.subs(subs_dict))\n",
    "        return l\n",
    "    if type(eq) == Eq or type(eq) == Add:\n",
    "        return _ss(eq.subs(subs_dict))"
   ]
  },
  {
   "cell_type": "code",
   "execution_count": null,
   "metadata": {},
   "outputs": [],
   "source": [
    "S.constraints"
   ]
  },
  {
   "cell_type": "code",
   "execution_count": null,
   "metadata": {},
   "outputs": [],
   "source": [
    "nus = solve(S.constraints, S.right_part_Eqs(S.omega_equations))\n",
    "for k, v in nus.items():\n",
    "    display(Eq(k, v))"
   ]
  },
  {
   "cell_type": "code",
   "execution_count": null,
   "metadata": {},
   "outputs": [],
   "source": [
    "nust = subs_funcs(nus)\n",
    "nust"
   ]
  },
  {
   "cell_type": "code",
   "execution_count": null,
   "metadata": {},
   "outputs": [],
   "source": [
    "tet = copy(S.tatarinov_equations)\n",
    "for x in tet:\n",
    "    display(x)"
   ]
  },
  {
   "cell_type": "code",
   "execution_count": null,
   "metadata": {},
   "outputs": [],
   "source": [
    "for i in range(3):\n",
    "    tet[i] = tet[i].subs(nust).doit()\n",
    "    display(tet[i])\n",
    "#     display((tet[i].subs(nust)))\n",
    "#     display((tet[i].subs(nust)).doit())\n",
    "    "
   ]
  },
  {
   "cell_type": "code",
   "execution_count": null,
   "metadata": {},
   "outputs": [],
   "source": [
    "sol = solve(tet, [T, W, Derivative(Function('alpha')(t), t, 2)])\n",
    "for k,v in sol.items():\n",
    "    display(Eq(k, v))"
   ]
  },
  {
   "cell_type": "markdown",
   "metadata": {},
   "source": [
    "### Проинтегрируем\n",
    "$$ {\\ddot{\\alpha}, \\dot{\\alpha}} \\rightarrow \\alpha $$"
   ]
  },
  {
   "cell_type": "code",
   "execution_count": null,
   "metadata": {},
   "outputs": [],
   "source": [
    "_vars = [Function('alpha2')(t), Function('alpha')(t)]\n",
    "_vars"
   ]
  },
  {
   "cell_type": "code",
   "execution_count": null,
   "metadata": {},
   "outputs": [],
   "source": [
    "eqs = [Function('alpha2')(t), list(sol.values())[2]]\n",
    "eqs"
   ]
  },
  {
   "cell_type": "code",
   "execution_count": null,
   "metadata": {},
   "outputs": [],
   "source": [
    "_vars = [Symbol('alpha'),  Symbol('alpha2')]\n",
    "eqs =   [Symbol('alpha2'), list(sol.values())[2].subs({Function('alpha')(t): Symbol('alpha')})]\n",
    "\n",
    "print(\"Система уравнений на alpha\")\n",
    "for l, r in zip(_vars, eqs):\n",
    "    display(Eq(l,r))"
   ]
  },
  {
   "cell_type": "code",
   "execution_count": null,
   "metadata": {},
   "outputs": [],
   "source": [
    "# keyword can't be an expression\n",
    "eqs[1] = eqs[1].subs({J[s]: 3})\n",
    "\n",
    "_subs = dict(m=1, eta=2, xi=3)"
   ]
  },
  {
   "cell_type": "code",
   "execution_count": null,
   "metadata": {},
   "outputs": [],
   "source": [
    "def f(_vars_values, time):\n",
    "    return [lambdify(_vars, x.subs(_subs), 'numpy')(*_vars_values) for x in eqs]"
   ]
  },
  {
   "cell_type": "code",
   "execution_count": null,
   "metadata": {},
   "outputs": [],
   "source": [
    "import numpy as np\n",
    "from scipy.integrate import RK45, odeint"
   ]
  },
  {
   "cell_type": "code",
   "execution_count": null,
   "metadata": {},
   "outputs": [],
   "source": [
    "f0 = [1, 0.1] # [alpha', alpha]\n",
    "time = np.linspace(0., 4, 100)\n",
    "\n",
    "_solution = odeint(f, f0, time)"
   ]
  },
  {
   "cell_type": "code",
   "execution_count": null,
   "metadata": {},
   "outputs": [],
   "source": [
    "import matplotlib.pyplot as plt\n",
    "\n",
    "_items = zip(['dot_alpha', 'alpha'], list(range(2)))\n",
    "\n",
    "for name, col in _items:\n",
    "    print(name)\n",
    "    fig = plt.plot(time, _solution[:, col], label=name)\n",
    "    plt.show()"
   ]
  },
  {
   "cell_type": "markdown",
   "metadata": {},
   "source": [
    "## Подставим в $W, T$\n",
    "$$ \\{W(\\alpha, t), T(\\alpha, t)\\} \\rightarrow \\{W(t), T(t)\\}$$"
   ]
  },
  {
   "cell_type": "code",
   "execution_count": null,
   "metadata": {},
   "outputs": [],
   "source": [
    "display(sol[W])\n",
    "display(sol[T])"
   ]
  },
  {
   "cell_type": "code",
   "execution_count": null,
   "metadata": {},
   "outputs": [],
   "source": [
    "W_t = lambdify([t, Function('alpha')(t)], sol[W].subs(_subs), 'numpy')\n",
    "T_t = lambdify([t, Function('alpha')(t)], sol[T].subs(_subs), 'numpy')"
   ]
  },
  {
   "cell_type": "code",
   "execution_count": null,
   "metadata": {},
   "outputs": [],
   "source": [
    "_solution[:,1].size == time.size "
   ]
  },
  {
   "cell_type": "code",
   "execution_count": null,
   "metadata": {},
   "outputs": [],
   "source": [
    "wl, tl = [], []\n",
    "\n",
    "for x,y in zip(time, _solution[:,1]):\n",
    "    wl.append(W_t(x, y))\n",
    "    \n",
    "for x,y in zip(time, _solution[:,1]):\n",
    "    tl.append(T_t(x, y))"
   ]
  },
  {
   "cell_type": "code",
   "execution_count": null,
   "metadata": {},
   "outputs": [],
   "source": [
    "fig = plt.plot(time, wl, label='W')\n",
    "plt.show()"
   ]
  },
  {
   "cell_type": "code",
   "execution_count": null,
   "metadata": {},
   "outputs": [],
   "source": [
    "fig = plt.plot(time, tl, label='T')\n",
    "plt.show()"
   ]
  },
  {
   "cell_type": "code",
   "execution_count": null,
   "metadata": {},
   "outputs": [],
   "source": [
    "al = _solution[:, 1]"
   ]
  },
  {
   "cell_type": "code",
   "execution_count": null,
   "metadata": {},
   "outputs": [],
   "source": [
    "tmp_x = tl*np.sin(al)*(-1) + wl*np.cos(al)\n",
    "tmp_y = tl*np.cos(al) + wl*np.sin(al)"
   ]
  },
  {
   "cell_type": "code",
   "execution_count": null,
   "metadata": {},
   "outputs": [],
   "source": [
    "fig = plt.plot(tmp_x, label='~x\"')\n",
    "fig = plt.plot(tmp_y, label='~y\"')\n",
    "plt.show()"
   ]
  },
  {
   "cell_type": "code",
   "execution_count": null,
   "metadata": {},
   "outputs": [],
   "source": [
    "F"
   ]
  },
  {
   "cell_type": "code",
   "execution_count": null,
   "metadata": {},
   "outputs": [],
   "source": []
  },
  {
   "cell_type": "code",
   "execution_count": null,
   "metadata": {},
   "outputs": [],
   "source": []
  },
  {
   "cell_type": "code",
   "execution_count": null,
   "metadata": {},
   "outputs": [],
   "source": []
  },
  {
   "cell_type": "markdown",
   "metadata": {},
   "source": [
    "## Проинтегрируем численно"
   ]
  },
  {
   "cell_type": "code",
   "execution_count": null,
   "metadata": {},
   "outputs": [],
   "source": [
    "left = []; right = []"
   ]
  },
  {
   "cell_type": "code",
   "execution_count": null,
   "metadata": {},
   "outputs": [],
   "source": [
    "left += S.left_part_Eqs(S.constraints)\n",
    "right += S.right_part_Eqs(S.constraints)"
   ]
  },
  {
   "cell_type": "code",
   "execution_count": null,
   "metadata": {},
   "outputs": [],
   "source": [
    "diff_omegas_t = [Derivative(S.create_fs(x)) for x in S.right_part_Eqs(S.omega_equations)]\n",
    "constr = solve(eqs, diff_omegas_t)\n",
    "constr"
   ]
  },
  {
   "cell_type": "code",
   "execution_count": null,
   "metadata": {},
   "outputs": [],
   "source": [
    "for left_item, right_item in constr.items():\n",
    "    left += [left_item]\n",
    "    right += [right_item]"
   ]
  },
  {
   "cell_type": "code",
   "execution_count": null,
   "metadata": {},
   "outputs": [],
   "source": [
    "_vars = (phi, psi, theta, nu1, nu2, nu3)"
   ]
  },
  {
   "cell_type": "code",
   "execution_count": null,
   "metadata": {},
   "outputs": [],
   "source": [
    "right = [S.create_ss(x) for x in right]"
   ]
  },
  {
   "cell_type": "code",
   "execution_count": null,
   "metadata": {},
   "outputs": [],
   "source": [
    "_subs = {A: 1, C: 2, g: 10, m: 1}"
   ]
  },
  {
   "cell_type": "code",
   "execution_count": null,
   "metadata": {},
   "outputs": [],
   "source": [
    "left"
   ]
  },
  {
   "cell_type": "code",
   "execution_count": null,
   "metadata": {},
   "outputs": [],
   "source": [
    "right"
   ]
  },
  {
   "cell_type": "code",
   "execution_count": null,
   "metadata": {},
   "outputs": [],
   "source": [
    "def f(_vars_values, time):\n",
    "    return [lambdify(_vars, x.subs(_subs), 'numpy')(*_vars_values) for x in right]"
   ]
  },
  {
   "cell_type": "code",
   "execution_count": null,
   "metadata": {},
   "outputs": [],
   "source": [
    "f0 = [3,0.1,0.1,1,2,3]"
   ]
  },
  {
   "cell_type": "code",
   "execution_count": null,
   "metadata": {},
   "outputs": [],
   "source": [
    "import numpy as np\n",
    "from scipy.integrate import RK45, odeint"
   ]
  },
  {
   "cell_type": "code",
   "execution_count": null,
   "metadata": {},
   "outputs": [],
   "source": [
    "_solution = odeint(f, f0, np.linspace(0., 4., 100))"
   ]
  },
  {
   "cell_type": "code",
   "execution_count": null,
   "metadata": {},
   "outputs": [],
   "source": [
    "import matplotlib.pyplot as plt \n",
    "\n",
    "_items = zip(['phi', 'psi', 'theta', 'nu1', 'nu2', 'nu3'], list(range(6)))\n",
    "\n",
    "for name, col in _items:\n",
    "    print(name)\n",
    "    fig = plt.plot(np.linspace(0,4,100), _solution[:, col], label=name)\n",
    "    plt.show()"
   ]
  },
  {
   "cell_type": "markdown",
   "metadata": {},
   "source": [
    "## Посмотрим на энергию"
   ]
  },
  {
   "cell_type": "code",
   "execution_count": null,
   "metadata": {},
   "outputs": [],
   "source": [
    "H = A*(Derivative(theta,t)**2 + Derivative(psi,t)**2*sin(theta)**2)/2 \\\n",
    "    + C*(Derivative(phi, t) + Derivative(psi, t)*cos(theta))**2/2 \\\n",
    "    + m*g*cos(theta)\n",
    "H"
   ]
  },
  {
   "cell_type": "code",
   "execution_count": null,
   "metadata": {},
   "outputs": [],
   "source": [
    "H = S.sub_constraints(H)\n",
    "H"
   ]
  },
  {
   "cell_type": "code",
   "execution_count": null,
   "metadata": {},
   "outputs": [],
   "source": [
    "fH = lambdify(_vars, H.subs(_subs), 'numpy')"
   ]
  },
  {
   "cell_type": "code",
   "execution_count": null,
   "metadata": {},
   "outputs": [],
   "source": [
    "H_values = np.array([fH(*x) for x in _solution])\n",
    "max(H_values) - min(H_values)"
   ]
  },
  {
   "cell_type": "code",
   "execution_count": null,
   "metadata": {},
   "outputs": [],
   "source": [
    "for x in S.constraints:\n",
    "    display(x)"
   ]
  },
  {
   "cell_type": "code",
   "execution_count": null,
   "metadata": {},
   "outputs": [],
   "source": [
    "L"
   ]
  }
 ],
 "metadata": {
  "kernelspec": {
   "display_name": "Python 3",
   "language": "python",
   "name": "python3"
  },
  "language_info": {
   "codemirror_mode": {
    "name": "ipython",
    "version": 3
   },
   "file_extension": ".py",
   "mimetype": "text/x-python",
   "name": "python",
   "nbconvert_exporter": "python",
   "pygments_lexer": "ipython3",
   "version": "3.7.7"
  }
 },
 "nbformat": 4,
 "nbformat_minor": 2
}
