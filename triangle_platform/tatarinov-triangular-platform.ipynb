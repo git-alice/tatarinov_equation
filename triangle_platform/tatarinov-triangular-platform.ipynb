{
 "cells": [
  {
   "cell_type": "markdown",
   "metadata": {},
   "source": [
    "# Реализация нахождения уравнений движения с помощью Урванений Татаринова для платформы с одним колесом\n"
   ]
  },
  {
   "cell_type": "code",
   "execution_count": 72,
   "metadata": {},
   "outputs": [],
   "source": [
    "import sympy as sp\n",
    "import cloudpickle as pickle\n",
    "\n",
    "from copy import copy\n",
    "from sympy import Derivative, Symbol, IndexedBase, Eq, Idx, Sum, Function, Matrix, Add, N\n",
    "from sympy import diff, symbols, solve, simplify, poly, pprint, factor, integrate, lambdify, linear_eq_to_matrix\n",
    "from sympy import cos, sin, pi\n",
    "from abc import ABC, abstractmethod\n",
    "\n",
    "from IPython.display import display, Markdown"
   ]
  },
  {
   "cell_type": "code",
   "execution_count": 203,
   "metadata": {},
   "outputs": [],
   "source": [
    "def create_fs(self, fs):\n",
    "    \"\"\" not good \"\"\"\n",
    "    # nu1, nu2, nu3 = symbols('nu1, nu2, nu3')\n",
    "    return fs.subs({\n",
    "        _nu1: Function('nu1_')(t),\n",
    "        _nu2: Function('nu2_')(t),\n",
    "        _nu3: Function('nu3_')(t)\n",
    "    })\n",
    "\n",
    "def create_ss(self, fs):\n",
    "    \"\"\" not good \"\"\"\n",
    "    # nu1, nu2, nu3 = symbols('nu1, nu2, nu3')\n",
    "    return fs.subs({\n",
    "        Function('nu1_')(t): _nu1,\n",
    "        Function('nu2_')(t): _nu2,\n",
    "        Function('nu3_')(t): _nu3\n",
    "    })\n",
    "\n",
    "def save(data, name):\n",
    "    with open(f'{name}.pickle', 'wb') as f:\n",
    "        pickle.dump(copy(data), f)\n",
    "        \n",
    "def load(name):\n",
    "    with open(f'{name}.pickle', 'rb') as f:\n",
    "        data = pickle.load(f)\n",
    "    return data\n",
    "\n",
    "def MatrixElDerivative(mat):\n",
    "    return Matrix([x.diff(t) for x in mat])\n",
    "\n",
    "def subs_Eqs(eq, Eqs):\n",
    "    \"\"\" \n",
    "        Например: x = z+2*y\n",
    "        Это eq.subs({x: z+2*y})\n",
    "    \"\"\"\n",
    "    for Eq in Eqs:\n",
    "        left, right = Eq.args[0], Eq.args[1]\n",
    "        eq = eq.subs({left: right})\n",
    "    return eq\n",
    "\n",
    "def subs_xy(obj):\n",
    "    substed = obj.subs({nu[1]: eq['nu1(x,y)'],\n",
    "                        nu[2]: eq['nu2(x,y)']})\n",
    "    return substed\n",
    "\n",
    "def display_list(l, spaces=False):\n",
    "    for x in l:\n",
    "        if spaces:\n",
    "            display(Markdown('---'))\n",
    "        display(x)"
   ]
  },
  {
   "cell_type": "markdown",
   "metadata": {},
   "source": [
    "### Уравнения Татаринова\n",
    "$$\n",
    "\\frac{d}{dt} \\frac{\\partial L*}{\\partial \\omega_{\\alpha}} +\n",
    "\\{P_{\\alpha}, L*\\} = \n",
    "\\{P_{\\alpha}, \\sum_{\\mu}{\\omega_{\\mu} P_{\\mu}} \\} +\n",
    "\\sum_{i}{Q_i \\frac{\\partial v_i}{ \\partial \\omega_{\\alpha}}}\n",
    "$$"
   ]
  },
  {
   "cell_type": "markdown",
   "metadata": {},
   "source": [
    "### Скобка Пуассона\n",
    "$$\n",
    "\\{f, g\\} = \\sum_{i=1}^{N} \\left( \\frac{\\partial f}{\\partial q_{i}} \\frac{\\partial g}{\\partial p_{i}} - \\frac{\\partial f}{\\partial p_i} \\frac{\\partial g}{\\partial q_i}\\right).\n",
    "$$"
   ]
  },
  {
   "cell_type": "markdown",
   "metadata": {},
   "source": [
    "### Функции $ P_{\\alpha} $\n",
    "$$\n",
    "\\sum_{\\alpha}{P_{\\alpha} \\omega_{\\alpha}} = \\sum_i{p_iv_i}\n",
    "$$"
   ]
  },
  {
   "cell_type": "markdown",
   "metadata": {},
   "source": [
    "### Функции $v_i$\n",
    "$$\n",
    "v_i = \\dot{q}\n",
    "$$"
   ]
  },
  {
   "cell_type": "code",
   "execution_count": 5,
   "metadata": {},
   "outputs": [],
   "source": [
    "class MechanicalSystem():\n",
    "    \n",
    "    def __init__(self):\n",
    "        pass\n",
    "    \n",
    "    def set_q(self, q):\n",
    "        self.q = q\n",
    "    \n",
    "    def set_p(self, p):\n",
    "        self.p = p\n",
    "    \n",
    "    def poisson_bracket(self, F, G): # надо сделать, чтобы использовалось IndexedBase\n",
    "        \"\"\" To evaluate an unevaluated derivative, use the doit method. \"\"\"\n",
    "        res = 0\n",
    "        for i in range(3):\n",
    "            res += diff(F, self.q[i])*diff(G, self.p[i])\n",
    "            res -= diff(F, self.p[i])*diff(G, self.q[i])\n",
    "        return res\n",
    "    \n",
    "    @staticmethod\n",
    "    def sub_Eq(equation, Eq):\n",
    "        return equation.subs(Eq.args[0], Eq.args[1])\n",
    "    \n",
    "    @classmethod\n",
    "    def sub_Eqs(cls, equation, Eqs):\n",
    "        sub_equation = equation\n",
    "        for Eq in Eqs:\n",
    "            sub_equation = cls.sub_Eq(sub_equation, Eq)\n",
    "        return sub_equation \n",
    "    \n",
    "    @staticmethod\n",
    "    def left_part_Eqs(Eqs):\n",
    "        return [Eq.args[0] for Eq in Eqs]\n",
    "    \n",
    "    @staticmethod\n",
    "    def right_part_Eqs(Eqs):\n",
    "        return [Eq.args[1] for Eq in Eqs]\n",
    "    \n",
    "    def set_constraints(self, constraints):\n",
    "        \"\"\" Setting up constraints \"\"\"\n",
    "        self.constraints = constraints\n",
    "        \n",
    "    def sub_constraints(self, func):\n",
    "        \"\"\" Substitutes constraints in the equation\n",
    "        Private special case:\n",
    "            L -> L* \n",
    "        \"\"\"\n",
    "        sub_dict = {conn.args[0]: conn.args[1] for conn in self.constraints}\n",
    "        return func.subs(sub_dict)\n",
    "    \n",
    "    def sub_constraints_to_list(self, equations):\n",
    "        return [self.sub_constraints(equation) for equation in equations]\n",
    "    \n",
    "    @staticmethod\n",
    "    def diff_hack(equation, by):\n",
    "        \"\"\" eq -> eq.subs(Derivative -> temp_variable) -> eq.diff(temp_variable) ->\n",
    "            -> eq.subs(temp_variable -> Derivative)\n",
    "        \"\"\"\n",
    "        tmp_by = Symbol('tmp_by')\n",
    "        tmp_eq = equation.subs({by: tmp_by})\n",
    "        tmp_eq = tmp_eq.diff(tmp_by)\n",
    "        return tmp_eq.subs({tmp_by: by})\n",
    "        "
   ]
  },
  {
   "cell_type": "code",
   "execution_count": 210,
   "metadata": {},
   "outputs": [],
   "source": [
    "class TatarinovSystem(MechanicalSystem):\n",
    "    \n",
    "    def __init__(self, N=3, debug=True):\n",
    "        super().__init__()\n",
    "        self.N = N\n",
    "        self.tatarinov_equations = [None]*N\n",
    "        self.debug = True\n",
    "        \n",
    "    def set_omega_equations(self, omegas, equations):\n",
    "        omega_equations = [Eq(omega, equation) for omega, equation in zip(omegas, equations)]\n",
    "        self.omega_equations = omega_equations\n",
    "        \n",
    "    def set_v_equations(self, vs, equations): # vs - не лучшее название\n",
    "        v_equations = [Eq(v, equation) for v, equation in zip(vs, equations)]\n",
    "        self.v_equations = v_equations\n",
    "\n",
    "    def set_P(self):\n",
    "        k, mu = symbols('k, mu', cls=Idx)\n",
    "        left = Sum(P[k]*om[k], (k, 1, self.N)).doit()\n",
    "        right = Sum(p[i]*v[i], (k, 1, self.N))\n",
    "        Eq(left, right)\n",
    "    \n",
    "    def set_L(self, L):\n",
    "        self.L = L\n",
    "        \n",
    "    def set_L_star(self, L_star):\n",
    "        self.L_star = simplify(L_star)\n",
    "    \n",
    "    def set_F(self, F):\n",
    "        self.F = F\n",
    "    \n",
    "    def create_r(self):\n",
    "        r = {}\n",
    "        r['s'] = x*e['x'] + y*e['y']\n",
    "        r['p'] = r['s'] + xi*e['xi'] + eta*e['eta']\n",
    "        self.r = r\n",
    "        return self.r\n",
    "\n",
    "    def set_Qs(self, Qs):\n",
    "        self.Qs = Qs\n",
    "    \n",
    "    def create_P(self):\n",
    "        equations_for_P = Eq(\n",
    "            Sum(P[k]*_omega[k], (k, 1, S.N)),\n",
    "            Sum(p[k]*_v[k], (k, 1, S.N)))\n",
    "        print(equations_for_P)\n",
    "        # subs omega_i and v_i\n",
    "        sub_equations_for_P = TatarinovSystem.sub_Eqs(\n",
    "            equations_for_P.doit(), # important\n",
    "            self.omega_equations + self.v_equations) # for Ex: omega[1] -> nu1), v[1] -> x', ....\n",
    "        # subs_constraints\n",
    "        sub_conn_equations_for_P = self.sub_constraints(sub_equations_for_P)\n",
    "        print(sub_conn_equations_for_P)\n",
    "        # to equate the coefficients\n",
    "        left_coeffs = poly(sub_conn_equations_for_P.args[0], TatarinovSystem.right_part_Eqs(self.omega_equations)).coeffs()\n",
    "        right_coeffs = poly(sub_conn_equations_for_P.args[1], TatarinovSystem.right_part_Eqs(self.omega_equations)).coeffs()\n",
    "        final_equations_for_P = [Eq(left, right) for left, right in zip(left_coeffs, right_coeffs)]\n",
    "        self.Ps = final_equations_for_P\n",
    "        return final_equations_for_P\n",
    "    \n",
    "    def create_Q(self, F, r_p):\n",
    "        self.Q = [F.dot(r_p.diff(x)) for x in self.q]\n",
    "        \n",
    "    def set_Q(self, Q):\n",
    "        self.Q = Q\n",
    "    \n",
    "    def Q_dw_by_dv(self, i):\n",
    "        Q_dw_by_dv = lambda i,a: self.Q[i]*Derivative(self.right_part_Eqs(S.sub_constraints_to_list(S.v_equations))[i],\n",
    "                                                      self.right_part_Eqs(self.omega_equations)[a]).doit()\n",
    "        Q_dw_by_dv_sum = lambda a: Q_dw_by_dv(0,a) + Q_dw_by_dv(1,a) + Q_dw_by_dv(2,a) + Q_dw_by_dv(3,a) + Q_dw_by_dv(4,a)\n",
    "        return Q_dw_by_dv_sum(i)\n",
    "    \n",
    "    def tatarinov_equation__depricated(self, i):\n",
    "        left, right = 0, 0;\n",
    "        left += diff(diff(L, omega[k]), t)\n",
    "        left += poisson_bracket(P[k], L)\n",
    "        right += poisson_bracket(P[k], Sum(omega[k]*P[k], (k, 1, self.N)))\n",
    "        right += Sum(Q[l]*diff(v[l], omega[k]), (l, 1, self.N))\n",
    "        Eq(left, right)\n",
    "        \n",
    "    def create_bracket_sum(self):\n",
    "        \"\"\" not good \"\"\"\n",
    "        # return  _nu1*(p[1]*cos(alpha) + p[2]*sin(alpha)) + _nu2*(-p[1]*sin(alpha) + p[2]*cos(alpha)) + _nu3*p[3]\n",
    "        bracket_sum = [x*y for x,y in zip(S.right_part_Eqs(S.Ps), S.right_part_Eqs(S.omega_equations))]\n",
    "        res = 0\n",
    "        for x in range(3):\n",
    "            res += bracket_sum[x]\n",
    "        return res\n",
    "    \n",
    "    def solve_tatarinov_equations(self):\n",
    "        te = [self.tatarinov_equations[i] for x in range(3)]\n",
    "        sol = solve(te, [Derivative(self.create_fs(x), t) for x in S.right_part_Eqs(S.omega_equations)])\n",
    "        return sol\n",
    "\n",
    "    def tatarinov_equation(self, i):\n",
    "        left, right = 0,0\n",
    "        left = self.L_star.args[1]\n",
    "#         left = self.create_fs(left.diff(self.right_part_Eqs(self.omega_equations)[i])).diff(t)\n",
    "        left = left.diff(self.right_part_Eqs(self.omega_equations)[i])\n",
    "        left = simplify(left)\n",
    "        left = left.diff(t)\n",
    "        left = simplify(self.sub_constraints(left))\n",
    "        tmp = self.poisson_bracket(self.Ps[i].args[1], self.L_star.args[1])\n",
    "        left += simplify(self.sub_constraints(tmp))\n",
    "#         left = self.create_fs(left)\n",
    "        if self.debug:\n",
    "            display(left)\n",
    "        \n",
    "        right += self.poisson_bracket(self.Ps[i].args[1], self.create_bracket_sum())\n",
    "        right += simplify(self.Q_dw_by_dv(i))\n",
    "#         right = self.create_fs(right)\n",
    "        if self.debug:\n",
    "            display(right)\n",
    "        \n",
    "        ps = lambda i: self.sub_constraints(self.diff_hack(self.L.args[1], self.right_part_Eqs(self.v_equations)[i]))\n",
    "        self.tatarinov_equations[i] = Eq(left, right).subs({p[1]: ps(0), p[2]: ps(1), p[3]: ps(2)})\n",
    "        \n",
    "#         self.tatarinov_equations[i] = self.create_fs(simplify(self.tatarinov_equations[i]))\n",
    "        self.tatarinov_equations[i] = simplify(self.tatarinov_equations[i])\n",
    "        \n",
    "        return self.tatarinov_equations[i]\n",
    "\n",
    "    def display_tatarinov_equations(self):\n",
    "        for eq in self.tatarinov_equations:\n",
    "            display(eq)"
   ]
  },
  {
   "cell_type": "markdown",
   "metadata": {},
   "source": [
    "##  Импорт платформы"
   ]
  },
  {
   "cell_type": "code",
   "execution_count": 174,
   "metadata": {},
   "outputs": [
    {
     "name": "stdout",
     "output_type": "stream",
     "text": [
      "The autoreload extension is already loaded. To reload it, use:\n",
      "  %reload_ext autoreload\n"
     ]
    }
   ],
   "source": [
    "%load_ext autoreload\n",
    "%autoreload 2\n",
    "\n",
    "from variables import *\n",
    "from structure import *\n",
    "from functions import *\n",
    "\n",
    "from latex import *"
   ]
  },
  {
   "cell_type": "markdown",
   "metadata": {},
   "source": [
    "#### Псевдоскорости $nu_1$, $nu_2$\n",
    "#### Координаты $\\theta_1$, $\\psi_1$, $\\alpha$\n",
    "#### Связи $\\psi_1(\\nu_1,\\nu_2), \\theta_1(\\nu_1,\\nu_2)$"
   ]
  },
  {
   "cell_type": "markdown",
   "metadata": {},
   "source": [
    "#### Скорости"
   ]
  },
  {
   "cell_type": "code",
   "execution_count": 182,
   "metadata": {},
   "outputs": [],
   "source": [
    "omega['platform']= lambda i: Derivative(alpha,t)*e['z']\n",
    "omega['fork']    = lambda i: omega['platform'](i) + Derivative(theta[i],t)*e['z']\n",
    "omega['wheel']   = lambda i: omega['fork'](i) + Derivative(psi[i],t)*n_wheel(i)"
   ]
  },
  {
   "cell_type": "code",
   "execution_count": 183,
   "metadata": {},
   "outputs": [],
   "source": [
    "v['S'] = euler(S, P)\n",
    "v['P'] = euler(P, C)\n",
    "v['C'] = euler(C, D)\n",
    "v['D'] = lambda i: Matrix([0,0,0]) # проскальзывания нет"
   ]
  },
  {
   "cell_type": "code",
   "execution_count": 11,
   "metadata": {},
   "outputs": [],
   "source": [
    "# v['S'](0)"
   ]
  },
  {
   "cell_type": "markdown",
   "metadata": {},
   "source": [
    "#### Угловые скорости"
   ]
  },
  {
   "cell_type": "code",
   "execution_count": 184,
   "metadata": {},
   "outputs": [],
   "source": [
    "omega['platform']= lambda i: Derivative(alpha,t)*e['z']\n",
    "omega['fork']    = lambda i: omega['platform'](i) + Derivative(theta[i],t)*e['z']\n",
    "omega['wheel']   = lambda i: omega['fork'](i) + Derivative(psi[i],t)*n_wheel(i)"
   ]
  },
  {
   "cell_type": "code",
   "execution_count": 185,
   "metadata": {},
   "outputs": [],
   "source": [
    "eq['nu1'] = lambda i: scalar(v['S'](i), e['xi'])\n",
    "eq['nu2'] = lambda i: scalar(v['S'](i), e['eta'])"
   ]
  },
  {
   "cell_type": "markdown",
   "metadata": {},
   "source": [
    "#### Псевдоскорости"
   ]
  },
  {
   "cell_type": "code",
   "execution_count": null,
   "metadata": {},
   "outputs": [],
   "source": [
    "simplify(Matrix([Eq(nu[1], eq['nu1'](0)),\n",
    "                 Eq(nu[2], eq['nu2'](0))]))"
   ]
  },
  {
   "cell_type": "code",
   "execution_count": 187,
   "metadata": {},
   "outputs": [],
   "source": [
    "eq['f(nu1,nu2)'] = lambda i: solve(\n",
    "                      [Eq(eq['nu1'](i), nu[1]), Eq(eq['nu2'](i), nu[2])],\n",
    "                      [Derivative(psi[i],t), Derivative(theta[i],t)],\n",
    "                      dict=True)[0]; # возвращает словарь с выражениями для diff(psi) и diff(theta)"
   ]
  },
  {
   "cell_type": "code",
   "execution_count": null,
   "metadata": {},
   "outputs": [],
   "source": [
    "Eq(Derivative(alpha), nu[3])"
   ]
  },
  {
   "cell_type": "markdown",
   "metadata": {},
   "source": [
    "####  Связи"
   ]
  },
  {
   "cell_type": "code",
   "execution_count": 188,
   "metadata": {},
   "outputs": [],
   "source": [
    "eq['diff(psi)_nu']   = lambda i: eq['f(nu1,nu2)'](i)[Derivative(psi[i],t)]\n",
    "eq['diff(theta)_nu'] = lambda i: eq['f(nu1,nu2)'](i)[Derivative(theta[i],t)]"
   ]
  },
  {
   "cell_type": "code",
   "execution_count": 189,
   "metadata": {},
   "outputs": [
    {
     "data": {
      "text/latex": [
       "$\\displaystyle \\left[\\begin{matrix}\\frac{d}{d t} \\psi_{0}{\\left(t \\right)} = - \\frac{\\nu_{1}{\\left(t \\right)} \\cos{\\left(\\theta_{0}{\\left(t \\right)} \\right)} + \\nu_{2}{\\left(t \\right)} \\sin{\\left(\\theta_{0}{\\left(t \\right)} \\right)} + \\sin{\\left(\\beta_{0} - \\theta_{0}{\\left(t \\right)} \\right)} \\frac{d}{d t} \\alpha{\\left(t \\right)}}{r}\\\\\\frac{d}{d t} \\theta_{0}{\\left(t \\right)} = \\frac{- d \\frac{d}{d t} \\alpha{\\left(t \\right)} - \\nu_{1}{\\left(t \\right)} \\sin{\\left(\\theta_{0}{\\left(t \\right)} \\right)} + \\nu_{2}{\\left(t \\right)} \\cos{\\left(\\theta_{0}{\\left(t \\right)} \\right)} - \\cos{\\left(\\beta_{0} - \\theta_{0}{\\left(t \\right)} \\right)} \\frac{d}{d t} \\alpha{\\left(t \\right)}}{d}\\end{matrix}\\right]$"
      ],
      "text/plain": [
       "Matrix([\n",
       "[                              Eq(Derivative(psi0(t), t), -(nu1(t)*cos(theta0(t)) + nu2(t)*sin(theta0(t)) + sin(beta0 - theta0(t))*Derivative(alpha(t), t))/r)],\n",
       "[Eq(Derivative(theta0(t), t), (-d*Derivative(alpha(t), t) - nu1(t)*sin(theta0(t)) + nu2(t)*cos(theta0(t)) - cos(beta0 - theta0(t))*Derivative(alpha(t), t))/d)]])"
      ]
     },
     "execution_count": 189,
     "metadata": {},
     "output_type": "execute_result"
    }
   ],
   "source": [
    "Matrix([Eq(Derivative(psi[0], t), eq['diff(psi)_nu'](0)),\n",
    "        Eq(Derivative(theta[0], t), eq['diff(theta)_nu'](0))])"
   ]
  },
  {
   "cell_type": "code",
   "execution_count": 190,
   "metadata": {},
   "outputs": [],
   "source": [
    "# L, m, x, y, t, alpha = symbols('L, m, x, y, t, alpha')\n",
    "# _nu1, _nu2, _nu3, _nu4, _nu5 = symbols('nu1_, nu2_, nu3_, nu4_, nu5_')\n",
    "# W, T = symbols('W, T')\n",
    "# s = symbols('s')\n",
    "P = IndexedBase('P')\n",
    "p = IndexedBase('p')\n",
    "# p = IndexedBase('p')\n",
    "_omega = IndexedBase('omega')\n",
    "_v = IndexedBase('v')\n",
    "# Q = IndexedBase('Q')\n",
    "k = symbols('k', cls=Idx)\n",
    "# J = IndexedBase('J')\n",
    "\n",
    "# xi, eta = symbols('xi, eta')\n",
    "# e = {}\n",
    "# e['x'] = Matrix([1,0])\n",
    "# e['y'] = Matrix([0,1])\n",
    "# e['xi'] = Matrix([cos(alpha), sin(alpha)])\n",
    "# e['eta'] = Matrix([-sin(alpha), cos(alpha)])"
   ]
  },
  {
   "cell_type": "code",
   "execution_count": 20,
   "metadata": {},
   "outputs": [],
   "source": [
    "# A, C, c = symbols('A, C, c')\n",
    "\n",
    "# psi, theta, phi = symbols('psi, theta, phi') # v\n",
    "\n",
    "# g = symbols('g')"
   ]
  },
  {
   "cell_type": "markdown",
   "metadata": {},
   "source": [
    "$$ L = T - V $$\n",
    "$$ T = T_{pl} + T_{fo} + T_{wh} $$"
   ]
  },
  {
   "cell_type": "markdown",
   "metadata": {},
   "source": [
    "$$ T_{pl} = \\frac{m_{pl} v_S^2}{2} + \\frac{J_{pl} \\omega_{pl}^2}{2} $$\n",
    "$$ T_{fo} = 0$$\n",
    "$$ T_{wh} = \\frac{m_{wh} v_S^2}{2} + \\frac{J_{wh} \\omega_{wh}^2}{2} $$"
   ]
  },
  {
   "cell_type": "markdown",
   "metadata": {},
   "source": [
    "#### Platform"
   ]
  },
  {
   "cell_type": "code",
   "execution_count": 191,
   "metadata": {},
   "outputs": [
    {
     "data": {
      "text/latex": [
       "$\\displaystyle m_{1}$"
      ],
      "text/plain": [
       "m1"
      ]
     },
     "execution_count": 191,
     "metadata": {},
     "output_type": "execute_result"
    }
   ],
   "source": [
    "m['platform']"
   ]
  },
  {
   "cell_type": "code",
   "execution_count": 192,
   "metadata": {},
   "outputs": [
    {
     "data": {
      "text/latex": [
       "$\\displaystyle \\left(\\frac{d}{d t} x{\\left(t \\right)}\\right)^{2} + \\left(\\frac{d}{d t} y{\\left(t \\right)}\\right)^{2}$"
      ],
      "text/plain": [
       "Derivative(x(t), t)**2 + Derivative(y(t), t)**2"
      ]
     },
     "execution_count": 192,
     "metadata": {},
     "output_type": "execute_result"
    }
   ],
   "source": [
    "Derivative(x, t)**2 + Derivative(y, t)**2"
   ]
  },
  {
   "cell_type": "code",
   "execution_count": 193,
   "metadata": {},
   "outputs": [],
   "source": [
    "J['platform'] = eye(3,3)*a"
   ]
  },
  {
   "cell_type": "code",
   "execution_count": 194,
   "metadata": {},
   "outputs": [
    {
     "data": {
      "text/latex": [
       "$\\displaystyle \\left[\\begin{matrix}0\\\\0\\\\\\frac{d}{d t} \\alpha{\\left(t \\right)}\\end{matrix}\\right]$"
      ],
      "text/plain": [
       "Matrix([\n",
       "[                      0],\n",
       "[                      0],\n",
       "[Derivative(alpha(t), t)]])"
      ]
     },
     "execution_count": 194,
     "metadata": {},
     "output_type": "execute_result"
    }
   ],
   "source": [
    "omega['platform'](0)"
   ]
  },
  {
   "cell_type": "markdown",
   "metadata": {},
   "source": [
    "#### Wheel"
   ]
  },
  {
   "cell_type": "code",
   "execution_count": 195,
   "metadata": {},
   "outputs": [
    {
     "data": {
      "text/latex": [
       "$\\displaystyle m_{2}$"
      ],
      "text/plain": [
       "m2"
      ]
     },
     "execution_count": 195,
     "metadata": {},
     "output_type": "execute_result"
    }
   ],
   "source": [
    "m['wheel']"
   ]
  },
  {
   "cell_type": "code",
   "execution_count": 196,
   "metadata": {},
   "outputs": [
    {
     "data": {
      "text/latex": [
       "$\\displaystyle \\left[\\begin{matrix}d \\left(- \\sin{\\left(\\alpha{\\left(t \\right)} \\right)} \\sin{\\left(\\theta_{0}{\\left(t \\right)} \\right)} + \\cos{\\left(\\alpha{\\left(t \\right)} \\right)} \\cos{\\left(\\theta_{0}{\\left(t \\right)} \\right)}\\right) + x{\\left(t \\right)}\\\\d \\left(\\sin{\\left(\\alpha{\\left(t \\right)} \\right)} \\cos{\\left(\\theta_{0}{\\left(t \\right)} \\right)} + \\sin{\\left(\\theta_{0}{\\left(t \\right)} \\right)} \\cos{\\left(\\alpha{\\left(t \\right)} \\right)}\\right) + y{\\left(t \\right)}\\\\0\\end{matrix}\\right]$"
      ],
      "text/plain": [
       "Matrix([\n",
       "[d*(-sin(alpha(t))*sin(theta0(t)) + cos(alpha(t))*cos(theta0(t))) + x(t)],\n",
       "[ d*(sin(alpha(t))*cos(theta0(t)) + sin(theta0(t))*cos(alpha(t))) + y(t)],\n",
       "[                                                                      0]])"
      ]
     },
     "execution_count": 196,
     "metadata": {},
     "output_type": "execute_result"
    }
   ],
   "source": [
    "Matrix([x,y,0]) + d*e_wheel(0)"
   ]
  },
  {
   "cell_type": "code",
   "execution_count": 197,
   "metadata": {},
   "outputs": [],
   "source": [
    "J['wheel'] = Matrix([[b,0,0],[0,c,0],[0,0,b]])"
   ]
  },
  {
   "cell_type": "markdown",
   "metadata": {},
   "source": [
    "#### В одинаковых базисах нужно записывать угловую скорость и момент инерции !"
   ]
  },
  {
   "cell_type": "code",
   "execution_count": 198,
   "metadata": {},
   "outputs": [],
   "source": [
    "omega['wheel_in'] = lambda i: psi[i].diff(t)*e['y'] + (theta[i].diff(t) + alpha.diff(t))*e['z']"
   ]
  },
  {
   "cell_type": "code",
   "execution_count": 199,
   "metadata": {},
   "outputs": [
    {
     "data": {
      "text/latex": [
       "$\\displaystyle \\left[\\begin{matrix}0\\\\\\frac{d}{d t} \\psi_{0}{\\left(t \\right)}\\\\\\frac{d}{d t} \\alpha{\\left(t \\right)} + \\frac{d}{d t} \\theta_{0}{\\left(t \\right)}\\end{matrix}\\right]$"
      ],
      "text/plain": [
       "Matrix([\n",
       "[                                                 0],\n",
       "[                            Derivative(psi0(t), t)],\n",
       "[Derivative(alpha(t), t) + Derivative(theta0(t), t)]])"
      ]
     },
     "execution_count": 199,
     "metadata": {},
     "output_type": "execute_result"
    }
   ],
   "source": [
    "omega['wheel_in'](0)"
   ]
  },
  {
   "cell_type": "markdown",
   "metadata": {},
   "source": [
    "### Моменты сил\n",
    "####  (platform) $ \\vec{M} = -W_0*\\vec{e}_z $ \n",
    "####  (fork) $ \\vec{M} = W_0*\\vec{e}_z - T_0*\\vec{n}_0 $ \n",
    "####  (wheel) $ \\vec{M} = T_0*\\vec{n}_0 $ "
   ]
  },
  {
   "cell_type": "code",
   "execution_count": 200,
   "metadata": {},
   "outputs": [],
   "source": [
    "eq['nu1(x,y)'] = Eq(nu[1], Derivative(x,t)*cos(alpha) + Derivative(y,t)*sin(alpha))\n",
    "eq['nu2(x,y)'] = Eq(nu[2], -Derivative(x,t)*sin(alpha) + Derivative(y,t)*cos(alpha))"
   ]
  },
  {
   "cell_type": "code",
   "execution_count": 201,
   "metadata": {},
   "outputs": [],
   "source": [
    "eq['diff_x(nu1,nu2)'], eq['diff_y(nu1,nu2)'] = linsolve([eq['nu1(x,y)'], eq['nu2(x,y)']], (Derivative(x, t), Derivative(y, t))).args[0]"
   ]
  },
  {
   "cell_type": "code",
   "execution_count": 202,
   "metadata": {},
   "outputs": [],
   "source": []
  },
  {
   "cell_type": "markdown",
   "metadata": {},
   "source": [
    "### L"
   ]
  },
  {
   "cell_type": "code",
   "execution_count": 204,
   "metadata": {},
   "outputs": [],
   "source": [
    "L = Symbol('L')"
   ]
  },
  {
   "cell_type": "code",
   "execution_count": 205,
   "metadata": {},
   "outputs": [],
   "source": [
    "pl = m['platform']/2*(Derivative(x, t)**2 + Derivative(y, t)**2)\n",
    "pl += (J['platform']*omega['platform'](0)).dot(omega['platform'](0))/2\n",
    "\n",
    "wh = m['wheel']/2*(MatrixElDerivative(Matrix([x,y,0]) + d*e_wheel(0))).dot(MatrixElDerivative(Matrix([x,y,0]) + d*e_wheel(0)))\n",
    "wh += (J['wheel']*omega['wheel_in'](0)).dot(omega['wheel_in'](0))/2"
   ]
  },
  {
   "cell_type": "code",
   "execution_count": null,
   "metadata": {},
   "outputs": [],
   "source": [
    "L = Eq(L, pl + wh)\n",
    "L"
   ]
  },
  {
   "cell_type": "code",
   "execution_count": 36,
   "metadata": {},
   "outputs": [
    {
     "name": "stdout",
     "output_type": "stream",
     "text": [
      "CPU times: user 14.3 s, sys: 102 ms, total: 14.4 s\n",
      "Wall time: 14.6 s\n"
     ]
    }
   ],
   "source": [
    "%%time\n",
    "sL = simplify(L)"
   ]
  },
  {
   "cell_type": "code",
   "execution_count": 37,
   "metadata": {},
   "outputs": [
    {
     "data": {
      "text/latex": [
       "$\\displaystyle L = \\frac{a \\left(\\frac{d}{d t} \\alpha{\\left(t \\right)}\\right)^{2}}{2} + \\frac{b \\left(\\frac{d}{d t} \\alpha{\\left(t \\right)} + \\frac{d}{d t} \\theta_{0}{\\left(t \\right)}\\right)^{2}}{2} + \\frac{c \\left(\\frac{d}{d t} \\psi_{0}{\\left(t \\right)}\\right)^{2}}{2} + \\frac{m_{1} \\left(\\left(\\frac{d}{d t} x{\\left(t \\right)}\\right)^{2} + \\left(\\frac{d}{d t} y{\\left(t \\right)}\\right)^{2}\\right)}{2} + \\frac{m_{2} \\left(\\left(d \\left(\\frac{d}{d t} \\alpha{\\left(t \\right)} + \\frac{d}{d t} \\theta_{0}{\\left(t \\right)}\\right) \\sin{\\left(\\alpha{\\left(t \\right)} + \\theta_{0}{\\left(t \\right)} \\right)} - \\frac{d}{d t} x{\\left(t \\right)}\\right)^{2} + \\left(d \\left(\\frac{d}{d t} \\alpha{\\left(t \\right)} + \\frac{d}{d t} \\theta_{0}{\\left(t \\right)}\\right) \\cos{\\left(\\alpha{\\left(t \\right)} + \\theta_{0}{\\left(t \\right)} \\right)} + \\frac{d}{d t} y{\\left(t \\right)}\\right)^{2}\\right)}{2}$"
      ],
      "text/plain": [
       "Eq(L, a*Derivative(alpha(t), t)**2/2 + b*(Derivative(alpha(t), t) + Derivative(theta0(t), t))**2/2 + c*Derivative(psi0(t), t)**2/2 + m1*(Derivative(x(t), t)**2 + Derivative(y(t), t)**2)/2 + m2*((d*(Derivative(alpha(t), t) + Derivative(theta0(t), t))*sin(alpha(t) + theta0(t)) - Derivative(x(t), t))**2 + (d*(Derivative(alpha(t), t) + Derivative(theta0(t), t))*cos(alpha(t) + theta0(t)) + Derivative(y(t), t))**2)/2)"
      ]
     },
     "execution_count": 37,
     "metadata": {},
     "output_type": "execute_result"
    }
   ],
   "source": [
    "sL"
   ]
  },
  {
   "cell_type": "markdown",
   "metadata": {},
   "source": [
    "### Определим связи "
   ]
  },
  {
   "cell_type": "code",
   "execution_count": 207,
   "metadata": {},
   "outputs": [],
   "source": [
    "conn1 = Eq(Derivative(x, t), eq['diff_x(nu1,nu2)'])\n",
    "conn2 = Eq(Derivative(y, t), eq['diff_y(nu1,nu2)'])\n",
    "conn3 = Eq(Derivative(alpha, t), nu[3])\n",
    "conn4 = Eq(Derivative(theta[0], t), simplify(eq['diff(theta)_nu'](0))).subs({Derivative(alpha, t): nu[3]})\n",
    "conn5 = Eq(Derivative(psi[0], t), simplify(eq['diff(psi)_nu'](0))).subs({Derivative(alpha, t): nu[3]})"
   ]
  },
  {
   "cell_type": "code",
   "execution_count": 208,
   "metadata": {},
   "outputs": [
    {
     "data": {
      "text/latex": [
       "$\\displaystyle \\frac{d}{d t} x{\\left(t \\right)} = \\nu_{1}{\\left(t \\right)} \\cos{\\left(\\alpha{\\left(t \\right)} \\right)} - \\nu_{2}{\\left(t \\right)} \\sin{\\left(\\alpha{\\left(t \\right)} \\right)}$"
      ],
      "text/plain": [
       "Eq(Derivative(x(t), t), nu1(t)*cos(alpha(t)) - nu2(t)*sin(alpha(t)))"
      ]
     },
     "metadata": {},
     "output_type": "display_data"
    },
    {
     "data": {
      "text/latex": [
       "$\\displaystyle \\frac{d}{d t} y{\\left(t \\right)} = \\nu_{1}{\\left(t \\right)} \\sin{\\left(\\alpha{\\left(t \\right)} \\right)} + \\nu_{2}{\\left(t \\right)} \\cos{\\left(\\alpha{\\left(t \\right)} \\right)}$"
      ],
      "text/plain": [
       "Eq(Derivative(y(t), t), nu1(t)*sin(alpha(t)) + nu2(t)*cos(alpha(t)))"
      ]
     },
     "metadata": {},
     "output_type": "display_data"
    },
    {
     "data": {
      "text/latex": [
       "$\\displaystyle \\frac{d}{d t} \\alpha{\\left(t \\right)} = \\nu_{3}{\\left(t \\right)}$"
      ],
      "text/plain": [
       "Eq(Derivative(alpha(t), t), nu3(t))"
      ]
     },
     "metadata": {},
     "output_type": "display_data"
    },
    {
     "data": {
      "text/latex": [
       "$\\displaystyle \\frac{d}{d t} \\theta_{0}{\\left(t \\right)} = \\frac{- d \\nu_{3}{\\left(t \\right)} - \\nu_{1}{\\left(t \\right)} \\sin{\\left(\\theta_{0}{\\left(t \\right)} \\right)} + \\nu_{2}{\\left(t \\right)} \\cos{\\left(\\theta_{0}{\\left(t \\right)} \\right)} - \\nu_{3}{\\left(t \\right)} \\cos{\\left(\\beta_{0} - \\theta_{0}{\\left(t \\right)} \\right)}}{d}$"
      ],
      "text/plain": [
       "Eq(Derivative(theta0(t), t), (-d*nu3(t) - nu1(t)*sin(theta0(t)) + nu2(t)*cos(theta0(t)) - nu3(t)*cos(beta0 - theta0(t)))/d)"
      ]
     },
     "metadata": {},
     "output_type": "display_data"
    },
    {
     "data": {
      "text/latex": [
       "$\\displaystyle \\frac{d}{d t} \\psi_{0}{\\left(t \\right)} = - \\frac{\\nu_{1}{\\left(t \\right)} \\cos{\\left(\\theta_{0}{\\left(t \\right)} \\right)} + \\nu_{2}{\\left(t \\right)} \\sin{\\left(\\theta_{0}{\\left(t \\right)} \\right)} + \\nu_{3}{\\left(t \\right)} \\sin{\\left(\\beta_{0} - \\theta_{0}{\\left(t \\right)} \\right)}}{r}$"
      ],
      "text/plain": [
       "Eq(Derivative(psi0(t), t), -(nu1(t)*cos(theta0(t)) + nu2(t)*sin(theta0(t)) + nu3(t)*sin(beta0 - theta0(t)))/r)"
      ]
     },
     "metadata": {},
     "output_type": "display_data"
    }
   ],
   "source": [
    "for conn in [conn1, conn2, conn3, conn4, conn5]:\n",
    "    display(conn)"
   ]
  },
  {
   "cell_type": "markdown",
   "metadata": {},
   "source": [
    "## Заполним что нужно (связи, уравнения для $\\omega_i$, $v_i$, $F$)"
   ]
  },
  {
   "cell_type": "markdown",
   "metadata": {},
   "source": [
    "### Создадим объект для механической системы с уравнениями Татаринова "
   ]
  },
  {
   "cell_type": "code",
   "execution_count": 211,
   "metadata": {},
   "outputs": [],
   "source": [
    "S = TatarinovSystem()"
   ]
  },
  {
   "cell_type": "code",
   "execution_count": null,
   "metadata": {},
   "outputs": [],
   "source": [
    "S.set_L(sL)"
   ]
  },
  {
   "cell_type": "code",
   "execution_count": 213,
   "metadata": {},
   "outputs": [
    {
     "data": {
      "text/plain": [
       "[Eq(Derivative(x(t), t), nu1(t)*cos(alpha(t)) - nu2(t)*sin(alpha(t))),\n",
       " Eq(Derivative(y(t), t), nu1(t)*sin(alpha(t)) + nu2(t)*cos(alpha(t))),\n",
       " Eq(Derivative(alpha(t), t), nu3(t)),\n",
       " Eq(Derivative(theta0(t), t), (-d*nu3(t) - nu1(t)*sin(theta0(t)) + nu2(t)*cos(theta0(t)) - nu3(t)*cos(beta0 - theta0(t)))/d),\n",
       " Eq(Derivative(psi0(t), t), -(nu1(t)*cos(theta0(t)) + nu2(t)*sin(theta0(t)) + nu3(t)*sin(beta0 - theta0(t)))/r)]"
      ]
     },
     "execution_count": 213,
     "metadata": {},
     "output_type": "execute_result"
    }
   ],
   "source": [
    "S.set_constraints([conn1, conn2, conn3, conn4, conn5])\n",
    "S.constraints"
   ]
  },
  {
   "cell_type": "code",
   "execution_count": null,
   "metadata": {},
   "outputs": [],
   "source": [
    "%%time\n",
    "sL_star = S.set_L_star(S.sub_constraints(sL))"
   ]
  },
  {
   "cell_type": "code",
   "execution_count": null,
   "metadata": {},
   "outputs": [],
   "source": [
    "S.set_p([p[1], p[2], p[3]]) # это скорее внутренняя переменная и её не надо задавать here \n",
    "S.set_q([x, y, alpha, theta[0], psi[0]])"
   ]
  },
  {
   "cell_type": "code",
   "execution_count": null,
   "metadata": {},
   "outputs": [],
   "source": [
    "S.set_omega_equations(omegas=[_omega[1], _omega[2], _omega[3]],\n",
    "                      equations=[nu[1], nu[2], nu[3]])\n",
    "S.omega_equations"
   ]
  },
  {
   "cell_type": "code",
   "execution_count": null,
   "metadata": {},
   "outputs": [],
   "source": [
    "S.set_v_equations(vs=[_v[1], _v[2], _v[3], _v[4], _v[5]],\n",
    "                  equations=[Derivative(x, t), Derivative(y, t), Derivative(alpha, t), Derivative(theta[0], t), Derivative(psi[0], t)])\n",
    "S.v_equations"
   ]
  },
  {
   "cell_type": "markdown",
   "metadata": {},
   "source": [
    "### Создадим $P_{\\alpha}$"
   ]
  },
  {
   "cell_type": "code",
   "execution_count": null,
   "metadata": {},
   "outputs": [],
   "source": [
    "Ps = S.create_P()\n",
    "Ps"
   ]
  },
  {
   "cell_type": "markdown",
   "metadata": {},
   "source": [
    "### Создадим $Q_i$"
   ]
  },
  {
   "cell_type": "code",
   "execution_count": 50,
   "metadata": {},
   "outputs": [],
   "source": [
    "# F = Matrix([0,0,0])\n",
    "# S.set_F(F)\n",
    "\n",
    "# S.create_Q(S.F, S.create_r()['p'])\n",
    "# S.Q\n",
    "\n",
    "S.set_Q([0,0,0,W[1],T[1]])"
   ]
  },
  {
   "cell_type": "code",
   "execution_count": 51,
   "metadata": {},
   "outputs": [
    {
     "data": {
      "text/latex": [
       "$\\displaystyle - \\frac{\\operatorname{T_{1}}{\\left(t \\right)} \\cos{\\left(\\theta_{0}{\\left(t \\right)} \\right)}}{r} - \\frac{\\operatorname{W_{1}}{\\left(t \\right)} \\sin{\\left(\\theta_{0}{\\left(t \\right)} \\right)}}{d}$"
      ],
      "text/plain": [
       "-T1(t)*cos(theta0(t))/r - W1(t)*sin(theta0(t))/d"
      ]
     },
     "metadata": {},
     "output_type": "display_data"
    },
    {
     "data": {
      "text/latex": [
       "$\\displaystyle - \\frac{\\operatorname{T_{1}}{\\left(t \\right)} \\sin{\\left(\\theta_{0}{\\left(t \\right)} \\right)}}{r} + \\frac{\\operatorname{W_{1}}{\\left(t \\right)} \\cos{\\left(\\theta_{0}{\\left(t \\right)} \\right)}}{d}$"
      ],
      "text/plain": [
       "-T1(t)*sin(theta0(t))/r + W1(t)*cos(theta0(t))/d"
      ]
     },
     "metadata": {},
     "output_type": "display_data"
    },
    {
     "data": {
      "text/latex": [
       "$\\displaystyle - \\frac{\\operatorname{T_{1}}{\\left(t \\right)} \\sin{\\left(\\beta_{0} - \\theta_{0}{\\left(t \\right)} \\right)}}{r} + \\frac{\\left(- d - \\cos{\\left(\\beta_{0} - \\theta_{0}{\\left(t \\right)} \\right)}\\right) \\operatorname{W_{1}}{\\left(t \\right)}}{d}$"
      ],
      "text/plain": [
       "-T1(t)*sin(beta0 - theta0(t))/r + (-d - cos(beta0 - theta0(t)))*W1(t)/d"
      ]
     },
     "metadata": {},
     "output_type": "display_data"
    }
   ],
   "source": [
    "for i in range(3):\n",
    "    display(S.Q_dw_by_dv(i))"
   ]
  },
  {
   "cell_type": "markdown",
   "metadata": {},
   "source": [
    "### Получаем уравнения"
   ]
  },
  {
   "cell_type": "markdown",
   "metadata": {},
   "source": [
    "##### Проверим что функция работает верно"
   ]
  },
  {
   "cell_type": "code",
   "execution_count": null,
   "metadata": {},
   "outputs": [],
   "source": [
    "i = 0"
   ]
  },
  {
   "cell_type": "code",
   "execution_count": null,
   "metadata": {},
   "outputs": [],
   "source": [
    "left, right = 0,0"
   ]
  },
  {
   "cell_type": "code",
   "execution_count": null,
   "metadata": {},
   "outputs": [],
   "source": [
    "left = S.L_star.args[1]"
   ]
  },
  {
   "cell_type": "code",
   "execution_count": null,
   "metadata": {},
   "outputs": [],
   "source": [
    "tmp = S.right_part_Eqs(S.omega_equations)[i]\n",
    "tmp"
   ]
  },
  {
   "cell_type": "code",
   "execution_count": null,
   "metadata": {},
   "outputs": [],
   "source": [
    "tmp = left.diff(tmp)\n",
    "tmp"
   ]
  },
  {
   "cell_type": "code",
   "execution_count": null,
   "metadata": {},
   "outputs": [],
   "source": [
    "%%time\n",
    "tmp = simplify(tmp.diff(t))"
   ]
  },
  {
   "cell_type": "code",
   "execution_count": null,
   "metadata": {},
   "outputs": [],
   "source": [
    "tmp"
   ]
  },
  {
   "cell_type": "code",
   "execution_count": null,
   "metadata": {},
   "outputs": [],
   "source": [
    "left = tmp"
   ]
  },
  {
   "cell_type": "code",
   "execution_count": null,
   "metadata": {},
   "outputs": [],
   "source": [
    "S.L"
   ]
  },
  {
   "cell_type": "code",
   "execution_count": null,
   "metadata": {},
   "outputs": [],
   "source": [
    "simplify(S.L_star.args[1].subs({alpha: 8}) - S.L_star.args[1]) # !"
   ]
  },
  {
   "cell_type": "code",
   "execution_count": null,
   "metadata": {},
   "outputs": [],
   "source": [
    "S.Ps[i].args[1]"
   ]
  },
  {
   "cell_type": "code",
   "execution_count": null,
   "metadata": {},
   "outputs": [],
   "source": [
    "simplify(S.L_star.args[1])"
   ]
  },
  {
   "cell_type": "code",
   "execution_count": null,
   "metadata": {},
   "outputs": [],
   "source": [
    "tmp = S.poisson_bracket(S.Ps[i].args[1], S.L_star.args[1])"
   ]
  },
  {
   "cell_type": "code",
   "execution_count": null,
   "metadata": {},
   "outputs": [],
   "source": [
    "left += tmp"
   ]
  },
  {
   "cell_type": "code",
   "execution_count": null,
   "metadata": {},
   "outputs": [],
   "source": [
    "simplify(S.sub_constraints(left))"
   ]
  },
  {
   "cell_type": "code",
   "execution_count": null,
   "metadata": {},
   "outputs": [],
   "source": [
    "right"
   ]
  },
  {
   "cell_type": "code",
   "execution_count": null,
   "metadata": {},
   "outputs": [],
   "source": [
    "S.Ps[i].args[1]"
   ]
  },
  {
   "cell_type": "code",
   "execution_count": null,
   "metadata": {},
   "outputs": [],
   "source": [
    "S.create_bracket_sum()"
   ]
  },
  {
   "cell_type": "code",
   "execution_count": null,
   "metadata": {},
   "outputs": [],
   "source": [
    "S.poisson_bracket(S.Ps[i].args[1], S.create_bracket_sum())"
   ]
  },
  {
   "cell_type": "code",
   "execution_count": null,
   "metadata": {},
   "outputs": [],
   "source": [
    "right += S.poisson_bracket(S.Ps[i].args[1], S.create_bracket_sum())"
   ]
  },
  {
   "cell_type": "code",
   "execution_count": null,
   "metadata": {},
   "outputs": [],
   "source": [
    "right"
   ]
  },
  {
   "cell_type": "code",
   "execution_count": null,
   "metadata": {},
   "outputs": [],
   "source": [
    "S.Q_dw_by_dv(i)"
   ]
  },
  {
   "cell_type": "code",
   "execution_count": null,
   "metadata": {},
   "outputs": [],
   "source": [
    "right += simplify(S.Q_dw_by_dv(i))"
   ]
  },
  {
   "cell_type": "code",
   "execution_count": null,
   "metadata": {},
   "outputs": [],
   "source": [
    "S.L.args[1]"
   ]
  },
  {
   "cell_type": "code",
   "execution_count": null,
   "metadata": {},
   "outputs": [],
   "source": [
    "S.right_part_Eqs(S.v_equations)[i]"
   ]
  },
  {
   "cell_type": "code",
   "execution_count": null,
   "metadata": {},
   "outputs": [],
   "source": [
    "S.sub_constraints(S.diff_hack(S.L.args[1], S.right_part_Eqs(S.v_equations)[i]))"
   ]
  },
  {
   "cell_type": "code",
   "execution_count": null,
   "metadata": {},
   "outputs": [],
   "source": [
    "simplify(S.sub_constraints(S.diff_hack(S.L.args[1], S.right_part_Eqs(S.v_equations)[i])))"
   ]
  },
  {
   "cell_type": "code",
   "execution_count": null,
   "metadata": {},
   "outputs": [],
   "source": [
    "ps = lambda i: simplify(S.sub_constraints(S.diff_hack(S.L.args[1], S.right_part_Eqs(S.v_equations)[i])))"
   ]
  },
  {
   "cell_type": "code",
   "execution_count": null,
   "metadata": {},
   "outputs": [],
   "source": [
    "ps(0)"
   ]
  },
  {
   "cell_type": "code",
   "execution_count": null,
   "metadata": {},
   "outputs": [],
   "source": [
    "ps(1)"
   ]
  },
  {
   "cell_type": "code",
   "execution_count": null,
   "metadata": {},
   "outputs": [],
   "source": [
    "ps(2)"
   ]
  },
  {
   "cell_type": "code",
   "execution_count": null,
   "metadata": {},
   "outputs": [],
   "source": [
    "ps(3)"
   ]
  },
  {
   "cell_type": "code",
   "execution_count": null,
   "metadata": {},
   "outputs": [],
   "source": [
    "S.v_equations"
   ]
  },
  {
   "cell_type": "code",
   "execution_count": null,
   "metadata": {},
   "outputs": [],
   "source": [
    "Eq(left, right)"
   ]
  },
  {
   "cell_type": "code",
   "execution_count": null,
   "metadata": {},
   "outputs": [],
   "source": [
    "Eq(left, right).subs({p[1]: ps(0), p[2]: ps(1), p[3]: ps(2)})"
   ]
  },
  {
   "cell_type": "code",
   "execution_count": null,
   "metadata": {},
   "outputs": [],
   "source": []
  },
  {
   "cell_type": "code",
   "execution_count": null,
   "metadata": {},
   "outputs": [],
   "source": []
  },
  {
   "cell_type": "code",
   "execution_count": null,
   "metadata": {},
   "outputs": [],
   "source": []
  },
  {
   "cell_type": "markdown",
   "metadata": {},
   "source": [
    "# ..."
   ]
  },
  {
   "cell_type": "markdown",
   "metadata": {},
   "source": [
    "## Equations"
   ]
  },
  {
   "cell_type": "code",
   "execution_count": null,
   "metadata": {},
   "outputs": [],
   "source": [
    "%%time \n",
    "S.tatarinov_equation(0)"
   ]
  },
  {
   "cell_type": "code",
   "execution_count": null,
   "metadata": {
    "scrolled": false
   },
   "outputs": [],
   "source": [
    "%%time\n",
    "S.tatarinov_equation(1)"
   ]
  },
  {
   "cell_type": "code",
   "execution_count": null,
   "metadata": {},
   "outputs": [],
   "source": [
    "%%time\n",
    "S.tatarinov_equation(2)"
   ]
  },
  {
   "cell_type": "code",
   "execution_count": null,
   "metadata": {},
   "outputs": [],
   "source": [
    "save(S.tatarinov_equations, 'eqs+TW')"
   ]
  },
  {
   "cell_type": "markdown",
   "metadata": {},
   "source": [
    "## Subs params & Load"
   ]
  },
  {
   "cell_type": "code",
   "execution_count": 170,
   "metadata": {},
   "outputs": [],
   "source": [
    "eqs = load('eqs+TW')\n",
    "# display_list(eqs)"
   ]
  },
  {
   "cell_type": "code",
   "execution_count": 168,
   "metadata": {},
   "outputs": [],
   "source": [
    "def par_subs(eq):\n",
    "    return eq.subs({\n",
    "        beta[0]: 0,\n",
    "        d: 0.7,\n",
    "        r: 1,\n",
    "        b: 0.5,\n",
    "        c: 1,\n",
    "        a: 3,\n",
    "        m['platform']: 3,\n",
    "        m['wheel']: 0.1\n",
    "    })"
   ]
  },
  {
   "cell_type": "markdown",
   "metadata": {},
   "source": [
    "##### Test condition for Det Matrix"
   ]
  },
  {
   "cell_type": "code",
   "execution_count": 169,
   "metadata": {},
   "outputs": [
    {
     "data": {
      "text/latex": [
       "$\\displaystyle - \\left(- a d + b + 2 d^{2} m_{2} + d m_{2}\\right) \\left(a d + b + 2 d^{2} m_{2} - d m_{2}\\right)$"
      ],
      "text/plain": [
       "-(-a*d + b + 2*d**2*m2 + d*m2)*(a*d + b + 2*d**2*m2 - d*m2)"
      ]
     },
     "execution_count": 169,
     "metadata": {},
     "output_type": "execute_result"
    }
   ],
   "source": [
    "condition"
   ]
  },
  {
   "cell_type": "code",
   "execution_count": 167,
   "metadata": {},
   "outputs": [
    {
     "data": {
      "text/latex": [
       "$\\displaystyle 3.763296$"
      ],
      "text/plain": [
       "3.76329600000000"
      ]
     },
     "execution_count": 167,
     "metadata": {},
     "output_type": "execute_result"
    }
   ],
   "source": [
    "par_subs(condition)"
   ]
  },
  {
   "cell_type": "markdown",
   "metadata": {},
   "source": [
    "### Solve by $T, W$"
   ]
  },
  {
   "cell_type": "code",
   "execution_count": 171,
   "metadata": {},
   "outputs": [
    {
     "name": "stdout",
     "output_type": "stream",
     "text": [
      "CPU times: user 46.8 s, sys: 252 ms, total: 47 s\n",
      "Wall time: 47.5 s\n"
     ]
    }
   ],
   "source": [
    "%%time\n",
    "resTW = linsolve([par_subs(eq) for eq in eqs[:2]],\n",
    "                 [T[1], W[1]])"
   ]
  },
  {
   "cell_type": "code",
   "execution_count": 175,
   "metadata": {},
   "outputs": [],
   "source": [
    "eq['T'] = resTW.args[0][0]\n",
    "eq['W'] = resTW.args[0][1]"
   ]
  },
  {
   "cell_type": "markdown",
   "metadata": {},
   "source": [
    "### Solve by $T, W, \\nu_3$"
   ]
  },
  {
   "cell_type": "code",
   "execution_count": 20,
   "metadata": {},
   "outputs": [
    {
     "name": "stdout",
     "output_type": "stream",
     "text": [
      "CPU times: user 2min 20s, sys: 480 ms, total: 2min 21s\n",
      "Wall time: 2min 21s\n"
     ]
    }
   ],
   "source": [
    "%%time\n",
    "resTWNU3 = linsolve([par_subs(eq) for eq in eqs],\n",
    "                    [T[1], W[1], Derivative(nu[3], t)])"
   ]
  },
  {
   "cell_type": "code",
   "execution_count": 78,
   "metadata": {},
   "outputs": [
    {
     "data": {
      "text/markdown": [
       "---"
      ],
      "text/plain": [
       "<IPython.core.display.Markdown object>"
      ]
     },
     "metadata": {},
     "output_type": "display_data"
    },
    {
     "data": {
      "text/latex": [
       "$\\displaystyle \\frac{\\frac{\\left(9 \\cos{\\left(\\theta_{0}{\\left(t \\right)} \\right)} - 10 \\cos{\\left(2 \\theta_{0}{\\left(t \\right)} \\right)} - \\cos{\\left(3 \\theta_{0}{\\left(t \\right)} \\right)} - 10\\right) \\left(5 \\nu_{1}^{2}{\\left(t \\right)} \\cos^{3}{\\left(\\theta_{0}{\\left(t \\right)} \\right)} - 5 \\nu_{1}^{2}{\\left(t \\right)} \\cos{\\left(\\theta_{0}{\\left(t \\right)} \\right)} - 10 \\nu_{1}{\\left(t \\right)} \\nu_{2}{\\left(t \\right)} \\sin^{3}{\\left(\\theta_{0}{\\left(t \\right)} \\right)} + 10 \\nu_{1}{\\left(t \\right)} \\nu_{2}{\\left(t \\right)} \\sin{\\left(\\theta_{0}{\\left(t \\right)} \\right)} + 8 \\nu_{1}{\\left(t \\right)} \\nu_{3}{\\left(t \\right)} \\sin^{3}{\\left(\\theta_{0}{\\left(t \\right)} \\right)} + 10 \\nu_{1}{\\left(t \\right)} \\nu_{3}{\\left(t \\right)} \\sin{\\left(\\theta_{0}{\\left(t \\right)} \\right)} \\cos{\\left(\\theta_{0}{\\left(t \\right)} \\right)} - 8 \\nu_{1}{\\left(t \\right)} \\nu_{3}{\\left(t \\right)} \\sin{\\left(\\theta_{0}{\\left(t \\right)} \\right)} - 5 \\nu_{2}^{2}{\\left(t \\right)} \\cos^{3}{\\left(\\theta_{0}{\\left(t \\right)} \\right)} + 8 \\nu_{2}{\\left(t \\right)} \\nu_{3}{\\left(t \\right)} \\cos^{3}{\\left(\\theta_{0}{\\left(t \\right)} \\right)} - 10 \\nu_{2}{\\left(t \\right)} \\nu_{3}{\\left(t \\right)} \\cos^{2}{\\left(\\theta_{0}{\\left(t \\right)} \\right)} - 3 \\nu_{3}^{2}{\\left(t \\right)} \\cos^{3}{\\left(\\theta_{0}{\\left(t \\right)} \\right)} - 2 \\nu_{3}^{2}{\\left(t \\right)} \\cos^{2}{\\left(\\theta_{0}{\\left(t \\right)} \\right)} + 20 \\sin{\\left(\\theta_{0}{\\left(t \\right)} \\right)} \\cos{\\left(\\theta_{0}{\\left(t \\right)} \\right)} \\frac{d}{d t} \\nu_{2}{\\left(t \\right)} + 20 \\cos^{2}{\\left(\\theta_{0}{\\left(t \\right)} \\right)} \\frac{d}{d t} \\nu_{1}{\\left(t \\right)}\\right)}{4} + \\left(3 \\nu_{1}^{2}{\\left(t \\right)} \\sin^{3}{\\left(\\theta_{0}{\\left(t \\right)} \\right)} \\cos{\\left(\\theta_{0}{\\left(t \\right)} \\right)} - 3 \\nu_{1}^{2}{\\left(t \\right)} \\sin^{3}{\\left(\\theta_{0}{\\left(t \\right)} \\right)} + 5 \\nu_{1}^{2}{\\left(t \\right)} \\sin{\\left(\\theta_{0}{\\left(t \\right)} \\right)} \\cos^{3}{\\left(\\theta_{0}{\\left(t \\right)} \\right)} - 4 \\nu_{1}^{2}{\\left(t \\right)} \\sin{\\left(\\theta_{0}{\\left(t \\right)} \\right)} \\cos{\\left(\\theta_{0}{\\left(t \\right)} \\right)} + 3 \\nu_{1}^{2}{\\left(t \\right)} \\sin{\\left(\\theta_{0}{\\left(t \\right)} \\right)} - 4 \\nu_{1}{\\left(t \\right)} \\nu_{2}{\\left(t \\right)} \\sin^{4}{\\left(\\theta_{0}{\\left(t \\right)} \\right)} + 5 \\nu_{1}{\\left(t \\right)} \\nu_{2}{\\left(t \\right)} \\sin^{2}{\\left(\\theta_{0}{\\left(t \\right)} \\right)} - 6 \\nu_{1}{\\left(t \\right)} \\nu_{2}{\\left(t \\right)} \\cos^{3}{\\left(\\theta_{0}{\\left(t \\right)} \\right)} + 3 \\nu_{1}{\\left(t \\right)} \\nu_{2}{\\left(t \\right)} \\cos{\\left(\\theta_{0}{\\left(t \\right)} \\right)} - \\nu_{1}{\\left(t \\right)} \\nu_{2}{\\left(t \\right)} + 4 \\nu_{1}{\\left(t \\right)} \\nu_{3}{\\left(t \\right)} \\sin^{4}{\\left(\\theta_{0}{\\left(t \\right)} \\right)} - 31 \\nu_{1}{\\left(t \\right)} \\nu_{3}{\\left(t \\right)} \\sin^{2}{\\left(\\theta_{0}{\\left(t \\right)} \\right)} + 8 \\nu_{1}{\\left(t \\right)} \\nu_{3}{\\left(t \\right)} \\cos^{3}{\\left(\\theta_{0}{\\left(t \\right)} \\right)} + 5 \\nu_{1}{\\left(t \\right)} \\nu_{3}{\\left(t \\right)} \\cos{\\left(\\theta_{0}{\\left(t \\right)} \\right)} + 27 \\nu_{1}{\\left(t \\right)} \\nu_{3}{\\left(t \\right)} - 3 \\nu_{2}^{2}{\\left(t \\right)} \\sin^{3}{\\left(\\theta_{0}{\\left(t \\right)} \\right)} \\cos{\\left(\\theta_{0}{\\left(t \\right)} \\right)} + 3 \\nu_{2}^{2}{\\left(t \\right)} \\sin^{3}{\\left(\\theta_{0}{\\left(t \\right)} \\right)} - 5 \\nu_{2}^{2}{\\left(t \\right)} \\sin{\\left(\\theta_{0}{\\left(t \\right)} \\right)} \\cos^{3}{\\left(\\theta_{0}{\\left(t \\right)} \\right)} + 3 \\nu_{2}^{2}{\\left(t \\right)} \\sin{\\left(\\theta_{0}{\\left(t \\right)} \\right)} \\cos{\\left(\\theta_{0}{\\left(t \\right)} \\right)} - 3 \\nu_{2}^{2}{\\left(t \\right)} \\sin{\\left(\\theta_{0}{\\left(t \\right)} \\right)} + 4 \\nu_{2}{\\left(t \\right)} \\nu_{3}{\\left(t \\right)} \\sin^{3}{\\left(\\theta_{0}{\\left(t \\right)} \\right)} \\cos{\\left(\\theta_{0}{\\left(t \\right)} \\right)} - 8 \\nu_{2}{\\left(t \\right)} \\nu_{3}{\\left(t \\right)} \\sin^{3}{\\left(\\theta_{0}{\\left(t \\right)} \\right)} + 8 \\nu_{2}{\\left(t \\right)} \\nu_{3}{\\left(t \\right)} \\sin{\\left(\\theta_{0}{\\left(t \\right)} \\right)} \\cos^{3}{\\left(\\theta_{0}{\\left(t \\right)} \\right)} + 22 \\nu_{2}{\\left(t \\right)} \\nu_{3}{\\left(t \\right)} \\sin{\\left(\\theta_{0}{\\left(t \\right)} \\right)} \\cos{\\left(\\theta_{0}{\\left(t \\right)} \\right)} + 8 \\nu_{2}{\\left(t \\right)} \\nu_{3}{\\left(t \\right)} \\sin{\\left(\\theta_{0}{\\left(t \\right)} \\right)} - \\nu_{3}^{2}{\\left(t \\right)} \\sin^{3}{\\left(\\theta_{0}{\\left(t \\right)} \\right)} \\cos{\\left(\\theta_{0}{\\left(t \\right)} \\right)} + 5 \\nu_{3}^{2}{\\left(t \\right)} \\sin^{3}{\\left(\\theta_{0}{\\left(t \\right)} \\right)} - 3 \\nu_{3}^{2}{\\left(t \\right)} \\sin{\\left(\\theta_{0}{\\left(t \\right)} \\right)} \\cos^{3}{\\left(\\theta_{0}{\\left(t \\right)} \\right)} - 5 \\nu_{3}^{2}{\\left(t \\right)} \\sin{\\left(\\theta_{0}{\\left(t \\right)} \\right)} \\cos{\\left(\\theta_{0}{\\left(t \\right)} \\right)} - 5 \\nu_{3}^{2}{\\left(t \\right)} \\sin{\\left(\\theta_{0}{\\left(t \\right)} \\right)} + 2 \\sin^{3}{\\left(\\theta_{0}{\\left(t \\right)} \\right)} \\frac{d}{d t} \\nu_{1}{\\left(t \\right)} - 30 \\sin^{2}{\\left(\\theta_{0}{\\left(t \\right)} \\right)} \\frac{d}{d t} \\nu_{2}{\\left(t \\right)} - 30 \\sin{\\left(\\theta_{0}{\\left(t \\right)} \\right)} \\cos{\\left(\\theta_{0}{\\left(t \\right)} \\right)} \\frac{d}{d t} \\nu_{1}{\\left(t \\right)} - 2 \\sin{\\left(\\theta_{0}{\\left(t \\right)} \\right)} \\frac{d}{d t} \\nu_{1}{\\left(t \\right)} + 2 \\cos^{3}{\\left(\\theta_{0}{\\left(t \\right)} \\right)} \\frac{d}{d t} \\nu_{2}{\\left(t \\right)} + 8 \\cos{\\left(\\theta_{0}{\\left(t \\right)} \\right)} \\frac{d}{d t} \\nu_{2}{\\left(t \\right)} + 30 \\frac{d}{d t} \\nu_{2}{\\left(t \\right)}\\right) \\sin{\\left(2 \\theta_{0}{\\left(t \\right)} \\right)}}{\\left(20 \\cos^{2}{\\left(\\theta_{0}{\\left(t \\right)} \\right)} - 9 \\cos{\\left(\\theta_{0}{\\left(t \\right)} \\right)} + \\cos{\\left(3 \\theta_{0}{\\left(t \\right)} \\right)}\\right) \\cos{\\left(\\theta_{0}{\\left(t \\right)} \\right)}}$"
      ],
      "text/plain": [
       "((9*cos(theta0(t)) - 10*cos(2*theta0(t)) - cos(3*theta0(t)) - 10)*(5*nu1(t)**2*cos(theta0(t))**3 - 5*nu1(t)**2*cos(theta0(t)) - 10*nu1(t)*nu2(t)*sin(theta0(t))**3 + 10*nu1(t)*nu2(t)*sin(theta0(t)) + 8*nu1(t)*nu3(t)*sin(theta0(t))**3 + 10*nu1(t)*nu3(t)*sin(theta0(t))*cos(theta0(t)) - 8*nu1(t)*nu3(t)*sin(theta0(t)) - 5*nu2(t)**2*cos(theta0(t))**3 + 8*nu2(t)*nu3(t)*cos(theta0(t))**3 - 10*nu2(t)*nu3(t)*cos(theta0(t))**2 - 3*nu3(t)**2*cos(theta0(t))**3 - 2*nu3(t)**2*cos(theta0(t))**2 + 20*sin(theta0(t))*cos(theta0(t))*Derivative(nu2(t), t) + 20*cos(theta0(t))**2*Derivative(nu1(t), t))/4 + (3*nu1(t)**2*sin(theta0(t))**3*cos(theta0(t)) - 3*nu1(t)**2*sin(theta0(t))**3 + 5*nu1(t)**2*sin(theta0(t))*cos(theta0(t))**3 - 4*nu1(t)**2*sin(theta0(t))*cos(theta0(t)) + 3*nu1(t)**2*sin(theta0(t)) - 4*nu1(t)*nu2(t)*sin(theta0(t))**4 + 5*nu1(t)*nu2(t)*sin(theta0(t))**2 - 6*nu1(t)*nu2(t)*cos(theta0(t))**3 + 3*nu1(t)*nu2(t)*cos(theta0(t)) - nu1(t)*nu2(t) + 4*nu1(t)*nu3(t)*sin(theta0(t))**4 - 31*nu1(t)*nu3(t)*sin(theta0(t))**2 + 8*nu1(t)*nu3(t)*cos(theta0(t))**3 + 5*nu1(t)*nu3(t)*cos(theta0(t)) + 27*nu1(t)*nu3(t) - 3*nu2(t)**2*sin(theta0(t))**3*cos(theta0(t)) + 3*nu2(t)**2*sin(theta0(t))**3 - 5*nu2(t)**2*sin(theta0(t))*cos(theta0(t))**3 + 3*nu2(t)**2*sin(theta0(t))*cos(theta0(t)) - 3*nu2(t)**2*sin(theta0(t)) + 4*nu2(t)*nu3(t)*sin(theta0(t))**3*cos(theta0(t)) - 8*nu2(t)*nu3(t)*sin(theta0(t))**3 + 8*nu2(t)*nu3(t)*sin(theta0(t))*cos(theta0(t))**3 + 22*nu2(t)*nu3(t)*sin(theta0(t))*cos(theta0(t)) + 8*nu2(t)*nu3(t)*sin(theta0(t)) - nu3(t)**2*sin(theta0(t))**3*cos(theta0(t)) + 5*nu3(t)**2*sin(theta0(t))**3 - 3*nu3(t)**2*sin(theta0(t))*cos(theta0(t))**3 - 5*nu3(t)**2*sin(theta0(t))*cos(theta0(t)) - 5*nu3(t)**2*sin(theta0(t)) + 2*sin(theta0(t))**3*Derivative(nu1(t), t) - 30*sin(theta0(t))**2*Derivative(nu2(t), t) - 30*sin(theta0(t))*cos(theta0(t))*Derivative(nu1(t), t) - 2*sin(theta0(t))*Derivative(nu1(t), t) + 2*cos(theta0(t))**3*Derivative(nu2(t), t) + 8*cos(theta0(t))*Derivative(nu2(t), t) + 30*Derivative(nu2(t), t))*sin(2*theta0(t)))/((20*cos(theta0(t))**2 - 9*cos(theta0(t)) + cos(3*theta0(t)))*cos(theta0(t)))"
      ]
     },
     "metadata": {},
     "output_type": "display_data"
    },
    {
     "data": {
      "text/markdown": [
       "---"
      ],
      "text/plain": [
       "<IPython.core.display.Markdown object>"
      ]
     },
     "metadata": {},
     "output_type": "display_data"
    },
    {
     "data": {
      "text/latex": [
       "$\\displaystyle - \\frac{- 20 \\left(\\cos{\\left(2 \\theta_{0}{\\left(t \\right)} \\right)} - 1\\right)^{2} \\nu_{1}{\\left(t \\right)} \\nu_{2}{\\left(t \\right)} \\cos{\\left(\\theta_{0}{\\left(t \\right)} \\right)} + 20 \\left(\\cos{\\left(2 \\theta_{0}{\\left(t \\right)} \\right)} - 1\\right)^{2} \\nu_{1}{\\left(t \\right)} \\nu_{2}{\\left(t \\right)} + 20 \\left(\\cos{\\left(2 \\theta_{0}{\\left(t \\right)} \\right)} - 1\\right)^{2} \\nu_{1}{\\left(t \\right)} \\nu_{3}{\\left(t \\right)} \\cos{\\left(\\theta_{0}{\\left(t \\right)} \\right)} - 26 \\left(\\cos{\\left(2 \\theta_{0}{\\left(t \\right)} \\right)} - 1\\right)^{2} \\nu_{1}{\\left(t \\right)} \\nu_{3}{\\left(t \\right)} - 20 \\left(\\cos{\\left(2 \\theta_{0}{\\left(t \\right)} \\right)} - 1\\right)^{2} \\frac{d}{d t} \\nu_{2}{\\left(t \\right)} + \\frac{25 \\nu_{1}^{2}{\\left(t \\right)} \\sin{\\left(\\theta_{0}{\\left(t \\right)} \\right)}}{2} - 10 \\nu_{1}^{2}{\\left(t \\right)} \\sin{\\left(2 \\theta_{0}{\\left(t \\right)} \\right)} + \\frac{55 \\nu_{1}^{2}{\\left(t \\right)} \\sin{\\left(3 \\theta_{0}{\\left(t \\right)} \\right)}}{4} - 5 \\nu_{1}^{2}{\\left(t \\right)} \\sin{\\left(4 \\theta_{0}{\\left(t \\right)} \\right)} + \\frac{5 \\nu_{1}^{2}{\\left(t \\right)} \\sin{\\left(5 \\theta_{0}{\\left(t \\right)} \\right)}}{4} - 15 \\nu_{1}{\\left(t \\right)} \\nu_{2}{\\left(t \\right)} \\cos{\\left(\\theta_{0}{\\left(t \\right)} \\right)} + 60 \\nu_{1}{\\left(t \\right)} \\nu_{2}{\\left(t \\right)} \\cos{\\left(2 \\theta_{0}{\\left(t \\right)} \\right)} - \\frac{95 \\nu_{1}{\\left(t \\right)} \\nu_{2}{\\left(t \\right)} \\cos{\\left(3 \\theta_{0}{\\left(t \\right)} \\right)}}{2} + \\frac{5 \\nu_{1}{\\left(t \\right)} \\nu_{2}{\\left(t \\right)} \\cos{\\left(5 \\theta_{0}{\\left(t \\right)} \\right)}}{2} - 20 \\nu_{1}{\\left(t \\right)} \\nu_{2}{\\left(t \\right)} + 20 \\nu_{1}{\\left(t \\right)} \\nu_{3}{\\left(t \\right)} \\cos{\\left(\\theta_{0}{\\left(t \\right)} \\right)} + 132 \\nu_{1}{\\left(t \\right)} \\nu_{3}{\\left(t \\right)} \\cos{\\left(2 \\theta_{0}{\\left(t \\right)} \\right)} + 42 \\nu_{1}{\\left(t \\right)} \\nu_{3}{\\left(t \\right)} \\cos{\\left(3 \\theta_{0}{\\left(t \\right)} \\right)} - 2 \\nu_{1}{\\left(t \\right)} \\nu_{3}{\\left(t \\right)} \\cos{\\left(5 \\theta_{0}{\\left(t \\right)} \\right)} + 236 \\nu_{1}{\\left(t \\right)} \\nu_{3}{\\left(t \\right)} - \\frac{35 \\nu_{2}^{2}{\\left(t \\right)} \\sin{\\left(\\theta_{0}{\\left(t \\right)} \\right)}}{2} + 10 \\nu_{2}^{2}{\\left(t \\right)} \\sin{\\left(2 \\theta_{0}{\\left(t \\right)} \\right)} - \\frac{75 \\nu_{2}^{2}{\\left(t \\right)} \\sin{\\left(3 \\theta_{0}{\\left(t \\right)} \\right)}}{4} + 5 \\nu_{2}^{2}{\\left(t \\right)} \\sin{\\left(4 \\theta_{0}{\\left(t \\right)} \\right)} - \\frac{5 \\nu_{2}^{2}{\\left(t \\right)} \\sin{\\left(5 \\theta_{0}{\\left(t \\right)} \\right)}}{4} + 30 \\nu_{2}{\\left(t \\right)} \\nu_{3}{\\left(t \\right)} \\sin{\\left(\\theta_{0}{\\left(t \\right)} \\right)} + 130 \\nu_{2}{\\left(t \\right)} \\nu_{3}{\\left(t \\right)} \\sin{\\left(2 \\theta_{0}{\\left(t \\right)} \\right)} + 33 \\nu_{2}{\\left(t \\right)} \\nu_{3}{\\left(t \\right)} \\sin{\\left(3 \\theta_{0}{\\left(t \\right)} \\right)} - 13 \\nu_{2}{\\left(t \\right)} \\nu_{3}{\\left(t \\right)} \\sin{\\left(4 \\theta_{0}{\\left(t \\right)} \\right)} + 3 \\nu_{2}{\\left(t \\right)} \\nu_{3}{\\left(t \\right)} \\sin{\\left(5 \\theta_{0}{\\left(t \\right)} \\right)} - \\frac{25 \\nu_{3}^{2}{\\left(t \\right)} \\sin{\\left(\\theta_{0}{\\left(t \\right)} \\right)}}{2} - 40 \\nu_{3}^{2}{\\left(t \\right)} \\sin{\\left(2 \\theta_{0}{\\left(t \\right)} \\right)} - \\frac{57 \\nu_{3}^{2}{\\left(t \\right)} \\sin{\\left(3 \\theta_{0}{\\left(t \\right)} \\right)}}{4} - 2 \\nu_{3}^{2}{\\left(t \\right)} \\sin{\\left(4 \\theta_{0}{\\left(t \\right)} \\right)} - \\frac{7 \\nu_{3}^{2}{\\left(t \\right)} \\sin{\\left(5 \\theta_{0}{\\left(t \\right)} \\right)}}{4} - 160 \\sin{\\left(2 \\theta_{0}{\\left(t \\right)} \\right)} \\frac{d}{d t} \\nu_{1}{\\left(t \\right)} + 10 \\sin{\\left(4 \\theta_{0}{\\left(t \\right)} \\right)} \\frac{d}{d t} \\nu_{1}{\\left(t \\right)} + 180 \\cos{\\left(2 \\theta_{0}{\\left(t \\right)} \\right)} \\frac{d}{d t} \\nu_{2}{\\left(t \\right)} + 260 \\frac{d}{d t} \\nu_{2}{\\left(t \\right)}}{- 18 \\cos{\\left(\\theta_{0}{\\left(t \\right)} \\right)} + 20 \\cos{\\left(2 \\theta_{0}{\\left(t \\right)} \\right)} + 2 \\cos{\\left(3 \\theta_{0}{\\left(t \\right)} \\right)} + 20}$"
      ],
      "text/plain": [
       "-(-20*(cos(2*theta0(t)) - 1)**2*nu1(t)*nu2(t)*cos(theta0(t)) + 20*(cos(2*theta0(t)) - 1)**2*nu1(t)*nu2(t) + 20*(cos(2*theta0(t)) - 1)**2*nu1(t)*nu3(t)*cos(theta0(t)) - 26*(cos(2*theta0(t)) - 1)**2*nu1(t)*nu3(t) - 20*(cos(2*theta0(t)) - 1)**2*Derivative(nu2(t), t) + 25*nu1(t)**2*sin(theta0(t))/2 - 10*nu1(t)**2*sin(2*theta0(t)) + 55*nu1(t)**2*sin(3*theta0(t))/4 - 5*nu1(t)**2*sin(4*theta0(t)) + 5*nu1(t)**2*sin(5*theta0(t))/4 - 15*nu1(t)*nu2(t)*cos(theta0(t)) + 60*nu1(t)*nu2(t)*cos(2*theta0(t)) - 95*nu1(t)*nu2(t)*cos(3*theta0(t))/2 + 5*nu1(t)*nu2(t)*cos(5*theta0(t))/2 - 20*nu1(t)*nu2(t) + 20*nu1(t)*nu3(t)*cos(theta0(t)) + 132*nu1(t)*nu3(t)*cos(2*theta0(t)) + 42*nu1(t)*nu3(t)*cos(3*theta0(t)) - 2*nu1(t)*nu3(t)*cos(5*theta0(t)) + 236*nu1(t)*nu3(t) - 35*nu2(t)**2*sin(theta0(t))/2 + 10*nu2(t)**2*sin(2*theta0(t)) - 75*nu2(t)**2*sin(3*theta0(t))/4 + 5*nu2(t)**2*sin(4*theta0(t)) - 5*nu2(t)**2*sin(5*theta0(t))/4 + 30*nu2(t)*nu3(t)*sin(theta0(t)) + 130*nu2(t)*nu3(t)*sin(2*theta0(t)) + 33*nu2(t)*nu3(t)*sin(3*theta0(t)) - 13*nu2(t)*nu3(t)*sin(4*theta0(t)) + 3*nu2(t)*nu3(t)*sin(5*theta0(t)) - 25*nu3(t)**2*sin(theta0(t))/2 - 40*nu3(t)**2*sin(2*theta0(t)) - 57*nu3(t)**2*sin(3*theta0(t))/4 - 2*nu3(t)**2*sin(4*theta0(t)) - 7*nu3(t)**2*sin(5*theta0(t))/4 - 160*sin(2*theta0(t))*Derivative(nu1(t), t) + 10*sin(4*theta0(t))*Derivative(nu1(t), t) + 180*cos(2*theta0(t))*Derivative(nu2(t), t) + 260*Derivative(nu2(t), t))/(-18*cos(theta0(t)) + 20*cos(2*theta0(t)) + 2*cos(3*theta0(t)) + 20)"
      ]
     },
     "metadata": {},
     "output_type": "display_data"
    },
    {
     "data": {
      "text/markdown": [
       "---"
      ],
      "text/plain": [
       "<IPython.core.display.Markdown object>"
      ]
     },
     "metadata": {},
     "output_type": "display_data"
    },
    {
     "data": {
      "text/latex": [
       "$\\displaystyle \\frac{6 \\nu_{1}^{2}{\\left(t \\right)} \\sin^{3}{\\left(\\theta_{0}{\\left(t \\right)} \\right)} \\cos{\\left(\\theta_{0}{\\left(t \\right)} \\right)} - 6 \\nu_{1}^{2}{\\left(t \\right)} \\sin^{3}{\\left(\\theta_{0}{\\left(t \\right)} \\right)} + 10 \\nu_{1}^{2}{\\left(t \\right)} \\sin{\\left(\\theta_{0}{\\left(t \\right)} \\right)} \\cos^{3}{\\left(\\theta_{0}{\\left(t \\right)} \\right)} - 8 \\nu_{1}^{2}{\\left(t \\right)} \\sin{\\left(\\theta_{0}{\\left(t \\right)} \\right)} \\cos{\\left(\\theta_{0}{\\left(t \\right)} \\right)} + 6 \\nu_{1}^{2}{\\left(t \\right)} \\sin{\\left(\\theta_{0}{\\left(t \\right)} \\right)} - 8 \\nu_{1}{\\left(t \\right)} \\nu_{2}{\\left(t \\right)} \\sin^{4}{\\left(\\theta_{0}{\\left(t \\right)} \\right)} + 10 \\nu_{1}{\\left(t \\right)} \\nu_{2}{\\left(t \\right)} \\sin^{2}{\\left(\\theta_{0}{\\left(t \\right)} \\right)} - 12 \\nu_{1}{\\left(t \\right)} \\nu_{2}{\\left(t \\right)} \\cos^{3}{\\left(\\theta_{0}{\\left(t \\right)} \\right)} + 6 \\nu_{1}{\\left(t \\right)} \\nu_{2}{\\left(t \\right)} \\cos{\\left(\\theta_{0}{\\left(t \\right)} \\right)} - 2 \\nu_{1}{\\left(t \\right)} \\nu_{2}{\\left(t \\right)} + 8 \\nu_{1}{\\left(t \\right)} \\nu_{3}{\\left(t \\right)} \\sin^{4}{\\left(\\theta_{0}{\\left(t \\right)} \\right)} - 62 \\nu_{1}{\\left(t \\right)} \\nu_{3}{\\left(t \\right)} \\sin^{2}{\\left(\\theta_{0}{\\left(t \\right)} \\right)} + 16 \\nu_{1}{\\left(t \\right)} \\nu_{3}{\\left(t \\right)} \\cos^{3}{\\left(\\theta_{0}{\\left(t \\right)} \\right)} + 10 \\nu_{1}{\\left(t \\right)} \\nu_{3}{\\left(t \\right)} \\cos{\\left(\\theta_{0}{\\left(t \\right)} \\right)} + 54 \\nu_{1}{\\left(t \\right)} \\nu_{3}{\\left(t \\right)} - 6 \\nu_{2}^{2}{\\left(t \\right)} \\sin^{3}{\\left(\\theta_{0}{\\left(t \\right)} \\right)} \\cos{\\left(\\theta_{0}{\\left(t \\right)} \\right)} + 6 \\nu_{2}^{2}{\\left(t \\right)} \\sin^{3}{\\left(\\theta_{0}{\\left(t \\right)} \\right)} - 10 \\nu_{2}^{2}{\\left(t \\right)} \\sin{\\left(\\theta_{0}{\\left(t \\right)} \\right)} \\cos^{3}{\\left(\\theta_{0}{\\left(t \\right)} \\right)} + 6 \\nu_{2}^{2}{\\left(t \\right)} \\sin{\\left(\\theta_{0}{\\left(t \\right)} \\right)} \\cos{\\left(\\theta_{0}{\\left(t \\right)} \\right)} - 6 \\nu_{2}^{2}{\\left(t \\right)} \\sin{\\left(\\theta_{0}{\\left(t \\right)} \\right)} + 8 \\nu_{2}{\\left(t \\right)} \\nu_{3}{\\left(t \\right)} \\sin^{3}{\\left(\\theta_{0}{\\left(t \\right)} \\right)} \\cos{\\left(\\theta_{0}{\\left(t \\right)} \\right)} - 16 \\nu_{2}{\\left(t \\right)} \\nu_{3}{\\left(t \\right)} \\sin^{3}{\\left(\\theta_{0}{\\left(t \\right)} \\right)} + 16 \\nu_{2}{\\left(t \\right)} \\nu_{3}{\\left(t \\right)} \\sin{\\left(\\theta_{0}{\\left(t \\right)} \\right)} \\cos^{3}{\\left(\\theta_{0}{\\left(t \\right)} \\right)} + 44 \\nu_{2}{\\left(t \\right)} \\nu_{3}{\\left(t \\right)} \\sin{\\left(\\theta_{0}{\\left(t \\right)} \\right)} \\cos{\\left(\\theta_{0}{\\left(t \\right)} \\right)} + 16 \\nu_{2}{\\left(t \\right)} \\nu_{3}{\\left(t \\right)} \\sin{\\left(\\theta_{0}{\\left(t \\right)} \\right)} - 2 \\nu_{3}^{2}{\\left(t \\right)} \\sin^{3}{\\left(\\theta_{0}{\\left(t \\right)} \\right)} \\cos{\\left(\\theta_{0}{\\left(t \\right)} \\right)} + 10 \\nu_{3}^{2}{\\left(t \\right)} \\sin^{3}{\\left(\\theta_{0}{\\left(t \\right)} \\right)} - 6 \\nu_{3}^{2}{\\left(t \\right)} \\sin{\\left(\\theta_{0}{\\left(t \\right)} \\right)} \\cos^{3}{\\left(\\theta_{0}{\\left(t \\right)} \\right)} - 10 \\nu_{3}^{2}{\\left(t \\right)} \\sin{\\left(\\theta_{0}{\\left(t \\right)} \\right)} \\cos{\\left(\\theta_{0}{\\left(t \\right)} \\right)} - 10 \\nu_{3}^{2}{\\left(t \\right)} \\sin{\\left(\\theta_{0}{\\left(t \\right)} \\right)} + 4 \\sin^{3}{\\left(\\theta_{0}{\\left(t \\right)} \\right)} \\frac{d}{d t} \\nu_{1}{\\left(t \\right)} - 60 \\sin^{2}{\\left(\\theta_{0}{\\left(t \\right)} \\right)} \\frac{d}{d t} \\nu_{2}{\\left(t \\right)} - 60 \\sin{\\left(\\theta_{0}{\\left(t \\right)} \\right)} \\cos{\\left(\\theta_{0}{\\left(t \\right)} \\right)} \\frac{d}{d t} \\nu_{1}{\\left(t \\right)} - 4 \\sin{\\left(\\theta_{0}{\\left(t \\right)} \\right)} \\frac{d}{d t} \\nu_{1}{\\left(t \\right)} + 4 \\cos^{3}{\\left(\\theta_{0}{\\left(t \\right)} \\right)} \\frac{d}{d t} \\nu_{2}{\\left(t \\right)} + 16 \\cos{\\left(\\theta_{0}{\\left(t \\right)} \\right)} \\frac{d}{d t} \\nu_{2}{\\left(t \\right)} + 60 \\frac{d}{d t} \\nu_{2}{\\left(t \\right)}}{20 \\cos^{2}{\\left(\\theta_{0}{\\left(t \\right)} \\right)} - 9 \\cos{\\left(\\theta_{0}{\\left(t \\right)} \\right)} + \\cos{\\left(3 \\theta_{0}{\\left(t \\right)} \\right)}}$"
      ],
      "text/plain": [
       "(6*nu1(t)**2*sin(theta0(t))**3*cos(theta0(t)) - 6*nu1(t)**2*sin(theta0(t))**3 + 10*nu1(t)**2*sin(theta0(t))*cos(theta0(t))**3 - 8*nu1(t)**2*sin(theta0(t))*cos(theta0(t)) + 6*nu1(t)**2*sin(theta0(t)) - 8*nu1(t)*nu2(t)*sin(theta0(t))**4 + 10*nu1(t)*nu2(t)*sin(theta0(t))**2 - 12*nu1(t)*nu2(t)*cos(theta0(t))**3 + 6*nu1(t)*nu2(t)*cos(theta0(t)) - 2*nu1(t)*nu2(t) + 8*nu1(t)*nu3(t)*sin(theta0(t))**4 - 62*nu1(t)*nu3(t)*sin(theta0(t))**2 + 16*nu1(t)*nu3(t)*cos(theta0(t))**3 + 10*nu1(t)*nu3(t)*cos(theta0(t)) + 54*nu1(t)*nu3(t) - 6*nu2(t)**2*sin(theta0(t))**3*cos(theta0(t)) + 6*nu2(t)**2*sin(theta0(t))**3 - 10*nu2(t)**2*sin(theta0(t))*cos(theta0(t))**3 + 6*nu2(t)**2*sin(theta0(t))*cos(theta0(t)) - 6*nu2(t)**2*sin(theta0(t)) + 8*nu2(t)*nu3(t)*sin(theta0(t))**3*cos(theta0(t)) - 16*nu2(t)*nu3(t)*sin(theta0(t))**3 + 16*nu2(t)*nu3(t)*sin(theta0(t))*cos(theta0(t))**3 + 44*nu2(t)*nu3(t)*sin(theta0(t))*cos(theta0(t)) + 16*nu2(t)*nu3(t)*sin(theta0(t)) - 2*nu3(t)**2*sin(theta0(t))**3*cos(theta0(t)) + 10*nu3(t)**2*sin(theta0(t))**3 - 6*nu3(t)**2*sin(theta0(t))*cos(theta0(t))**3 - 10*nu3(t)**2*sin(theta0(t))*cos(theta0(t)) - 10*nu3(t)**2*sin(theta0(t)) + 4*sin(theta0(t))**3*Derivative(nu1(t), t) - 60*sin(theta0(t))**2*Derivative(nu2(t), t) - 60*sin(theta0(t))*cos(theta0(t))*Derivative(nu1(t), t) - 4*sin(theta0(t))*Derivative(nu1(t), t) + 4*cos(theta0(t))**3*Derivative(nu2(t), t) + 16*cos(theta0(t))*Derivative(nu2(t), t) + 60*Derivative(nu2(t), t))/(20*cos(theta0(t))**2 - 9*cos(theta0(t)) + cos(3*theta0(t)))"
      ]
     },
     "metadata": {},
     "output_type": "display_data"
    }
   ],
   "source": [
    "display_list(resTWNU3.args[0], spaces=True)"
   ]
  },
  {
   "cell_type": "markdown",
   "metadata": {},
   "source": [
    "### Matrix for $T, W, \\dot{nu_3}$ "
   ]
  },
  {
   "cell_type": "code",
   "execution_count": 54,
   "metadata": {},
   "outputs": [],
   "source": [
    "# mat = linear_eq_to_matrix(eqs, [T[1], W[1], Derivative(nu[3], t)])\n",
    "\n",
    "_T1, _W1, _DNU_3 = symbols('_T1, _W1, _DNU_3')\n",
    "\n",
    "tmp = copy(eqs)\n",
    "\n",
    "for i, eq in enumerate(tmp):\n",
    "    tmp[i] = eq.subs({\n",
    "        T[1]: _T1,\n",
    "        W[1]: _W1,\n",
    "        Derivative(nu[3], t): _DNU_3\n",
    "    })\n",
    "\n",
    "mat = linear_eq_to_matrix(tmp, [_T1, _W1, _DNU_3])"
   ]
  },
  {
   "cell_type": "code",
   "execution_count": null,
   "metadata": {},
   "outputs": [],
   "source": [
    "mat2 = simplify(mat[0])"
   ]
  },
  {
   "cell_type": "code",
   "execution_count": 65,
   "metadata": {},
   "outputs": [
    {
     "data": {
      "text/latex": [
       "$\\displaystyle \\left[\\begin{matrix}- \\frac{\\cos{\\left(\\theta_{0}{\\left(t \\right)} \\right)}}{r} & - \\frac{\\sin{\\left(\\theta_{0}{\\left(t \\right)} \\right)}}{d} & - \\frac{b \\sin{\\left(\\theta_{0}{\\left(t \\right)} \\right)} \\cos{\\left(\\beta_{0} - \\theta_{0}{\\left(t \\right)} \\right)}}{d^{2}} - \\frac{c \\sin{\\left(\\beta_{0} - \\theta_{0}{\\left(t \\right)} \\right)} \\cos{\\left(\\theta_{0}{\\left(t \\right)} \\right)}}{r^{2}} - 2 m_{2} \\sin{\\left(\\theta_{0}{\\left(t \\right)} \\right)} \\cos{\\left(\\beta_{0} - \\theta_{0}{\\left(t \\right)} \\right)}\\\\- \\frac{\\sin{\\left(\\theta_{0}{\\left(t \\right)} \\right)}}{r} & \\frac{\\cos{\\left(\\theta_{0}{\\left(t \\right)} \\right)}}{d} & \\frac{b \\cos{\\left(\\beta_{0} - \\theta_{0}{\\left(t \\right)} \\right)} \\cos{\\left(\\theta_{0}{\\left(t \\right)} \\right)}}{d^{2}} - \\frac{c \\sin{\\left(\\beta_{0} - \\theta_{0}{\\left(t \\right)} \\right)} \\sin{\\left(\\theta_{0}{\\left(t \\right)} \\right)}}{r^{2}} + m_{2} \\cos{\\left(\\beta_{0} \\right)} + m_{2} \\cos{\\left(\\beta_{0} - 2 \\theta_{0}{\\left(t \\right)} \\right)}\\\\\\frac{\\sin{\\left(\\beta_{0} - \\theta_{0}{\\left(t \\right)} \\right)}}{r} & \\frac{d + \\cos{\\left(\\beta_{0} - \\theta_{0}{\\left(t \\right)} \\right)}}{d} & a + \\frac{b \\cos^{2}{\\left(\\beta_{0} - \\theta_{0}{\\left(t \\right)} \\right)}}{d^{2}} + \\frac{c \\sin^{2}{\\left(\\beta_{0} - \\theta_{0}{\\left(t \\right)} \\right)}}{r^{2}} + m_{2} \\cos^{2}{\\left(\\beta_{0} - \\theta_{0}{\\left(t \\right)} \\right)}\\end{matrix}\\right]$"
      ],
      "text/plain": [
       "Matrix([\n",
       "[       -cos(theta0(t))/r,              -sin(theta0(t))/d, -b*sin(theta0(t))*cos(beta0 - theta0(t))/d**2 - c*sin(beta0 - theta0(t))*cos(theta0(t))/r**2 - 2*m2*sin(theta0(t))*cos(beta0 - theta0(t))],\n",
       "[       -sin(theta0(t))/r,               cos(theta0(t))/d, b*cos(beta0 - theta0(t))*cos(theta0(t))/d**2 - c*sin(beta0 - theta0(t))*sin(theta0(t))/r**2 + m2*cos(beta0) + m2*cos(beta0 - 2*theta0(t))],\n",
       "[sin(beta0 - theta0(t))/r, (d + cos(beta0 - theta0(t)))/d,                                    a + b*cos(beta0 - theta0(t))**2/d**2 + c*sin(beta0 - theta0(t))**2/r**2 + m2*cos(beta0 - theta0(t))**2]])"
      ]
     },
     "execution_count": 65,
     "metadata": {},
     "output_type": "execute_result"
    }
   ],
   "source": [
    "mat2"
   ]
  },
  {
   "cell_type": "markdown",
   "metadata": {},
   "source": [
    "### Condition"
   ]
  },
  {
   "cell_type": "code",
   "execution_count": 82,
   "metadata": {},
   "outputs": [],
   "source": [
    "det = simplify(mat2.det().subs({beta[0]: 0}))"
   ]
  },
  {
   "cell_type": "code",
   "execution_count": 97,
   "metadata": {},
   "outputs": [
    {
     "data": {
      "text/latex": [
       "$\\displaystyle \\frac{- a d + b \\cos{\\left(\\theta_{0}{\\left(t \\right)} \\right)} + 2 d^{2} m_{2} \\cos{\\left(\\theta_{0}{\\left(t \\right)} \\right)} + d m_{2} \\cos^{2}{\\left(\\theta_{0}{\\left(t \\right)} \\right)}}{d^{2} r}$"
      ],
      "text/plain": [
       "(-a*d + b*cos(theta0(t)) + 2*d**2*m2*cos(theta0(t)) + d*m2*cos(theta0(t))**2)/(d**2*r)"
      ]
     },
     "execution_count": 97,
     "metadata": {},
     "output_type": "execute_result"
    }
   ],
   "source": [
    "det"
   ]
  },
  {
   "cell_type": "code",
   "execution_count": 96,
   "metadata": {},
   "outputs": [
    {
     "data": {
      "text/plain": [
       "[(-b - 2*d**2*m2 + sqrt(4*a*d**2*m2 + b**2 + 4*b*d**2*m2 + 4*d**4*m2**2))/(2*d*m2),\n",
       " -(b + 2*d**2*m2 + sqrt(4*a*d**2*m2 + b**2 + 4*b*d**2*m2 + 4*d**4*m2**2))/(2*d*m2)]"
      ]
     },
     "execution_count": 96,
     "metadata": {},
     "output_type": "execute_result"
    }
   ],
   "source": [
    "solve(det, cos(theta[0]))"
   ]
  },
  {
   "cell_type": "code",
   "execution_count": 98,
   "metadata": {},
   "outputs": [],
   "source": [
    "det_sqrt = 4*a*d**2*m['wheel'] + b**2 + 4*b*d**2*m['wheel'] + 4*d**4*m['wheel']**2"
   ]
  },
  {
   "cell_type": "code",
   "execution_count": 99,
   "metadata": {},
   "outputs": [
    {
     "data": {
      "text/latex": [
       "$\\displaystyle 4 a d^{2} m_{2} + b^{2} + 4 b d^{2} m_{2} + 4 d^{4} m_{2}^{2}$"
      ],
      "text/plain": [
       "4*a*d**2*m2 + b**2 + 4*b*d**2*m2 + 4*d**4*m2**2"
      ]
     },
     "execution_count": 99,
     "metadata": {},
     "output_type": "execute_result"
    }
   ],
   "source": [
    "det_sqrt"
   ]
  },
  {
   "cell_type": "code",
   "execution_count": 113,
   "metadata": {},
   "outputs": [],
   "source": [
    "tmp = simplify(det.subs({cos(theta[0]): -1}) * det.subs({cos(theta[0]): 1}))"
   ]
  },
  {
   "cell_type": "code",
   "execution_count": 117,
   "metadata": {},
   "outputs": [
    {
     "data": {
      "text/latex": [
       "$\\displaystyle - \\left(- a d + b + 2 d^{2} m_{2} + d m_{2}\\right) \\left(a d + b + 2 d^{2} m_{2} - d m_{2}\\right) > 0$"
      ],
      "text/plain": [
       "-(-a*d + b + 2*d**2*m2 + d*m2)*(a*d + b + 2*d**2*m2 - d*m2) > 0"
      ]
     },
     "execution_count": 117,
     "metadata": {},
     "output_type": "execute_result"
    }
   ],
   "source": [
    "condition = simplify(tmp*r**2*d**4)\n",
    "condition > 0"
   ]
  },
  {
   "cell_type": "code",
   "execution_count": null,
   "metadata": {},
   "outputs": [],
   "source": []
  },
  {
   "cell_type": "code",
   "execution_count": null,
   "metadata": {},
   "outputs": [],
   "source": []
  },
  {
   "cell_type": "code",
   "execution_count": null,
   "metadata": {},
   "outputs": [],
   "source": []
  },
  {
   "cell_type": "code",
   "execution_count": 176,
   "metadata": {},
   "outputs": [],
   "source": [
    "class SolveByTW:\n",
    "    def __init__(self, T, W, x, y, nu1, nu2):\n",
    "        self.T = T\n",
    "        self.W = W\n",
    "        self.x = x\n",
    "        self.y = y\n",
    "        self.nu1 = self._subs_xy(nu1).doit()\n",
    "        self.nu2 = self._subs_xy(nu2).doit()\n",
    "    \n",
    "    def _solve_by_TW(self):\n",
    "        pass\n",
    "    \n",
    "    def set_xy(self, x_eq, y_eq):\n",
    "        pass\n",
    "    \n",
    "    def _subs_xy(self, eq):\n",
    "        return eq.subs({\n",
    "            x: self.x,\n",
    "            y: self.y\n",
    "        })\n",
    "    \n",
    "    def _subs_nu(self, eq):\n",
    "        return eq.subs({\n",
    "            nu[1]: self.nu1,\n",
    "            nu[2]: self.nu2\n",
    "        })\n",
    "    \n",
    "    def _subs_derivative_nu(self, eq):\n",
    "        return eq.subs({\n",
    "            Derivative(nu[1],t): self.nu1.diff(t),\n",
    "            Derivative(nu[2],t): self.nu2.diff(t)\n",
    "        })\n",
    "    \n",
    "    def _subs_all(self, eq):\n",
    "        return self._subs_conn(self._subs_nu(self._subs_derivative_nu(eq)))\n",
    "    \n",
    "    def _subs_conn(self, eq):\n",
    "        return S.sub_constraints(eq)\n",
    "    \n",
    "    def solve(self):\n",
    "        self.res = [\n",
    "            simplify(Eq(T[1], self._subs_all(self.T))),\n",
    "            simplify(Eq(W[1], self._subs_all(self.W)))\n",
    "        ]\n",
    "    \n",
    "    def get_res(self):\n",
    "        return self.res"
   ]
  },
  {
   "cell_type": "code",
   "execution_count": 369,
   "metadata": {},
   "outputs": [
    {
     "name": "stdout",
     "output_type": "stream",
     "text": [
      "CPU times: user 45 s, sys: 635 ms, total: 45.6 s\n",
      "Wall time: 48.1 s\n"
     ]
    }
   ],
   "source": [
    "%%time\n",
    "STW = SolveByTW(\n",
    "    T=eq['T'],\n",
    "    W=eq['W'],\n",
    "    x=sin(t),\n",
    "    y=cos(t),\n",
    "    nu1=eq['nu1(x,y)'].args[1],\n",
    "    nu2=eq['nu2(x,y)'].args[1],\n",
    ")\n",
    "\n",
    "STW.solve()"
   ]
  },
  {
   "cell_type": "code",
   "execution_count": 187,
   "metadata": {},
   "outputs": [],
   "source": [
    "# for _eq in STW.get_res():\n",
    "#     display(_eq)"
   ]
  },
  {
   "cell_type": "code",
   "execution_count": null,
   "metadata": {},
   "outputs": [],
   "source": []
  },
  {
   "cell_type": "code",
   "execution_count": null,
   "metadata": {},
   "outputs": [],
   "source": []
  },
  {
   "cell_type": "code",
   "execution_count": null,
   "metadata": {},
   "outputs": [],
   "source": []
  },
  {
   "cell_type": "markdown",
   "metadata": {},
   "source": [
    "###### *Save*"
   ]
  },
  {
   "cell_type": "code",
   "execution_count": 374,
   "metadata": {},
   "outputs": [],
   "source": [
    "save(STW, 'STW')"
   ]
  },
  {
   "cell_type": "markdown",
   "metadata": {},
   "source": [
    "### SolveByNuTheta"
   ]
  },
  {
   "cell_type": "code",
   "execution_count": 214,
   "metadata": {},
   "outputs": [],
   "source": [
    "class SolveByNuTheta(SolveByTW):\n",
    "    def __init__(self, *args, **kwargs):\n",
    "        super().__init__(*args, **kwargs)\n",
    "    \n",
    "    def solve(self):\n",
    "        super().solve()\n",
    "        \n",
    "        # nu3' = f(nu3, alpha, theta, t)\n",
    "        nu3_eq = subs_Eqs(eqs[2], self.get_res())\n",
    "        nu3_eq = par_subs(nu3_eq)\n",
    "        nu3_eq = self._subs_all(nu3_eq)\n",
    "        nu3_eq = solve(nu3_eq, Derivative(nu[3], t))\n",
    "        nu3_eq = Eq(Derivative(nu[3], t), nu3_eq[0])\n",
    "\n",
    "        # Theta' = g(nu3, alpha, theta, t)\n",
    "        theta_eq = self._subs_nu(S.constraints[3])\n",
    "        theta_eq = par_subs(theta_eq)\n",
    "        \n",
    "        # alpha' = r(nu3)\n",
    "        alpha_eq = S.constraints[2]\n",
    "        \n",
    "        self.res = [simplify(nu3_eq),\n",
    "                    simplify(theta_eq),\n",
    "                    alpha_eq]"
   ]
  },
  {
   "cell_type": "code",
   "execution_count": 215,
   "metadata": {},
   "outputs": [
    {
     "name": "stdout",
     "output_type": "stream",
     "text": [
      "CPU times: user 29min 6s, sys: 4.02 s, total: 29min 10s\n",
      "Wall time: 1h 9min 51s\n"
     ]
    }
   ],
   "source": [
    "%%time\n",
    "SNT = SolveByNuTheta(\n",
    "    T=eq['T'],\n",
    "    W=eq['W'],\n",
    "    x=sin(t),\n",
    "    y=cos(t),\n",
    "    nu1=eq['nu1(x,y)'].args[1],\n",
    "    nu2=eq['nu2(x,y)'].args[1],\n",
    ")\n",
    "\n",
    "SNT.solve()"
   ]
  },
  {
   "cell_type": "code",
   "execution_count": 216,
   "metadata": {},
   "outputs": [
    {
     "data": {
      "text/latex": [
       "$\\displaystyle \\frac{d}{d t} \\nu_{3}{\\left(t \\right)} = \\frac{- 1.16573417585641 \\left(\\cos{\\left(2.0 \\theta_{0}{\\left(t \\right)} \\right)} - 1.0\\right)^{3} \\nu_{3}{\\left(t \\right)} \\cos{\\left(t + \\alpha{\\left(t \\right)} \\right)} - 5.44009282066326 \\left(\\cos{\\left(2.0 \\theta_{0}{\\left(t \\right)} \\right)} - 1.0\\right)^{2} \\nu_{3}^{2}{\\left(t \\right)} \\sin{\\left(\\theta_{0}{\\left(t \\right)} \\right)} + 2.04003480774872 \\left(\\cos{\\left(2.0 \\theta_{0}{\\left(t \\right)} \\right)} - 1.0\\right)^{2} \\nu_{3}^{2}{\\left(t \\right)} \\sin{\\left(2.0 \\theta_{0}{\\left(t \\right)} \\right)} + 6.99999999999997 \\cdot 10^{15} \\left(\\cos{\\left(2.0 \\theta_{0}{\\left(t \\right)} \\right)} - 1.0\\right)^{2} \\nu_{3}{\\left(t \\right)} \\cos{\\left(t + \\alpha{\\left(t \\right)} \\right)} + 1.94289029309402 \\left(\\cos{\\left(2.0 \\theta_{0}{\\left(t \\right)} \\right)} - 1.0\\right)^{2} \\nu_{3}{\\left(t \\right)} \\cos{\\left(t + \\alpha{\\left(t \\right)} - 2.0 \\theta_{0}{\\left(t \\right)} \\right)} + 1.02001740387436 \\left(\\cos{\\left(2.0 \\theta_{0}{\\left(t \\right)} \\right)} - 1.0\\right)^{2} \\nu_{3}{\\left(t \\right)} \\cos{\\left(t + \\alpha{\\left(t \\right)} - \\theta_{0}{\\left(t \\right)} \\right)} - 1.02001740387436 \\left(\\cos{\\left(2.0 \\theta_{0}{\\left(t \\right)} \\right)} - 1.0\\right)^{2} \\nu_{3}{\\left(t \\right)} \\cos{\\left(t + \\alpha{\\left(t \\right)} + \\theta_{0}{\\left(t \\right)} \\right)} - 1.94289029309402 \\left(\\cos{\\left(2.0 \\theta_{0}{\\left(t \\right)} \\right)} - 1.0\\right)^{2} \\nu_{3}{\\left(t \\right)} \\cos{\\left(t + \\alpha{\\left(t \\right)} + 2.0 \\theta_{0}{\\left(t \\right)} \\right)} + 3.5 \\cdot 10^{15} \\left(\\cos{\\left(2.0 \\theta_{0}{\\left(t \\right)} \\right)} - 1.0\\right)^{2} \\sin{\\left(2.0 t + 2.0 \\alpha{\\left(t \\right)} \\right)} + 0.0812067427191645 \\left(\\cos{\\left(2.0 \\theta_{0}{\\left(t \\right)} \\right)} - 1.0\\right)^{2} \\sin{\\left(2.0 t + 2.0 \\alpha{\\left(t \\right)} - 2.0 \\theta_{0}{\\left(t \\right)} \\right)} - 0.0812067427191645 \\left(\\cos{\\left(2.0 \\theta_{0}{\\left(t \\right)} \\right)} - 1.0\\right)^{2} \\sin{\\left(2.0 t + 2.0 \\alpha{\\left(t \\right)} + 2.0 \\theta_{0}{\\left(t \\right)} \\right)} - 0.680011602582908 \\left(\\cos{\\left(2.0 \\theta_{0}{\\left(t \\right)} \\right)} - 1.0\\right)^{2} \\sin{\\left(\\theta_{0}{\\left(t \\right)} \\right)} - 0.648136058711834 \\left(\\cos{\\left(2.0 \\theta_{0}{\\left(t \\right)} \\right)} - 1.0\\right)^{2} \\sin{\\left(2.0 \\theta_{0}{\\left(t \\right)} \\right)} + 1.02001740387436 \\left(\\cos{\\left(2.0 \\theta_{0}{\\left(t \\right)} \\right)} - 1.0\\right)^{2} \\cos{\\left(t + \\alpha{\\left(t \\right)} - \\theta_{0}{\\left(t \\right)} \\right)} - 1.02001740387436 \\left(\\cos{\\left(2.0 \\theta_{0}{\\left(t \\right)} \\right)} - 1.0\\right)^{2} \\cos{\\left(t + \\alpha{\\left(t \\right)} + \\theta_{0}{\\left(t \\right)} \\right)} - 3.92499999999998 \\cdot 10^{15} \\nu_{3}^{2}{\\left(t \\right)} \\sin{\\left(\\theta_{0}{\\left(t \\right)} \\right)} - 7.28 \\cdot 10^{15} \\nu_{3}^{2}{\\left(t \\right)} \\sin{\\left(2.0 \\theta_{0}{\\left(t \\right)} \\right)} - 3.92500000000001 \\cdot 10^{15} \\nu_{3}^{2}{\\left(t \\right)} \\sin{\\left(3.0 \\theta_{0}{\\left(t \\right)} \\right)} - 1.75 \\cdot 10^{15} \\nu_{3}^{2}{\\left(t \\right)} \\sin{\\left(4.0 \\theta_{0}{\\left(t \\right)} \\right)} - 0.971445146547011 \\nu_{3}^{2}{\\left(t \\right)} \\sin{\\left(6.0 \\theta_{0}{\\left(t \\right)} \\right)} - 2.765 \\cdot 10^{16} \\nu_{3}{\\left(t \\right)} \\cos{\\left(t + \\alpha{\\left(t \\right)} \\right)} - 1.74999999999999 \\cdot 10^{15} \\nu_{3}{\\left(t \\right)} \\cos{\\left(t + \\alpha{\\left(t \\right)} - 4.0 \\theta_{0}{\\left(t \\right)} \\right)} - 2.72004641033163 \\nu_{3}{\\left(t \\right)} \\cos{\\left(t + \\alpha{\\left(t \\right)} - 3.0 \\theta_{0}{\\left(t \\right)} \\right)} + 5.24999999999998 \\cdot 10^{15} \\nu_{3}{\\left(t \\right)} \\cos{\\left(t + \\alpha{\\left(t \\right)} - 2.0 \\theta_{0}{\\left(t \\right)} \\right)} - 36.6198143586735 \\nu_{3}{\\left(t \\right)} \\cos{\\left(t + \\alpha{\\left(t \\right)} - \\theta_{0}{\\left(t \\right)} \\right)} + 5.39999999999999 \\cdot 10^{15} \\nu_{3}{\\left(t \\right)} \\cos{\\left(t + \\alpha{\\left(t \\right)} + \\theta_{0}{\\left(t \\right)} \\right)} - 4.90000000000003 \\cdot 10^{15} \\nu_{3}{\\left(t \\right)} \\cos{\\left(t + \\alpha{\\left(t \\right)} + 2.0 \\theta_{0}{\\left(t \\right)} \\right)} + 5.40000000000004 \\cdot 10^{15} \\nu_{3}{\\left(t \\right)} \\cos{\\left(t + \\alpha{\\left(t \\right)} + 3.0 \\theta_{0}{\\left(t \\right)} \\right)} + 1.74999999999999 \\cdot 10^{15} \\nu_{3}{\\left(t \\right)} \\cos{\\left(t + \\alpha{\\left(t \\right)} + 4.0 \\theta_{0}{\\left(t \\right)} \\right)} - 1.36002320516582 \\nu_{3}{\\left(t \\right)} \\cos{\\left(t + \\alpha{\\left(t \\right)} + 5.0 \\theta_{0}{\\left(t \\right)} \\right)} - 5.25 \\cdot 10^{15} \\sin{\\left(2.0 t + 2.0 \\alpha{\\left(t \\right)} \\right)} - 0.0850014503228634 \\sin{\\left(2.0 t + 2.0 \\alpha{\\left(t \\right)} - 5.0 \\theta_{0}{\\left(t \\right)} \\right)} - 874999999999994.0 \\sin{\\left(2.0 t + 2.0 \\alpha{\\left(t \\right)} - 4.0 \\theta_{0}{\\left(t \\right)} \\right)} + 1.27502175484295 \\sin{\\left(2.0 t + 2.0 \\alpha{\\left(t \\right)} - 3.0 \\theta_{0}{\\left(t \\right)} \\right)} + 3.5 \\cdot 10^{15} \\sin{\\left(2.0 t + 2.0 \\alpha{\\left(t \\right)} - 2.0 \\theta_{0}{\\left(t \\right)} \\right)} + 2.7 \\cdot 10^{15} \\sin{\\left(2.0 t + 2.0 \\alpha{\\left(t \\right)} + \\theta_{0}{\\left(t \\right)} \\right)} + 5.25 \\cdot 10^{15} \\sin{\\left(2.0 t + 2.0 \\alpha{\\left(t \\right)} + 2.0 \\theta_{0}{\\left(t \\right)} \\right)} + 2.7 \\cdot 10^{15} \\sin{\\left(2.0 t + 2.0 \\alpha{\\left(t \\right)} + 3.0 \\theta_{0}{\\left(t \\right)} \\right)} + 874999999999994.0 \\sin{\\left(2.0 t + 2.0 \\alpha{\\left(t \\right)} + 4.0 \\theta_{0}{\\left(t \\right)} \\right)} + 0.0850014503228634 \\sin{\\left(2.0 t + 2.0 \\alpha{\\left(t \\right)} + 5.0 \\theta_{0}{\\left(t \\right)} \\right)} + 0.680011602582908 \\sin{\\left(\\theta_{0}{\\left(t \\right)} \\right)} - 1.75 \\cdot 10^{15} \\sin{\\left(2.0 \\theta_{0}{\\left(t \\right)} \\right)} - 2.04003480774873 \\sin{\\left(3.0 \\theta_{0}{\\left(t \\right)} \\right)} - 4.0314973581701 \\sin{\\left(4.0 \\theta_{0}{\\left(t \\right)} \\right)} - 0.121430643318377 \\sin{\\left(6.0 \\theta_{0}{\\left(t \\right)} \\right)} - 7.58099999999999 \\cdot 10^{16} \\cos{\\left(t + \\alpha{\\left(t \\right)} \\right)} + 7.7715611723761 \\cos{\\left(t + \\alpha{\\left(t \\right)} - 3.0 \\theta_{0}{\\left(t \\right)} \\right)} + 10.8801856413265 \\cos{\\left(t + \\alpha{\\left(t \\right)} - 2.0 \\theta_{0}{\\left(t \\right)} \\right)} - 7.71749999999999 \\cdot 10^{16} \\cos{\\left(t + \\alpha{\\left(t \\right)} - \\theta_{0}{\\left(t \\right)} \\right)} - 7.83999999999998 \\cdot 10^{16} \\cos{\\left(t + \\alpha{\\left(t \\right)} + \\theta_{0}{\\left(t \\right)} \\right)} - 7.58099999999999 \\cdot 10^{16} \\cos{\\left(t + \\alpha{\\left(t \\right)} + 2.0 \\theta_{0}{\\left(t \\right)} \\right)} - 1.22499999999993 \\cdot 10^{15} \\cos{\\left(t + \\alpha{\\left(t \\right)} + 3.0 \\theta_{0}{\\left(t \\right)} \\right)}}{- 1.43325 \\cdot 10^{17} \\cos{\\left(\\theta_{0}{\\left(t \\right)} \\right)} + 2.093 \\cdot 10^{16} \\cos{\\left(2.0 \\theta_{0}{\\left(t \\right)} \\right)} + 1.225 \\cdot 10^{15} \\cos{\\left(3.0 \\theta_{0}{\\left(t \\right)} \\right)} + 2.093 \\cdot 10^{16}}$"
      ],
      "text/plain": [
       "Eq(Derivative(nu3(t), t), (-1.16573417585641*(cos(2.0*theta0(t)) - 1.0)**3*nu3(t)*cos(t + alpha(t)) - 5.44009282066326*(cos(2.0*theta0(t)) - 1.0)**2*nu3(t)**2*sin(theta0(t)) + 2.04003480774872*(cos(2.0*theta0(t)) - 1.0)**2*nu3(t)**2*sin(2.0*theta0(t)) + 6.99999999999997e+15*(cos(2.0*theta0(t)) - 1.0)**2*nu3(t)*cos(t + alpha(t)) + 1.94289029309402*(cos(2.0*theta0(t)) - 1.0)**2*nu3(t)*cos(t + alpha(t) - 2.0*theta0(t)) + 1.02001740387436*(cos(2.0*theta0(t)) - 1.0)**2*nu3(t)*cos(t + alpha(t) - theta0(t)) - 1.02001740387436*(cos(2.0*theta0(t)) - 1.0)**2*nu3(t)*cos(t + alpha(t) + theta0(t)) - 1.94289029309402*(cos(2.0*theta0(t)) - 1.0)**2*nu3(t)*cos(t + alpha(t) + 2.0*theta0(t)) + 3.5e+15*(cos(2.0*theta0(t)) - 1.0)**2*sin(2.0*t + 2.0*alpha(t)) + 0.0812067427191645*(cos(2.0*theta0(t)) - 1.0)**2*sin(2.0*t + 2.0*alpha(t) - 2.0*theta0(t)) - 0.0812067427191645*(cos(2.0*theta0(t)) - 1.0)**2*sin(2.0*t + 2.0*alpha(t) + 2.0*theta0(t)) - 0.680011602582908*(cos(2.0*theta0(t)) - 1.0)**2*sin(theta0(t)) - 0.648136058711834*(cos(2.0*theta0(t)) - 1.0)**2*sin(2.0*theta0(t)) + 1.02001740387436*(cos(2.0*theta0(t)) - 1.0)**2*cos(t + alpha(t) - theta0(t)) - 1.02001740387436*(cos(2.0*theta0(t)) - 1.0)**2*cos(t + alpha(t) + theta0(t)) - 3.92499999999998e+15*nu3(t)**2*sin(theta0(t)) - 7.28e+15*nu3(t)**2*sin(2.0*theta0(t)) - 3.92500000000001e+15*nu3(t)**2*sin(3.0*theta0(t)) - 1.75e+15*nu3(t)**2*sin(4.0*theta0(t)) - 0.971445146547011*nu3(t)**2*sin(6.0*theta0(t)) - 2.765e+16*nu3(t)*cos(t + alpha(t)) - 1.74999999999999e+15*nu3(t)*cos(t + alpha(t) - 4.0*theta0(t)) - 2.72004641033163*nu3(t)*cos(t + alpha(t) - 3.0*theta0(t)) + 5.24999999999998e+15*nu3(t)*cos(t + alpha(t) - 2.0*theta0(t)) - 36.6198143586735*nu3(t)*cos(t + alpha(t) - theta0(t)) + 5.39999999999999e+15*nu3(t)*cos(t + alpha(t) + theta0(t)) - 4.90000000000003e+15*nu3(t)*cos(t + alpha(t) + 2.0*theta0(t)) + 5.40000000000004e+15*nu3(t)*cos(t + alpha(t) + 3.0*theta0(t)) + 1.74999999999999e+15*nu3(t)*cos(t + alpha(t) + 4.0*theta0(t)) - 1.36002320516582*nu3(t)*cos(t + alpha(t) + 5.0*theta0(t)) - 5.25e+15*sin(2.0*t + 2.0*alpha(t)) - 0.0850014503228634*sin(2.0*t + 2.0*alpha(t) - 5.0*theta0(t)) - 874999999999994.0*sin(2.0*t + 2.0*alpha(t) - 4.0*theta0(t)) + 1.27502175484295*sin(2.0*t + 2.0*alpha(t) - 3.0*theta0(t)) + 3.5e+15*sin(2.0*t + 2.0*alpha(t) - 2.0*theta0(t)) + 2.7e+15*sin(2.0*t + 2.0*alpha(t) + theta0(t)) + 5.25e+15*sin(2.0*t + 2.0*alpha(t) + 2.0*theta0(t)) + 2.7e+15*sin(2.0*t + 2.0*alpha(t) + 3.0*theta0(t)) + 874999999999994.0*sin(2.0*t + 2.0*alpha(t) + 4.0*theta0(t)) + 0.0850014503228634*sin(2.0*t + 2.0*alpha(t) + 5.0*theta0(t)) + 0.680011602582908*sin(theta0(t)) - 1.75e+15*sin(2.0*theta0(t)) - 2.04003480774873*sin(3.0*theta0(t)) - 4.0314973581701*sin(4.0*theta0(t)) - 0.121430643318377*sin(6.0*theta0(t)) - 7.58099999999999e+16*cos(t + alpha(t)) + 7.7715611723761*cos(t + alpha(t) - 3.0*theta0(t)) + 10.8801856413265*cos(t + alpha(t) - 2.0*theta0(t)) - 7.71749999999999e+16*cos(t + alpha(t) - theta0(t)) - 7.83999999999998e+16*cos(t + alpha(t) + theta0(t)) - 7.58099999999999e+16*cos(t + alpha(t) + 2.0*theta0(t)) - 1.22499999999993e+15*cos(t + alpha(t) + 3.0*theta0(t)))/(-1.43325e+17*cos(theta0(t)) + 2.093e+16*cos(2.0*theta0(t)) + 1.225e+15*cos(3.0*theta0(t)) + 2.093e+16))"
      ]
     },
     "metadata": {},
     "output_type": "display_data"
    },
    {
     "data": {
      "text/latex": [
       "$\\displaystyle \\frac{d}{d t} \\theta_{0}{\\left(t \\right)} = - 1.42857142857143 \\nu_{3}{\\left(t \\right)} \\cos{\\left(\\theta_{0}{\\left(t \\right)} \\right)} - 1.0 \\nu_{3}{\\left(t \\right)} - 1.42857142857143 \\sin{\\left(t + \\alpha{\\left(t \\right)} + \\theta_{0}{\\left(t \\right)} \\right)}$"
      ],
      "text/plain": [
       "Eq(Derivative(theta0(t), t), -1.42857142857143*nu3(t)*cos(theta0(t)) - 1.0*nu3(t) - 1.42857142857143*sin(t + alpha(t) + theta0(t)))"
      ]
     },
     "metadata": {},
     "output_type": "display_data"
    },
    {
     "data": {
      "text/latex": [
       "$\\displaystyle \\frac{d}{d t} \\alpha{\\left(t \\right)} = \\nu_{3}{\\left(t \\right)}$"
      ],
      "text/plain": [
       "Eq(Derivative(alpha(t), t), nu3(t))"
      ]
     },
     "metadata": {},
     "output_type": "display_data"
    }
   ],
   "source": [
    "# TODO: упросчтить и првоверить что не зависит от alpha\n",
    "for _eq in SNT.get_res():\n",
    "    display(_eq)"
   ]
  },
  {
   "cell_type": "code",
   "execution_count": null,
   "metadata": {},
   "outputs": [],
   "source": []
  },
  {
   "cell_type": "code",
   "execution_count": null,
   "metadata": {},
   "outputs": [],
   "source": []
  },
  {
   "cell_type": "code",
   "execution_count": null,
   "metadata": {},
   "outputs": [],
   "source": []
  },
  {
   "cell_type": "markdown",
   "metadata": {},
   "source": [
    "###### *Save*"
   ]
  },
  {
   "cell_type": "code",
   "execution_count": 217,
   "metadata": {},
   "outputs": [],
   "source": [
    "save(SNT, 'SNT')"
   ]
  },
  {
   "cell_type": "markdown",
   "metadata": {},
   "source": [
    "### Integrate above system"
   ]
  },
  {
   "cell_type": "code",
   "execution_count": 402,
   "metadata": {},
   "outputs": [],
   "source": [
    "import numpy as np\n",
    "from scipy.integrate import RK45, odeint\n",
    "import matplotlib.pyplot as plt"
   ]
  },
  {
   "cell_type": "code",
   "execution_count": 401,
   "metadata": {},
   "outputs": [
    {
     "data": {
      "text/latex": [
       "$\\displaystyle \\nu_{3}{\\left(t \\right)}$"
      ],
      "text/plain": [
       "nu3(t)"
      ]
     },
     "metadata": {},
     "output_type": "display_data"
    },
    {
     "data": {
      "text/latex": [
       "$\\displaystyle \\theta_{0}{\\left(t \\right)}$"
      ],
      "text/plain": [
       "theta0(t)"
      ]
     },
     "metadata": {},
     "output_type": "display_data"
    },
    {
     "data": {
      "text/latex": [
       "$\\displaystyle \\alpha{\\left(t \\right)}$"
      ],
      "text/plain": [
       "alpha(t)"
      ]
     },
     "metadata": {},
     "output_type": "display_data"
    },
    {
     "data": {
      "text/latex": [
       "$\\displaystyle t$"
      ],
      "text/plain": [
       "t"
      ]
     },
     "metadata": {},
     "output_type": "display_data"
    }
   ],
   "source": [
    "_vars = [nu[3], theta[0], alpha] + [t]\n",
    "display_list(_vars)"
   ]
  },
  {
   "cell_type": "code",
   "execution_count": 389,
   "metadata": {},
   "outputs": [
    {
     "data": {
      "text/latex": [
       "$\\displaystyle \\frac{- 5 \\nu_{3}^{2}{\\left(t \\right)} \\sin{\\left(\\theta_{0}{\\left(t \\right)} \\right)} - 14 \\nu_{3}^{2}{\\left(t \\right)} \\sin{\\left(2 \\theta_{0}{\\left(t \\right)} \\right)} - 5 \\nu_{3}^{2}{\\left(t \\right)} \\sin{\\left(3 \\theta_{0}{\\left(t \\right)} \\right)} - \\nu_{3}^{2}{\\left(t \\right)} \\sin{\\left(4 \\theta_{0}{\\left(t \\right)} \\right)} - 8 \\nu_{3}{\\left(t \\right)} \\cos{\\left(t + \\alpha{\\left(t \\right)} \\right)} - \\nu_{3}{\\left(t \\right)} \\cos{\\left(t + \\alpha{\\left(t \\right)} - 2 \\theta_{0}{\\left(t \\right)} \\right)} + 6 \\nu_{3}{\\left(t \\right)} \\cos{\\left(t + \\alpha{\\left(t \\right)} + \\theta_{0}{\\left(t \\right)} \\right)} - 5 \\nu_{3}{\\left(t \\right)} \\cos{\\left(t + \\alpha{\\left(t \\right)} + 2 \\theta_{0}{\\left(t \\right)} \\right)} + 6 \\nu_{3}{\\left(t \\right)} \\cos{\\left(t + \\alpha{\\left(t \\right)} + 3 \\theta_{0}{\\left(t \\right)} \\right)} + 2 \\nu_{3}{\\left(t \\right)} \\cos{\\left(t + \\alpha{\\left(t \\right)} + 4 \\theta_{0}{\\left(t \\right)} \\right)} + 3 \\sin{\\left(2 t + 2 \\alpha{\\left(t \\right)} + \\theta_{0}{\\left(t \\right)} \\right)} + \\sin{\\left(2 t + 2 \\alpha{\\left(t \\right)} + 2 \\theta_{0}{\\left(t \\right)} \\right)} + 3 \\sin{\\left(2 t + 2 \\alpha{\\left(t \\right)} + 3 \\theta_{0}{\\left(t \\right)} \\right)} + \\sin{\\left(2 t + 2 \\alpha{\\left(t \\right)} + 4 \\theta_{0}{\\left(t \\right)} \\right)} - \\sin{\\left(2 \\theta_{0}{\\left(t \\right)} \\right)} - 60 \\cos{\\left(t + \\alpha{\\left(t \\right)} \\right)} - 18 \\cos{\\left(t + \\alpha{\\left(t \\right)} - \\theta_{0}{\\left(t \\right)} \\right)} - 20 \\cos{\\left(t + \\alpha{\\left(t \\right)} + \\theta_{0}{\\left(t \\right)} \\right)} - 60 \\cos{\\left(t + \\alpha{\\left(t \\right)} + 2 \\theta_{0}{\\left(t \\right)} \\right)} - 2 \\cos{\\left(t + \\alpha{\\left(t \\right)} + 3 \\theta_{0}{\\left(t \\right)} \\right)}}{2 \\left(20 \\cos^{2}{\\left(\\theta_{0}{\\left(t \\right)} \\right)} - 9 \\cos{\\left(\\theta_{0}{\\left(t \\right)} \\right)} + \\cos{\\left(3 \\theta_{0}{\\left(t \\right)} \\right)}\\right)}$"
      ],
      "text/plain": [
       "(-5*nu3(t)**2*sin(theta0(t)) - 14*nu3(t)**2*sin(2*theta0(t)) - 5*nu3(t)**2*sin(3*theta0(t)) - nu3(t)**2*sin(4*theta0(t)) - 8*nu3(t)*cos(t + alpha(t)) - nu3(t)*cos(t + alpha(t) - 2*theta0(t)) + 6*nu3(t)*cos(t + alpha(t) + theta0(t)) - 5*nu3(t)*cos(t + alpha(t) + 2*theta0(t)) + 6*nu3(t)*cos(t + alpha(t) + 3*theta0(t)) + 2*nu3(t)*cos(t + alpha(t) + 4*theta0(t)) + 3*sin(2*t + 2*alpha(t) + theta0(t)) + sin(2*t + 2*alpha(t) + 2*theta0(t)) + 3*sin(2*t + 2*alpha(t) + 3*theta0(t)) + sin(2*t + 2*alpha(t) + 4*theta0(t)) - sin(2*theta0(t)) - 60*cos(t + alpha(t)) - 18*cos(t + alpha(t) - theta0(t)) - 20*cos(t + alpha(t) + theta0(t)) - 60*cos(t + alpha(t) + 2*theta0(t)) - 2*cos(t + alpha(t) + 3*theta0(t)))/(2*(20*cos(theta0(t))**2 - 9*cos(theta0(t)) + cos(3*theta0(t))))"
      ]
     },
     "metadata": {},
     "output_type": "display_data"
    },
    {
     "data": {
      "text/latex": [
       "$\\displaystyle - \\frac{\\nu_{3}{\\left(t \\right)} \\cos{\\left(\\theta_{0}{\\left(t \\right)} \\right)}}{2} - \\nu_{3}{\\left(t \\right)} - \\frac{\\sin{\\left(t + \\alpha{\\left(t \\right)} + \\theta_{0}{\\left(t \\right)} \\right)}}{2}$"
      ],
      "text/plain": [
       "-nu3(t)*cos(theta0(t))/2 - nu3(t) - sin(t + alpha(t) + theta0(t))/2"
      ]
     },
     "metadata": {},
     "output_type": "display_data"
    },
    {
     "data": {
      "text/latex": [
       "$\\displaystyle \\nu_{3}{\\left(t \\right)}$"
      ],
      "text/plain": [
       "nu3(t)"
      ]
     },
     "metadata": {},
     "output_type": "display_data"
    }
   ],
   "source": [
    "_eqs = S.right_part_Eqs(SNT.get_res())\n",
    "display_list(_eqs)"
   ]
  },
  {
   "cell_type": "code",
   "execution_count": 390,
   "metadata": {},
   "outputs": [],
   "source": [
    "def f(_vars_values, time):\n",
    "    return [lambdify(_vars, _eq, 'numpy')(*_vars_values, time) for _eq in _eqs]"
   ]
  },
  {
   "cell_type": "code",
   "execution_count": 393,
   "metadata": {},
   "outputs": [],
   "source": []
  },
  {
   "cell_type": "code",
   "execution_count": 395,
   "metadata": {},
   "outputs": [
    {
     "data": {
      "text/plain": [
       "[-5.5700600843331864, -0.2397127693021015, 0]"
      ]
     },
     "execution_count": 395,
     "metadata": {},
     "output_type": "execute_result"
    }
   ],
   "source": [
    "f([0,0,0], 0)"
   ]
  },
  {
   "cell_type": "code",
   "execution_count": 453,
   "metadata": {},
   "outputs": [
    {
     "name": "stdout",
     "output_type": "stream",
     "text": [
      "CPU times: user 52.7 s, sys: 74 ms, total: 52.7 s\n",
      "Wall time: 52.8 s\n"
     ]
    },
    {
     "name": "stderr",
     "output_type": "stream",
     "text": [
      "/Users/admin/Projects/tatarinov_equation/venv/lib/python3.7/site-packages/scipy/integrate/odepack.py:248: ODEintWarning: Excess work done on this call (perhaps wrong Dfun type). Run with full_output = 1 to get quantitative information.\n",
      "  warnings.warn(warning_msg, ODEintWarning)\n"
     ]
    }
   ],
   "source": [
    "%%time\n",
    "f0 = [0,0,0]\n",
    "_time = np.linspace(0., 0.5, 100)\n",
    "_solution = odeint(f, f0, _time, full_output=True, mxstep=100)"
   ]
  },
  {
   "cell_type": "code",
   "execution_count": 454,
   "metadata": {},
   "outputs": [
    {
     "data": {
      "text/plain": [
       "array([ 0.00000000e+00, -3.36613343e-02, -6.73046014e-02, -1.00928697e-01,\n",
       "       -1.34532650e-01, -1.68115620e-01, -2.01676929e-01, -2.35216109e-01,\n",
       "       -2.68732963e-01, -3.02227600e-01, -3.35700472e-01, -3.69152416e-01,\n",
       "       -4.02584704e-01, -4.35999080e-01, -4.69397813e-01, -5.02783699e-01,\n",
       "       -5.36160147e-01, -5.69531233e-01, -6.02901698e-01, -6.36277002e-01,\n",
       "       -6.69663383e-01, -7.03067896e-01, -7.36498463e-01, -7.69963921e-01,\n",
       "       -8.03474075e-01, -8.37039759e-01, -8.70672881e-01, -9.04386514e-01,\n",
       "       -9.38194929e-01, -9.72113700e-01, -1.00615978e+00, -1.04035158e+00,\n",
       "       -1.07470909e+00, -1.10925395e+00, -1.14400963e+00, -1.17900152e+00,\n",
       "       -1.21425713e+00, -1.24980620e+00, -1.28568097e+00, -1.32191632e+00,\n",
       "       -1.35855009e+00, -1.39562334e+00, -1.43318065e+00, -1.47127055e+00,\n",
       "       -1.50994589e+00, -1.54926434e+00, -1.58928898e+00, -1.63008896e+00,\n",
       "       -1.67174020e+00, -1.71432638e+00, -1.75793987e+00, -1.80268312e+00,\n",
       "       -1.84866997e+00, -1.89602748e+00, -1.94489799e+00, -1.99544162e+00,\n",
       "       -2.04783934e+00, -2.10229672e+00, -2.15904852e+00, -2.21836435e+00,\n",
       "       -2.28055588e+00, -2.34598585e+00, -2.41507969e+00, -2.48834059e+00,\n",
       "       -2.56636913e+00, -2.64988956e+00, -2.73978551e+00, -2.83714892e+00,\n",
       "       -2.94334927e+00, -3.06013338e+00, -3.18977334e+00, -3.33529303e+00,\n",
       "       -3.50082827e+00, -3.69222555e+00, -3.91809490e+00, -4.19179196e+00,\n",
       "       -4.53549927e+00, -4.98970765e+00, -5.63941539e+00, -6.70980003e+00,\n",
       "       -9.18199075e+00, -5.03692134e+01,  8.16992029e-43,  1.42604925e-71,\n",
       "        1.26931503e-76])"
      ]
     },
     "execution_count": 454,
     "metadata": {},
     "output_type": "execute_result"
    }
   ],
   "source": [
    "_solution[0][:-15].T[0]"
   ]
  },
  {
   "cell_type": "code",
   "execution_count": 457,
   "metadata": {},
   "outputs": [
    {
     "data": {
      "text/plain": [
       "True"
      ]
     },
     "execution_count": 457,
     "metadata": {},
     "output_type": "execute_result"
    }
   ],
   "source": [
    "len(_time[:-15]) == len(_solution[0][:-15].T[0])"
   ]
  },
  {
   "cell_type": "markdown",
   "metadata": {},
   "source": [
    "##### Plot"
   ]
  },
  {
   "cell_type": "code",
   "execution_count": 460,
   "metadata": {},
   "outputs": [
    {
     "data": {
      "image/png": "[encoded data removed]",
      "text/plain": [
       "<Figure size 432x288 with 1 Axes>"
      ]
     },
     "metadata": {
      "needs_background": "light"
     },
     "output_type": "display_data"
    },
    {
     "data": {
      "image/png": "[encoded data removed]",
      "text/plain": [
       "<Figure size 432x288 with 1 Axes>"
      ]
     },
     "metadata": {
      "needs_background": "light"
     },
     "output_type": "display_data"
    },
    {
     "data": {
      "image/png": "[encoded data removed]",
      "text/plain": [
       "<Figure size 432x288 with 1 Axes>"
      ]
     },
     "metadata": {
      "needs_background": "light"
     },
     "output_type": "display_data"
    }
   ],
   "source": [
    "for col in _solution[0][:-15].T:\n",
    "    fig = plt.plot(_time[:-15], col, label='')\n",
    "    plt.show()"
   ]
  },
  {
   "cell_type": "code",
   "execution_count": 88,
   "metadata": {},
   "outputs": [
    {
     "ename": "AttributeError",
     "evalue": "'tuple' object has no attribute 'T'",
     "output_type": "error",
     "traceback": [
      "\u001b[0;31m---------------------------------------------------------------------------\u001b[0m",
      "\u001b[0;31mAttributeError\u001b[0m                            Traceback (most recent call last)",
      "\u001b[0;32m<ipython-input-88-6cb4298f271a>\u001b[0m in \u001b[0;36m<module>\u001b[0;34m\u001b[0m\n\u001b[0;32m----> 1\u001b[0;31m \u001b[0m_solution\u001b[0m\u001b[0;34m.\u001b[0m\u001b[0mT\u001b[0m\u001b[0;34m\u001b[0m\u001b[0;34m\u001b[0m\u001b[0m\n\u001b[0m",
      "\u001b[0;31mAttributeError\u001b[0m: 'tuple' object has no attribute 'T'"
     ]
    }
   ],
   "source": [
    "_solution"
   ]
  },
  {
   "cell_type": "code",
   "execution_count": 91,
   "metadata": {},
   "outputs": [
    {
     "data": {
      "text/latex": [
       "$\\displaystyle -0.0032809444664363$"
      ],
      "text/plain": [
       "-0.00328094446643630"
      ]
     },
     "execution_count": 91,
     "metadata": {},
     "output_type": "execute_result"
    }
   ],
   "source": [
    "N(par_subs(det).subs({\n",
    "   theta[0]: 1\n",
    "}))"
   ]
  },
  {
   "cell_type": "code",
   "execution_count": 87,
   "metadata": {},
   "outputs": [],
   "source": [
    "_solution = load('_solution')"
   ]
  },
  {
   "cell_type": "markdown",
   "metadata": {},
   "source": [
    "### Solve by $\\dot{\\nu_1}, \\dot{\\nu_2}, \\dot{\\nu_3}$"
   ]
  },
  {
   "cell_type": "code",
   "execution_count": null,
   "metadata": {},
   "outputs": [],
   "source": [
    "%%time\n",
    "res = linsolve([par_subs(eq) for eq in eqs],\n",
    "               [Derivative(x, t) for x in S.right_part_Eqs(S.omega_equations)])\n",
    "# or \n",
    "# res = load('res+TW')"
   ]
  },
  {
   "cell_type": "code",
   "execution_count": null,
   "metadata": {},
   "outputs": [],
   "source": [
    "%%time\n",
    "s_eq1 = simplify(res.args[0][0])"
   ]
  },
  {
   "cell_type": "code",
   "execution_count": null,
   "metadata": {},
   "outputs": [],
   "source": [
    "%%time\n",
    "s_eq2 = simplify(res.args[0][1])"
   ]
  },
  {
   "cell_type": "code",
   "execution_count": null,
   "metadata": {},
   "outputs": [],
   "source": [
    "%%time\n",
    "s_eq3 = simplify(res.args[0][2])"
   ]
  },
  {
   "cell_type": "code",
   "execution_count": null,
   "metadata": {},
   "outputs": [],
   "source": [
    "alpha"
   ]
  },
  {
   "cell_type": "code",
   "execution_count": null,
   "metadata": {},
   "outputs": [],
   "source": [
    "for left_eq, right_eq in zip([s_eq1, s_eq2, s_eq3], [Derivative(x, t) for x in S.right_part_Eqs(S.omega_equations)]):\n",
    "    display(Eq(left_eq, right_eq))"
   ]
  },
  {
   "cell_type": "code",
   "execution_count": null,
   "metadata": {
    "scrolled": false
   },
   "outputs": [],
   "source": [
    "for left_eq, right_eq in zip([s_eq1, s_eq2, s_eq3], [Derivative(x, t) for x in S.right_part_Eqs(S.omega_equations)]):\n",
    "    display(Eq(left_eq, right_eq))"
   ]
  },
  {
   "cell_type": "code",
   "execution_count": null,
   "metadata": {},
   "outputs": [],
   "source": []
  },
  {
   "cell_type": "code",
   "execution_count": null,
   "metadata": {},
   "outputs": [],
   "source": []
  },
  {
   "cell_type": "code",
   "execution_count": null,
   "metadata": {},
   "outputs": [],
   "source": []
  },
  {
   "cell_type": "markdown",
   "metadata": {},
   "source": [
    "## Найдем  $W,T, \\ddot{\\alpha}$  как функции от времени "
   ]
  },
  {
   "cell_type": "code",
   "execution_count": null,
   "metadata": {},
   "outputs": [],
   "source": [
    "from copy import copy\n",
    "\n",
    "for x in S.tatarinov_equations:\n",
    "    display(x)"
   ]
  },
  {
   "cell_type": "markdown",
   "metadata": {},
   "source": [
    "### Зададим $x,y, alpha$ как функции времени"
   ]
  },
  {
   "cell_type": "code",
   "execution_count": null,
   "metadata": {},
   "outputs": [],
   "source": [
    "# Начальные условия и парметры\n",
    "eq_x = 3*t\n",
    "eq_y = t**2\n",
    "\n",
    "params = dict(xi=0, eta=0)\n",
    "\n",
    "t_end = 2*pi.evalf()"
   ]
  },
  {
   "cell_type": "code",
   "execution_count": null,
   "metadata": {},
   "outputs": [],
   "source": [
    "def _ss(eq):\n",
    "    nu1, nu2, nu3 = symbols('nu1, nu2, nu3')\n",
    "    return eq.subs({\n",
    "        nu1: Function('nu1')(t),\n",
    "        nu2: Function('nu2')(t),\n",
    "        nu3: Function('nu3')(t)\n",
    "    })\n",
    "    \n",
    "def subs_funcs(eq):\n",
    "    subs_dict = dict(x=eq_x, y=eq_y, alpha=Function('alpha')(t)) # , alpha=eq_alpha)\n",
    "    if type(eq) == dict:\n",
    "        d = {}\n",
    "        for k,v in eq.items():\n",
    "            d[_ss(k)] = _ss(v.subs(subs_dict))\n",
    "        return d\n",
    "    if type(eq) == list:\n",
    "        l = []\n",
    "        for x in eq:\n",
    "            l += _ss(eq.subs(subs_dict))\n",
    "        return l\n",
    "    if type(eq) == Eq or type(eq) == Add:\n",
    "        return _ss(eq.subs(subs_dict))"
   ]
  },
  {
   "cell_type": "code",
   "execution_count": null,
   "metadata": {},
   "outputs": [],
   "source": [
    "S.constraints"
   ]
  },
  {
   "cell_type": "code",
   "execution_count": null,
   "metadata": {},
   "outputs": [],
   "source": [
    "nus = solve(S.constraints, S.right_part_Eqs(S.omega_equations))\n",
    "for k, v in nus.items():\n",
    "    display(Eq(k, v))"
   ]
  },
  {
   "cell_type": "code",
   "execution_count": null,
   "metadata": {},
   "outputs": [],
   "source": [
    "nust = subs_funcs(nus)\n",
    "nust"
   ]
  },
  {
   "cell_type": "code",
   "execution_count": null,
   "metadata": {},
   "outputs": [],
   "source": [
    "tet = copy(S.tatarinov_equations)\n",
    "for x in tet:\n",
    "    display(x)"
   ]
  },
  {
   "cell_type": "code",
   "execution_count": null,
   "metadata": {},
   "outputs": [],
   "source": [
    "for i in range(3):\n",
    "    tet[i] = tet[i].subs(nust).doit()\n",
    "    display(tet[i])\n",
    "#     display((tet[i].subs(nust)))\n",
    "#     display((tet[i].subs(nust)).doit())\n",
    "    "
   ]
  },
  {
   "cell_type": "code",
   "execution_count": null,
   "metadata": {},
   "outputs": [],
   "source": [
    "sol = solve(tet, [T, W, Derivative(Function('alpha')(t), t, 2)])\n",
    "for k,v in sol.items():\n",
    "    display(Eq(k, v))"
   ]
  },
  {
   "cell_type": "markdown",
   "metadata": {},
   "source": [
    "### Проинтегрируем\n",
    "$$ {\\ddot{\\alpha}, \\dot{\\alpha}} \\rightarrow \\alpha $$"
   ]
  },
  {
   "cell_type": "code",
   "execution_count": null,
   "metadata": {},
   "outputs": [],
   "source": [
    "_vars = [Function('alpha2')(t), Function('alpha')(t)]\n",
    "_vars"
   ]
  },
  {
   "cell_type": "code",
   "execution_count": null,
   "metadata": {},
   "outputs": [],
   "source": [
    "eqs = [Function('alpha2')(t), list(sol.values())[2]]\n",
    "eqs"
   ]
  },
  {
   "cell_type": "code",
   "execution_count": null,
   "metadata": {},
   "outputs": [],
   "source": [
    "_vars = [Symbol('alpha'),  Symbol('alpha2')]\n",
    "eqs =   [Symbol('alpha2'), list(sol.values())[2].subs({Function('alpha')(t): Symbol('alpha')})]\n",
    "\n",
    "print(\"Система уравнений на alpha\")\n",
    "for l, r in zip(_vars, eqs):\n",
    "    display(Eq(l,r))"
   ]
  },
  {
   "cell_type": "code",
   "execution_count": null,
   "metadata": {},
   "outputs": [],
   "source": [
    "# keyword can't be an expression\n",
    "eqs[1] = eqs[1].subs({J[s]: 3})\n",
    "\n",
    "_subs = dict(m=1, eta=2, xi=3)"
   ]
  },
  {
   "cell_type": "code",
   "execution_count": null,
   "metadata": {},
   "outputs": [],
   "source": [
    "def f(_vars_values, time):\n",
    "    return [lambdify(_vars, x.subs(_subs), 'numpy')(*_vars_values) for x in eqs]"
   ]
  },
  {
   "cell_type": "code",
   "execution_count": null,
   "metadata": {},
   "outputs": [],
   "source": [
    "import numpy as np\n",
    "from scipy.integrate import RK45, odeint"
   ]
  },
  {
   "cell_type": "code",
   "execution_count": null,
   "metadata": {},
   "outputs": [],
   "source": [
    "f0 = [1, 0.1] # [alpha', alpha]\n",
    "time = np.linspace(0., 4, 100)\n",
    "\n",
    "_solution = odeint(f, f0, time)"
   ]
  },
  {
   "cell_type": "code",
   "execution_count": null,
   "metadata": {},
   "outputs": [],
   "source": [
    "import matplotlib.pyplot as plt\n",
    "\n",
    "_items = zip(['dot_alpha', 'alpha'], list(range(2)))\n",
    "\n",
    "for name, col in _items:\n",
    "    print(name)\n",
    "    fig = plt.plot(time, _solution[:, col], label=name)\n",
    "    plt.show()"
   ]
  },
  {
   "cell_type": "markdown",
   "metadata": {},
   "source": [
    "## Подставим в $W, T$\n",
    "$$ \\{W(\\alpha, t), T(\\alpha, t)\\} \\rightarrow \\{W(t), T(t)\\}$$"
   ]
  },
  {
   "cell_type": "code",
   "execution_count": null,
   "metadata": {},
   "outputs": [],
   "source": [
    "display(sol[W])\n",
    "display(sol[T])"
   ]
  },
  {
   "cell_type": "code",
   "execution_count": null,
   "metadata": {},
   "outputs": [],
   "source": [
    "W_t = lambdify([t, Function('alpha')(t)], sol[W].subs(_subs), 'numpy')\n",
    "T_t = lambdify([t, Function('alpha')(t)], sol[T].subs(_subs), 'numpy')"
   ]
  },
  {
   "cell_type": "code",
   "execution_count": null,
   "metadata": {},
   "outputs": [],
   "source": [
    "_solution[:,1].size == time.size "
   ]
  },
  {
   "cell_type": "code",
   "execution_count": null,
   "metadata": {},
   "outputs": [],
   "source": [
    "wl, tl = [], []\n",
    "\n",
    "for x,y in zip(time, _solution[:,1]):\n",
    "    wl.append(W_t(x, y))\n",
    "    \n",
    "for x,y in zip(time, _solution[:,1]):\n",
    "    tl.append(T_t(x, y))"
   ]
  },
  {
   "cell_type": "code",
   "execution_count": null,
   "metadata": {},
   "outputs": [],
   "source": [
    "fig = plt.plot(time, wl, label='W')\n",
    "plt.show()"
   ]
  },
  {
   "cell_type": "code",
   "execution_count": null,
   "metadata": {},
   "outputs": [],
   "source": [
    "fig = plt.plot(time, tl, label='T')\n",
    "plt.show()"
   ]
  },
  {
   "cell_type": "code",
   "execution_count": null,
   "metadata": {},
   "outputs": [],
   "source": [
    "al = _solution[:, 1]"
   ]
  },
  {
   "cell_type": "code",
   "execution_count": null,
   "metadata": {},
   "outputs": [],
   "source": [
    "tmp_x = tl*np.sin(al)*(-1) + wl*np.cos(al)\n",
    "tmp_y = tl*np.cos(al) + wl*np.sin(al)"
   ]
  },
  {
   "cell_type": "code",
   "execution_count": null,
   "metadata": {},
   "outputs": [],
   "source": [
    "fig = plt.plot(tmp_x, label='~x\"')\n",
    "fig = plt.plot(tmp_y, label='~y\"')\n",
    "plt.show()"
   ]
  },
  {
   "cell_type": "code",
   "execution_count": null,
   "metadata": {},
   "outputs": [],
   "source": [
    "F"
   ]
  },
  {
   "cell_type": "code",
   "execution_count": null,
   "metadata": {},
   "outputs": [],
   "source": []
  },
  {
   "cell_type": "code",
   "execution_count": null,
   "metadata": {},
   "outputs": [],
   "source": []
  },
  {
   "cell_type": "code",
   "execution_count": null,
   "metadata": {},
   "outputs": [],
   "source": []
  },
  {
   "cell_type": "markdown",
   "metadata": {},
   "source": [
    "## Проинтегрируем численно"
   ]
  },
  {
   "cell_type": "code",
   "execution_count": null,
   "metadata": {},
   "outputs": [],
   "source": [
    "left = []; right = []"
   ]
  },
  {
   "cell_type": "code",
   "execution_count": null,
   "metadata": {},
   "outputs": [],
   "source": [
    "left += S.left_part_Eqs(S.constraints)\n",
    "right += S.right_part_Eqs(S.constraints)"
   ]
  },
  {
   "cell_type": "code",
   "execution_count": null,
   "metadata": {},
   "outputs": [],
   "source": [
    "diff_omegas_t = [Derivative(S.create_fs(x)) for x in S.right_part_Eqs(S.omega_equations)]\n",
    "constr = solve(eqs, diff_omegas_t)\n",
    "constr"
   ]
  },
  {
   "cell_type": "code",
   "execution_count": null,
   "metadata": {},
   "outputs": [],
   "source": [
    "for left_item, right_item in constr.items():\n",
    "    left += [left_item]\n",
    "    right += [right_item]"
   ]
  },
  {
   "cell_type": "code",
   "execution_count": null,
   "metadata": {},
   "outputs": [],
   "source": [
    "_vars = (phi, psi, theta, nu1, nu2, nu3)"
   ]
  },
  {
   "cell_type": "code",
   "execution_count": null,
   "metadata": {},
   "outputs": [],
   "source": [
    "right = [S.create_ss(x) for x in right]"
   ]
  },
  {
   "cell_type": "code",
   "execution_count": null,
   "metadata": {},
   "outputs": [],
   "source": [
    "_subs = {A: 1, C: 2, g: 10, m: 1}"
   ]
  },
  {
   "cell_type": "code",
   "execution_count": null,
   "metadata": {},
   "outputs": [],
   "source": [
    "left"
   ]
  },
  {
   "cell_type": "code",
   "execution_count": null,
   "metadata": {},
   "outputs": [],
   "source": [
    "right"
   ]
  },
  {
   "cell_type": "code",
   "execution_count": null,
   "metadata": {},
   "outputs": [],
   "source": [
    "def f(_vars_values, time):\n",
    "    return [lambdify(_vars, x.subs(_subs), 'numpy')(*_vars_values) for x in right]"
   ]
  },
  {
   "cell_type": "code",
   "execution_count": null,
   "metadata": {},
   "outputs": [],
   "source": [
    "f0 = [3,0.1,0.1,1,2,3]"
   ]
  },
  {
   "cell_type": "code",
   "execution_count": null,
   "metadata": {},
   "outputs": [],
   "source": [
    "import numpy as np\n",
    "from scipy.integrate import RK45, odeint"
   ]
  },
  {
   "cell_type": "code",
   "execution_count": null,
   "metadata": {},
   "outputs": [],
   "source": [
    "_solution = odeint(f, f0, np.linspace(0., 4., 100))"
   ]
  },
  {
   "cell_type": "code",
   "execution_count": null,
   "metadata": {},
   "outputs": [],
   "source": [
    "import matplotlib.pyplot as plt \n",
    "\n",
    "_items = zip(['phi', 'psi', 'theta', 'nu1', 'nu2', 'nu3'], list(range(6)))\n",
    "\n",
    "for name, col in _items:\n",
    "    print(name)\n",
    "    fig = plt.plot(np.linspace(0,4,100), _solution[:, col], label=name)\n",
    "    plt.show()"
   ]
  },
  {
   "cell_type": "markdown",
   "metadata": {},
   "source": [
    "## Посмотрим на энергию"
   ]
  },
  {
   "cell_type": "code",
   "execution_count": null,
   "metadata": {},
   "outputs": [],
   "source": [
    "H = A*(Derivative(theta,t)**2 + Derivative(psi,t)**2*sin(theta)**2)/2 \\\n",
    "    + C*(Derivative(phi, t) + Derivative(psi, t)*cos(theta))**2/2 \\\n",
    "    + m*g*cos(theta)\n",
    "H"
   ]
  },
  {
   "cell_type": "code",
   "execution_count": null,
   "metadata": {},
   "outputs": [],
   "source": [
    "H = S.sub_constraints(H)\n",
    "H"
   ]
  },
  {
   "cell_type": "code",
   "execution_count": null,
   "metadata": {},
   "outputs": [],
   "source": [
    "fH = lambdify(_vars, H.subs(_subs), 'numpy')"
   ]
  },
  {
   "cell_type": "code",
   "execution_count": null,
   "metadata": {},
   "outputs": [],
   "source": [
    "H_values = np.array([fH(*x) for x in _solution])\n",
    "max(H_values) - min(H_values)"
   ]
  },
  {
   "cell_type": "code",
   "execution_count": null,
   "metadata": {},
   "outputs": [],
   "source": [
    "for x in S.constraints:\n",
    "    display(x)"
   ]
  },
  {
   "cell_type": "code",
   "execution_count": null,
   "metadata": {},
   "outputs": [],
   "source": [
    "L"
   ]
  }
 ],
 "metadata": {
  "kernelspec": {
   "display_name": "Python 3",
   "language": "python",
   "name": "python3"
  },
  "language_info": {
   "codemirror_mode": {
    "name": "ipython",
    "version": 3
   },
   "file_extension": ".py",
   "mimetype": "text/x-python",
   "name": "python",
   "nbconvert_exporter": "python",
   "pygments_lexer": "ipython3",
   "version": "3.7.5"
  }
 },
 "nbformat": 4,
 "nbformat_minor": 2
}
