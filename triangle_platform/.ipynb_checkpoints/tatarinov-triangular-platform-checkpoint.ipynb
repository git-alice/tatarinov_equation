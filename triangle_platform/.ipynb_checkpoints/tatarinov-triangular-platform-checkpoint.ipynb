{
 "cells": [
  {
   "cell_type": "markdown",
   "metadata": {},
   "source": [
    "# Реализация нахождения уравнений движения с помощью Урванений Татаринова для платформы с одним колесом\n"
   ]
  },
  {
   "cell_type": "code",
   "execution_count": 1,
   "metadata": {},
   "outputs": [],
   "source": [
    "import sympy as sp\n",
    "from sympy import Derivative, Symbol, IndexedBase, Eq, Idx, Sum, Function, Matrix, Add\n",
    "from sympy import diff, symbols, solve, simplify, poly, pprint, factor, integrate, lambdify\n",
    "from sympy import cos, sin, pi\n",
    "\n",
    "from abc import ABC, abstractmethod"
   ]
  },
  {
   "cell_type": "code",
   "execution_count": 2,
   "metadata": {},
   "outputs": [],
   "source": [
    "def create_fs(self, fs):\n",
    "    \"\"\" not good \"\"\"\n",
    "    # nu1, nu2, nu3 = symbols('nu1, nu2, nu3')\n",
    "    return fs.subs({\n",
    "        _nu1: Function('nu1_')(t),\n",
    "        _nu2: Function('nu2_')(t),\n",
    "        _nu3: Function('nu3_')(t)\n",
    "    })\n",
    "\n",
    "def create_ss(self, fs):\n",
    "    \"\"\" not good \"\"\"\n",
    "    # nu1, nu2, nu3 = symbols('nu1, nu2, nu3')\n",
    "    return fs.subs({\n",
    "        Function('nu1_')(t): _nu1,\n",
    "        Function('nu2_')(t): _nu2,\n",
    "        Function('nu3_')(t): _nu3\n",
    "    })\n",
    "\n",
    "def MatrixElDerivative(mat):\n",
    "    return Matrix([x.diff(t) for x in mat])"
   ]
  },
  {
   "cell_type": "markdown",
   "metadata": {},
   "source": [
    "### Уравнения Татаринова\n",
    "$$\n",
    "\\frac{d}{dt} \\frac{\\partial L*}{\\partial \\omega_{\\alpha}} +\n",
    "\\{P_{\\alpha}, L*\\} = \n",
    "\\{P_{\\alpha}, \\sum_{\\mu}{\\omega_{\\mu} P_{\\mu}} \\} +\n",
    "\\sum_{i}{Q_i \\frac{\\partial v_i}{ \\partial \\omega_{\\alpha}}}\n",
    "$$"
   ]
  },
  {
   "cell_type": "markdown",
   "metadata": {},
   "source": [
    "### Скобка Пуассона\n",
    "$$\n",
    "\\{f, g\\} = \\sum_{i=1}^{N} \\left( \\frac{\\partial f}{\\partial q_{i}} \\frac{\\partial g}{\\partial p_{i}} - \\frac{\\partial f}{\\partial p_i} \\frac{\\partial g}{\\partial q_i}\\right).\n",
    "$$"
   ]
  },
  {
   "cell_type": "markdown",
   "metadata": {},
   "source": [
    "### Функции $ P_{\\alpha} $\n",
    "$$\n",
    "\\sum_{\\alpha}{P_{\\alpha} \\omega_{\\alpha}} = \\sum_i{p_iv_i}\n",
    "$$"
   ]
  },
  {
   "cell_type": "markdown",
   "metadata": {},
   "source": [
    "### Функции $v_i$\n",
    "$$\n",
    "v_i = \\dot{q}\n",
    "$$"
   ]
  },
  {
   "cell_type": "code",
   "execution_count": 3,
   "metadata": {},
   "outputs": [],
   "source": [
    "class MechanicalSystem():\n",
    "    \n",
    "    def __init__(self):\n",
    "        pass\n",
    "    \n",
    "    def set_q(self, q):\n",
    "        self.q = q\n",
    "    \n",
    "    def set_p(self, p):\n",
    "        self.p = p\n",
    "    \n",
    "    def poisson_bracket(self, F, G): # надо сделать, чтобы использовалось IndexedBase\n",
    "        \"\"\" To evaluate an unevaluated derivative, use the doit method. \"\"\"\n",
    "        res = 0\n",
    "        for i in range(3):\n",
    "            res += diff(F, self.q[i])*diff(G, self.p[i])\n",
    "            res -= diff(F, self.p[i])*diff(G, self.q[i])\n",
    "        return res\n",
    "    \n",
    "    @staticmethod\n",
    "    def sub_Eq(equation, Eq):\n",
    "        return equation.subs(Eq.args[0], Eq.args[1])\n",
    "    \n",
    "    @classmethod\n",
    "    def sub_Eqs(cls, equation, Eqs):\n",
    "        sub_equation = equation\n",
    "        for Eq in Eqs:\n",
    "            sub_equation = cls.sub_Eq(sub_equation, Eq)\n",
    "        return sub_equation \n",
    "    \n",
    "    @staticmethod\n",
    "    def left_part_Eqs(Eqs):\n",
    "        return [Eq.args[0] for Eq in Eqs]\n",
    "    \n",
    "    @staticmethod\n",
    "    def right_part_Eqs(Eqs):\n",
    "        return [Eq.args[1] for Eq in Eqs]\n",
    "    \n",
    "    def set_constraints(self, constraints):\n",
    "        \"\"\" Setting up constraints \"\"\"\n",
    "        self.constraints = constraints\n",
    "        \n",
    "    def sub_constraints(self, func):\n",
    "        \"\"\" Substitutes constraints in the equation\n",
    "        Private special case:\n",
    "            L -> L* \n",
    "        \"\"\"\n",
    "        sub_dict = {conn.args[0]: conn.args[1] for conn in self.constraints}\n",
    "        return func.subs(sub_dict)\n",
    "    \n",
    "    def sub_constraints_to_list(self, equations):\n",
    "        return [self.sub_constraints(equation) for equation in equations]\n",
    "    \n",
    "    @staticmethod\n",
    "    def diff_hack(equation, by):\n",
    "        \"\"\" eq -> eq.subs(Derivative -> temp_variable) -> eq.diff(temp_variable) ->\n",
    "            -> eq.subs(temp_variable -> Derivative)\n",
    "        \"\"\"\n",
    "        tmp_by = Symbol('tmp_by')\n",
    "        tmp_eq = equation.subs({by: tmp_by})\n",
    "        tmp_eq = tmp_eq.diff(tmp_by)\n",
    "        return tmp_eq.subs({tmp_by: by})\n",
    "        "
   ]
  },
  {
   "cell_type": "code",
   "execution_count": 4,
   "metadata": {},
   "outputs": [],
   "source": [
    "class TatarinovSystem(MechanicalSystem):\n",
    "    \n",
    "    def __init__(self, N=3, debug=True):\n",
    "        super().__init__()\n",
    "        self.N = N\n",
    "        self.tatarinov_equations = [None]*N\n",
    "        self.debug = True\n",
    "        \n",
    "    def set_omega_equations(self, omegas, equations):\n",
    "        omega_equations = [Eq(omega, equation) for omega, equation in zip(omegas, equations)]\n",
    "        self.omega_equations = omega_equations\n",
    "        \n",
    "    def set_v_equations(self, vs, equations): # vs - не лучшее название\n",
    "        v_equations = [Eq(v, equation) for v, equation in zip(vs, equations)]\n",
    "        self.v_equations = v_equations\n",
    "\n",
    "    def set_P(self):\n",
    "        k, mu = symbols('k, mu', cls=Idx)\n",
    "        left = Sum(P[k]*om[k], (k, 1, self.N)).doit()\n",
    "        right = Sum(p[i]*v[i], (k, 1, self.N))\n",
    "        Eq(left, right)\n",
    "    \n",
    "    def set_L(self, L):\n",
    "        self.L = L\n",
    "        \n",
    "    def set_L_star(self, L_star):\n",
    "        self.L_star = simplify(L_star)\n",
    "    \n",
    "    def set_F(self, F):\n",
    "        self.F = F\n",
    "    \n",
    "    def create_r(self):\n",
    "        r = {}\n",
    "        r['s'] = x*e['x'] + y*e['y']\n",
    "        r['p'] = r['s'] + xi*e['xi'] + eta*e['eta']\n",
    "        self.r = r\n",
    "        return self.r\n",
    "\n",
    "    def set_Qs(self, Qs):\n",
    "        self.Qs = Qs\n",
    "    \n",
    "    def create_P(self):\n",
    "        equations_for_P = Eq(\n",
    "            Sum(P[k]*_omega[k], (k, 1, S.N)),\n",
    "            Sum(p[k]*_v[k], (k, 1, S.N)))\n",
    "        print(equations_for_P)\n",
    "        # subs omega_i and v_i\n",
    "        sub_equations_for_P = TatarinovSystem.sub_Eqs(\n",
    "            equations_for_P.doit(), # important\n",
    "            self.omega_equations + self.v_equations) # for Ex: omega[1] -> nu1), v[1] -> x', ....\n",
    "        # subs_constraints\n",
    "        sub_conn_equations_for_P = self.sub_constraints(sub_equations_for_P)\n",
    "        print(sub_conn_equations_for_P)\n",
    "        # to equate the coefficients\n",
    "        left_coeffs = poly(sub_conn_equations_for_P.args[0], TatarinovSystem.right_part_Eqs(self.omega_equations)).coeffs()\n",
    "        right_coeffs = poly(sub_conn_equations_for_P.args[1], TatarinovSystem.right_part_Eqs(self.omega_equations)).coeffs()\n",
    "        final_equations_for_P = [Eq(left, right) for left, right in zip(left_coeffs, right_coeffs)]\n",
    "        self.Ps = final_equations_for_P\n",
    "        return final_equations_for_P\n",
    "    \n",
    "    def create_Q(self, F, r_p):\n",
    "        self.Q = [F.dot(r_p.diff(x)) for x in self.q]\n",
    "    \n",
    "    def Q_dw_by_dv(self, i):\n",
    "        Q_dw_by_dv = lambda i,a: self.Q[i]*Derivative(self.right_part_Eqs(S.sub_constraints_to_list(S.v_equations))[i],\n",
    "                                                      self.right_part_Eqs(self.omega_equations)[a]).doit()\n",
    "        Q_dw_by_dv_sum = lambda a: Q_dw_by_dv(0,a) + Q_dw_by_dv(1,a) + Q_dw_by_dv(2,a)\n",
    "        return Q_dw_by_dv_sum(i)\n",
    "    \n",
    "    def tatarinov_equation__depricated(self, i):\n",
    "        left, right = 0, 0;\n",
    "        left += diff(diff(L, omega[k]), t)\n",
    "        left += poisson_bracket(P[k], L)\n",
    "        right += poisson_bracket(P[k], Sum(omega[k]*P[k], (k, 1, self.N)))\n",
    "        right += Sum(Q[l]*diff(v[l], omega[k]), (l, 1, self.N))\n",
    "        Eq(left, right)\n",
    "        \n",
    "    def create_bracket_sum(self):\n",
    "        \"\"\" not good \"\"\"\n",
    "        # return  _nu1*(p[1]*cos(alpha) + p[2]*sin(alpha)) + _nu2*(-p[1]*sin(alpha) + p[2]*cos(alpha)) + _nu3*p[3]\n",
    "        bracket_sum = [x*y for x,y in zip(S.right_part_Eqs(S.Ps), S.right_part_Eqs(S.omega_equations))]\n",
    "        res = 0\n",
    "        for x in range(3):\n",
    "            res += bracket_sum[x]\n",
    "        return res\n",
    "    \n",
    "    def solve_tatarinov_equations(self):\n",
    "        te = [self.tatarinov_equations[i] for x in range(3)]\n",
    "        sol = solve(te, [Derivative(self.create_fs(x), t) for x in S.right_part_Eqs(S.omega_equations)])\n",
    "        return sol\n",
    "\n",
    "    def tatarinov_equation(self, i):\n",
    "        left, right = 0,0\n",
    "        left = self.L_star.args[1]\n",
    "#         left = self.create_fs(left.diff(self.right_part_Eqs(self.omega_equations)[i])).diff(t)\n",
    "        left = left.diff(self.right_part_Eqs(self.omega_equations)[i])\n",
    "        left = simplify(left)\n",
    "        left = left.diff(t)\n",
    "        left = simplify(left)\n",
    "        left += self.poisson_bracket(self.Ps[i].args[1], self.L_star.args[1])\n",
    "#         left = self.create_fs(left)\n",
    "        if debug:\n",
    "            display(left)\n",
    "        \n",
    "        right += self.poisson_bracket(self.Ps[i].args[1], self.create_bracket_sum())\n",
    "        right += simplify(self.Q_dw_by_dv(i))\n",
    "#         right = self.create_fs(right)\n",
    "        if debug:\n",
    "            display(right)\n",
    "        \n",
    "        ps = lambda i: self.sub_constraints(self.diff_hack(self.L.args[1], self.right_part_Eqs(self.v_equations)[i]))\n",
    "        self.tatarinov_equations[i] = Eq(left, right).subs({p[1]: ps(0), p[2]: ps(1), p[3]: ps(2)})\n",
    "        \n",
    "#         self.tatarinov_equations[i] = self.create_fs(simplify(self.tatarinov_equations[i]))\n",
    "        self.tatarinov_equations[i] = simplify(self.tatarinov_equations[i])\n",
    "        \n",
    "        return self.tatarinov_equations[i]\n",
    "\n",
    "    def display_tatarinov_equations(self):\n",
    "        for eq in self.tatarinov_equations:\n",
    "            display(eq)"
   ]
  },
  {
   "cell_type": "markdown",
   "metadata": {},
   "source": [
    "##  Импорт платформы"
   ]
  },
  {
   "cell_type": "code",
   "execution_count": 5,
   "metadata": {},
   "outputs": [],
   "source": [
    "%load_ext autoreload\n",
    "%autoreload 2\n",
    "\n",
    "from variables import *\n",
    "from structure import *\n",
    "from functions import *\n",
    "from latex import *"
   ]
  },
  {
   "cell_type": "markdown",
   "metadata": {},
   "source": [
    "#### Псевдоскорости $nu_1$, $nu_2$\n",
    "#### Координаты $\\theta_1$, $\\psi_1$, $\\alpha$\n",
    "#### Связи $\\psi_1(\\nu_1,\\nu_2), \\theta_1(\\nu_1,\\nu_2)$"
   ]
  },
  {
   "cell_type": "markdown",
   "metadata": {},
   "source": [
    "#### Скорости"
   ]
  },
  {
   "cell_type": "code",
   "execution_count": 6,
   "metadata": {},
   "outputs": [],
   "source": [
    "omega['platform']= lambda i: Derivative(alpha,t)*e['z']\n",
    "omega['fork']    = lambda i: omega['platform'](i) + Derivative(theta[i],t)*e['z']\n",
    "omega['wheel']   = lambda i: omega['fork'](i) + Derivative(psi[i],t)*n_wheel(i)"
   ]
  },
  {
   "cell_type": "code",
   "execution_count": 7,
   "metadata": {},
   "outputs": [],
   "source": [
    "v['S'] = euler(S, P)\n",
    "v['P'] = euler(P, C)\n",
    "v['C'] = euler(C, D)\n",
    "v['D'] = lambda i: Matrix([0,0,0]) # проскальзывания нет"
   ]
  },
  {
   "cell_type": "code",
   "execution_count": 8,
   "metadata": {},
   "outputs": [
    {
     "data": {
      "text/latex": [
       "$\\displaystyle \\left[\\begin{matrix}- d \\left(\\sin{\\left(\\alpha{\\left(t \\right)} \\right)} \\cos{\\left(\\theta_{0}{\\left(t \\right)} \\right)} + \\sin{\\left(\\theta_{0}{\\left(t \\right)} \\right)} \\cos{\\left(\\alpha{\\left(t \\right)} \\right)}\\right) \\left(\\frac{d}{d t} \\alpha{\\left(t \\right)} + \\frac{d}{d t} \\theta_{0}{\\left(t \\right)}\\right) - r \\left(- \\sin{\\left(\\alpha{\\left(t \\right)} \\right)} \\sin{\\left(\\theta_{0}{\\left(t \\right)} \\right)} + \\cos{\\left(\\alpha{\\left(t \\right)} \\right)} \\cos{\\left(\\theta_{0}{\\left(t \\right)} \\right)}\\right) \\frac{d}{d t} \\psi_{0}{\\left(t \\right)} - \\left(\\sin{\\left(\\beta_{0} \\right)} \\cos{\\left(\\alpha{\\left(t \\right)} \\right)} + \\sin{\\left(\\alpha{\\left(t \\right)} \\right)} \\cos{\\left(\\beta_{0} \\right)}\\right) \\frac{d}{d t} \\alpha{\\left(t \\right)}\\\\d \\left(- \\sin{\\left(\\alpha{\\left(t \\right)} \\right)} \\sin{\\left(\\theta_{0}{\\left(t \\right)} \\right)} + \\cos{\\left(\\alpha{\\left(t \\right)} \\right)} \\cos{\\left(\\theta_{0}{\\left(t \\right)} \\right)}\\right) \\left(\\frac{d}{d t} \\alpha{\\left(t \\right)} + \\frac{d}{d t} \\theta_{0}{\\left(t \\right)}\\right) + r \\left(- \\sin{\\left(\\alpha{\\left(t \\right)} \\right)} \\cos{\\left(\\theta_{0}{\\left(t \\right)} \\right)} - \\sin{\\left(\\theta_{0}{\\left(t \\right)} \\right)} \\cos{\\left(\\alpha{\\left(t \\right)} \\right)}\\right) \\frac{d}{d t} \\psi_{0}{\\left(t \\right)} + \\left(- \\sin{\\left(\\beta_{0} \\right)} \\sin{\\left(\\alpha{\\left(t \\right)} \\right)} + \\cos{\\left(\\beta_{0} \\right)} \\cos{\\left(\\alpha{\\left(t \\right)} \\right)}\\right) \\frac{d}{d t} \\alpha{\\left(t \\right)}\\\\0\\end{matrix}\\right]$"
      ],
      "text/plain": [
       "Matrix([\n",
       "[ -d*(sin(alpha(t))*cos(theta0(t)) + sin(theta0(t))*cos(alpha(t)))*(Derivative(alpha(t), t) + Derivative(theta0(t), t)) - r*(-sin(alpha(t))*sin(theta0(t)) + cos(alpha(t))*cos(theta0(t)))*Derivative(psi0(t), t) - (sin(beta0)*cos(alpha(t)) + sin(alpha(t))*cos(beta0))*Derivative(alpha(t), t)],\n",
       "[d*(-sin(alpha(t))*sin(theta0(t)) + cos(alpha(t))*cos(theta0(t)))*(Derivative(alpha(t), t) + Derivative(theta0(t), t)) + r*(-sin(alpha(t))*cos(theta0(t)) - sin(theta0(t))*cos(alpha(t)))*Derivative(psi0(t), t) + (-sin(beta0)*sin(alpha(t)) + cos(beta0)*cos(alpha(t)))*Derivative(alpha(t), t)],\n",
       "[                                                                                                                                                                                                                                                                                               0]])"
      ]
     },
     "execution_count": 8,
     "metadata": {},
     "output_type": "execute_result"
    }
   ],
   "source": [
    "v['S'](0)"
   ]
  },
  {
   "cell_type": "markdown",
   "metadata": {},
   "source": [
    "#### Угловые скорости"
   ]
  },
  {
   "cell_type": "code",
   "execution_count": 9,
   "metadata": {},
   "outputs": [],
   "source": [
    "omega['platform']= lambda i: Derivative(alpha,t)*e['z']\n",
    "omega['fork']    = lambda i: omega['platform'](i) + Derivative(theta[i],t)*e['z']\n",
    "omega['wheel']   = lambda i: omega['fork'](i) + Derivative(psi[i],t)*n_wheel(i)"
   ]
  },
  {
   "cell_type": "code",
   "execution_count": 10,
   "metadata": {},
   "outputs": [],
   "source": [
    "eq['nu1'] = lambda i: scalar(v['S'](i), e['xi'])\n",
    "eq['nu2'] = lambda i: scalar(v['S'](i), e['eta'])"
   ]
  },
  {
   "cell_type": "markdown",
   "metadata": {},
   "source": [
    "#### Псевдоскорости"
   ]
  },
  {
   "cell_type": "code",
   "execution_count": 11,
   "metadata": {},
   "outputs": [
    {
     "data": {
      "text/latex": [
       "$\\displaystyle \\left[\\begin{matrix}\\nu_{1}{\\left(t \\right)} = - d \\sin{\\left(\\theta_{0}{\\left(t \\right)} \\right)} \\frac{d}{d t} \\alpha{\\left(t \\right)} - d \\sin{\\left(\\theta_{0}{\\left(t \\right)} \\right)} \\frac{d}{d t} \\theta_{0}{\\left(t \\right)} - r \\cos{\\left(\\theta_{0}{\\left(t \\right)} \\right)} \\frac{d}{d t} \\psi_{0}{\\left(t \\right)} - \\sin{\\left(\\beta_{0} \\right)} \\frac{d}{d t} \\alpha{\\left(t \\right)}\\\\\\nu_{2}{\\left(t \\right)} = d \\cos{\\left(\\theta_{0}{\\left(t \\right)} \\right)} \\frac{d}{d t} \\alpha{\\left(t \\right)} + d \\cos{\\left(\\theta_{0}{\\left(t \\right)} \\right)} \\frac{d}{d t} \\theta_{0}{\\left(t \\right)} - r \\sin{\\left(\\theta_{0}{\\left(t \\right)} \\right)} \\frac{d}{d t} \\psi_{0}{\\left(t \\right)} + \\cos{\\left(\\beta_{0} \\right)} \\frac{d}{d t} \\alpha{\\left(t \\right)}\\end{matrix}\\right]$"
      ],
      "text/plain": [
       "Matrix([\n",
       "[Eq(nu1(t), -d*sin(theta0(t))*Derivative(alpha(t), t) - d*sin(theta0(t))*Derivative(theta0(t), t) - r*cos(theta0(t))*Derivative(psi0(t), t) - sin(beta0)*Derivative(alpha(t), t))],\n",
       "[ Eq(nu2(t), d*cos(theta0(t))*Derivative(alpha(t), t) + d*cos(theta0(t))*Derivative(theta0(t), t) - r*sin(theta0(t))*Derivative(psi0(t), t) + cos(beta0)*Derivative(alpha(t), t))]])"
      ]
     },
     "execution_count": 11,
     "metadata": {},
     "output_type": "execute_result"
    }
   ],
   "source": [
    "simplify(Matrix([Eq(nu[1], eq['nu1'](0)),\n",
    "                 Eq(nu[2], eq['nu2'](0))]))"
   ]
  },
  {
   "cell_type": "code",
   "execution_count": 12,
   "metadata": {},
   "outputs": [],
   "source": [
    "eq['f(nu1,nu2)'] = lambda i: solve(\n",
    "                      [Eq(eq['nu1'](i), nu[1]), Eq(eq['nu2'](i), nu[2])],\n",
    "                      [Derivative(psi[i],t), Derivative(theta[i],t)],\n",
    "                      dict=True)[0]; # возвращает словарь с выражениями для diff(psi) и diff(theta)"
   ]
  },
  {
   "cell_type": "code",
   "execution_count": 13,
   "metadata": {},
   "outputs": [
    {
     "data": {
      "text/latex": [
       "$\\displaystyle \\frac{d}{d t} \\alpha{\\left(t \\right)} = \\nu_{3}{\\left(t \\right)}$"
      ],
      "text/plain": [
       "Eq(Derivative(alpha(t), t), nu3(t))"
      ]
     },
     "execution_count": 13,
     "metadata": {},
     "output_type": "execute_result"
    }
   ],
   "source": [
    "Eq(Derivative(alpha), nu[3])"
   ]
  },
  {
   "cell_type": "markdown",
   "metadata": {},
   "source": [
    "####  Связи"
   ]
  },
  {
   "cell_type": "code",
   "execution_count": 14,
   "metadata": {},
   "outputs": [],
   "source": [
    "eq['diff(psi)_nu']   = lambda i: eq['f(nu1,nu2)'](i)[Derivative(psi[i],t)]\n",
    "eq['diff(theta)_nu'] = lambda i: eq['f(nu1,nu2)'](i)[Derivative(theta[i],t)]"
   ]
  },
  {
   "cell_type": "code",
   "execution_count": 15,
   "metadata": {},
   "outputs": [
    {
     "data": {
      "text/latex": [
       "$\\displaystyle \\left[\\begin{matrix}\\frac{d}{d t} \\psi_{0}{\\left(t \\right)} = - \\frac{\\nu_{1}{\\left(t \\right)} \\cos{\\left(\\theta_{0}{\\left(t \\right)} \\right)} + \\nu_{2}{\\left(t \\right)} \\sin{\\left(\\theta_{0}{\\left(t \\right)} \\right)} + \\sin{\\left(\\beta_{0} - \\theta_{0}{\\left(t \\right)} \\right)} \\frac{d}{d t} \\alpha{\\left(t \\right)}}{r}\\\\\\frac{d}{d t} \\theta_{0}{\\left(t \\right)} = \\frac{- d \\frac{d}{d t} \\alpha{\\left(t \\right)} - \\nu_{1}{\\left(t \\right)} \\sin{\\left(\\theta_{0}{\\left(t \\right)} \\right)} + \\nu_{2}{\\left(t \\right)} \\cos{\\left(\\theta_{0}{\\left(t \\right)} \\right)} - \\cos{\\left(\\beta_{0} - \\theta_{0}{\\left(t \\right)} \\right)} \\frac{d}{d t} \\alpha{\\left(t \\right)}}{d}\\end{matrix}\\right]$"
      ],
      "text/plain": [
       "Matrix([\n",
       "[                              Eq(Derivative(psi0(t), t), -(nu1(t)*cos(theta0(t)) + nu2(t)*sin(theta0(t)) + sin(beta0 - theta0(t))*Derivative(alpha(t), t))/r)],\n",
       "[Eq(Derivative(theta0(t), t), (-d*Derivative(alpha(t), t) - nu1(t)*sin(theta0(t)) + nu2(t)*cos(theta0(t)) - cos(beta0 - theta0(t))*Derivative(alpha(t), t))/d)]])"
      ]
     },
     "execution_count": 15,
     "metadata": {},
     "output_type": "execute_result"
    }
   ],
   "source": [
    "Matrix([Eq(Derivative(psi[0], t), eq['diff(psi)_nu'](0)),\n",
    "        Eq(Derivative(theta[0], t), eq['diff(theta)_nu'](0))])"
   ]
  },
  {
   "cell_type": "code",
   "execution_count": null,
   "metadata": {},
   "outputs": [],
   "source": []
  },
  {
   "cell_type": "markdown",
   "metadata": {},
   "source": [
    "### Создадим объект для механической системы с уравнениями Татаринова "
   ]
  },
  {
   "cell_type": "code",
   "execution_count": 16,
   "metadata": {},
   "outputs": [],
   "source": [
    "S = TatarinovSystem()"
   ]
  },
  {
   "cell_type": "code",
   "execution_count": 17,
   "metadata": {},
   "outputs": [],
   "source": [
    "# L, m, x, y, t, alpha = symbols('L, m, x, y, t, alpha')\n",
    "# _nu1, _nu2, _nu3, _nu4, _nu5 = symbols('nu1_, nu2_, nu3_, nu4_, nu5_')\n",
    "# W, T = symbols('W, T')\n",
    "# s = symbols('s')\n",
    "P = IndexedBase('P')\n",
    "p = IndexedBase('p')\n",
    "# p = IndexedBase('p')\n",
    "_omega = IndexedBase('omega')\n",
    "_v = IndexedBase('v')\n",
    "# Q = IndexedBase('Q')\n",
    "k = symbols('k', cls=Idx)\n",
    "# J = IndexedBase('J')\n",
    "\n",
    "# xi, eta = symbols('xi, eta')\n",
    "# e = {}\n",
    "# e['x'] = Matrix([1,0])\n",
    "# e['y'] = Matrix([0,1])\n",
    "# e['xi'] = Matrix([cos(alpha), sin(alpha)])\n",
    "# e['eta'] = Matrix([-sin(alpha), cos(alpha)])"
   ]
  },
  {
   "cell_type": "code",
   "execution_count": null,
   "metadata": {},
   "outputs": [],
   "source": []
  },
  {
   "cell_type": "code",
   "execution_count": 18,
   "metadata": {},
   "outputs": [],
   "source": [
    "# A, C, c = symbols('A, C, c')\n",
    "\n",
    "# psi, theta, phi = symbols('psi, theta, phi') # v\n",
    "\n",
    "# g = symbols('g')"
   ]
  },
  {
   "cell_type": "markdown",
   "metadata": {},
   "source": [
    "$$ L = T - V $$\n",
    "$$ T = T_{pl} + T_{fo} + T_{wh} $$"
   ]
  },
  {
   "cell_type": "markdown",
   "metadata": {},
   "source": [
    "$$ T_{pl} = \\frac{m_{pl} v_S^2}{2} + \\frac{J_{pl} \\omega_{pl}^2}{2} $$\n",
    "$$ T_{fo} = 0$$\n",
    "$$ T_{wh} = \\frac{m_{wh} v_S^2}{2} + \\frac{J_{wh} \\omega_{wh}^2}{2} $$"
   ]
  },
  {
   "cell_type": "markdown",
   "metadata": {},
   "source": [
    "#### Platform"
   ]
  },
  {
   "cell_type": "code",
   "execution_count": 19,
   "metadata": {},
   "outputs": [
    {
     "data": {
      "text/latex": [
       "$\\displaystyle m_{1}$"
      ],
      "text/plain": [
       "m1"
      ]
     },
     "execution_count": 19,
     "metadata": {},
     "output_type": "execute_result"
    }
   ],
   "source": [
    "m['platform']"
   ]
  },
  {
   "cell_type": "code",
   "execution_count": 20,
   "metadata": {},
   "outputs": [
    {
     "data": {
      "text/latex": [
       "$\\displaystyle \\left(\\frac{d}{d t} x{\\left(t \\right)}\\right)^{2} + \\left(\\frac{d}{d t} y{\\left(t \\right)}\\right)^{2}$"
      ],
      "text/plain": [
       "Derivative(x(t), t)**2 + Derivative(y(t), t)**2"
      ]
     },
     "execution_count": 20,
     "metadata": {},
     "output_type": "execute_result"
    }
   ],
   "source": [
    "Derivative(x, t)**2 + Derivative(y, t)**2"
   ]
  },
  {
   "cell_type": "code",
   "execution_count": 21,
   "metadata": {},
   "outputs": [],
   "source": [
    "J['platform'] = eye(3,3)*a"
   ]
  },
  {
   "cell_type": "code",
   "execution_count": 22,
   "metadata": {},
   "outputs": [
    {
     "data": {
      "text/latex": [
       "$\\displaystyle \\left[\\begin{matrix}0\\\\0\\\\\\frac{d}{d t} \\alpha{\\left(t \\right)}\\end{matrix}\\right]$"
      ],
      "text/plain": [
       "Matrix([\n",
       "[                      0],\n",
       "[                      0],\n",
       "[Derivative(alpha(t), t)]])"
      ]
     },
     "execution_count": 22,
     "metadata": {},
     "output_type": "execute_result"
    }
   ],
   "source": [
    "omega['platform'](0)"
   ]
  },
  {
   "cell_type": "markdown",
   "metadata": {},
   "source": [
    "#### Wheel"
   ]
  },
  {
   "cell_type": "code",
   "execution_count": 23,
   "metadata": {},
   "outputs": [
    {
     "data": {
      "text/latex": [
       "$\\displaystyle m_{2}$"
      ],
      "text/plain": [
       "m2"
      ]
     },
     "execution_count": 23,
     "metadata": {},
     "output_type": "execute_result"
    }
   ],
   "source": [
    "m['wheel']"
   ]
  },
  {
   "cell_type": "code",
   "execution_count": 24,
   "metadata": {},
   "outputs": [
    {
     "data": {
      "text/latex": [
       "$\\displaystyle \\left[\\begin{matrix}d \\left(- \\sin{\\left(\\alpha{\\left(t \\right)} \\right)} \\sin{\\left(\\theta_{0}{\\left(t \\right)} \\right)} + \\cos{\\left(\\alpha{\\left(t \\right)} \\right)} \\cos{\\left(\\theta_{0}{\\left(t \\right)} \\right)}\\right) + x{\\left(t \\right)}\\\\d \\left(\\sin{\\left(\\alpha{\\left(t \\right)} \\right)} \\cos{\\left(\\theta_{0}{\\left(t \\right)} \\right)} + \\sin{\\left(\\theta_{0}{\\left(t \\right)} \\right)} \\cos{\\left(\\alpha{\\left(t \\right)} \\right)}\\right) + y{\\left(t \\right)}\\\\0\\end{matrix}\\right]$"
      ],
      "text/plain": [
       "Matrix([\n",
       "[d*(-sin(alpha(t))*sin(theta0(t)) + cos(alpha(t))*cos(theta0(t))) + x(t)],\n",
       "[ d*(sin(alpha(t))*cos(theta0(t)) + sin(theta0(t))*cos(alpha(t))) + y(t)],\n",
       "[                                                                      0]])"
      ]
     },
     "execution_count": 24,
     "metadata": {},
     "output_type": "execute_result"
    }
   ],
   "source": [
    "Matrix([x,y,0]) + d*e_wheel(0)"
   ]
  },
  {
   "cell_type": "code",
   "execution_count": 25,
   "metadata": {},
   "outputs": [],
   "source": [
    "J['wheel'] = Matrix([[b,0,0],[0,c,0],[0,0,b]])"
   ]
  },
  {
   "cell_type": "markdown",
   "metadata": {},
   "source": [
    "#### В одинаковых базисах нужно записывать угловую скорость и момент инерции !"
   ]
  },
  {
   "cell_type": "code",
   "execution_count": 26,
   "metadata": {},
   "outputs": [],
   "source": [
    "omega['wheel_in'] = lambda i: psi[i].diff(t)*e['y'] + (theta[i].diff(t) + alpha.diff(t))*e['z']"
   ]
  },
  {
   "cell_type": "code",
   "execution_count": 27,
   "metadata": {},
   "outputs": [
    {
     "data": {
      "text/latex": [
       "$\\displaystyle \\left[\\begin{matrix}0\\\\\\frac{d}{d t} \\psi_{0}{\\left(t \\right)}\\\\\\frac{d}{d t} \\alpha{\\left(t \\right)} + \\frac{d}{d t} \\theta_{0}{\\left(t \\right)}\\end{matrix}\\right]$"
      ],
      "text/plain": [
       "Matrix([\n",
       "[                                                 0],\n",
       "[                            Derivative(psi0(t), t)],\n",
       "[Derivative(alpha(t), t) + Derivative(theta0(t), t)]])"
      ]
     },
     "execution_count": 27,
     "metadata": {},
     "output_type": "execute_result"
    }
   ],
   "source": [
    "omega['wheel_in'](0)"
   ]
  },
  {
   "cell_type": "code",
   "execution_count": null,
   "metadata": {},
   "outputs": [],
   "source": []
  },
  {
   "cell_type": "markdown",
   "metadata": {},
   "source": [
    "### Моменты сил\n",
    "####  (platform) $ \\vec{M} = -W_0*\\vec{e}_z $ \n",
    "####  (fork) $ \\vec{M} = W_0*\\vec{e}_z - T_0*\\vec{n}_0 $ \n",
    "####  (wheel) $ \\vec{M} = T_0*\\vec{n}_0 $ "
   ]
  },
  {
   "cell_type": "code",
   "execution_count": 28,
   "metadata": {},
   "outputs": [],
   "source": [
    "eq['nu1(x,y)'] = Eq(nu[1], Derivative(x,t)*cos(alpha) + Derivative(y,t)*sin(alpha))\n",
    "eq['nu2(x,y)'] = Eq(nu[2], -Derivative(x,t)*sin(alpha) + Derivative(y,t)*cos(alpha))"
   ]
  },
  {
   "cell_type": "code",
   "execution_count": 29,
   "metadata": {},
   "outputs": [],
   "source": [
    "eq['diff_x(nu1,nu2)'], eq['diff_y(nu1,nu2)'] = linsolve([eq['nu1(x,y)'], eq['nu2(x,y)']], (Derivative(x, t), Derivative(y, t))).args[0]"
   ]
  },
  {
   "cell_type": "code",
   "execution_count": 30,
   "metadata": {},
   "outputs": [],
   "source": [
    "def subs_xy(obj):\n",
    "    substed = obj.subs({nu[1]: eq['nu1(x,y)'],\n",
    "                        nu[2]: eq['nu2(x,y)']})\n",
    "    return substed"
   ]
  },
  {
   "cell_type": "markdown",
   "metadata": {},
   "source": [
    "### L"
   ]
  },
  {
   "cell_type": "code",
   "execution_count": 31,
   "metadata": {},
   "outputs": [],
   "source": [
    "L = Symbol('L')"
   ]
  },
  {
   "cell_type": "code",
   "execution_count": 32,
   "metadata": {},
   "outputs": [],
   "source": [
    "pl = m['platform']/2*(Derivative(x, t)**2 + Derivative(y, t)**2)\n",
    "pl += (J['platform']*omega['platform'](0)).dot(omega['platform'](0))/2\n",
    "\n",
    "wh = m['wheel']/2*(MatrixElDerivative(Matrix([x,y,0]) + d*e_wheel(0))).dot(MatrixElDerivative(Matrix([x,y,0]) + d*e_wheel(0)))\n",
    "wh += (J['wheel']*omega['wheel_in'](0)).dot(omega['wheel_in'](0))/2"
   ]
  },
  {
   "cell_type": "code",
   "execution_count": 33,
   "metadata": {},
   "outputs": [
    {
     "data": {
      "text/latex": [
       "$\\displaystyle L = \\frac{a \\left(\\frac{d}{d t} \\alpha{\\left(t \\right)}\\right)^{2}}{2} + \\frac{b \\left(\\frac{d}{d t} \\alpha{\\left(t \\right)} + \\frac{d}{d t} \\theta_{0}{\\left(t \\right)}\\right)^{2}}{2} + \\frac{c \\left(\\frac{d}{d t} \\psi_{0}{\\left(t \\right)}\\right)^{2}}{2} + \\frac{m_{1} \\left(\\left(\\frac{d}{d t} x{\\left(t \\right)}\\right)^{2} + \\left(\\frac{d}{d t} y{\\left(t \\right)}\\right)^{2}\\right)}{2} + \\frac{m_{2} \\left(\\left(d \\left(- \\sin{\\left(\\alpha{\\left(t \\right)} \\right)} \\sin{\\left(\\theta_{0}{\\left(t \\right)} \\right)} \\frac{d}{d t} \\alpha{\\left(t \\right)} - \\sin{\\left(\\alpha{\\left(t \\right)} \\right)} \\sin{\\left(\\theta_{0}{\\left(t \\right)} \\right)} \\frac{d}{d t} \\theta_{0}{\\left(t \\right)} + \\cos{\\left(\\alpha{\\left(t \\right)} \\right)} \\cos{\\left(\\theta_{0}{\\left(t \\right)} \\right)} \\frac{d}{d t} \\alpha{\\left(t \\right)} + \\cos{\\left(\\alpha{\\left(t \\right)} \\right)} \\cos{\\left(\\theta_{0}{\\left(t \\right)} \\right)} \\frac{d}{d t} \\theta_{0}{\\left(t \\right)}\\right) + \\frac{d}{d t} y{\\left(t \\right)}\\right)^{2} + \\left(d \\left(- \\sin{\\left(\\alpha{\\left(t \\right)} \\right)} \\cos{\\left(\\theta_{0}{\\left(t \\right)} \\right)} \\frac{d}{d t} \\alpha{\\left(t \\right)} - \\sin{\\left(\\alpha{\\left(t \\right)} \\right)} \\cos{\\left(\\theta_{0}{\\left(t \\right)} \\right)} \\frac{d}{d t} \\theta_{0}{\\left(t \\right)} - \\sin{\\left(\\theta_{0}{\\left(t \\right)} \\right)} \\cos{\\left(\\alpha{\\left(t \\right)} \\right)} \\frac{d}{d t} \\alpha{\\left(t \\right)} - \\sin{\\left(\\theta_{0}{\\left(t \\right)} \\right)} \\cos{\\left(\\alpha{\\left(t \\right)} \\right)} \\frac{d}{d t} \\theta_{0}{\\left(t \\right)}\\right) + \\frac{d}{d t} x{\\left(t \\right)}\\right)^{2}\\right)}{2}$"
      ],
      "text/plain": [
       "Eq(L, a*Derivative(alpha(t), t)**2/2 + b*(Derivative(alpha(t), t) + Derivative(theta0(t), t))**2/2 + c*Derivative(psi0(t), t)**2/2 + m1*(Derivative(x(t), t)**2 + Derivative(y(t), t)**2)/2 + m2*((d*(-sin(alpha(t))*sin(theta0(t))*Derivative(alpha(t), t) - sin(alpha(t))*sin(theta0(t))*Derivative(theta0(t), t) + cos(alpha(t))*cos(theta0(t))*Derivative(alpha(t), t) + cos(alpha(t))*cos(theta0(t))*Derivative(theta0(t), t)) + Derivative(y(t), t))**2 + (d*(-sin(alpha(t))*cos(theta0(t))*Derivative(alpha(t), t) - sin(alpha(t))*cos(theta0(t))*Derivative(theta0(t), t) - sin(theta0(t))*cos(alpha(t))*Derivative(alpha(t), t) - sin(theta0(t))*cos(alpha(t))*Derivative(theta0(t), t)) + Derivative(x(t), t))**2)/2)"
      ]
     },
     "execution_count": 33,
     "metadata": {},
     "output_type": "execute_result"
    }
   ],
   "source": [
    "L = Eq(L, pl + wh)\n",
    "L"
   ]
  },
  {
   "cell_type": "code",
   "execution_count": 34,
   "metadata": {},
   "outputs": [
    {
     "name": "stdout",
     "output_type": "stream",
     "text": [
      "CPU times: user 5.23 s, sys: 0 ns, total: 5.23 s\n",
      "Wall time: 5.23 s\n"
     ]
    }
   ],
   "source": [
    "%%time\n",
    "sL = simplify(L)"
   ]
  },
  {
   "cell_type": "code",
   "execution_count": 35,
   "metadata": {},
   "outputs": [
    {
     "data": {
      "text/latex": [
       "$\\displaystyle L = \\frac{a \\left(\\frac{d}{d t} \\alpha{\\left(t \\right)}\\right)^{2}}{2} + \\frac{b \\left(\\frac{d}{d t} \\alpha{\\left(t \\right)} + \\frac{d}{d t} \\theta_{0}{\\left(t \\right)}\\right)^{2}}{2} + \\frac{c \\left(\\frac{d}{d t} \\psi_{0}{\\left(t \\right)}\\right)^{2}}{2} + \\frac{m_{1} \\left(\\left(\\frac{d}{d t} x{\\left(t \\right)}\\right)^{2} + \\left(\\frac{d}{d t} y{\\left(t \\right)}\\right)^{2}\\right)}{2} + \\frac{m_{2} \\left(\\left(d \\left(\\frac{d}{d t} \\alpha{\\left(t \\right)} + \\frac{d}{d t} \\theta_{0}{\\left(t \\right)}\\right) \\sin{\\left(\\alpha{\\left(t \\right)} + \\theta_{0}{\\left(t \\right)} \\right)} - \\frac{d}{d t} x{\\left(t \\right)}\\right)^{2} + \\left(d \\left(\\frac{d}{d t} \\alpha{\\left(t \\right)} + \\frac{d}{d t} \\theta_{0}{\\left(t \\right)}\\right) \\cos{\\left(\\alpha{\\left(t \\right)} + \\theta_{0}{\\left(t \\right)} \\right)} + \\frac{d}{d t} y{\\left(t \\right)}\\right)^{2}\\right)}{2}$"
      ],
      "text/plain": [
       "Eq(L, a*Derivative(alpha(t), t)**2/2 + b*(Derivative(alpha(t), t) + Derivative(theta0(t), t))**2/2 + c*Derivative(psi0(t), t)**2/2 + m1*(Derivative(x(t), t)**2 + Derivative(y(t), t)**2)/2 + m2*((d*(Derivative(alpha(t), t) + Derivative(theta0(t), t))*sin(alpha(t) + theta0(t)) - Derivative(x(t), t))**2 + (d*(Derivative(alpha(t), t) + Derivative(theta0(t), t))*cos(alpha(t) + theta0(t)) + Derivative(y(t), t))**2)/2)"
      ]
     },
     "execution_count": 35,
     "metadata": {},
     "output_type": "execute_result"
    }
   ],
   "source": [
    "sL"
   ]
  },
  {
   "cell_type": "markdown",
   "metadata": {},
   "source": [
    "### Определим связи "
   ]
  },
  {
   "cell_type": "code",
   "execution_count": 36,
   "metadata": {},
   "outputs": [],
   "source": [
    "conn1 = Eq(Derivative(x, t), eq['diff_x(nu1,nu2)'])\n",
    "conn2 = Eq(Derivative(y, t), eq['diff_y(nu1,nu2)'])\n",
    "conn3 = Eq(Derivative(alpha, t), nu[3])\n",
    "conn4 = Eq(Derivative(theta[0], t), simplify(eq['diff(theta)_nu'](0)))\n",
    "conn5 = Eq(Derivative(psi[0], t), simplify(eq['diff(psi)_nu'](0)))"
   ]
  },
  {
   "cell_type": "code",
   "execution_count": 37,
   "metadata": {},
   "outputs": [
    {
     "data": {
      "text/latex": [
       "$\\displaystyle \\frac{d}{d t} x{\\left(t \\right)} = \\nu_{1}{\\left(t \\right)} \\cos{\\left(\\alpha{\\left(t \\right)} \\right)} - \\nu_{2}{\\left(t \\right)} \\sin{\\left(\\alpha{\\left(t \\right)} \\right)}$"
      ],
      "text/plain": [
       "Eq(Derivative(x(t), t), nu1(t)*cos(alpha(t)) - nu2(t)*sin(alpha(t)))"
      ]
     },
     "metadata": {},
     "output_type": "display_data"
    },
    {
     "data": {
      "text/latex": [
       "$\\displaystyle \\frac{d}{d t} y{\\left(t \\right)} = \\nu_{1}{\\left(t \\right)} \\sin{\\left(\\alpha{\\left(t \\right)} \\right)} + \\nu_{2}{\\left(t \\right)} \\cos{\\left(\\alpha{\\left(t \\right)} \\right)}$"
      ],
      "text/plain": [
       "Eq(Derivative(y(t), t), nu1(t)*sin(alpha(t)) + nu2(t)*cos(alpha(t)))"
      ]
     },
     "metadata": {},
     "output_type": "display_data"
    },
    {
     "data": {
      "text/latex": [
       "$\\displaystyle \\frac{d}{d t} \\alpha{\\left(t \\right)} = \\nu_{3}{\\left(t \\right)}$"
      ],
      "text/plain": [
       "Eq(Derivative(alpha(t), t), nu3(t))"
      ]
     },
     "metadata": {},
     "output_type": "display_data"
    },
    {
     "data": {
      "text/latex": [
       "$\\displaystyle \\frac{d}{d t} \\theta_{0}{\\left(t \\right)} = \\frac{- d \\frac{d}{d t} \\alpha{\\left(t \\right)} - \\nu_{1}{\\left(t \\right)} \\sin{\\left(\\theta_{0}{\\left(t \\right)} \\right)} + \\nu_{2}{\\left(t \\right)} \\cos{\\left(\\theta_{0}{\\left(t \\right)} \\right)} - \\cos{\\left(\\beta_{0} - \\theta_{0}{\\left(t \\right)} \\right)} \\frac{d}{d t} \\alpha{\\left(t \\right)}}{d}$"
      ],
      "text/plain": [
       "Eq(Derivative(theta0(t), t), (-d*Derivative(alpha(t), t) - nu1(t)*sin(theta0(t)) + nu2(t)*cos(theta0(t)) - cos(beta0 - theta0(t))*Derivative(alpha(t), t))/d)"
      ]
     },
     "metadata": {},
     "output_type": "display_data"
    },
    {
     "data": {
      "text/latex": [
       "$\\displaystyle \\frac{d}{d t} \\psi_{0}{\\left(t \\right)} = - \\frac{\\nu_{1}{\\left(t \\right)} \\cos{\\left(\\theta_{0}{\\left(t \\right)} \\right)} + \\nu_{2}{\\left(t \\right)} \\sin{\\left(\\theta_{0}{\\left(t \\right)} \\right)} + \\sin{\\left(\\beta_{0} - \\theta_{0}{\\left(t \\right)} \\right)} \\frac{d}{d t} \\alpha{\\left(t \\right)}}{r}$"
      ],
      "text/plain": [
       "Eq(Derivative(psi0(t), t), -(nu1(t)*cos(theta0(t)) + nu2(t)*sin(theta0(t)) + sin(beta0 - theta0(t))*Derivative(alpha(t), t))/r)"
      ]
     },
     "metadata": {},
     "output_type": "display_data"
    }
   ],
   "source": [
    "for conn in [conn1, conn2, conn3, conn4, conn5]:\n",
    "    display(conn)"
   ]
  },
  {
   "cell_type": "markdown",
   "metadata": {},
   "source": [
    "## Заполним что нужно (связи, уравнения для $\\omega_i$, $v_i$, $F$)"
   ]
  },
  {
   "cell_type": "code",
   "execution_count": 38,
   "metadata": {},
   "outputs": [],
   "source": [
    "S.set_L(sL)"
   ]
  },
  {
   "cell_type": "code",
   "execution_count": 39,
   "metadata": {},
   "outputs": [
    {
     "data": {
      "text/plain": [
       "[Eq(Derivative(x(t), t), nu1(t)*cos(alpha(t)) - nu2(t)*sin(alpha(t))),\n",
       " Eq(Derivative(y(t), t), nu1(t)*sin(alpha(t)) + nu2(t)*cos(alpha(t))),\n",
       " Eq(Derivative(alpha(t), t), nu3(t)),\n",
       " Eq(Derivative(theta0(t), t), (-d*Derivative(alpha(t), t) - nu1(t)*sin(theta0(t)) + nu2(t)*cos(theta0(t)) - cos(beta0 - theta0(t))*Derivative(alpha(t), t))/d),\n",
       " Eq(Derivative(psi0(t), t), -(nu1(t)*cos(theta0(t)) + nu2(t)*sin(theta0(t)) + sin(beta0 - theta0(t))*Derivative(alpha(t), t))/r)]"
      ]
     },
     "execution_count": 39,
     "metadata": {},
     "output_type": "execute_result"
    }
   ],
   "source": [
    "S.set_constraints([conn1, conn2, conn3, conn4, conn5])\n",
    "S.constraints"
   ]
  },
  {
   "cell_type": "code",
   "execution_count": 40,
   "metadata": {},
   "outputs": [
    {
     "name": "stdout",
     "output_type": "stream",
     "text": [
      "CPU times: user 1min, sys: 19.4 ms, total: 1min\n",
      "Wall time: 1min\n"
     ]
    }
   ],
   "source": [
    "%%time\n",
    "sL_star = simplify(S.sub_constraints(L))"
   ]
  },
  {
   "cell_type": "code",
   "execution_count": 41,
   "metadata": {},
   "outputs": [],
   "source": [
    "S.set_L_star(sL_star)"
   ]
  },
  {
   "cell_type": "code",
   "execution_count": 42,
   "metadata": {},
   "outputs": [],
   "source": [
    "S.set_p([p[1], p[2], p[3], p[4], p[5]]) # это скорее внутренняя переменная и её не надо задавать\n",
    "S.set_q([x, y, alpha, theta[0], psi[0]])"
   ]
  },
  {
   "cell_type": "code",
   "execution_count": 43,
   "metadata": {},
   "outputs": [
    {
     "data": {
      "text/plain": [
       "[Eq(omega[1], nu1(t)), Eq(omega[2], nu2(t)), Eq(omega[3], nu3(t))]"
      ]
     },
     "execution_count": 43,
     "metadata": {},
     "output_type": "execute_result"
    }
   ],
   "source": [
    "S.set_omega_equations(omegas=[_omega[1], _omega[2], _omega[3]],\n",
    "                      equations=[nu[1], nu[2], nu[3]])\n",
    "S.omega_equations"
   ]
  },
  {
   "cell_type": "code",
   "execution_count": 44,
   "metadata": {},
   "outputs": [
    {
     "data": {
      "text/plain": [
       "[Eq(v[1], Derivative(x(t), t)),\n",
       " Eq(v[2], Derivative(y(t), t)),\n",
       " Eq(v[3], Derivative(alpha(t), t)),\n",
       " Eq(v[4], Derivative(theta0(t), t)),\n",
       " Eq(v[5], Derivative(psi0(t), t))]"
      ]
     },
     "execution_count": 44,
     "metadata": {},
     "output_type": "execute_result"
    }
   ],
   "source": [
    "S.set_v_equations(vs=[_v[1], _v[2], _v[3], _v[4], _v[5]],\n",
    "                  equations=[Derivative(x, t), Derivative(y, t), Derivative(alpha, t), Derivative(theta[0], t), Derivative(psi[0], t)])\n",
    "S.v_equations"
   ]
  },
  {
   "cell_type": "code",
   "execution_count": 45,
   "metadata": {},
   "outputs": [
    {
     "data": {
      "text/latex": [
       "$\\displaystyle \\left[\\begin{matrix}0\\\\0\\\\0\\end{matrix}\\right]$"
      ],
      "text/plain": [
       "Matrix([\n",
       "[0],\n",
       "[0],\n",
       "[0]])"
      ]
     },
     "execution_count": 45,
     "metadata": {},
     "output_type": "execute_result"
    }
   ],
   "source": [
    "F = Matrix([0,0,0])\n",
    "S.set_F(F)\n",
    "F"
   ]
  },
  {
   "cell_type": "markdown",
   "metadata": {},
   "source": [
    "### Создадим $P_{\\alpha}$"
   ]
  },
  {
   "cell_type": "code",
   "execution_count": 46,
   "metadata": {},
   "outputs": [
    {
     "name": "stdout",
     "output_type": "stream",
     "text": [
      "Eq(Sum(P[k]*omega[k], (k, 1, 3)), Sum(p[k]*v[k], (k, 1, 3)))\n",
      "Eq(nu1(t)*P[1] + nu2(t)*P[2] + nu3(t)*P[3], (nu1(t)*sin(alpha(t)) + nu2(t)*cos(alpha(t)))*p[2] + (nu1(t)*cos(alpha(t)) - nu2(t)*sin(alpha(t)))*p[1] + nu3(t)*p[3])\n"
     ]
    },
    {
     "data": {
      "text/plain": [
       "[Eq(P[1], sin(alpha(t))*p[2] + cos(alpha(t))*p[1]),\n",
       " Eq(P[2], -sin(alpha(t))*p[1] + cos(alpha(t))*p[2]),\n",
       " Eq(P[3], p[3])]"
      ]
     },
     "execution_count": 46,
     "metadata": {},
     "output_type": "execute_result"
    }
   ],
   "source": [
    "Ps = S.create_P()\n",
    "Ps"
   ]
  },
  {
   "cell_type": "markdown",
   "metadata": {},
   "source": [
    "### Получение $Q_i$"
   ]
  },
  {
   "cell_type": "code",
   "execution_count": 47,
   "metadata": {},
   "outputs": [
    {
     "data": {
      "text/plain": [
       "[0, 0, 0, 0, 0]"
      ]
     },
     "execution_count": 47,
     "metadata": {},
     "output_type": "execute_result"
    }
   ],
   "source": [
    "S.create_Q(S.F, S.create_r()['p'])\n",
    "S.Q"
   ]
  },
  {
   "cell_type": "markdown",
   "metadata": {},
   "source": [
    "### Получаем уравнения"
   ]
  },
  {
   "cell_type": "markdown",
   "metadata": {},
   "source": [
    "##### Проверим что функция работает верно"
   ]
  },
  {
   "cell_type": "code",
   "execution_count": null,
   "metadata": {},
   "outputs": [],
   "source": []
  },
  {
   "cell_type": "code",
   "execution_count": 48,
   "metadata": {},
   "outputs": [],
   "source": [
    "i = 0"
   ]
  },
  {
   "cell_type": "code",
   "execution_count": 49,
   "metadata": {},
   "outputs": [],
   "source": [
    "left, right = 0,0"
   ]
  },
  {
   "cell_type": "code",
   "execution_count": 55,
   "metadata": {},
   "outputs": [],
   "source": [
    "left = S.L_star.args[1]"
   ]
  },
  {
   "cell_type": "code",
   "execution_count": 67,
   "metadata": {},
   "outputs": [
    {
     "data": {
      "text/latex": [
       "$\\displaystyle \\nu_{1}{\\left(t \\right)}$"
      ],
      "text/plain": [
       "nu1(t)"
      ]
     },
     "execution_count": 67,
     "metadata": {},
     "output_type": "execute_result"
    }
   ],
   "source": [
    "tmp = S.right_part_Eqs(S.omega_equations)[i]\n",
    "tmp"
   ]
  },
  {
   "cell_type": "code",
   "execution_count": 68,
   "metadata": {},
   "outputs": [
    {
     "data": {
      "text/latex": [
       "$\\displaystyle \\frac{2 b r^{2} \\left(- d \\nu_{3}{\\left(t \\right)} + d \\frac{d}{d t} \\alpha{\\left(t \\right)} + \\nu_{1}{\\left(t \\right)} \\sin{\\left(\\theta_{0}{\\left(t \\right)} \\right)} - \\nu_{2}{\\left(t \\right)} \\cos{\\left(\\theta_{0}{\\left(t \\right)} \\right)} + \\cos{\\left(\\beta_{0} - \\theta_{0}{\\left(t \\right)} \\right)} \\frac{d}{d t} \\alpha{\\left(t \\right)}\\right) \\sin{\\left(\\theta_{0}{\\left(t \\right)} \\right)} + 2 c d^{2} \\left(\\nu_{1}{\\left(t \\right)} \\cos{\\left(\\theta_{0}{\\left(t \\right)} \\right)} + \\nu_{2}{\\left(t \\right)} \\sin{\\left(\\theta_{0}{\\left(t \\right)} \\right)} + \\sin{\\left(\\beta_{0} - \\theta_{0}{\\left(t \\right)} \\right)} \\frac{d}{d t} \\alpha{\\left(t \\right)}\\right) \\cos{\\left(\\theta_{0}{\\left(t \\right)} \\right)} + d^{2} r^{2} \\left(2 m_{1} \\nu_{1}{\\left(t \\right)} + m_{2} \\left(\\left(2 \\sin{\\left(\\alpha{\\left(t \\right)} + \\theta_{0}{\\left(t \\right)} \\right)} \\sin{\\left(\\theta_{0}{\\left(t \\right)} \\right)} + 2 \\cos{\\left(\\alpha{\\left(t \\right)} \\right)}\\right) \\left(- d \\nu_{3}{\\left(t \\right)} \\sin{\\left(\\alpha{\\left(t \\right)} + \\theta_{0}{\\left(t \\right)} \\right)} + d \\sin{\\left(\\alpha{\\left(t \\right)} + \\theta_{0}{\\left(t \\right)} \\right)} \\frac{d}{d t} \\alpha{\\left(t \\right)} + \\nu_{1}{\\left(t \\right)} \\sin{\\left(\\alpha{\\left(t \\right)} + \\theta_{0}{\\left(t \\right)} \\right)} \\sin{\\left(\\theta_{0}{\\left(t \\right)} \\right)} + \\nu_{1}{\\left(t \\right)} \\cos{\\left(\\alpha{\\left(t \\right)} \\right)} - 2 \\nu_{2}{\\left(t \\right)} \\sin{\\left(\\alpha{\\left(t \\right)} \\right)} - \\nu_{2}{\\left(t \\right)} \\sin{\\left(\\theta_{0}{\\left(t \\right)} \\right)} \\cos{\\left(\\alpha{\\left(t \\right)} + \\theta_{0}{\\left(t \\right)} \\right)} + \\sin{\\left(\\alpha{\\left(t \\right)} + \\theta_{0}{\\left(t \\right)} \\right)} \\cos{\\left(\\beta_{0} - \\theta_{0}{\\left(t \\right)} \\right)} \\frac{d}{d t} \\alpha{\\left(t \\right)}\\right) + \\left(- 2 \\sin{\\left(\\alpha{\\left(t \\right)} \\right)} + 2 \\sin{\\left(\\theta_{0}{\\left(t \\right)} \\right)} \\cos{\\left(\\alpha{\\left(t \\right)} + \\theta_{0}{\\left(t \\right)} \\right)}\\right) \\left(- d \\nu_{3}{\\left(t \\right)} \\cos{\\left(\\alpha{\\left(t \\right)} + \\theta_{0}{\\left(t \\right)} \\right)} + d \\cos{\\left(\\alpha{\\left(t \\right)} + \\theta_{0}{\\left(t \\right)} \\right)} \\frac{d}{d t} \\alpha{\\left(t \\right)} - \\nu_{1}{\\left(t \\right)} \\sin{\\left(\\alpha{\\left(t \\right)} \\right)} + \\nu_{1}{\\left(t \\right)} \\sin{\\left(\\theta_{0}{\\left(t \\right)} \\right)} \\cos{\\left(\\alpha{\\left(t \\right)} + \\theta_{0}{\\left(t \\right)} \\right)} + \\nu_{2}{\\left(t \\right)} \\sin{\\left(\\alpha{\\left(t \\right)} + \\theta_{0}{\\left(t \\right)} \\right)} \\sin{\\left(\\theta_{0}{\\left(t \\right)} \\right)} - 2 \\nu_{2}{\\left(t \\right)} \\cos{\\left(\\alpha{\\left(t \\right)} \\right)} + \\cos{\\left(\\beta_{0} - \\theta_{0}{\\left(t \\right)} \\right)} \\cos{\\left(\\alpha{\\left(t \\right)} + \\theta_{0}{\\left(t \\right)} \\right)} \\frac{d}{d t} \\alpha{\\left(t \\right)}\\right)\\right)\\right)}{2 d^{2} r^{2}}$"
      ],
      "text/plain": [
       "(2*b*r**2*(-d*nu3(t) + d*Derivative(alpha(t), t) + nu1(t)*sin(theta0(t)) - nu2(t)*cos(theta0(t)) + cos(beta0 - theta0(t))*Derivative(alpha(t), t))*sin(theta0(t)) + 2*c*d**2*(nu1(t)*cos(theta0(t)) + nu2(t)*sin(theta0(t)) + sin(beta0 - theta0(t))*Derivative(alpha(t), t))*cos(theta0(t)) + d**2*r**2*(2*m1*nu1(t) + m2*((2*sin(alpha(t) + theta0(t))*sin(theta0(t)) + 2*cos(alpha(t)))*(-d*nu3(t)*sin(alpha(t) + theta0(t)) + d*sin(alpha(t) + theta0(t))*Derivative(alpha(t), t) + nu1(t)*sin(alpha(t) + theta0(t))*sin(theta0(t)) + nu1(t)*cos(alpha(t)) - 2*nu2(t)*sin(alpha(t)) - nu2(t)*sin(theta0(t))*cos(alpha(t) + theta0(t)) + sin(alpha(t) + theta0(t))*cos(beta0 - theta0(t))*Derivative(alpha(t), t)) + (-2*sin(alpha(t)) + 2*sin(theta0(t))*cos(alpha(t) + theta0(t)))*(-d*nu3(t)*cos(alpha(t) + theta0(t)) + d*cos(alpha(t) + theta0(t))*Derivative(alpha(t), t) - nu1(t)*sin(alpha(t)) + nu1(t)*sin(theta0(t))*cos(alpha(t) + theta0(t)) + nu2(t)*sin(alpha(t) + theta0(t))*sin(theta0(t)) - 2*nu2(t)*cos(alpha(t)) + cos(beta0 - theta0(t))*cos(alpha(t) + theta0(t))*Derivative(alpha(t), t)))))/(2*d**2*r**2)"
      ]
     },
     "execution_count": 68,
     "metadata": {},
     "output_type": "execute_result"
    }
   ],
   "source": [
    "tmp = left.diff(tmp)\n",
    "tmp"
   ]
  },
  {
   "cell_type": "code",
   "execution_count": 72,
   "metadata": {},
   "outputs": [
    {
     "name": "stdout",
     "output_type": "stream",
     "text": [
      "CPU times: user 34.9 s, sys: 0 ns, total: 34.9 s\n",
      "Wall time: 34.9 s\n"
     ]
    }
   ],
   "source": [
    "%%time\n",
    "tmp = simplify(tmp.diff(t))"
   ]
  },
  {
   "cell_type": "code",
   "execution_count": 73,
   "metadata": {},
   "outputs": [],
   "source": [
    "left = tmp"
   ]
  },
  {
   "cell_type": "code",
   "execution_count": 74,
   "metadata": {},
   "outputs": [],
   "source": [
    "tmp = S.poisson_bracket(S.Ps[i].args[1], S.L_star.args[1])"
   ]
  },
  {
   "cell_type": "code",
   "execution_count": 76,
   "metadata": {},
   "outputs": [],
   "source": [
    "left += tmp"
   ]
  },
  {
   "cell_type": "code",
   "execution_count": 77,
   "metadata": {},
   "outputs": [
    {
     "data": {
      "text/latex": [
       "$\\displaystyle - \\frac{b \\nu_{3}{\\left(t \\right)} \\cos{\\left(\\theta_{0}{\\left(t \\right)} \\right)} \\frac{d}{d t} \\theta_{0}{\\left(t \\right)}}{d} + \\frac{b \\sin{\\left(\\theta_{0}{\\left(t \\right)} \\right)} \\frac{d^{2}}{d t^{2}} \\alpha{\\left(t \\right)}}{d} - \\frac{b \\sin{\\left(\\theta_{0}{\\left(t \\right)} \\right)} \\frac{d}{d t} \\nu_{3}{\\left(t \\right)}}{d} + \\frac{b \\cos{\\left(\\theta_{0}{\\left(t \\right)} \\right)} \\frac{d}{d t} \\alpha{\\left(t \\right)} \\frac{d}{d t} \\theta_{0}{\\left(t \\right)}}{d} + \\frac{b \\nu_{1}{\\left(t \\right)} \\sin{\\left(2 \\theta_{0}{\\left(t \\right)} \\right)} \\frac{d}{d t} \\theta_{0}{\\left(t \\right)}}{d^{2}} - \\frac{b \\nu_{2}{\\left(t \\right)} \\cos{\\left(2 \\theta_{0}{\\left(t \\right)} \\right)} \\frac{d}{d t} \\theta_{0}{\\left(t \\right)}}{d^{2}} + \\frac{b \\sin{\\left(\\beta_{0} \\right)} \\frac{d^{2}}{d t^{2}} \\alpha{\\left(t \\right)}}{2 d^{2}} - \\frac{b \\sin{\\left(\\beta_{0} - 2 \\theta_{0}{\\left(t \\right)} \\right)} \\frac{d^{2}}{d t^{2}} \\alpha{\\left(t \\right)}}{2 d^{2}} - \\frac{b \\sin{\\left(2 \\theta_{0}{\\left(t \\right)} \\right)} \\frac{d}{d t} \\nu_{2}{\\left(t \\right)}}{2 d^{2}} + \\frac{b \\cos{\\left(\\beta_{0} - 2 \\theta_{0}{\\left(t \\right)} \\right)} \\frac{d}{d t} \\alpha{\\left(t \\right)} \\frac{d}{d t} \\theta_{0}{\\left(t \\right)}}{d^{2}} - \\frac{b \\cos{\\left(2 \\theta_{0}{\\left(t \\right)} \\right)} \\frac{d}{d t} \\nu_{1}{\\left(t \\right)}}{2 d^{2}} + \\frac{b \\frac{d}{d t} \\nu_{1}{\\left(t \\right)}}{2 d^{2}} - \\frac{c \\nu_{1}{\\left(t \\right)} \\sin{\\left(2 \\theta_{0}{\\left(t \\right)} \\right)} \\frac{d}{d t} \\theta_{0}{\\left(t \\right)}}{r^{2}} + \\frac{c \\nu_{2}{\\left(t \\right)} \\cos{\\left(2 \\theta_{0}{\\left(t \\right)} \\right)} \\frac{d}{d t} \\theta_{0}{\\left(t \\right)}}{r^{2}} + \\frac{c \\sin{\\left(\\beta_{0} \\right)} \\frac{d^{2}}{d t^{2}} \\alpha{\\left(t \\right)}}{2 r^{2}} + \\frac{c \\sin{\\left(\\beta_{0} - 2 \\theta_{0}{\\left(t \\right)} \\right)} \\frac{d^{2}}{d t^{2}} \\alpha{\\left(t \\right)}}{2 r^{2}} + \\frac{c \\sin{\\left(2 \\theta_{0}{\\left(t \\right)} \\right)} \\frac{d}{d t} \\nu_{2}{\\left(t \\right)}}{2 r^{2}} - \\frac{c \\cos{\\left(\\beta_{0} - 2 \\theta_{0}{\\left(t \\right)} \\right)} \\frac{d}{d t} \\alpha{\\left(t \\right)} \\frac{d}{d t} \\theta_{0}{\\left(t \\right)}}{r^{2}} + \\frac{c \\cos{\\left(2 \\theta_{0}{\\left(t \\right)} \\right)} \\frac{d}{d t} \\nu_{1}{\\left(t \\right)}}{2 r^{2}} + \\frac{c \\frac{d}{d t} \\nu_{1}{\\left(t \\right)}}{2 r^{2}} - 2 d m_{2} \\nu_{3}{\\left(t \\right)} \\cos{\\left(\\theta_{0}{\\left(t \\right)} \\right)} \\frac{d}{d t} \\theta_{0}{\\left(t \\right)} + 2 d m_{2} \\sin{\\left(\\theta_{0}{\\left(t \\right)} \\right)} \\frac{d^{2}}{d t^{2}} \\alpha{\\left(t \\right)} - 2 d m_{2} \\sin{\\left(\\theta_{0}{\\left(t \\right)} \\right)} \\frac{d}{d t} \\nu_{3}{\\left(t \\right)} + 2 d m_{2} \\cos{\\left(\\theta_{0}{\\left(t \\right)} \\right)} \\frac{d}{d t} \\alpha{\\left(t \\right)} \\frac{d}{d t} \\theta_{0}{\\left(t \\right)} + m_{1} \\frac{d}{d t} \\nu_{1}{\\left(t \\right)} + 3 m_{2} \\nu_{1}{\\left(t \\right)} \\sin{\\left(2 \\theta_{0}{\\left(t \\right)} \\right)} \\frac{d}{d t} \\theta_{0}{\\left(t \\right)} - 3 m_{2} \\nu_{2}{\\left(t \\right)} \\cos{\\left(2 \\theta_{0}{\\left(t \\right)} \\right)} \\frac{d}{d t} \\theta_{0}{\\left(t \\right)} + m_{2} \\sin{\\left(\\beta_{0} \\right)} \\frac{d^{2}}{d t^{2}} \\alpha{\\left(t \\right)} - m_{2} \\sin{\\left(\\beta_{0} - 2 \\theta_{0}{\\left(t \\right)} \\right)} \\frac{d^{2}}{d t^{2}} \\alpha{\\left(t \\right)} - \\frac{3 m_{2} \\sin{\\left(2 \\theta_{0}{\\left(t \\right)} \\right)} \\frac{d}{d t} \\nu_{2}{\\left(t \\right)}}{2} + 2 m_{2} \\cos{\\left(\\beta_{0} - 2 \\theta_{0}{\\left(t \\right)} \\right)} \\frac{d}{d t} \\alpha{\\left(t \\right)} \\frac{d}{d t} \\theta_{0}{\\left(t \\right)} - \\frac{3 m_{2} \\cos{\\left(2 \\theta_{0}{\\left(t \\right)} \\right)} \\frac{d}{d t} \\nu_{1}{\\left(t \\right)}}{2} + \\frac{5 m_{2} \\frac{d}{d t} \\nu_{1}{\\left(t \\right)}}{2}$"
      ],
      "text/plain": [
       "-b*nu3(t)*cos(theta0(t))*Derivative(theta0(t), t)/d + b*sin(theta0(t))*Derivative(alpha(t), (t, 2))/d - b*sin(theta0(t))*Derivative(nu3(t), t)/d + b*cos(theta0(t))*Derivative(alpha(t), t)*Derivative(theta0(t), t)/d + b*nu1(t)*sin(2*theta0(t))*Derivative(theta0(t), t)/d**2 - b*nu2(t)*cos(2*theta0(t))*Derivative(theta0(t), t)/d**2 + b*sin(beta0)*Derivative(alpha(t), (t, 2))/(2*d**2) - b*sin(beta0 - 2*theta0(t))*Derivative(alpha(t), (t, 2))/(2*d**2) - b*sin(2*theta0(t))*Derivative(nu2(t), t)/(2*d**2) + b*cos(beta0 - 2*theta0(t))*Derivative(alpha(t), t)*Derivative(theta0(t), t)/d**2 - b*cos(2*theta0(t))*Derivative(nu1(t), t)/(2*d**2) + b*Derivative(nu1(t), t)/(2*d**2) - c*nu1(t)*sin(2*theta0(t))*Derivative(theta0(t), t)/r**2 + c*nu2(t)*cos(2*theta0(t))*Derivative(theta0(t), t)/r**2 + c*sin(beta0)*Derivative(alpha(t), (t, 2))/(2*r**2) + c*sin(beta0 - 2*theta0(t))*Derivative(alpha(t), (t, 2))/(2*r**2) + c*sin(2*theta0(t))*Derivative(nu2(t), t)/(2*r**2) - c*cos(beta0 - 2*theta0(t))*Derivative(alpha(t), t)*Derivative(theta0(t), t)/r**2 + c*cos(2*theta0(t))*Derivative(nu1(t), t)/(2*r**2) + c*Derivative(nu1(t), t)/(2*r**2) - 2*d*m2*nu3(t)*cos(theta0(t))*Derivative(theta0(t), t) + 2*d*m2*sin(theta0(t))*Derivative(alpha(t), (t, 2)) - 2*d*m2*sin(theta0(t))*Derivative(nu3(t), t) + 2*d*m2*cos(theta0(t))*Derivative(alpha(t), t)*Derivative(theta0(t), t) + m1*Derivative(nu1(t), t) + 3*m2*nu1(t)*sin(2*theta0(t))*Derivative(theta0(t), t) - 3*m2*nu2(t)*cos(2*theta0(t))*Derivative(theta0(t), t) + m2*sin(beta0)*Derivative(alpha(t), (t, 2)) - m2*sin(beta0 - 2*theta0(t))*Derivative(alpha(t), (t, 2)) - 3*m2*sin(2*theta0(t))*Derivative(nu2(t), t)/2 + 2*m2*cos(beta0 - 2*theta0(t))*Derivative(alpha(t), t)*Derivative(theta0(t), t) - 3*m2*cos(2*theta0(t))*Derivative(nu1(t), t)/2 + 5*m2*Derivative(nu1(t), t)/2"
      ]
     },
     "execution_count": 77,
     "metadata": {},
     "output_type": "execute_result"
    }
   ],
   "source": [
    "left"
   ]
  },
  {
   "cell_type": "code",
   "execution_count": 79,
   "metadata": {},
   "outputs": [],
   "source": [
    "right = S.poisson_bracket(S.Ps[i].args[1], S.create_bracket_sum())"
   ]
  },
  {
   "cell_type": "code",
   "execution_count": null,
   "metadata": {},
   "outputs": [],
   "source": []
  },
  {
   "cell_type": "code",
   "execution_count": null,
   "metadata": {},
   "outputs": [],
   "source": [
    "S.set_L(sL)"
   ]
  },
  {
   "cell_type": "code",
   "execution_count": null,
   "metadata": {},
   "outputs": [],
   "source": [
    "%%time \n",
    "S.tatarinov_equation(0)"
   ]
  },
  {
   "cell_type": "code",
   "execution_count": null,
   "metadata": {},
   "outputs": [],
   "source": [
    "%%time\n",
    "S.tatarinov_equation(1)"
   ]
  },
  {
   "cell_type": "code",
   "execution_count": null,
   "metadata": {},
   "outputs": [],
   "source": [
    "%%time\n",
    "S.tatarinov_equation(2)"
   ]
  },
  {
   "cell_type": "code",
   "execution_count": null,
   "metadata": {},
   "outputs": [],
   "source": []
  },
  {
   "cell_type": "markdown",
   "metadata": {},
   "source": [
    "### Display equations "
   ]
  },
  {
   "cell_type": "code",
   "execution_count": null,
   "metadata": {},
   "outputs": [],
   "source": [
    "for eq in S.tatarinov_equations:\n",
    "    display(eq)"
   ]
  },
  {
   "cell_type": "code",
   "execution_count": null,
   "metadata": {},
   "outputs": [],
   "source": []
  },
  {
   "cell_type": "code",
   "execution_count": null,
   "metadata": {},
   "outputs": [],
   "source": []
  },
  {
   "cell_type": "code",
   "execution_count": null,
   "metadata": {},
   "outputs": [],
   "source": []
  },
  {
   "cell_type": "code",
   "execution_count": null,
   "metadata": {},
   "outputs": [],
   "source": []
  },
  {
   "cell_type": "code",
   "execution_count": null,
   "metadata": {},
   "outputs": [],
   "source": []
  },
  {
   "cell_type": "code",
   "execution_count": null,
   "metadata": {},
   "outputs": [],
   "source": []
  },
  {
   "cell_type": "code",
   "execution_count": null,
   "metadata": {},
   "outputs": [],
   "source": []
  },
  {
   "cell_type": "code",
   "execution_count": null,
   "metadata": {},
   "outputs": [],
   "source": []
  },
  {
   "cell_type": "code",
   "execution_count": null,
   "metadata": {},
   "outputs": [],
   "source": []
  },
  {
   "cell_type": "code",
   "execution_count": null,
   "metadata": {},
   "outputs": [],
   "source": []
  },
  {
   "cell_type": "markdown",
   "metadata": {},
   "source": [
    "## Найдем  $W,T, \\ddot{\\alpha}$  как функции от времени "
   ]
  },
  {
   "cell_type": "code",
   "execution_count": null,
   "metadata": {},
   "outputs": [],
   "source": [
    "from copy import copy\n",
    "\n",
    "for x in S.tatarinov_equations:\n",
    "    display(x)"
   ]
  },
  {
   "cell_type": "markdown",
   "metadata": {},
   "source": [
    "### Зададим $x,y, alpha$ как функции времени"
   ]
  },
  {
   "cell_type": "code",
   "execution_count": null,
   "metadata": {},
   "outputs": [],
   "source": [
    "# Начальные условия и парметры\n",
    "eq_x = 3*t\n",
    "eq_y = t**2\n",
    "\n",
    "params = dict(xi=0, eta=0)\n",
    "\n",
    "t_end = 2*pi.evalf()"
   ]
  },
  {
   "cell_type": "code",
   "execution_count": null,
   "metadata": {},
   "outputs": [],
   "source": [
    "def _ss(eq):\n",
    "    nu1, nu2, nu3 = symbols('nu1, nu2, nu3')\n",
    "    return eq.subs({\n",
    "        nu1: Function('nu1')(t),\n",
    "        nu2: Function('nu2')(t),\n",
    "        nu3: Function('nu3')(t)\n",
    "    })\n",
    "    \n",
    "def subs_funcs(eq):\n",
    "    subs_dict = dict(x=eq_x, y=eq_y, alpha=Function('alpha')(t)) # , alpha=eq_alpha)\n",
    "    if type(eq) == dict:\n",
    "        d = {}\n",
    "        for k,v in eq.items():\n",
    "            d[_ss(k)] = _ss(v.subs(subs_dict))\n",
    "        return d\n",
    "    if type(eq) == list:\n",
    "        l = []\n",
    "        for x in eq:\n",
    "            l += _ss(eq.subs(subs_dict))\n",
    "        return l\n",
    "    if type(eq) == Eq or type(eq) == Add:\n",
    "        return _ss(eq.subs(subs_dict))"
   ]
  },
  {
   "cell_type": "code",
   "execution_count": null,
   "metadata": {},
   "outputs": [],
   "source": [
    "S.constraints"
   ]
  },
  {
   "cell_type": "code",
   "execution_count": null,
   "metadata": {},
   "outputs": [],
   "source": [
    "nus = solve(S.constraints, S.right_part_Eqs(S.omega_equations))\n",
    "for k, v in nus.items():\n",
    "    display(Eq(k, v))"
   ]
  },
  {
   "cell_type": "code",
   "execution_count": null,
   "metadata": {},
   "outputs": [],
   "source": [
    "nust = subs_funcs(nus)\n",
    "nust"
   ]
  },
  {
   "cell_type": "code",
   "execution_count": null,
   "metadata": {},
   "outputs": [],
   "source": [
    "tet = copy(S.tatarinov_equations)\n",
    "for x in tet:\n",
    "    display(x)"
   ]
  },
  {
   "cell_type": "code",
   "execution_count": null,
   "metadata": {},
   "outputs": [],
   "source": [
    "for i in range(3):\n",
    "    tet[i] = tet[i].subs(nust).doit()\n",
    "    display(tet[i])\n",
    "#     display((tet[i].subs(nust)))\n",
    "#     display((tet[i].subs(nust)).doit())\n",
    "    "
   ]
  },
  {
   "cell_type": "code",
   "execution_count": null,
   "metadata": {},
   "outputs": [],
   "source": [
    "sol = solve(tet, [T, W, Derivative(Function('alpha')(t), t, 2)])\n",
    "for k,v in sol.items():\n",
    "    display(Eq(k, v))"
   ]
  },
  {
   "cell_type": "markdown",
   "metadata": {},
   "source": [
    "### Проинтегрируем\n",
    "$$ {\\ddot{\\alpha}, \\dot{\\alpha}} \\rightarrow \\alpha $$"
   ]
  },
  {
   "cell_type": "code",
   "execution_count": null,
   "metadata": {},
   "outputs": [],
   "source": [
    "_vars = [Function('alpha2')(t), Function('alpha')(t)]\n",
    "_vars"
   ]
  },
  {
   "cell_type": "code",
   "execution_count": null,
   "metadata": {},
   "outputs": [],
   "source": [
    "eqs = [Function('alpha2')(t), list(sol.values())[2]]\n",
    "eqs"
   ]
  },
  {
   "cell_type": "code",
   "execution_count": null,
   "metadata": {},
   "outputs": [],
   "source": [
    "_vars = [Symbol('alpha'),  Symbol('alpha2')]\n",
    "eqs =   [Symbol('alpha2'), list(sol.values())[2].subs({Function('alpha')(t): Symbol('alpha')})]\n",
    "\n",
    "print(\"Система уравнений на alpha\")\n",
    "for l, r in zip(_vars, eqs):\n",
    "    display(Eq(l,r))"
   ]
  },
  {
   "cell_type": "code",
   "execution_count": null,
   "metadata": {},
   "outputs": [],
   "source": [
    "# keyword can't be an expression\n",
    "eqs[1] = eqs[1].subs({J[s]: 3})\n",
    "\n",
    "_subs = dict(m=1, eta=2, xi=3)"
   ]
  },
  {
   "cell_type": "code",
   "execution_count": null,
   "metadata": {},
   "outputs": [],
   "source": [
    "def f(_vars_values, time):\n",
    "    return [lambdify(_vars, x.subs(_subs), 'numpy')(*_vars_values) for x in eqs]"
   ]
  },
  {
   "cell_type": "code",
   "execution_count": null,
   "metadata": {},
   "outputs": [],
   "source": [
    "import numpy as np\n",
    "from scipy.integrate import RK45, odeint"
   ]
  },
  {
   "cell_type": "code",
   "execution_count": null,
   "metadata": {},
   "outputs": [],
   "source": [
    "f0 = [1, 0.1] # [alpha', alpha]\n",
    "time = np.linspace(0., 4, 100)\n",
    "\n",
    "_solution = odeint(f, f0, time)"
   ]
  },
  {
   "cell_type": "code",
   "execution_count": null,
   "metadata": {},
   "outputs": [],
   "source": [
    "import matplotlib.pyplot as plt\n",
    "\n",
    "_items = zip(['dot_alpha', 'alpha'], list(range(2)))\n",
    "\n",
    "for name, col in _items:\n",
    "    print(name)\n",
    "    fig = plt.plot(time, _solution[:, col], label=name)\n",
    "    plt.show()"
   ]
  },
  {
   "cell_type": "markdown",
   "metadata": {},
   "source": [
    "## Подставим в $W, T$\n",
    "$$ \\{W(\\alpha, t), T(\\alpha, t)\\} \\rightarrow \\{W(t), T(t)\\}$$"
   ]
  },
  {
   "cell_type": "code",
   "execution_count": null,
   "metadata": {},
   "outputs": [],
   "source": [
    "display(sol[W])\n",
    "display(sol[T])"
   ]
  },
  {
   "cell_type": "code",
   "execution_count": null,
   "metadata": {},
   "outputs": [],
   "source": [
    "W_t = lambdify([t, Function('alpha')(t)], sol[W].subs(_subs), 'numpy')\n",
    "T_t = lambdify([t, Function('alpha')(t)], sol[T].subs(_subs), 'numpy')"
   ]
  },
  {
   "cell_type": "code",
   "execution_count": null,
   "metadata": {},
   "outputs": [],
   "source": [
    "_solution[:,1].size == time.size "
   ]
  },
  {
   "cell_type": "code",
   "execution_count": null,
   "metadata": {},
   "outputs": [],
   "source": [
    "wl, tl = [], []\n",
    "\n",
    "for x,y in zip(time, _solution[:,1]):\n",
    "    wl.append(W_t(x, y))\n",
    "    \n",
    "for x,y in zip(time, _solution[:,1]):\n",
    "    tl.append(T_t(x, y))"
   ]
  },
  {
   "cell_type": "code",
   "execution_count": null,
   "metadata": {},
   "outputs": [],
   "source": [
    "fig = plt.plot(time, wl, label='W')\n",
    "plt.show()"
   ]
  },
  {
   "cell_type": "code",
   "execution_count": null,
   "metadata": {},
   "outputs": [],
   "source": [
    "fig = plt.plot(time, tl, label='T')\n",
    "plt.show()"
   ]
  },
  {
   "cell_type": "code",
   "execution_count": null,
   "metadata": {},
   "outputs": [],
   "source": [
    "al = _solution[:, 1]"
   ]
  },
  {
   "cell_type": "code",
   "execution_count": null,
   "metadata": {},
   "outputs": [],
   "source": [
    "tmp_x = tl*np.sin(al)*(-1) + wl*np.cos(al)\n",
    "tmp_y = tl*np.cos(al) + wl*np.sin(al)"
   ]
  },
  {
   "cell_type": "code",
   "execution_count": null,
   "metadata": {},
   "outputs": [],
   "source": [
    "fig = plt.plot(tmp_x, label='~x\"')\n",
    "fig = plt.plot(tmp_y, label='~y\"')\n",
    "plt.show()"
   ]
  },
  {
   "cell_type": "code",
   "execution_count": null,
   "metadata": {},
   "outputs": [],
   "source": [
    "F"
   ]
  },
  {
   "cell_type": "code",
   "execution_count": null,
   "metadata": {},
   "outputs": [],
   "source": []
  },
  {
   "cell_type": "code",
   "execution_count": null,
   "metadata": {},
   "outputs": [],
   "source": []
  },
  {
   "cell_type": "code",
   "execution_count": null,
   "metadata": {},
   "outputs": [],
   "source": []
  },
  {
   "cell_type": "markdown",
   "metadata": {},
   "source": [
    "## Проинтегрируем численно"
   ]
  },
  {
   "cell_type": "code",
   "execution_count": null,
   "metadata": {},
   "outputs": [],
   "source": [
    "left = []; right = []"
   ]
  },
  {
   "cell_type": "code",
   "execution_count": null,
   "metadata": {},
   "outputs": [],
   "source": [
    "left += S.left_part_Eqs(S.constraints)\n",
    "right += S.right_part_Eqs(S.constraints)"
   ]
  },
  {
   "cell_type": "code",
   "execution_count": null,
   "metadata": {},
   "outputs": [],
   "source": [
    "diff_omegas_t = [Derivative(S.create_fs(x)) for x in S.right_part_Eqs(S.omega_equations)]\n",
    "constr = solve(eqs, diff_omegas_t)\n",
    "constr"
   ]
  },
  {
   "cell_type": "code",
   "execution_count": null,
   "metadata": {},
   "outputs": [],
   "source": [
    "for left_item, right_item in constr.items():\n",
    "    left += [left_item]\n",
    "    right += [right_item]"
   ]
  },
  {
   "cell_type": "code",
   "execution_count": null,
   "metadata": {},
   "outputs": [],
   "source": [
    "_vars = (phi, psi, theta, nu1, nu2, nu3)"
   ]
  },
  {
   "cell_type": "code",
   "execution_count": null,
   "metadata": {},
   "outputs": [],
   "source": [
    "right = [S.create_ss(x) for x in right]"
   ]
  },
  {
   "cell_type": "code",
   "execution_count": null,
   "metadata": {},
   "outputs": [],
   "source": [
    "_subs = {A: 1, C: 2, g: 10, m: 1}"
   ]
  },
  {
   "cell_type": "code",
   "execution_count": null,
   "metadata": {},
   "outputs": [],
   "source": [
    "left"
   ]
  },
  {
   "cell_type": "code",
   "execution_count": null,
   "metadata": {},
   "outputs": [],
   "source": [
    "right"
   ]
  },
  {
   "cell_type": "code",
   "execution_count": null,
   "metadata": {},
   "outputs": [],
   "source": [
    "def f(_vars_values, time):\n",
    "    return [lambdify(_vars, x.subs(_subs), 'numpy')(*_vars_values) for x in right]"
   ]
  },
  {
   "cell_type": "code",
   "execution_count": null,
   "metadata": {},
   "outputs": [],
   "source": [
    "f0 = [3,0.1,0.1,1,2,3]"
   ]
  },
  {
   "cell_type": "code",
   "execution_count": null,
   "metadata": {},
   "outputs": [],
   "source": [
    "import numpy as np\n",
    "from scipy.integrate import RK45, odeint"
   ]
  },
  {
   "cell_type": "code",
   "execution_count": null,
   "metadata": {},
   "outputs": [],
   "source": [
    "_solution = odeint(f, f0, np.linspace(0., 4., 100))"
   ]
  },
  {
   "cell_type": "code",
   "execution_count": null,
   "metadata": {},
   "outputs": [],
   "source": [
    "import matplotlib.pyplot as plt \n",
    "\n",
    "_items = zip(['phi', 'psi', 'theta', 'nu1', 'nu2', 'nu3'], list(range(6)))\n",
    "\n",
    "for name, col in _items:\n",
    "    print(name)\n",
    "    fig = plt.plot(np.linspace(0,4,100), _solution[:, col], label=name)\n",
    "    plt.show()"
   ]
  },
  {
   "cell_type": "markdown",
   "metadata": {},
   "source": [
    "## Посмотрим на энергию"
   ]
  },
  {
   "cell_type": "code",
   "execution_count": null,
   "metadata": {},
   "outputs": [],
   "source": [
    "H = A*(Derivative(theta,t)**2 + Derivative(psi,t)**2*sin(theta)**2)/2 \\\n",
    "    + C*(Derivative(phi, t) + Derivative(psi, t)*cos(theta))**2/2 \\\n",
    "    + m*g*cos(theta)\n",
    "H"
   ]
  },
  {
   "cell_type": "code",
   "execution_count": null,
   "metadata": {},
   "outputs": [],
   "source": [
    "H = S.sub_constraints(H)\n",
    "H"
   ]
  },
  {
   "cell_type": "code",
   "execution_count": null,
   "metadata": {},
   "outputs": [],
   "source": [
    "fH = lambdify(_vars, H.subs(_subs), 'numpy')"
   ]
  },
  {
   "cell_type": "code",
   "execution_count": null,
   "metadata": {},
   "outputs": [],
   "source": [
    "H_values = np.array([fH(*x) for x in _solution])\n",
    "max(H_values) - min(H_values)"
   ]
  },
  {
   "cell_type": "code",
   "execution_count": null,
   "metadata": {},
   "outputs": [],
   "source": [
    "for x in S.constraints:\n",
    "    display(x)"
   ]
  },
  {
   "cell_type": "code",
   "execution_count": null,
   "metadata": {},
   "outputs": [],
   "source": [
    "L"
   ]
  },
  {
   "cell_type": "markdown",
   "metadata": {},
   "source": [
    "# $$ x(t), y(t), \\alpha(t)$$"
   ]
  },
  {
   "cell_type": "markdown",
   "metadata": {},
   "source": [
    "1. зададим $x(t), y(t), \\alpha(t)$\n",
    "2. "
   ]
  },
  {
   "cell_type": "code",
   "execution_count": null,
   "metadata": {},
   "outputs": [],
   "source": [
    "S."
   ]
  },
  {
   "cell_type": "code",
   "execution_count": null,
   "metadata": {},
   "outputs": [],
   "source": []
  }
 ],
 "metadata": {
  "kernelspec": {
   "display_name": "Python 3",
   "language": "python",
   "name": "python3"
  },
  "language_info": {
   "codemirror_mode": {
    "name": "ipython",
    "version": 3
   },
   "file_extension": ".py",
   "mimetype": "text/x-python",
   "name": "python",
   "nbconvert_exporter": "python",
   "pygments_lexer": "ipython3",
   "version": "3.6.8"
  }
 },
 "nbformat": 4,
 "nbformat_minor": 2
}
